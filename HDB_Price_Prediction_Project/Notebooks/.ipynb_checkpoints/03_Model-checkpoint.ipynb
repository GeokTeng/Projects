{
 "cells": [
  {
   "cell_type": "markdown",
   "id": "d4b1acf0-2736-473e-a3c4-bc615c5644eb",
   "metadata": {},
   "source": [
    "# About this Notebook\n",
    "\n",
    "The aim is to create a best-performing model for predicting HDB flat resale prices.<BR>\n",
    "[Part 1: Model Preprocessing]<br>\n",
    "[Part 2: Modelling]<br>\n",
    "[Part 3: Discussion on Best Model identified]<br>\n",
    "[Part 4: Conclusions]<br>"
   ]
  },
  {
   "cell_type": "markdown",
   "id": "93ca6848-553a-45d2-95d0-d682a1576e30",
   "metadata": {},
   "source": [
    "# Imports and Function creation"
   ]
  },
  {
   "cell_type": "markdown",
   "id": "19cd902b-6fd5-44ed-91ca-61f686303f28",
   "metadata": {},
   "source": [
    "## Libraries imports"
   ]
  },
  {
   "cell_type": "code",
   "execution_count": 1,
   "id": "de7cdc60-7e2e-49d8-b1d1-cb82bc088eed",
   "metadata": {},
   "outputs": [],
   "source": [
    "import numpy as np \n",
    "import pandas as pd\n",
    "\n",
    "from IPython.core.interactiveshell import InteractiveShell\n",
    "InteractiveShell.ast_node_interactivity = \"all\"\n",
    "\n",
    "\n",
    "#Visualisation:\n",
    "import seaborn               as sns\n",
    "import matplotlib.pyplot     as plt\n",
    "sns.set_theme(style=\"whitegrid\")\n",
    "\n",
    "\n",
    "#sklearn  libraries\n",
    "from sklearn.linear_model import LinearRegression\n",
    "from sklearn.linear_model import Ridge\n",
    "from sklearn.linear_model import RidgeCV\n",
    "from sklearn.linear_model import Lasso \n",
    "\n",
    "\n",
    "#Train Test Split\n",
    "from sklearn.model_selection import train_test_split\n",
    "\n",
    "#Preprocessing:\n",
    "from sklearn.preprocessing import StandardScaler\n",
    "from sklearn.preprocessing import OneHotEncoder\n",
    "\n",
    "#Model Evaluation\n",
    "from sklearn import metrics\n",
    "from sklearn.model_selection import cross_val_score\n",
    "from sklearn.metrics import r2_score"
   ]
  },
  {
   "cell_type": "markdown",
   "id": "b93073e4-f463-4454-a65b-eb9f736338d7",
   "metadata": {},
   "source": [
    "## Function Creation\n",
    "### Dataframe Exploratory Funtions"
   ]
  },
  {
   "cell_type": "code",
   "execution_count": 2,
   "id": "cb774243-af84-4807-b748-7d4df2ed6f18",
   "metadata": {},
   "outputs": [],
   "source": [
    "#Showing missing, duplicates, shape, dtypes\n",
    "def df_summary(df):\n",
    "    print(f\"Shape(col,rows): {df.shape}\")\n",
    "    print(f\"Number of duplicates: {df.duplicated().sum()}\")\n",
    "    print('---'*20)\n",
    "    print(f'Number of each unqiue datatypes:\\n{df.dtypes.value_counts()}')\n",
    "    print('---'*20)\n",
    "    print(\"Columns with missing values:\")\n",
    "    isnull_df = pd.DataFrame(df.isnull().sum()).reset_index()\n",
    "    isnull_df.columns = ['col','num_nulls']\n",
    "    isnull_df['perc_null'] = ((isnull_df['num_nulls'])/(len(df))).round(2)\n",
    "    _df_ = isnull_df[isnull_df['num_nulls']>0]\n",
    "    if _df_.empty:\n",
    "        print(\"--No Missing Data--\")\n",
    "    else:\n",
    "        print(_df_)\n"
   ]
  },
  {
   "cell_type": "markdown",
   "id": "910d00a7-3996-4f10-abf0-e8d877b5dca7",
   "metadata": {},
   "source": [
    "### Modelling Preperation"
   ]
  },
  {
   "cell_type": "code",
   "execution_count": 3,
   "id": "ff809787-6850-4858-ad29-18b0237a6c9d",
   "metadata": {},
   "outputs": [],
   "source": [
    "#Model Preprocessing\n",
    "\n",
    "def onehotenc_df (train,test):\n",
    "    enc = OneHotEncoder(drop = 'first', handle_unknown = 'ignore')\n",
    "    train = enc.fit_transform(train)\n",
    "    test = enc.transform(test)\n",
    "    \n",
    "    output_col_names = list(enc.get_feature_names_out())\n",
    "    train_df = pd.DataFrame(train.toarray(), columns = output_col_names)\n",
    "    test_df = pd.DataFrame(test.toarray(), columns = output_col_names)\n",
    "    return (train_df,test_df)\n",
    "\n",
    "def standardscaler_df (train,test):\n",
    "    ss = StandardScaler()\n",
    "    train = ss.fit_transform(train)\n",
    "    test = ss.transform(test)\n",
    "    \n",
    "    output_col_names = list(ss.get_feature_names_out())\n",
    "    train_df = pd.DataFrame(train, columns = output_col_names)\n",
    "    test_df = pd.DataFrame(test, columns = output_col_names)\n",
    "    return (train_df,test_df)\n",
    "\n",
    "#Regularization. return a data frame with features and respective coefficient\n",
    "def feature_coef_ (model):\n",
    "    coef_list = list(model.coef_)\n",
    "    feature_list = list(model.feature_names_in_)\n",
    "    feature_coef_df = pd.DataFrame({'Features':feature_list,'Coeffiecient':coef_list})\n",
    "    return feature_coef_df"
   ]
  },
  {
   "cell_type": "markdown",
   "id": "c17f61c1-4319-46eb-b6b1-1723e0076c2d",
   "metadata": {},
   "source": [
    "## Import Data"
   ]
  },
  {
   "cell_type": "code",
   "execution_count": 4,
   "id": "0d0b55a8-d2d1-48df-be61-24679303aef3",
   "metadata": {},
   "outputs": [],
   "source": [
    "df = pd.read_csv(\"Data/modelling_data.csv\")"
   ]
  },
  {
   "cell_type": "code",
   "execution_count": 5,
   "id": "1bffddff-d02f-4ce3-b0b3-276c011fcb2b",
   "metadata": {},
   "outputs": [
    {
     "name": "stdout",
     "output_type": "stream",
     "text": [
      "Shape(col,rows): (150634, 52)\n",
      "Number of duplicates: 362\n",
      "------------------------------------------------------------\n",
      "Number of each unqiue datatypes:\n",
      "int64      26\n",
      "float64    14\n",
      "object     12\n",
      "dtype: int64\n",
      "------------------------------------------------------------\n",
      "Columns with missing values:\n",
      "--No Missing Data--\n"
     ]
    }
   ],
   "source": [
    "df_summary(df)"
   ]
  },
  {
   "cell_type": "markdown",
   "id": "76a882e6-94ee-4502-965b-2c0d724e48d6",
   "metadata": {},
   "source": [
    "**Remarks**<br>\n",
    "- May ignore number of duplicates (flat ID was dropped in initial dataset transformation, and previously confirmed no duplication)\n",
    "- It is normal to have duplicates as there are flats with similar features\n",
    "- No missing values in this dataframe."
   ]
  },
  {
   "cell_type": "markdown",
   "id": "bbfc8985-831f-4055-9166-0ddd72653420",
   "metadata": {
    "tags": []
   },
   "source": [
    "# Part 1: Preprocessing<a class=\"anchor\" id=\"ID1\"></a>"
   ]
  },
  {
   "cell_type": "markdown",
   "id": "838e7dc5-fd7f-4602-a6ea-4ff9c8f6952f",
   "metadata": {},
   "source": [
    "**Let's first analyse the number of unique elements each categorical feature has**:<br>\n",
    "\n",
    "Having large number of unique elements will post concern for computational memory issue."
   ]
  },
  {
   "cell_type": "code",
   "execution_count": 6,
   "id": "ad88b6bf-4111-48ce-9c7b-fc2b9c4e4890",
   "metadata": {},
   "outputs": [
    {
     "name": "stdout",
     "output_type": "stream",
     "text": [
      "For Categorical feature Tranc_YearMonth, \n",
      "there is 110 number of unique elements.\n",
      "\n",
      "For Categorical feature town, \n",
      "there is 26 number of unique elements.\n",
      "\n",
      "For Categorical feature flat_type, \n",
      "there is 7 number of unique elements.\n",
      "\n",
      "For Categorical feature street_name, \n",
      "there is 553 number of unique elements.\n",
      "\n",
      "For Categorical feature storey_range, \n",
      "there is 17 number of unique elements.\n",
      "\n",
      "For Categorical feature flat_model, \n",
      "there is 20 number of unique elements.\n",
      "\n",
      "For Categorical feature address, \n",
      "there is 9157 number of unique elements.\n",
      "\n",
      "For Categorical feature planning_area, \n",
      "there is 32 number of unique elements.\n",
      "\n",
      "For Categorical feature mrt_name, \n",
      "there is 94 number of unique elements.\n",
      "\n",
      "For Categorical feature bus_stop_name, \n",
      "there is 1657 number of unique elements.\n",
      "\n",
      "For Categorical feature pri_sch_name, \n",
      "there is 177 number of unique elements.\n",
      "\n",
      "For Categorical feature sec_sch_name, \n",
      "there is 134 number of unique elements.\n",
      "\n"
     ]
    }
   ],
   "source": [
    "_ = df.select_dtypes(include='object').columns.tolist()\n",
    "for col in _:\n",
    "    print(f\"For Categorical feature {col}, \\nthere is {df[col].nunique()} number of unique elements.\\n\")"
   ]
  },
  {
   "cell_type": "markdown",
   "id": "38da0d1c-68e3-4d19-9424-d6c249e29983",
   "metadata": {},
   "source": [
    "**Remarks:**\n",
    "\n",
    "Due to the limited capacity the computer has in running large data, we will exclude 'address' in the baseline modelling."
   ]
  },
  {
   "cell_type": "markdown",
   "id": "e3872c77-f0d9-4e1c-b500-54eb3f779ab8",
   "metadata": {},
   "source": [
    "## 1.1 Train_test_Split"
   ]
  },
  {
   "cell_type": "code",
   "execution_count": 7,
   "id": "0a2d30e9-2f44-452a-9d3a-b334d17b2707",
   "metadata": {},
   "outputs": [],
   "source": [
    "y = df['resale_price']\n",
    "X = df.drop(columns = ['resale_price','address'])\n",
    "\n",
    "X_train, X_test, y_train, y_test = train_test_split(X, y, random_state=23)\n",
    "\n",
    "#reset index\n",
    "for _df_ in [X_train, X_test, y_train, y_test]:\n",
    "    _df_.reset_index(inplace=True,drop=True)\n",
    "\n",
    "X_train_obj = X_train.select_dtypes(include='object')\n",
    "X_train_numeric = X_train.select_dtypes(exclude='object')\n",
    "\n",
    "X_test_obj = X_test.select_dtypes(include='object')\n",
    "X_test_numeric = X_test.select_dtypes(exclude='object')"
   ]
  },
  {
   "cell_type": "code",
   "execution_count": 9,
   "id": "7229c87e-3ee1-4f88-af60-ca465298ba8c",
   "metadata": {},
   "outputs": [
    {
     "data": {
      "text/plain": [
       "['Have_commercial',\n",
       " 'Have_multistorey_carpark',\n",
       " 'Have_precinct_pavilion',\n",
       " 'Have_bus_interchange',\n",
       " 'Have_mrt_interchange',\n",
       " 'Have_pri_affiliation_sec_sch',\n",
       " 'Have_sec_affiliation_pri_sch']"
      ]
     },
     "execution_count": 9,
     "metadata": {},
     "output_type": "execute_result"
    }
   ],
   "source": [
    "#boolean columns excluded for scaling\n",
    "boolean_col = [x for x in df.columns if 'Have' in x]\n",
    "boolean_col"
   ]
  },
  {
   "cell_type": "code",
   "execution_count": 10,
   "id": "597a4b99-b7fa-48c0-ac98-0445a492ecbe",
   "metadata": {},
   "outputs": [],
   "source": [
    "X_train_bool = X_train_numeric.loc[:,boolean_col]\n",
    "X_test_bool = X_test_numeric.loc[:,boolean_col]\n",
    "\n",
    "X_train_numeric.drop(columns = boolean_col, inplace=True)\n",
    "X_test_numeric.drop(columns = boolean_col, inplace=True)"
   ]
  },
  {
   "cell_type": "markdown",
   "id": "623ff205-399e-413d-8d33-9572c28ec864",
   "metadata": {},
   "source": [
    "**Remarks**:<br>\n",
    "\n",
    "At this point, we have 6 sets 'X' dataframes that are different in data types:\n",
    "- X_train_obj\n",
    "- X_train_numeric\n",
    "- X_train_bool\n",
    "- X_test_obj\n",
    "- X_test_numeric\n",
    "- X_test_bool"
   ]
  },
  {
   "cell_type": "markdown",
   "id": "cc9e0c5f-46fe-4677-bad3-e1621d924dc6",
   "metadata": {},
   "source": [
    "## 1.2 Categorical Data - Encoding"
   ]
  },
  {
   "cell_type": "code",
   "execution_count": 11,
   "id": "934a3bc1-3919-4dd8-aac2-f972b75bfdc5",
   "metadata": {},
   "outputs": [],
   "source": [
    "(X_train_enc,X_test_enc) = onehotenc_df(X_train_obj,X_test_obj)"
   ]
  },
  {
   "cell_type": "code",
   "execution_count": 12,
   "id": "9dcb27b7-786d-4c1e-8e59-4b7ad6eb7b26",
   "metadata": {},
   "outputs": [
    {
     "name": "stdout",
     "output_type": "stream",
     "text": [
      "Total number of unique elements in categorical columns originally: 2827\n"
     ]
    }
   ],
   "source": [
    "_=X_train_obj.columns.tolist()\n",
    "Numb_1=0\n",
    "for i in _:\n",
    "    x = df[i].nunique()\n",
    "    Numb_1=Numb_1+x\n",
    "print(f\"Total number of unique elements in categorical columns originally: {Numb_1}\")"
   ]
  },
  {
   "cell_type": "code",
   "execution_count": 13,
   "id": "2269cd27-a016-4c50-82dc-748d7a89dcc8",
   "metadata": {},
   "outputs": [
    {
     "name": "stdout",
     "output_type": "stream",
     "text": [
      "Total number of unique elements in categorical columns in Train set: 2827\n"
     ]
    }
   ],
   "source": [
    "Numb_2=0\n",
    "for i in _:\n",
    "    x = X_train_obj[i].nunique()\n",
    "    Numb_2=Numb_2+x\n",
    "print(f\"Total number of unique elements in categorical columns in Train set: {Numb_2}\")"
   ]
  },
  {
   "cell_type": "code",
   "execution_count": 14,
   "id": "7de7285b-a01e-420d-9086-9704aa86401d",
   "metadata": {},
   "outputs": [
    {
     "name": "stdout",
     "output_type": "stream",
     "text": [
      "Number of unique elements in categorical columns in Test set but not in Train set: 0\n"
     ]
    }
   ],
   "source": [
    "print(f\"Number of unique elements in categorical columns in Test set but not in Train set: {Numb_1-Numb_2}\")"
   ]
  },
  {
   "cell_type": "markdown",
   "id": "0ccb419a-df89-432c-98bb-d1c23308564c",
   "metadata": {},
   "source": [
    "## 1.3 Numerical Data - Scaling"
   ]
  },
  {
   "cell_type": "code",
   "execution_count": 15,
   "id": "f7c103c8-2d18-4499-8a65-c8008f113a81",
   "metadata": {},
   "outputs": [],
   "source": [
    "(X_train_ss,X_test_ss) = standardscaler_df (X_train_numeric,X_test_numeric)"
   ]
  },
  {
   "cell_type": "code",
   "execution_count": 16,
   "id": "5e184f29-c7c6-449d-b2fa-e0a8ca5ec1db",
   "metadata": {},
   "outputs": [
    {
     "data": {
      "text/plain": [
       "(112975, 2855)"
      ]
     },
     "execution_count": 16,
     "metadata": {},
     "output_type": "execute_result"
    },
    {
     "data": {
      "text/plain": [
       "(37659, 2855)"
      ]
     },
     "execution_count": 16,
     "metadata": {},
     "output_type": "execute_result"
    }
   ],
   "source": [
    "X_train = pd.concat(objs = [X_train_enc, X_train_ss,X_train_bool], axis = 1)\n",
    "X_train.shape\n",
    "\n",
    "X_test = pd.concat(objs = [X_test_enc, X_test_ss,X_test_bool], axis = 1)\n",
    "X_test.shape"
   ]
  },
  {
   "cell_type": "markdown",
   "id": "da93c72b-f0c3-4457-af53-bd605d31a2eb",
   "metadata": {
    "tags": []
   },
   "source": [
    "# Part 2 Modelling<a class=\"anchor\" id=\"ID2\"></a>\n",
    "\n",
    "## 2.1 Linear Regression"
   ]
  },
  {
   "cell_type": "code",
   "execution_count": 18,
   "id": "72a18a90-6696-4299-9fe7-bf2d4076025c",
   "metadata": {},
   "outputs": [
    {
     "name": "stdout",
     "output_type": "stream",
     "text": [
      "CPU times: total: 1min 2s\n",
      "Wall time: 1min 6s\n"
     ]
    },
    {
     "data": {
      "text/html": [
       "<style>#sk-container-id-1 {color: black;background-color: white;}#sk-container-id-1 pre{padding: 0;}#sk-container-id-1 div.sk-toggleable {background-color: white;}#sk-container-id-1 label.sk-toggleable__label {cursor: pointer;display: block;width: 100%;margin-bottom: 0;padding: 0.3em;box-sizing: border-box;text-align: center;}#sk-container-id-1 label.sk-toggleable__label-arrow:before {content: \"▸\";float: left;margin-right: 0.25em;color: #696969;}#sk-container-id-1 label.sk-toggleable__label-arrow:hover:before {color: black;}#sk-container-id-1 div.sk-estimator:hover label.sk-toggleable__label-arrow:before {color: black;}#sk-container-id-1 div.sk-toggleable__content {max-height: 0;max-width: 0;overflow: hidden;text-align: left;background-color: #f0f8ff;}#sk-container-id-1 div.sk-toggleable__content pre {margin: 0.2em;color: black;border-radius: 0.25em;background-color: #f0f8ff;}#sk-container-id-1 input.sk-toggleable__control:checked~div.sk-toggleable__content {max-height: 200px;max-width: 100%;overflow: auto;}#sk-container-id-1 input.sk-toggleable__control:checked~label.sk-toggleable__label-arrow:before {content: \"▾\";}#sk-container-id-1 div.sk-estimator input.sk-toggleable__control:checked~label.sk-toggleable__label {background-color: #d4ebff;}#sk-container-id-1 div.sk-label input.sk-toggleable__control:checked~label.sk-toggleable__label {background-color: #d4ebff;}#sk-container-id-1 input.sk-hidden--visually {border: 0;clip: rect(1px 1px 1px 1px);clip: rect(1px, 1px, 1px, 1px);height: 1px;margin: -1px;overflow: hidden;padding: 0;position: absolute;width: 1px;}#sk-container-id-1 div.sk-estimator {font-family: monospace;background-color: #f0f8ff;border: 1px dotted black;border-radius: 0.25em;box-sizing: border-box;margin-bottom: 0.5em;}#sk-container-id-1 div.sk-estimator:hover {background-color: #d4ebff;}#sk-container-id-1 div.sk-parallel-item::after {content: \"\";width: 100%;border-bottom: 1px solid gray;flex-grow: 1;}#sk-container-id-1 div.sk-label:hover label.sk-toggleable__label {background-color: #d4ebff;}#sk-container-id-1 div.sk-serial::before {content: \"\";position: absolute;border-left: 1px solid gray;box-sizing: border-box;top: 0;bottom: 0;left: 50%;z-index: 0;}#sk-container-id-1 div.sk-serial {display: flex;flex-direction: column;align-items: center;background-color: white;padding-right: 0.2em;padding-left: 0.2em;position: relative;}#sk-container-id-1 div.sk-item {position: relative;z-index: 1;}#sk-container-id-1 div.sk-parallel {display: flex;align-items: stretch;justify-content: center;background-color: white;position: relative;}#sk-container-id-1 div.sk-item::before, #sk-container-id-1 div.sk-parallel-item::before {content: \"\";position: absolute;border-left: 1px solid gray;box-sizing: border-box;top: 0;bottom: 0;left: 50%;z-index: -1;}#sk-container-id-1 div.sk-parallel-item {display: flex;flex-direction: column;z-index: 1;position: relative;background-color: white;}#sk-container-id-1 div.sk-parallel-item:first-child::after {align-self: flex-end;width: 50%;}#sk-container-id-1 div.sk-parallel-item:last-child::after {align-self: flex-start;width: 50%;}#sk-container-id-1 div.sk-parallel-item:only-child::after {width: 0;}#sk-container-id-1 div.sk-dashed-wrapped {border: 1px dashed gray;margin: 0 0.4em 0.5em 0.4em;box-sizing: border-box;padding-bottom: 0.4em;background-color: white;}#sk-container-id-1 div.sk-label label {font-family: monospace;font-weight: bold;display: inline-block;line-height: 1.2em;}#sk-container-id-1 div.sk-label-container {text-align: center;}#sk-container-id-1 div.sk-container {/* jupyter's `normalize.less` sets `[hidden] { display: none; }` but bootstrap.min.css set `[hidden] { display: none !important; }` so we also need the `!important` here to be able to override the default hidden behavior on the sphinx rendered scikit-learn.org. See: https://github.com/scikit-learn/scikit-learn/issues/21755 */display: inline-block !important;position: relative;}#sk-container-id-1 div.sk-text-repr-fallback {display: none;}</style><div id=\"sk-container-id-1\" class=\"sk-top-container\"><div class=\"sk-text-repr-fallback\"><pre>LinearRegression()</pre><b>In a Jupyter environment, please rerun this cell to show the HTML representation or trust the notebook. <br />On GitHub, the HTML representation is unable to render, please try loading this page with nbviewer.org.</b></div><div class=\"sk-container\" hidden><div class=\"sk-item\"><div class=\"sk-estimator sk-toggleable\"><input class=\"sk-toggleable__control sk-hidden--visually\" id=\"sk-estimator-id-1\" type=\"checkbox\" checked><label for=\"sk-estimator-id-1\" class=\"sk-toggleable__label sk-toggleable__label-arrow\">LinearRegression</label><div class=\"sk-toggleable__content\"><pre>LinearRegression()</pre></div></div></div></div></div>"
      ],
      "text/plain": [
       "LinearRegression()"
      ]
     },
     "execution_count": 18,
     "metadata": {},
     "output_type": "execute_result"
    }
   ],
   "source": [
    "%%time\n",
    "lr = LinearRegression()\n",
    "lr.fit(X_train, y_train)"
   ]
  },
  {
   "cell_type": "markdown",
   "id": "a80b00b0-6f2b-4823-b583-55b5d6b6c29c",
   "metadata": {},
   "source": [
    "### Model performance"
   ]
  },
  {
   "cell_type": "code",
   "execution_count": 20,
   "id": "b1c57172-5384-42f1-a0ee-6f869d53d3f8",
   "metadata": {},
   "outputs": [
    {
     "data": {
      "text/plain": [
       "0.9439474473872338"
      ]
     },
     "execution_count": 20,
     "metadata": {},
     "output_type": "execute_result"
    },
    {
     "data": {
      "text/plain": [
       "0.9410758407498311"
      ]
     },
     "execution_count": 20,
     "metadata": {},
     "output_type": "execute_result"
    }
   ],
   "source": [
    "#R2 score\n",
    "lr.score(X_train, y_train)\n",
    "lr.score(X_test, y_test)"
   ]
  },
  {
   "cell_type": "code",
   "execution_count": 21,
   "id": "0dabe5e4-1d82-4830-b137-30b69a33e34d",
   "metadata": {},
   "outputs": [
    {
     "data": {
      "text/plain": [
       "-3.1013944359607593e+18"
      ]
     },
     "execution_count": 21,
     "metadata": {},
     "output_type": "execute_result"
    }
   ],
   "source": [
    "#Cross validation score:\n",
    "cross_val_score(lr, X_train, y_train).mean()"
   ]
  },
  {
   "cell_type": "code",
   "execution_count": 22,
   "id": "9401438b-61e6-497f-9fc1-ae25004a2c39",
   "metadata": {},
   "outputs": [
    {
     "data": {
      "text/plain": [
       "33966.945229363235"
      ]
     },
     "execution_count": 22,
     "metadata": {},
     "output_type": "execute_result"
    },
    {
     "data": {
      "text/plain": [
       "34668.25866534712"
      ]
     },
     "execution_count": 22,
     "metadata": {},
     "output_type": "execute_result"
    }
   ],
   "source": [
    "#RMSE train score\n",
    "y_train_pred = lr.predict(X_train)\n",
    "np.sqrt(metrics.mean_squared_error(y_train, y_train_pred))\n",
    "\n",
    "#RMSE test score\n",
    "y_test_pred = lr.predict(X_test)\n",
    "np.sqrt(metrics.mean_squared_error(y_test, y_test_pred))"
   ]
  },
  {
   "cell_type": "markdown",
   "id": "91cc56e2-12e5-4059-8e75-bee8941a15a7",
   "metadata": {},
   "source": [
    "**Comment**\n",
    "\n",
    "*About your model performance*\n",
    "- underfitting\n",
    "- overfitting\n",
    "\n",
    "*Plan to improve model performance:*\n",
    "- explore ridge regularization\n",
    "- explore lasso regularization\n",
    "- explore including/excluding features (i.e. address)"
   ]
  },
  {
   "cell_type": "markdown",
   "id": "faa82950-a214-4dc7-b4b6-9ecb9ddd77a9",
   "metadata": {},
   "source": [
    "## 2.2 RidgeCV"
   ]
  },
  {
   "cell_type": "code",
   "execution_count": 23,
   "id": "8e964b16-fd8c-47ae-bf71-bd25d07826e0",
   "metadata": {},
   "outputs": [
    {
     "name": "stdout",
     "output_type": "stream",
     "text": [
      "CPU times: total: 5min 18s\n",
      "Wall time: 5min 33s\n"
     ]
    },
    {
     "data": {
      "text/html": [
       "<style>#sk-container-id-2 {color: black;background-color: white;}#sk-container-id-2 pre{padding: 0;}#sk-container-id-2 div.sk-toggleable {background-color: white;}#sk-container-id-2 label.sk-toggleable__label {cursor: pointer;display: block;width: 100%;margin-bottom: 0;padding: 0.3em;box-sizing: border-box;text-align: center;}#sk-container-id-2 label.sk-toggleable__label-arrow:before {content: \"▸\";float: left;margin-right: 0.25em;color: #696969;}#sk-container-id-2 label.sk-toggleable__label-arrow:hover:before {color: black;}#sk-container-id-2 div.sk-estimator:hover label.sk-toggleable__label-arrow:before {color: black;}#sk-container-id-2 div.sk-toggleable__content {max-height: 0;max-width: 0;overflow: hidden;text-align: left;background-color: #f0f8ff;}#sk-container-id-2 div.sk-toggleable__content pre {margin: 0.2em;color: black;border-radius: 0.25em;background-color: #f0f8ff;}#sk-container-id-2 input.sk-toggleable__control:checked~div.sk-toggleable__content {max-height: 200px;max-width: 100%;overflow: auto;}#sk-container-id-2 input.sk-toggleable__control:checked~label.sk-toggleable__label-arrow:before {content: \"▾\";}#sk-container-id-2 div.sk-estimator input.sk-toggleable__control:checked~label.sk-toggleable__label {background-color: #d4ebff;}#sk-container-id-2 div.sk-label input.sk-toggleable__control:checked~label.sk-toggleable__label {background-color: #d4ebff;}#sk-container-id-2 input.sk-hidden--visually {border: 0;clip: rect(1px 1px 1px 1px);clip: rect(1px, 1px, 1px, 1px);height: 1px;margin: -1px;overflow: hidden;padding: 0;position: absolute;width: 1px;}#sk-container-id-2 div.sk-estimator {font-family: monospace;background-color: #f0f8ff;border: 1px dotted black;border-radius: 0.25em;box-sizing: border-box;margin-bottom: 0.5em;}#sk-container-id-2 div.sk-estimator:hover {background-color: #d4ebff;}#sk-container-id-2 div.sk-parallel-item::after {content: \"\";width: 100%;border-bottom: 1px solid gray;flex-grow: 1;}#sk-container-id-2 div.sk-label:hover label.sk-toggleable__label {background-color: #d4ebff;}#sk-container-id-2 div.sk-serial::before {content: \"\";position: absolute;border-left: 1px solid gray;box-sizing: border-box;top: 0;bottom: 0;left: 50%;z-index: 0;}#sk-container-id-2 div.sk-serial {display: flex;flex-direction: column;align-items: center;background-color: white;padding-right: 0.2em;padding-left: 0.2em;position: relative;}#sk-container-id-2 div.sk-item {position: relative;z-index: 1;}#sk-container-id-2 div.sk-parallel {display: flex;align-items: stretch;justify-content: center;background-color: white;position: relative;}#sk-container-id-2 div.sk-item::before, #sk-container-id-2 div.sk-parallel-item::before {content: \"\";position: absolute;border-left: 1px solid gray;box-sizing: border-box;top: 0;bottom: 0;left: 50%;z-index: -1;}#sk-container-id-2 div.sk-parallel-item {display: flex;flex-direction: column;z-index: 1;position: relative;background-color: white;}#sk-container-id-2 div.sk-parallel-item:first-child::after {align-self: flex-end;width: 50%;}#sk-container-id-2 div.sk-parallel-item:last-child::after {align-self: flex-start;width: 50%;}#sk-container-id-2 div.sk-parallel-item:only-child::after {width: 0;}#sk-container-id-2 div.sk-dashed-wrapped {border: 1px dashed gray;margin: 0 0.4em 0.5em 0.4em;box-sizing: border-box;padding-bottom: 0.4em;background-color: white;}#sk-container-id-2 div.sk-label label {font-family: monospace;font-weight: bold;display: inline-block;line-height: 1.2em;}#sk-container-id-2 div.sk-label-container {text-align: center;}#sk-container-id-2 div.sk-container {/* jupyter's `normalize.less` sets `[hidden] { display: none; }` but bootstrap.min.css set `[hidden] { display: none !important; }` so we also need the `!important` here to be able to override the default hidden behavior on the sphinx rendered scikit-learn.org. See: https://github.com/scikit-learn/scikit-learn/issues/21755 */display: inline-block !important;position: relative;}#sk-container-id-2 div.sk-text-repr-fallback {display: none;}</style><div id=\"sk-container-id-2\" class=\"sk-top-container\"><div class=\"sk-text-repr-fallback\"><pre>RidgeCV(alphas=[0.1, 1, 10], cv=5, scoring=&#x27;neg_mean_squared_error&#x27;)</pre><b>In a Jupyter environment, please rerun this cell to show the HTML representation or trust the notebook. <br />On GitHub, the HTML representation is unable to render, please try loading this page with nbviewer.org.</b></div><div class=\"sk-container\" hidden><div class=\"sk-item\"><div class=\"sk-estimator sk-toggleable\"><input class=\"sk-toggleable__control sk-hidden--visually\" id=\"sk-estimator-id-2\" type=\"checkbox\" checked><label for=\"sk-estimator-id-2\" class=\"sk-toggleable__label sk-toggleable__label-arrow\">RidgeCV</label><div class=\"sk-toggleable__content\"><pre>RidgeCV(alphas=[0.1, 1, 10], cv=5, scoring=&#x27;neg_mean_squared_error&#x27;)</pre></div></div></div></div></div>"
      ],
      "text/plain": [
       "RidgeCV(alphas=[0.1, 1, 10], cv=5, scoring='neg_mean_squared_error')"
      ]
     },
     "execution_count": 23,
     "metadata": {},
     "output_type": "execute_result"
    }
   ],
   "source": [
    "%%time\n",
    "# Define the alpha values to be considered\n",
    "alphas = [0.1, 1, 10]\n",
    "\n",
    "# Define the model/estimator\n",
    "RidgeCV= RidgeCV(alphas=alphas, scoring='neg_mean_squared_error', cv=5)\n",
    "\n",
    "# Fit the model\n",
    "RidgeCV.fit(X_train,y_train)"
   ]
  },
  {
   "cell_type": "code",
   "execution_count": 27,
   "id": "a3f051c2-e279-47f6-af66-85e19169998f",
   "metadata": {},
   "outputs": [
    {
     "data": {
      "text/plain": [
       "0.1"
      ]
     },
     "execution_count": 27,
     "metadata": {},
     "output_type": "execute_result"
    }
   ],
   "source": [
    "best_alpha = RidgeCV.alpha_\n",
    "best_alpha"
   ]
  },
  {
   "cell_type": "markdown",
   "id": "de6ae574-9a7a-4093-978b-a5593497294e",
   "metadata": {},
   "source": [
    "### Model performance"
   ]
  },
  {
   "cell_type": "code",
   "execution_count": 24,
   "id": "5dddf67d-e651-42ce-b3a1-4f15007a39ba",
   "metadata": {},
   "outputs": [
    {
     "data": {
      "text/plain": [
       "0.9439881182707285"
      ]
     },
     "execution_count": 24,
     "metadata": {},
     "output_type": "execute_result"
    },
    {
     "data": {
      "text/plain": [
       "0.941155642843673"
      ]
     },
     "execution_count": 24,
     "metadata": {},
     "output_type": "execute_result"
    }
   ],
   "source": [
    "#R2 score\n",
    "RidgeCV.score(X_train, y_train)\n",
    "RidgeCV.score(X_test, y_test)"
   ]
  },
  {
   "cell_type": "code",
   "execution_count": 28,
   "id": "d3a8e640-2fbe-403e-b39e-7f59b816d880",
   "metadata": {},
   "outputs": [
    {
     "data": {
      "text/plain": [
       "0.9405930856999358"
      ]
     },
     "execution_count": 28,
     "metadata": {},
     "output_type": "execute_result"
    }
   ],
   "source": [
    "#Cross validation score:\n",
    "Ridge = Ridge(alpha = best_alpha)\n",
    "cross_val_score(Ridge, X_train, y_train).mean()"
   ]
  },
  {
   "cell_type": "code",
   "execution_count": 25,
   "id": "bb93fbf1-761f-4f3b-8f9d-bd12eb5271ce",
   "metadata": {},
   "outputs": [
    {
     "data": {
      "text/plain": [
       "33954.620042629664"
      ]
     },
     "execution_count": 25,
     "metadata": {},
     "output_type": "execute_result"
    },
    {
     "data": {
      "text/plain": [
       "34644.774775073165"
      ]
     },
     "execution_count": 25,
     "metadata": {},
     "output_type": "execute_result"
    }
   ],
   "source": [
    "#RMSE train score\n",
    "y_train_pred = RidgeCV.predict(X_train)\n",
    "np.sqrt(metrics.mean_squared_error(y_train, y_train_pred))\n",
    "\n",
    "#RMSE test score\n",
    "y_test_pred = RidgeCV.predict(X_test)\n",
    "np.sqrt(metrics.mean_squared_error(y_test, y_test_pred))"
   ]
  },
  {
   "cell_type": "markdown",
   "id": "58264a03-c43e-4e59-a5f4-f31a7eeeb0e2",
   "metadata": {},
   "source": [
    "**Remarks**\n",
    "- Linear Regression appears to be overfitting when comparing crossvalidation score to test score.\n",
    "- RidgeCV appears to be best performing so far\n",
    "- Next, we shall explore including 'address' and Lasso Regularization.\n",
    "|Model|Description|Cross_validation<br>score|R2 score|RMSE score|\n",
    "|---|---|---|---|---|\n",
    "|Linear Regression|Exclude 'address'|-3.1e+18|<li>Train:0.944</li><li>Test:0.941</li>|<li>Train:33966.9</li><li>Test:34668.3</li>|\n",
    "|Ridge Regression|Exclude 'address'|0.941|<li>Train:0.944</li><li>Test:0.941</li>|<li>Train:33954.6</li><li>Test:34644.8</li>|"
   ]
  },
  {
   "cell_type": "markdown",
   "id": "69bb375a-5260-49e4-a333-13f89842308f",
   "metadata": {},
   "source": [
    "## 2.3 Lasso Regression"
   ]
  },
  {
   "cell_type": "code",
   "execution_count": 4,
   "id": "4b12c7c0-f2f6-4081-83b9-408e40ac81ea",
   "metadata": {},
   "outputs": [],
   "source": [
    "#downloading the dataframe again\n",
    "df = pd.read_csv(\"Data/modelling_data.csv\")"
   ]
  },
  {
   "cell_type": "markdown",
   "id": "1a9408d4-b781-4485-86a0-10ba226af3ca",
   "metadata": {},
   "source": [
    "### 2.3.1 Train_test_Split"
   ]
  },
  {
   "cell_type": "code",
   "execution_count": 5,
   "id": "50e812d4-38b9-4d84-81f5-8d059975f254",
   "metadata": {},
   "outputs": [],
   "source": [
    "y = df['resale_price']\n",
    "X = df.drop(columns = ['resale_price'])\n",
    "\n",
    "X_train, X_test, y_train, y_test = train_test_split(X, y, random_state=23)\n",
    "\n",
    "#reset index\n",
    "for _df_ in [X_train, X_test, y_train, y_test]:\n",
    "    _df_.reset_index(inplace=True,drop=True)\n",
    "\n",
    "X_train_obj = X_train.select_dtypes(include='object')\n",
    "X_train_numeric = X_train.select_dtypes(exclude='object')\n",
    "\n",
    "X_test_obj = X_test.select_dtypes(include='object')\n",
    "X_test_numeric = X_test.select_dtypes(exclude='object')"
   ]
  },
  {
   "cell_type": "code",
   "execution_count": 6,
   "id": "2f8a06de-8bdb-40a3-8574-27589ff2abc4",
   "metadata": {},
   "outputs": [
    {
     "data": {
      "text/plain": [
       "['Have_commercial',\n",
       " 'Have_multistorey_carpark',\n",
       " 'Have_precinct_pavilion',\n",
       " 'Have_bus_interchange',\n",
       " 'Have_mrt_interchange',\n",
       " 'Have_pri_affiliation_sec_sch',\n",
       " 'Have_sec_affiliation_pri_sch']"
      ]
     },
     "execution_count": 6,
     "metadata": {},
     "output_type": "execute_result"
    }
   ],
   "source": [
    "#boolean columns excluded for scaling\n",
    "boolean_col = [x for x in df.columns if 'Have' in x]\n",
    "boolean_col"
   ]
  },
  {
   "cell_type": "code",
   "execution_count": 7,
   "id": "a3ee7231-67c7-4b9e-a3f0-cf62e555d274",
   "metadata": {},
   "outputs": [],
   "source": [
    "X_train_bool = X_train_numeric.loc[:,boolean_col]\n",
    "X_test_bool = X_test_numeric.loc[:,boolean_col]\n",
    "\n",
    "X_train_numeric.drop(columns = boolean_col, inplace=True)\n",
    "X_test_numeric.drop(columns = boolean_col, inplace=True)"
   ]
  },
  {
   "cell_type": "markdown",
   "id": "3b14dc53-bfa2-4f3b-8a12-d66dd8e1b4e1",
   "metadata": {},
   "source": [
    "### 2.3.2 Categorical Data - Encoding"
   ]
  },
  {
   "cell_type": "code",
   "execution_count": 8,
   "id": "01fe2f1e-0c03-40f1-b2d8-eebc810c85f0",
   "metadata": {},
   "outputs": [
    {
     "name": "stderr",
     "output_type": "stream",
     "text": [
      "C:\\Users\\geok1\\.conda\\envs\\dsi-sg\\lib\\site-packages\\sklearn\\preprocessing\\_encoders.py:188: UserWarning: Found unknown categories in columns [6] during transform. These unknown categories will be encoded as all zeros\n",
      "  warnings.warn(\n"
     ]
    }
   ],
   "source": [
    "(X_train_enc,X_test_enc) = onehotenc_df(X_train_obj,X_test_obj)"
   ]
  },
  {
   "cell_type": "code",
   "execution_count": 9,
   "id": "80b0f11f-c585-4f55-89e3-163f2d494467",
   "metadata": {},
   "outputs": [
    {
     "name": "stdout",
     "output_type": "stream",
     "text": [
      "Total number of unique elements in categorical columns originally: 11984\n"
     ]
    }
   ],
   "source": [
    "_=X_train_obj.columns.tolist()\n",
    "Numb_1=0\n",
    "for i in _:\n",
    "    x = df[i].nunique()\n",
    "    Numb_1=Numb_1+x\n",
    "print(f\"Total number of unique elements in categorical columns originally: {Numb_1}\")"
   ]
  },
  {
   "cell_type": "code",
   "execution_count": 10,
   "id": "876bc394-ca91-410d-939f-a44cc80d0a0b",
   "metadata": {},
   "outputs": [
    {
     "name": "stdout",
     "output_type": "stream",
     "text": [
      "Total number of unique elements in categorical columns in Train set: 11937\n"
     ]
    }
   ],
   "source": [
    "Numb_2=0\n",
    "for i in _:\n",
    "    x = X_train_obj[i].nunique()\n",
    "    Numb_2=Numb_2+x\n",
    "print(f\"Total number of unique elements in categorical columns in Train set: {Numb_2}\")"
   ]
  },
  {
   "cell_type": "code",
   "execution_count": 11,
   "id": "f3514e56-f9cb-44a3-9631-e04572c053df",
   "metadata": {},
   "outputs": [
    {
     "name": "stdout",
     "output_type": "stream",
     "text": [
      "Number of unique elements in categorical columns in Test set but not in Train set: 47\n"
     ]
    }
   ],
   "source": [
    "print(f\"Number of unique elements in categorical columns in Test set but not in Train set: {Numb_1-Numb_2}\")"
   ]
  },
  {
   "cell_type": "markdown",
   "id": "75774ba4-dc4d-4235-9eb4-ad4a1a416281",
   "metadata": {},
   "source": [
    "**Remarks**<br>\n",
    "Noted that there are some categories in the test set that are not found in the train set.\n",
    "> There are total 47 unique elements in categorical columns in Test set but not in Train set"
   ]
  },
  {
   "cell_type": "markdown",
   "id": "afad5cd1-1a8e-487d-b001-17dfc279f937",
   "metadata": {},
   "source": [
    "### 2.3.3 Numerical Data - Scaling"
   ]
  },
  {
   "cell_type": "code",
   "execution_count": 12,
   "id": "61f71faa-9907-4920-88f5-fe76c428d34d",
   "metadata": {},
   "outputs": [],
   "source": [
    "(X_train_ss,X_test_ss) = standardscaler_df (X_train_numeric,X_test_numeric)"
   ]
  },
  {
   "cell_type": "markdown",
   "id": "85935883-b0ba-4eea-bf4b-b8c7e44a1d93",
   "metadata": {},
   "source": [
    "### 2.3.4 Finalised Train and Test dataset"
   ]
  },
  {
   "cell_type": "code",
   "execution_count": 13,
   "id": "2e1d2cde-6022-42a0-b191-b270574b58e9",
   "metadata": {},
   "outputs": [
    {
     "data": {
      "text/plain": [
       "(112975, 11964)"
      ]
     },
     "execution_count": 13,
     "metadata": {},
     "output_type": "execute_result"
    },
    {
     "data": {
      "text/plain": [
       "(37659, 11964)"
      ]
     },
     "execution_count": 13,
     "metadata": {},
     "output_type": "execute_result"
    }
   ],
   "source": [
    "X_train = pd.concat(objs = [X_train_enc, X_train_ss,X_train_bool], axis = 1)\n",
    "X_train.shape\n",
    "\n",
    "X_test = pd.concat(objs = [X_test_enc, X_test_ss,X_test_bool], axis = 1)\n",
    "X_test.shape"
   ]
  },
  {
   "cell_type": "markdown",
   "id": "9f3cb8ca-3833-4f6a-b2b3-941110218367",
   "metadata": {
    "tags": []
   },
   "source": [
    "### 2.3.5 Modelling "
   ]
  },
  {
   "cell_type": "code",
   "execution_count": 14,
   "id": "686a729c-234f-4864-8622-2bb95f79f721",
   "metadata": {
    "tags": []
   },
   "outputs": [
    {
     "name": "stdout",
     "output_type": "stream",
     "text": [
      "CPU times: total: 2h 25min 8s\n",
      "Wall time: 2h 28min 1s\n"
     ]
    },
    {
     "data": {
      "text/html": [
       "<style>#sk-container-id-1 {color: black;background-color: white;}#sk-container-id-1 pre{padding: 0;}#sk-container-id-1 div.sk-toggleable {background-color: white;}#sk-container-id-1 label.sk-toggleable__label {cursor: pointer;display: block;width: 100%;margin-bottom: 0;padding: 0.3em;box-sizing: border-box;text-align: center;}#sk-container-id-1 label.sk-toggleable__label-arrow:before {content: \"▸\";float: left;margin-right: 0.25em;color: #696969;}#sk-container-id-1 label.sk-toggleable__label-arrow:hover:before {color: black;}#sk-container-id-1 div.sk-estimator:hover label.sk-toggleable__label-arrow:before {color: black;}#sk-container-id-1 div.sk-toggleable__content {max-height: 0;max-width: 0;overflow: hidden;text-align: left;background-color: #f0f8ff;}#sk-container-id-1 div.sk-toggleable__content pre {margin: 0.2em;color: black;border-radius: 0.25em;background-color: #f0f8ff;}#sk-container-id-1 input.sk-toggleable__control:checked~div.sk-toggleable__content {max-height: 200px;max-width: 100%;overflow: auto;}#sk-container-id-1 input.sk-toggleable__control:checked~label.sk-toggleable__label-arrow:before {content: \"▾\";}#sk-container-id-1 div.sk-estimator input.sk-toggleable__control:checked~label.sk-toggleable__label {background-color: #d4ebff;}#sk-container-id-1 div.sk-label input.sk-toggleable__control:checked~label.sk-toggleable__label {background-color: #d4ebff;}#sk-container-id-1 input.sk-hidden--visually {border: 0;clip: rect(1px 1px 1px 1px);clip: rect(1px, 1px, 1px, 1px);height: 1px;margin: -1px;overflow: hidden;padding: 0;position: absolute;width: 1px;}#sk-container-id-1 div.sk-estimator {font-family: monospace;background-color: #f0f8ff;border: 1px dotted black;border-radius: 0.25em;box-sizing: border-box;margin-bottom: 0.5em;}#sk-container-id-1 div.sk-estimator:hover {background-color: #d4ebff;}#sk-container-id-1 div.sk-parallel-item::after {content: \"\";width: 100%;border-bottom: 1px solid gray;flex-grow: 1;}#sk-container-id-1 div.sk-label:hover label.sk-toggleable__label {background-color: #d4ebff;}#sk-container-id-1 div.sk-serial::before {content: \"\";position: absolute;border-left: 1px solid gray;box-sizing: border-box;top: 0;bottom: 0;left: 50%;z-index: 0;}#sk-container-id-1 div.sk-serial {display: flex;flex-direction: column;align-items: center;background-color: white;padding-right: 0.2em;padding-left: 0.2em;position: relative;}#sk-container-id-1 div.sk-item {position: relative;z-index: 1;}#sk-container-id-1 div.sk-parallel {display: flex;align-items: stretch;justify-content: center;background-color: white;position: relative;}#sk-container-id-1 div.sk-item::before, #sk-container-id-1 div.sk-parallel-item::before {content: \"\";position: absolute;border-left: 1px solid gray;box-sizing: border-box;top: 0;bottom: 0;left: 50%;z-index: -1;}#sk-container-id-1 div.sk-parallel-item {display: flex;flex-direction: column;z-index: 1;position: relative;background-color: white;}#sk-container-id-1 div.sk-parallel-item:first-child::after {align-self: flex-end;width: 50%;}#sk-container-id-1 div.sk-parallel-item:last-child::after {align-self: flex-start;width: 50%;}#sk-container-id-1 div.sk-parallel-item:only-child::after {width: 0;}#sk-container-id-1 div.sk-dashed-wrapped {border: 1px dashed gray;margin: 0 0.4em 0.5em 0.4em;box-sizing: border-box;padding-bottom: 0.4em;background-color: white;}#sk-container-id-1 div.sk-label label {font-family: monospace;font-weight: bold;display: inline-block;line-height: 1.2em;}#sk-container-id-1 div.sk-label-container {text-align: center;}#sk-container-id-1 div.sk-container {/* jupyter's `normalize.less` sets `[hidden] { display: none; }` but bootstrap.min.css set `[hidden] { display: none !important; }` so we also need the `!important` here to be able to override the default hidden behavior on the sphinx rendered scikit-learn.org. See: https://github.com/scikit-learn/scikit-learn/issues/21755 */display: inline-block !important;position: relative;}#sk-container-id-1 div.sk-text-repr-fallback {display: none;}</style><div id=\"sk-container-id-1\" class=\"sk-top-container\"><div class=\"sk-text-repr-fallback\"><pre>Lasso(max_iter=10000)</pre><b>In a Jupyter environment, please rerun this cell to show the HTML representation or trust the notebook. <br />On GitHub, the HTML representation is unable to render, please try loading this page with nbviewer.org.</b></div><div class=\"sk-container\" hidden><div class=\"sk-item\"><div class=\"sk-estimator sk-toggleable\"><input class=\"sk-toggleable__control sk-hidden--visually\" id=\"sk-estimator-id-1\" type=\"checkbox\" checked><label for=\"sk-estimator-id-1\" class=\"sk-toggleable__label sk-toggleable__label-arrow\">Lasso</label><div class=\"sk-toggleable__content\"><pre>Lasso(max_iter=10000)</pre></div></div></div></div></div>"
      ],
      "text/plain": [
       "Lasso(max_iter=10000)"
      ]
     },
     "execution_count": 14,
     "metadata": {},
     "output_type": "execute_result"
    }
   ],
   "source": [
    "%%time\n",
    "Lasso = Lasso(max_iter=10000)\n",
    "Lasso.fit(X_train, y_train)"
   ]
  },
  {
   "cell_type": "markdown",
   "id": "e8e5ba05-3576-415d-bfb0-226076426275",
   "metadata": {
    "tags": []
   },
   "source": [
    "### 2.3.6 Model performance"
   ]
  },
  {
   "cell_type": "code",
   "execution_count": 15,
   "id": "b8187c0b-7ff4-48e6-839e-833b11511883",
   "metadata": {},
   "outputs": [
    {
     "data": {
      "text/plain": [
       "0.9555451266293327"
      ]
     },
     "execution_count": 15,
     "metadata": {},
     "output_type": "execute_result"
    },
    {
     "data": {
      "text/plain": [
       "0.9505200863040552"
      ]
     },
     "execution_count": 15,
     "metadata": {},
     "output_type": "execute_result"
    }
   ],
   "source": [
    "Lasso.score(X_train, y_train)\n",
    "Lasso.score(X_test, y_test)"
   ]
  },
  {
   "cell_type": "code",
   "execution_count": 16,
   "id": "4faac7aa-a226-455c-9da8-721c26ccad36",
   "metadata": {},
   "outputs": [
    {
     "data": {
      "text/plain": [
       "30249.519620466206"
      ]
     },
     "execution_count": 16,
     "metadata": {},
     "output_type": "execute_result"
    },
    {
     "data": {
      "text/plain": [
       "31768.725906671556"
      ]
     },
     "execution_count": 16,
     "metadata": {},
     "output_type": "execute_result"
    }
   ],
   "source": [
    "#RMSE train score\n",
    "y_train_pred = Lasso.predict(X_train)\n",
    "np.sqrt(metrics.mean_squared_error(y_train, y_train_pred))\n",
    "\n",
    "#RMSE test score\n",
    "y_test_pred = Lasso.predict(X_test)\n",
    "np.sqrt(metrics.mean_squared_error(y_test, y_test_pred))"
   ]
  },
  {
   "cell_type": "markdown",
   "id": "26a91aa2-e137-4c48-b871-370b855fad68",
   "metadata": {},
   "source": [
    "**Remarks**<br>\n",
    "\n",
    "- This model has outperformed previous models with R2 score of 0.95 and RMSE score of 31768.\n",
    "    - In other words, given a prediction of a resale flat price *K*, the true price would be *K* +/- $30k.\n",
    "\n",
    "|Model|Description|Cross_validation<br>score|R2 score|RMSE score|\n",
    "|---|---|---|---|---|\n",
    "|Linear Regression|Exclude 'address'|-3.1e+18|<li>Train:0.944</li><li>Test:0.941</li>|<li>Train:33966.9</li><li>Test:34668.3</li>|\n",
    "|Ridge Regression|Exclude 'address'|0.941|<li>Train:0.944</li><li>Test:0.941</li>|<li>Train:33954.6</li><li>Test:34644.8</li>|\n",
    "|Lasso Regression|Include 'address'|*unable to perform<br> due to computational limit*|<li>Train:0.956</li><li>Test:0.951</li>|<li>Train:30249.5</li><li>Test:31768.7</li>|"
   ]
  },
  {
   "cell_type": "markdown",
   "id": "8b31d733-241f-4437-887d-1ada45028845",
   "metadata": {
    "tags": []
   },
   "source": [
    "# Part 3: Discussion on Best Performing Model (Lasso)<a class=\"anchor\" id=\"ID3\"></a>\n",
    "\n",
    "<code>lasso_coef_df_sig</code> is a dataframe containing features with absolute coefficient values >0."
   ]
  },
  {
   "cell_type": "markdown",
   "id": "ea106223-c268-4d1d-97dd-344bbd3a4a81",
   "metadata": {
    "tags": []
   },
   "source": [
    "## 3.1 Lasso Coeffecient"
   ]
  },
  {
   "cell_type": "code",
   "execution_count": 18,
   "id": "9cc26c7a-5f0f-44d1-bcaa-8fe906feee0d",
   "metadata": {},
   "outputs": [
    {
     "name": "stdout",
     "output_type": "stream",
     "text": [
      "\n",
      "--------------------Lasso Reg--------------------\n"
     ]
    },
    {
     "data": {
      "text/plain": [
       "(11964, 2)"
      ]
     },
     "execution_count": 18,
     "metadata": {},
     "output_type": "execute_result"
    },
    {
     "name": "stdout",
     "output_type": "stream",
     "text": [
      "Description of the Coefficient\n"
     ]
    },
    {
     "data": {
      "text/plain": [
       "count     11964.000000\n",
       "mean        987.669250\n",
       "std       16295.298780\n",
       "min     -165659.157325\n",
       "25%           0.000000\n",
       "50%          -0.000000\n",
       "75%           0.000000\n",
       "max      380533.930906\n",
       "Name: Coeffiecient, dtype: float64"
      ]
     },
     "execution_count": 18,
     "metadata": {},
     "output_type": "execute_result"
    }
   ],
   "source": [
    "# Statistical description of Lasso Coefficients\n",
    "print('\\n'+'-'*20+'Lasso Reg'+'-'*20)\n",
    "lasso_coef_df = feature_coef_(Lasso)\n",
    "lasso_coef_df.shape\n",
    "print('Description of the Coefficient')\n",
    "lasso_coef_df['Coeffiecient'].describe()"
   ]
  },
  {
   "cell_type": "markdown",
   "id": "34468daf-8bc4-414b-be72-abb7c8e41538",
   "metadata": {},
   "source": [
    "#### Looking for features w/ non-zero coefficient"
   ]
  },
  {
   "cell_type": "code",
   "execution_count": 19,
   "id": "65b23cfa-e75c-4930-97c7-3f90da7c549c",
   "metadata": {},
   "outputs": [
    {
     "name": "stdout",
     "output_type": "stream",
     "text": [
      "6566 number of features have 0 importance in predicting Resale Price\n"
     ]
    }
   ],
   "source": [
    "cond_ = lasso_coef_df['Coeffiecient'].abs()==0\n",
    "_=len(lasso_coef_df.loc[cond_,:])\n",
    "print(f\"{_} number of features have 0 importance in predicting Resale Price\")"
   ]
  },
  {
   "cell_type": "code",
   "execution_count": 20,
   "id": "d3367d91-2102-4aac-bed7-36281fbcc612",
   "metadata": {},
   "outputs": [
    {
     "name": "stdout",
     "output_type": "stream",
     "text": [
      "5398 number of features have importance in predicting Resale Price\n"
     ]
    }
   ],
   "source": [
    "cond_ = lasso_coef_df['Coeffiecient'].abs()>0\n",
    "_=len(lasso_coef_df.loc[cond_,:])\n",
    "print(f\"{_} number of features have importance in predicting Resale Price\")"
   ]
  },
  {
   "cell_type": "markdown",
   "id": "3411c561-a9da-47a5-930c-3905d7f91a14",
   "metadata": {},
   "source": [
    "**Comment**<br>\n",
    "Out of ~11K features after model-preprocessing, 5398 features have absolute coefficient>0, while 6566 features have 0 importance."
   ]
  },
  {
   "cell_type": "code",
   "execution_count": 24,
   "id": "c33d3bbf-815f-4c18-b3b3-e47c41358876",
   "metadata": {},
   "outputs": [],
   "source": [
    "# Convert features and their coefficient into a dataframe\n",
    "cond_ = lasso_coef_df['Coeffiecient'].abs()>0\n",
    "lasso_coef_df_sig = lasso_coef_df.loc[cond_,:]\n",
    "\n",
    "#Creating a list of the features with absolute coefficient >0\n",
    "impt_feat = lasso_coef_df_sig['Features'].tolist()"
   ]
  },
  {
   "cell_type": "code",
   "execution_count": 25,
   "id": "2f1d4632-b674-41bf-8a0d-c84d0aa90c0a",
   "metadata": {},
   "outputs": [
    {
     "data": {
      "text/html": [
       "<div>\n",
       "<style scoped>\n",
       "    .dataframe tbody tr th:only-of-type {\n",
       "        vertical-align: middle;\n",
       "    }\n",
       "\n",
       "    .dataframe tbody tr th {\n",
       "        vertical-align: top;\n",
       "    }\n",
       "\n",
       "    .dataframe thead th {\n",
       "        text-align: right;\n",
       "    }\n",
       "</style>\n",
       "<table border=\"1\" class=\"dataframe\">\n",
       "  <thead>\n",
       "    <tr style=\"text-align: right;\">\n",
       "      <th></th>\n",
       "      <th>Features</th>\n",
       "      <th>Coeffiecient</th>\n",
       "    </tr>\n",
       "  </thead>\n",
       "  <tbody>\n",
       "    <tr>\n",
       "      <th>0</th>\n",
       "      <td>Tranc_YearMonth_2012-04-01</td>\n",
       "      <td>2311.659637</td>\n",
       "    </tr>\n",
       "    <tr>\n",
       "      <th>1</th>\n",
       "      <td>Tranc_YearMonth_2012-05-01</td>\n",
       "      <td>5783.333797</td>\n",
       "    </tr>\n",
       "    <tr>\n",
       "      <th>2</th>\n",
       "      <td>Tranc_YearMonth_2012-06-01</td>\n",
       "      <td>14649.413861</td>\n",
       "    </tr>\n",
       "    <tr>\n",
       "      <th>3</th>\n",
       "      <td>Tranc_YearMonth_2012-07-01</td>\n",
       "      <td>16592.185190</td>\n",
       "    </tr>\n",
       "    <tr>\n",
       "      <th>4</th>\n",
       "      <td>Tranc_YearMonth_2012-08-01</td>\n",
       "      <td>21510.291296</td>\n",
       "    </tr>\n",
       "  </tbody>\n",
       "</table>\n",
       "</div>"
      ],
      "text/plain": [
       "                     Features  Coeffiecient\n",
       "0  Tranc_YearMonth_2012-04-01   2311.659637\n",
       "1  Tranc_YearMonth_2012-05-01   5783.333797\n",
       "2  Tranc_YearMonth_2012-06-01  14649.413861\n",
       "3  Tranc_YearMonth_2012-07-01  16592.185190\n",
       "4  Tranc_YearMonth_2012-08-01  21510.291296"
      ]
     },
     "execution_count": 25,
     "metadata": {},
     "output_type": "execute_result"
    }
   ],
   "source": [
    "lasso_coef_df_sig.head()"
   ]
  },
  {
   "cell_type": "markdown",
   "id": "785ad728-6d32-4463-9aef-40fc42498e11",
   "metadata": {},
   "source": [
    "## 3.2 Non-zero Coeffecient values"
   ]
  },
  {
   "cell_type": "code",
   "execution_count": 26,
   "id": "8b98d83d-3a2e-4837-a3b9-00550b70837d",
   "metadata": {},
   "outputs": [
    {
     "data": {
      "text/html": [
       "<div>\n",
       "<style scoped>\n",
       "    .dataframe tbody tr th:only-of-type {\n",
       "        vertical-align: middle;\n",
       "    }\n",
       "\n",
       "    .dataframe tbody tr th {\n",
       "        vertical-align: top;\n",
       "    }\n",
       "\n",
       "    .dataframe thead th {\n",
       "        text-align: right;\n",
       "    }\n",
       "</style>\n",
       "<table border=\"1\" class=\"dataframe\">\n",
       "  <thead>\n",
       "    <tr style=\"text-align: right;\">\n",
       "      <th></th>\n",
       "      <th>Coeffiecient</th>\n",
       "    </tr>\n",
       "  </thead>\n",
       "  <tbody>\n",
       "    <tr>\n",
       "      <th>count</th>\n",
       "      <td>5398.000000</td>\n",
       "    </tr>\n",
       "    <tr>\n",
       "      <th>mean</th>\n",
       "      <td>2189.046853</td>\n",
       "    </tr>\n",
       "    <tr>\n",
       "      <th>std</th>\n",
       "      <td>24206.588161</td>\n",
       "    </tr>\n",
       "    <tr>\n",
       "      <th>min</th>\n",
       "      <td>-165659.157325</td>\n",
       "    </tr>\n",
       "    <tr>\n",
       "      <th>25%</th>\n",
       "      <td>-7985.969231</td>\n",
       "    </tr>\n",
       "    <tr>\n",
       "      <th>50%</th>\n",
       "      <td>177.840920</td>\n",
       "    </tr>\n",
       "    <tr>\n",
       "      <th>75%</th>\n",
       "      <td>10348.786101</td>\n",
       "    </tr>\n",
       "    <tr>\n",
       "      <th>max</th>\n",
       "      <td>380533.930906</td>\n",
       "    </tr>\n",
       "  </tbody>\n",
       "</table>\n",
       "</div>"
      ],
      "text/plain": [
       "        Coeffiecient\n",
       "count    5398.000000\n",
       "mean     2189.046853\n",
       "std     24206.588161\n",
       "min   -165659.157325\n",
       "25%     -7985.969231\n",
       "50%       177.840920\n",
       "75%     10348.786101\n",
       "max    380533.930906"
      ]
     },
     "execution_count": 26,
     "metadata": {},
     "output_type": "execute_result"
    }
   ],
   "source": [
    "lasso_coef_df_sig.loc[cond_,:].describe()"
   ]
  },
  {
   "cell_type": "code",
   "execution_count": 32,
   "id": "f5b49c33-a67e-4971-8bf9-c0f242da781f",
   "metadata": {},
   "outputs": [
    {
     "data": {
      "image/png": "[encoded data removed]",
      "text/plain": [
       "<Figure size 640x480 with 1 Axes>"
      ]
     },
     "metadata": {},
     "output_type": "display_data"
    },
    {
     "data": {
      "image/png": "[encoded data removed]",
      "text/plain": [
       "<Figure size 1000x200 with 1 Axes>"
      ]
     },
     "metadata": {},
     "output_type": "display_data"
    }
   ],
   "source": [
    "sns.histplot(x=lasso_coef_df_sig['Coeffiecient']);\n",
    "plt.title('Distribution of Lasso Coefficients\\n(exclude zeros)')\n",
    "plt.show();\n",
    "\n",
    "fig = plt.figure(figsize=(10,2))\n",
    "sns.boxplot(x=lasso_coef_df_sig['Coeffiecient']);\n",
    "plt.title('Distribution of Lasso Coefficients\\n(exclude zeros)')\n",
    "plt.show();\n"
   ]
  },
  {
   "cell_type": "code",
   "execution_count": 35,
   "id": "68a36e1a-24fe-4eab-9be8-aca364ea07f2",
   "metadata": {},
   "outputs": [
    {
     "name": "stdout",
     "output_type": "stream",
     "text": [
      "Coefficient Upper Whiskers: 37850.91909908384\n",
      "Coefficient Lower Whiskers: -35488.102229611395\n"
     ]
    }
   ],
   "source": [
    "_=lasso_coef_df_sig['Coeffiecient']\n",
    "q1=_.quantile(0.25)\n",
    "q3=_.quantile(0.75)\n",
    "IQR=q3-q1\n",
    "higher_W = q3+1.5*IQR\n",
    "lower_W = q1-1.5*IQR\n",
    "\n",
    "\n",
    "print(f\"Coefficient Upper Whiskers: {higher_W}\")\n",
    "print(f\"Coefficient Lower Whiskers: {lower_W}\")"
   ]
  },
  {
   "cell_type": "code",
   "execution_count": 34,
   "id": "7cc56c1c-8010-4e2f-afc2-13254c900fbb",
   "metadata": {},
   "outputs": [
    {
     "name": "stdout",
     "output_type": "stream",
     "text": [
      "Number of features with coefficient greater than upper whiskers: 305\n",
      "\n",
      "Number of features with coefficient lower than upper whiskers: 198\n"
     ]
    }
   ],
   "source": [
    "print(f\"Number of features with coefficient greater than upper whiskers: {len(_[_>higher_W])}\\n\")\n",
    "print(f\"Number of features with coefficient lower than upper whiskers: {len(_[_<lower_W])}\")\n"
   ]
  },
  {
   "cell_type": "markdown",
   "id": "fb452095-8547-4385-b0c5-ce135188c827",
   "metadata": {},
   "source": [
    "**Remarks**<br>\n",
    "\n",
    "- Out of the ~5K features with importance, about 500 features have absolute coefficient values distinctly greater than the rest.\n",
    "    - 305 features' coefficient is greater than the upper whisker (37851)\n",
    "    - 198 features' coefficient is smaller than the lower whisker (-35488)"
   ]
  },
  {
   "cell_type": "markdown",
   "id": "b609333e-a155-4d47-b2de-dbb74a96fa42",
   "metadata": {},
   "source": [
    "## 3.3 Features with Top 20 Positive and Negative Coefficient"
   ]
  },
  {
   "cell_type": "code",
   "execution_count": 36,
   "id": "5bc65128-cb38-4a5a-bf01-31489cb4b7e7",
   "metadata": {},
   "outputs": [
    {
     "name": "stdout",
     "output_type": "stream",
     "text": [
      "Top 20 Positive and Negative Coefficient\n"
     ]
    },
    {
     "data": {
      "text/html": [
       "<div>\n",
       "<style scoped>\n",
       "    .dataframe tbody tr th:only-of-type {\n",
       "        vertical-align: middle;\n",
       "    }\n",
       "\n",
       "    .dataframe tbody tr th {\n",
       "        vertical-align: top;\n",
       "    }\n",
       "\n",
       "    .dataframe thead th {\n",
       "        text-align: right;\n",
       "    }\n",
       "</style>\n",
       "<table border=\"1\" class=\"dataframe\">\n",
       "  <thead>\n",
       "    <tr style=\"text-align: right;\">\n",
       "      <th></th>\n",
       "      <th>Features</th>\n",
       "      <th>Coeffiecient</th>\n",
       "    </tr>\n",
       "  </thead>\n",
       "  <tbody>\n",
       "    <tr>\n",
       "      <th>1203</th>\n",
       "      <td>address_115, HO CHING RD</td>\n",
       "      <td>-165659.157325</td>\n",
       "    </tr>\n",
       "    <tr>\n",
       "      <th>1515</th>\n",
       "      <td>address_127A, KIM TIAN RD</td>\n",
       "      <td>-137625.989469</td>\n",
       "    </tr>\n",
       "    <tr>\n",
       "      <th>6865</th>\n",
       "      <td>address_53, JLN MA'MOR</td>\n",
       "      <td>-128490.657740</td>\n",
       "    </tr>\n",
       "    <tr>\n",
       "      <th>1555</th>\n",
       "      <td>address_12A, MARSILING LANE</td>\n",
       "      <td>-127280.182522</td>\n",
       "    </tr>\n",
       "    <tr>\n",
       "      <th>5072</th>\n",
       "      <td>address_367, CLEMENTI AVE 2</td>\n",
       "      <td>-125180.462958</td>\n",
       "    </tr>\n",
       "    <tr>\n",
       "      <th>1557</th>\n",
       "      <td>address_12C, MARSILING LANE</td>\n",
       "      <td>-123129.243109</td>\n",
       "    </tr>\n",
       "    <tr>\n",
       "      <th>5066</th>\n",
       "      <td>address_366, CLEMENTI AVE 2</td>\n",
       "      <td>-121532.840683</td>\n",
       "    </tr>\n",
       "    <tr>\n",
       "      <th>5132</th>\n",
       "      <td>address_38, JLN BAHAGIA</td>\n",
       "      <td>-111493.270728</td>\n",
       "    </tr>\n",
       "    <tr>\n",
       "      <th>1639</th>\n",
       "      <td>address_133, JLN BT MERAH</td>\n",
       "      <td>-103754.478469</td>\n",
       "    </tr>\n",
       "    <tr>\n",
       "      <th>1556</th>\n",
       "      <td>address_12B, MARSILING LANE</td>\n",
       "      <td>-97192.817718</td>\n",
       "    </tr>\n",
       "    <tr>\n",
       "      <th>3729</th>\n",
       "      <td>address_26A, JLN MEMBINA</td>\n",
       "      <td>-94162.434466</td>\n",
       "    </tr>\n",
       "    <tr>\n",
       "      <th>7337</th>\n",
       "      <td>address_5A, MARSILING DR</td>\n",
       "      <td>-91694.197619</td>\n",
       "    </tr>\n",
       "    <tr>\n",
       "      <th>3018</th>\n",
       "      <td>address_221, BOON LAY PL</td>\n",
       "      <td>-89512.026011</td>\n",
       "    </tr>\n",
       "    <tr>\n",
       "      <th>7490</th>\n",
       "      <td>address_611, BEDOK RESERVOIR RD</td>\n",
       "      <td>-88497.831220</td>\n",
       "    </tr>\n",
       "    <tr>\n",
       "      <th>1516</th>\n",
       "      <td>address_127C, KIM TIAN RD</td>\n",
       "      <td>-84365.755578</td>\n",
       "    </tr>\n",
       "    <tr>\n",
       "      <th>8405</th>\n",
       "      <td>address_7, TECK WHYE AVE</td>\n",
       "      <td>-81419.733535</td>\n",
       "    </tr>\n",
       "    <tr>\n",
       "      <th>9994</th>\n",
       "      <td>bus_stop_name_Aft Hasanah Mque</td>\n",
       "      <td>-81297.050186</td>\n",
       "    </tr>\n",
       "    <tr>\n",
       "      <th>2477</th>\n",
       "      <td>address_18A, HOLLAND DR</td>\n",
       "      <td>-80303.322882</td>\n",
       "    </tr>\n",
       "    <tr>\n",
       "      <th>760</th>\n",
       "      <td>address_10, MARSILING DR</td>\n",
       "      <td>-80275.169231</td>\n",
       "    </tr>\n",
       "    <tr>\n",
       "      <th>440</th>\n",
       "      <td>street_name_LOR LEW LIAN</td>\n",
       "      <td>-79338.152152</td>\n",
       "    </tr>\n",
       "  </tbody>\n",
       "</table>\n",
       "</div>"
      ],
      "text/plain": [
       "                             Features   Coeffiecient\n",
       "1203         address_115, HO CHING RD -165659.157325\n",
       "1515        address_127A, KIM TIAN RD -137625.989469\n",
       "6865           address_53, JLN MA'MOR -128490.657740\n",
       "1555      address_12A, MARSILING LANE -127280.182522\n",
       "5072      address_367, CLEMENTI AVE 2 -125180.462958\n",
       "1557      address_12C, MARSILING LANE -123129.243109\n",
       "5066      address_366, CLEMENTI AVE 2 -121532.840683\n",
       "5132          address_38, JLN BAHAGIA -111493.270728\n",
       "1639        address_133, JLN BT MERAH -103754.478469\n",
       "1556      address_12B, MARSILING LANE  -97192.817718\n",
       "3729         address_26A, JLN MEMBINA  -94162.434466\n",
       "7337         address_5A, MARSILING DR  -91694.197619\n",
       "3018         address_221, BOON LAY PL  -89512.026011\n",
       "7490  address_611, BEDOK RESERVOIR RD  -88497.831220\n",
       "1516        address_127C, KIM TIAN RD  -84365.755578\n",
       "8405         address_7, TECK WHYE AVE  -81419.733535\n",
       "9994   bus_stop_name_Aft Hasanah Mque  -81297.050186\n",
       "2477          address_18A, HOLLAND DR  -80303.322882\n",
       "760          address_10, MARSILING DR  -80275.169231\n",
       "440          street_name_LOR LEW LIAN  -79338.152152"
      ]
     },
     "execution_count": 36,
     "metadata": {},
     "output_type": "execute_result"
    },
    {
     "data": {
      "text/html": [
       "<div>\n",
       "<style scoped>\n",
       "    .dataframe tbody tr th:only-of-type {\n",
       "        vertical-align: middle;\n",
       "    }\n",
       "\n",
       "    .dataframe tbody tr th {\n",
       "        vertical-align: top;\n",
       "    }\n",
       "\n",
       "    .dataframe thead th {\n",
       "        text-align: right;\n",
       "    }\n",
       "</style>\n",
       "<table border=\"1\" class=\"dataframe\">\n",
       "  <thead>\n",
       "    <tr style=\"text-align: right;\">\n",
       "      <th></th>\n",
       "      <th>Features</th>\n",
       "      <th>Coeffiecient</th>\n",
       "    </tr>\n",
       "  </thead>\n",
       "  <tbody>\n",
       "    <tr>\n",
       "      <th>1756</th>\n",
       "      <td>address_14, MARINE TER</td>\n",
       "      <td>121262.139903</td>\n",
       "    </tr>\n",
       "    <tr>\n",
       "      <th>426</th>\n",
       "      <td>street_name_LENGKONG TIGA</td>\n",
       "      <td>121363.981314</td>\n",
       "    </tr>\n",
       "    <tr>\n",
       "      <th>6447</th>\n",
       "      <td>address_5, FARRER RD</td>\n",
       "      <td>122510.259347</td>\n",
       "    </tr>\n",
       "    <tr>\n",
       "      <th>606</th>\n",
       "      <td>street_name_TIONG BAHRU RD</td>\n",
       "      <td>124774.964763</td>\n",
       "    </tr>\n",
       "    <tr>\n",
       "      <th>5855</th>\n",
       "      <td>address_441A, CLEMENTI AVE 3</td>\n",
       "      <td>127647.913916</td>\n",
       "    </tr>\n",
       "    <tr>\n",
       "      <th>419</th>\n",
       "      <td>street_name_KIM PONG RD</td>\n",
       "      <td>128704.247098</td>\n",
       "    </tr>\n",
       "    <tr>\n",
       "      <th>11410</th>\n",
       "      <td>bus_stop_name_Opp Parkland Green</td>\n",
       "      <td>130174.540428</td>\n",
       "    </tr>\n",
       "    <tr>\n",
       "      <th>519</th>\n",
       "      <td>street_name_SENG POH RD</td>\n",
       "      <td>130491.354071</td>\n",
       "    </tr>\n",
       "    <tr>\n",
       "      <th>427</th>\n",
       "      <td>street_name_LIM LIAK ST</td>\n",
       "      <td>135159.155492</td>\n",
       "    </tr>\n",
       "    <tr>\n",
       "      <th>743</th>\n",
       "      <td>address_1, QUEEN'S RD</td>\n",
       "      <td>138624.256013</td>\n",
       "    </tr>\n",
       "    <tr>\n",
       "      <th>5246</th>\n",
       "      <td>address_401, SIN MING AVE</td>\n",
       "      <td>138742.366567</td>\n",
       "    </tr>\n",
       "    <tr>\n",
       "      <th>114</th>\n",
       "      <td>town_BUKIT TIMAH</td>\n",
       "      <td>138961.138282</td>\n",
       "    </tr>\n",
       "    <tr>\n",
       "      <th>4137</th>\n",
       "      <td>address_301, SHUNFU RD</td>\n",
       "      <td>139158.180861</td>\n",
       "    </tr>\n",
       "    <tr>\n",
       "      <th>297</th>\n",
       "      <td>street_name_DOVER CL EAST</td>\n",
       "      <td>149686.002089</td>\n",
       "    </tr>\n",
       "    <tr>\n",
       "      <th>455</th>\n",
       "      <td>street_name_MOH GUAN TER</td>\n",
       "      <td>152187.969030</td>\n",
       "    </tr>\n",
       "    <tr>\n",
       "      <th>416</th>\n",
       "      <td>street_name_KIM CHENG ST</td>\n",
       "      <td>156293.739268</td>\n",
       "    </tr>\n",
       "    <tr>\n",
       "      <th>152</th>\n",
       "      <td>street_name_ANG MO KIO AVE 2</td>\n",
       "      <td>164359.784115</td>\n",
       "    </tr>\n",
       "    <tr>\n",
       "      <th>247</th>\n",
       "      <td>street_name_CHANGI VILLAGE RD</td>\n",
       "      <td>165823.273755</td>\n",
       "    </tr>\n",
       "    <tr>\n",
       "      <th>1886</th>\n",
       "      <td>address_148, MEI LING ST</td>\n",
       "      <td>168077.020506</td>\n",
       "    </tr>\n",
       "    <tr>\n",
       "      <th>724</th>\n",
       "      <td>flat_model_Terrace</td>\n",
       "      <td>380533.930906</td>\n",
       "    </tr>\n",
       "  </tbody>\n",
       "</table>\n",
       "</div>"
      ],
      "text/plain": [
       "                               Features   Coeffiecient\n",
       "1756             address_14, MARINE TER  121262.139903\n",
       "426           street_name_LENGKONG TIGA  121363.981314\n",
       "6447               address_5, FARRER RD  122510.259347\n",
       "606          street_name_TIONG BAHRU RD  124774.964763\n",
       "5855       address_441A, CLEMENTI AVE 3  127647.913916\n",
       "419             street_name_KIM PONG RD  128704.247098\n",
       "11410  bus_stop_name_Opp Parkland Green  130174.540428\n",
       "519             street_name_SENG POH RD  130491.354071\n",
       "427             street_name_LIM LIAK ST  135159.155492\n",
       "743               address_1, QUEEN'S RD  138624.256013\n",
       "5246          address_401, SIN MING AVE  138742.366567\n",
       "114                    town_BUKIT TIMAH  138961.138282\n",
       "4137             address_301, SHUNFU RD  139158.180861\n",
       "297           street_name_DOVER CL EAST  149686.002089\n",
       "455            street_name_MOH GUAN TER  152187.969030\n",
       "416            street_name_KIM CHENG ST  156293.739268\n",
       "152        street_name_ANG MO KIO AVE 2  164359.784115\n",
       "247       street_name_CHANGI VILLAGE RD  165823.273755\n",
       "1886           address_148, MEI LING ST  168077.020506\n",
       "724                  flat_model_Terrace  380533.930906"
      ]
     },
     "execution_count": 36,
     "metadata": {},
     "output_type": "execute_result"
    }
   ],
   "source": [
    "print('Top 20 Positive and Negative Coefficient')\n",
    "lasso_coef_df_sig.sort_values(by=['Coeffiecient']).head(20)\n",
    "lasso_coef_df_sig.sort_values(by=['Coeffiecient']).tail(20)"
   ]
  },
  {
   "cell_type": "code",
   "execution_count": 37,
   "id": "140ba8cd-0367-4a04-88f6-6c7a52638913",
   "metadata": {},
   "outputs": [
    {
     "name": "stdout",
     "output_type": "stream",
     "text": [
      "Number of features with coefficient lower than lower whiskers: 198\n",
      "\n",
      "Number of Tranc_YearMonth among these features 0\n",
      "\n",
      "Number of town among these features 4\n",
      "\n",
      "Number of flat_type among these features 2\n",
      "\n",
      "Number of street_name among these features 24\n",
      "\n",
      "Number of storey_range among these features 0\n",
      "\n",
      "Number of flat_model among these features 5\n",
      "\n",
      "Number of address among these features 147\n",
      "\n",
      "Number of planning_area among these features 1\n",
      "\n",
      "Number of mrt_name among these features 0\n",
      "\n",
      "Number of bus_stop_name among these features 13\n",
      "\n",
      "Number of pri_sch_name among these features 0\n",
      "\n",
      "Number of sec_sch_name among these features 0\n",
      "\n"
     ]
    }
   ],
   "source": [
    "obj_feat = X.select_dtypes(include='object').columns.tolist()\n",
    "L_ls = lasso_coef_df_sig.loc[lasso_coef_df_sig['Coeffiecient']<lower_W,'Features'].tolist()\n",
    "print(f\"Number of features with coefficient lower than lower whiskers: {len(L_ls)}\\n\")\n",
    "\n",
    "for obj in obj_feat:\n",
    "    print(f\"Number of {obj} among these features {len([x for x in L_ls if obj in x])}\\n\")\n",
    "    "
   ]
  },
  {
   "cell_type": "code",
   "execution_count": 38,
   "id": "eece5696-62fb-4936-90dc-6ea92ca370c4",
   "metadata": {},
   "outputs": [
    {
     "name": "stdout",
     "output_type": "stream",
     "text": [
      "Number of features with coefficient greater than upper whiskers: 305\n",
      "\n",
      "Number of Tranc_YearMonth among these features 8\n",
      "\n",
      "Number of town among these features 7\n",
      "\n",
      "Number of flat_type among these features 1\n",
      "\n",
      "Number of street_name among these features 43\n",
      "\n",
      "Number of storey_range among these features 0\n",
      "\n",
      "Number of flat_model among these features 4\n",
      "\n",
      "Number of address among these features 211\n",
      "\n",
      "Number of planning_area among these features 1\n",
      "\n",
      "Number of mrt_name among these features 5\n",
      "\n",
      "Number of bus_stop_name among these features 24\n",
      "\n",
      "Number of pri_sch_name among these features 0\n",
      "\n",
      "Number of sec_sch_name among these features 4\n",
      "\n"
     ]
    }
   ],
   "source": [
    "obj_feat = X.select_dtypes(include='object').columns.tolist()\n",
    "H_ls = lasso_coef_df_sig.loc[lasso_coef_df_sig['Coeffiecient']>higher_W,'Features'].tolist()\n",
    "print(f\"Number of features with coefficient greater than upper whiskers: {len(H_ls)}\\n\")\n",
    "\n",
    "for obj in obj_feat:\n",
    "    print(f\"Number of {obj} among these features {len([x for x in H_ls if obj in x])}\\n\")"
   ]
  },
  {
   "cell_type": "code",
   "execution_count": 39,
   "id": "afdde804-61b9-4686-8b06-cd4cad3dfd2b",
   "metadata": {},
   "outputs": [
    {
     "name": "stdout",
     "output_type": "stream",
     "text": [
      "Numerical features with coefficient greater than higher whiskers:\n"
     ]
    },
    {
     "data": {
      "text/plain": [
       "['floor_area_sqft']"
      ]
     },
     "execution_count": 39,
     "metadata": {},
     "output_type": "execute_result"
    },
    {
     "name": "stdout",
     "output_type": "stream",
     "text": [
      "\n",
      "Numerical features with coefficient smaller than lower whiskers:\n"
     ]
    },
    {
     "data": {
      "text/plain": [
       "['hdb_age', 'Latitude']"
      ]
     },
     "execution_count": 39,
     "metadata": {},
     "output_type": "execute_result"
    }
   ],
   "source": [
    "numeric_feat = X.select_dtypes(exclude='object').columns.tolist()\n",
    "print(\"Numerical features with coefficient greater than higher whiskers:\")\n",
    "[x for x in H_ls if x in numeric_feat]\n",
    "print(\"\\nNumerical features with coefficient smaller than lower whiskers:\")\n",
    "[x for x in L_ls if x in numeric_feat]"
   ]
  },
  {
   "cell_type": "markdown",
   "id": "f98490a7-7a8c-4f2a-8060-35da8581f3e7",
   "metadata": {},
   "source": [
    "**Remarks**<br>\n",
    "\n",
    "Among the 400+ features have absolute coefficient values distinctly greater than the rest:\n",
    "- A large number of them are location related: 'address', 'street_name' and 'bus_stop_name'\n",
    "    -  We can infer that information reflecting location of the HDB flat mainly influence the resale price greater than other features we have.\n",
    "    - Other feature such as number of malls or hawkers within specified distances (500m,1km or 2km) when on its own may have minimial influence on the resale price.\n",
    "    - However, a specific location reflected by these features demonstrated that it is a combination of various factors in the area that influence the flat resale price more significantly.\n",
    "    \n",
    "![img1](../img/AMKave2.jpg)\n",
    "\n",
    "**For example:ANG MO KIO AVE 2**<br>\n",
    "It has multiple schools, bus stops, mrt station and parks around close vicinity in the area, making is very favourable. \n",
    "- *street_name_ANG MO KIO AVE 2* has a coefficient of 164360.\n",
    "- in other words, if all else constant, a flat from ANG MO KIO AVE 2 would have $173,358 higher in resale price."
   ]
  },
  {
   "cell_type": "markdown",
   "id": "83b02595-64fa-4c44-8db5-24da7832139a",
   "metadata": {
    "tags": []
   },
   "source": [
    "# Part 4: Concluding statements<a class=\"anchor\" id=\"ID4\"></a>\n",
    "\n",
    "**Overview of Models explored:**\n",
    "|Model|Description|Cross_validation<br>score|R2 score|RMSE score|\n",
    "|---|---|---|---|---|\n",
    "|Linear Regression|Exclude 'address'|-3.1e+18|<li>Train:0.944</li><li>Test:0.941</li>|<li>Train:33966.9</li><li>Test:34668.3</li>|\n",
    "|Ridge Regression|Exclude 'address'|0.941|<li>Train:0.944</li><li>Test:0.941</li>|<li>Train:33954.6</li><li>Test:34644.8</li>|\n",
    "|Lasso Regression|Include 'address'|*unable to perform<br> due to computational limit*|<li>Train:0.956</li><li>Test:0.951</li>|<li>Train:30249.5</li><li>Test:31768.7</li>|\n",
    "\n",
    "**Post Modelling Analysis**\n",
    "- Best Model: Lasso Regression\n",
    "- Focusing on Lasso regularization coefficients, we recognise that <code>Location</code> is main driving factor of HDB prices.\n",
    "\n",
    "\n",
    "**Limitation and Furture work**\n",
    "- It is clear that there can be many factors influencing HDB flat resale prices.\n",
    "- Through this project, we can be more certain that location matters significantly.\n",
    "- However, as seen in earlier EDA, other potential significant factors include key events like implementation of cooling measures.\n",
    "- As such, in order to maintain accurate prediction of the HDB prices, it will require periodic training of the models with more recent data and explore expert's recognised pricing factors as well."
   ]
  },
  {
   "cell_type": "code",
   "execution_count": null,
   "id": "41f729f7-9d95-414b-beb2-722490422633",
   "metadata": {},
   "outputs": [],
   "source": []
  }
 ],
 "metadata": {
  "kernelspec": {
   "display_name": "Python 3 (ipykernel)",
   "language": "python",
   "name": "python3"
  },
  "language_info": {
   "codemirror_mode": {
    "name": "ipython",
    "version": 3
   },
   "file_extension": ".py",
   "mimetype": "text/x-python",
   "name": "python",
   "nbconvert_exporter": "python",
   "pygments_lexer": "ipython3",
   "version": "3.8.13"
  }
 },
 "nbformat": 4,
 "nbformat_minor": 5
}
