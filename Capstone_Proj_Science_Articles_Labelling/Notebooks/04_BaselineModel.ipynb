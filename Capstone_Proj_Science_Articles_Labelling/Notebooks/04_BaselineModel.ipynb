{
 "cells": [
  {
   "cell_type": "markdown",
   "id": "e1389255-a701-4015-a0af-611db7747204",
   "metadata": {
    "tags": []
   },
   "source": [
    "# About this notebook:\n",
    "\n",
    "- We are creating our baseline Model using OneVsRestClassifier(BernoulliNB()).\n",
    "- The aim of our model is to given an article abstract - give it NLM Primary Disease terms labels.\n",
    "- The targeted metric is to have sample avg precision and f1-score > 0.70.\n",
    "\n",
    "[Part 1: Preparing our X and y](#ID_1)<br>\n",
    "[Part 2: Baseline Model](#ID_2)<br>\n",
    "[Part 3: Model Evaluation](#ID_3)<br>"
   ]
  },
  {
   "cell_type": "markdown",
   "id": "f5e1e994-d40b-4294-b169-1f0271cb1944",
   "metadata": {},
   "source": [
    "# Library Imports & Functions Creation <a class=\"anchor\" id=\"ID_1\"></a>"
   ]
  },
  {
   "cell_type": "code",
   "execution_count": 1,
   "id": "40db0449-ee54-4227-9fe2-5280a1cac436",
   "metadata": {},
   "outputs": [],
   "source": [
    "import numpy as np \n",
    "import pandas as pd\n",
    "\n",
    "from IPython.core.interactiveshell import InteractiveShell\n",
    "InteractiveShell.ast_node_interactivity = \"all\"\n",
    "\n",
    "\n",
    "#Visualisation:\n",
    "import seaborn               as sns\n",
    "import matplotlib.pyplot     as plt\n",
    "sns.set_theme(style=\"whitegrid\")\n",
    "\n",
    "from tqdm import tqdm\n",
    "tqdm.pandas()\n",
    "\n",
    "#Showing missing, duplicates, shape, dtypes\n",
    "def df_summary(df):\n",
    "    print(f\"Shape(col,rows): {df.shape}\")\n",
    "    print(f\"Number of duplicates: {df.duplicated().sum()}\")\n",
    "    print('---'*20)\n",
    "    print(f'Number of each unqiue datatypes:\\n{df.dtypes.value_counts()}')\n",
    "    print('---'*20)\n",
    "    print(\"Columns with missing values:\")\n",
    "    isnull_df = pd.DataFrame(df.isnull().sum()).reset_index()\n",
    "    isnull_df.columns = ['col','num_nulls']\n",
    "    isnull_df['perc_null'] = ((isnull_df['num_nulls'])/(len(df))).round(2)\n",
    "    print(isnull_df[isnull_df['num_nulls']>0])"
   ]
  },
  {
   "cell_type": "code",
   "execution_count": 2,
   "id": "99b9f82b-a1bf-42ba-ac9a-8bedba42a341",
   "metadata": {},
   "outputs": [],
   "source": [
    "#Preprocessing:\n",
    "from sklearn.preprocessing import MultiLabelBinarizer\n",
    "from sklearn.feature_extraction.text import TfidfVectorizer\n",
    "from skmultilearn.model_selection import IterativeStratification\n",
    "\n",
    "\n",
    "#Modelling\n",
    "from sklearn.naive_bayes import BernoulliNB\n",
    "from sklearn.multiclass import OneVsRestClassifier\n",
    "\n",
    "\n",
    "#Metrics\n",
    "from sklearn.metrics import confusion_matrix\n",
    "from sklearn.metrics import ConfusionMatrixDisplay\n",
    "\n",
    "from sklearn.metrics import make_scorer\n",
    "from sklearn.metrics import recall_score #sensitivity\n",
    "from sklearn.metrics import precision_score\n",
    "from sklearn.metrics import f1_score\n",
    "from sklearn.metrics import classification_report #precision+recall+f1-score\n",
    "\n",
    "from sklearn.model_selection import GridSearchCV \n",
    "from sklearn.pipeline import Pipeline"
   ]
  },
  {
   "cell_type": "code",
   "execution_count": 3,
   "id": "98c8ce26-8d3c-47f5-946f-44ddee80093e",
   "metadata": {},
   "outputs": [],
   "source": [
    "df = pd.read_csv(\"Modelling_df.csv\")"
   ]
  },
  {
   "cell_type": "code",
   "execution_count": 4,
   "id": "3c2c5d62-87e9-4cb8-9245-5d47e573d4e3",
   "metadata": {},
   "outputs": [
    {
     "data": {
      "text/plain": [
       "Index(['ID', 'title', 'Pub_Date', 'abstract', 'Article_Given_MeSH',\n",
       "       'Pri_diseases_name'],\n",
       "      dtype='object')"
      ]
     },
     "execution_count": 4,
     "metadata": {},
     "output_type": "execute_result"
    }
   ],
   "source": [
    "df.columns"
   ]
  },
  {
   "cell_type": "code",
   "execution_count": 5,
   "id": "ff213523-aa33-4b22-86a4-38fc30d1d1f6",
   "metadata": {},
   "outputs": [],
   "source": [
    "df = df.loc[:,['ID','title','abstract','Pri_diseases_name']]"
   ]
  },
  {
   "cell_type": "code",
   "execution_count": 6,
   "id": "a2845978-ea64-4a45-8ed7-79705250496d",
   "metadata": {},
   "outputs": [
    {
     "name": "stdout",
     "output_type": "stream",
     "text": [
      "Shape(col,rows): (240836, 4)\n",
      "Number of duplicates: 0\n",
      "------------------------------------------------------------\n",
      "Number of each unqiue datatypes:\n",
      "object    3\n",
      "int64     1\n",
      "dtype: int64\n",
      "------------------------------------------------------------\n",
      "Columns with missing values:\n",
      "Empty DataFrame\n",
      "Columns: [col, num_nulls, perc_null]\n",
      "Index: []\n"
     ]
    }
   ],
   "source": [
    "df_summary(df)"
   ]
  },
  {
   "cell_type": "code",
   "execution_count": 7,
   "id": "9bbd4b0d-c17e-47dc-b900-940c52b266a2",
   "metadata": {},
   "outputs": [
    {
     "data": {
      "text/html": [
       "<div>\n",
       "<style scoped>\n",
       "    .dataframe tbody tr th:only-of-type {\n",
       "        vertical-align: middle;\n",
       "    }\n",
       "\n",
       "    .dataframe tbody tr th {\n",
       "        vertical-align: top;\n",
       "    }\n",
       "\n",
       "    .dataframe thead th {\n",
       "        text-align: right;\n",
       "    }\n",
       "</style>\n",
       "<table border=\"1\" class=\"dataframe\">\n",
       "  <thead>\n",
       "    <tr style=\"text-align: right;\">\n",
       "      <th></th>\n",
       "      <th>ID</th>\n",
       "      <th>title</th>\n",
       "      <th>abstract</th>\n",
       "      <th>Pri_diseases_name</th>\n",
       "    </tr>\n",
       "  </thead>\n",
       "  <tbody>\n",
       "    <tr>\n",
       "      <th>0</th>\n",
       "      <td>21210353</td>\n",
       "      <td>human leukocyte antigen-g (hla-g) as a marker ...</td>\n",
       "      <td>human leukocyt antigeng  hlag  nonclass hlacla...</td>\n",
       "      <td>{'neoplasms'}</td>\n",
       "    </tr>\n",
       "    <tr>\n",
       "      <th>1</th>\n",
       "      <td>21265258</td>\n",
       "      <td>head and neck follicular dendritic cell sarcom...</td>\n",
       "      <td>current  less 50 case head neck follicular den...</td>\n",
       "      <td>{'neoplasms', 'pathological conditions, signs ...</td>\n",
       "    </tr>\n",
       "    <tr>\n",
       "      <th>2</th>\n",
       "      <td>21245633</td>\n",
       "      <td>effectiveness of repeated intragastric balloon...</td>\n",
       "      <td>19yearold japanes male bmi 554 kgm  2  also li...</td>\n",
       "      <td>{'nutritional and metabolic diseases', 'pathol...</td>\n",
       "    </tr>\n",
       "    <tr>\n",
       "      <th>3</th>\n",
       "      <td>21194024</td>\n",
       "      <td>golden retriever muscular dystrophy (grmd): de...</td>\n",
       "      <td>studi canin model duchenn muscular dystrophi  ...</td>\n",
       "      <td>{'animal diseases', 'pathological conditions, ...</td>\n",
       "    </tr>\n",
       "    <tr>\n",
       "      <th>4</th>\n",
       "      <td>21220749</td>\n",
       "      <td>dichotomous regulation of gvhd through bidirec...</td>\n",
       "      <td>b lymphocyt attenu  btla  coinhibitori recepto...</td>\n",
       "      <td>{'neoplasms', 'pathological conditions, signs ...</td>\n",
       "    </tr>\n",
       "  </tbody>\n",
       "</table>\n",
       "</div>"
      ],
      "text/plain": [
       "         ID                                              title  \\\n",
       "0  21210353  human leukocyte antigen-g (hla-g) as a marker ...   \n",
       "1  21265258  head and neck follicular dendritic cell sarcom...   \n",
       "2  21245633  effectiveness of repeated intragastric balloon...   \n",
       "3  21194024  golden retriever muscular dystrophy (grmd): de...   \n",
       "4  21220749  dichotomous regulation of gvhd through bidirec...   \n",
       "\n",
       "                                            abstract  \\\n",
       "0  human leukocyt antigeng  hlag  nonclass hlacla...   \n",
       "1  current  less 50 case head neck follicular den...   \n",
       "2  19yearold japanes male bmi 554 kgm  2  also li...   \n",
       "3  studi canin model duchenn muscular dystrophi  ...   \n",
       "4  b lymphocyt attenu  btla  coinhibitori recepto...   \n",
       "\n",
       "                                   Pri_diseases_name  \n",
       "0                                      {'neoplasms'}  \n",
       "1  {'neoplasms', 'pathological conditions, signs ...  \n",
       "2  {'nutritional and metabolic diseases', 'pathol...  \n",
       "3  {'animal diseases', 'pathological conditions, ...  \n",
       "4  {'neoplasms', 'pathological conditions, signs ...  "
      ]
     },
     "execution_count": 7,
     "metadata": {},
     "output_type": "execute_result"
    }
   ],
   "source": [
    "df.head()"
   ]
  },
  {
   "cell_type": "code",
   "execution_count": 8,
   "id": "fe82949f-a9b7-4588-9fcd-d0df9887120e",
   "metadata": {},
   "outputs": [
    {
     "data": {
      "text/plain": [
       "ID                    int64\n",
       "title                object\n",
       "abstract             object\n",
       "Pri_diseases_name    object\n",
       "dtype: object"
      ]
     },
     "execution_count": 8,
     "metadata": {},
     "output_type": "execute_result"
    }
   ],
   "source": [
    "df.dtypes"
   ]
  },
  {
   "cell_type": "markdown",
   "id": "5d710d6b-c86d-4569-8ef6-957888bffe51",
   "metadata": {},
   "source": [
    "# Part 1: Preparing our X and y <a class=\"anchor\" id=\"ID_1\"></a>"
   ]
  },
  {
   "cell_type": "markdown",
   "id": "15db52ad-ac8c-4d5d-b6db-8b85e1e5d0d0",
   "metadata": {},
   "source": [
    "## X: Abstract"
   ]
  },
  {
   "cell_type": "code",
   "execution_count": 9,
   "id": "158ffa96-fd2b-40b1-9c9c-39ec69db05f1",
   "metadata": {},
   "outputs": [],
   "source": [
    "X = df['abstract']"
   ]
  },
  {
   "cell_type": "markdown",
   "id": "a8db9182-5364-42e3-a47a-e069f1a9195e",
   "metadata": {},
   "source": [
    "## y: Labels"
   ]
  },
  {
   "cell_type": "code",
   "execution_count": 10,
   "id": "98fd66de-9a64-49b7-97eb-08d33e2de0f8",
   "metadata": {},
   "outputs": [
    {
     "data": {
      "text/html": [
       "<div>\n",
       "<style scoped>\n",
       "    .dataframe tbody tr th:only-of-type {\n",
       "        vertical-align: middle;\n",
       "    }\n",
       "\n",
       "    .dataframe tbody tr th {\n",
       "        vertical-align: top;\n",
       "    }\n",
       "\n",
       "    .dataframe thead th {\n",
       "        text-align: right;\n",
       "    }\n",
       "</style>\n",
       "<table border=\"1\" class=\"dataframe\">\n",
       "  <thead>\n",
       "    <tr style=\"text-align: right;\">\n",
       "      <th></th>\n",
       "      <th>ID</th>\n",
       "      <th>title</th>\n",
       "      <th>abstract</th>\n",
       "      <th>Pri_diseases_name</th>\n",
       "    </tr>\n",
       "  </thead>\n",
       "  <tbody>\n",
       "    <tr>\n",
       "      <th>0</th>\n",
       "      <td>21210353</td>\n",
       "      <td>human leukocyte antigen-g (hla-g) as a marker ...</td>\n",
       "      <td>human leukocyt antigeng  hlag  nonclass hlacla...</td>\n",
       "      <td>[neoplasms]</td>\n",
       "    </tr>\n",
       "    <tr>\n",
       "      <th>1</th>\n",
       "      <td>21265258</td>\n",
       "      <td>head and neck follicular dendritic cell sarcom...</td>\n",
       "      <td>current  less 50 case head neck follicular den...</td>\n",
       "      <td>[neoplasms, pathological conditions_signs and ...</td>\n",
       "    </tr>\n",
       "    <tr>\n",
       "      <th>2</th>\n",
       "      <td>21245633</td>\n",
       "      <td>effectiveness of repeated intragastric balloon...</td>\n",
       "      <td>19yearold japanes male bmi 554 kgm  2  also li...</td>\n",
       "      <td>[nutritional and metabolic diseases, pathologi...</td>\n",
       "    </tr>\n",
       "    <tr>\n",
       "      <th>3</th>\n",
       "      <td>21194024</td>\n",
       "      <td>golden retriever muscular dystrophy (grmd): de...</td>\n",
       "      <td>studi canin model duchenn muscular dystrophi  ...</td>\n",
       "      <td>[animal diseases, pathological conditions_sign...</td>\n",
       "    </tr>\n",
       "    <tr>\n",
       "      <th>4</th>\n",
       "      <td>21220749</td>\n",
       "      <td>dichotomous regulation of gvhd through bidirec...</td>\n",
       "      <td>b lymphocyt attenu  btla  coinhibitori recepto...</td>\n",
       "      <td>[neoplasms, pathological conditions_signs and ...</td>\n",
       "    </tr>\n",
       "    <tr>\n",
       "      <th>...</th>\n",
       "      <td>...</td>\n",
       "      <td>...</td>\n",
       "      <td>...</td>\n",
       "      <td>...</td>\n",
       "    </tr>\n",
       "    <tr>\n",
       "      <th>240831</th>\n",
       "      <td>26709456</td>\n",
       "      <td>reactive oxygen species production by human de...</td>\n",
       "      <td>tuberculosi remain singl largest infecti disea...</td>\n",
       "      <td>[respiratory tract diseases, infections]</td>\n",
       "    </tr>\n",
       "    <tr>\n",
       "      <th>240832</th>\n",
       "      <td>26675461</td>\n",
       "      <td>evaluating the use of commercial west nile vir...</td>\n",
       "      <td>evalu util 2 type commerci avail antigen posit...</td>\n",
       "      <td>[infections, pathological conditions_signs and...</td>\n",
       "    </tr>\n",
       "    <tr>\n",
       "      <th>240833</th>\n",
       "      <td>26709605</td>\n",
       "      <td>efficacy of protease inhibitor monotherapy vs....</td>\n",
       "      <td>aim analysi review evid updat metaanalysi eval...</td>\n",
       "      <td>[immune system diseases, infections]</td>\n",
       "    </tr>\n",
       "    <tr>\n",
       "      <th>240834</th>\n",
       "      <td>26662151</td>\n",
       "      <td>the occurrence of chronic lymphocytic leukemia...</td>\n",
       "      <td>occurr chronic myeloid leukemia  cml  chronic ...</td>\n",
       "      <td>[neoplasms, cardiovascular diseases]</td>\n",
       "    </tr>\n",
       "    <tr>\n",
       "      <th>240835</th>\n",
       "      <td>26706051</td>\n",
       "      <td>frontal aslant tract abnormality on diffusion ...</td>\n",
       "      <td>karyotyp 49  xxxxi one sever form chromosom an...</td>\n",
       "      <td>[nervous system diseases, urogenital diseases,...</td>\n",
       "    </tr>\n",
       "  </tbody>\n",
       "</table>\n",
       "<p>240836 rows × 4 columns</p>\n",
       "</div>"
      ],
      "text/plain": [
       "              ID                                              title  \\\n",
       "0       21210353  human leukocyte antigen-g (hla-g) as a marker ...   \n",
       "1       21265258  head and neck follicular dendritic cell sarcom...   \n",
       "2       21245633  effectiveness of repeated intragastric balloon...   \n",
       "3       21194024  golden retriever muscular dystrophy (grmd): de...   \n",
       "4       21220749  dichotomous regulation of gvhd through bidirec...   \n",
       "...          ...                                                ...   \n",
       "240831  26709456  reactive oxygen species production by human de...   \n",
       "240832  26675461  evaluating the use of commercial west nile vir...   \n",
       "240833  26709605  efficacy of protease inhibitor monotherapy vs....   \n",
       "240834  26662151  the occurrence of chronic lymphocytic leukemia...   \n",
       "240835  26706051  frontal aslant tract abnormality on diffusion ...   \n",
       "\n",
       "                                                 abstract  \\\n",
       "0       human leukocyt antigeng  hlag  nonclass hlacla...   \n",
       "1       current  less 50 case head neck follicular den...   \n",
       "2       19yearold japanes male bmi 554 kgm  2  also li...   \n",
       "3       studi canin model duchenn muscular dystrophi  ...   \n",
       "4       b lymphocyt attenu  btla  coinhibitori recepto...   \n",
       "...                                                   ...   \n",
       "240831  tuberculosi remain singl largest infecti disea...   \n",
       "240832  evalu util 2 type commerci avail antigen posit...   \n",
       "240833  aim analysi review evid updat metaanalysi eval...   \n",
       "240834  occurr chronic myeloid leukemia  cml  chronic ...   \n",
       "240835  karyotyp 49  xxxxi one sever form chromosom an...   \n",
       "\n",
       "                                        Pri_diseases_name  \n",
       "0                                             [neoplasms]  \n",
       "1       [neoplasms, pathological conditions_signs and ...  \n",
       "2       [nutritional and metabolic diseases, pathologi...  \n",
       "3       [animal diseases, pathological conditions_sign...  \n",
       "4       [neoplasms, pathological conditions_signs and ...  \n",
       "...                                                   ...  \n",
       "240831           [respiratory tract diseases, infections]  \n",
       "240832  [infections, pathological conditions_signs and...  \n",
       "240833               [immune system diseases, infections]  \n",
       "240834               [neoplasms, cardiovascular diseases]  \n",
       "240835  [nervous system diseases, urogenital diseases,...  \n",
       "\n",
       "[240836 rows x 4 columns]"
      ]
     },
     "execution_count": 10,
     "metadata": {},
     "output_type": "execute_result"
    }
   ],
   "source": [
    "df['Pri_diseases_name'] = df['Pri_diseases_name'].str.strip('{')\n",
    "df['Pri_diseases_name'] = df['Pri_diseases_name'].str.strip('}')\n",
    "\n",
    "str_1 = \"congenital, hereditary, and neonatal diseases and abnormalities\"\n",
    "sub_1 = str_1.replace(\", \",\"_\")\n",
    "str_2 = \"pathological conditions, signs and symptoms\"\n",
    "sub_2 = str_2.replace(\", \",\"_\")\n",
    "\n",
    "df['Pri_diseases_name'] = df['Pri_diseases_name'].str.replace(str_1,sub_1)\n",
    "df['Pri_diseases_name'] = df['Pri_diseases_name'].str.replace(str_2,sub_2)\n",
    "df['Pri_diseases_name'] = df['Pri_diseases_name'].str.replace(\"'\",\"\")\n",
    "df['Pri_diseases_name']  = df['Pri_diseases_name'].str.split(\", \")\n",
    "df"
   ]
  },
  {
   "cell_type": "code",
   "execution_count": null,
   "id": "04aca195-b49f-4591-8dda-62fbae8737ab",
   "metadata": {},
   "outputs": [],
   "source": [
    "y = df['Pri_diseases_name']"
   ]
  },
  {
   "cell_type": "markdown",
   "id": "b83405a9-2a0e-47b4-a3d1-bd01fb81864c",
   "metadata": {},
   "source": [
    "# Part 2: Baseline Model <a class=\"anchor\" id=\"ID_2\"></a>"
   ]
  },
  {
   "cell_type": "markdown",
   "id": "0ef60d96-3faa-4c51-be14-b6056f44ac79",
   "metadata": {},
   "source": [
    "#### Binarize y"
   ]
  },
  {
   "cell_type": "code",
   "execution_count": 12,
   "id": "158e5516-7d3e-4cde-a04e-1fc046aeb2f3",
   "metadata": {},
   "outputs": [],
   "source": [
    "mlb = MultiLabelBinarizer()\n",
    "y = mlb.fit_transform(y)\n",
    "labels = list(mlb.classes_)"
   ]
  },
  {
   "cell_type": "markdown",
   "id": "dcff5201-77ea-4e28-97f4-40195770c1e5",
   "metadata": {},
   "source": [
    "#### Train-test-split"
   ]
  },
  {
   "cell_type": "code",
   "execution_count": 14,
   "id": "73445826-95ff-4d68-9120-be92a89a1e73",
   "metadata": {},
   "outputs": [
    {
     "name": "stdout",
     "output_type": "stream",
     "text": [
      "CPU times: total: 8min 58s\n",
      "Wall time: 9min 9s\n"
     ]
    }
   ],
   "source": [
    "%%time\n",
    "size=0.75\n",
    "stratifier = IterativeStratification(n_splits=2, order=2, sample_distribution_per_fold=[size, 1.0-size])\n",
    "\n",
    "for train, test in stratifier.split(X, y):\n",
    "    X_train, y_train = X[train], y[train]\n",
    "    X_test, y_test = X[test], y[test]"
   ]
  },
  {
   "cell_type": "markdown",
   "id": "2f9ff0de-acee-48de-9b62-4a4a24456b08",
   "metadata": {},
   "source": [
    "#### Vectorise X"
   ]
  },
  {
   "cell_type": "code",
   "execution_count": 15,
   "id": "0e1cabf7-9b60-4804-85f1-4bd6ce134ca5",
   "metadata": {
    "tags": []
   },
   "outputs": [],
   "source": [
    "tvec = TfidfVectorizer()\n",
    "\n",
    "X_train = tvec.fit_transform(X_train)\n",
    "X_test = tvec.transform(X_test)"
   ]
  },
  {
   "cell_type": "markdown",
   "id": "b12e9c6b-0e27-48ac-8431-18e5a8bd07a0",
   "metadata": {},
   "source": [
    "#### Model fitting"
   ]
  },
  {
   "cell_type": "code",
   "execution_count": 16,
   "id": "e7eae5d5-4f85-4074-bb4a-38e0c87c7258",
   "metadata": {},
   "outputs": [],
   "source": [
    "# Train the Naive Bayes classifier using the Binary Relevance method\n",
    "clf = OneVsRestClassifier(BernoulliNB())"
   ]
  },
  {
   "cell_type": "code",
   "execution_count": 17,
   "id": "5a3f33be-f745-4646-82ca-109a28043146",
   "metadata": {},
   "outputs": [
    {
     "data": {
      "text/html": [
       "<style>#sk-container-id-1 {color: black;background-color: white;}#sk-container-id-1 pre{padding: 0;}#sk-container-id-1 div.sk-toggleable {background-color: white;}#sk-container-id-1 label.sk-toggleable__label {cursor: pointer;display: block;width: 100%;margin-bottom: 0;padding: 0.3em;box-sizing: border-box;text-align: center;}#sk-container-id-1 label.sk-toggleable__label-arrow:before {content: \"▸\";float: left;margin-right: 0.25em;color: #696969;}#sk-container-id-1 label.sk-toggleable__label-arrow:hover:before {color: black;}#sk-container-id-1 div.sk-estimator:hover label.sk-toggleable__label-arrow:before {color: black;}#sk-container-id-1 div.sk-toggleable__content {max-height: 0;max-width: 0;overflow: hidden;text-align: left;background-color: #f0f8ff;}#sk-container-id-1 div.sk-toggleable__content pre {margin: 0.2em;color: black;border-radius: 0.25em;background-color: #f0f8ff;}#sk-container-id-1 input.sk-toggleable__control:checked~div.sk-toggleable__content {max-height: 200px;max-width: 100%;overflow: auto;}#sk-container-id-1 input.sk-toggleable__control:checked~label.sk-toggleable__label-arrow:before {content: \"▾\";}#sk-container-id-1 div.sk-estimator input.sk-toggleable__control:checked~label.sk-toggleable__label {background-color: #d4ebff;}#sk-container-id-1 div.sk-label input.sk-toggleable__control:checked~label.sk-toggleable__label {background-color: #d4ebff;}#sk-container-id-1 input.sk-hidden--visually {border: 0;clip: rect(1px 1px 1px 1px);clip: rect(1px, 1px, 1px, 1px);height: 1px;margin: -1px;overflow: hidden;padding: 0;position: absolute;width: 1px;}#sk-container-id-1 div.sk-estimator {font-family: monospace;background-color: #f0f8ff;border: 1px dotted black;border-radius: 0.25em;box-sizing: border-box;margin-bottom: 0.5em;}#sk-container-id-1 div.sk-estimator:hover {background-color: #d4ebff;}#sk-container-id-1 div.sk-parallel-item::after {content: \"\";width: 100%;border-bottom: 1px solid gray;flex-grow: 1;}#sk-container-id-1 div.sk-label:hover label.sk-toggleable__label {background-color: #d4ebff;}#sk-container-id-1 div.sk-serial::before {content: \"\";position: absolute;border-left: 1px solid gray;box-sizing: border-box;top: 0;bottom: 0;left: 50%;z-index: 0;}#sk-container-id-1 div.sk-serial {display: flex;flex-direction: column;align-items: center;background-color: white;padding-right: 0.2em;padding-left: 0.2em;position: relative;}#sk-container-id-1 div.sk-item {position: relative;z-index: 1;}#sk-container-id-1 div.sk-parallel {display: flex;align-items: stretch;justify-content: center;background-color: white;position: relative;}#sk-container-id-1 div.sk-item::before, #sk-container-id-1 div.sk-parallel-item::before {content: \"\";position: absolute;border-left: 1px solid gray;box-sizing: border-box;top: 0;bottom: 0;left: 50%;z-index: -1;}#sk-container-id-1 div.sk-parallel-item {display: flex;flex-direction: column;z-index: 1;position: relative;background-color: white;}#sk-container-id-1 div.sk-parallel-item:first-child::after {align-self: flex-end;width: 50%;}#sk-container-id-1 div.sk-parallel-item:last-child::after {align-self: flex-start;width: 50%;}#sk-container-id-1 div.sk-parallel-item:only-child::after {width: 0;}#sk-container-id-1 div.sk-dashed-wrapped {border: 1px dashed gray;margin: 0 0.4em 0.5em 0.4em;box-sizing: border-box;padding-bottom: 0.4em;background-color: white;}#sk-container-id-1 div.sk-label label {font-family: monospace;font-weight: bold;display: inline-block;line-height: 1.2em;}#sk-container-id-1 div.sk-label-container {text-align: center;}#sk-container-id-1 div.sk-container {/* jupyter's `normalize.less` sets `[hidden] { display: none; }` but bootstrap.min.css set `[hidden] { display: none !important; }` so we also need the `!important` here to be able to override the default hidden behavior on the sphinx rendered scikit-learn.org. See: https://github.com/scikit-learn/scikit-learn/issues/21755 */display: inline-block !important;position: relative;}#sk-container-id-1 div.sk-text-repr-fallback {display: none;}</style><div id=\"sk-container-id-1\" class=\"sk-top-container\"><div class=\"sk-text-repr-fallback\"><pre>OneVsRestClassifier(estimator=BernoulliNB())</pre><b>In a Jupyter environment, please rerun this cell to show the HTML representation or trust the notebook. <br />On GitHub, the HTML representation is unable to render, please try loading this page with nbviewer.org.</b></div><div class=\"sk-container\" hidden><div class=\"sk-item sk-dashed-wrapped\"><div class=\"sk-label-container\"><div class=\"sk-label sk-toggleable\"><input class=\"sk-toggleable__control sk-hidden--visually\" id=\"sk-estimator-id-1\" type=\"checkbox\" ><label for=\"sk-estimator-id-1\" class=\"sk-toggleable__label sk-toggleable__label-arrow\">OneVsRestClassifier</label><div class=\"sk-toggleable__content\"><pre>OneVsRestClassifier(estimator=BernoulliNB())</pre></div></div></div><div class=\"sk-parallel\"><div class=\"sk-parallel-item\"><div class=\"sk-item\"><div class=\"sk-label-container\"><div class=\"sk-label sk-toggleable\"><input class=\"sk-toggleable__control sk-hidden--visually\" id=\"sk-estimator-id-2\" type=\"checkbox\" ><label for=\"sk-estimator-id-2\" class=\"sk-toggleable__label sk-toggleable__label-arrow\">estimator: BernoulliNB</label><div class=\"sk-toggleable__content\"><pre>BernoulliNB()</pre></div></div></div><div class=\"sk-serial\"><div class=\"sk-item\"><div class=\"sk-estimator sk-toggleable\"><input class=\"sk-toggleable__control sk-hidden--visually\" id=\"sk-estimator-id-3\" type=\"checkbox\" ><label for=\"sk-estimator-id-3\" class=\"sk-toggleable__label sk-toggleable__label-arrow\">BernoulliNB</label><div class=\"sk-toggleable__content\"><pre>BernoulliNB()</pre></div></div></div></div></div></div></div></div></div></div>"
      ],
      "text/plain": [
       "OneVsRestClassifier(estimator=BernoulliNB())"
      ]
     },
     "execution_count": 17,
     "metadata": {},
     "output_type": "execute_result"
    }
   ],
   "source": [
    "clf.fit(X_train, y_train)\n",
    "\n",
    "y_train_pred = clf.predict(X_train)\n",
    "y_test_pred = clf.predict(X_test)"
   ]
  },
  {
   "cell_type": "code",
   "execution_count": 18,
   "id": "a71df846-1e21-4872-88cc-f6d757856aca",
   "metadata": {},
   "outputs": [
    {
     "name": "stdout",
     "output_type": "stream",
     "text": [
      "                                                               precision    recall  f1-score   support\n",
      "\n",
      "                                              animal diseases       0.49      0.69      0.57     19576\n",
      "                                      cardiovascular diseases       0.65      0.57      0.61     27720\n",
      "                                 chemically-induced disorders       0.29      0.05      0.09      6780\n",
      "congenital_hereditary_and neonatal diseases and abnormalities       0.21      0.03      0.05      5702\n",
      "                                    digestive system diseases       0.72      0.23      0.35     12407\n",
      "                            disorders of environmental origin       1.00      0.00      0.00         2\n",
      "                                    endocrine system diseases       0.69      0.30      0.42     12674\n",
      "                                                 eye diseases       0.08      0.01      0.02      3064\n",
      "                                 hemic and lymphatic diseases       0.14      0.02      0.04      5746\n",
      "                                       immune system diseases       0.74      0.42      0.53     16609\n",
      "                                                   infections       0.84      0.79      0.81     37765\n",
      "                                     musculoskeletal diseases       0.76      0.29      0.42     13010\n",
      "                                                    neoplasms       0.89      0.77      0.83     41501\n",
      "                                      nervous system diseases       0.66      0.36      0.46     19049\n",
      "                           nutritional and metabolic diseases       0.69      0.45      0.55     16236\n",
      "                                        occupational diseases       1.00      0.00      0.00       133\n",
      "                                otorhinolaryngologic diseases       0.08      0.02      0.03      4147\n",
      "                   pathological conditions_signs and symptoms       0.82      0.84      0.83    111974\n",
      "                                   respiratory tract diseases       0.69      0.27      0.39     12995\n",
      "                          skin and connective tissue diseases       0.54      0.11      0.19     11708\n",
      "                                      stomatognathic diseases       0.01      0.00      0.00      1477\n",
      "                                          urogenital diseases       0.63      0.42      0.51     20465\n",
      "                                          wounds and injuries       0.41      0.08      0.13      9045\n",
      "\n",
      "                                                    micro avg       0.75      0.56      0.64    409785\n",
      "                                                    macro avg       0.57      0.29      0.34    409785\n",
      "                                                 weighted avg       0.70      0.56      0.60    409785\n",
      "                                                  samples avg       0.81      0.62      0.63    409785\n",
      "\n",
      "\n",
      "\n"
     ]
    }
   ],
   "source": [
    "print(classification_report(y_train, y_train_pred,zero_division=1,target_names=labels))\n",
    "print(\"\\n\")"
   ]
  },
  {
   "cell_type": "code",
   "execution_count": 19,
   "id": "d94b7246-15a7-4bb3-8dd4-11f67d1f2c62",
   "metadata": {},
   "outputs": [
    {
     "name": "stdout",
     "output_type": "stream",
     "text": [
      "                                                               precision    recall  f1-score   support\n",
      "\n",
      "                                              animal diseases       0.47      0.63      0.54      6513\n",
      "                                      cardiovascular diseases       0.62      0.44      0.52      9240\n",
      "                                 chemically-induced disorders       0.25      0.01      0.02      2260\n",
      "congenital_hereditary_and neonatal diseases and abnormalities       0.17      0.01      0.01      1900\n",
      "                                    digestive system diseases       0.72      0.08      0.15      4136\n",
      "                            disorders of environmental origin       1.00      0.00      0.00         1\n",
      "                                    endocrine system diseases       0.69      0.16      0.26      4225\n",
      "                                                 eye diseases       0.00      0.00      0.00      1021\n",
      "                                 hemic and lymphatic diseases       0.09      0.00      0.01      1916\n",
      "                                       immune system diseases       0.77      0.25      0.38      5536\n",
      "                                                   infections       0.83      0.74      0.78     12588\n",
      "                                     musculoskeletal diseases       0.80      0.15      0.26      4336\n",
      "                                                    neoplasms       0.88      0.69      0.77     13834\n",
      "                                      nervous system diseases       0.61      0.19      0.29      6350\n",
      "                           nutritional and metabolic diseases       0.69      0.31      0.43      5412\n",
      "                                        occupational diseases       1.00      0.00      0.00        45\n",
      "                                otorhinolaryngologic diseases       0.14      0.01      0.02      1383\n",
      "                   pathological conditions_signs and symptoms       0.74      0.79      0.76     37325\n",
      "                                   respiratory tract diseases       0.67      0.12      0.20      4331\n",
      "                          skin and connective tissue diseases       0.43      0.03      0.06      3903\n",
      "                                      stomatognathic diseases       0.00      0.00      0.00       492\n",
      "                                          urogenital diseases       0.63      0.24      0.35      6821\n",
      "                                          wounds and injuries       0.28      0.01      0.03      3015\n",
      "\n",
      "                                                    micro avg       0.72      0.48      0.57    136583\n",
      "                                                    macro avg       0.54      0.21      0.25    136583\n",
      "                                                 weighted avg       0.67      0.48      0.51    136583\n",
      "                                                  samples avg       0.77      0.53      0.56    136583\n",
      "\n",
      "\n",
      "\n"
     ]
    }
   ],
   "source": [
    "print(classification_report(y_test, y_test_pred,zero_division=1,target_names=labels))\n",
    "print(\"\\n\")"
   ]
  },
  {
   "cell_type": "markdown",
   "id": "3f775c79-bf8f-4ce6-afc9-d7b9b77467e0",
   "metadata": {},
   "source": [
    "# Part 3: Model Evaluation <a class=\"anchor\" id=\"ID_3\"></a>\n",
    "\n",
    "The aim of our model is to given an article abstract - give it NLM Primary Disease terms labels.\n",
    "The targeted metric is to have samples avg precision and f1-score > 0.70.\n",
    "\n",
    "**Model performance**:<br>\n",
    "- Some labels with lesser articles performed dractically poorer. Mostly these labels have distinctly lesser articles labelled with it (e.g. *disorders of environmental origin*, *occupational diseases*).\n",
    "- Importantly, the baseline mode did not meet our target model metric performance (samples avg precision and f1-score > 0.70)\n",
    "\n",
    "**Plans for model improvement**:\n",
    "1. Drop some labels and Merge some similar labels\n",
    "1. Explore including article title into the X features\n",
    "1. Explore different classifiers (MultinomialNB, Logistic Regression)\n",
    "1. Hyperparameter tuning through GridSearchCV"
   ]
  },
  {
   "cell_type": "code",
   "execution_count": null,
   "id": "ae8c3afb-f7ca-41ae-ad60-7f2adae81215",
   "metadata": {},
   "outputs": [],
   "source": []
  }
 ],
 "metadata": {
  "kernelspec": {
   "display_name": "Python 3 (ipykernel)",
   "language": "python",
   "name": "python3"
  },
  "language_info": {
   "codemirror_mode": {
    "name": "ipython",
    "version": 3
   },
   "file_extension": ".py",
   "mimetype": "text/x-python",
   "name": "python",
   "nbconvert_exporter": "python",
   "pygments_lexer": "ipython3",
   "version": "3.8.13"
  }
 },
 "nbformat": 4,
 "nbformat_minor": 5
}
