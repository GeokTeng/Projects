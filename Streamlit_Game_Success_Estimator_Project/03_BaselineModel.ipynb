{
 "cells": [
  {
   "cell_type": "markdown",
   "id": "17adf825-3862-435f-966c-b7d9d2a2ab09",
   "metadata": {},
   "source": [
    "# About this Notebook:\n",
    "\n",
    "Here we aim to build a baseline model:\n",
    "- Model Processing: CountVectorize\n",
    "- Model explored: Multinomial Naive Bayes"
   ]
  },
  {
   "cell_type": "markdown",
   "id": "3a6ceabd-7e53-444b-87bf-48d95bc4941b",
   "metadata": {},
   "source": [
    "## Recall Problem statement and model objective:\n",
    "\n",
    "*Problem statement:*<br>\n",
    "We aim to create a classification model that will improve investment chance of successful investment in pre-released or early-accessed games by looking into the <code>game's description</code>.\n",
    "\n",
    "- We look at a <code>'Good' game</code> ('Successful' game) as a game defined to be well received by users, in other words, games which received largely positive reviews. \n",
    "- So our main feature focus on the <code>game description</code>, and our target variable is whether a game has high percentage of positive reviews (<code>'Good' game</code>).\n",
    "\n",
    "The model performance will be compared and assessed against the investment chance of investing in a successful game without using the model (default probability = percentage of defined 'Successful' games in the dataset). As such, our main assessment metrics of the model is it's <code>precision</code>.\n",
    "\n",
    "In Summary:\n",
    "|X features|y target variable|Model Assessment|\n",
    "|---|---|---|\n",
    "|game description|Good Game or Poor Games|Precision core|"
   ]
  },
  {
   "cell_type": "markdown",
   "id": "d2927b0f-173b-4476-a161-9aac68c020e7",
   "metadata": {},
   "source": [
    "# Imports & Functions"
   ]
  },
  {
   "cell_type": "markdown",
   "id": "d56e382f-d2ef-420c-891a-731eff9fc5ab",
   "metadata": {},
   "source": [
    "### Libraries"
   ]
  },
  {
   "cell_type": "code",
   "execution_count": 25,
   "id": "d6195aa1-dac0-4dfb-80fa-4887470aeac8",
   "metadata": {},
   "outputs": [],
   "source": [
    "import numpy as np \n",
    "import pandas as pd\n",
    "\n",
    "from IPython.core.interactiveshell import InteractiveShell\n",
    "InteractiveShell.ast_node_interactivity = \"all\"\n",
    "\n",
    "\n",
    "#Visualisation:\n",
    "import seaborn               as sns\n",
    "import matplotlib.pyplot     as plt\n",
    "\n",
    "\n",
    "from tqdm import tqdm\n",
    "tqdm.pandas()"
   ]
  },
  {
   "cell_type": "code",
   "execution_count": 26,
   "id": "42ff5f2d-42b5-48d2-b712-81e541dbf6d8",
   "metadata": {},
   "outputs": [],
   "source": [
    "from sklearn.model_selection import train_test_split\n",
    "\n",
    "from sklearn.feature_extraction.text import CountVectorizer\n",
    "from sklearn.naive_bayes import MultinomialNB\n",
    "\n",
    "\n",
    "# sklearn: Import metrics.\n",
    "from sklearn.metrics import confusion_matrix\n",
    "from sklearn.metrics import ConfusionMatrixDisplay\n",
    "\n",
    "from sklearn.metrics import accuracy_score\n",
    "from sklearn.metrics import recall_score #sensitivity\n",
    "from sklearn.metrics import precision_score\n",
    "from sklearn.metrics import f1_score\n",
    "from sklearn.metrics import classification_report #precision+recall+f1-score"
   ]
  },
  {
   "cell_type": "markdown",
   "id": "152526c8-feb3-4294-ae07-970977614325",
   "metadata": {},
   "source": [
    "### Functions"
   ]
  },
  {
   "cell_type": "code",
   "execution_count": 25,
   "id": "172def14-956d-4ac8-81a9-e00b23dc865b",
   "metadata": {},
   "outputs": [],
   "source": [
    "#Showing missing, duplicates, shape, dtypes\n",
    "def df_summary(df):\n",
    "    print(f\"Shape(col,rows): {df.shape}\")\n",
    "    print(f\"Number of duplicates: {df.duplicated().sum()}\")\n",
    "    print('---'*20)\n",
    "    print(f'Number of each unqiue datatypes:\\n{df.dtypes.value_counts()}')\n",
    "    print('---'*20)\n",
    "    print(\"Columns with missing values:\")\n",
    "    isnull_df = pd.DataFrame(df.isnull().sum()).reset_index()\n",
    "    isnull_df.columns = ['col','num_nulls']\n",
    "    isnull_df['perc_null'] = ((isnull_df['num_nulls'])/(len(df))).round(2)\n",
    "    print(isnull_df[isnull_df['num_nulls']>0])"
   ]
  },
  {
   "cell_type": "code",
   "execution_count": 37,
   "id": "1887a67d-8202-48cf-b206-e158d5047490",
   "metadata": {},
   "outputs": [],
   "source": [
    "#function for model fitting and printing out model performance\n",
    "def fit_score_(model):\n",
    "    model.fit(X_train, y_train)\n",
    "    \n",
    "    y_train_pred = model.predict(X_train)\n",
    "    y_test_pred = model.predict(X_test)\n",
    "    \n",
    "    print(f\"Train accuracy score:{model.score(X_train, y_train)}\")\n",
    "    print(f\"Test accuracy score:{model.score(X_test, y_test)}\")\n",
    "    print(f\"Train f1 score:{f1_score(y_train, y_train_pred)}\")\n",
    "    print(f\"Test f1 score:{f1_score(y_test, y_test_pred)}\")\n",
    "    print(\"\\n\")\n",
    "    print(classification_report(y_test, y_test_pred))\n",
    "    print(\"\\n\")\n",
    "    \n",
    "    cm = confusion_matrix(y_test, y_test_pred) \n",
    "    ConfusionMatrixDisplay(confusion_matrix=cm, display_labels=['Poor Games','Good games']).plot(cmap='Blues')\n",
    "    plt.show();"
   ]
  },
  {
   "cell_type": "markdown",
   "id": "e151f288-d789-477c-9fc9-ddeb779dbf7f",
   "metadata": {},
   "source": [
    "### Data imports and quick view"
   ]
  },
  {
   "cell_type": "code",
   "execution_count": 27,
   "id": "4aa9c83e-bebd-48ad-b8a5-8ca7b9fa1fe5",
   "metadata": {},
   "outputs": [
    {
     "name": "stdout",
     "output_type": "stream",
     "text": [
      "Shape(col,rows): (27309, 12)\n",
      "Number of duplicates: 0\n",
      "------------------------------------------------------------\n",
      "Number of each unqiue datatypes:\n",
      "object     6\n",
      "int64      4\n",
      "float64    1\n",
      "bool       1\n",
      "dtype: int64\n",
      "------------------------------------------------------------\n",
      "Columns with missing values:\n",
      "Empty DataFrame\n",
      "Columns: [col, num_nulls, perc_null]\n",
      "Index: []\n"
     ]
    }
   ],
   "source": [
    "df = pd.read_csv(\"cleaned_dataset.csv\")\n",
    "df_summary(df)"
   ]
  },
  {
   "cell_type": "code",
   "execution_count": 28,
   "id": "effd50de-3736-4d70-85ef-0f5b559f3da8",
   "metadata": {},
   "outputs": [
    {
     "data": {
      "text/plain": [
       "Index(['title', 'r_date', 'price', 'description', 'review_type',\n",
       "       'review_stats', 'positive_percentage', 'total_reviews', 'tagged',\n",
       "       'game_id', 'Good_Game', 'r_year'],\n",
       "      dtype='object')"
      ]
     },
     "execution_count": 28,
     "metadata": {},
     "output_type": "execute_result"
    }
   ],
   "source": [
    "df.columns"
   ]
  },
  {
   "cell_type": "code",
   "execution_count": 29,
   "id": "ab0a9b35-0c4c-4527-a794-08b9d04ed4cd",
   "metadata": {},
   "outputs": [
    {
     "data": {
      "text/html": [
       "<div>\n",
       "<style scoped>\n",
       "    .dataframe tbody tr th:only-of-type {\n",
       "        vertical-align: middle;\n",
       "    }\n",
       "\n",
       "    .dataframe tbody tr th {\n",
       "        vertical-align: top;\n",
       "    }\n",
       "\n",
       "    .dataframe thead th {\n",
       "        text-align: right;\n",
       "    }\n",
       "</style>\n",
       "<table border=\"1\" class=\"dataframe\">\n",
       "  <thead>\n",
       "    <tr style=\"text-align: right;\">\n",
       "      <th></th>\n",
       "      <th>title</th>\n",
       "      <th>r_date</th>\n",
       "      <th>price</th>\n",
       "      <th>description</th>\n",
       "      <th>review_type</th>\n",
       "      <th>review_stats</th>\n",
       "      <th>positive_percentage</th>\n",
       "      <th>total_reviews</th>\n",
       "      <th>tagged</th>\n",
       "      <th>game_id</th>\n",
       "      <th>Good_Game</th>\n",
       "      <th>r_year</th>\n",
       "    </tr>\n",
       "  </thead>\n",
       "  <tbody>\n",
       "    <tr>\n",
       "      <th>0</th>\n",
       "      <td>persona 3 portable</td>\n",
       "      <td>2023-01-18</td>\n",
       "      <td>27.99</td>\n",
       "      <td>experience the iconic critically acclaimed rpg...</td>\n",
       "      <td>mostly positive</td>\n",
       "      <td>74% of the 771 user reviews for this game are...</td>\n",
       "      <td>74</td>\n",
       "      <td>771</td>\n",
       "      <td>rpg, story rich, anime, turn-based combat, jrp...</td>\n",
       "      <td>1809700</td>\n",
       "      <td>True</td>\n",
       "      <td>2023</td>\n",
       "    </tr>\n",
       "    <tr>\n",
       "      <th>1</th>\n",
       "      <td>fraymakers</td>\n",
       "      <td>2023-01-18</td>\n",
       "      <td>22.79</td>\n",
       "      <td>what is fraymakersfraymakers is the ultimate c...</td>\n",
       "      <td>mixed</td>\n",
       "      <td>68% of the 214 user reviews for this game are...</td>\n",
       "      <td>68</td>\n",
       "      <td>214</td>\n",
       "      <td>indie, fighting, 2d fighter, multiplayer, acti...</td>\n",
       "      <td>1420350</td>\n",
       "      <td>False</td>\n",
       "      <td>2023</td>\n",
       "    </tr>\n",
       "    <tr>\n",
       "      <th>2</th>\n",
       "      <td>osiris: new dawn</td>\n",
       "      <td>2023-01-18</td>\n",
       "      <td>39.99</td>\n",
       "      <td>inspired by the edgier side of sci fi osiris n...</td>\n",
       "      <td>mostly negative</td>\n",
       "      <td>31% of the 127 user reviews in the last 30 da...</td>\n",
       "      <td>31</td>\n",
       "      <td>127</td>\n",
       "      <td>open world survival craft, horror, survival, s...</td>\n",
       "      <td>402710</td>\n",
       "      <td>False</td>\n",
       "      <td>2023</td>\n",
       "    </tr>\n",
       "    <tr>\n",
       "      <th>3</th>\n",
       "      <td>lake haven - chrysalis</td>\n",
       "      <td>2023-01-18</td>\n",
       "      <td>3.89</td>\n",
       "      <td>on october 7th at 9 pm the kansas police depar...</td>\n",
       "      <td>positive</td>\n",
       "      <td>100% of the 27 user reviews for this game are...</td>\n",
       "      <td>100</td>\n",
       "      <td>27</td>\n",
       "      <td>third person, exploration, singleplayer, adven...</td>\n",
       "      <td>1696960</td>\n",
       "      <td>True</td>\n",
       "      <td>2023</td>\n",
       "    </tr>\n",
       "    <tr>\n",
       "      <th>4</th>\n",
       "      <td>predictors</td>\n",
       "      <td>2023-01-18</td>\n",
       "      <td>3.89</td>\n",
       "      <td>turnbased roguelikego solo or invite up to thr...</td>\n",
       "      <td>positive</td>\n",
       "      <td>95% of the 20 user reviews for this game are ...</td>\n",
       "      <td>95</td>\n",
       "      <td>20</td>\n",
       "      <td>roguelike, roguelite, turn-based, online co-op...</td>\n",
       "      <td>2149330</td>\n",
       "      <td>True</td>\n",
       "      <td>2023</td>\n",
       "    </tr>\n",
       "  </tbody>\n",
       "</table>\n",
       "</div>"
      ],
      "text/plain": [
       "                    title      r_date  price  \\\n",
       "0      persona 3 portable  2023-01-18  27.99   \n",
       "1              fraymakers  2023-01-18  22.79   \n",
       "2        osiris: new dawn  2023-01-18  39.99   \n",
       "3  lake haven - chrysalis  2023-01-18   3.89   \n",
       "4              predictors  2023-01-18   3.89   \n",
       "\n",
       "                                         description      review_type  \\\n",
       "0  experience the iconic critically acclaimed rpg...  mostly positive   \n",
       "1  what is fraymakersfraymakers is the ultimate c...            mixed   \n",
       "2  inspired by the edgier side of sci fi osiris n...  mostly negative   \n",
       "3  on october 7th at 9 pm the kansas police depar...         positive   \n",
       "4  turnbased roguelikego solo or invite up to thr...         positive   \n",
       "\n",
       "                                        review_stats  positive_percentage  \\\n",
       "0   74% of the 771 user reviews for this game are...                   74   \n",
       "1   68% of the 214 user reviews for this game are...                   68   \n",
       "2   31% of the 127 user reviews in the last 30 da...                   31   \n",
       "3   100% of the 27 user reviews for this game are...                  100   \n",
       "4   95% of the 20 user reviews for this game are ...                   95   \n",
       "\n",
       "   total_reviews                                             tagged  game_id  \\\n",
       "0            771  rpg, story rich, anime, turn-based combat, jrp...  1809700   \n",
       "1            214  indie, fighting, 2d fighter, multiplayer, acti...  1420350   \n",
       "2            127  open world survival craft, horror, survival, s...   402710   \n",
       "3             27  third person, exploration, singleplayer, adven...  1696960   \n",
       "4             20  roguelike, roguelite, turn-based, online co-op...  2149330   \n",
       "\n",
       "   Good_Game  r_year  \n",
       "0       True    2023  \n",
       "1      False    2023  \n",
       "2      False    2023  \n",
       "3       True    2023  \n",
       "4       True    2023  "
      ]
     },
     "execution_count": 29,
     "metadata": {},
     "output_type": "execute_result"
    }
   ],
   "source": [
    "df.head()"
   ]
  },
  {
   "cell_type": "markdown",
   "id": "264925cb-0c30-4070-993b-7c41da9a5312",
   "metadata": {},
   "source": [
    "# Part 1: Model Preprocessing:\n"
   ]
  },
  {
   "cell_type": "markdown",
   "id": "43c0cca0-cd78-4cc1-9ce3-66a756b726de",
   "metadata": {},
   "source": [
    "## CountVectorize"
   ]
  },
  {
   "cell_type": "code",
   "execution_count": 30,
   "id": "fb00e9f4-252a-4ea3-82ad-f9e72b7b4dd5",
   "metadata": {},
   "outputs": [
    {
     "data": {
      "text/plain": [
       "(27309, 1500)"
      ]
     },
     "execution_count": 30,
     "metadata": {},
     "output_type": "execute_result"
    }
   ],
   "source": [
    "cvec = CountVectorizer(stop_words = 'english',max_features=1500)\n",
    "X_cvec = cvec.fit_transform(df.loc[:,'description'])\n",
    "\n",
    "X_df = pd.DataFrame(X_cvec.toarray(),columns = cvec.get_feature_names_out())\n",
    "X_df.shape"
   ]
  },
  {
   "cell_type": "markdown",
   "id": "549b988d-1a85-40ad-b871-3870a2051927",
   "metadata": {},
   "source": [
    "### Quick look on the 1500 terms obtained after CountVect"
   ]
  },
  {
   "cell_type": "markdown",
   "id": "1074ca48-6181-452c-92ec-35bbf47fb6a4",
   "metadata": {},
   "source": [
    "#### Most common words"
   ]
  },
  {
   "cell_type": "code",
   "execution_count": 31,
   "id": "26255b09-191e-4473-9eb5-ebd6d3c5b089",
   "metadata": {},
   "outputs": [
    {
     "data": {
      "image/png": "[encoded data removed]",
      "text/plain": [
       "<Figure size 640x480 with 1 Axes>"
      ]
     },
     "metadata": {},
     "output_type": "display_data"
    }
   ],
   "source": [
    "X_df.sum().sort_values(ascending=False).head(10).plot(kind=\"barh\")\n",
    "plt.title(\"Top 10 words\",fontsize=15)\n",
    "plt.xlabel(\"Count\");"
   ]
  },
  {
   "cell_type": "code",
   "execution_count": 32,
   "id": "eef93b3b-638a-4e4d-8610-e44b974a63e4",
   "metadata": {},
   "outputs": [
    {
     "data": {
      "text/plain": [
       "48494"
      ]
     },
     "execution_count": 32,
     "metadata": {},
     "output_type": "execute_result"
    }
   ],
   "source": [
    "#the word 'game' appeared more than the number of games in our dataset\n",
    "X_df['game'].sum()"
   ]
  },
  {
   "cell_type": "code",
   "execution_count": 33,
   "id": "514c7e6a-7a6d-46d2-b977-29d26f40034e",
   "metadata": {},
   "outputs": [
    {
     "data": {
      "text/plain": [
       "0.8203156468563477"
      ]
     },
     "execution_count": 33,
     "metadata": {},
     "output_type": "execute_result"
    }
   ],
   "source": [
    "#how many percent of the game description contain the word game?\n",
    "len(df[df['description'].str.contains('game')])/len(df)"
   ]
  },
  {
   "cell_type": "code",
   "execution_count": 34,
   "id": "f2fa0601-dd0e-47c5-9c8d-7b6c6c39e4f4",
   "metadata": {},
   "outputs": [
    {
     "data": {
      "text/plain": [
       "0.4038229155223553"
      ]
     },
     "execution_count": 34,
     "metadata": {},
     "output_type": "execute_result"
    }
   ],
   "source": [
    "#how many percent of the game description contain the word new?\n",
    "len(df[df['description'].str.contains('new')])/len(df)"
   ]
  },
  {
   "cell_type": "markdown",
   "id": "968b31c1-cfcb-45ba-b91c-84fdfa49a65b",
   "metadata": {},
   "source": [
    "**Comment**:\n",
    "\n",
    "The most frequent word 'game' appeared more than 80% of the game's description, while the next most common word 'new' appeared in 40% of them."
   ]
  },
  {
   "cell_type": "markdown",
   "id": "a6b7c695-e363-4a5d-a550-71549b5580eb",
   "metadata": {},
   "source": [
    "#### Least common words"
   ]
  },
  {
   "cell_type": "code",
   "execution_count": 35,
   "id": "ce2f67ce-c406-4742-b520-bf5fec134dd9",
   "metadata": {},
   "outputs": [
    {
     "data": {
      "image/png": "[encoded data removed]",
      "text/plain": [
       "<Figure size 640x480 with 1 Axes>"
      ]
     },
     "metadata": {},
     "output_type": "display_data"
    }
   ],
   "source": [
    "X_df.sum().sort_values(ascending=False).tail(10).plot(kind=\"barh\")\n",
    "plt.title(\"Bottom 10 words (out of the 1500 words)\",fontsize=15)\n",
    "plt.xlabel(\"Count\");"
   ]
  },
  {
   "cell_type": "markdown",
   "id": "d0850219-d8f7-4902-bae8-ce66874fd2ff",
   "metadata": {},
   "source": [
    "# Part 2: Modelling (Naive Bayes)"
   ]
  },
  {
   "cell_type": "code",
   "execution_count": 38,
   "id": "871af23b-5eb7-42f9-98a0-f03394bac725",
   "metadata": {},
   "outputs": [
    {
     "name": "stdout",
     "output_type": "stream",
     "text": [
      "y_train:\n"
     ]
    },
    {
     "data": {
      "text/plain": [
       "True     0.721205\n",
       "False    0.278795\n",
       "Name: Good_Game, dtype: float64"
      ]
     },
     "execution_count": 38,
     "metadata": {},
     "output_type": "execute_result"
    },
    {
     "name": "stdout",
     "output_type": "stream",
     "text": [
      "\n",
      "\n",
      "y_test:\n"
     ]
    },
    {
     "data": {
      "text/plain": [
       "True     0.721148\n",
       "False    0.278852\n",
       "Name: Good_Game, dtype: float64"
      ]
     },
     "execution_count": 38,
     "metadata": {},
     "output_type": "execute_result"
    },
    {
     "name": "stdout",
     "output_type": "stream",
     "text": [
      "\n",
      "\n",
      "Train accuracy score:0.6920072262096577\n",
      "Test accuracy score:0.6764792032806093\n",
      "Train f1 score:0.7824077268023457\n",
      "Test f1 score:0.7716795865633075\n",
      "\n",
      "\n",
      "              precision    recall  f1-score   support\n",
      "\n",
      "       False       0.43      0.47      0.45      1904\n",
      "        True       0.79      0.76      0.77      4924\n",
      "\n",
      "    accuracy                           0.68      6828\n",
      "   macro avg       0.61      0.61      0.61      6828\n",
      "weighted avg       0.69      0.68      0.68      6828\n",
      "\n",
      "\n",
      "\n"
     ]
    },
    {
     "data": {
      "image/png": "[encoded data removed]",
      "text/plain": [
       "<Figure size 640x480 with 2 Axes>"
      ]
     },
     "metadata": {},
     "output_type": "display_data"
    }
   ],
   "source": [
    "_df = df.copy()\n",
    "\n",
    "X = _df['description']\n",
    "y = _df['Good_Game']\n",
    "\n",
    "X_train, X_test, y_train, y_test = train_test_split(X, y, random_state=23, stratify=y) \n",
    "\n",
    "print(f\"y_train:\")\n",
    "y_train.value_counts(normalize=True)\n",
    "print(\"\\n\")\n",
    "print(f\"y_test:\")\n",
    "y_test.value_counts(normalize=True)\n",
    "print(\"\\n\")\n",
    "\n",
    "cvec = CountVectorizer(stop_words = 'english',max_features=1500)\n",
    "\n",
    "X_train = cvec.fit_transform(X_train)\n",
    "X_train = pd.DataFrame(X_train.toarray(),\n",
    "                       columns = cvec.get_feature_names_out())\n",
    "\n",
    "X_test = cvec.transform(X_test)\n",
    "X_test = pd.DataFrame(X_test.toarray(),\n",
    "                      columns = cvec.get_feature_names_out())\n",
    "\n",
    "nb = MultinomialNB()\n",
    "fit_score_(nb)"
   ]
  },
  {
   "cell_type": "markdown",
   "id": "a9da34cb-93b9-437b-a130-37c4eb6f069b",
   "metadata": {},
   "source": [
    "**Comments**:\n",
    "\n",
    "In the interest of answering our business problem, our focus is mainly on precision (% of True 'Good Games' among those who are predicted to be 'Good Games'.)\n",
    "- While the model has good recall(0.99), it has poor precision (precision = 79% VS 72% actual 'Good Games' in the test set).\n",
    "- This will does somewhat well for our stakeholder, as the chances of them obtaining a 'Good Game' did increased by 7% with the use of the model.\n",
    "\n",
    "|Model|Description|Performance|\n",
    "|---|---|---|\n",
    "|Baseline Model<br>Multinomial Naive Bayes|Processes:<br> CountVectorizer<br>(stop_words = 'english',<br>max_features=1500)|<li>Score to beat: 72% <li> Model Precision score: 79%|\n",
    "\n",
    "\n",
    "**How are we going to improve model's performance?**\n",
    "1. Explore using different choice of model (e.g. Random Forest)\n",
    "1. Include Stemming/Lemitisation during preprocessing\n",
    "1. Apply conditions such as *min_df* and *max_df* during vectorisation\n",
    "1. Attempt using TFIDF vs CountVectorizer\n",
    "1. Attempt searching for Bigrams\n",
    "\n",
    "We will explore these approaches in subsequent notebook."
   ]
  },
  {
   "cell_type": "code",
   "execution_count": null,
   "id": "ae1ecdd4-7483-4385-989f-0e60df5a6a00",
   "metadata": {},
   "outputs": [],
   "source": []
  }
 ],
 "metadata": {
  "kernelspec": {
   "display_name": "Python 3 (ipykernel)",
   "language": "python",
   "name": "python3"
  },
  "language_info": {
   "codemirror_mode": {
    "name": "ipython",
    "version": 3
   },
   "file_extension": ".py",
   "mimetype": "text/x-python",
   "name": "python",
   "nbconvert_exporter": "python",
   "pygments_lexer": "ipython3",
   "version": "3.8.13"
  }
 },
 "nbformat": 4,
 "nbformat_minor": 5
}
