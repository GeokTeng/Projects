{
 "cells": [
  {
   "cell_type": "markdown",
   "id": "f54cfdcc-a381-46b5-ae6e-0c2effd19937",
   "metadata": {},
   "source": [
    "# About this Notebook:\n",
    "\n",
    "Here we aim to build a best performing model.We will be exploring:\n",
    "1. Different choice of model (e.g. Random Forest)\n",
    "1. Include Stemming/Lemitisation during preprocessing\n",
    "1. Apply conditions such as *min_df* and *max_df* during vectorisation\n",
    "1. Attempt using TFIDF vs CountVectorizer\n",
    "1. Attempt searching for Bigrams\n"
   ]
  },
  {
   "cell_type": "markdown",
   "id": "be744a56-1253-47ea-bf2f-bf765fcdf110",
   "metadata": {},
   "source": [
    "# Loads and imports"
   ]
  },
  {
   "cell_type": "code",
   "execution_count": 69,
   "id": "6c7f314a-d829-4cd2-85e1-1a84db9bb5c2",
   "metadata": {},
   "outputs": [],
   "source": [
    "import numpy as np \n",
    "import pandas as pd\n",
    "\n",
    "from IPython.core.interactiveshell import InteractiveShell\n",
    "InteractiveShell.ast_node_interactivity = \"all\"\n",
    "\n",
    "\n",
    "#Visualisation:\n",
    "import seaborn               as sns\n",
    "import matplotlib.pyplot     as plt\n",
    "sns.set_theme(style=\"whitegrid\")\n",
    "\n",
    "\n",
    "from tqdm import tqdm\n",
    "tqdm.pandas()\n",
    "\n",
    "#Showing missing, duplicates, shape, dtypes\n",
    "def df_summary(df):\n",
    "    print(f\"Shape(col,rows): {df.shape}\")\n",
    "    print(f\"Number of duplicates: {df.duplicated().sum()}\")\n",
    "    print('---'*20)\n",
    "    print(f'Number of each unqiue datatypes:\\n{df.dtypes.value_counts()}')\n",
    "    print('---'*20)\n",
    "    print(\"Columns with missing values:\")\n",
    "    isnull_df = pd.DataFrame(df.isnull().sum()).reset_index()\n",
    "    isnull_df.columns = ['col','num_nulls']\n",
    "    isnull_df['perc_null'] = ((isnull_df['num_nulls'])/(len(df))).round(2)\n",
    "    print(isnull_df[isnull_df['num_nulls']>0])\n",
    "\n",
    "#Preprocessing\n",
    "from nltk.stem.porter import PorterStemmer\n",
    "\n",
    "#Vectorizing\n",
    "from sklearn.feature_extraction.text import CountVectorizer, TfidfVectorizer\n",
    "\n",
    "#Modelling\n",
    "from sklearn.model_selection import train_test_split\n",
    "from sklearn.naive_bayes import MultinomialNB\n",
    "from sklearn.preprocessing import MinMaxScaler\n",
    "\n",
    "#Metrics\n",
    "from sklearn.metrics import confusion_matrix\n",
    "from sklearn.metrics import ConfusionMatrixDisplay\n",
    "\n",
    "from sklearn.metrics import make_scorer\n",
    "\n",
    "from sklearn.metrics import accuracy_score\n",
    "from sklearn.metrics import recall_score #sensitivity\n",
    "from sklearn.metrics import precision_score\n",
    "from sklearn.metrics import f1_score\n",
    "from sklearn.metrics import classification_report #precision+recall+f1-score"
   ]
  },
  {
   "cell_type": "code",
   "execution_count": 2,
   "id": "2c61d6d9-b352-4f7d-94c9-f198331970e1",
   "metadata": {},
   "outputs": [],
   "source": [
    "#return all scoring results:\n",
    "def fit_score_(model):\n",
    "    print(f\"y_train:\\n{y_train.value_counts(normalize=True)}\\n\")\n",
    "    print(f\"y_test:\\n{y_test.value_counts(normalize=True)}\\n\")\n",
    " \n",
    "    \n",
    "    model.fit(X_train, y_train)\n",
    "    \n",
    "    y_train_pred = model.predict(X_train)\n",
    "    y_test_pred = model.predict(X_test)\n",
    "    \n",
    "    print(f\"Train accuracy score:{model.score(X_train, y_train)}\")\n",
    "    print(f\"Test accuracy score:{model.score(X_test, y_test)}\")\n",
    "    print(f\"Train f1 score:{f1_score(y_train, y_train_pred)}\")\n",
    "    print(f\"Test f1 score:{f1_score(y_test, y_test_pred)}\")\n",
    "    print(\"\\n\")\n",
    "    print(classification_report(y_test, y_test_pred))\n",
    "    print(\"\\n\")\n",
    "    \n",
    "    cm = confusion_matrix(y_test, y_test_pred) \n",
    "    ConfusionMatrixDisplay(confusion_matrix=cm, display_labels=['Poor Games','Good games']).plot(cmap='Blues')\n",
    "    plt.show();\n",
    "    "
   ]
  },
  {
   "cell_type": "code",
   "execution_count": 3,
   "id": "47d588b7-ebd2-417d-865e-29c2e5607786",
   "metadata": {},
   "outputs": [
    {
     "name": "stdout",
     "output_type": "stream",
     "text": [
      "Shape(col,rows): (27309, 12)\n",
      "Number of duplicates: 0\n",
      "------------------------------------------------------------\n",
      "Number of each unqiue datatypes:\n",
      "object     6\n",
      "int64      4\n",
      "float64    1\n",
      "int32      1\n",
      "dtype: int64\n",
      "------------------------------------------------------------\n",
      "Columns with missing values:\n",
      "Empty DataFrame\n",
      "Columns: [col, num_nulls, perc_null]\n",
      "Index: []\n"
     ]
    },
    {
     "data": {
      "text/plain": [
       "title                   object\n",
       "r_date                  object\n",
       "price                  float64\n",
       "description             object\n",
       "review_type             object\n",
       "review_stats            object\n",
       "positive_percentage      int64\n",
       "total_reviews            int64\n",
       "tagged                  object\n",
       "game_id                  int64\n",
       "Good_Game                int32\n",
       "r_year                   int64\n",
       "dtype: object"
      ]
     },
     "execution_count": 3,
     "metadata": {},
     "output_type": "execute_result"
    }
   ],
   "source": [
    "df = pd.read_csv(\"cleaned_dataset.csv\")\n",
    "df['Good_Game'] = df['Good_Game'].astype(int)\n",
    "df_summary(df)\n",
    "df.dtypes"
   ]
  },
  {
   "cell_type": "markdown",
   "id": "1d29b479-0495-45fb-a4e1-83ec7a989210",
   "metadata": {},
   "source": [
    "# Approach 1: Explore Random Forests\n",
    "\n",
    "**Description of Approach 1**:\n",
    "*Mainly keeping all consistent, but apply different model*\n",
    "- Preprocessing:\n",
    "    - Use CountVectorizer, limit feautres to 1500 and remove StopWords\n",
    "- Model: Random Forests"
   ]
  },
  {
   "cell_type": "markdown",
   "id": "bd88e209-14dd-47c7-8603-0841c79f32aa",
   "metadata": {},
   "source": [
    "## Model Preprocessing"
   ]
  },
  {
   "cell_type": "code",
   "execution_count": 39,
   "id": "1b251b34-88a7-40d4-a3ad-0c1aa91fc97a",
   "metadata": {},
   "outputs": [],
   "source": [
    "_df = df.copy()\n",
    "\n",
    "X = _df['description']\n",
    "y = _df['Good_Game']\n",
    "\n",
    "X_train, X_test, y_train, y_test = train_test_split(X, y, random_state=23, stratify=y) \n",
    "\n",
    "print(f\"y_train:\")\n",
    "y_train.value_counts(normalize=True)\n",
    "print(\"\\n\")\n",
    "print(f\"y_test:\")\n",
    "y_test.value_counts(normalize=True)\n",
    "print(\"\\n\")\n",
    "\n",
    "cvec = CountVectorizer(stop_words = 'english',max_features=1500)\n",
    "\n",
    "X_train = cvec.fit_transform(X_train)\n",
    "X_train = pd.DataFrame(X_train.toarray(),\n",
    "                       columns = cvec.get_feature_names_out())\n",
    "\n",
    "X_test = cvec.transform(X_test)\n",
    "X_test = pd.DataFrame(X_test.toarray(),\n",
    "                      columns = cvec.get_feature_names_out())"
   ]
  },
  {
   "cell_type": "markdown",
   "id": "f9e73879-cc55-485f-ab0e-8d707ff2fcfb",
   "metadata": {},
   "source": [
    "## Model Fitting and Assessment"
   ]
  },
  {
   "cell_type": "code",
   "execution_count": 39,
   "id": "12bb59cf-e5ca-4675-b105-6b8d79bf707e",
   "metadata": {},
   "outputs": [
    {
     "name": "stdout",
     "output_type": "stream",
     "text": [
      "Train accuracy score:0.9043015477759875\n",
      "Test accuracy score:0.7246631517281781\n",
      "Train f1 score:0.937746156778046\n",
      "Test f1 score:0.837986901068597\n",
      "\n",
      "\n",
      "              precision    recall  f1-score   support\n",
      "\n",
      "       False       0.58      0.05      0.08      1904\n",
      "        True       0.73      0.99      0.84      4924\n",
      "\n",
      "    accuracy                           0.72      6828\n",
      "   macro avg       0.65      0.52      0.46      6828\n",
      "weighted avg       0.69      0.72      0.63      6828\n",
      "\n",
      "\n",
      "\n"
     ]
    },
    {
     "data": {
      "image/png": "[encoded data removed]",
      "text/plain": [
       "<Figure size 640x480 with 2 Axes>"
      ]
     },
     "metadata": {},
     "output_type": "display_data"
    }
   ],
   "source": [
    "rf = RandomForestClassifier(max_depth=50)\n",
    "fit_score_(rf)"
   ]
  },
  {
   "cell_type": "markdown",
   "id": "241f0e57-8ce6-408e-8a38-8c65e5a46c4c",
   "metadata": {},
   "source": [
    "**Comments:**\n",
    "\n",
    "|Model|Description|Performance|\n",
    "|---|---|---|\n",
    "|Baseline Model<br>Multinomial Naive Bayes|Processes:<br> CountVectorizer<br>(stop_words = 'english',<br>max_features=1500)|<li>Score to beat: 72% <li> Model Precision score: 79%|\n",
    "|Approach 1:<br>Random Forest|Processes:<br> CountVectorizer<br>(stop_words = 'english',<br>max_features=1500)|<li>Score to beat: 72% <li> Model Precision score: 73%|\n",
    "\n",
    "\n",
    "Random Forest appeat to give poorer model performance compared to our baseline model (Multinomial Naive Bayes(MNB)).\n",
    "- It has a precision score of 0.73 (vs 0.79).\n",
    "\n",
    "> Let's further improve the performance of MNB by trying different vectorizers to select the terms used for modelling. "
   ]
  },
  {
   "cell_type": "markdown",
   "id": "b32eaf85-2119-46c1-a53c-0cbbec034276",
   "metadata": {
    "tags": []
   },
   "source": [
    "# *Before we continue: Lets implement Stemming in Model Processing:*"
   ]
  },
  {
   "cell_type": "code",
   "execution_count": 5,
   "id": "f8026838-0ea0-4732-90e0-5f7842900cde",
   "metadata": {},
   "outputs": [],
   "source": [
    "stemmer = PorterStemmer()\n",
    "\n",
    "def stem_text(text):\n",
    "    return stemmer.stem(text)\n",
    "\n",
    "df['description'] = df['description'].apply(stem_text)"
   ]
  },
  {
   "cell_type": "markdown",
   "id": "add60e80-1714-4d23-a217-778a85e123ca",
   "metadata": {},
   "source": [
    "# Approach 2: Explore different Vectorizers and parameters\n",
    "> By adjusting the parameters of Count Vectoriser, we explore how the model classification performance through the different set of terms used for differentiating 'Good' and 'Poor' games\n",
    "\n",
    "- Preprocessing:\n",
    "    - CountVectorizer\n",
    "    - TfidfVectorizer\n",
    "    - varying parameters\n",
    "- Model: Multinomial Naive Bayes"
   ]
  },
  {
   "cell_type": "markdown",
   "id": "20fbb8b9-2eec-4dd5-8b28-2651c1b6507e",
   "metadata": {},
   "source": [
    "## Approach 2.1 - defining the different Vectorizers to explore"
   ]
  },
  {
   "cell_type": "code",
   "execution_count": 6,
   "id": "14efc8e3-a011-4133-b2ac-8a1cb9210ce3",
   "metadata": {},
   "outputs": [],
   "source": [
    "#cvec 1 and 2 aims to limit terms by excluding terms that are too frequent and terms that appeared too less frequent\n",
    "cvec_1 = CountVectorizer(stop_words = 'english',\n",
    "                       max_features=1500,\n",
    "                      max_df=0.5,\n",
    "                      min_df = 0.05)\n",
    "\n",
    "cvec_2 = CountVectorizer(stop_words = 'english',\n",
    "                       max_features=1500,\n",
    "                      max_df=0.3,\n",
    "                      min_df = 0.05)\n",
    "\n",
    "#cvec 3 and 4 aims to explore bigrams and trigrams\n",
    "cvec_3 = CountVectorizer(stop_words = 'english',\n",
    "                       max_features=1500,\n",
    "                      ngram_range=(2,2))\n",
    "\n",
    "cvec_4 = CountVectorizer(stop_words = 'english',\n",
    "                       max_features=1500,\n",
    "                      ngram_range=(2,3))\n",
    "\n",
    "#TFIDF is also explored (using ) \n",
    "tvec_1 = TfidfVectorizer(stop_words = 'english',\n",
    "                       max_features=1500,\n",
    "                      max_df=0.5)\n",
    "\n",
    "tvec_2 = TfidfVectorizer(stop_words = 'english',\n",
    "                       max_features=1500,\n",
    "                       min_df=0.01,\n",
    "                      ngram_range=(2,3))"
   ]
  },
  {
   "cell_type": "code",
   "execution_count": 7,
   "id": "b6fa7a7f-d46e-4655-86a7-0c67ead208d8",
   "metadata": {},
   "outputs": [],
   "source": [
    "#Putting the different vectorizer in a list\n",
    "vec_ls = [cvec_1,cvec_2,cvec_3,cvec_4,tvec_1,tvec_2]\n"
   ]
  },
  {
   "cell_type": "markdown",
   "id": "d294238a-5c92-4c02-ab4a-1b8872e66434",
   "metadata": {},
   "source": [
    "## Approach 2.2 - Applying the different Vectorizers, and evaluate model's performance"
   ]
  },
  {
   "cell_type": "code",
   "execution_count": 9,
   "id": "c8dfa661-5afc-4aaf-bd63-a368311a9b68",
   "metadata": {},
   "outputs": [
    {
     "data": {
      "text/html": [
       "<style>#sk-container-id-1 {color: black;background-color: white;}#sk-container-id-1 pre{padding: 0;}#sk-container-id-1 div.sk-toggleable {background-color: white;}#sk-container-id-1 label.sk-toggleable__label {cursor: pointer;display: block;width: 100%;margin-bottom: 0;padding: 0.3em;box-sizing: border-box;text-align: center;}#sk-container-id-1 label.sk-toggleable__label-arrow:before {content: \"▸\";float: left;margin-right: 0.25em;color: #696969;}#sk-container-id-1 label.sk-toggleable__label-arrow:hover:before {color: black;}#sk-container-id-1 div.sk-estimator:hover label.sk-toggleable__label-arrow:before {color: black;}#sk-container-id-1 div.sk-toggleable__content {max-height: 0;max-width: 0;overflow: hidden;text-align: left;background-color: #f0f8ff;}#sk-container-id-1 div.sk-toggleable__content pre {margin: 0.2em;color: black;border-radius: 0.25em;background-color: #f0f8ff;}#sk-container-id-1 input.sk-toggleable__control:checked~div.sk-toggleable__content {max-height: 200px;max-width: 100%;overflow: auto;}#sk-container-id-1 input.sk-toggleable__control:checked~label.sk-toggleable__label-arrow:before {content: \"▾\";}#sk-container-id-1 div.sk-estimator input.sk-toggleable__control:checked~label.sk-toggleable__label {background-color: #d4ebff;}#sk-container-id-1 div.sk-label input.sk-toggleable__control:checked~label.sk-toggleable__label {background-color: #d4ebff;}#sk-container-id-1 input.sk-hidden--visually {border: 0;clip: rect(1px 1px 1px 1px);clip: rect(1px, 1px, 1px, 1px);height: 1px;margin: -1px;overflow: hidden;padding: 0;position: absolute;width: 1px;}#sk-container-id-1 div.sk-estimator {font-family: monospace;background-color: #f0f8ff;border: 1px dotted black;border-radius: 0.25em;box-sizing: border-box;margin-bottom: 0.5em;}#sk-container-id-1 div.sk-estimator:hover {background-color: #d4ebff;}#sk-container-id-1 div.sk-parallel-item::after {content: \"\";width: 100%;border-bottom: 1px solid gray;flex-grow: 1;}#sk-container-id-1 div.sk-label:hover label.sk-toggleable__label {background-color: #d4ebff;}#sk-container-id-1 div.sk-serial::before {content: \"\";position: absolute;border-left: 1px solid gray;box-sizing: border-box;top: 0;bottom: 0;left: 50%;z-index: 0;}#sk-container-id-1 div.sk-serial {display: flex;flex-direction: column;align-items: center;background-color: white;padding-right: 0.2em;padding-left: 0.2em;position: relative;}#sk-container-id-1 div.sk-item {position: relative;z-index: 1;}#sk-container-id-1 div.sk-parallel {display: flex;align-items: stretch;justify-content: center;background-color: white;position: relative;}#sk-container-id-1 div.sk-item::before, #sk-container-id-1 div.sk-parallel-item::before {content: \"\";position: absolute;border-left: 1px solid gray;box-sizing: border-box;top: 0;bottom: 0;left: 50%;z-index: -1;}#sk-container-id-1 div.sk-parallel-item {display: flex;flex-direction: column;z-index: 1;position: relative;background-color: white;}#sk-container-id-1 div.sk-parallel-item:first-child::after {align-self: flex-end;width: 50%;}#sk-container-id-1 div.sk-parallel-item:last-child::after {align-self: flex-start;width: 50%;}#sk-container-id-1 div.sk-parallel-item:only-child::after {width: 0;}#sk-container-id-1 div.sk-dashed-wrapped {border: 1px dashed gray;margin: 0 0.4em 0.5em 0.4em;box-sizing: border-box;padding-bottom: 0.4em;background-color: white;}#sk-container-id-1 div.sk-label label {font-family: monospace;font-weight: bold;display: inline-block;line-height: 1.2em;}#sk-container-id-1 div.sk-label-container {text-align: center;}#sk-container-id-1 div.sk-container {/* jupyter's `normalize.less` sets `[hidden] { display: none; }` but bootstrap.min.css set `[hidden] { display: none !important; }` so we also need the `!important` here to be able to override the default hidden behavior on the sphinx rendered scikit-learn.org. See: https://github.com/scikit-learn/scikit-learn/issues/21755 */display: inline-block !important;position: relative;}#sk-container-id-1 div.sk-text-repr-fallback {display: none;}</style><div id=\"sk-container-id-1\" class=\"sk-top-container\"><div class=\"sk-text-repr-fallback\"><pre>MultinomialNB()</pre><b>In a Jupyter environment, please rerun this cell to show the HTML representation or trust the notebook. <br />On GitHub, the HTML representation is unable to render, please try loading this page with nbviewer.org.</b></div><div class=\"sk-container\" hidden><div class=\"sk-item\"><div class=\"sk-estimator sk-toggleable\"><input class=\"sk-toggleable__control sk-hidden--visually\" id=\"sk-estimator-id-1\" type=\"checkbox\" checked><label for=\"sk-estimator-id-1\" class=\"sk-toggleable__label sk-toggleable__label-arrow\">MultinomialNB</label><div class=\"sk-toggleable__content\"><pre>MultinomialNB()</pre></div></div></div></div></div>"
      ],
      "text/plain": [
       "MultinomialNB()"
      ]
     },
     "execution_count": 9,
     "metadata": {},
     "output_type": "execute_result"
    },
    {
     "name": "stdout",
     "output_type": "stream",
     "text": [
      "Precision score for cvec_1 is 0.760686951652044\n"
     ]
    },
    {
     "data": {
      "text/html": [
       "<style>#sk-container-id-2 {color: black;background-color: white;}#sk-container-id-2 pre{padding: 0;}#sk-container-id-2 div.sk-toggleable {background-color: white;}#sk-container-id-2 label.sk-toggleable__label {cursor: pointer;display: block;width: 100%;margin-bottom: 0;padding: 0.3em;box-sizing: border-box;text-align: center;}#sk-container-id-2 label.sk-toggleable__label-arrow:before {content: \"▸\";float: left;margin-right: 0.25em;color: #696969;}#sk-container-id-2 label.sk-toggleable__label-arrow:hover:before {color: black;}#sk-container-id-2 div.sk-estimator:hover label.sk-toggleable__label-arrow:before {color: black;}#sk-container-id-2 div.sk-toggleable__content {max-height: 0;max-width: 0;overflow: hidden;text-align: left;background-color: #f0f8ff;}#sk-container-id-2 div.sk-toggleable__content pre {margin: 0.2em;color: black;border-radius: 0.25em;background-color: #f0f8ff;}#sk-container-id-2 input.sk-toggleable__control:checked~div.sk-toggleable__content {max-height: 200px;max-width: 100%;overflow: auto;}#sk-container-id-2 input.sk-toggleable__control:checked~label.sk-toggleable__label-arrow:before {content: \"▾\";}#sk-container-id-2 div.sk-estimator input.sk-toggleable__control:checked~label.sk-toggleable__label {background-color: #d4ebff;}#sk-container-id-2 div.sk-label input.sk-toggleable__control:checked~label.sk-toggleable__label {background-color: #d4ebff;}#sk-container-id-2 input.sk-hidden--visually {border: 0;clip: rect(1px 1px 1px 1px);clip: rect(1px, 1px, 1px, 1px);height: 1px;margin: -1px;overflow: hidden;padding: 0;position: absolute;width: 1px;}#sk-container-id-2 div.sk-estimator {font-family: monospace;background-color: #f0f8ff;border: 1px dotted black;border-radius: 0.25em;box-sizing: border-box;margin-bottom: 0.5em;}#sk-container-id-2 div.sk-estimator:hover {background-color: #d4ebff;}#sk-container-id-2 div.sk-parallel-item::after {content: \"\";width: 100%;border-bottom: 1px solid gray;flex-grow: 1;}#sk-container-id-2 div.sk-label:hover label.sk-toggleable__label {background-color: #d4ebff;}#sk-container-id-2 div.sk-serial::before {content: \"\";position: absolute;border-left: 1px solid gray;box-sizing: border-box;top: 0;bottom: 0;left: 50%;z-index: 0;}#sk-container-id-2 div.sk-serial {display: flex;flex-direction: column;align-items: center;background-color: white;padding-right: 0.2em;padding-left: 0.2em;position: relative;}#sk-container-id-2 div.sk-item {position: relative;z-index: 1;}#sk-container-id-2 div.sk-parallel {display: flex;align-items: stretch;justify-content: center;background-color: white;position: relative;}#sk-container-id-2 div.sk-item::before, #sk-container-id-2 div.sk-parallel-item::before {content: \"\";position: absolute;border-left: 1px solid gray;box-sizing: border-box;top: 0;bottom: 0;left: 50%;z-index: -1;}#sk-container-id-2 div.sk-parallel-item {display: flex;flex-direction: column;z-index: 1;position: relative;background-color: white;}#sk-container-id-2 div.sk-parallel-item:first-child::after {align-self: flex-end;width: 50%;}#sk-container-id-2 div.sk-parallel-item:last-child::after {align-self: flex-start;width: 50%;}#sk-container-id-2 div.sk-parallel-item:only-child::after {width: 0;}#sk-container-id-2 div.sk-dashed-wrapped {border: 1px dashed gray;margin: 0 0.4em 0.5em 0.4em;box-sizing: border-box;padding-bottom: 0.4em;background-color: white;}#sk-container-id-2 div.sk-label label {font-family: monospace;font-weight: bold;display: inline-block;line-height: 1.2em;}#sk-container-id-2 div.sk-label-container {text-align: center;}#sk-container-id-2 div.sk-container {/* jupyter's `normalize.less` sets `[hidden] { display: none; }` but bootstrap.min.css set `[hidden] { display: none !important; }` so we also need the `!important` here to be able to override the default hidden behavior on the sphinx rendered scikit-learn.org. See: https://github.com/scikit-learn/scikit-learn/issues/21755 */display: inline-block !important;position: relative;}#sk-container-id-2 div.sk-text-repr-fallback {display: none;}</style><div id=\"sk-container-id-2\" class=\"sk-top-container\"><div class=\"sk-text-repr-fallback\"><pre>MultinomialNB()</pre><b>In a Jupyter environment, please rerun this cell to show the HTML representation or trust the notebook. <br />On GitHub, the HTML representation is unable to render, please try loading this page with nbviewer.org.</b></div><div class=\"sk-container\" hidden><div class=\"sk-item\"><div class=\"sk-estimator sk-toggleable\"><input class=\"sk-toggleable__control sk-hidden--visually\" id=\"sk-estimator-id-2\" type=\"checkbox\" checked><label for=\"sk-estimator-id-2\" class=\"sk-toggleable__label sk-toggleable__label-arrow\">MultinomialNB</label><div class=\"sk-toggleable__content\"><pre>MultinomialNB()</pre></div></div></div></div></div>"
      ],
      "text/plain": [
       "MultinomialNB()"
      ]
     },
     "execution_count": 9,
     "metadata": {},
     "output_type": "execute_result"
    },
    {
     "name": "stdout",
     "output_type": "stream",
     "text": [
      "Precision score for cvec_2 is 0.7614678899082569\n"
     ]
    },
    {
     "data": {
      "text/html": [
       "<style>#sk-container-id-3 {color: black;background-color: white;}#sk-container-id-3 pre{padding: 0;}#sk-container-id-3 div.sk-toggleable {background-color: white;}#sk-container-id-3 label.sk-toggleable__label {cursor: pointer;display: block;width: 100%;margin-bottom: 0;padding: 0.3em;box-sizing: border-box;text-align: center;}#sk-container-id-3 label.sk-toggleable__label-arrow:before {content: \"▸\";float: left;margin-right: 0.25em;color: #696969;}#sk-container-id-3 label.sk-toggleable__label-arrow:hover:before {color: black;}#sk-container-id-3 div.sk-estimator:hover label.sk-toggleable__label-arrow:before {color: black;}#sk-container-id-3 div.sk-toggleable__content {max-height: 0;max-width: 0;overflow: hidden;text-align: left;background-color: #f0f8ff;}#sk-container-id-3 div.sk-toggleable__content pre {margin: 0.2em;color: black;border-radius: 0.25em;background-color: #f0f8ff;}#sk-container-id-3 input.sk-toggleable__control:checked~div.sk-toggleable__content {max-height: 200px;max-width: 100%;overflow: auto;}#sk-container-id-3 input.sk-toggleable__control:checked~label.sk-toggleable__label-arrow:before {content: \"▾\";}#sk-container-id-3 div.sk-estimator input.sk-toggleable__control:checked~label.sk-toggleable__label {background-color: #d4ebff;}#sk-container-id-3 div.sk-label input.sk-toggleable__control:checked~label.sk-toggleable__label {background-color: #d4ebff;}#sk-container-id-3 input.sk-hidden--visually {border: 0;clip: rect(1px 1px 1px 1px);clip: rect(1px, 1px, 1px, 1px);height: 1px;margin: -1px;overflow: hidden;padding: 0;position: absolute;width: 1px;}#sk-container-id-3 div.sk-estimator {font-family: monospace;background-color: #f0f8ff;border: 1px dotted black;border-radius: 0.25em;box-sizing: border-box;margin-bottom: 0.5em;}#sk-container-id-3 div.sk-estimator:hover {background-color: #d4ebff;}#sk-container-id-3 div.sk-parallel-item::after {content: \"\";width: 100%;border-bottom: 1px solid gray;flex-grow: 1;}#sk-container-id-3 div.sk-label:hover label.sk-toggleable__label {background-color: #d4ebff;}#sk-container-id-3 div.sk-serial::before {content: \"\";position: absolute;border-left: 1px solid gray;box-sizing: border-box;top: 0;bottom: 0;left: 50%;z-index: 0;}#sk-container-id-3 div.sk-serial {display: flex;flex-direction: column;align-items: center;background-color: white;padding-right: 0.2em;padding-left: 0.2em;position: relative;}#sk-container-id-3 div.sk-item {position: relative;z-index: 1;}#sk-container-id-3 div.sk-parallel {display: flex;align-items: stretch;justify-content: center;background-color: white;position: relative;}#sk-container-id-3 div.sk-item::before, #sk-container-id-3 div.sk-parallel-item::before {content: \"\";position: absolute;border-left: 1px solid gray;box-sizing: border-box;top: 0;bottom: 0;left: 50%;z-index: -1;}#sk-container-id-3 div.sk-parallel-item {display: flex;flex-direction: column;z-index: 1;position: relative;background-color: white;}#sk-container-id-3 div.sk-parallel-item:first-child::after {align-self: flex-end;width: 50%;}#sk-container-id-3 div.sk-parallel-item:last-child::after {align-self: flex-start;width: 50%;}#sk-container-id-3 div.sk-parallel-item:only-child::after {width: 0;}#sk-container-id-3 div.sk-dashed-wrapped {border: 1px dashed gray;margin: 0 0.4em 0.5em 0.4em;box-sizing: border-box;padding-bottom: 0.4em;background-color: white;}#sk-container-id-3 div.sk-label label {font-family: monospace;font-weight: bold;display: inline-block;line-height: 1.2em;}#sk-container-id-3 div.sk-label-container {text-align: center;}#sk-container-id-3 div.sk-container {/* jupyter's `normalize.less` sets `[hidden] { display: none; }` but bootstrap.min.css set `[hidden] { display: none !important; }` so we also need the `!important` here to be able to override the default hidden behavior on the sphinx rendered scikit-learn.org. See: https://github.com/scikit-learn/scikit-learn/issues/21755 */display: inline-block !important;position: relative;}#sk-container-id-3 div.sk-text-repr-fallback {display: none;}</style><div id=\"sk-container-id-3\" class=\"sk-top-container\"><div class=\"sk-text-repr-fallback\"><pre>MultinomialNB()</pre><b>In a Jupyter environment, please rerun this cell to show the HTML representation or trust the notebook. <br />On GitHub, the HTML representation is unable to render, please try loading this page with nbviewer.org.</b></div><div class=\"sk-container\" hidden><div class=\"sk-item\"><div class=\"sk-estimator sk-toggleable\"><input class=\"sk-toggleable__control sk-hidden--visually\" id=\"sk-estimator-id-3\" type=\"checkbox\" checked><label for=\"sk-estimator-id-3\" class=\"sk-toggleable__label sk-toggleable__label-arrow\">MultinomialNB</label><div class=\"sk-toggleable__content\"><pre>MultinomialNB()</pre></div></div></div></div></div>"
      ],
      "text/plain": [
       "MultinomialNB()"
      ]
     },
     "execution_count": 9,
     "metadata": {},
     "output_type": "execute_result"
    },
    {
     "name": "stdout",
     "output_type": "stream",
     "text": [
      "Precision score for cvec_3 is 0.7514245014245015\n"
     ]
    },
    {
     "data": {
      "text/html": [
       "<style>#sk-container-id-4 {color: black;background-color: white;}#sk-container-id-4 pre{padding: 0;}#sk-container-id-4 div.sk-toggleable {background-color: white;}#sk-container-id-4 label.sk-toggleable__label {cursor: pointer;display: block;width: 100%;margin-bottom: 0;padding: 0.3em;box-sizing: border-box;text-align: center;}#sk-container-id-4 label.sk-toggleable__label-arrow:before {content: \"▸\";float: left;margin-right: 0.25em;color: #696969;}#sk-container-id-4 label.sk-toggleable__label-arrow:hover:before {color: black;}#sk-container-id-4 div.sk-estimator:hover label.sk-toggleable__label-arrow:before {color: black;}#sk-container-id-4 div.sk-toggleable__content {max-height: 0;max-width: 0;overflow: hidden;text-align: left;background-color: #f0f8ff;}#sk-container-id-4 div.sk-toggleable__content pre {margin: 0.2em;color: black;border-radius: 0.25em;background-color: #f0f8ff;}#sk-container-id-4 input.sk-toggleable__control:checked~div.sk-toggleable__content {max-height: 200px;max-width: 100%;overflow: auto;}#sk-container-id-4 input.sk-toggleable__control:checked~label.sk-toggleable__label-arrow:before {content: \"▾\";}#sk-container-id-4 div.sk-estimator input.sk-toggleable__control:checked~label.sk-toggleable__label {background-color: #d4ebff;}#sk-container-id-4 div.sk-label input.sk-toggleable__control:checked~label.sk-toggleable__label {background-color: #d4ebff;}#sk-container-id-4 input.sk-hidden--visually {border: 0;clip: rect(1px 1px 1px 1px);clip: rect(1px, 1px, 1px, 1px);height: 1px;margin: -1px;overflow: hidden;padding: 0;position: absolute;width: 1px;}#sk-container-id-4 div.sk-estimator {font-family: monospace;background-color: #f0f8ff;border: 1px dotted black;border-radius: 0.25em;box-sizing: border-box;margin-bottom: 0.5em;}#sk-container-id-4 div.sk-estimator:hover {background-color: #d4ebff;}#sk-container-id-4 div.sk-parallel-item::after {content: \"\";width: 100%;border-bottom: 1px solid gray;flex-grow: 1;}#sk-container-id-4 div.sk-label:hover label.sk-toggleable__label {background-color: #d4ebff;}#sk-container-id-4 div.sk-serial::before {content: \"\";position: absolute;border-left: 1px solid gray;box-sizing: border-box;top: 0;bottom: 0;left: 50%;z-index: 0;}#sk-container-id-4 div.sk-serial {display: flex;flex-direction: column;align-items: center;background-color: white;padding-right: 0.2em;padding-left: 0.2em;position: relative;}#sk-container-id-4 div.sk-item {position: relative;z-index: 1;}#sk-container-id-4 div.sk-parallel {display: flex;align-items: stretch;justify-content: center;background-color: white;position: relative;}#sk-container-id-4 div.sk-item::before, #sk-container-id-4 div.sk-parallel-item::before {content: \"\";position: absolute;border-left: 1px solid gray;box-sizing: border-box;top: 0;bottom: 0;left: 50%;z-index: -1;}#sk-container-id-4 div.sk-parallel-item {display: flex;flex-direction: column;z-index: 1;position: relative;background-color: white;}#sk-container-id-4 div.sk-parallel-item:first-child::after {align-self: flex-end;width: 50%;}#sk-container-id-4 div.sk-parallel-item:last-child::after {align-self: flex-start;width: 50%;}#sk-container-id-4 div.sk-parallel-item:only-child::after {width: 0;}#sk-container-id-4 div.sk-dashed-wrapped {border: 1px dashed gray;margin: 0 0.4em 0.5em 0.4em;box-sizing: border-box;padding-bottom: 0.4em;background-color: white;}#sk-container-id-4 div.sk-label label {font-family: monospace;font-weight: bold;display: inline-block;line-height: 1.2em;}#sk-container-id-4 div.sk-label-container {text-align: center;}#sk-container-id-4 div.sk-container {/* jupyter's `normalize.less` sets `[hidden] { display: none; }` but bootstrap.min.css set `[hidden] { display: none !important; }` so we also need the `!important` here to be able to override the default hidden behavior on the sphinx rendered scikit-learn.org. See: https://github.com/scikit-learn/scikit-learn/issues/21755 */display: inline-block !important;position: relative;}#sk-container-id-4 div.sk-text-repr-fallback {display: none;}</style><div id=\"sk-container-id-4\" class=\"sk-top-container\"><div class=\"sk-text-repr-fallback\"><pre>MultinomialNB()</pre><b>In a Jupyter environment, please rerun this cell to show the HTML representation or trust the notebook. <br />On GitHub, the HTML representation is unable to render, please try loading this page with nbviewer.org.</b></div><div class=\"sk-container\" hidden><div class=\"sk-item\"><div class=\"sk-estimator sk-toggleable\"><input class=\"sk-toggleable__control sk-hidden--visually\" id=\"sk-estimator-id-4\" type=\"checkbox\" checked><label for=\"sk-estimator-id-4\" class=\"sk-toggleable__label sk-toggleable__label-arrow\">MultinomialNB</label><div class=\"sk-toggleable__content\"><pre>MultinomialNB()</pre></div></div></div></div></div>"
      ],
      "text/plain": [
       "MultinomialNB()"
      ]
     },
     "execution_count": 9,
     "metadata": {},
     "output_type": "execute_result"
    },
    {
     "name": "stdout",
     "output_type": "stream",
     "text": [
      "Precision score for cvec_4 is 0.7556287753981329\n"
     ]
    },
    {
     "data": {
      "text/html": [
       "<style>#sk-container-id-5 {color: black;background-color: white;}#sk-container-id-5 pre{padding: 0;}#sk-container-id-5 div.sk-toggleable {background-color: white;}#sk-container-id-5 label.sk-toggleable__label {cursor: pointer;display: block;width: 100%;margin-bottom: 0;padding: 0.3em;box-sizing: border-box;text-align: center;}#sk-container-id-5 label.sk-toggleable__label-arrow:before {content: \"▸\";float: left;margin-right: 0.25em;color: #696969;}#sk-container-id-5 label.sk-toggleable__label-arrow:hover:before {color: black;}#sk-container-id-5 div.sk-estimator:hover label.sk-toggleable__label-arrow:before {color: black;}#sk-container-id-5 div.sk-toggleable__content {max-height: 0;max-width: 0;overflow: hidden;text-align: left;background-color: #f0f8ff;}#sk-container-id-5 div.sk-toggleable__content pre {margin: 0.2em;color: black;border-radius: 0.25em;background-color: #f0f8ff;}#sk-container-id-5 input.sk-toggleable__control:checked~div.sk-toggleable__content {max-height: 200px;max-width: 100%;overflow: auto;}#sk-container-id-5 input.sk-toggleable__control:checked~label.sk-toggleable__label-arrow:before {content: \"▾\";}#sk-container-id-5 div.sk-estimator input.sk-toggleable__control:checked~label.sk-toggleable__label {background-color: #d4ebff;}#sk-container-id-5 div.sk-label input.sk-toggleable__control:checked~label.sk-toggleable__label {background-color: #d4ebff;}#sk-container-id-5 input.sk-hidden--visually {border: 0;clip: rect(1px 1px 1px 1px);clip: rect(1px, 1px, 1px, 1px);height: 1px;margin: -1px;overflow: hidden;padding: 0;position: absolute;width: 1px;}#sk-container-id-5 div.sk-estimator {font-family: monospace;background-color: #f0f8ff;border: 1px dotted black;border-radius: 0.25em;box-sizing: border-box;margin-bottom: 0.5em;}#sk-container-id-5 div.sk-estimator:hover {background-color: #d4ebff;}#sk-container-id-5 div.sk-parallel-item::after {content: \"\";width: 100%;border-bottom: 1px solid gray;flex-grow: 1;}#sk-container-id-5 div.sk-label:hover label.sk-toggleable__label {background-color: #d4ebff;}#sk-container-id-5 div.sk-serial::before {content: \"\";position: absolute;border-left: 1px solid gray;box-sizing: border-box;top: 0;bottom: 0;left: 50%;z-index: 0;}#sk-container-id-5 div.sk-serial {display: flex;flex-direction: column;align-items: center;background-color: white;padding-right: 0.2em;padding-left: 0.2em;position: relative;}#sk-container-id-5 div.sk-item {position: relative;z-index: 1;}#sk-container-id-5 div.sk-parallel {display: flex;align-items: stretch;justify-content: center;background-color: white;position: relative;}#sk-container-id-5 div.sk-item::before, #sk-container-id-5 div.sk-parallel-item::before {content: \"\";position: absolute;border-left: 1px solid gray;box-sizing: border-box;top: 0;bottom: 0;left: 50%;z-index: -1;}#sk-container-id-5 div.sk-parallel-item {display: flex;flex-direction: column;z-index: 1;position: relative;background-color: white;}#sk-container-id-5 div.sk-parallel-item:first-child::after {align-self: flex-end;width: 50%;}#sk-container-id-5 div.sk-parallel-item:last-child::after {align-self: flex-start;width: 50%;}#sk-container-id-5 div.sk-parallel-item:only-child::after {width: 0;}#sk-container-id-5 div.sk-dashed-wrapped {border: 1px dashed gray;margin: 0 0.4em 0.5em 0.4em;box-sizing: border-box;padding-bottom: 0.4em;background-color: white;}#sk-container-id-5 div.sk-label label {font-family: monospace;font-weight: bold;display: inline-block;line-height: 1.2em;}#sk-container-id-5 div.sk-label-container {text-align: center;}#sk-container-id-5 div.sk-container {/* jupyter's `normalize.less` sets `[hidden] { display: none; }` but bootstrap.min.css set `[hidden] { display: none !important; }` so we also need the `!important` here to be able to override the default hidden behavior on the sphinx rendered scikit-learn.org. See: https://github.com/scikit-learn/scikit-learn/issues/21755 */display: inline-block !important;position: relative;}#sk-container-id-5 div.sk-text-repr-fallback {display: none;}</style><div id=\"sk-container-id-5\" class=\"sk-top-container\"><div class=\"sk-text-repr-fallback\"><pre>MultinomialNB()</pre><b>In a Jupyter environment, please rerun this cell to show the HTML representation or trust the notebook. <br />On GitHub, the HTML representation is unable to render, please try loading this page with nbviewer.org.</b></div><div class=\"sk-container\" hidden><div class=\"sk-item\"><div class=\"sk-estimator sk-toggleable\"><input class=\"sk-toggleable__control sk-hidden--visually\" id=\"sk-estimator-id-5\" type=\"checkbox\" checked><label for=\"sk-estimator-id-5\" class=\"sk-toggleable__label sk-toggleable__label-arrow\">MultinomialNB</label><div class=\"sk-toggleable__content\"><pre>MultinomialNB()</pre></div></div></div></div></div>"
      ],
      "text/plain": [
       "MultinomialNB()"
      ]
     },
     "execution_count": 9,
     "metadata": {},
     "output_type": "execute_result"
    },
    {
     "name": "stdout",
     "output_type": "stream",
     "text": [
      "Precision score for tvec_1 is 0.7269339692949769\n"
     ]
    },
    {
     "data": {
      "text/html": [
       "<style>#sk-container-id-6 {color: black;background-color: white;}#sk-container-id-6 pre{padding: 0;}#sk-container-id-6 div.sk-toggleable {background-color: white;}#sk-container-id-6 label.sk-toggleable__label {cursor: pointer;display: block;width: 100%;margin-bottom: 0;padding: 0.3em;box-sizing: border-box;text-align: center;}#sk-container-id-6 label.sk-toggleable__label-arrow:before {content: \"▸\";float: left;margin-right: 0.25em;color: #696969;}#sk-container-id-6 label.sk-toggleable__label-arrow:hover:before {color: black;}#sk-container-id-6 div.sk-estimator:hover label.sk-toggleable__label-arrow:before {color: black;}#sk-container-id-6 div.sk-toggleable__content {max-height: 0;max-width: 0;overflow: hidden;text-align: left;background-color: #f0f8ff;}#sk-container-id-6 div.sk-toggleable__content pre {margin: 0.2em;color: black;border-radius: 0.25em;background-color: #f0f8ff;}#sk-container-id-6 input.sk-toggleable__control:checked~div.sk-toggleable__content {max-height: 200px;max-width: 100%;overflow: auto;}#sk-container-id-6 input.sk-toggleable__control:checked~label.sk-toggleable__label-arrow:before {content: \"▾\";}#sk-container-id-6 div.sk-estimator input.sk-toggleable__control:checked~label.sk-toggleable__label {background-color: #d4ebff;}#sk-container-id-6 div.sk-label input.sk-toggleable__control:checked~label.sk-toggleable__label {background-color: #d4ebff;}#sk-container-id-6 input.sk-hidden--visually {border: 0;clip: rect(1px 1px 1px 1px);clip: rect(1px, 1px, 1px, 1px);height: 1px;margin: -1px;overflow: hidden;padding: 0;position: absolute;width: 1px;}#sk-container-id-6 div.sk-estimator {font-family: monospace;background-color: #f0f8ff;border: 1px dotted black;border-radius: 0.25em;box-sizing: border-box;margin-bottom: 0.5em;}#sk-container-id-6 div.sk-estimator:hover {background-color: #d4ebff;}#sk-container-id-6 div.sk-parallel-item::after {content: \"\";width: 100%;border-bottom: 1px solid gray;flex-grow: 1;}#sk-container-id-6 div.sk-label:hover label.sk-toggleable__label {background-color: #d4ebff;}#sk-container-id-6 div.sk-serial::before {content: \"\";position: absolute;border-left: 1px solid gray;box-sizing: border-box;top: 0;bottom: 0;left: 50%;z-index: 0;}#sk-container-id-6 div.sk-serial {display: flex;flex-direction: column;align-items: center;background-color: white;padding-right: 0.2em;padding-left: 0.2em;position: relative;}#sk-container-id-6 div.sk-item {position: relative;z-index: 1;}#sk-container-id-6 div.sk-parallel {display: flex;align-items: stretch;justify-content: center;background-color: white;position: relative;}#sk-container-id-6 div.sk-item::before, #sk-container-id-6 div.sk-parallel-item::before {content: \"\";position: absolute;border-left: 1px solid gray;box-sizing: border-box;top: 0;bottom: 0;left: 50%;z-index: -1;}#sk-container-id-6 div.sk-parallel-item {display: flex;flex-direction: column;z-index: 1;position: relative;background-color: white;}#sk-container-id-6 div.sk-parallel-item:first-child::after {align-self: flex-end;width: 50%;}#sk-container-id-6 div.sk-parallel-item:last-child::after {align-self: flex-start;width: 50%;}#sk-container-id-6 div.sk-parallel-item:only-child::after {width: 0;}#sk-container-id-6 div.sk-dashed-wrapped {border: 1px dashed gray;margin: 0 0.4em 0.5em 0.4em;box-sizing: border-box;padding-bottom: 0.4em;background-color: white;}#sk-container-id-6 div.sk-label label {font-family: monospace;font-weight: bold;display: inline-block;line-height: 1.2em;}#sk-container-id-6 div.sk-label-container {text-align: center;}#sk-container-id-6 div.sk-container {/* jupyter's `normalize.less` sets `[hidden] { display: none; }` but bootstrap.min.css set `[hidden] { display: none !important; }` so we also need the `!important` here to be able to override the default hidden behavior on the sphinx rendered scikit-learn.org. See: https://github.com/scikit-learn/scikit-learn/issues/21755 */display: inline-block !important;position: relative;}#sk-container-id-6 div.sk-text-repr-fallback {display: none;}</style><div id=\"sk-container-id-6\" class=\"sk-top-container\"><div class=\"sk-text-repr-fallback\"><pre>MultinomialNB()</pre><b>In a Jupyter environment, please rerun this cell to show the HTML representation or trust the notebook. <br />On GitHub, the HTML representation is unable to render, please try loading this page with nbviewer.org.</b></div><div class=\"sk-container\" hidden><div class=\"sk-item\"><div class=\"sk-estimator sk-toggleable\"><input class=\"sk-toggleable__control sk-hidden--visually\" id=\"sk-estimator-id-6\" type=\"checkbox\" checked><label for=\"sk-estimator-id-6\" class=\"sk-toggleable__label sk-toggleable__label-arrow\">MultinomialNB</label><div class=\"sk-toggleable__content\"><pre>MultinomialNB()</pre></div></div></div></div></div>"
      ],
      "text/plain": [
       "MultinomialNB()"
      ]
     },
     "execution_count": 9,
     "metadata": {},
     "output_type": "execute_result"
    },
    {
     "name": "stdout",
     "output_type": "stream",
     "text": [
      "Precision score for tvec_2 is 0.7212538450270983\n"
     ]
    }
   ],
   "source": [
    "## lets obtain the precision score using these different vectorisers:\n",
    "number = 0\n",
    "\n",
    "for vec in vec_ls:\n",
    "    _df = df.copy()\n",
    "\n",
    "    X = _df['description']\n",
    "    y = _df['Good_Game']\n",
    "\n",
    "    X_train, X_test, y_train, y_test = train_test_split(X, y, random_state=23, stratify=y) \n",
    "\n",
    "    X_train = vec.fit_transform(X_train)\n",
    "    X_train = pd.DataFrame(X_train.toarray(),\n",
    "                           columns = vec.get_feature_names_out())\n",
    "\n",
    "    X_test = vec.transform(X_test)\n",
    "    X_test = pd.DataFrame(X_test.toarray(),\n",
    "                          columns = vec.get_feature_names_out())\n",
    "\n",
    "    nb = MultinomialNB()\n",
    "    nb.fit(X_train, y_train)\n",
    "    y_pred = nb.predict(X_test)   \n",
    "    print(f\"Precision score for {vec_name[number]} is {precision_score(y_test, y_pred)}\")\n",
    "    \n",
    "    number = number + 1"
   ]
  },
  {
   "cell_type": "markdown",
   "id": "f14cc53d-c67f-41e7-b3e1-a4ee7d0b1b48",
   "metadata": {},
   "source": [
    "**Comments**\n",
    "\n",
    "These precision scores are generally poorer than that of our baseline model (0.79), which is not desirable to our stakeholders.\n",
    "\n",
    "|Model|Description|Performance|\n",
    "|---|---|---|\n",
    "|Baseline Model<br>Multinomial Naive Bayes|Processes:<br> CountVectorizer<br>(stop_words = 'english',<br>max_features=1500)|<li>Score to beat: 72% <li> Model Precision score: 79%|\n",
    "|Approach 1:<br>Random Forest|Processes:<br> CountVectorizer<br>(stop_words = 'english',<br>max_features=1500)|<li>Score to beat: 72% <li> Model Precision score: 73%|\n",
    "|Approach 2:<br>Multinomial Naive Bayes<br>varying Vectorizer used|Processes:<br> CountVectorizer<br>TfidfVectorizer|<li>Score to beat: 72% <li> Models Precision score 72-76%|"
   ]
  },
  {
   "cell_type": "markdown",
   "id": "4c37bd04-9a50-41d9-88ee-6cceec9c16a7",
   "metadata": {},
   "source": [
    "# Approach 3: Explore different vectorizers with game with at least 50 reviews.\n",
    "\n",
    "**Rationale**:<br> \n",
    "- Good Games are defined as games with more than 70% positive reviews. \n",
    "- However, there are games with small number of reviews, raising concern whether labelling as such is accurate. \n",
    "\n",
    "> We shall now explore how the model (MNB) perform when we only include games with minimum 50 reviews.\n",
    "> With smaller dataset, we are able to expand our max_features to a larger number while still performing within our computer's limit."
   ]
  },
  {
   "cell_type": "code",
   "execution_count": 10,
   "id": "84fd72c1-0f3d-4811-a146-2740d69cb3b5",
   "metadata": {},
   "outputs": [
    {
     "data": {
      "text/plain": [
       "10429"
      ]
     },
     "execution_count": 10,
     "metadata": {},
     "output_type": "execute_result"
    },
    {
     "data": {
      "text/plain": [
       "1    0.776009\n",
       "0    0.223991\n",
       "Name: Good_Game, dtype: float64"
      ]
     },
     "execution_count": 10,
     "metadata": {},
     "output_type": "execute_result"
    }
   ],
   "source": [
    "games_atlst50revw_df = df.loc[df['total_reviews']>=50,:]\n",
    "len(games_atlst50revw_df)\n",
    "games_atlst50revw_df['Good_Game'].value_counts(normalize=True)"
   ]
  },
  {
   "cell_type": "markdown",
   "id": "d38fc45b-b49c-490d-837f-46f71f53fd58",
   "metadata": {},
   "source": [
    "## **Note: New Precision Target**\n",
    "- Now that we filter out games with <50 reviews, the new sample have 77.6% 'Good Games'.\n",
    "- Now, in other words, the model has to aim for precision much better than 77.6%"
   ]
  },
  {
   "cell_type": "code",
   "execution_count": 11,
   "id": "5d179cc5-d09a-4cf5-b0b0-df3d8c368f73",
   "metadata": {},
   "outputs": [
    {
     "data": {
      "text/html": [
       "<style>#sk-container-id-7 {color: black;background-color: white;}#sk-container-id-7 pre{padding: 0;}#sk-container-id-7 div.sk-toggleable {background-color: white;}#sk-container-id-7 label.sk-toggleable__label {cursor: pointer;display: block;width: 100%;margin-bottom: 0;padding: 0.3em;box-sizing: border-box;text-align: center;}#sk-container-id-7 label.sk-toggleable__label-arrow:before {content: \"▸\";float: left;margin-right: 0.25em;color: #696969;}#sk-container-id-7 label.sk-toggleable__label-arrow:hover:before {color: black;}#sk-container-id-7 div.sk-estimator:hover label.sk-toggleable__label-arrow:before {color: black;}#sk-container-id-7 div.sk-toggleable__content {max-height: 0;max-width: 0;overflow: hidden;text-align: left;background-color: #f0f8ff;}#sk-container-id-7 div.sk-toggleable__content pre {margin: 0.2em;color: black;border-radius: 0.25em;background-color: #f0f8ff;}#sk-container-id-7 input.sk-toggleable__control:checked~div.sk-toggleable__content {max-height: 200px;max-width: 100%;overflow: auto;}#sk-container-id-7 input.sk-toggleable__control:checked~label.sk-toggleable__label-arrow:before {content: \"▾\";}#sk-container-id-7 div.sk-estimator input.sk-toggleable__control:checked~label.sk-toggleable__label {background-color: #d4ebff;}#sk-container-id-7 div.sk-label input.sk-toggleable__control:checked~label.sk-toggleable__label {background-color: #d4ebff;}#sk-container-id-7 input.sk-hidden--visually {border: 0;clip: rect(1px 1px 1px 1px);clip: rect(1px, 1px, 1px, 1px);height: 1px;margin: -1px;overflow: hidden;padding: 0;position: absolute;width: 1px;}#sk-container-id-7 div.sk-estimator {font-family: monospace;background-color: #f0f8ff;border: 1px dotted black;border-radius: 0.25em;box-sizing: border-box;margin-bottom: 0.5em;}#sk-container-id-7 div.sk-estimator:hover {background-color: #d4ebff;}#sk-container-id-7 div.sk-parallel-item::after {content: \"\";width: 100%;border-bottom: 1px solid gray;flex-grow: 1;}#sk-container-id-7 div.sk-label:hover label.sk-toggleable__label {background-color: #d4ebff;}#sk-container-id-7 div.sk-serial::before {content: \"\";position: absolute;border-left: 1px solid gray;box-sizing: border-box;top: 0;bottom: 0;left: 50%;z-index: 0;}#sk-container-id-7 div.sk-serial {display: flex;flex-direction: column;align-items: center;background-color: white;padding-right: 0.2em;padding-left: 0.2em;position: relative;}#sk-container-id-7 div.sk-item {position: relative;z-index: 1;}#sk-container-id-7 div.sk-parallel {display: flex;align-items: stretch;justify-content: center;background-color: white;position: relative;}#sk-container-id-7 div.sk-item::before, #sk-container-id-7 div.sk-parallel-item::before {content: \"\";position: absolute;border-left: 1px solid gray;box-sizing: border-box;top: 0;bottom: 0;left: 50%;z-index: -1;}#sk-container-id-7 div.sk-parallel-item {display: flex;flex-direction: column;z-index: 1;position: relative;background-color: white;}#sk-container-id-7 div.sk-parallel-item:first-child::after {align-self: flex-end;width: 50%;}#sk-container-id-7 div.sk-parallel-item:last-child::after {align-self: flex-start;width: 50%;}#sk-container-id-7 div.sk-parallel-item:only-child::after {width: 0;}#sk-container-id-7 div.sk-dashed-wrapped {border: 1px dashed gray;margin: 0 0.4em 0.5em 0.4em;box-sizing: border-box;padding-bottom: 0.4em;background-color: white;}#sk-container-id-7 div.sk-label label {font-family: monospace;font-weight: bold;display: inline-block;line-height: 1.2em;}#sk-container-id-7 div.sk-label-container {text-align: center;}#sk-container-id-7 div.sk-container {/* jupyter's `normalize.less` sets `[hidden] { display: none; }` but bootstrap.min.css set `[hidden] { display: none !important; }` so we also need the `!important` here to be able to override the default hidden behavior on the sphinx rendered scikit-learn.org. See: https://github.com/scikit-learn/scikit-learn/issues/21755 */display: inline-block !important;position: relative;}#sk-container-id-7 div.sk-text-repr-fallback {display: none;}</style><div id=\"sk-container-id-7\" class=\"sk-top-container\"><div class=\"sk-text-repr-fallback\"><pre>MultinomialNB()</pre><b>In a Jupyter environment, please rerun this cell to show the HTML representation or trust the notebook. <br />On GitHub, the HTML representation is unable to render, please try loading this page with nbviewer.org.</b></div><div class=\"sk-container\" hidden><div class=\"sk-item\"><div class=\"sk-estimator sk-toggleable\"><input class=\"sk-toggleable__control sk-hidden--visually\" id=\"sk-estimator-id-7\" type=\"checkbox\" checked><label for=\"sk-estimator-id-7\" class=\"sk-toggleable__label sk-toggleable__label-arrow\">MultinomialNB</label><div class=\"sk-toggleable__content\"><pre>MultinomialNB()</pre></div></div></div></div></div>"
      ],
      "text/plain": [
       "MultinomialNB()"
      ]
     },
     "execution_count": 11,
     "metadata": {},
     "output_type": "execute_result"
    },
    {
     "name": "stdout",
     "output_type": "stream",
     "text": [
      "Precision score for cvec_uniG is 0.8127208480565371\n"
     ]
    },
    {
     "data": {
      "text/html": [
       "<style>#sk-container-id-8 {color: black;background-color: white;}#sk-container-id-8 pre{padding: 0;}#sk-container-id-8 div.sk-toggleable {background-color: white;}#sk-container-id-8 label.sk-toggleable__label {cursor: pointer;display: block;width: 100%;margin-bottom: 0;padding: 0.3em;box-sizing: border-box;text-align: center;}#sk-container-id-8 label.sk-toggleable__label-arrow:before {content: \"▸\";float: left;margin-right: 0.25em;color: #696969;}#sk-container-id-8 label.sk-toggleable__label-arrow:hover:before {color: black;}#sk-container-id-8 div.sk-estimator:hover label.sk-toggleable__label-arrow:before {color: black;}#sk-container-id-8 div.sk-toggleable__content {max-height: 0;max-width: 0;overflow: hidden;text-align: left;background-color: #f0f8ff;}#sk-container-id-8 div.sk-toggleable__content pre {margin: 0.2em;color: black;border-radius: 0.25em;background-color: #f0f8ff;}#sk-container-id-8 input.sk-toggleable__control:checked~div.sk-toggleable__content {max-height: 200px;max-width: 100%;overflow: auto;}#sk-container-id-8 input.sk-toggleable__control:checked~label.sk-toggleable__label-arrow:before {content: \"▾\";}#sk-container-id-8 div.sk-estimator input.sk-toggleable__control:checked~label.sk-toggleable__label {background-color: #d4ebff;}#sk-container-id-8 div.sk-label input.sk-toggleable__control:checked~label.sk-toggleable__label {background-color: #d4ebff;}#sk-container-id-8 input.sk-hidden--visually {border: 0;clip: rect(1px 1px 1px 1px);clip: rect(1px, 1px, 1px, 1px);height: 1px;margin: -1px;overflow: hidden;padding: 0;position: absolute;width: 1px;}#sk-container-id-8 div.sk-estimator {font-family: monospace;background-color: #f0f8ff;border: 1px dotted black;border-radius: 0.25em;box-sizing: border-box;margin-bottom: 0.5em;}#sk-container-id-8 div.sk-estimator:hover {background-color: #d4ebff;}#sk-container-id-8 div.sk-parallel-item::after {content: \"\";width: 100%;border-bottom: 1px solid gray;flex-grow: 1;}#sk-container-id-8 div.sk-label:hover label.sk-toggleable__label {background-color: #d4ebff;}#sk-container-id-8 div.sk-serial::before {content: \"\";position: absolute;border-left: 1px solid gray;box-sizing: border-box;top: 0;bottom: 0;left: 50%;z-index: 0;}#sk-container-id-8 div.sk-serial {display: flex;flex-direction: column;align-items: center;background-color: white;padding-right: 0.2em;padding-left: 0.2em;position: relative;}#sk-container-id-8 div.sk-item {position: relative;z-index: 1;}#sk-container-id-8 div.sk-parallel {display: flex;align-items: stretch;justify-content: center;background-color: white;position: relative;}#sk-container-id-8 div.sk-item::before, #sk-container-id-8 div.sk-parallel-item::before {content: \"\";position: absolute;border-left: 1px solid gray;box-sizing: border-box;top: 0;bottom: 0;left: 50%;z-index: -1;}#sk-container-id-8 div.sk-parallel-item {display: flex;flex-direction: column;z-index: 1;position: relative;background-color: white;}#sk-container-id-8 div.sk-parallel-item:first-child::after {align-self: flex-end;width: 50%;}#sk-container-id-8 div.sk-parallel-item:last-child::after {align-self: flex-start;width: 50%;}#sk-container-id-8 div.sk-parallel-item:only-child::after {width: 0;}#sk-container-id-8 div.sk-dashed-wrapped {border: 1px dashed gray;margin: 0 0.4em 0.5em 0.4em;box-sizing: border-box;padding-bottom: 0.4em;background-color: white;}#sk-container-id-8 div.sk-label label {font-family: monospace;font-weight: bold;display: inline-block;line-height: 1.2em;}#sk-container-id-8 div.sk-label-container {text-align: center;}#sk-container-id-8 div.sk-container {/* jupyter's `normalize.less` sets `[hidden] { display: none; }` but bootstrap.min.css set `[hidden] { display: none !important; }` so we also need the `!important` here to be able to override the default hidden behavior on the sphinx rendered scikit-learn.org. See: https://github.com/scikit-learn/scikit-learn/issues/21755 */display: inline-block !important;position: relative;}#sk-container-id-8 div.sk-text-repr-fallback {display: none;}</style><div id=\"sk-container-id-8\" class=\"sk-top-container\"><div class=\"sk-text-repr-fallback\"><pre>MultinomialNB()</pre><b>In a Jupyter environment, please rerun this cell to show the HTML representation or trust the notebook. <br />On GitHub, the HTML representation is unable to render, please try loading this page with nbviewer.org.</b></div><div class=\"sk-container\" hidden><div class=\"sk-item\"><div class=\"sk-estimator sk-toggleable\"><input class=\"sk-toggleable__control sk-hidden--visually\" id=\"sk-estimator-id-8\" type=\"checkbox\" checked><label for=\"sk-estimator-id-8\" class=\"sk-toggleable__label sk-toggleable__label-arrow\">MultinomialNB</label><div class=\"sk-toggleable__content\"><pre>MultinomialNB()</pre></div></div></div></div></div>"
      ],
      "text/plain": [
       "MultinomialNB()"
      ]
     },
     "execution_count": 11,
     "metadata": {},
     "output_type": "execute_result"
    },
    {
     "name": "stdout",
     "output_type": "stream",
     "text": [
      "Precision score for cvec_biG is 0.7767369242779079\n"
     ]
    },
    {
     "data": {
      "text/html": [
       "<style>#sk-container-id-9 {color: black;background-color: white;}#sk-container-id-9 pre{padding: 0;}#sk-container-id-9 div.sk-toggleable {background-color: white;}#sk-container-id-9 label.sk-toggleable__label {cursor: pointer;display: block;width: 100%;margin-bottom: 0;padding: 0.3em;box-sizing: border-box;text-align: center;}#sk-container-id-9 label.sk-toggleable__label-arrow:before {content: \"▸\";float: left;margin-right: 0.25em;color: #696969;}#sk-container-id-9 label.sk-toggleable__label-arrow:hover:before {color: black;}#sk-container-id-9 div.sk-estimator:hover label.sk-toggleable__label-arrow:before {color: black;}#sk-container-id-9 div.sk-toggleable__content {max-height: 0;max-width: 0;overflow: hidden;text-align: left;background-color: #f0f8ff;}#sk-container-id-9 div.sk-toggleable__content pre {margin: 0.2em;color: black;border-radius: 0.25em;background-color: #f0f8ff;}#sk-container-id-9 input.sk-toggleable__control:checked~div.sk-toggleable__content {max-height: 200px;max-width: 100%;overflow: auto;}#sk-container-id-9 input.sk-toggleable__control:checked~label.sk-toggleable__label-arrow:before {content: \"▾\";}#sk-container-id-9 div.sk-estimator input.sk-toggleable__control:checked~label.sk-toggleable__label {background-color: #d4ebff;}#sk-container-id-9 div.sk-label input.sk-toggleable__control:checked~label.sk-toggleable__label {background-color: #d4ebff;}#sk-container-id-9 input.sk-hidden--visually {border: 0;clip: rect(1px 1px 1px 1px);clip: rect(1px, 1px, 1px, 1px);height: 1px;margin: -1px;overflow: hidden;padding: 0;position: absolute;width: 1px;}#sk-container-id-9 div.sk-estimator {font-family: monospace;background-color: #f0f8ff;border: 1px dotted black;border-radius: 0.25em;box-sizing: border-box;margin-bottom: 0.5em;}#sk-container-id-9 div.sk-estimator:hover {background-color: #d4ebff;}#sk-container-id-9 div.sk-parallel-item::after {content: \"\";width: 100%;border-bottom: 1px solid gray;flex-grow: 1;}#sk-container-id-9 div.sk-label:hover label.sk-toggleable__label {background-color: #d4ebff;}#sk-container-id-9 div.sk-serial::before {content: \"\";position: absolute;border-left: 1px solid gray;box-sizing: border-box;top: 0;bottom: 0;left: 50%;z-index: 0;}#sk-container-id-9 div.sk-serial {display: flex;flex-direction: column;align-items: center;background-color: white;padding-right: 0.2em;padding-left: 0.2em;position: relative;}#sk-container-id-9 div.sk-item {position: relative;z-index: 1;}#sk-container-id-9 div.sk-parallel {display: flex;align-items: stretch;justify-content: center;background-color: white;position: relative;}#sk-container-id-9 div.sk-item::before, #sk-container-id-9 div.sk-parallel-item::before {content: \"\";position: absolute;border-left: 1px solid gray;box-sizing: border-box;top: 0;bottom: 0;left: 50%;z-index: -1;}#sk-container-id-9 div.sk-parallel-item {display: flex;flex-direction: column;z-index: 1;position: relative;background-color: white;}#sk-container-id-9 div.sk-parallel-item:first-child::after {align-self: flex-end;width: 50%;}#sk-container-id-9 div.sk-parallel-item:last-child::after {align-self: flex-start;width: 50%;}#sk-container-id-9 div.sk-parallel-item:only-child::after {width: 0;}#sk-container-id-9 div.sk-dashed-wrapped {border: 1px dashed gray;margin: 0 0.4em 0.5em 0.4em;box-sizing: border-box;padding-bottom: 0.4em;background-color: white;}#sk-container-id-9 div.sk-label label {font-family: monospace;font-weight: bold;display: inline-block;line-height: 1.2em;}#sk-container-id-9 div.sk-label-container {text-align: center;}#sk-container-id-9 div.sk-container {/* jupyter's `normalize.less` sets `[hidden] { display: none; }` but bootstrap.min.css set `[hidden] { display: none !important; }` so we also need the `!important` here to be able to override the default hidden behavior on the sphinx rendered scikit-learn.org. See: https://github.com/scikit-learn/scikit-learn/issues/21755 */display: inline-block !important;position: relative;}#sk-container-id-9 div.sk-text-repr-fallback {display: none;}</style><div id=\"sk-container-id-9\" class=\"sk-top-container\"><div class=\"sk-text-repr-fallback\"><pre>MultinomialNB()</pre><b>In a Jupyter environment, please rerun this cell to show the HTML representation or trust the notebook. <br />On GitHub, the HTML representation is unable to render, please try loading this page with nbviewer.org.</b></div><div class=\"sk-container\" hidden><div class=\"sk-item\"><div class=\"sk-estimator sk-toggleable\"><input class=\"sk-toggleable__control sk-hidden--visually\" id=\"sk-estimator-id-9\" type=\"checkbox\" checked><label for=\"sk-estimator-id-9\" class=\"sk-toggleable__label sk-toggleable__label-arrow\">MultinomialNB</label><div class=\"sk-toggleable__content\"><pre>MultinomialNB()</pre></div></div></div></div></div>"
      ],
      "text/plain": [
       "MultinomialNB()"
      ]
     },
     "execution_count": 11,
     "metadata": {},
     "output_type": "execute_result"
    },
    {
     "name": "stdout",
     "output_type": "stream",
     "text": [
      "Precision score for cvec_biG_triG is 0.7767369242779079\n"
     ]
    },
    {
     "data": {
      "text/html": [
       "<style>#sk-container-id-10 {color: black;background-color: white;}#sk-container-id-10 pre{padding: 0;}#sk-container-id-10 div.sk-toggleable {background-color: white;}#sk-container-id-10 label.sk-toggleable__label {cursor: pointer;display: block;width: 100%;margin-bottom: 0;padding: 0.3em;box-sizing: border-box;text-align: center;}#sk-container-id-10 label.sk-toggleable__label-arrow:before {content: \"▸\";float: left;margin-right: 0.25em;color: #696969;}#sk-container-id-10 label.sk-toggleable__label-arrow:hover:before {color: black;}#sk-container-id-10 div.sk-estimator:hover label.sk-toggleable__label-arrow:before {color: black;}#sk-container-id-10 div.sk-toggleable__content {max-height: 0;max-width: 0;overflow: hidden;text-align: left;background-color: #f0f8ff;}#sk-container-id-10 div.sk-toggleable__content pre {margin: 0.2em;color: black;border-radius: 0.25em;background-color: #f0f8ff;}#sk-container-id-10 input.sk-toggleable__control:checked~div.sk-toggleable__content {max-height: 200px;max-width: 100%;overflow: auto;}#sk-container-id-10 input.sk-toggleable__control:checked~label.sk-toggleable__label-arrow:before {content: \"▾\";}#sk-container-id-10 div.sk-estimator input.sk-toggleable__control:checked~label.sk-toggleable__label {background-color: #d4ebff;}#sk-container-id-10 div.sk-label input.sk-toggleable__control:checked~label.sk-toggleable__label {background-color: #d4ebff;}#sk-container-id-10 input.sk-hidden--visually {border: 0;clip: rect(1px 1px 1px 1px);clip: rect(1px, 1px, 1px, 1px);height: 1px;margin: -1px;overflow: hidden;padding: 0;position: absolute;width: 1px;}#sk-container-id-10 div.sk-estimator {font-family: monospace;background-color: #f0f8ff;border: 1px dotted black;border-radius: 0.25em;box-sizing: border-box;margin-bottom: 0.5em;}#sk-container-id-10 div.sk-estimator:hover {background-color: #d4ebff;}#sk-container-id-10 div.sk-parallel-item::after {content: \"\";width: 100%;border-bottom: 1px solid gray;flex-grow: 1;}#sk-container-id-10 div.sk-label:hover label.sk-toggleable__label {background-color: #d4ebff;}#sk-container-id-10 div.sk-serial::before {content: \"\";position: absolute;border-left: 1px solid gray;box-sizing: border-box;top: 0;bottom: 0;left: 50%;z-index: 0;}#sk-container-id-10 div.sk-serial {display: flex;flex-direction: column;align-items: center;background-color: white;padding-right: 0.2em;padding-left: 0.2em;position: relative;}#sk-container-id-10 div.sk-item {position: relative;z-index: 1;}#sk-container-id-10 div.sk-parallel {display: flex;align-items: stretch;justify-content: center;background-color: white;position: relative;}#sk-container-id-10 div.sk-item::before, #sk-container-id-10 div.sk-parallel-item::before {content: \"\";position: absolute;border-left: 1px solid gray;box-sizing: border-box;top: 0;bottom: 0;left: 50%;z-index: -1;}#sk-container-id-10 div.sk-parallel-item {display: flex;flex-direction: column;z-index: 1;position: relative;background-color: white;}#sk-container-id-10 div.sk-parallel-item:first-child::after {align-self: flex-end;width: 50%;}#sk-container-id-10 div.sk-parallel-item:last-child::after {align-self: flex-start;width: 50%;}#sk-container-id-10 div.sk-parallel-item:only-child::after {width: 0;}#sk-container-id-10 div.sk-dashed-wrapped {border: 1px dashed gray;margin: 0 0.4em 0.5em 0.4em;box-sizing: border-box;padding-bottom: 0.4em;background-color: white;}#sk-container-id-10 div.sk-label label {font-family: monospace;font-weight: bold;display: inline-block;line-height: 1.2em;}#sk-container-id-10 div.sk-label-container {text-align: center;}#sk-container-id-10 div.sk-container {/* jupyter's `normalize.less` sets `[hidden] { display: none; }` but bootstrap.min.css set `[hidden] { display: none !important; }` so we also need the `!important` here to be able to override the default hidden behavior on the sphinx rendered scikit-learn.org. See: https://github.com/scikit-learn/scikit-learn/issues/21755 */display: inline-block !important;position: relative;}#sk-container-id-10 div.sk-text-repr-fallback {display: none;}</style><div id=\"sk-container-id-10\" class=\"sk-top-container\"><div class=\"sk-text-repr-fallback\"><pre>MultinomialNB()</pre><b>In a Jupyter environment, please rerun this cell to show the HTML representation or trust the notebook. <br />On GitHub, the HTML representation is unable to render, please try loading this page with nbviewer.org.</b></div><div class=\"sk-container\" hidden><div class=\"sk-item\"><div class=\"sk-estimator sk-toggleable\"><input class=\"sk-toggleable__control sk-hidden--visually\" id=\"sk-estimator-id-10\" type=\"checkbox\" checked><label for=\"sk-estimator-id-10\" class=\"sk-toggleable__label sk-toggleable__label-arrow\">MultinomialNB</label><div class=\"sk-toggleable__content\"><pre>MultinomialNB()</pre></div></div></div></div></div>"
      ],
      "text/plain": [
       "MultinomialNB()"
      ]
     },
     "execution_count": 11,
     "metadata": {},
     "output_type": "execute_result"
    },
    {
     "name": "stdout",
     "output_type": "stream",
     "text": [
      "Precision score for cvec_uniG_biG is 0.8342391304347826\n"
     ]
    },
    {
     "data": {
      "text/html": [
       "<style>#sk-container-id-11 {color: black;background-color: white;}#sk-container-id-11 pre{padding: 0;}#sk-container-id-11 div.sk-toggleable {background-color: white;}#sk-container-id-11 label.sk-toggleable__label {cursor: pointer;display: block;width: 100%;margin-bottom: 0;padding: 0.3em;box-sizing: border-box;text-align: center;}#sk-container-id-11 label.sk-toggleable__label-arrow:before {content: \"▸\";float: left;margin-right: 0.25em;color: #696969;}#sk-container-id-11 label.sk-toggleable__label-arrow:hover:before {color: black;}#sk-container-id-11 div.sk-estimator:hover label.sk-toggleable__label-arrow:before {color: black;}#sk-container-id-11 div.sk-toggleable__content {max-height: 0;max-width: 0;overflow: hidden;text-align: left;background-color: #f0f8ff;}#sk-container-id-11 div.sk-toggleable__content pre {margin: 0.2em;color: black;border-radius: 0.25em;background-color: #f0f8ff;}#sk-container-id-11 input.sk-toggleable__control:checked~div.sk-toggleable__content {max-height: 200px;max-width: 100%;overflow: auto;}#sk-container-id-11 input.sk-toggleable__control:checked~label.sk-toggleable__label-arrow:before {content: \"▾\";}#sk-container-id-11 div.sk-estimator input.sk-toggleable__control:checked~label.sk-toggleable__label {background-color: #d4ebff;}#sk-container-id-11 div.sk-label input.sk-toggleable__control:checked~label.sk-toggleable__label {background-color: #d4ebff;}#sk-container-id-11 input.sk-hidden--visually {border: 0;clip: rect(1px 1px 1px 1px);clip: rect(1px, 1px, 1px, 1px);height: 1px;margin: -1px;overflow: hidden;padding: 0;position: absolute;width: 1px;}#sk-container-id-11 div.sk-estimator {font-family: monospace;background-color: #f0f8ff;border: 1px dotted black;border-radius: 0.25em;box-sizing: border-box;margin-bottom: 0.5em;}#sk-container-id-11 div.sk-estimator:hover {background-color: #d4ebff;}#sk-container-id-11 div.sk-parallel-item::after {content: \"\";width: 100%;border-bottom: 1px solid gray;flex-grow: 1;}#sk-container-id-11 div.sk-label:hover label.sk-toggleable__label {background-color: #d4ebff;}#sk-container-id-11 div.sk-serial::before {content: \"\";position: absolute;border-left: 1px solid gray;box-sizing: border-box;top: 0;bottom: 0;left: 50%;z-index: 0;}#sk-container-id-11 div.sk-serial {display: flex;flex-direction: column;align-items: center;background-color: white;padding-right: 0.2em;padding-left: 0.2em;position: relative;}#sk-container-id-11 div.sk-item {position: relative;z-index: 1;}#sk-container-id-11 div.sk-parallel {display: flex;align-items: stretch;justify-content: center;background-color: white;position: relative;}#sk-container-id-11 div.sk-item::before, #sk-container-id-11 div.sk-parallel-item::before {content: \"\";position: absolute;border-left: 1px solid gray;box-sizing: border-box;top: 0;bottom: 0;left: 50%;z-index: -1;}#sk-container-id-11 div.sk-parallel-item {display: flex;flex-direction: column;z-index: 1;position: relative;background-color: white;}#sk-container-id-11 div.sk-parallel-item:first-child::after {align-self: flex-end;width: 50%;}#sk-container-id-11 div.sk-parallel-item:last-child::after {align-self: flex-start;width: 50%;}#sk-container-id-11 div.sk-parallel-item:only-child::after {width: 0;}#sk-container-id-11 div.sk-dashed-wrapped {border: 1px dashed gray;margin: 0 0.4em 0.5em 0.4em;box-sizing: border-box;padding-bottom: 0.4em;background-color: white;}#sk-container-id-11 div.sk-label label {font-family: monospace;font-weight: bold;display: inline-block;line-height: 1.2em;}#sk-container-id-11 div.sk-label-container {text-align: center;}#sk-container-id-11 div.sk-container {/* jupyter's `normalize.less` sets `[hidden] { display: none; }` but bootstrap.min.css set `[hidden] { display: none !important; }` so we also need the `!important` here to be able to override the default hidden behavior on the sphinx rendered scikit-learn.org. See: https://github.com/scikit-learn/scikit-learn/issues/21755 */display: inline-block !important;position: relative;}#sk-container-id-11 div.sk-text-repr-fallback {display: none;}</style><div id=\"sk-container-id-11\" class=\"sk-top-container\"><div class=\"sk-text-repr-fallback\"><pre>MultinomialNB()</pre><b>In a Jupyter environment, please rerun this cell to show the HTML representation or trust the notebook. <br />On GitHub, the HTML representation is unable to render, please try loading this page with nbviewer.org.</b></div><div class=\"sk-container\" hidden><div class=\"sk-item\"><div class=\"sk-estimator sk-toggleable\"><input class=\"sk-toggleable__control sk-hidden--visually\" id=\"sk-estimator-id-11\" type=\"checkbox\" checked><label for=\"sk-estimator-id-11\" class=\"sk-toggleable__label sk-toggleable__label-arrow\">MultinomialNB</label><div class=\"sk-toggleable__content\"><pre>MultinomialNB()</pre></div></div></div></div></div>"
      ],
      "text/plain": [
       "MultinomialNB()"
      ]
     },
     "execution_count": 11,
     "metadata": {},
     "output_type": "execute_result"
    },
    {
     "name": "stdout",
     "output_type": "stream",
     "text": [
      "Precision score for tvec_uniG is 0.7760736196319018\n"
     ]
    },
    {
     "data": {
      "text/html": [
       "<style>#sk-container-id-12 {color: black;background-color: white;}#sk-container-id-12 pre{padding: 0;}#sk-container-id-12 div.sk-toggleable {background-color: white;}#sk-container-id-12 label.sk-toggleable__label {cursor: pointer;display: block;width: 100%;margin-bottom: 0;padding: 0.3em;box-sizing: border-box;text-align: center;}#sk-container-id-12 label.sk-toggleable__label-arrow:before {content: \"▸\";float: left;margin-right: 0.25em;color: #696969;}#sk-container-id-12 label.sk-toggleable__label-arrow:hover:before {color: black;}#sk-container-id-12 div.sk-estimator:hover label.sk-toggleable__label-arrow:before {color: black;}#sk-container-id-12 div.sk-toggleable__content {max-height: 0;max-width: 0;overflow: hidden;text-align: left;background-color: #f0f8ff;}#sk-container-id-12 div.sk-toggleable__content pre {margin: 0.2em;color: black;border-radius: 0.25em;background-color: #f0f8ff;}#sk-container-id-12 input.sk-toggleable__control:checked~div.sk-toggleable__content {max-height: 200px;max-width: 100%;overflow: auto;}#sk-container-id-12 input.sk-toggleable__control:checked~label.sk-toggleable__label-arrow:before {content: \"▾\";}#sk-container-id-12 div.sk-estimator input.sk-toggleable__control:checked~label.sk-toggleable__label {background-color: #d4ebff;}#sk-container-id-12 div.sk-label input.sk-toggleable__control:checked~label.sk-toggleable__label {background-color: #d4ebff;}#sk-container-id-12 input.sk-hidden--visually {border: 0;clip: rect(1px 1px 1px 1px);clip: rect(1px, 1px, 1px, 1px);height: 1px;margin: -1px;overflow: hidden;padding: 0;position: absolute;width: 1px;}#sk-container-id-12 div.sk-estimator {font-family: monospace;background-color: #f0f8ff;border: 1px dotted black;border-radius: 0.25em;box-sizing: border-box;margin-bottom: 0.5em;}#sk-container-id-12 div.sk-estimator:hover {background-color: #d4ebff;}#sk-container-id-12 div.sk-parallel-item::after {content: \"\";width: 100%;border-bottom: 1px solid gray;flex-grow: 1;}#sk-container-id-12 div.sk-label:hover label.sk-toggleable__label {background-color: #d4ebff;}#sk-container-id-12 div.sk-serial::before {content: \"\";position: absolute;border-left: 1px solid gray;box-sizing: border-box;top: 0;bottom: 0;left: 50%;z-index: 0;}#sk-container-id-12 div.sk-serial {display: flex;flex-direction: column;align-items: center;background-color: white;padding-right: 0.2em;padding-left: 0.2em;position: relative;}#sk-container-id-12 div.sk-item {position: relative;z-index: 1;}#sk-container-id-12 div.sk-parallel {display: flex;align-items: stretch;justify-content: center;background-color: white;position: relative;}#sk-container-id-12 div.sk-item::before, #sk-container-id-12 div.sk-parallel-item::before {content: \"\";position: absolute;border-left: 1px solid gray;box-sizing: border-box;top: 0;bottom: 0;left: 50%;z-index: -1;}#sk-container-id-12 div.sk-parallel-item {display: flex;flex-direction: column;z-index: 1;position: relative;background-color: white;}#sk-container-id-12 div.sk-parallel-item:first-child::after {align-self: flex-end;width: 50%;}#sk-container-id-12 div.sk-parallel-item:last-child::after {align-self: flex-start;width: 50%;}#sk-container-id-12 div.sk-parallel-item:only-child::after {width: 0;}#sk-container-id-12 div.sk-dashed-wrapped {border: 1px dashed gray;margin: 0 0.4em 0.5em 0.4em;box-sizing: border-box;padding-bottom: 0.4em;background-color: white;}#sk-container-id-12 div.sk-label label {font-family: monospace;font-weight: bold;display: inline-block;line-height: 1.2em;}#sk-container-id-12 div.sk-label-container {text-align: center;}#sk-container-id-12 div.sk-container {/* jupyter's `normalize.less` sets `[hidden] { display: none; }` but bootstrap.min.css set `[hidden] { display: none !important; }` so we also need the `!important` here to be able to override the default hidden behavior on the sphinx rendered scikit-learn.org. See: https://github.com/scikit-learn/scikit-learn/issues/21755 */display: inline-block !important;position: relative;}#sk-container-id-12 div.sk-text-repr-fallback {display: none;}</style><div id=\"sk-container-id-12\" class=\"sk-top-container\"><div class=\"sk-text-repr-fallback\"><pre>MultinomialNB()</pre><b>In a Jupyter environment, please rerun this cell to show the HTML representation or trust the notebook. <br />On GitHub, the HTML representation is unable to render, please try loading this page with nbviewer.org.</b></div><div class=\"sk-container\" hidden><div class=\"sk-item\"><div class=\"sk-estimator sk-toggleable\"><input class=\"sk-toggleable__control sk-hidden--visually\" id=\"sk-estimator-id-12\" type=\"checkbox\" checked><label for=\"sk-estimator-id-12\" class=\"sk-toggleable__label sk-toggleable__label-arrow\">MultinomialNB</label><div class=\"sk-toggleable__content\"><pre>MultinomialNB()</pre></div></div></div></div></div>"
      ],
      "text/plain": [
       "MultinomialNB()"
      ]
     },
     "execution_count": 11,
     "metadata": {},
     "output_type": "execute_result"
    },
    {
     "name": "stdout",
     "output_type": "stream",
     "text": [
      "Precision score for tvec_uniG_biG is 0.7797987616099071\n"
     ]
    }
   ],
   "source": [
    "cvec_uniG = CountVectorizer(stop_words = 'english',\n",
    "                       max_features=10000,\n",
    "                      max_df=0.5,\n",
    "                      min_df = 0.05)\n",
    "\n",
    "cvec_biG = CountVectorizer(stop_words = 'english',\n",
    "                           ngram_range=(2, 2),\n",
    "                           max_features=10000,\n",
    "                           min_df=0.01)\n",
    "\n",
    "cvec_biG_triG = CountVectorizer(stop_words = 'english',\n",
    "                         ngram_range=(2, 3),\n",
    "                         max_features=10000,\n",
    "                         min_df=0.01)\n",
    "\n",
    "cvec_uniG_biG = CountVectorizer(stop_words = 'english',\n",
    "                                ngram_range=(1, 2),\n",
    "                                max_features=10000,\n",
    "                                max_df=0.5,\n",
    "                                min_df=0.01)\n",
    "\n",
    "tvec_uniG = TfidfVectorizer(stop_words = 'english',\n",
    "                       max_features=10000,\n",
    "                      max_df=0.5,\n",
    "                      min_df = 0.05)\n",
    "\n",
    "tvec_uniG_biG = TfidfVectorizer(stop_words = 'english',\n",
    "                                ngram_range=(1, 2),\n",
    "                                max_features=10000,\n",
    "                                max_df=0.5,\n",
    "                                min_df=0.01)\n",
    "\n",
    "vec_ls = [cvec_uniG,\n",
    "              cvec_biG,\n",
    "              cvec_biG_triG,\n",
    "              cvec_uniG_biG,\n",
    "              tvec_uniG,\n",
    "              tvec_uniG_biG]\n",
    "vec_name= ['cvec_uniG',\n",
    " 'cvec_biG',\n",
    " 'cvec_biG_triG',\n",
    " 'cvec_uniG_biG',\n",
    " 'tvec_uniG',\n",
    " 'tvec_uniG_biG']\n",
    "\n",
    "number = 0\n",
    "\n",
    "for vec in vec_ls:\n",
    "    _df = games_atlst50revw_df.copy()\n",
    "\n",
    "    X = _df['description']\n",
    "    y = _df['Good_Game']\n",
    "\n",
    "    X_train, X_test, y_train, y_test = train_test_split(X, y, random_state=23, stratify=y) \n",
    "\n",
    "    X_train = vec.fit_transform(X_train)\n",
    "    X_train = pd.DataFrame(X_train.toarray(),\n",
    "                           columns = vec.get_feature_names_out())\n",
    "\n",
    "    X_test = vec.transform(X_test)\n",
    "    X_test = pd.DataFrame(X_test.toarray(),\n",
    "                          columns = vec.get_feature_names_out())\n",
    "\n",
    "    nb = MultinomialNB()\n",
    "    nb.fit(X_train, y_train)\n",
    "    y_pred = nb.predict(X_test)   \n",
    "    print(f\"Precision score for {vec_name[number]} is {precision_score(y_test, y_pred)}\")\n",
    "    \n",
    "    number = number + 1"
   ]
  },
  {
   "cell_type": "markdown",
   "id": "fa582f96-28e7-4502-9ab8-36e2bd6f80a8",
   "metadata": {},
   "source": [
    "**Comments**<br>\n",
    "- CountVectorizer generally performed better than TFIDFVectorizer.\n",
    "\n",
    "- Using <code>cvec_uniG_biG</code> seemed to gave the best precision score of 0.83 (~5% improvement from 77% (default percentage of 'Good Games' in the sample). \n",
    "> However the improvement (5%) appear to be lesser than the improvement achieved by baseline MNB (*7% improvement from 0.72 to 0.79 as seen in the previous notebook*).\n",
    "\n",
    "|Model|Description|Performance|\n",
    "|---|---|---|\n",
    "|Baseline Model<br>Multinomial Naive Bayes|Processes:<br> CountVectorizer<br>(stop_words = 'english',<br>max_features=1500)|<li>Score to beat: 72% <li> Model Precision score: 79%|\n",
    "|Approach 1:<br>Random Forest|Processes:<br> CountVectorizer<br>(stop_words = 'english',<br>max_features=1500)|<li>Score to beat: 72% <li> Model Precision score: 73%|\n",
    "|Approach 2:<br>Multinomial Naive Bayes<br>varying Vectorizer used|Processes:<br> CountVectorizer<br>TfidfVectorizer|<li>Score to beat: 72% <li> Models Precision score 72-76%|\n",
    "|Approach 3:<br>Multinomial Naive Bayes<br>varying Vectorizer used<br> Limited to datasets with minimally 50 reviews|Processes:<br> CountVectorizer<br>TfidfVectorizer|<li>Score to beat: 77% <li> Models Precision score 77-83%|\n",
    "\n",
    "<br><br><br>\n",
    "\n",
    "**Let's view model performance in detail with <code>cvec_uniG_biG</code>**:"
   ]
  },
  {
   "cell_type": "code",
   "execution_count": 12,
   "id": "704ee8b3-9fde-4a37-b755-c59272a918c4",
   "metadata": {},
   "outputs": [
    {
     "name": "stdout",
     "output_type": "stream",
     "text": [
      "y_train:\n",
      "1    0.775988\n",
      "0    0.224012\n",
      "Name: Good_Game, dtype: float64\n",
      "\n",
      "y_test:\n",
      "1    0.776074\n",
      "0    0.223926\n",
      "Name: Good_Game, dtype: float64\n",
      "\n",
      "Train accuracy score:0.7211354046797085\n",
      "Test accuracy score:0.6955521472392638\n",
      "Train f1 score:0.8107263733402759\n",
      "Test f1 score:0.7945134575569358\n",
      "\n",
      "\n",
      "              precision    recall  f1-score   support\n",
      "\n",
      "           0       0.36      0.48      0.41       584\n",
      "           1       0.83      0.76      0.79      2024\n",
      "\n",
      "    accuracy                           0.70      2608\n",
      "   macro avg       0.60      0.62      0.60      2608\n",
      "weighted avg       0.73      0.70      0.71      2608\n",
      "\n",
      "\n",
      "\n"
     ]
    },
    {
     "data": {
      "image/png": "[encoded data removed]",
      "text/plain": [
       "<Figure size 640x480 with 2 Axes>"
      ]
     },
     "metadata": {},
     "output_type": "display_data"
    }
   ],
   "source": [
    "_df = games_atlst50revw_df.copy()\n",
    "\n",
    "X = _df['description']\n",
    "y = _df['Good_Game']\n",
    "\n",
    "X_train, X_test, y_train, y_test = train_test_split(X, y, random_state=23, stratify=y) \n",
    "\n",
    "X_train = cvec_uniG_biG.fit_transform(X_train)\n",
    "X_train = pd.DataFrame(X_train.toarray(),\n",
    "                       columns = cvec_uniG_biG.get_feature_names_out())\n",
    "\n",
    "X_test = cvec_uniG_biG.transform(X_test)\n",
    "X_test = pd.DataFrame(X_test.toarray(),\n",
    "                      columns = cvec_uniG_biG.get_feature_names_out())\n",
    "fit_score_(nb)"
   ]
  },
  {
   "cell_type": "markdown",
   "id": "5939fd69-d33b-4e93-8b55-9a102a97e4f8",
   "metadata": {},
   "source": [
    "**Comments**\n",
    "\n",
    "From the confusion matrix, it appears that its False Positive can be further improved."
   ]
  },
  {
   "cell_type": "markdown",
   "id": "4bee9406-929a-4987-bf14-7fc0c214cccd",
   "metadata": {},
   "source": [
    "# Approach 4: Selecting NGrams terms found in Games Descriptions\n",
    "\n",
    "The aim is to filter out NGrams that are commonly found in 'Good' and 'Poor' games'.\n",
    "> By doing so, we hope to improve model ability to differentiate 'Good' and 'Poor' game.\n",
    "> Note at this point we are still using the games_atlst50revw_df(games with minimum 50 reviews)"
   ]
  },
  {
   "cell_type": "markdown",
   "id": "61207254-f3fd-4c26-880e-76469137bca9",
   "metadata": {},
   "source": [
    "## 4.1 Obtaining the top common NGrams from Good and Poor Games:\n",
    ">Unigrams, Bigrams and Trigrams"
   ]
  },
  {
   "cell_type": "code",
   "execution_count": 13,
   "id": "fb3c56c2-3874-42b6-b9d2-dafe7fd56272",
   "metadata": {},
   "outputs": [
    {
     "data": {
      "text/plain": [
       "(10429, 12)"
      ]
     },
     "execution_count": 13,
     "metadata": {},
     "output_type": "execute_result"
    }
   ],
   "source": [
    "games_atlst50revw_df.shape"
   ]
  },
  {
   "cell_type": "code",
   "execution_count": 14,
   "id": "1ef83f47-6601-4197-a66c-1cc565e84cf6",
   "metadata": {
    "scrolled": true,
    "tags": []
   },
   "outputs": [
    {
     "name": "stdout",
     "output_type": "stream",
     "text": [
      "Unigrams in both Good Games & Poor Games Top 100 Unigrams (120 of them)\n"
     ]
    },
    {
     "data": {
      "text/plain": [
       "{'abilities',\n",
       " 'able',\n",
       " 'action',\n",
       " 'adventure',\n",
       " 'art',\n",
       " 'attack',\n",
       " 'based',\n",
       " 'battle',\n",
       " 'battles',\n",
       " 'beautiful',\n",
       " 'best',\n",
       " 'build',\n",
       " 'challenge',\n",
       " 'change',\n",
       " 'character',\n",
       " 'characters',\n",
       " 'choose',\n",
       " 'city',\n",
       " 'classic',\n",
       " 'collect',\n",
       " 'combat',\n",
       " 'come',\n",
       " 'complete',\n",
       " 'content',\n",
       " 'control',\n",
       " 'create',\n",
       " 'dark',\n",
       " 'day',\n",
       " 'different',\n",
       " 'discover',\n",
       " 'dont',\n",
       " 'enemies',\n",
       " 'enemy',\n",
       " 'enjoy',\n",
       " 'equipment',\n",
       " 'events',\n",
       " 'experience',\n",
       " 'explore',\n",
       " 'features',\n",
       " 'fight',\n",
       " 'free',\n",
       " 'friends',\n",
       " 'fun',\n",
       " 'gameplay',\n",
       " 'games',\n",
       " 'good',\n",
       " 'great',\n",
       " 'help',\n",
       " 'heroes',\n",
       " 'including',\n",
       " 'items',\n",
       " 'join',\n",
       " 'journey',\n",
       " 'just',\n",
       " 'learn',\n",
       " 'level',\n",
       " 'levels',\n",
       " 'life',\n",
       " 'like',\n",
       " 'long',\n",
       " 'love',\n",
       " 'main',\n",
       " 'make',\n",
       " 'map',\n",
       " 'mode',\n",
       " 'modes',\n",
       " 'monsters',\n",
       " 'multiplayer',\n",
       " 'music',\n",
       " 'mysterious',\n",
       " 'need',\n",
       " 'new',\n",
       " 'online',\n",
       " 'open',\n",
       " 'order',\n",
       " 'original',\n",
       " 'people',\n",
       " 'place',\n",
       " 'play',\n",
       " 'player',\n",
       " 'players',\n",
       " 'power',\n",
       " 'powerful',\n",
       " 'puzzle',\n",
       " 'puzzles',\n",
       " 'real',\n",
       " 'resources',\n",
       " 'right',\n",
       " 'save',\n",
       " 'set',\n",
       " 'skills',\n",
       " 'space',\n",
       " 'special',\n",
       " 'start',\n",
       " 'steam',\n",
       " 'story',\n",
       " 'strategy',\n",
       " 'style',\n",
       " 'support',\n",
       " 'survival',\n",
       " 'survive',\n",
       " 'team',\n",
       " 'time',\n",
       " 'try',\n",
       " 'types',\n",
       " 'unique',\n",
       " 'unlock',\n",
       " 'use',\n",
       " 'using',\n",
       " 'variety',\n",
       " 'various',\n",
       " 'vr',\n",
       " 'want',\n",
       " 'war',\n",
       " 'way',\n",
       " 'weapons',\n",
       " 'work',\n",
       " 'world',\n",
       " 'youll',\n",
       " 'youre'}"
      ]
     },
     "execution_count": 14,
     "metadata": {},
     "output_type": "execute_result"
    }
   ],
   "source": [
    "#Unigram:\n",
    "cvec= CountVectorizer(stop_words = 'english',ngram_range=(1, 1),\n",
    "                       max_features=10000,max_df=0.5, min_df=0.01)\n",
    "\n",
    "_df = games_atlst50revw_df.copy()\n",
    "X = _df['description']\n",
    "y = _df['Good_Game']\n",
    "X_train, X_test, y_train, y_test = train_test_split(X, y, random_state=23, stratify=y) \n",
    "\n",
    "for i in [X_train, X_test, y_train, y_test]:\n",
    "    i.reset_index(inplace=True, drop=True)\n",
    "\n",
    "X_train = cvec.fit_transform(X_train)\n",
    "X_train = pd.DataFrame(X_train.toarray(),\n",
    "                       columns = cvec.get_feature_names_out())\n",
    "\n",
    "X_test = cvec.transform(X_test)\n",
    "X_test = pd.DataFrame(X_test.toarray(),\n",
    "                      columns = cvec.get_feature_names_out())\n",
    "\n",
    "Xy_train = X_train.join(y_train)\n",
    "\n",
    "df_good = Xy_train.loc[Xy_train['Good_Game']==1,list(Xy_train.columns[:-1])]\n",
    "df_poor = Xy_train.loc[Xy_train['Good_Game']==0,list(Xy_train.columns[:-1])]\n",
    "\n",
    "goodG_top100W = df_good.sum().round().sort_values(ascending=False).head(100)\n",
    "poorG_top100W = df_poor.sum().round().sort_values(ascending=False).head(100)\n",
    "\n",
    "goodG_top100W = set(goodG_top100W.index.tolist())\n",
    "poorG_top100W = set(poorG_top100W.index.tolist())\n",
    "\n",
    "\n",
    "Common_100_UniG = goodG_top100W|poorG_top100W\n",
    "print(f\"Unigrams in both Good Games & Poor Games Top 100 Unigrams ({len(Common_100_UniG)} of them)\")\n",
    "Common_100_UniG"
   ]
  },
  {
   "cell_type": "code",
   "execution_count": 15,
   "id": "f2df7f77-0bef-43f8-8bd3-f303288b0efd",
   "metadata": {
    "scrolled": true,
    "tags": []
   },
   "outputs": [
    {
     "name": "stdout",
     "output_type": "stream",
     "text": [
      "Bigrams in both Good Games & Poor Games Top 100 Bigrams (84 of them)\n"
     ]
    },
    {
     "data": {
      "text/plain": [
       "{'18 years',\n",
       " 'action game',\n",
       " 'adventure game',\n",
       " 'art style',\n",
       " 'brand new',\n",
       " 'card game',\n",
       " 'create new',\n",
       " 'different types',\n",
       " 'different weapons',\n",
       " 'difficulty levels',\n",
       " 'discover new',\n",
       " 'dont forget',\n",
       " 'early access',\n",
       " 'explore world',\n",
       " 'fantasy world',\n",
       " 'fast paced',\n",
       " 'feel like',\n",
       " 'fight way',\n",
       " 'free play',\n",
       " 'game based',\n",
       " 'game contains',\n",
       " 'game developed',\n",
       " 'game experience',\n",
       " 'game features',\n",
       " 'game game',\n",
       " 'game inspired',\n",
       " 'game mode',\n",
       " 'game modes',\n",
       " 'game play',\n",
       " 'game players',\n",
       " 'game set',\n",
       " 'game takes',\n",
       " 'game world',\n",
       " 'horror game',\n",
       " 'hours gameplay',\n",
       " 'just like',\n",
       " 'main character',\n",
       " 'make game',\n",
       " 'make sure',\n",
       " 'make way',\n",
       " 'multiple endings',\n",
       " 'new abilities',\n",
       " 'new features',\n",
       " 'new game',\n",
       " 'new weapons',\n",
       " 'new world',\n",
       " 'online multiplayer',\n",
       " 'open world',\n",
       " 'original soundtrack',\n",
       " 'pixel art',\n",
       " 'play friends',\n",
       " 'play game',\n",
       " 'play style',\n",
       " 'playable characters',\n",
       " 'players world',\n",
       " 'playing game',\n",
       " 'point click',\n",
       " 'procedurally generated',\n",
       " 'puzzle game',\n",
       " 'randomly generated',\n",
       " 'real life',\n",
       " 'real time',\n",
       " 'save world',\n",
       " 'single player',\n",
       " 'solve puzzles',\n",
       " 'special abilities',\n",
       " 'steam workshop',\n",
       " 'story mode',\n",
       " 'strategy game',\n",
       " 'takes place',\n",
       " 'time play',\n",
       " 'turnbased combat',\n",
       " 'unique abilities',\n",
       " 'unlock new',\n",
       " 'unreal engine',\n",
       " 'video game',\n",
       " 'virtual reality',\n",
       " 'visual novel',\n",
       " 'voice acting',\n",
       " 'wide range',\n",
       " 'wide variety',\n",
       " 'world war',\n",
       " 'years ago',\n",
       " 'youll need'}"
      ]
     },
     "execution_count": 15,
     "metadata": {},
     "output_type": "execute_result"
    }
   ],
   "source": [
    "#Bigram:\n",
    "cvec= CountVectorizer(stop_words = 'english',ngram_range=(2, 2),\n",
    "                       max_features=10000,max_df=0.5, min_df=0.01)\n",
    "\n",
    "_df = games_atlst50revw_df.copy()\n",
    "X = _df['description']\n",
    "y = _df['Good_Game']\n",
    "X_train, X_test, y_train, y_test = train_test_split(X, y, random_state=23, stratify=y) \n",
    "\n",
    "for i in [X_train, X_test, y_train, y_test]:\n",
    "    i.reset_index(inplace=True, drop=True)\n",
    "\n",
    "X_train = cvec.fit_transform(X_train)\n",
    "X_train = pd.DataFrame(X_train.toarray(),\n",
    "                       columns = cvec.get_feature_names_out())\n",
    "\n",
    "X_test = cvec.transform(X_test)\n",
    "X_test = pd.DataFrame(X_test.toarray(),\n",
    "                      columns = cvec.get_feature_names_out())\n",
    "\n",
    "Xy_train = X_train.join(y_train)\n",
    "\n",
    "df_good = Xy_train.loc[Xy_train['Good_Game']==1,list(Xy_train.columns[:-1])]\n",
    "df_poor = Xy_train.loc[Xy_train['Good_Game']==0,list(Xy_train.columns[:-1])]\n",
    "\n",
    "goodG_top100W = df_good.sum().round().sort_values(ascending=False).head(100)\n",
    "poorG_top100W = df_poor.sum().round().sort_values(ascending=False).head(100)\n",
    "\n",
    "goodG_top100W = set(goodG_top100W.index.tolist())\n",
    "poorG_top100W = set(poorG_top100W.index.tolist())\n",
    "\n",
    "\n",
    "Common_100_BiG = goodG_top100W|poorG_top100W\n",
    "print(f\"Bigrams in both Good Games & Poor Games Top 100 Bigrams ({len(Common_100_BiG)} of them)\")\n",
    "Common_100_BiG"
   ]
  },
  {
   "cell_type": "code",
   "execution_count": 16,
   "id": "90ef4a8d-6f64-4070-8302-408fccdfbf71",
   "metadata": {
    "scrolled": true,
    "tags": []
   },
   "outputs": [
    {
     "name": "stdout",
     "output_type": "stream",
     "text": [
      "Trigrams in both Good Games & Poor Games Top 100 Trigrams (192 of them)\n"
     ]
    },
    {
     "data": {
      "text/plain": [
       "{'169 43 variantshours',\n",
       " '18 years age',\n",
       " '18 years old',\n",
       " '43 variantshours story',\n",
       " 'achievementskeyboard complete level',\n",
       " 'actual identifiable minor',\n",
       " 'adventure game set',\n",
       " 'age actual identifiable',\n",
       " 'aim higher scores',\n",
       " 'aim provide authentic',\n",
       " 'allow audience better',\n",
       " 'answer higher cash',\n",
       " 'answers cracks vault',\n",
       " 'answers level3 ranks',\n",
       " 'answers lock digit',\n",
       " 'appearing game 18',\n",
       " 'arena infantry ground',\n",
       " 'arts characters appearing',\n",
       " 'artwork hd upscaled',\n",
       " 'artworks nice music',\n",
       " 'authentic japanese visual',\n",
       " 'available arcades springboardvr',\n",
       " 'awards bonus cash',\n",
       " 'based correct answers',\n",
       " 'based questionsobtain cash',\n",
       " 'beat high score',\n",
       " 'beautiful arts characters',\n",
       " 'beautiful girls immerse',\n",
       " 'bonus cash track',\n",
       " 'character sprite animationsgallery',\n",
       " 'characters appearing game',\n",
       " 'characters described visually',\n",
       " 'check publisher page',\n",
       " 'cherry kiss aim',\n",
       " 'classic puzzle game',\n",
       " 'clickteam fusion 25',\n",
       " 'code vault 10',\n",
       " 'coin treasures diary',\n",
       " 'contestant gameshow called',\n",
       " 'contestant play contestant',\n",
       " 'correct answers cracks',\n",
       " 'correct answers level3',\n",
       " 'correct answers lock',\n",
       " 'cracks vault awards',\n",
       " 'created educational purposes',\n",
       " 'created prolific japanese',\n",
       " 'creates unique experience',\n",
       " 'creator creates unique',\n",
       " 'day night cycle',\n",
       " 'deathmatch team deathmatch',\n",
       " 'described visually represented',\n",
       " 'developed student project',\n",
       " 'different game modes',\n",
       " 'difficulty beautiful arts',\n",
       " 'digipen institute technology',\n",
       " 'directly use sensitivity',\n",
       " 'early access version',\n",
       " 'easy learn hard',\n",
       " 'educational purposes check',\n",
       " 'engage audience allow',\n",
       " 'english localization visual',\n",
       " 'enjoy solo experience',\n",
       " 'experience gamers outside',\n",
       " 'faster answer higher',\n",
       " 'fueled vast unstoppable',\n",
       " 'fully voiced original',\n",
       " 'game 18 years',\n",
       " 'game artworks nice',\n",
       " 'game bundle fantastic',\n",
       " 'game classic puzzle',\n",
       " 'game contains flashing',\n",
       " 'game developed student',\n",
       " 'game levels difficulty',\n",
       " 'game modes including',\n",
       " 'game takes place',\n",
       " 'gameshow called trivia',\n",
       " 'girls immerse memories',\n",
       " 'hd upscaled 169',\n",
       " 'help beautiful girls',\n",
       " 'high school student',\n",
       " 'high score playing',\n",
       " 'higher cash value',\n",
       " 'higher ranks challenge',\n",
       " 'higher scores accomplish',\n",
       " 'htc vive oculus',\n",
       " 'identifiable minor used',\n",
       " 'immerse memories remember',\n",
       " 'infantry ground vehicle',\n",
       " 'institute technology created',\n",
       " 'japanese visual novel',\n",
       " 'japanese voice acting',\n",
       " 'join discord server',\n",
       " 'just like real',\n",
       " 'kiss aim provide',\n",
       " 'league national cup',\n",
       " 'learn hard master',\n",
       " 'level3 ranks accomplishment',\n",
       " 'levels difficulty beautiful',\n",
       " 'levels total 250',\n",
       " 'like real life',\n",
       " 'lives game classic',\n",
       " 'local coop mode',\n",
       " 'localization visual novel',\n",
       " 'lock digit code',\n",
       " 'make new friends',\n",
       " 'memories remember wonderful',\n",
       " 'mens league national',\n",
       " 'minor used production',\n",
       " 'moments lives game',\n",
       " 'multiple game modes',\n",
       " 'multiple times completing',\n",
       " 'multipliers based correct',\n",
       " 'music steam achievementskeyboard',\n",
       " 'new york city',\n",
       " 'nice music steam',\n",
       " 'novel experience gamers',\n",
       " 'novel originally created',\n",
       " 'ocean wolves deep',\n",
       " 'original japanese visual',\n",
       " 'originally created prolific',\n",
       " 'people photosensitive epilepsy',\n",
       " 'play contestant gameshow',\n",
       " 'play male female',\n",
       " 'players playing game',\n",
       " 'playing game enjoy',\n",
       " 'playing multiple times',\n",
       " 'point click adventure',\n",
       " 'pointandclick adventure game',\n",
       " 'powered clickteam fusion',\n",
       " 'procedurally generated world',\n",
       " 'progress aim higher',\n",
       " 'project digipen institute',\n",
       " 'prolific japanese developer',\n",
       " 'provide authentic japanese',\n",
       " 'psychological horror game',\n",
       " 'publisher page inform',\n",
       " 'purposes check publisher',\n",
       " 'puzzle game artworks',\n",
       " 'puzzle game levels',\n",
       " 'questionsfeatures25 vaults cracklevels250',\n",
       " 'questionsobtain cash multipliers',\n",
       " 'randomly generated levels',\n",
       " 'realtime strategy game',\n",
       " 'remember wonderful moments',\n",
       " 'represented game 18',\n",
       " 'series questions content',\n",
       " 'single player campaign',\n",
       " 'single player mode',\n",
       " 'solo experience tremendously',\n",
       " 'sprite animationsgallery scene',\n",
       " 'steam achievementskeyboard complete',\n",
       " 'steam remote play',\n",
       " 'steam workshop support',\n",
       " 'steel ocean wolves',\n",
       " 'story takes place',\n",
       " 'streamers create content',\n",
       " 'student project digipen',\n",
       " 'super affordable unique',\n",
       " 'survival horror game',\n",
       " 'swipe swipe swipe',\n",
       " 'technology created educational',\n",
       " 'thinking hat answer',\n",
       " 'times completing 25',\n",
       " 'total 250 unique',\n",
       " 'tower defense game',\n",
       " 'track progress aim',\n",
       " 'trivia questionsfeatures25 vaults',\n",
       " 'trivia questionstimer based',\n",
       " 'trivia vault contestant',\n",
       " 'turn tide battle',\n",
       " 'turnbased strategy game',\n",
       " 'unlock new abilities',\n",
       " 'unlock new weapons',\n",
       " 'upscaled 169 43',\n",
       " 'use sensitivity value',\n",
       " 'used production gam',\n",
       " 'value correct answers',\n",
       " 'vast unstoppable power',\n",
       " 'vault 10 correct',\n",
       " 'vault awards bonus',\n",
       " 'vault contestant play',\n",
       " 'vaults cracklevels250 unique',\n",
       " 'version original japanese',\n",
       " 'visual novel experience',\n",
       " 'visual novel originally',\n",
       " 'visually represented game',\n",
       " 'voiced original japanese',\n",
       " 'wolves deep sea',\n",
       " 'wonderful moments lives',\n",
       " 'world war ii',\n",
       " 'years age actual',\n",
       " 'years age enjoy'}"
      ]
     },
     "execution_count": 16,
     "metadata": {},
     "output_type": "execute_result"
    }
   ],
   "source": [
    "#Trigram:\n",
    "cvec = CountVectorizer(stop_words = 'english',ngram_range=(3, 3),\n",
    "                       max_features=10000,max_df=0.5)\n",
    "\n",
    "_df = games_atlst50revw_df.copy()\n",
    "X = _df['description']\n",
    "y = _df['Good_Game']\n",
    "X_train, X_test, y_train, y_test = train_test_split(X, y, random_state=23, stratify=y) \n",
    "\n",
    "for i in [X_train, X_test, y_train, y_test]:\n",
    "    i.reset_index(inplace=True, drop=True)\n",
    "\n",
    "X_train = cvec.fit_transform(X_train)\n",
    "X_train = pd.DataFrame(X_train.toarray(),\n",
    "                       columns = cvec.get_feature_names_out())\n",
    "\n",
    "X_test = cvec.transform(X_test)\n",
    "X_test = pd.DataFrame(X_test.toarray(),\n",
    "                      columns = cvec.get_feature_names_out())\n",
    "\n",
    "Xy_train = X_train.join(y_train)\n",
    "\n",
    "df_good = Xy_train.loc[Xy_train['Good_Game']==1,list(Xy_train.columns[:-1])]\n",
    "df_poor = Xy_train.loc[Xy_train['Good_Game']==0,list(Xy_train.columns[:-1])]\n",
    "\n",
    "goodG_top100W = df_good.sum().round().sort_values(ascending=False).head(100)\n",
    "poorG_top100W = df_poor.sum().round().sort_values(ascending=False).head(100)\n",
    "\n",
    "goodG_top100W = set(goodG_top100W.index.tolist())\n",
    "poorG_top100W = set(poorG_top100W.index.tolist())\n",
    "\n",
    "\n",
    "Common_100_TriG = goodG_top100W|poorG_top100W\n",
    "print(f\"Trigrams in both Good Games & Poor Games Top 100 Trigrams ({len(Common_100_TriG)} of them)\")\n",
    "Common_100_TriG"
   ]
  },
  {
   "cell_type": "code",
   "execution_count": 17,
   "id": "2b12e17f-4c41-4a50-98e8-82de577a4dc9",
   "metadata": {},
   "outputs": [
    {
     "data": {
      "text/plain": [
       "396"
      ]
     },
     "execution_count": 17,
     "metadata": {},
     "output_type": "execute_result"
    }
   ],
   "source": [
    "sum_ = 0\n",
    "for i in [Common_100_UniG,Common_100_BiG,Common_100_TriG]:\n",
    "    sum_ = sum_ + len(i)\n",
    "sum_"
   ]
  },
  {
   "cell_type": "code",
   "execution_count": 18,
   "id": "892a83eb-2dcd-41e5-8d63-52076f77630f",
   "metadata": {},
   "outputs": [],
   "source": [
    "#Combine the 3 sets into 1 single sets of common NGrams\n",
    "target_grams = Common_100_UniG|Common_100_BiG|Common_100_TriG"
   ]
  },
  {
   "cell_type": "markdown",
   "id": "ff76cc03-6cfd-49b7-8a2c-df39251ad1d2",
   "metadata": {},
   "source": [
    "## 4.2 Filtering out tokenised features that are found in our set of 'target_grams'\n",
    "\n",
    "> The set of 'target_grams' refers to the collection of common terms in top 100 unigrams, bigrams and trigrams from both 'Good' and 'Poor' games."
   ]
  },
  {
   "cell_type": "code",
   "execution_count": 19,
   "id": "2ab27a63-65ba-485e-b797-72d09ee8ce24",
   "metadata": {},
   "outputs": [
    {
     "name": "stdout",
     "output_type": "stream",
     "text": [
      "Initial number of terms: 10000\n",
      "After removing common target grams, the number of terms: 9699\n"
     ]
    }
   ],
   "source": [
    "cvec = CountVectorizer(stop_words = 'english',\n",
    "                       max_features=10000,\n",
    "                       ngram_range=(1,3),\n",
    "                       min_df=0.0005)\n",
    "\n",
    "_df = games_atlst50revw_df.copy()\n",
    "X = _df['description']\n",
    "y = _df['Good_Game']\n",
    "X_train, X_test, y_train, y_test = train_test_split(X, y, random_state=23, stratify=y) \n",
    "\n",
    "X_train = cvec.fit_transform(X_train)\n",
    "X_train = pd.DataFrame(X_train.toarray(),\n",
    "                       columns = cvec.get_feature_names_out())\n",
    "print(f\"Initial number of terms: {len(X_train.columns)}\")\n",
    "\n",
    "#removing columns with the terms found in target common ngrams\n",
    "X_train.drop(columns= X_train.columns[X_train.columns.isin(target_grams)],\n",
    "            inplace=True)\n",
    "print(f\"After removing common target grams, the number of terms: {len(X_train.columns)}\")"
   ]
  },
  {
   "cell_type": "code",
   "execution_count": 20,
   "id": "8d4c1806-e073-42d1-a423-1b246224524f",
   "metadata": {},
   "outputs": [
    {
     "name": "stdout",
     "output_type": "stream",
     "text": [
      "Types of Ngrams in X_train[1 2 3]\n",
      "Lowest NGram's count 14\n"
     ]
    }
   ],
   "source": [
    "__df = pd.DataFrame(X_train.sum()).reset_index().rename(columns = {'index':'terms',0:'count'})\n",
    "__df['gram_length'] = __df['terms'].str.split().str.len()\n",
    "\n",
    "print(f\"Types of Ngrams in X_train{__df['gram_length'].unique()}\")\n",
    "print(f\"Lowest NGram's count {__df['count'].min()}\")\n"
   ]
  },
  {
   "cell_type": "code",
   "execution_count": 21,
   "id": "56e2d08d-46c5-494f-8843-05a2728a0ce4",
   "metadata": {},
   "outputs": [],
   "source": [
    "#Apply the same process to X_test\n",
    "X_test = cvec.transform(X_test)\n",
    "X_test = pd.DataFrame(X_test.toarray(),\n",
    "                      columns = cvec.get_feature_names_out())\n",
    "X_test.drop(columns= X_test.columns[X_test.columns.isin(target_grams)],\n",
    "            inplace=True)\n",
    "X_test.shape"
   ]
  },
  {
   "cell_type": "code",
   "execution_count": 21,
   "id": "1ef31636-d283-447e-a57a-8ba9c29a4761",
   "metadata": {},
   "outputs": [
    {
     "data": {
      "text/plain": [
       "(2608, 9699)"
      ]
     },
     "execution_count": 21,
     "metadata": {},
     "output_type": "execute_result"
    },
    {
     "name": "stdout",
     "output_type": "stream",
     "text": [
      "y_train:\n",
      "1    0.775988\n",
      "0    0.224012\n",
      "Name: Good_Game, dtype: float64\n",
      "\n",
      "y_test:\n",
      "1    0.776074\n",
      "0    0.223926\n",
      "Name: Good_Game, dtype: float64\n",
      "\n",
      "Train accuracy score:0.7977240762050889\n",
      "Test accuracy score:0.7246932515337423\n",
      "Train f1 score:0.8652240586130517\n",
      "Test f1 score:0.8195072900955254\n",
      "\n",
      "\n",
      "              precision    recall  f1-score   support\n",
      "\n",
      "           0       0.40      0.45      0.42       584\n",
      "           1       0.83      0.81      0.82      2024\n",
      "\n",
      "    accuracy                           0.72      2608\n",
      "   macro avg       0.62      0.63      0.62      2608\n",
      "weighted avg       0.74      0.72      0.73      2608\n",
      "\n",
      "\n",
      "\n"
     ]
    },
    {
     "data": {
      "image/png": "[encoded data removed]",
      "text/plain": [
       "<Figure size 640x480 with 2 Axes>"
      ]
     },
     "metadata": {},
     "output_type": "display_data"
    }
   ],
   "source": [
    "nb = MultinomialNB()\n",
    "\n",
    "fit_score_(nb)"
   ]
  },
  {
   "cell_type": "markdown",
   "id": "6ef678b2-c011-4537-b5d0-fb783b942673",
   "metadata": {},
   "source": [
    "**Comments**:\n",
    "\n",
    "Compared to baseline MNB using cvec_uniG_biG (precision 0.83, recall 0.76, specificity 0.48), this new approach, the model has same precision score, while having higher recall and poorer specificity (precision 0.83, recall 0.81, specificity 0.45).\n",
    "\n",
    "> Overall, the improvement in True positive is much greater than the decline in specificity for True negative. As such, this model is more favoured to be used for addressing our business problem.\n",
    "\n",
    "|Model|Description|Performance|\n",
    "|---|---|---|\n",
    "|Baseline Model<br>Multinomial Naive Bayes|Processes:<br> CountVectorizer|<li>Score to beat: 72% <li> Model Precision score: 79%|\n",
    "|Approach 1:<br>Random Forest|Processes:<br> CountVectorizer|<li>Score to beat: 72% <li> Model Precision score: 73%|\n",
    "|Approach 2:<br>Multinomial Naive Bayes<br>varying Vectorizer used|Processes:<br> CountVectorizer<br>TfidfVectorizer|<li>Score to beat: 72% <li> Models Precision score 72-76%|\n",
    "|Approach 3:<br>Multinomial Naive Bayes<br>varying Vectorizer used<br> Limited to datasets with minimally 50 reviews|Processes:<br> CountVectorizer<br>TfidfVectorizer|<li>Score to beat: 77% <li> Models Precision score 77-83%|\n",
    "|Approach 4:<br>Multinomial Naive Bayes<br>Excluding common NGrams tersm<br> Limited to datasets with minimally 50 reviews|Processes:<br> CountVectorizer|<li>Score to beat: 77% <li> Models Precision score 83%|"
   ]
  },
  {
   "cell_type": "markdown",
   "id": "176a15b7-e536-4797-9bd4-c933aeaf0d0e",
   "metadata": {},
   "source": [
    "## 4.3 Exploring the approach with full data set\n",
    "> - Include games regardless the number of reviews it has received (original dataset).\n",
    "> - Using the same set of 'target_grams' to remove common NGrams across 'Good' and 'Poor' games"
   ]
  },
  {
   "cell_type": "code",
   "execution_count": 22,
   "id": "00eff81f-511a-450f-a141-991c100a2a48",
   "metadata": {},
   "outputs": [
    {
     "name": "stdout",
     "output_type": "stream",
     "text": [
      "Initial number of terms: 10000\n",
      "After removing common target grams, the number of terms: 9681\n",
      "Types of Ngrams in X_train[1 2 3]\n",
      "Lowest NGram's count 32\n"
     ]
    }
   ],
   "source": [
    "_df = df.copy()\n",
    "X = _df['description']\n",
    "y = _df['Good_Game']\n",
    "X_train, X_test, y_train, y_test = train_test_split(X, y, random_state=23, stratify=y) \n",
    "\n",
    "X_train = cvec.fit_transform(X_train)\n",
    "X_train = pd.DataFrame(X_train.toarray(),\n",
    "                       columns = cvec.get_feature_names_out())\n",
    "print(f\"Initial number of terms: {len(X_train.columns)}\")\n",
    "\n",
    "#removing columns with the terms found in target grams\n",
    "X_train.drop(columns= X_train.columns[X_train.columns.isin(target_grams)],\n",
    "            inplace=True)\n",
    "print(f\"After removing common target grams, the number of terms: {len(X_train.columns)}\")\n",
    "\n",
    "__df = pd.DataFrame(X_train.sum()).reset_index().rename(columns = {'index':'terms',0:'count'})\n",
    "__df['gram_length'] = __df['terms'].str.split().str.len()\n",
    "\n",
    "print(f\"Types of Ngrams in X_train{__df['gram_length'].unique()}\")\n",
    "print(f\"Lowest NGram's count {__df['count'].min()}\")"
   ]
  },
  {
   "cell_type": "code",
   "execution_count": 23,
   "id": "11105840-cc02-4865-a256-51c4b8aa1dab",
   "metadata": {},
   "outputs": [],
   "source": [
    "#Apply the same process to X_test\n",
    "X_test = cvec.transform(X_test)\n",
    "X_test = pd.DataFrame(X_test.toarray(),\n",
    "                      columns = cvec.get_feature_names_out())\n",
    "X_test.drop(columns= X_test.columns[X_test.columns.isin(target_grams)],\n",
    "            inplace=True)\n",
    "X_test.shape"
   ]
  },
  {
   "cell_type": "code",
   "execution_count": 23,
   "id": "0e7099b0-6eec-4a55-aaeb-ee4cf122138e",
   "metadata": {},
   "outputs": [
    {
     "data": {
      "text/plain": [
       "(6828, 9681)"
      ]
     },
     "execution_count": 23,
     "metadata": {},
     "output_type": "execute_result"
    },
    {
     "name": "stdout",
     "output_type": "stream",
     "text": [
      "y_train:\n",
      "1    0.721205\n",
      "0    0.278795\n",
      "Name: Good_Game, dtype: float64\n",
      "\n",
      "y_test:\n",
      "1    0.721148\n",
      "0    0.278852\n",
      "Name: Good_Game, dtype: float64\n",
      "\n",
      "Train accuracy score:0.7352668326741858\n",
      "Test accuracy score:0.6873169302870533\n",
      "Train f1 score:0.8108560664201493\n",
      "Test f1 score:0.7785039941902688\n",
      "\n",
      "\n",
      "              precision    recall  f1-score   support\n",
      "\n",
      "           0       0.45      0.49      0.47      1904\n",
      "           1       0.80      0.76      0.78      4924\n",
      "\n",
      "    accuracy                           0.69      6828\n",
      "   macro avg       0.62      0.63      0.62      6828\n",
      "weighted avg       0.70      0.69      0.69      6828\n",
      "\n",
      "\n",
      "\n"
     ]
    },
    {
     "data": {
      "image/png": "[encoded data removed]",
      "text/plain": [
       "<Figure size 640x480 with 2 Axes>"
      ]
     },
     "metadata": {},
     "output_type": "display_data"
    }
   ],
   "source": [
    "nb = MultinomialNB()\n",
    "\n",
    "fit_score_(nb)"
   ]
  },
  {
   "cell_type": "markdown",
   "id": "0e650cbc-4d91-4c90-89ea-c901eb397bf3",
   "metadata": {},
   "source": [
    "**Comments**:\n",
    "\n",
    "Comparing the model performance to that baseline model MNB Naive, this model performed well with higher precision (0.80 vs 0.79), higher True Positive (3752 vs 3733) and Lower False Positive (963 vs 1018)! \n",
    "\n",
    "|Model|Description|Performance|\n",
    "|---|---|---|\n",
    "|Baseline Model<br>Multinomial Naive Bayes|Processes:<br> CountVectorizer|<li>Score to beat: 72% <li> Model Precision score: 79%|\n",
    "|Approach 1:<br>Random Forest|Processes:<br> CountVectorizer|<li>Score to beat: 72% <li> Model Precision score: 73%|\n",
    "|Approach 2:<br>Multinomial Naive Bayes<br>varying Vectorizer used|Processes:<br> CountVectorizer<br>TfidfVectorizer|<li>Score to beat: 72% <li> Models Precision score 72-76%|\n",
    "|Approach 3:<br>Multinomial Naive Bayes<br>varying Vectorizer used<br> Limited to datasets with minimally 50 reviews|Processes:<br> CountVectorizer<br>TfidfVectorizer|<li>Score to beat: 77% <li> Models Precision score 77-83%|\n",
    "|Approach 4.1:<br>Multinomial Naive Bayes<br>Excluding common NGrams tersm<br> Limited to datasets with minimally 50 reviews|Processes:<br> CountVectorizer|<li>Score to beat: 77% <li> Models Precision score 83%|\n",
    "|Approach 4.2:<br>Multinomial Naive Bayes<br>Excluding common NGrams tersm|Processes:<br> CountVectorizer|<li>Score to beat: 72% <li> Models Precision score 80%|"
   ]
  },
  {
   "cell_type": "markdown",
   "id": "a189b6b4-acbe-442b-b5a8-c1b1df31658d",
   "metadata": {},
   "source": [
    "# Approach 5: Let's further explore Approach 4 onto few other models"
   ]
  },
  {
   "cell_type": "code",
   "execution_count": 24,
   "id": "ce456db5-ee4c-449b-9daf-500ba66ec2fa",
   "metadata": {},
   "outputs": [],
   "source": [
    "from sklearn.neighbors import KNeighborsClassifier\n",
    "from sklearn.linear_model import LogisticRegressionCV\n",
    "from sklearn.ensemble import RandomForestClassifier\n",
    "from sklearn.naive_bayes import ComplementNB"
   ]
  },
  {
   "cell_type": "markdown",
   "id": "85a4ea02-64de-4ed0-bf79-e552d52cc185",
   "metadata": {},
   "source": [
    "## 5.1 KNeighborsClassifier"
   ]
  },
  {
   "cell_type": "code",
   "execution_count": 26,
   "id": "bd8ca9c6-222a-4e62-bb51-7dd25974e754",
   "metadata": {},
   "outputs": [
    {
     "name": "stdout",
     "output_type": "stream",
     "text": [
      "y_train:\n",
      "1    0.721205\n",
      "0    0.278795\n",
      "Name: Good_Game, dtype: float64\n",
      "\n",
      "y_test:\n",
      "1    0.721148\n",
      "0    0.278852\n",
      "Name: Good_Game, dtype: float64\n",
      "\n",
      "Train accuracy score:0.7814071578536205\n",
      "Test accuracy score:0.6072056239015817\n",
      "Train f1 score:0.8512377471340754\n",
      "Test f1 score:0.7245275267050123\n",
      "\n",
      "\n",
      "              precision    recall  f1-score   support\n",
      "\n",
      "           0       0.31      0.33      0.32      1904\n",
      "           1       0.73      0.72      0.72      4924\n",
      "\n",
      "    accuracy                           0.61      6828\n",
      "   macro avg       0.52      0.52      0.52      6828\n",
      "weighted avg       0.61      0.61      0.61      6828\n",
      "\n",
      "\n",
      "\n"
     ]
    },
    {
     "data": {
      "image/png": "[encoded data removed]",
      "text/plain": [
       "<Figure size 640x480 with 2 Axes>"
      ]
     },
     "metadata": {},
     "output_type": "display_data"
    }
   ],
   "source": [
    "knn =  KNeighborsClassifier()\n",
    "fit_score_(knn)"
   ]
  },
  {
   "cell_type": "markdown",
   "id": "5768848c-06d0-486d-8b2b-34dc28919b2e",
   "metadata": {},
   "source": [
    "## 5.2 LogisticRegressionCV"
   ]
  },
  {
   "cell_type": "code",
   "execution_count": 27,
   "id": "4336e2d2-0a81-4e90-a18b-e6d1b7436687",
   "metadata": {},
   "outputs": [
    {
     "name": "stdout",
     "output_type": "stream",
     "text": [
      "y_train:\n",
      "1    0.721205\n",
      "0    0.278795\n",
      "Name: Good_Game, dtype: float64\n",
      "\n",
      "y_test:\n",
      "1    0.721148\n",
      "0    0.278852\n",
      "Name: Good_Game, dtype: float64\n",
      "\n",
      "Train accuracy score:0.7606073922171769\n",
      "Test accuracy score:0.7240773286467487\n",
      "Train f1 score:0.856212792163993\n",
      "Test f1 score:0.8348816827344434\n",
      "\n",
      "\n",
      "              precision    recall  f1-score   support\n",
      "\n",
      "           0       0.53      0.10      0.16      1904\n",
      "           1       0.73      0.97      0.83      4924\n",
      "\n",
      "    accuracy                           0.72      6828\n",
      "   macro avg       0.63      0.53      0.50      6828\n",
      "weighted avg       0.68      0.72      0.65      6828\n",
      "\n",
      "\n",
      "\n"
     ]
    },
    {
     "data": {
      "image/png": "[encoded data removed]",
      "text/plain": [
       "<Figure size 640x480 with 2 Axes>"
      ]
     },
     "metadata": {},
     "output_type": "display_data"
    }
   ],
   "source": [
    "log_r = LogisticRegressionCV(max_iter=10000)\n",
    "fit_score_(log_r)"
   ]
  },
  {
   "cell_type": "markdown",
   "id": "0f3b59ce-f23e-41c9-adff-3f7cb656ebb3",
   "metadata": {},
   "source": [
    "## 5.3 Complement Naive Bayes with different alpha values"
   ]
  },
  {
   "cell_type": "code",
   "execution_count": 28,
   "id": "84ca0182-2a04-44df-86a9-db995abfc097",
   "metadata": {
    "tags": []
   },
   "outputs": [
    {
     "name": "stdout",
     "output_type": "stream",
     "text": [
      "y_train:\n",
      "1    0.721205\n",
      "0    0.278795\n",
      "Name: Good_Game, dtype: float64\n",
      "\n",
      "y_test:\n",
      "1    0.721148\n",
      "0    0.278852\n",
      "Name: Good_Game, dtype: float64\n",
      "\n",
      "Train accuracy score:0.7208144133587228\n",
      "Test accuracy score:0.6685705916813123\n",
      "Train f1 score:0.7923143977916607\n",
      "Test f1 score:0.7544221378187738\n",
      "\n",
      "\n",
      "              precision    recall  f1-score   support\n",
      "\n",
      "           0       0.43      0.57      0.49      1904\n",
      "           1       0.81      0.71      0.75      4924\n",
      "\n",
      "    accuracy                           0.67      6828\n",
      "   macro avg       0.62      0.64      0.62      6828\n",
      "weighted avg       0.70      0.67      0.68      6828\n",
      "\n",
      "\n",
      "\n"
     ]
    },
    {
     "data": {
      "image/png": "[encoded data removed]",
      "text/plain": [
       "<Figure size 640x480 with 2 Axes>"
      ]
     },
     "metadata": {},
     "output_type": "display_data"
    },
    {
     "name": "stdout",
     "output_type": "stream",
     "text": [
      "y_train:\n",
      "1    0.721205\n",
      "0    0.278795\n",
      "Name: Good_Game, dtype: float64\n",
      "\n",
      "y_test:\n",
      "1    0.721148\n",
      "0    0.278852\n",
      "Name: Good_Game, dtype: float64\n",
      "\n",
      "Train accuracy score:0.7234998291099067\n",
      "Test accuracy score:0.6694493263034563\n",
      "Train f1 score:0.7946179233307946\n",
      "Test f1 score:0.755126396875339\n",
      "\n",
      "\n",
      "              precision    recall  f1-score   support\n",
      "\n",
      "           0       0.43      0.57      0.49      1904\n",
      "           1       0.81      0.71      0.76      4924\n",
      "\n",
      "    accuracy                           0.67      6828\n",
      "   macro avg       0.62      0.64      0.62      6828\n",
      "weighted avg       0.70      0.67      0.68      6828\n",
      "\n",
      "\n",
      "\n"
     ]
    },
    {
     "data": {
      "image/png": "[encoded data removed]",
      "text/plain": [
       "<Figure size 640x480 with 2 Axes>"
      ]
     },
     "metadata": {},
     "output_type": "display_data"
    },
    {
     "name": "stdout",
     "output_type": "stream",
     "text": [
      "y_train:\n",
      "1    0.721205\n",
      "0    0.278795\n",
      "Name: Good_Game, dtype: float64\n",
      "\n",
      "y_test:\n",
      "1    0.721148\n",
      "0    0.278852\n",
      "Name: Good_Game, dtype: float64\n",
      "\n",
      "Train accuracy score:0.723841609296421\n",
      "Test accuracy score:0.669302870533099\n",
      "Train f1 score:0.7949387281560438\n",
      "Test f1 score:0.7550444781948361\n",
      "\n",
      "\n",
      "              precision    recall  f1-score   support\n",
      "\n",
      "           0       0.43      0.57      0.49      1904\n",
      "           1       0.81      0.71      0.76      4924\n",
      "\n",
      "    accuracy                           0.67      6828\n",
      "   macro avg       0.62      0.64      0.62      6828\n",
      "weighted avg       0.70      0.67      0.68      6828\n",
      "\n",
      "\n",
      "\n"
     ]
    },
    {
     "data": {
      "image/png": "[encoded data removed]",
      "text/plain": [
       "<Figure size 640x480 with 2 Axes>"
      ]
     },
     "metadata": {},
     "output_type": "display_data"
    }
   ],
   "source": [
    "C_nb = ComplementNB()\n",
    "fit_score_(C_nb)\n",
    "C_nb = ComplementNB(alpha=0.1)\n",
    "fit_score_(C_nb)\n",
    "C_nb = ComplementNB(alpha=0.01)\n",
    "fit_score_(C_nb)"
   ]
  },
  {
   "cell_type": "markdown",
   "id": "4588485e-916e-43ef-9e1c-59e7e0c3eb35",
   "metadata": {},
   "source": [
    "**Comments**\n",
    "\n",
    "- Our latest model <code>*C_nb = ComplementNB(alpha=0.01)*</code>, seemed to have the greatest performance! With precision of 0.81, recall of 0.71 and specificity of 0.57.\n",
    "\n",
    "Here is a summary of the key models we have in this project:\n",
    "\n",
    "|Model|Description|Performance|\n",
    "|---|---|---|\n",
    "|Baseline Model<br>Multinomial Naive Bayes|Processes:<br> CountVectorizer|<li>Score to beat: 72% <li> Model Precision score: 79%|\n",
    "|Approach 1:<br>Random Forest|Processes:<br> CountVectorizer|<li>Score to beat: 72% <li> Model Precision score: 73%|\n",
    "|Approach 2:<br>Multinomial Naive Bayes<br>varying Vectorizer used|Processes:<br> CountVectorizer<br>TfidfVectorizer|<li>Score to beat: 72% <li> Models Precision score 72-76%|\n",
    "|Approach 3:<br>Multinomial Naive Bayes<br>varying Vectorizer used<br> Limited to datasets with minimally 50 reviews|Processes:<br> CountVectorizer<br>TfidfVectorizer|<li>Score to beat: 77% <li> Models Precision score 77-83%|\n",
    "|Approach 4:<br>Multinomial Naive Bayes<br>Excluding common NGrams tersm|Processes:<br> CountVectorizer|<li>Score to beat: 72% <li> Models Precision score 80%|\n",
    "|Approach 5:<br>Complement Naive Bayes<br>Excluding common NGrams tersm|Processes:<br> CountVectorizer|<li>Score to beat: 72% <li> Models Precision score 81%|\n"
   ]
  },
  {
   "cell_type": "markdown",
   "id": "24c8546d-a4da-49ea-8d08-76c1b4425a5c",
   "metadata": {},
   "source": [
    "# Post-modelling analysis: Does Game Description's word count after model's prediction performance?\n",
    "\n",
    "We suspect that the false prediction is due to the limited word count in some game description. Let's examine this suspicion by comparing the description word count between the 'Correctly predicted' games and 'Wrongly predicted' games."
   ]
  },
  {
   "cell_type": "code",
   "execution_count": 52,
   "id": "542247e8-f990-4223-a693-e45737a1b7a1",
   "metadata": {},
   "outputs": [
    {
     "data": {
      "text/html": [
       "<style>#sk-container-id-15 {color: black;background-color: white;}#sk-container-id-15 pre{padding: 0;}#sk-container-id-15 div.sk-toggleable {background-color: white;}#sk-container-id-15 label.sk-toggleable__label {cursor: pointer;display: block;width: 100%;margin-bottom: 0;padding: 0.3em;box-sizing: border-box;text-align: center;}#sk-container-id-15 label.sk-toggleable__label-arrow:before {content: \"▸\";float: left;margin-right: 0.25em;color: #696969;}#sk-container-id-15 label.sk-toggleable__label-arrow:hover:before {color: black;}#sk-container-id-15 div.sk-estimator:hover label.sk-toggleable__label-arrow:before {color: black;}#sk-container-id-15 div.sk-toggleable__content {max-height: 0;max-width: 0;overflow: hidden;text-align: left;background-color: #f0f8ff;}#sk-container-id-15 div.sk-toggleable__content pre {margin: 0.2em;color: black;border-radius: 0.25em;background-color: #f0f8ff;}#sk-container-id-15 input.sk-toggleable__control:checked~div.sk-toggleable__content {max-height: 200px;max-width: 100%;overflow: auto;}#sk-container-id-15 input.sk-toggleable__control:checked~label.sk-toggleable__label-arrow:before {content: \"▾\";}#sk-container-id-15 div.sk-estimator input.sk-toggleable__control:checked~label.sk-toggleable__label {background-color: #d4ebff;}#sk-container-id-15 div.sk-label input.sk-toggleable__control:checked~label.sk-toggleable__label {background-color: #d4ebff;}#sk-container-id-15 input.sk-hidden--visually {border: 0;clip: rect(1px 1px 1px 1px);clip: rect(1px, 1px, 1px, 1px);height: 1px;margin: -1px;overflow: hidden;padding: 0;position: absolute;width: 1px;}#sk-container-id-15 div.sk-estimator {font-family: monospace;background-color: #f0f8ff;border: 1px dotted black;border-radius: 0.25em;box-sizing: border-box;margin-bottom: 0.5em;}#sk-container-id-15 div.sk-estimator:hover {background-color: #d4ebff;}#sk-container-id-15 div.sk-parallel-item::after {content: \"\";width: 100%;border-bottom: 1px solid gray;flex-grow: 1;}#sk-container-id-15 div.sk-label:hover label.sk-toggleable__label {background-color: #d4ebff;}#sk-container-id-15 div.sk-serial::before {content: \"\";position: absolute;border-left: 1px solid gray;box-sizing: border-box;top: 0;bottom: 0;left: 50%;z-index: 0;}#sk-container-id-15 div.sk-serial {display: flex;flex-direction: column;align-items: center;background-color: white;padding-right: 0.2em;padding-left: 0.2em;position: relative;}#sk-container-id-15 div.sk-item {position: relative;z-index: 1;}#sk-container-id-15 div.sk-parallel {display: flex;align-items: stretch;justify-content: center;background-color: white;position: relative;}#sk-container-id-15 div.sk-item::before, #sk-container-id-15 div.sk-parallel-item::before {content: \"\";position: absolute;border-left: 1px solid gray;box-sizing: border-box;top: 0;bottom: 0;left: 50%;z-index: -1;}#sk-container-id-15 div.sk-parallel-item {display: flex;flex-direction: column;z-index: 1;position: relative;background-color: white;}#sk-container-id-15 div.sk-parallel-item:first-child::after {align-self: flex-end;width: 50%;}#sk-container-id-15 div.sk-parallel-item:last-child::after {align-self: flex-start;width: 50%;}#sk-container-id-15 div.sk-parallel-item:only-child::after {width: 0;}#sk-container-id-15 div.sk-dashed-wrapped {border: 1px dashed gray;margin: 0 0.4em 0.5em 0.4em;box-sizing: border-box;padding-bottom: 0.4em;background-color: white;}#sk-container-id-15 div.sk-label label {font-family: monospace;font-weight: bold;display: inline-block;line-height: 1.2em;}#sk-container-id-15 div.sk-label-container {text-align: center;}#sk-container-id-15 div.sk-container {/* jupyter's `normalize.less` sets `[hidden] { display: none; }` but bootstrap.min.css set `[hidden] { display: none !important; }` so we also need the `!important` here to be able to override the default hidden behavior on the sphinx rendered scikit-learn.org. See: https://github.com/scikit-learn/scikit-learn/issues/21755 */display: inline-block !important;position: relative;}#sk-container-id-15 div.sk-text-repr-fallback {display: none;}</style><div id=\"sk-container-id-15\" class=\"sk-top-container\"><div class=\"sk-text-repr-fallback\"><pre>ComplementNB(alpha=0.1)</pre><b>In a Jupyter environment, please rerun this cell to show the HTML representation or trust the notebook. <br />On GitHub, the HTML representation is unable to render, please try loading this page with nbviewer.org.</b></div><div class=\"sk-container\" hidden><div class=\"sk-item\"><div class=\"sk-estimator sk-toggleable\"><input class=\"sk-toggleable__control sk-hidden--visually\" id=\"sk-estimator-id-15\" type=\"checkbox\" checked><label for=\"sk-estimator-id-15\" class=\"sk-toggleable__label sk-toggleable__label-arrow\">ComplementNB</label><div class=\"sk-toggleable__content\"><pre>ComplementNB(alpha=0.1)</pre></div></div></div></div></div>"
      ],
      "text/plain": [
       "ComplementNB(alpha=0.1)"
      ]
     },
     "execution_count": 52,
     "metadata": {},
     "output_type": "execute_result"
    },
    {
     "data": {
      "text/plain": [
       "0.8106219426974144"
      ]
     },
     "execution_count": 52,
     "metadata": {},
     "output_type": "execute_result"
    }
   ],
   "source": [
    "#Our selected model for our business problem:\n",
    "_df = df.copy()\n",
    "X = _df['description']\n",
    "y = _df['Good_Game']\n",
    "X_train, X_test, y_train, y_test = train_test_split(X, y, random_state=23, stratify=y) \n",
    "\n",
    "X_test_copy = X_test.copy()\n",
    "\n",
    "X_train = cvec.fit_transform(X_train)\n",
    "X_train = pd.DataFrame(X_train.toarray(),\n",
    "                       columns = cvec.get_feature_names_out())\n",
    "X_train.drop(columns= X_train.columns[X_train.columns.isin(target_grams)],\n",
    "            inplace=True)\n",
    "\n",
    "X_test = cvec.transform(X_test)\n",
    "X_test = pd.DataFrame(X_test.toarray(),\n",
    "                      columns = cvec.get_feature_names_out())\n",
    "X_test.drop(columns= X_test.columns[X_test.columns.isin(target_grams)],\n",
    "            inplace=True)\n",
    "\n",
    "C_nb = ComplementNB(alpha=0.1)\n",
    "C_nb.fit(X_train, y_train)\n",
    "\n",
    "y_pred = C_nb.predict(X_test)\n",
    "\n",
    "precision_score(y_test, y_pred)"
   ]
  },
  {
   "cell_type": "code",
   "execution_count": 86,
   "id": "0b0a56d4-76c1-49cc-be80-fb782ec73136",
   "metadata": {},
   "outputs": [
    {
     "data": {
      "text/html": [
       "<div>\n",
       "<style scoped>\n",
       "    .dataframe tbody tr th:only-of-type {\n",
       "        vertical-align: middle;\n",
       "    }\n",
       "\n",
       "    .dataframe tbody tr th {\n",
       "        vertical-align: top;\n",
       "    }\n",
       "\n",
       "    .dataframe thead th {\n",
       "        text-align: right;\n",
       "    }\n",
       "</style>\n",
       "<table border=\"1\" class=\"dataframe\">\n",
       "  <thead>\n",
       "    <tr style=\"text-align: right;\">\n",
       "      <th></th>\n",
       "      <th>y_test_true</th>\n",
       "      <th>y_test_predict</th>\n",
       "      <th>X_test_copy</th>\n",
       "    </tr>\n",
       "  </thead>\n",
       "  <tbody>\n",
       "    <tr>\n",
       "      <th>0</th>\n",
       "      <td>0</td>\n",
       "      <td>0</td>\n",
       "      <td>school owner is a construction and management ...</td>\n",
       "    </tr>\n",
       "    <tr>\n",
       "      <th>1</th>\n",
       "      <td>0</td>\n",
       "      <td>1</td>\n",
       "      <td>you need to get to know the girl and get in to...</td>\n",
       "    </tr>\n",
       "    <tr>\n",
       "      <th>2</th>\n",
       "      <td>1</td>\n",
       "      <td>1</td>\n",
       "      <td>in frame of mind you are placed in a world whe...</td>\n",
       "    </tr>\n",
       "    <tr>\n",
       "      <th>3</th>\n",
       "      <td>1</td>\n",
       "      <td>1</td>\n",
       "      <td>phantom abyss is a massive asynchronous multip...</td>\n",
       "    </tr>\n",
       "    <tr>\n",
       "      <th>4</th>\n",
       "      <td>0</td>\n",
       "      <td>0</td>\n",
       "      <td>covid chaos is an action packed space shooter ...</td>\n",
       "    </tr>\n",
       "    <tr>\n",
       "      <th>...</th>\n",
       "      <td>...</td>\n",
       "      <td>...</td>\n",
       "      <td>...</td>\n",
       "    </tr>\n",
       "    <tr>\n",
       "      <th>6823</th>\n",
       "      <td>0</td>\n",
       "      <td>0</td>\n",
       "      <td>isnt it a shame that there are all these hot u...</td>\n",
       "    </tr>\n",
       "    <tr>\n",
       "      <th>6824</th>\n",
       "      <td>1</td>\n",
       "      <td>1</td>\n",
       "      <td>fire up the chainsaw just because youre dead d...</td>\n",
       "    </tr>\n",
       "    <tr>\n",
       "      <th>6825</th>\n",
       "      <td>1</td>\n",
       "      <td>1</td>\n",
       "      <td>pink island is a one small hold  gun boss rush...</td>\n",
       "    </tr>\n",
       "    <tr>\n",
       "      <th>6826</th>\n",
       "      <td>1</td>\n",
       "      <td>0</td>\n",
       "      <td>spectral ascension is a freetoplay fast paced ...</td>\n",
       "    </tr>\n",
       "    <tr>\n",
       "      <th>6827</th>\n",
       "      <td>1</td>\n",
       "      <td>0</td>\n",
       "      <td>furry fantasy is a match3 game with live2d ani...</td>\n",
       "    </tr>\n",
       "  </tbody>\n",
       "</table>\n",
       "<p>6828 rows × 3 columns</p>\n",
       "</div>"
      ],
      "text/plain": [
       "      y_test_true  y_test_predict  \\\n",
       "0               0               0   \n",
       "1               0               1   \n",
       "2               1               1   \n",
       "3               1               1   \n",
       "4               0               0   \n",
       "...           ...             ...   \n",
       "6823            0               0   \n",
       "6824            1               1   \n",
       "6825            1               1   \n",
       "6826            1               0   \n",
       "6827            1               0   \n",
       "\n",
       "                                            X_test_copy  \n",
       "0     school owner is a construction and management ...  \n",
       "1     you need to get to know the girl and get in to...  \n",
       "2     in frame of mind you are placed in a world whe...  \n",
       "3     phantom abyss is a massive asynchronous multip...  \n",
       "4     covid chaos is an action packed space shooter ...  \n",
       "...                                                 ...  \n",
       "6823  isnt it a shame that there are all these hot u...  \n",
       "6824  fire up the chainsaw just because youre dead d...  \n",
       "6825  pink island is a one small hold  gun boss rush...  \n",
       "6826  spectral ascension is a freetoplay fast paced ...  \n",
       "6827  furry fantasy is a match3 game with live2d ani...  \n",
       "\n",
       "[6828 rows x 3 columns]"
      ]
     },
     "execution_count": 86,
     "metadata": {},
     "output_type": "execute_result"
    }
   ],
   "source": [
    "__df = pd.DataFrame(y_test)\n",
    "__df.reset_index(inplace=True,drop=True)\n",
    "__df.rename(columns = {'Good_Game':'y_test_true'},inplace=True)               \n",
    "__df['y_test_predict'] = y_pred\n",
    "\n",
    "X_test_copy.reset_index(inplace=True,drop=True)\n",
    "\n",
    "__df['X_test_copy'] = X_test_copy\n",
    "__df"
   ]
  },
  {
   "cell_type": "code",
   "execution_count": 88,
   "id": "f207a499-58c6-41e0-ac6a-6925a62d1361",
   "metadata": {},
   "outputs": [
    {
     "data": {
      "text/plain": [
       "0       170\n",
       "1        36\n",
       "2       113\n",
       "3       376\n",
       "4        58\n",
       "       ... \n",
       "6823    217\n",
       "6824    345\n",
       "6825     27\n",
       "6826     63\n",
       "6827     85\n",
       "Name: word_count, Length: 6828, dtype: int64"
      ]
     },
     "execution_count": 88,
     "metadata": {},
     "output_type": "execute_result"
    }
   ],
   "source": [
    "#creating a columns that contains the Game Descriptions' word count\n",
    "__df['word_count'] = __df['X_test_copy'].str.split().apply(len)\n",
    "__df['word_count']"
   ]
  },
  {
   "cell_type": "code",
   "execution_count": 89,
   "id": "c87b6f2c-1501-4c74-b889-2342aa253a32",
   "metadata": {},
   "outputs": [
    {
     "data": {
      "text/plain": [
       "count    6828.0\n",
       "mean      213.0\n",
       "std       164.0\n",
       "min         2.0\n",
       "25%       110.0\n",
       "50%       173.0\n",
       "75%       270.0\n",
       "max      3266.0\n",
       "Name: word_count, dtype: float64"
      ]
     },
     "execution_count": 89,
     "metadata": {},
     "output_type": "execute_result"
    }
   ],
   "source": [
    "#let's look at the statistic description of the word count\n",
    "__df['word_count'].describe().round()"
   ]
  },
  {
   "cell_type": "code",
   "execution_count": 90,
   "id": "f6d16812-5b28-4328-a4e3-5e957e133b43",
   "metadata": {},
   "outputs": [
    {
     "data": {
      "image/png": "[encoded data removed]",
      "text/plain": [
       "<Figure size 640x480 with 1 Axes>"
      ]
     },
     "metadata": {},
     "output_type": "display_data"
    }
   ],
   "source": [
    "#Lets view the distrit\n",
    "plt.hist(__df['word_count'],bins=50);\n",
    "plt.title('Distribution of the description word count in our test data');"
   ]
  },
  {
   "cell_type": "code",
   "execution_count": 91,
   "id": "eabafd99-a4da-4ef9-b45c-d25f3c2c2c80",
   "metadata": {},
   "outputs": [
    {
     "name": "stdout",
     "output_type": "stream",
     "text": [
      "Number of test data with description <= 100 word count: 1444\n",
      "Percentage of test data with description <= 100 word count: 0.21\n"
     ]
    }
   ],
   "source": [
    "print(f\"Number of test data with description <= 100 word count: {len(__df[__df['word_count']<=100])}\")\n",
    "print(f\"Percentage of test data with description <= 100 word count: {round((len(__df[__df['word_count']<=100])/len(__df)),2)}\")"
   ]
  },
  {
   "cell_type": "code",
   "execution_count": 92,
   "id": "dc455c87-cd63-486e-bbdc-65e13a352c1f",
   "metadata": {},
   "outputs": [
    {
     "data": {
      "image/png": "[encoded data removed]",
      "text/plain": [
       "<Figure size 640x480 with 1 Axes>"
      ]
     },
     "metadata": {},
     "output_type": "display_data"
    }
   ],
   "source": [
    "plt.hist(__df.loc[__df['word_count']<=100,'word_count'],bins=50);\n",
    "plt.title('Distribution of the description word count in our test data (word count 100 or less)');"
   ]
  },
  {
   "cell_type": "markdown",
   "id": "062aa62f-0741-4409-9acf-b8074d3d1d7b",
   "metadata": {},
   "source": [
    "## Let's compare word count between 'Correctly predicted games' and 'Falsely predicted games'"
   ]
  },
  {
   "cell_type": "code",
   "execution_count": 111,
   "id": "88314aca-7c02-405a-81d3-11c8ac057413",
   "metadata": {},
   "outputs": [],
   "source": [
    "__df['prediction'] =  (__df['y_test_true']==__df['y_test_predict']).astype(int)\n",
    "__df['prediction'] = np.where(__df['prediction'] == 1, 'Correct prediction', 'False prediction')"
   ]
  },
  {
   "cell_type": "code",
   "execution_count": 114,
   "id": "7ab14938-0299-4968-bb3d-74fb386cd34f",
   "metadata": {},
   "outputs": [
    {
     "data": {
      "text/html": [
       "<div>\n",
       "<style scoped>\n",
       "    .dataframe tbody tr th:only-of-type {\n",
       "        vertical-align: middle;\n",
       "    }\n",
       "\n",
       "    .dataframe tbody tr th {\n",
       "        vertical-align: top;\n",
       "    }\n",
       "\n",
       "    .dataframe thead th {\n",
       "        text-align: right;\n",
       "    }\n",
       "</style>\n",
       "<table border=\"1\" class=\"dataframe\">\n",
       "  <thead>\n",
       "    <tr style=\"text-align: right;\">\n",
       "      <th></th>\n",
       "      <th>count</th>\n",
       "      <th>mean</th>\n",
       "      <th>std</th>\n",
       "      <th>min</th>\n",
       "      <th>25%</th>\n",
       "      <th>50%</th>\n",
       "      <th>75%</th>\n",
       "      <th>max</th>\n",
       "    </tr>\n",
       "    <tr>\n",
       "      <th>prediction</th>\n",
       "      <th></th>\n",
       "      <th></th>\n",
       "      <th></th>\n",
       "      <th></th>\n",
       "      <th></th>\n",
       "      <th></th>\n",
       "      <th></th>\n",
       "      <th></th>\n",
       "    </tr>\n",
       "  </thead>\n",
       "  <tbody>\n",
       "    <tr>\n",
       "      <th>Correct prediction</th>\n",
       "      <td>4571.0</td>\n",
       "      <td>205.62</td>\n",
       "      <td>156.96</td>\n",
       "      <td>2.0</td>\n",
       "      <td>109.0</td>\n",
       "      <td>170.0</td>\n",
       "      <td>256.0</td>\n",
       "      <td>3266.0</td>\n",
       "    </tr>\n",
       "    <tr>\n",
       "      <th>False prediction</th>\n",
       "      <td>2257.0</td>\n",
       "      <td>229.39</td>\n",
       "      <td>175.81</td>\n",
       "      <td>7.0</td>\n",
       "      <td>112.0</td>\n",
       "      <td>179.0</td>\n",
       "      <td>292.0</td>\n",
       "      <td>1496.0</td>\n",
       "    </tr>\n",
       "  </tbody>\n",
       "</table>\n",
       "</div>"
      ],
      "text/plain": [
       "                     count    mean     std  min    25%    50%    75%     max\n",
       "prediction                                                                  \n",
       "Correct prediction  4571.0  205.62  156.96  2.0  109.0  170.0  256.0  3266.0\n",
       "False prediction    2257.0  229.39  175.81  7.0  112.0  179.0  292.0  1496.0"
      ]
     },
     "execution_count": 114,
     "metadata": {},
     "output_type": "execute_result"
    }
   ],
   "source": [
    "__df.groupby('prediction')['word_count'].describe().round(2)"
   ]
  },
  {
   "cell_type": "code",
   "execution_count": 120,
   "id": "34c9a17f-0482-4ab5-a9fa-072fcbc54324",
   "metadata": {},
   "outputs": [
    {
     "data": {
      "image/png": "[encoded data removed]",
      "text/plain": [
       "<Figure size 640x480 with 1 Axes>"
      ]
     },
     "metadata": {},
     "output_type": "display_data"
    }
   ],
   "source": [
    "sns.violinplot(data=__df, x='prediction', y='word_count', hue='prediction');"
   ]
  },
  {
   "cell_type": "markdown",
   "id": "9eb90beb-883e-448e-b7f8-b5f2ea2340be",
   "metadata": {},
   "source": [
    "**Comments**:\n",
    "\n",
    "It appears that the distribution of game description word count does not differ significantlhy between the correctly and wrongly predicted games. \n",
    "> Perhaps, through further analysis of the common terms found between the correctly and wrongly predicted games, and between the 'Good' and 'Poor' games, we can further improve the models classifcation ability. "
   ]
  },
  {
   "cell_type": "markdown",
   "id": "08bf51fb-fa6f-4728-93b0-c27274f1c4e4",
   "metadata": {},
   "source": [
    "# Discusssion and Conclussion:\n",
    "\n",
    "\n",
    "|Model|Description|Performance|\n",
    "|---|---|---|\n",
    "|Baseline Model<br>Multinomial Naive Bayes|Processes:<br> CountVectorizer|<li>Score to beat: 72% <li> Model Precision score: 79%|\n",
    "|Approach 1:<br>Random Forest|Processes:<br> CountVectorizer|<li>Score to beat: 72% <li> Model Precision score: 73%|\n",
    "|Approach 2:<br>Multinomial Naive Bayes<br>varying Vectorizer used|Processes:<br> CountVectorizer<br>TfidfVectorizer|<li>Score to beat: 72% <li> Models Precision score 72-76%|\n",
    "|Approach 3:<br>Multinomial Naive Bayes<br>varying Vectorizer used<br> Limited to datasets with minimally 50 reviews|Processes:<br> CountVectorizer<br>TfidfVectorizer|<li>Score to beat: 77% <li> Models Precision score 77-83%|\n",
    "|Approach 4:<br>Multinomial Naive Bayes<br>Excluding common NGrams tersm|Processes:<br> CountVectorizer|<li>Score to beat: 72% <li> Models Precision score 80%|\n",
    "|Approach 5:<br>Complement Naive Bayes<br>Excluding common NGrams tersm|Processes:<br> CountVectorizer|<li>Score to beat: 72% <li> Models Precision score 81%|\n",
    "\n",
    "Our final selected best model (Complemet Naive Bayes) improve the investors chance of investing in 'Good' games from default probability of 72% to 81%.\n",
    "\n",
    "**Limitation**\n",
    "1. Limited number of reviews (e.g. <50 reviews) may have insufficient to determine if a game is 'Good' or 'Poor'. However, by limiting the dataset to only games with at least a certain number of reviews will significantly reduce the number of available dataset available for analysis and model training.\n",
    "    - There need to be a balance between the accuracy of labelling a game as 'Good' or 'Poor' and having enough dataset for training model to do differentiate a 'Good' and 'Poor' game.\n",
    "    - In our final selected model, we worked around this challenge by analysing common terms found in the two classes of games by focusing only on games with at least 50 reviews. We subsequently applied that resulting model approach and target terms filtering on the entire dataset which gave us our best performace.\n",
    "    - Analysis could have been on comparing the games total number of reviews between correctly and wrong predicted games.\n",
    "1. Game industry is ever-changing, the model will have to be revised to capture new and upcoming trends.\n",
    "1. Some features that can greatly determines a game's success may not be captured in the game's description,such as game developers and programmers.\n",
    "    - such features can be explored and analysed to incorporated to improve model performance.\n",
    "1. The game has poor specificity (~50%); it is not able to pick up actual poor games well.\n",
    "    - This is due to lack of information the model needs to identify a game that is actually poor.\n",
    "    - Features of poor games may be explored and obtained through examining games' negative reviews itself. User's description of why they find a game is 'bad' can give insights on improving the model's ability to detect actual 'True Negatives'\n",
    "    \n",
    "**Conclusion**:<br>\n",
    "Recognising our model's strengths and flaws, what does this mean for our model?<br> What is it place of use in the business context?\n",
    "\n",
    "> - Investors should use the model to identify potential games for investing while recognising it does not capture other important information making the ultimate call whether a game should be invested or not.\n",
    "> - The model ultimately narrows down the canditates of games for further consideration for investing, which makes the selection phase much more efficient.\n",
    "> - While this would mean some opportunity cost (due to False Negative predictions), it is worth noting that it can be overcome by setting a target number of games to invest in, and achieving that target number while being able to save time and resources in the selection and decision making process."
   ]
  }
 ],
 "metadata": {
  "kernelspec": {
   "display_name": "Python 3 (ipykernel)",
   "language": "python",
   "name": "python3"
  },
  "language_info": {
   "codemirror_mode": {
    "name": "ipython",
    "version": 3
   },
   "file_extension": ".py",
   "mimetype": "text/x-python",
   "name": "python",
   "nbconvert_exporter": "python",
   "pygments_lexer": "ipython3",
   "version": "3.8.13"
  }
 },
 "nbformat": 4,
 "nbformat_minor": 5
}
