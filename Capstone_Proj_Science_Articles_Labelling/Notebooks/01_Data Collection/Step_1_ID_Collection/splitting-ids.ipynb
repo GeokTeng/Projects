{
 "cells": [
  {
   "cell_type": "markdown",
   "id": "f89baa26-cbce-46b3-b217-326ea117680d",
   "metadata": {},
   "source": [
    "# About this notebook:\n",
    "\n",
    "- We are collecting articles ID that are related to diseases from [PubMed](https://pubmed.ncbi.nlm.nih.gov/) \n",
    "- We will be using [NCBI API (E-utilities)](https://www.ncbi.nlm.nih.gov/books/NBK25497/): Entrez to obtain our data\n",
    "\n",
    "**About PubMed**<br>\n",
    "PubMed is a database that indexes and provides access to biomedical and life sciences literature, including scientific research articles, clinical studies, and reviews. Scientists are one of the primary users of PubMed, as they rely on the database to find relevant literature and stay up-to-date with the latest developments in their field of study.\n",
    "\n",
    "PubMed plays a crucial role in the scientific community by providing access to a vast amount of research literature."
   ]
  },
  {
   "cell_type": "markdown",
   "id": "4d6ef594-806b-4ff2-a8e7-7318d27f2a2a",
   "metadata": {},
   "source": [
    "# Import Libraries & Data"
   ]
  },
  {
   "cell_type": "code",
   "execution_count": 1,
   "id": "706e2bda",
   "metadata": {
    "_cell_guid": "b1076dfc-b9ad-4769-8c92-a6c4dae69d19",
    "_uuid": "8f2839f25d086af736a60e9eeb907d3b93b6e0e5",
    "execution": {
     "iopub.execute_input": "2023-02-20T02:24:23.368152Z",
     "iopub.status.busy": "2023-02-20T02:24:23.367060Z",
     "iopub.status.idle": "2023-02-20T02:24:23.381049Z",
     "shell.execute_reply": "2023-02-20T02:24:23.380188Z"
    },
    "papermill": {
     "duration": 0.022869,
     "end_time": "2023-02-20T02:24:23.383764",
     "exception": false,
     "start_time": "2023-02-20T02:24:23.360895",
     "status": "completed"
    },
    "tags": []
   },
   "outputs": [],
   "source": [
    "import numpy as np # linear algebra\n",
    "import pandas as pd # data processing, CSV file I/O (e.g. pd.read_csv)\n",
    "\n",
    "from IPython.core.interactiveshell import InteractiveShell\n",
    "InteractiveShell.ast_node_interactivity = \"all\"\n"
   ]
  },
  {
   "cell_type": "code",
   "execution_count": 2,
   "id": "80374ff4",
   "metadata": {
    "execution": {
     "iopub.execute_input": "2023-02-20T02:24:23.390971Z",
     "iopub.status.busy": "2023-02-20T02:24:23.390560Z",
     "iopub.status.idle": "2023-02-20T02:24:24.676093Z",
     "shell.execute_reply": "2023-02-20T02:24:24.674924Z"
    },
    "papermill": {
     "duration": 1.292723,
     "end_time": "2023-02-20T02:24:24.679441",
     "exception": false,
     "start_time": "2023-02-20T02:24:23.386718",
     "status": "completed"
    },
    "tags": []
   },
   "outputs": [
    {
     "data": {
      "text/html": [
       "<div>\n",
       "<style scoped>\n",
       "    .dataframe tbody tr th:only-of-type {\n",
       "        vertical-align: middle;\n",
       "    }\n",
       "\n",
       "    .dataframe tbody tr th {\n",
       "        vertical-align: top;\n",
       "    }\n",
       "\n",
       "    .dataframe thead th {\n",
       "        text-align: right;\n",
       "    }\n",
       "</style>\n",
       "<table border=\"1\" class=\"dataframe\">\n",
       "  <thead>\n",
       "    <tr style=\"text-align: right;\">\n",
       "      <th></th>\n",
       "      <th>Date</th>\n",
       "      <th>ID</th>\n",
       "    </tr>\n",
       "  </thead>\n",
       "  <tbody>\n",
       "    <tr>\n",
       "      <th>0</th>\n",
       "      <td>2010/01/01</td>\n",
       "      <td>33897310</td>\n",
       "    </tr>\n",
       "    <tr>\n",
       "      <th>1</th>\n",
       "      <td>2010/01/01</td>\n",
       "      <td>33467806</td>\n",
       "    </tr>\n",
       "    <tr>\n",
       "      <th>2</th>\n",
       "      <td>2010/01/01</td>\n",
       "      <td>32809304</td>\n",
       "    </tr>\n",
       "    <tr>\n",
       "      <th>3</th>\n",
       "      <td>2010/01/01</td>\n",
       "      <td>32688721</td>\n",
       "    </tr>\n",
       "    <tr>\n",
       "      <th>4</th>\n",
       "      <td>2010/01/01</td>\n",
       "      <td>32288940</td>\n",
       "    </tr>\n",
       "  </tbody>\n",
       "</table>\n",
       "</div>"
      ],
      "text/plain": [
       "         Date        ID\n",
       "0  2010/01/01  33897310\n",
       "1  2010/01/01  33467806\n",
       "2  2010/01/01  32809304\n",
       "3  2010/01/01  32688721\n",
       "4  2010/01/01  32288940"
      ]
     },
     "execution_count": 2,
     "metadata": {},
     "output_type": "execute_result"
    },
    {
     "data": {
      "text/plain": [
       "2699268"
      ]
     },
     "execution_count": 2,
     "metadata": {},
     "output_type": "execute_result"
    }
   ],
   "source": [
    "df = pd.read_csv('/kaggle/input/id-df-downld/id_df.csv')\n",
    "df.head()\n",
    "len(df)"
   ]
  },
  {
   "cell_type": "markdown",
   "id": "256c5545-e3e6-4788-8a0d-5ba3e15e963c",
   "metadata": {},
   "source": [
    "# Randomly selecting 3000 article ID per month\n",
    "\n",
    "> We will limit to 360K article ID to scrape for their content."
   ]
  },
  {
   "cell_type": "code",
   "execution_count": 3,
   "id": "28a0f133",
   "metadata": {
    "execution": {
     "iopub.execute_input": "2023-02-20T02:24:24.687311Z",
     "iopub.status.busy": "2023-02-20T02:24:24.686677Z",
     "iopub.status.idle": "2023-02-20T02:24:25.062952Z",
     "shell.execute_reply": "2023-02-20T02:24:25.061782Z"
    },
    "papermill": {
     "duration": 0.38307,
     "end_time": "2023-02-20T02:24:25.065526",
     "exception": false,
     "start_time": "2023-02-20T02:24:24.682456",
     "status": "completed"
    },
    "tags": []
   },
   "outputs": [
    {
     "data": {
      "text/html": [
       "<div>\n",
       "<style scoped>\n",
       "    .dataframe tbody tr th:only-of-type {\n",
       "        vertical-align: middle;\n",
       "    }\n",
       "\n",
       "    .dataframe tbody tr th {\n",
       "        vertical-align: top;\n",
       "    }\n",
       "\n",
       "    .dataframe thead th {\n",
       "        text-align: right;\n",
       "    }\n",
       "</style>\n",
       "<table border=\"1\" class=\"dataframe\">\n",
       "  <thead>\n",
       "    <tr style=\"text-align: right;\">\n",
       "      <th></th>\n",
       "      <th>Date_str</th>\n",
       "      <th>ID</th>\n",
       "      <th>Date</th>\n",
       "    </tr>\n",
       "  </thead>\n",
       "  <tbody>\n",
       "    <tr>\n",
       "      <th>0</th>\n",
       "      <td>2010/01/01</td>\n",
       "      <td>33897310</td>\n",
       "      <td>2010-01-01</td>\n",
       "    </tr>\n",
       "    <tr>\n",
       "      <th>1</th>\n",
       "      <td>2010/01/01</td>\n",
       "      <td>33467806</td>\n",
       "      <td>2010-01-01</td>\n",
       "    </tr>\n",
       "    <tr>\n",
       "      <th>2</th>\n",
       "      <td>2010/01/01</td>\n",
       "      <td>32809304</td>\n",
       "      <td>2010-01-01</td>\n",
       "    </tr>\n",
       "    <tr>\n",
       "      <th>3</th>\n",
       "      <td>2010/01/01</td>\n",
       "      <td>32688721</td>\n",
       "      <td>2010-01-01</td>\n",
       "    </tr>\n",
       "    <tr>\n",
       "      <th>4</th>\n",
       "      <td>2010/01/01</td>\n",
       "      <td>32288940</td>\n",
       "      <td>2010-01-01</td>\n",
       "    </tr>\n",
       "    <tr>\n",
       "      <th>...</th>\n",
       "      <td>...</td>\n",
       "      <td>...</td>\n",
       "      <td>...</td>\n",
       "    </tr>\n",
       "    <tr>\n",
       "      <th>2699263</th>\n",
       "      <td>2019/12/31</td>\n",
       "      <td>31883521</td>\n",
       "      <td>2019-12-31</td>\n",
       "    </tr>\n",
       "    <tr>\n",
       "      <th>2699264</th>\n",
       "      <td>2019/12/31</td>\n",
       "      <td>31883520</td>\n",
       "      <td>2019-12-31</td>\n",
       "    </tr>\n",
       "    <tr>\n",
       "      <th>2699265</th>\n",
       "      <td>2019/12/31</td>\n",
       "      <td>31883515</td>\n",
       "      <td>2019-12-31</td>\n",
       "    </tr>\n",
       "    <tr>\n",
       "      <th>2699266</th>\n",
       "      <td>2019/12/31</td>\n",
       "      <td>31883514</td>\n",
       "      <td>2019-12-31</td>\n",
       "    </tr>\n",
       "    <tr>\n",
       "      <th>2699267</th>\n",
       "      <td>2019/12/31</td>\n",
       "      <td>31883513</td>\n",
       "      <td>2019-12-31</td>\n",
       "    </tr>\n",
       "  </tbody>\n",
       "</table>\n",
       "<p>2699268 rows × 3 columns</p>\n",
       "</div>"
      ],
      "text/plain": [
       "           Date_str        ID       Date\n",
       "0        2010/01/01  33897310 2010-01-01\n",
       "1        2010/01/01  33467806 2010-01-01\n",
       "2        2010/01/01  32809304 2010-01-01\n",
       "3        2010/01/01  32688721 2010-01-01\n",
       "4        2010/01/01  32288940 2010-01-01\n",
       "...             ...       ...        ...\n",
       "2699263  2019/12/31  31883521 2019-12-31\n",
       "2699264  2019/12/31  31883520 2019-12-31\n",
       "2699265  2019/12/31  31883515 2019-12-31\n",
       "2699266  2019/12/31  31883514 2019-12-31\n",
       "2699267  2019/12/31  31883513 2019-12-31\n",
       "\n",
       "[2699268 rows x 3 columns]"
      ]
     },
     "execution_count": 3,
     "metadata": {},
     "output_type": "execute_result"
    }
   ],
   "source": [
    "df.rename(columns={'Date': 'Date_str'},inplace=True)\n",
    "df['Date'] = pd.to_datetime(df['Date_str'])\n",
    "df"
   ]
  },
  {
   "cell_type": "code",
   "execution_count": 4,
   "id": "c1b4a9a7",
   "metadata": {
    "execution": {
     "iopub.execute_input": "2023-02-20T02:24:25.073835Z",
     "iopub.status.busy": "2023-02-20T02:24:25.073232Z",
     "iopub.status.idle": "2023-02-20T02:24:26.766034Z",
     "shell.execute_reply": "2023-02-20T02:24:26.764779Z"
    },
    "papermill": {
     "duration": 1.702564,
     "end_time": "2023-02-20T02:24:26.771472",
     "exception": false,
     "start_time": "2023-02-20T02:24:25.068908",
     "status": "completed"
    },
    "tags": []
   },
   "outputs": [
    {
     "data": {
      "text/html": [
       "<div>\n",
       "<style scoped>\n",
       "    .dataframe tbody tr th:only-of-type {\n",
       "        vertical-align: middle;\n",
       "    }\n",
       "\n",
       "    .dataframe tbody tr th {\n",
       "        vertical-align: top;\n",
       "    }\n",
       "\n",
       "    .dataframe thead th {\n",
       "        text-align: right;\n",
       "    }\n",
       "</style>\n",
       "<table border=\"1\" class=\"dataframe\">\n",
       "  <thead>\n",
       "    <tr style=\"text-align: right;\">\n",
       "      <th></th>\n",
       "      <th>Date_str</th>\n",
       "      <th>ID</th>\n",
       "      <th>Date</th>\n",
       "      <th>Month</th>\n",
       "      <th>Year</th>\n",
       "    </tr>\n",
       "  </thead>\n",
       "  <tbody>\n",
       "    <tr>\n",
       "      <th>3141</th>\n",
       "      <td>2010/01/01</td>\n",
       "      <td>20042657</td>\n",
       "      <td>2010-01-01</td>\n",
       "      <td>1</td>\n",
       "      <td>2010</td>\n",
       "    </tr>\n",
       "    <tr>\n",
       "      <th>4701</th>\n",
       "      <td>2010/01/06</td>\n",
       "      <td>20048405</td>\n",
       "      <td>2010-01-06</td>\n",
       "      <td>1</td>\n",
       "      <td>2010</td>\n",
       "    </tr>\n",
       "    <tr>\n",
       "      <th>172</th>\n",
       "      <td>2010/01/01</td>\n",
       "      <td>26966632</td>\n",
       "      <td>2010-01-01</td>\n",
       "      <td>1</td>\n",
       "      <td>2010</td>\n",
       "    </tr>\n",
       "    <tr>\n",
       "      <th>17630</th>\n",
       "      <td>2010/01/30</td>\n",
       "      <td>20111061</td>\n",
       "      <td>2010-01-30</td>\n",
       "      <td>1</td>\n",
       "      <td>2010</td>\n",
       "    </tr>\n",
       "    <tr>\n",
       "      <th>14175</th>\n",
       "      <td>2010/01/23</td>\n",
       "      <td>20092734</td>\n",
       "      <td>2010-01-23</td>\n",
       "      <td>1</td>\n",
       "      <td>2010</td>\n",
       "    </tr>\n",
       "    <tr>\n",
       "      <th>...</th>\n",
       "      <td>...</td>\n",
       "      <td>...</td>\n",
       "      <td>...</td>\n",
       "      <td>...</td>\n",
       "      <td>...</td>\n",
       "    </tr>\n",
       "    <tr>\n",
       "      <th>2686078</th>\n",
       "      <td>2019/12/15</td>\n",
       "      <td>31835505</td>\n",
       "      <td>2019-12-15</td>\n",
       "      <td>12</td>\n",
       "      <td>2019</td>\n",
       "    </tr>\n",
       "    <tr>\n",
       "      <th>2691434</th>\n",
       "      <td>2019/12/21</td>\n",
       "      <td>31859835</td>\n",
       "      <td>2019-12-21</td>\n",
       "      <td>12</td>\n",
       "      <td>2019</td>\n",
       "    </tr>\n",
       "    <tr>\n",
       "      <th>2689531</th>\n",
       "      <td>2019/12/19</td>\n",
       "      <td>31849011</td>\n",
       "      <td>2019-12-19</td>\n",
       "      <td>12</td>\n",
       "      <td>2019</td>\n",
       "    </tr>\n",
       "    <tr>\n",
       "      <th>2684909</th>\n",
       "      <td>2019/12/14</td>\n",
       "      <td>31832766</td>\n",
       "      <td>2019-12-14</td>\n",
       "      <td>12</td>\n",
       "      <td>2019</td>\n",
       "    </tr>\n",
       "    <tr>\n",
       "      <th>2695980</th>\n",
       "      <td>2019/12/26</td>\n",
       "      <td>31874673</td>\n",
       "      <td>2019-12-26</td>\n",
       "      <td>12</td>\n",
       "      <td>2019</td>\n",
       "    </tr>\n",
       "  </tbody>\n",
       "</table>\n",
       "<p>360000 rows × 5 columns</p>\n",
       "</div>"
      ],
      "text/plain": [
       "           Date_str        ID       Date  Month  Year\n",
       "3141     2010/01/01  20042657 2010-01-01      1  2010\n",
       "4701     2010/01/06  20048405 2010-01-06      1  2010\n",
       "172      2010/01/01  26966632 2010-01-01      1  2010\n",
       "17630    2010/01/30  20111061 2010-01-30      1  2010\n",
       "14175    2010/01/23  20092734 2010-01-23      1  2010\n",
       "...             ...       ...        ...    ...   ...\n",
       "2686078  2019/12/15  31835505 2019-12-15     12  2019\n",
       "2691434  2019/12/21  31859835 2019-12-21     12  2019\n",
       "2689531  2019/12/19  31849011 2019-12-19     12  2019\n",
       "2684909  2019/12/14  31832766 2019-12-14     12  2019\n",
       "2695980  2019/12/26  31874673 2019-12-26     12  2019\n",
       "\n",
       "[360000 rows x 5 columns]"
      ]
     },
     "execution_count": 4,
     "metadata": {},
     "output_type": "execute_result"
    }
   ],
   "source": [
    "# Extract month and year from 'Date' column and create new 'Month' and 'Year' columns\n",
    "df['Month'] = df['Date'].dt.month\n",
    "df['Year'] = df['Date'].dt.year\n",
    "\n",
    "# Group by 'Year' and 'Month' columns\n",
    "grouped = df.groupby(['Year', 'Month'])\n",
    "\n",
    "# Create an empty dataframe to store the randomly selected articles\n",
    "sampled_df = pd.DataFrame()\n",
    "\n",
    "# Loop through each year-month group\n",
    "for (year, month), group in grouped:\n",
    "    # Randomly select up to 1000 articles using the 'sample()' function\n",
    "    sampled_group = group.sample(n=min(3000, len(group)))\n",
    "    # Add the sampled group to the new dataframe\n",
    "    sampled_df = sampled_df.append(sampled_group)\n",
    "\n",
    "# The new dataframe 'sampled_df' contains up to 1000 randomly selected articles for each month per year\n",
    "sampled_df"
   ]
  },
  {
   "cell_type": "code",
   "execution_count": 5,
   "id": "422481ce",
   "metadata": {
    "execution": {
     "iopub.execute_input": "2023-02-20T02:24:26.781796Z",
     "iopub.status.busy": "2023-02-20T02:24:26.781324Z",
     "iopub.status.idle": "2023-02-20T02:24:26.786112Z",
     "shell.execute_reply": "2023-02-20T02:24:26.785313Z"
    },
    "papermill": {
     "duration": 0.013244,
     "end_time": "2023-02-20T02:24:26.788456",
     "exception": false,
     "start_time": "2023-02-20T02:24:26.775212",
     "status": "completed"
    },
    "tags": []
   },
   "outputs": [],
   "source": [
    "# Group the dataframe by 'Year'\n",
    "grouped = sampled_df.groupby('Year')"
   ]
  },
  {
   "cell_type": "markdown",
   "id": "23f8b19b-7e76-40e1-9678-8a8ddc9b00b9",
   "metadata": {},
   "source": [
    "<font size=5>Saving articles' ID into individual csv, based on the publication year.</font>"
   ]
  },
  {
   "cell_type": "code",
   "execution_count": 6,
   "id": "c619403f",
   "metadata": {
    "execution": {
     "iopub.execute_input": "2023-02-20T02:24:26.797227Z",
     "iopub.status.busy": "2023-02-20T02:24:26.796425Z",
     "iopub.status.idle": "2023-02-20T02:24:29.270801Z",
     "shell.execute_reply": "2023-02-20T02:24:29.269836Z"
    },
    "papermill": {
     "duration": 2.481523,
     "end_time": "2023-02-20T02:24:29.273428",
     "exception": false,
     "start_time": "2023-02-20T02:24:26.791905",
     "status": "completed"
    },
    "tags": []
   },
   "outputs": [],
   "source": [
    "# Loop through each year group\n",
    "for year, group in grouped:\n",
    "    # Export the 'ID' column of the group to a CSV file named 'IDs_year.csv'\n",
    "    filename = f'IDs_{year}.csv'\n",
    "    group.to_csv(filename, index=False)"
   ]
  },
  {
   "cell_type": "code",
   "execution_count": null,
   "id": "b9d8f170",
   "metadata": {
    "papermill": {
     "duration": 0.003141,
     "end_time": "2023-02-20T02:24:29.280262",
     "exception": false,
     "start_time": "2023-02-20T02:24:29.277121",
     "status": "completed"
    },
    "tags": []
   },
   "outputs": [],
   "source": []
  }
 ],
 "metadata": {
  "kernelspec": {
   "display_name": "Python 3 (ipykernel)",
   "language": "python",
   "name": "python3"
  },
  "language_info": {
   "codemirror_mode": {
    "name": "ipython",
    "version": 3
   },
   "file_extension": ".py",
   "mimetype": "text/x-python",
   "name": "python",
   "nbconvert_exporter": "python",
   "pygments_lexer": "ipython3",
   "version": "3.8.13"
  },
  "papermill": {
   "default_parameters": {},
   "duration": 16.431587,
   "end_time": "2023-02-20T02:24:30.005303",
   "environment_variables": {},
   "exception": null,
   "input_path": "__notebook__.ipynb",
   "output_path": "__notebook__.ipynb",
   "parameters": {},
   "start_time": "2023-02-20T02:24:13.573716",
   "version": "2.3.4"
  }
 },
 "nbformat": 4,
 "nbformat_minor": 5
}
