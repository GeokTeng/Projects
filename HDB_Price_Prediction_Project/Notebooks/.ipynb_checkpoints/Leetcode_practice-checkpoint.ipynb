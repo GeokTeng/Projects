{
 "cells": [
  {
   "cell_type": "code",
   "execution_count": 17,
   "id": "b389b327-1449-4ded-9b05-c7d0c1756c19",
   "metadata": {},
   "outputs": [],
   "source": [
    "nums1 = [1,2,3,0,0,0]\n",
    "nums2 = [2,5,6]\n",
    "\n",
    "nums1 = list(nums1) + list(nums2)\n",
    "nums1.sort()\n",
    "while 0 in nums1:\n",
    "    nums1.remove(0)"
   ]
  },
  {
   "cell_type": "code",
   "execution_count": null,
   "id": "59181f05-b1f3-4af9-9ed8-c77bd60cf265",
   "metadata": {},
   "outputs": [],
   "source": [
    "class Solution(object):\n",
    "    def majorityElement(self, nums):\n",
    "        \"\"\"\n",
    "        :type nums: List[int]\n",
    "        :rtype: int\n",
    "        \"\"\"\n",
    "        count_dict = {}\n",
    "        for i in nums:\n",
    "            count_dict[i] = count_dict.get(i,0) + 1\n",
    "        max_count = max(count_dict.values())\n",
    "        return [key for key,value in count_dict.items() if value == max_count][0]\n",
    "#     Ensure the return is an integer"
   ]
  },
  {
   "cell_type": "code",
   "execution_count": 32,
   "id": "94b2065b-710f-4638-92c6-bcf9602c74ba",
   "metadata": {},
   "outputs": [],
   "source": [
    "class Solution(object):\n",
    "    def rotate(self, nums, k):\n",
    "        \"\"\"\n",
    "        :type nums: List[int]\n",
    "        :type k: int\n",
    "        :rtype: None Do not return anything, modify nums in-place instead.\n",
    "        \"\"\"\n",
    "        k %= len(nums) # Normalize k in case it exceeds the length of the list\n",
    "        # k\n",
    "        nums[:] = nums[-k:] + nums[:-k]"
   ]
  },
  {
   "cell_type": "code",
   "execution_count": 33,
   "id": "9ee6dcc3-d567-4d51-8b72-114a7b694de6",
   "metadata": {},
   "outputs": [
    {
     "data": {
      "text/plain": [
       "[5, 6, 7, 1, 2, 3, 4]"
      ]
     },
     "execution_count": 33,
     "metadata": {},
     "output_type": "execute_result"
    }
   ],
   "source": [
    "_ls = [1,2,3,4,5,6,7]\n",
    "k = 3\n",
    "Solution().rotate(_ls,k)\n",
    "_ls"
   ]
  },
  {
   "cell_type": "code",
   "execution_count": 41,
   "id": "8b41257e-bca1-48f5-9119-da143223d2c4",
   "metadata": {},
   "outputs": [
    {
     "data": {
      "text/plain": [
       "1"
      ]
     },
     "execution_count": 41,
     "metadata": {},
     "output_type": "execute_result"
    }
   ],
   "source": [
    "5%2 #% gives you the remainder of the division, so 5/2 remainder is 1"
   ]
  },
  {
   "cell_type": "code",
   "execution_count": 42,
   "id": "915c0d3a-04a4-407c-acce-0f4fc3b83aec",
   "metadata": {},
   "outputs": [
    {
     "data": {
      "text/plain": [
       "3"
      ]
     },
     "execution_count": 42,
     "metadata": {},
     "output_type": "execute_result"
    }
   ],
   "source": [
    "_ls = [1,2,3,4,5,6,7]\n",
    "_ls.index(4)"
   ]
  },
  {
   "cell_type": "code",
   "execution_count": 45,
   "id": "c21a99bb-d186-4970-ae4a-694e0cd41283",
   "metadata": {},
   "outputs": [],
   "source": [
    "copy = _ls.copy()\n",
    "copy.sort(reverse = True)"
   ]
  },
  {
   "cell_type": "code",
   "execution_count": 46,
   "id": "b365fbeb-e25e-4e11-821c-317ffba3be41",
   "metadata": {},
   "outputs": [
    {
     "data": {
      "text/plain": [
       "[7, 6, 5, 4, 3, 2, 1]"
      ]
     },
     "execution_count": 46,
     "metadata": {},
     "output_type": "execute_result"
    }
   ],
   "source": [
    "copy"
   ]
  },
  {
   "cell_type": "code",
   "execution_count": 47,
   "id": "ded67645-c80e-4861-9d0c-8311cdeb9ae8",
   "metadata": {},
   "outputs": [
    {
     "data": {
      "text/plain": [
       "False"
      ]
     },
     "execution_count": 47,
     "metadata": {},
     "output_type": "execute_result"
    }
   ],
   "source": [
    "copy == _ls"
   ]
  },
  {
   "cell_type": "code",
   "execution_count": null,
   "id": "e9fe284f-9731-4e43-a64d-97b25c9da3ad",
   "metadata": {},
   "outputs": [],
   "source": [
    "class Solution(object):\n",
    "    def maxProfit(self, prices):\n",
    "        \"\"\"\n",
    "        :type prices: List[int]\n",
    "        :rtype: int\n",
    "        \"\"\"\n",
    "        max_profit = 0\n",
    "        min_buy = prices[0] #Assume buy stock on day 1\n",
    "        \n",
    "        for i in range(len(prices)): \n",
    "            today_price = prices[i]\n",
    "            max_profit = max(today_price - min_buy, max_profit)\n",
    "            min_buy = min(today_price, min_buy)\n",
    "\n",
    "        return max_profit"
   ]
  },
  {
   "cell_type": "code",
   "execution_count": 54,
   "id": "ee812bcf-2ec2-40d0-a4de-5b93745f4af6",
   "metadata": {},
   "outputs": [],
   "source": [
    "class Solution(object):\n",
    "    def maxProfit(self, prices):\n",
    "        \"\"\"\n",
    "        :type prices: List[int]\n",
    "        :rtype: int\n",
    "        \"\"\"\n",
    "        total_profit = 0\n",
    "        buy_price = prices[0]\n",
    "        \n",
    "        for i in range(1,len(prices)-1):\n",
    "            yesterday = prices[i-1]\n",
    "            today = prices[i]\n",
    "            tomorrow = prices[i+1]\n",
    "            \n",
    "\n",
    "            if today == min(prices[i-1:i+2]):\n",
    "                #get new buy price\n",
    "                buy_price = today\n",
    "            \n",
    "            elif today == max(prices[i-1:i+2]):\n",
    "                #sell\n",
    "                total_profit += today - buy_price\n",
    "                #buy on same day\n",
    "                buy_price = today\n",
    "                \n",
    "        \n",
    "        return total_profit"
   ]
  },
  {
   "cell_type": "code",
   "execution_count": 55,
   "id": "89fc2278-3619-4ca6-9983-130acf14a37a",
   "metadata": {},
   "outputs": [
    {
     "data": {
      "text/plain": [
       "7"
      ]
     },
     "execution_count": 55,
     "metadata": {},
     "output_type": "execute_result"
    }
   ],
   "source": [
    "prices =[7,1,5,3,6,4]\n",
    "Solution().maxProfit(prices)"
   ]
  },
  {
   "cell_type": "code",
   "execution_count": null,
   "id": "94a3404b-08f1-4a1f-9845-f5f4937bf797",
   "metadata": {},
   "outputs": [],
   "source": []
  }
 ],
 "metadata": {
  "kernelspec": {
   "display_name": "Python 3 (ipykernel)",
   "language": "python",
   "name": "python3"
  },
  "language_info": {
   "codemirror_mode": {
    "name": "ipython",
    "version": 3
   },
   "file_extension": ".py",
   "mimetype": "text/x-python",
   "name": "python",
   "nbconvert_exporter": "python",
   "pygments_lexer": "ipython3",
   "version": "3.8.13"
  }
 },
 "nbformat": 4,
 "nbformat_minor": 5
}
