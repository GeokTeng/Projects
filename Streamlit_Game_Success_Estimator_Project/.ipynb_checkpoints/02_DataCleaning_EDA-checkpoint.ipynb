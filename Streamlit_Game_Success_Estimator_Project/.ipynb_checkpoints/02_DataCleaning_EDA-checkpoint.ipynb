{
 "cells": [
  {
   "cell_type": "markdown",
   "id": "dbe22dab-f57d-48df-975f-76c6e29d721d",
   "metadata": {},
   "source": [
    "# About this Notebook:\n",
    "\n",
    "Here we aim to clean the data.\n",
    "- Data cleaning processes include:\n",
    "    - Addressing Missing\n",
    "    - Checking for duplicates\n",
    "    - Converting to lowercase\n",
    "    - Removing stopwords and stemming for Articles' Abstract\n",
    "    - Removing Abstract special characters"
   ]
  },
  {
   "cell_type": "markdown",
   "id": "df647a3e-444e-4a28-b85c-8fa97fbd6f90",
   "metadata": {},
   "source": [
    "# Imports & Functions"
   ]
  },
  {
   "cell_type": "code",
   "execution_count": 4,
   "id": "a61fa9f1-9cfb-4ac7-844c-b8d9c925de1d",
   "metadata": {},
   "outputs": [],
   "source": [
    "import numpy as np \n",
    "import pandas as pd\n",
    "\n",
    "from IPython.core.interactiveshell import InteractiveShell\n",
    "InteractiveShell.ast_node_interactivity = \"all\"\n",
    "\n",
    "\n",
    "#Visualisation:\n",
    "import seaborn               as sns\n",
    "import matplotlib.pyplot     as plt\n",
    "sns.set_theme(style=\"whitegrid\")\n",
    "\n",
    "#track progress \n",
    "from tqdm import tqdm\n",
    "tqdm.pandas()\n",
    "\n",
    "#data transformation\n",
    "import datetime\n",
    "import re\n",
    "\n",
    "\n",
    "#Showing missing, duplicates, shape, dtypes\n",
    "def df_summary(df):\n",
    "    print(f\"Shape(col,rows): {df.shape}\")\n",
    "    print(f\"Number of duplicates: {df.duplicated().sum()}\")\n",
    "    print('---'*20)\n",
    "    print(f'Number of each unqiue datatypes:\\n{df.dtypes.value_counts()}')\n",
    "    print('---'*20)\n",
    "    print(\"Columns with missing values:\")\n",
    "    isnull_df = pd.DataFrame(df.isnull().sum()).reset_index()\n",
    "    isnull_df.columns = ['col','num_nulls']\n",
    "    isnull_df['perc_null'] = ((isnull_df['num_nulls'])/(len(df))).round(2)\n",
    "    print(isnull_df[isnull_df['num_nulls']>0])\n",
    "    \n"
   ]
  },
  {
   "cell_type": "code",
   "execution_count": 5,
   "id": "6866ab00-b310-4bbf-9bf9-829f1af65f54",
   "metadata": {},
   "outputs": [],
   "source": [
    "original_df = pd.read_csv(\"01_DataCollection/original_data_df.csv\")"
   ]
  },
  {
   "cell_type": "code",
   "execution_count": 6,
   "id": "943e6944-a694-4a90-a0c7-b1f852978faf",
   "metadata": {},
   "outputs": [
    {
     "data": {
      "text/plain": [
       "Index(['title', 'link', 'r_date', 'price', 'description', 'reviews', 'tagged'], dtype='object')"
      ]
     },
     "execution_count": 6,
     "metadata": {},
     "output_type": "execute_result"
    }
   ],
   "source": [
    "original_df.columns"
   ]
  },
  {
   "cell_type": "code",
   "execution_count": 7,
   "id": "64558805-41b0-42fc-8d83-05e2033710f5",
   "metadata": {},
   "outputs": [
    {
     "data": {
      "text/html": [
       "<div>\n",
       "<style scoped>\n",
       "    .dataframe tbody tr th:only-of-type {\n",
       "        vertical-align: middle;\n",
       "    }\n",
       "\n",
       "    .dataframe tbody tr th {\n",
       "        vertical-align: top;\n",
       "    }\n",
       "\n",
       "    .dataframe thead th {\n",
       "        text-align: right;\n",
       "    }\n",
       "</style>\n",
       "<table border=\"1\" class=\"dataframe\">\n",
       "  <thead>\n",
       "    <tr style=\"text-align: right;\">\n",
       "      <th></th>\n",
       "      <th>title</th>\n",
       "      <th>link</th>\n",
       "      <th>r_date</th>\n",
       "      <th>price</th>\n",
       "      <th>description</th>\n",
       "      <th>reviews</th>\n",
       "      <th>tagged</th>\n",
       "    </tr>\n",
       "  </thead>\n",
       "  <tbody>\n",
       "    <tr>\n",
       "      <th>0</th>\n",
       "      <td>Persona 3 Portable</td>\n",
       "      <td>https://store.steampowered.com/app/1809700/Per...</td>\n",
       "      <td>18 Jan, 2023</td>\n",
       "      <td>CDN$ 27.99</td>\n",
       "      <td>About This GameExperience the iconic, critical...</td>\n",
       "      <td>All Reviews:Mostly Positive(771)- 74% of the 7...</td>\n",
       "      <td>RPG, Story Rich, Anime, Turn-Based Combat, JRP...</td>\n",
       "    </tr>\n",
       "    <tr>\n",
       "      <th>1</th>\n",
       "      <td>Boing</td>\n",
       "      <td>https://store.steampowered.com/app/2180390/Boi...</td>\n",
       "      <td>18 Jan, 2023</td>\n",
       "      <td>-20%\\n\\n\\nCDN$ 10.49CDN$ 8.39</td>\n",
       "      <td>About This GameLong ago in the deepest and dar...</td>\n",
       "      <td>All Reviews:1 user reviews- Need more user rev...</td>\n",
       "      <td>Casual, Action, Arcade, Atmospheric, 2D, Singl...</td>\n",
       "    </tr>\n",
       "    <tr>\n",
       "      <th>2</th>\n",
       "      <td>Fraymakers</td>\n",
       "      <td>https://store.steampowered.com/app/1420350/Fra...</td>\n",
       "      <td>18 Jan, 2023</td>\n",
       "      <td>CDN$ 22.79</td>\n",
       "      <td>About This GameWhat is Fraymakers?Fraymakers i...</td>\n",
       "      <td>All Reviews:Mixed(214)- 68% of the 214 user re...</td>\n",
       "      <td>Indie, Fighting, 2D Fighter, Multiplayer, Acti...</td>\n",
       "    </tr>\n",
       "    <tr>\n",
       "      <th>3</th>\n",
       "      <td>【VR】Physical Exam / イタズラ身体測定</td>\n",
       "      <td>https://store.steampowered.com/app/2262110/VRP...</td>\n",
       "      <td>18 Jan, 2023</td>\n",
       "      <td>-10%\\n\\n\\nCDN$ 25.99CDN$ 23.39</td>\n",
       "      <td>About This GameThis game is for Meta Quest2 on...</td>\n",
       "      <td>All Reviews:1 user reviews- Need more user rev...</td>\n",
       "      <td>Simulation, VR, Dating Sim, Cute, Immersive Si...</td>\n",
       "    </tr>\n",
       "    <tr>\n",
       "      <th>4</th>\n",
       "      <td>FPS Seduce - Hentai</td>\n",
       "      <td>https://store.steampowered.com/app/1853780/FPS...</td>\n",
       "      <td>18 Jan, 2023</td>\n",
       "      <td>-10%\\n\\n\\nCDN$ 5.69CDN$ 5.12</td>\n",
       "      <td>About This GameMake love to many beautiful ani...</td>\n",
       "      <td>All Reviews:2 user reviews- Need more user rev...</td>\n",
       "      <td>Nudity, Sexual Content, Hentai, Romance, Anime...</td>\n",
       "    </tr>\n",
       "  </tbody>\n",
       "</table>\n",
       "</div>"
      ],
      "text/plain": [
       "                          title  \\\n",
       "0            Persona 3 Portable   \n",
       "1                         Boing   \n",
       "2                    Fraymakers   \n",
       "3  【VR】Physical Exam / イタズラ身体測定   \n",
       "4           FPS Seduce - Hentai   \n",
       "\n",
       "                                                link        r_date  \\\n",
       "0  https://store.steampowered.com/app/1809700/Per...  18 Jan, 2023   \n",
       "1  https://store.steampowered.com/app/2180390/Boi...  18 Jan, 2023   \n",
       "2  https://store.steampowered.com/app/1420350/Fra...  18 Jan, 2023   \n",
       "3  https://store.steampowered.com/app/2262110/VRP...  18 Jan, 2023   \n",
       "4  https://store.steampowered.com/app/1853780/FPS...  18 Jan, 2023   \n",
       "\n",
       "                            price  \\\n",
       "0                      CDN$ 27.99   \n",
       "1   -20%\\n\\n\\nCDN$ 10.49CDN$ 8.39   \n",
       "2                      CDN$ 22.79   \n",
       "3  -10%\\n\\n\\nCDN$ 25.99CDN$ 23.39   \n",
       "4    -10%\\n\\n\\nCDN$ 5.69CDN$ 5.12   \n",
       "\n",
       "                                         description  \\\n",
       "0  About This GameExperience the iconic, critical...   \n",
       "1  About This GameLong ago in the deepest and dar...   \n",
       "2  About This GameWhat is Fraymakers?Fraymakers i...   \n",
       "3  About This GameThis game is for Meta Quest2 on...   \n",
       "4  About This GameMake love to many beautiful ani...   \n",
       "\n",
       "                                             reviews  \\\n",
       "0  All Reviews:Mostly Positive(771)- 74% of the 7...   \n",
       "1  All Reviews:1 user reviews- Need more user rev...   \n",
       "2  All Reviews:Mixed(214)- 68% of the 214 user re...   \n",
       "3  All Reviews:1 user reviews- Need more user rev...   \n",
       "4  All Reviews:2 user reviews- Need more user rev...   \n",
       "\n",
       "                                              tagged  \n",
       "0  RPG, Story Rich, Anime, Turn-Based Combat, JRP...  \n",
       "1  Casual, Action, Arcade, Atmospheric, 2D, Singl...  \n",
       "2  Indie, Fighting, 2D Fighter, Multiplayer, Acti...  \n",
       "3  Simulation, VR, Dating Sim, Cute, Immersive Si...  \n",
       "4  Nudity, Sexual Content, Hentai, Romance, Anime...  "
      ]
     },
     "execution_count": 7,
     "metadata": {},
     "output_type": "execute_result"
    }
   ],
   "source": [
    "original_df.head()"
   ]
  },
  {
   "cell_type": "code",
   "execution_count": 8,
   "id": "573d42f3-d4bc-461d-ac6d-e500d9c7272e",
   "metadata": {},
   "outputs": [
    {
     "name": "stdout",
     "output_type": "stream",
     "text": [
      "Shape(col,rows): (50000, 7)\n",
      "Number of duplicates: 0\n",
      "------------------------------------------------------------\n",
      "Number of each unqiue datatypes:\n",
      "object    7\n",
      "dtype: int64\n",
      "------------------------------------------------------------\n",
      "Columns with missing values:\n",
      "           col  num_nulls  perc_null\n",
      "0        title          1       0.00\n",
      "2       r_date          1       0.00\n",
      "3        price        266       0.01\n",
      "4  description         71       0.00\n",
      "5      reviews         66       0.00\n",
      "6       tagged         22       0.00\n"
     ]
    }
   ],
   "source": [
    "df_summary(original_df)"
   ]
  },
  {
   "cell_type": "markdown",
   "id": "fb2985fc-fed3-47bf-84dc-c81e3663bf56",
   "metadata": {},
   "source": [
    "**Issues**:\n",
    "\n",
    "- missing values\n",
    "- datatype inappropriate"
   ]
  },
  {
   "cell_type": "markdown",
   "id": "88f12535-f43a-46b8-ba8e-fea349e3bd9a",
   "metadata": {},
   "source": [
    "# 1. Data Cleaning"
   ]
  },
  {
   "cell_type": "markdown",
   "id": "2bdcd8bf-e7cc-4063-9421-df33a5fba5b0",
   "metadata": {},
   "source": [
    "### 1.1 Missing Data"
   ]
  },
  {
   "cell_type": "code",
   "execution_count": 9,
   "id": "f3baeca3-df65-49e0-8a7b-b5289761295d",
   "metadata": {},
   "outputs": [],
   "source": [
    "# Missing Data - drop na since collectively they form<1% of total data \n",
    "df1 = original_df.copy()\n",
    "df1.dropna(inplace=True)"
   ]
  },
  {
   "cell_type": "code",
   "execution_count": 10,
   "id": "df9a4592-1ad1-48b6-bd07-264965af8647",
   "metadata": {},
   "outputs": [
    {
     "data": {
      "text/plain": [
       "(49656, 7)"
      ]
     },
     "execution_count": 10,
     "metadata": {},
     "output_type": "execute_result"
    }
   ],
   "source": [
    "df1.shape"
   ]
  },
  {
   "cell_type": "markdown",
   "id": "44bbf2fb-d6ec-4d93-aee4-fef7b3803fb9",
   "metadata": {},
   "source": [
    "### 1.2 Lowercase"
   ]
  },
  {
   "cell_type": "code",
   "execution_count": 11,
   "id": "04c0a55d-f7c1-462a-be2d-173d0d82aa5f",
   "metadata": {},
   "outputs": [],
   "source": [
    "#convert all to lowercase\n",
    "df1 = df1.apply(lambda x: x.str.lower() if x.dtype == 'object' else x)"
   ]
  },
  {
   "cell_type": "markdown",
   "id": "f43fb75d-88c8-48a6-a95e-15dba3af6e6d",
   "metadata": {},
   "source": [
    "### 1.3 Converting to numerical data type"
   ]
  },
  {
   "cell_type": "code",
   "execution_count": 12,
   "id": "588d89b9-486a-4a4e-a5aa-89202fdb9f8f",
   "metadata": {},
   "outputs": [],
   "source": [
    "# convert price column to numeric type\n",
    "def convert(string):\n",
    "    match = re.search(r'\\$\\s*([\\d.]+)', string)\n",
    "    if match:\n",
    "        return float(match.group(1))\n",
    "    elif 'free' in string:\n",
    "        return 0\n",
    "    else:\n",
    "        return None\n",
    "\n",
    "df1['price'] = df1['price'].apply(convert)"
   ]
  },
  {
   "cell_type": "code",
   "execution_count": 13,
   "id": "d15e3af8-c390-48bf-8d8d-65241d1e1546",
   "metadata": {},
   "outputs": [
    {
     "data": {
      "text/plain": [
       "0    27.99\n",
       "1    10.49\n",
       "2    22.79\n",
       "3    25.99\n",
       "4     5.69\n",
       "Name: price, dtype: float64"
      ]
     },
     "execution_count": 13,
     "metadata": {},
     "output_type": "execute_result"
    }
   ],
   "source": [
    "df1['price'].head()"
   ]
  },
  {
   "cell_type": "markdown",
   "id": "e8151b3f-fc2d-48a0-aabb-7238b07d0bb6",
   "metadata": {},
   "source": [
    "### 1.4 Converting to datetime format"
   ]
  },
  {
   "cell_type": "code",
   "execution_count": 14,
   "id": "bc14ac7a-a3c4-457e-b255-41319c51d479",
   "metadata": {},
   "outputs": [
    {
     "data": {
      "text/plain": [
       "0   2023-01-18\n",
       "1   2023-01-18\n",
       "2   2023-01-18\n",
       "3   2023-01-18\n",
       "4   2023-01-18\n",
       "Name: r_date, dtype: datetime64[ns]"
      ]
     },
     "execution_count": 14,
     "metadata": {},
     "output_type": "execute_result"
    }
   ],
   "source": [
    "#convert to dateime format\n",
    "df1['r_date'] = pd.to_datetime(df1['r_date'])\n",
    "df1['r_date'].head()"
   ]
  },
  {
   "cell_type": "markdown",
   "id": "b481e045-74e2-4214-8187-357b6d6e19af",
   "metadata": {},
   "source": [
    "### 1.5 Tidying 'Description' columns"
   ]
  },
  {
   "cell_type": "code",
   "execution_count": 15,
   "id": "3d953450-be0c-48dd-bd46-522a329a0d15",
   "metadata": {},
   "outputs": [
    {
     "data": {
      "text/plain": [
       "0    experience the iconic, critically acclaimed rp...\n",
       "1    long ago in the deepest and darkest of space, ...\n",
       "2    what is fraymakers?fraymakers is the ultimate ...\n",
       "3    this game is for meta quest2 only. if it does ...\n",
       "4    make love to many beautiful anime girls in thi...\n",
       "Name: description, dtype: object"
      ]
     },
     "execution_count": 15,
     "metadata": {},
     "output_type": "execute_result"
    }
   ],
   "source": [
    "#remove 'About This Game' in the description column\n",
    "df1['description'] = df1['description'].str.replace(r'about this game','')\n",
    "df1['description'].head()"
   ]
  },
  {
   "cell_type": "code",
   "execution_count": 16,
   "id": "b79301d2-4e4d-4729-8c9a-b28043b068de",
   "metadata": {},
   "outputs": [
    {
     "name": "stderr",
     "output_type": "stream",
     "text": [
      "C:\\Users\\geok1\\AppData\\Local\\Temp\\ipykernel_24392\\1743083554.py:2: FutureWarning: The default value of regex will change from True to False in a future version.\n",
      "  df1['description'] = df1['description'].str.replace('[^\\w\\s]','')\n"
     ]
    },
    {
     "data": {
      "text/plain": [
       "0    experience the iconic critically acclaimed rpg...\n",
       "1    long ago in the deepest and darkest of space a...\n",
       "2    what is fraymakersfraymakers is the ultimate c...\n",
       "3    this game is for meta quest2 only if it does n...\n",
       "4    make love to many beautiful anime girls in thi...\n",
       "Name: description, dtype: object"
      ]
     },
     "execution_count": 16,
     "metadata": {},
     "output_type": "execute_result"
    }
   ],
   "source": [
    "#remove special characters\":\n",
    "df1['description'] = df1['description'].str.replace('[^\\w\\s]','')\n",
    "df1['description'].head()"
   ]
  },
  {
   "cell_type": "code",
   "execution_count": 17,
   "id": "c38e929a-8d46-428b-9e4f-fe427db5e0c6",
   "metadata": {},
   "outputs": [
    {
     "data": {
      "text/html": [
       "<div>\n",
       "<style scoped>\n",
       "    .dataframe tbody tr th:only-of-type {\n",
       "        vertical-align: middle;\n",
       "    }\n",
       "\n",
       "    .dataframe tbody tr th {\n",
       "        vertical-align: top;\n",
       "    }\n",
       "\n",
       "    .dataframe thead th {\n",
       "        text-align: right;\n",
       "    }\n",
       "</style>\n",
       "<table border=\"1\" class=\"dataframe\">\n",
       "  <thead>\n",
       "    <tr style=\"text-align: right;\">\n",
       "      <th></th>\n",
       "      <th>title</th>\n",
       "      <th>link</th>\n",
       "      <th>r_date</th>\n",
       "      <th>price</th>\n",
       "      <th>description</th>\n",
       "      <th>reviews</th>\n",
       "      <th>tagged</th>\n",
       "    </tr>\n",
       "  </thead>\n",
       "  <tbody>\n",
       "    <tr>\n",
       "      <th>0</th>\n",
       "      <td>persona 3 portable</td>\n",
       "      <td>https://store.steampowered.com/app/1809700/per...</td>\n",
       "      <td>2023-01-18</td>\n",
       "      <td>27.99</td>\n",
       "      <td>experience the iconic critically acclaimed rpg...</td>\n",
       "      <td>all reviews:mostly positive(771)- 74% of the 7...</td>\n",
       "      <td>rpg, story rich, anime, turn-based combat, jrp...</td>\n",
       "    </tr>\n",
       "    <tr>\n",
       "      <th>1</th>\n",
       "      <td>boing</td>\n",
       "      <td>https://store.steampowered.com/app/2180390/boi...</td>\n",
       "      <td>2023-01-18</td>\n",
       "      <td>10.49</td>\n",
       "      <td>long ago in the deepest and darkest of space a...</td>\n",
       "      <td>all reviews:1 user reviews- need more user rev...</td>\n",
       "      <td>casual, action, arcade, atmospheric, 2d, singl...</td>\n",
       "    </tr>\n",
       "    <tr>\n",
       "      <th>2</th>\n",
       "      <td>fraymakers</td>\n",
       "      <td>https://store.steampowered.com/app/1420350/fra...</td>\n",
       "      <td>2023-01-18</td>\n",
       "      <td>22.79</td>\n",
       "      <td>what is fraymakersfraymakers is the ultimate c...</td>\n",
       "      <td>all reviews:mixed(214)- 68% of the 214 user re...</td>\n",
       "      <td>indie, fighting, 2d fighter, multiplayer, acti...</td>\n",
       "    </tr>\n",
       "    <tr>\n",
       "      <th>3</th>\n",
       "      <td>【vr】physical exam / イタズラ身体測定</td>\n",
       "      <td>https://store.steampowered.com/app/2262110/vrp...</td>\n",
       "      <td>2023-01-18</td>\n",
       "      <td>25.99</td>\n",
       "      <td>this game is for meta quest2 only if it does n...</td>\n",
       "      <td>all reviews:1 user reviews- need more user rev...</td>\n",
       "      <td>simulation, vr, dating sim, cute, immersive si...</td>\n",
       "    </tr>\n",
       "    <tr>\n",
       "      <th>4</th>\n",
       "      <td>fps seduce - hentai</td>\n",
       "      <td>https://store.steampowered.com/app/1853780/fps...</td>\n",
       "      <td>2023-01-18</td>\n",
       "      <td>5.69</td>\n",
       "      <td>make love to many beautiful anime girls in thi...</td>\n",
       "      <td>all reviews:2 user reviews- need more user rev...</td>\n",
       "      <td>nudity, sexual content, hentai, romance, anime...</td>\n",
       "    </tr>\n",
       "  </tbody>\n",
       "</table>\n",
       "</div>"
      ],
      "text/plain": [
       "                          title  \\\n",
       "0            persona 3 portable   \n",
       "1                         boing   \n",
       "2                    fraymakers   \n",
       "3  【vr】physical exam / イタズラ身体測定   \n",
       "4           fps seduce - hentai   \n",
       "\n",
       "                                                link     r_date  price  \\\n",
       "0  https://store.steampowered.com/app/1809700/per... 2023-01-18  27.99   \n",
       "1  https://store.steampowered.com/app/2180390/boi... 2023-01-18  10.49   \n",
       "2  https://store.steampowered.com/app/1420350/fra... 2023-01-18  22.79   \n",
       "3  https://store.steampowered.com/app/2262110/vrp... 2023-01-18  25.99   \n",
       "4  https://store.steampowered.com/app/1853780/fps... 2023-01-18   5.69   \n",
       "\n",
       "                                         description  \\\n",
       "0  experience the iconic critically acclaimed rpg...   \n",
       "1  long ago in the deepest and darkest of space a...   \n",
       "2  what is fraymakersfraymakers is the ultimate c...   \n",
       "3  this game is for meta quest2 only if it does n...   \n",
       "4  make love to many beautiful anime girls in thi...   \n",
       "\n",
       "                                             reviews  \\\n",
       "0  all reviews:mostly positive(771)- 74% of the 7...   \n",
       "1  all reviews:1 user reviews- need more user rev...   \n",
       "2  all reviews:mixed(214)- 68% of the 214 user re...   \n",
       "3  all reviews:1 user reviews- need more user rev...   \n",
       "4  all reviews:2 user reviews- need more user rev...   \n",
       "\n",
       "                                              tagged  \n",
       "0  rpg, story rich, anime, turn-based combat, jrp...  \n",
       "1  casual, action, arcade, atmospheric, 2d, singl...  \n",
       "2  indie, fighting, 2d fighter, multiplayer, acti...  \n",
       "3  simulation, vr, dating sim, cute, immersive si...  \n",
       "4  nudity, sexual content, hentai, romance, anime...  "
      ]
     },
     "execution_count": 17,
     "metadata": {},
     "output_type": "execute_result"
    }
   ],
   "source": [
    "df1.head()"
   ]
  },
  {
   "cell_type": "markdown",
   "id": "0efff24e-4d50-4792-a870-6059fc461e76",
   "metadata": {},
   "source": [
    "### 1.6 'Game ID' Column"
   ]
  },
  {
   "cell_type": "code",
   "execution_count": 18,
   "id": "bd68f6dc-30d4-4806-a499-3467a5503636",
   "metadata": {},
   "outputs": [
    {
     "data": {
      "text/html": [
       "<div>\n",
       "<style scoped>\n",
       "    .dataframe tbody tr th:only-of-type {\n",
       "        vertical-align: middle;\n",
       "    }\n",
       "\n",
       "    .dataframe tbody tr th {\n",
       "        vertical-align: top;\n",
       "    }\n",
       "\n",
       "    .dataframe thead th {\n",
       "        text-align: right;\n",
       "    }\n",
       "</style>\n",
       "<table border=\"1\" class=\"dataframe\">\n",
       "  <thead>\n",
       "    <tr style=\"text-align: right;\">\n",
       "      <th></th>\n",
       "      <th>title</th>\n",
       "      <th>r_date</th>\n",
       "      <th>price</th>\n",
       "      <th>description</th>\n",
       "      <th>reviews</th>\n",
       "      <th>tagged</th>\n",
       "      <th>game_id</th>\n",
       "    </tr>\n",
       "  </thead>\n",
       "  <tbody>\n",
       "    <tr>\n",
       "      <th>0</th>\n",
       "      <td>persona 3 portable</td>\n",
       "      <td>2023-01-18</td>\n",
       "      <td>27.99</td>\n",
       "      <td>experience the iconic critically acclaimed rpg...</td>\n",
       "      <td>all reviews:mostly positive(771)- 74% of the 7...</td>\n",
       "      <td>rpg, story rich, anime, turn-based combat, jrp...</td>\n",
       "      <td>1809700</td>\n",
       "    </tr>\n",
       "    <tr>\n",
       "      <th>1</th>\n",
       "      <td>boing</td>\n",
       "      <td>2023-01-18</td>\n",
       "      <td>10.49</td>\n",
       "      <td>long ago in the deepest and darkest of space a...</td>\n",
       "      <td>all reviews:1 user reviews- need more user rev...</td>\n",
       "      <td>casual, action, arcade, atmospheric, 2d, singl...</td>\n",
       "      <td>2180390</td>\n",
       "    </tr>\n",
       "    <tr>\n",
       "      <th>2</th>\n",
       "      <td>fraymakers</td>\n",
       "      <td>2023-01-18</td>\n",
       "      <td>22.79</td>\n",
       "      <td>what is fraymakersfraymakers is the ultimate c...</td>\n",
       "      <td>all reviews:mixed(214)- 68% of the 214 user re...</td>\n",
       "      <td>indie, fighting, 2d fighter, multiplayer, acti...</td>\n",
       "      <td>1420350</td>\n",
       "    </tr>\n",
       "    <tr>\n",
       "      <th>3</th>\n",
       "      <td>【vr】physical exam / イタズラ身体測定</td>\n",
       "      <td>2023-01-18</td>\n",
       "      <td>25.99</td>\n",
       "      <td>this game is for meta quest2 only if it does n...</td>\n",
       "      <td>all reviews:1 user reviews- need more user rev...</td>\n",
       "      <td>simulation, vr, dating sim, cute, immersive si...</td>\n",
       "      <td>2262110</td>\n",
       "    </tr>\n",
       "    <tr>\n",
       "      <th>4</th>\n",
       "      <td>fps seduce - hentai</td>\n",
       "      <td>2023-01-18</td>\n",
       "      <td>5.69</td>\n",
       "      <td>make love to many beautiful anime girls in thi...</td>\n",
       "      <td>all reviews:2 user reviews- need more user rev...</td>\n",
       "      <td>nudity, sexual content, hentai, romance, anime...</td>\n",
       "      <td>1853780</td>\n",
       "    </tr>\n",
       "  </tbody>\n",
       "</table>\n",
       "</div>"
      ],
      "text/plain": [
       "                          title     r_date  price  \\\n",
       "0            persona 3 portable 2023-01-18  27.99   \n",
       "1                         boing 2023-01-18  10.49   \n",
       "2                    fraymakers 2023-01-18  22.79   \n",
       "3  【vr】physical exam / イタズラ身体測定 2023-01-18  25.99   \n",
       "4           fps seduce - hentai 2023-01-18   5.69   \n",
       "\n",
       "                                         description  \\\n",
       "0  experience the iconic critically acclaimed rpg...   \n",
       "1  long ago in the deepest and darkest of space a...   \n",
       "2  what is fraymakersfraymakers is the ultimate c...   \n",
       "3  this game is for meta quest2 only if it does n...   \n",
       "4  make love to many beautiful anime girls in thi...   \n",
       "\n",
       "                                             reviews  \\\n",
       "0  all reviews:mostly positive(771)- 74% of the 7...   \n",
       "1  all reviews:1 user reviews- need more user rev...   \n",
       "2  all reviews:mixed(214)- 68% of the 214 user re...   \n",
       "3  all reviews:1 user reviews- need more user rev...   \n",
       "4  all reviews:2 user reviews- need more user rev...   \n",
       "\n",
       "                                              tagged  game_id  \n",
       "0  rpg, story rich, anime, turn-based combat, jrp...  1809700  \n",
       "1  casual, action, arcade, atmospheric, 2d, singl...  2180390  \n",
       "2  indie, fighting, 2d fighter, multiplayer, acti...  1420350  \n",
       "3  simulation, vr, dating sim, cute, immersive si...  2262110  \n",
       "4  nudity, sexual content, hentai, romance, anime...  1853780  "
      ]
     },
     "execution_count": 18,
     "metadata": {},
     "output_type": "execute_result"
    }
   ],
   "source": [
    "#create Game ID column:\n",
    "def extract_int(string):\n",
    "    match = re.search(r'(app|sub)/(\\d+)', string)\n",
    "    if match:\n",
    "        return int(match.group(2))\n",
    "    else:\n",
    "        return None\n",
    "\n",
    "df1['game_id'] = df1['link'].apply(extract_int)\n",
    "df1.drop(columns='link', inplace=True) # drop 'link' column as it as no use for further steps\n",
    "df1.head()"
   ]
  },
  {
   "cell_type": "markdown",
   "id": "b238988f-2d36-413b-bf20-95883e8dcbcc",
   "metadata": {},
   "source": [
    "### 1.7 Review-related columns"
   ]
  },
  {
   "cell_type": "code",
   "execution_count": 19,
   "id": "a6eb8257-984a-4fd7-b694-4abeab8e6b21",
   "metadata": {},
   "outputs": [
    {
     "data": {
      "text/html": [
       "<div>\n",
       "<style scoped>\n",
       "    .dataframe tbody tr th:only-of-type {\n",
       "        vertical-align: middle;\n",
       "    }\n",
       "\n",
       "    .dataframe tbody tr th {\n",
       "        vertical-align: top;\n",
       "    }\n",
       "\n",
       "    .dataframe thead th {\n",
       "        text-align: right;\n",
       "    }\n",
       "</style>\n",
       "<table border=\"1\" class=\"dataframe\">\n",
       "  <thead>\n",
       "    <tr style=\"text-align: right;\">\n",
       "      <th></th>\n",
       "      <th>title</th>\n",
       "      <th>r_date</th>\n",
       "      <th>price</th>\n",
       "      <th>description</th>\n",
       "      <th>review_type</th>\n",
       "      <th>review_stats</th>\n",
       "      <th>positive_percentage</th>\n",
       "      <th>total_reviews</th>\n",
       "      <th>tagged</th>\n",
       "      <th>game_id</th>\n",
       "    </tr>\n",
       "  </thead>\n",
       "  <tbody>\n",
       "    <tr>\n",
       "      <th>0</th>\n",
       "      <td>persona 3 portable</td>\n",
       "      <td>2023-01-18</td>\n",
       "      <td>27.99</td>\n",
       "      <td>experience the iconic critically acclaimed rpg...</td>\n",
       "      <td>mostly positive(771)</td>\n",
       "      <td>74% of the 771 user reviews for this game are...</td>\n",
       "      <td>74%</td>\n",
       "      <td>771</td>\n",
       "      <td>rpg, story rich, anime, turn-based combat, jrp...</td>\n",
       "      <td>1809700</td>\n",
       "    </tr>\n",
       "    <tr>\n",
       "      <th>1</th>\n",
       "      <td>boing</td>\n",
       "      <td>2023-01-18</td>\n",
       "      <td>10.49</td>\n",
       "      <td>long ago in the deepest and darkest of space a...</td>\n",
       "      <td>1 user reviews</td>\n",
       "      <td>need more user reviews to generate a score</td>\n",
       "      <td>NaN</td>\n",
       "      <td>NaN</td>\n",
       "      <td>casual, action, arcade, atmospheric, 2d, singl...</td>\n",
       "      <td>2180390</td>\n",
       "    </tr>\n",
       "    <tr>\n",
       "      <th>2</th>\n",
       "      <td>fraymakers</td>\n",
       "      <td>2023-01-18</td>\n",
       "      <td>22.79</td>\n",
       "      <td>what is fraymakersfraymakers is the ultimate c...</td>\n",
       "      <td>mixed(214)</td>\n",
       "      <td>68% of the 214 user reviews for this game are...</td>\n",
       "      <td>68%</td>\n",
       "      <td>214</td>\n",
       "      <td>indie, fighting, 2d fighter, multiplayer, acti...</td>\n",
       "      <td>1420350</td>\n",
       "    </tr>\n",
       "    <tr>\n",
       "      <th>3</th>\n",
       "      <td>【vr】physical exam / イタズラ身体測定</td>\n",
       "      <td>2023-01-18</td>\n",
       "      <td>25.99</td>\n",
       "      <td>this game is for meta quest2 only if it does n...</td>\n",
       "      <td>1 user reviews</td>\n",
       "      <td>need more user reviews to generate a score</td>\n",
       "      <td>NaN</td>\n",
       "      <td>NaN</td>\n",
       "      <td>simulation, vr, dating sim, cute, immersive si...</td>\n",
       "      <td>2262110</td>\n",
       "    </tr>\n",
       "    <tr>\n",
       "      <th>4</th>\n",
       "      <td>fps seduce - hentai</td>\n",
       "      <td>2023-01-18</td>\n",
       "      <td>5.69</td>\n",
       "      <td>make love to many beautiful anime girls in thi...</td>\n",
       "      <td>2 user reviews</td>\n",
       "      <td>need more user reviews to generate a score</td>\n",
       "      <td>NaN</td>\n",
       "      <td>NaN</td>\n",
       "      <td>nudity, sexual content, hentai, romance, anime...</td>\n",
       "      <td>1853780</td>\n",
       "    </tr>\n",
       "  </tbody>\n",
       "</table>\n",
       "</div>"
      ],
      "text/plain": [
       "                          title     r_date  price  \\\n",
       "0            persona 3 portable 2023-01-18  27.99   \n",
       "1                         boing 2023-01-18  10.49   \n",
       "2                    fraymakers 2023-01-18  22.79   \n",
       "3  【vr】physical exam / イタズラ身体測定 2023-01-18  25.99   \n",
       "4           fps seduce - hentai 2023-01-18   5.69   \n",
       "\n",
       "                                         description           review_type  \\\n",
       "0  experience the iconic critically acclaimed rpg...  mostly positive(771)   \n",
       "1  long ago in the deepest and darkest of space a...        1 user reviews   \n",
       "2  what is fraymakersfraymakers is the ultimate c...            mixed(214)   \n",
       "3  this game is for meta quest2 only if it does n...        1 user reviews   \n",
       "4  make love to many beautiful anime girls in thi...        2 user reviews   \n",
       "\n",
       "                                        review_stats positive_percentage  \\\n",
       "0   74% of the 771 user reviews for this game are...                 74%   \n",
       "1         need more user reviews to generate a score                 NaN   \n",
       "2   68% of the 214 user reviews for this game are...                 68%   \n",
       "3         need more user reviews to generate a score                 NaN   \n",
       "4         need more user reviews to generate a score                 NaN   \n",
       "\n",
       "  total_reviews                                             tagged  game_id  \n",
       "0           771  rpg, story rich, anime, turn-based combat, jrp...  1809700  \n",
       "1           NaN  casual, action, arcade, atmospheric, 2d, singl...  2180390  \n",
       "2           214  indie, fighting, 2d fighter, multiplayer, acti...  1420350  \n",
       "3           NaN  simulation, vr, dating sim, cute, immersive si...  2262110  \n",
       "4           NaN  nudity, sexual content, hentai, romance, anime...  1853780  "
      ]
     },
     "execution_count": 19,
     "metadata": {},
     "output_type": "execute_result"
    }
   ],
   "source": [
    "#feature engineering on the 'review' column:\n",
    "\n",
    "df1[['reviews','review_type','review_stats']] = df1['reviews'].str.split(':|-', n=2, expand=True)\n",
    "df1[['positive_percentage','total_reviews']] = df1['review_stats'].str.extract(r'(\\d+%)\\s+of\\s+the\\s+(\\d+)\\s+user\\s+reviews', expand=True)\n",
    "\n",
    "df1 = df1.reindex(columns =['title','r_date',\n",
    "                       'price','description','reviews',\n",
    "                       'review_type','review_stats','positive_percentage',\n",
    "                              'total_reviews','tagged','game_id'])\n",
    "\n",
    "\n",
    "df1.drop(columns='reviews', inplace=True)\n",
    "df1.head()"
   ]
  },
  {
   "cell_type": "code",
   "execution_count": 20,
   "id": "6fa90d12-4d54-4eb3-81b1-e84ceec15aa9",
   "metadata": {},
   "outputs": [
    {
     "name": "stdout",
     "output_type": "stream",
     "text": [
      "Shape(col,rows): (49656, 10)\n",
      "Number of duplicates: 1\n",
      "------------------------------------------------------------\n",
      "Number of each unqiue datatypes:\n",
      "object            7\n",
      "datetime64[ns]    1\n",
      "float64           1\n",
      "int64             1\n",
      "dtype: int64\n",
      "------------------------------------------------------------\n",
      "Columns with missing values:\n",
      "                   col  num_nulls  perc_null\n",
      "5         review_stats       4168       0.08\n",
      "6  positive_percentage      22745       0.46\n",
      "7        total_reviews      22745       0.46\n"
     ]
    }
   ],
   "source": [
    "df_summary(df1)"
   ]
  },
  {
   "cell_type": "markdown",
   "id": "4de9669a-7553-4903-b92b-35e8bd191c57",
   "metadata": {},
   "source": [
    "#### EDA on newly created 'review' related columns"
   ]
  },
  {
   "cell_type": "code",
   "execution_count": 21,
   "id": "21c779f6-2849-46af-928a-5b173002734a",
   "metadata": {},
   "outputs": [
    {
     "data": {
      "text/html": [
       "<div>\n",
       "<style scoped>\n",
       "    .dataframe tbody tr th:only-of-type {\n",
       "        vertical-align: middle;\n",
       "    }\n",
       "\n",
       "    .dataframe tbody tr th {\n",
       "        vertical-align: top;\n",
       "    }\n",
       "\n",
       "    .dataframe thead th {\n",
       "        text-align: right;\n",
       "    }\n",
       "</style>\n",
       "<table border=\"1\" class=\"dataframe\">\n",
       "  <thead>\n",
       "    <tr style=\"text-align: right;\">\n",
       "      <th></th>\n",
       "      <th>title</th>\n",
       "      <th>r_date</th>\n",
       "      <th>price</th>\n",
       "      <th>description</th>\n",
       "      <th>review_type</th>\n",
       "      <th>review_stats</th>\n",
       "      <th>positive_percentage</th>\n",
       "      <th>total_reviews</th>\n",
       "      <th>tagged</th>\n",
       "      <th>game_id</th>\n",
       "    </tr>\n",
       "  </thead>\n",
       "  <tbody>\n",
       "    <tr>\n",
       "      <th>1</th>\n",
       "      <td>boing</td>\n",
       "      <td>2023-01-18</td>\n",
       "      <td>10.49</td>\n",
       "      <td>long ago in the deepest and darkest of space a...</td>\n",
       "      <td>1 user reviews</td>\n",
       "      <td>need more user reviews to generate a score</td>\n",
       "      <td>NaN</td>\n",
       "      <td>NaN</td>\n",
       "      <td>casual, action, arcade, atmospheric, 2d, singl...</td>\n",
       "      <td>2180390</td>\n",
       "    </tr>\n",
       "    <tr>\n",
       "      <th>3</th>\n",
       "      <td>【vr】physical exam / イタズラ身体測定</td>\n",
       "      <td>2023-01-18</td>\n",
       "      <td>25.99</td>\n",
       "      <td>this game is for meta quest2 only if it does n...</td>\n",
       "      <td>1 user reviews</td>\n",
       "      <td>need more user reviews to generate a score</td>\n",
       "      <td>NaN</td>\n",
       "      <td>NaN</td>\n",
       "      <td>simulation, vr, dating sim, cute, immersive si...</td>\n",
       "      <td>2262110</td>\n",
       "    </tr>\n",
       "    <tr>\n",
       "      <th>4</th>\n",
       "      <td>fps seduce - hentai</td>\n",
       "      <td>2023-01-18</td>\n",
       "      <td>5.69</td>\n",
       "      <td>make love to many beautiful anime girls in thi...</td>\n",
       "      <td>2 user reviews</td>\n",
       "      <td>need more user reviews to generate a score</td>\n",
       "      <td>NaN</td>\n",
       "      <td>NaN</td>\n",
       "      <td>nudity, sexual content, hentai, romance, anime...</td>\n",
       "      <td>1853780</td>\n",
       "    </tr>\n",
       "    <tr>\n",
       "      <th>5</th>\n",
       "      <td>the duck song game</td>\n",
       "      <td>2023-01-18</td>\n",
       "      <td>1.29</td>\n",
       "      <td>summarythe ever so loved the duck song has ret...</td>\n",
       "      <td>1 user reviews</td>\n",
       "      <td>need more user reviews to generate a score</td>\n",
       "      <td>NaN</td>\n",
       "      <td>NaN</td>\n",
       "      <td>casual, singleplayer, funny, 2d, cute, cartoon...</td>\n",
       "      <td>2263340</td>\n",
       "    </tr>\n",
       "    <tr>\n",
       "      <th>6</th>\n",
       "      <td>techlie</td>\n",
       "      <td>2023-01-18</td>\n",
       "      <td>11.49</td>\n",
       "      <td>techlie is a firstperson shooter action game t...</td>\n",
       "      <td>no user reviews</td>\n",
       "      <td>None</td>\n",
       "      <td>NaN</td>\n",
       "      <td>NaN</td>\n",
       "      <td>fps, action, retro, shooter, gore, atmospheric...</td>\n",
       "      <td>1459260</td>\n",
       "    </tr>\n",
       "    <tr>\n",
       "      <th>...</th>\n",
       "      <td>...</td>\n",
       "      <td>...</td>\n",
       "      <td>...</td>\n",
       "      <td>...</td>\n",
       "      <td>...</td>\n",
       "      <td>...</td>\n",
       "      <td>...</td>\n",
       "      <td>...</td>\n",
       "      <td>...</td>\n",
       "      <td>...</td>\n",
       "    </tr>\n",
       "    <tr>\n",
       "      <th>49980</th>\n",
       "      <td>safari venture</td>\n",
       "      <td>2017-05-12</td>\n",
       "      <td>4.65</td>\n",
       "      <td>zoologist erwin founder of the serengeti  for ...</td>\n",
       "      <td>1 user reviews</td>\n",
       "      <td>need more user reviews to generate a score</td>\n",
       "      <td>NaN</td>\n",
       "      <td>NaN</td>\n",
       "      <td>casual, match 3</td>\n",
       "      <td>630390</td>\n",
       "    </tr>\n",
       "    <tr>\n",
       "      <th>49986</th>\n",
       "      <td>scribbled arena</td>\n",
       "      <td>2017-05-12</td>\n",
       "      <td>9.99</td>\n",
       "      <td>scribbled arena brings the retro tank battles ...</td>\n",
       "      <td>2 user reviews</td>\n",
       "      <td>need more user reviews to generate a score</td>\n",
       "      <td>NaN</td>\n",
       "      <td>NaN</td>\n",
       "      <td>action, massively multiplayer, early access, i...</td>\n",
       "      <td>395940</td>\n",
       "    </tr>\n",
       "    <tr>\n",
       "      <th>49990</th>\n",
       "      <td>star dust: the book of earth (vr)</td>\n",
       "      <td>2017-05-12</td>\n",
       "      <td>6.49</td>\n",
       "      <td>story summaryin the 21st century humankind lau...</td>\n",
       "      <td>8 user reviews</td>\n",
       "      <td>need more user reviews to generate a score</td>\n",
       "      <td>NaN</td>\n",
       "      <td>NaN</td>\n",
       "      <td>action, vr</td>\n",
       "      <td>572980</td>\n",
       "    </tr>\n",
       "    <tr>\n",
       "      <th>49997</th>\n",
       "      <td>dark mechanism - virtual reality</td>\n",
       "      <td>2017-05-12</td>\n",
       "      <td>2.19</td>\n",
       "      <td>in this vr exclusive game travel through clock...</td>\n",
       "      <td>2 user reviews</td>\n",
       "      <td>need more user reviews to generate a score</td>\n",
       "      <td>NaN</td>\n",
       "      <td>NaN</td>\n",
       "      <td>casual, vr</td>\n",
       "      <td>600580</td>\n",
       "    </tr>\n",
       "    <tr>\n",
       "      <th>49999</th>\n",
       "      <td>don't touch the zombies</td>\n",
       "      <td>2017-05-11</td>\n",
       "      <td>10.99</td>\n",
       "      <td>enjoy a different and twisted way for playing ...</td>\n",
       "      <td>2 user reviews</td>\n",
       "      <td>need more user reviews to generate a score</td>\n",
       "      <td>NaN</td>\n",
       "      <td>NaN</td>\n",
       "      <td>action, indie, casual, zombies</td>\n",
       "      <td>563370</td>\n",
       "    </tr>\n",
       "  </tbody>\n",
       "</table>\n",
       "<p>22745 rows × 10 columns</p>\n",
       "</div>"
      ],
      "text/plain": [
       "                                   title     r_date  price  \\\n",
       "1                                  boing 2023-01-18  10.49   \n",
       "3           【vr】physical exam / イタズラ身体測定 2023-01-18  25.99   \n",
       "4                    fps seduce - hentai 2023-01-18   5.69   \n",
       "5                     the duck song game 2023-01-18   1.29   \n",
       "6                                techlie 2023-01-18  11.49   \n",
       "...                                  ...        ...    ...   \n",
       "49980                     safari venture 2017-05-12   4.65   \n",
       "49986                    scribbled arena 2017-05-12   9.99   \n",
       "49990  star dust: the book of earth (vr) 2017-05-12   6.49   \n",
       "49997   dark mechanism - virtual reality 2017-05-12   2.19   \n",
       "49999            don't touch the zombies 2017-05-11  10.99   \n",
       "\n",
       "                                             description      review_type  \\\n",
       "1      long ago in the deepest and darkest of space a...   1 user reviews   \n",
       "3      this game is for meta quest2 only if it does n...   1 user reviews   \n",
       "4      make love to many beautiful anime girls in thi...   2 user reviews   \n",
       "5      summarythe ever so loved the duck song has ret...   1 user reviews   \n",
       "6      techlie is a firstperson shooter action game t...  no user reviews   \n",
       "...                                                  ...              ...   \n",
       "49980  zoologist erwin founder of the serengeti  for ...   1 user reviews   \n",
       "49986  scribbled arena brings the retro tank battles ...   2 user reviews   \n",
       "49990  story summaryin the 21st century humankind lau...   8 user reviews   \n",
       "49997  in this vr exclusive game travel through clock...   2 user reviews   \n",
       "49999  enjoy a different and twisted way for playing ...   2 user reviews   \n",
       "\n",
       "                                      review_stats positive_percentage  \\\n",
       "1       need more user reviews to generate a score                 NaN   \n",
       "3       need more user reviews to generate a score                 NaN   \n",
       "4       need more user reviews to generate a score                 NaN   \n",
       "5       need more user reviews to generate a score                 NaN   \n",
       "6                                             None                 NaN   \n",
       "...                                            ...                 ...   \n",
       "49980   need more user reviews to generate a score                 NaN   \n",
       "49986   need more user reviews to generate a score                 NaN   \n",
       "49990   need more user reviews to generate a score                 NaN   \n",
       "49997   need more user reviews to generate a score                 NaN   \n",
       "49999   need more user reviews to generate a score                 NaN   \n",
       "\n",
       "      total_reviews                                             tagged  \\\n",
       "1               NaN  casual, action, arcade, atmospheric, 2d, singl...   \n",
       "3               NaN  simulation, vr, dating sim, cute, immersive si...   \n",
       "4               NaN  nudity, sexual content, hentai, romance, anime...   \n",
       "5               NaN  casual, singleplayer, funny, 2d, cute, cartoon...   \n",
       "6               NaN  fps, action, retro, shooter, gore, atmospheric...   \n",
       "...             ...                                                ...   \n",
       "49980           NaN                                    casual, match 3   \n",
       "49986           NaN  action, massively multiplayer, early access, i...   \n",
       "49990           NaN                                         action, vr   \n",
       "49997           NaN                                         casual, vr   \n",
       "49999           NaN                     action, indie, casual, zombies   \n",
       "\n",
       "       game_id  \n",
       "1      2180390  \n",
       "3      2262110  \n",
       "4      1853780  \n",
       "5      2263340  \n",
       "6      1459260  \n",
       "...        ...  \n",
       "49980   630390  \n",
       "49986   395940  \n",
       "49990   572980  \n",
       "49997   600580  \n",
       "49999   563370  \n",
       "\n",
       "[22745 rows x 10 columns]"
      ]
     },
     "execution_count": 21,
     "metadata": {},
     "output_type": "execute_result"
    }
   ],
   "source": [
    "cond_1 = df1['positive_percentage'].isna()\n",
    "cond_2 = df1['review_stats'].isna()\n",
    "cond_3 = df1['total_reviews'].isna()\n",
    "\n",
    "review_missing_df = df1.loc[cond_1 | cond_2 | cond_3, :]\n",
    "review_missing_df"
   ]
  },
  {
   "cell_type": "code",
   "execution_count": 22,
   "id": "6fdeb31d-feb6-428f-adcb-db1495e67ea1",
   "metadata": {},
   "outputs": [],
   "source": [
    "_df = review_missing_df.copy()"
   ]
  },
  {
   "cell_type": "markdown",
   "id": "87f9b180-4147-409f-bb51-24751605095e",
   "metadata": {},
   "source": [
    "##### Games with 'review_stats' missing"
   ]
  },
  {
   "cell_type": "code",
   "execution_count": 23,
   "id": "221f8c68-c412-4257-879d-6c8e3a78512a",
   "metadata": {},
   "outputs": [
    {
     "data": {
      "text/plain": [
       "array(['no user reviews'], dtype=object)"
      ]
     },
     "execution_count": 23,
     "metadata": {},
     "output_type": "execute_result"
    }
   ],
   "source": [
    "_df.loc[_df['review_stats'].isna(),'review_type'].unique()"
   ]
  },
  {
   "cell_type": "code",
   "execution_count": 24,
   "id": "2106fead-64e0-4f79-bbac-574101c9ac9a",
   "metadata": {},
   "outputs": [
    {
     "data": {
      "text/html": [
       "<div>\n",
       "<style scoped>\n",
       "    .dataframe tbody tr th:only-of-type {\n",
       "        vertical-align: middle;\n",
       "    }\n",
       "\n",
       "    .dataframe tbody tr th {\n",
       "        vertical-align: top;\n",
       "    }\n",
       "\n",
       "    .dataframe thead th {\n",
       "        text-align: right;\n",
       "    }\n",
       "</style>\n",
       "<table border=\"1\" class=\"dataframe\">\n",
       "  <thead>\n",
       "    <tr style=\"text-align: right;\">\n",
       "      <th></th>\n",
       "      <th>review_stats</th>\n",
       "      <th>positive_percentage</th>\n",
       "      <th>total_reviews</th>\n",
       "    </tr>\n",
       "  </thead>\n",
       "  <tbody>\n",
       "    <tr>\n",
       "      <th>6</th>\n",
       "      <td>None</td>\n",
       "      <td>None</td>\n",
       "      <td>None</td>\n",
       "    </tr>\n",
       "    <tr>\n",
       "      <th>9</th>\n",
       "      <td>None</td>\n",
       "      <td>None</td>\n",
       "      <td>None</td>\n",
       "    </tr>\n",
       "    <tr>\n",
       "      <th>10</th>\n",
       "      <td>None</td>\n",
       "      <td>None</td>\n",
       "      <td>None</td>\n",
       "    </tr>\n",
       "    <tr>\n",
       "      <th>11</th>\n",
       "      <td>None</td>\n",
       "      <td>None</td>\n",
       "      <td>None</td>\n",
       "    </tr>\n",
       "    <tr>\n",
       "      <th>20</th>\n",
       "      <td>None</td>\n",
       "      <td>None</td>\n",
       "      <td>None</td>\n",
       "    </tr>\n",
       "    <tr>\n",
       "      <th>...</th>\n",
       "      <td>...</td>\n",
       "      <td>...</td>\n",
       "      <td>...</td>\n",
       "    </tr>\n",
       "    <tr>\n",
       "      <th>49790</th>\n",
       "      <td>None</td>\n",
       "      <td>None</td>\n",
       "      <td>None</td>\n",
       "    </tr>\n",
       "    <tr>\n",
       "      <th>49821</th>\n",
       "      <td>None</td>\n",
       "      <td>None</td>\n",
       "      <td>None</td>\n",
       "    </tr>\n",
       "    <tr>\n",
       "      <th>49865</th>\n",
       "      <td>None</td>\n",
       "      <td>None</td>\n",
       "      <td>None</td>\n",
       "    </tr>\n",
       "    <tr>\n",
       "      <th>49888</th>\n",
       "      <td>None</td>\n",
       "      <td>None</td>\n",
       "      <td>None</td>\n",
       "    </tr>\n",
       "    <tr>\n",
       "      <th>49937</th>\n",
       "      <td>None</td>\n",
       "      <td>None</td>\n",
       "      <td>None</td>\n",
       "    </tr>\n",
       "  </tbody>\n",
       "</table>\n",
       "<p>4168 rows × 3 columns</p>\n",
       "</div>"
      ],
      "text/plain": [
       "      review_stats positive_percentage total_reviews\n",
       "6             None                None          None\n",
       "9             None                None          None\n",
       "10            None                None          None\n",
       "11            None                None          None\n",
       "20            None                None          None\n",
       "...            ...                 ...           ...\n",
       "49790         None                None          None\n",
       "49821         None                None          None\n",
       "49865         None                None          None\n",
       "49888         None                None          None\n",
       "49937         None                None          None\n",
       "\n",
       "[4168 rows x 3 columns]"
      ]
     },
     "execution_count": 24,
     "metadata": {},
     "output_type": "execute_result"
    },
    {
     "name": "stdout",
     "output_type": "stream",
     "text": [
      "Shape(col,rows): (4168, 3)\n",
      "Number of duplicates: 4167\n",
      "------------------------------------------------------------\n",
      "Number of each unqiue datatypes:\n",
      "object    3\n",
      "dtype: int64\n",
      "------------------------------------------------------------\n",
      "Columns with missing values:\n",
      "                   col  num_nulls  perc_null\n",
      "0         review_stats       4168        1.0\n",
      "1  positive_percentage       4168        1.0\n",
      "2        total_reviews       4168        1.0\n"
     ]
    }
   ],
   "source": [
    "_ = _df.loc[_df['review_type'] == 'no user reviews',['review_stats','positive_percentage','total_reviews']]\n",
    "_ \n",
    "df_summary(_)"
   ]
  },
  {
   "cell_type": "markdown",
   "id": "26a40ff5-bc9e-48f5-a4d0-1552d868a430",
   "metadata": {},
   "source": [
    "**Finding #1:**\n",
    "\n",
    "> For data row with no user reviews (4168 of them), the review-related columns will contain NA"
   ]
  },
  {
   "cell_type": "markdown",
   "id": "74f2e413-7df3-4e19-8034-56bb6846057b",
   "metadata": {},
   "source": [
    "##### Games with 'review_stats' NOT missing"
   ]
  },
  {
   "cell_type": "code",
   "execution_count": 25,
   "id": "32893037-2a53-45a7-8168-dafbeb29b176",
   "metadata": {},
   "outputs": [
    {
     "data": {
      "text/html": [
       "<div>\n",
       "<style scoped>\n",
       "    .dataframe tbody tr th:only-of-type {\n",
       "        vertical-align: middle;\n",
       "    }\n",
       "\n",
       "    .dataframe tbody tr th {\n",
       "        vertical-align: top;\n",
       "    }\n",
       "\n",
       "    .dataframe thead th {\n",
       "        text-align: right;\n",
       "    }\n",
       "</style>\n",
       "<table border=\"1\" class=\"dataframe\">\n",
       "  <thead>\n",
       "    <tr style=\"text-align: right;\">\n",
       "      <th></th>\n",
       "      <th>review_stats</th>\n",
       "      <th>positive_percentage</th>\n",
       "      <th>total_reviews</th>\n",
       "    </tr>\n",
       "  </thead>\n",
       "  <tbody>\n",
       "    <tr>\n",
       "      <th>1</th>\n",
       "      <td>need more user reviews to generate a score</td>\n",
       "      <td>NaN</td>\n",
       "      <td>NaN</td>\n",
       "    </tr>\n",
       "    <tr>\n",
       "      <th>3</th>\n",
       "      <td>need more user reviews to generate a score</td>\n",
       "      <td>NaN</td>\n",
       "      <td>NaN</td>\n",
       "    </tr>\n",
       "    <tr>\n",
       "      <th>4</th>\n",
       "      <td>need more user reviews to generate a score</td>\n",
       "      <td>NaN</td>\n",
       "      <td>NaN</td>\n",
       "    </tr>\n",
       "    <tr>\n",
       "      <th>5</th>\n",
       "      <td>need more user reviews to generate a score</td>\n",
       "      <td>NaN</td>\n",
       "      <td>NaN</td>\n",
       "    </tr>\n",
       "    <tr>\n",
       "      <th>12</th>\n",
       "      <td>need more user reviews to generate a score</td>\n",
       "      <td>NaN</td>\n",
       "      <td>NaN</td>\n",
       "    </tr>\n",
       "    <tr>\n",
       "      <th>...</th>\n",
       "      <td>...</td>\n",
       "      <td>...</td>\n",
       "      <td>...</td>\n",
       "    </tr>\n",
       "    <tr>\n",
       "      <th>49980</th>\n",
       "      <td>need more user reviews to generate a score</td>\n",
       "      <td>NaN</td>\n",
       "      <td>NaN</td>\n",
       "    </tr>\n",
       "    <tr>\n",
       "      <th>49986</th>\n",
       "      <td>need more user reviews to generate a score</td>\n",
       "      <td>NaN</td>\n",
       "      <td>NaN</td>\n",
       "    </tr>\n",
       "    <tr>\n",
       "      <th>49990</th>\n",
       "      <td>need more user reviews to generate a score</td>\n",
       "      <td>NaN</td>\n",
       "      <td>NaN</td>\n",
       "    </tr>\n",
       "    <tr>\n",
       "      <th>49997</th>\n",
       "      <td>need more user reviews to generate a score</td>\n",
       "      <td>NaN</td>\n",
       "      <td>NaN</td>\n",
       "    </tr>\n",
       "    <tr>\n",
       "      <th>49999</th>\n",
       "      <td>need more user reviews to generate a score</td>\n",
       "      <td>NaN</td>\n",
       "      <td>NaN</td>\n",
       "    </tr>\n",
       "  </tbody>\n",
       "</table>\n",
       "<p>18577 rows × 3 columns</p>\n",
       "</div>"
      ],
      "text/plain": [
       "                                      review_stats positive_percentage  \\\n",
       "1       need more user reviews to generate a score                 NaN   \n",
       "3       need more user reviews to generate a score                 NaN   \n",
       "4       need more user reviews to generate a score                 NaN   \n",
       "5       need more user reviews to generate a score                 NaN   \n",
       "12      need more user reviews to generate a score                 NaN   \n",
       "...                                            ...                 ...   \n",
       "49980   need more user reviews to generate a score                 NaN   \n",
       "49986   need more user reviews to generate a score                 NaN   \n",
       "49990   need more user reviews to generate a score                 NaN   \n",
       "49997   need more user reviews to generate a score                 NaN   \n",
       "49999   need more user reviews to generate a score                 NaN   \n",
       "\n",
       "      total_reviews  \n",
       "1               NaN  \n",
       "3               NaN  \n",
       "4               NaN  \n",
       "5               NaN  \n",
       "12              NaN  \n",
       "...             ...  \n",
       "49980           NaN  \n",
       "49986           NaN  \n",
       "49990           NaN  \n",
       "49997           NaN  \n",
       "49999           NaN  \n",
       "\n",
       "[18577 rows x 3 columns]"
      ]
     },
     "execution_count": 25,
     "metadata": {},
     "output_type": "execute_result"
    }
   ],
   "source": [
    "_df = _df.loc[_df['review_stats'].notna(),['review_stats','positive_percentage','total_reviews']]\n",
    "_df"
   ]
  },
  {
   "cell_type": "code",
   "execution_count": 26,
   "id": "96dde951-02ea-4a59-8864-6cdc9fc83762",
   "metadata": {},
   "outputs": [
    {
     "data": {
      "text/html": [
       "<div>\n",
       "<style scoped>\n",
       "    .dataframe tbody tr th:only-of-type {\n",
       "        vertical-align: middle;\n",
       "    }\n",
       "\n",
       "    .dataframe tbody tr th {\n",
       "        vertical-align: top;\n",
       "    }\n",
       "\n",
       "    .dataframe thead th {\n",
       "        text-align: right;\n",
       "    }\n",
       "</style>\n",
       "<table border=\"1\" class=\"dataframe\">\n",
       "  <thead>\n",
       "    <tr style=\"text-align: right;\">\n",
       "      <th></th>\n",
       "      <th>review_stats</th>\n",
       "      <th>positive_percentage</th>\n",
       "      <th>total_reviews</th>\n",
       "    </tr>\n",
       "  </thead>\n",
       "  <tbody>\n",
       "    <tr>\n",
       "      <th>1</th>\n",
       "      <td>need more user reviews to generate a score</td>\n",
       "      <td>NaN</td>\n",
       "      <td>NaN</td>\n",
       "    </tr>\n",
       "    <tr>\n",
       "      <th>3</th>\n",
       "      <td>need more user reviews to generate a score</td>\n",
       "      <td>NaN</td>\n",
       "      <td>NaN</td>\n",
       "    </tr>\n",
       "    <tr>\n",
       "      <th>4</th>\n",
       "      <td>need more user reviews to generate a score</td>\n",
       "      <td>NaN</td>\n",
       "      <td>NaN</td>\n",
       "    </tr>\n",
       "    <tr>\n",
       "      <th>5</th>\n",
       "      <td>need more user reviews to generate a score</td>\n",
       "      <td>NaN</td>\n",
       "      <td>NaN</td>\n",
       "    </tr>\n",
       "    <tr>\n",
       "      <th>12</th>\n",
       "      <td>need more user reviews to generate a score</td>\n",
       "      <td>NaN</td>\n",
       "      <td>NaN</td>\n",
       "    </tr>\n",
       "    <tr>\n",
       "      <th>...</th>\n",
       "      <td>...</td>\n",
       "      <td>...</td>\n",
       "      <td>...</td>\n",
       "    </tr>\n",
       "    <tr>\n",
       "      <th>49980</th>\n",
       "      <td>need more user reviews to generate a score</td>\n",
       "      <td>NaN</td>\n",
       "      <td>NaN</td>\n",
       "    </tr>\n",
       "    <tr>\n",
       "      <th>49986</th>\n",
       "      <td>need more user reviews to generate a score</td>\n",
       "      <td>NaN</td>\n",
       "      <td>NaN</td>\n",
       "    </tr>\n",
       "    <tr>\n",
       "      <th>49990</th>\n",
       "      <td>need more user reviews to generate a score</td>\n",
       "      <td>NaN</td>\n",
       "      <td>NaN</td>\n",
       "    </tr>\n",
       "    <tr>\n",
       "      <th>49997</th>\n",
       "      <td>need more user reviews to generate a score</td>\n",
       "      <td>NaN</td>\n",
       "      <td>NaN</td>\n",
       "    </tr>\n",
       "    <tr>\n",
       "      <th>49999</th>\n",
       "      <td>need more user reviews to generate a score</td>\n",
       "      <td>NaN</td>\n",
       "      <td>NaN</td>\n",
       "    </tr>\n",
       "  </tbody>\n",
       "</table>\n",
       "<p>18145 rows × 3 columns</p>\n",
       "</div>"
      ],
      "text/plain": [
       "                                      review_stats positive_percentage  \\\n",
       "1       need more user reviews to generate a score                 NaN   \n",
       "3       need more user reviews to generate a score                 NaN   \n",
       "4       need more user reviews to generate a score                 NaN   \n",
       "5       need more user reviews to generate a score                 NaN   \n",
       "12      need more user reviews to generate a score                 NaN   \n",
       "...                                            ...                 ...   \n",
       "49980   need more user reviews to generate a score                 NaN   \n",
       "49986   need more user reviews to generate a score                 NaN   \n",
       "49990   need more user reviews to generate a score                 NaN   \n",
       "49997   need more user reviews to generate a score                 NaN   \n",
       "49999   need more user reviews to generate a score                 NaN   \n",
       "\n",
       "      total_reviews  \n",
       "1               NaN  \n",
       "3               NaN  \n",
       "4               NaN  \n",
       "5               NaN  \n",
       "12              NaN  \n",
       "...             ...  \n",
       "49980           NaN  \n",
       "49986           NaN  \n",
       "49990           NaN  \n",
       "49997           NaN  \n",
       "49999           NaN  \n",
       "\n",
       "[18145 rows x 3 columns]"
      ]
     },
     "execution_count": 26,
     "metadata": {},
     "output_type": "execute_result"
    },
    {
     "name": "stdout",
     "output_type": "stream",
     "text": [
      "Shape(col,rows): (18145, 3)\n",
      "Number of duplicates: 18144\n",
      "------------------------------------------------------------\n",
      "Number of each unqiue datatypes:\n",
      "object    3\n",
      "dtype: int64\n",
      "------------------------------------------------------------\n",
      "Columns with missing values:\n",
      "                   col  num_nulls  perc_null\n",
      "1  positive_percentage      18145        1.0\n",
      "2        total_reviews      18145        1.0\n"
     ]
    }
   ],
   "source": [
    "_ = _df.loc[_df['review_stats'].str.contains('need more user reviews to generate a score'),['review_stats','positive_percentage','total_reviews']]\n",
    "_ \n",
    "df_summary(_)"
   ]
  },
  {
   "cell_type": "markdown",
   "id": "e9c57dab-06be-4cab-9265-aebf41f4b599",
   "metadata": {},
   "source": [
    "**Finding #2:**\n",
    "\n",
    "> For data row with insufficient reviews to generate a 'review' score (18145 of them), the statistic-related review columns will contain NA"
   ]
  },
  {
   "cell_type": "markdown",
   "id": "28329082-fe21-4901-bf79-802946fa98d9",
   "metadata": {},
   "source": [
    "##### What about the games that do not contain \"need more user reviews to generate a score\"????"
   ]
  },
  {
   "cell_type": "code",
   "execution_count": 27,
   "id": "2653274e-cef3-49b4-a7aa-655d592e4ed2",
   "metadata": {},
   "outputs": [
    {
     "data": {
      "text/html": [
       "<div>\n",
       "<style scoped>\n",
       "    .dataframe tbody tr th:only-of-type {\n",
       "        vertical-align: middle;\n",
       "    }\n",
       "\n",
       "    .dataframe tbody tr th {\n",
       "        vertical-align: top;\n",
       "    }\n",
       "\n",
       "    .dataframe thead th {\n",
       "        text-align: right;\n",
       "    }\n",
       "</style>\n",
       "<table border=\"1\" class=\"dataframe\">\n",
       "  <thead>\n",
       "    <tr style=\"text-align: right;\">\n",
       "      <th></th>\n",
       "      <th>review_stats</th>\n",
       "      <th>positive_percentage</th>\n",
       "      <th>total_reviews</th>\n",
       "    </tr>\n",
       "  </thead>\n",
       "  <tbody>\n",
       "    <tr>\n",
       "      <th>193</th>\n",
       "      <td>60% of the 1,784 user reviews for this game a...</td>\n",
       "      <td>NaN</td>\n",
       "      <td>NaN</td>\n",
       "    </tr>\n",
       "    <tr>\n",
       "      <th>224</th>\n",
       "      <td>75% of the 1,569 user reviews for this game a...</td>\n",
       "      <td>NaN</td>\n",
       "      <td>NaN</td>\n",
       "    </tr>\n",
       "    <tr>\n",
       "      <th>291</th>\n",
       "      <td>74% of the 1,947 user reviews for this game a...</td>\n",
       "      <td>NaN</td>\n",
       "      <td>NaN</td>\n",
       "    </tr>\n",
       "    <tr>\n",
       "      <th>318</th>\n",
       "      <td>80% of the 1,984 user reviews for this game a...</td>\n",
       "      <td>NaN</td>\n",
       "      <td>NaN</td>\n",
       "    </tr>\n",
       "    <tr>\n",
       "      <th>386</th>\n",
       "      <td>47% of the 1,393 user reviews for this game a...</td>\n",
       "      <td>NaN</td>\n",
       "      <td>NaN</td>\n",
       "    </tr>\n",
       "    <tr>\n",
       "      <th>...</th>\n",
       "      <td>...</td>\n",
       "      <td>...</td>\n",
       "      <td>...</td>\n",
       "    </tr>\n",
       "    <tr>\n",
       "      <th>49812</th>\n",
       "      <td>90% of the 2,980 user reviews for this game a...</td>\n",
       "      <td>NaN</td>\n",
       "      <td>NaN</td>\n",
       "    </tr>\n",
       "    <tr>\n",
       "      <th>49843</th>\n",
       "      <td>73% of the 1,043 user reviews in the last 30 ...</td>\n",
       "      <td>NaN</td>\n",
       "      <td>NaN</td>\n",
       "    </tr>\n",
       "    <tr>\n",
       "      <th>49868</th>\n",
       "      <td>82% of the 1,469 user reviews in the last 30 ...</td>\n",
       "      <td>NaN</td>\n",
       "      <td>NaN</td>\n",
       "    </tr>\n",
       "    <tr>\n",
       "      <th>49915</th>\n",
       "      <td>95% of the 1,099 user reviews in the last 30 ...</td>\n",
       "      <td>NaN</td>\n",
       "      <td>NaN</td>\n",
       "    </tr>\n",
       "    <tr>\n",
       "      <th>49945</th>\n",
       "      <td>69% of the 1,109 user reviews for this game a...</td>\n",
       "      <td>NaN</td>\n",
       "      <td>NaN</td>\n",
       "    </tr>\n",
       "  </tbody>\n",
       "</table>\n",
       "<p>432 rows × 3 columns</p>\n",
       "</div>"
      ],
      "text/plain": [
       "                                            review_stats positive_percentage  \\\n",
       "193     60% of the 1,784 user reviews for this game a...                 NaN   \n",
       "224     75% of the 1,569 user reviews for this game a...                 NaN   \n",
       "291     74% of the 1,947 user reviews for this game a...                 NaN   \n",
       "318     80% of the 1,984 user reviews for this game a...                 NaN   \n",
       "386     47% of the 1,393 user reviews for this game a...                 NaN   \n",
       "...                                                  ...                 ...   \n",
       "49812   90% of the 2,980 user reviews for this game a...                 NaN   \n",
       "49843   73% of the 1,043 user reviews in the last 30 ...                 NaN   \n",
       "49868   82% of the 1,469 user reviews in the last 30 ...                 NaN   \n",
       "49915   95% of the 1,099 user reviews in the last 30 ...                 NaN   \n",
       "49945   69% of the 1,109 user reviews for this game a...                 NaN   \n",
       "\n",
       "      total_reviews  \n",
       "193             NaN  \n",
       "224             NaN  \n",
       "291             NaN  \n",
       "318             NaN  \n",
       "386             NaN  \n",
       "...             ...  \n",
       "49812           NaN  \n",
       "49843           NaN  \n",
       "49868           NaN  \n",
       "49915           NaN  \n",
       "49945           NaN  \n",
       "\n",
       "[432 rows x 3 columns]"
      ]
     },
     "execution_count": 27,
     "metadata": {},
     "output_type": "execute_result"
    }
   ],
   "source": [
    "#what about the rows that do not contain \"need more user reviews to generate a score\"????\n",
    "_df.loc[~(_df['review_stats'].str.contains('need more user reviews to generate a score')),['review_stats','positive_percentage','total_reviews']]"
   ]
  },
  {
   "cell_type": "markdown",
   "id": "303319a7-0684-4e7b-9aa2-ac59e844b218",
   "metadata": {},
   "source": [
    "**Finding #3**\n",
    "\n",
    "> Ah! there are 432 data rows that was not able to extract numerocical statistical values by the regex used!\n",
    "> Plan: \n",
    "> - Step 1. isoloate this 432 rows and apply necessary processing. \n",
    "> - Step 2: apply dropna() on df1 first\n",
    "> - Step 3: concat the df from step 1 and 2"
   ]
  },
  {
   "cell_type": "markdown",
   "id": "e01faa47-135d-4eb2-a03b-1fad94d9d516",
   "metadata": {},
   "source": [
    "##### Excuting above action plan to retain those 432 rows"
   ]
  },
  {
   "cell_type": "code",
   "execution_count": 28,
   "id": "fbf99a09-f3e2-4680-a33b-2c6eb5ab9481",
   "metadata": {},
   "outputs": [],
   "source": [
    "_list = _df.loc[~(_df['review_stats'].str.contains('need more user reviews to generate a score')),['review_stats','positive_percentage','total_reviews']].index.tolist()"
   ]
  },
  {
   "cell_type": "code",
   "execution_count": 29,
   "id": "4d1ccfce-6aa9-47e1-88d3-fdf881cb5589",
   "metadata": {},
   "outputs": [
    {
     "data": {
      "text/plain": [
       "432"
      ]
     },
     "execution_count": 29,
     "metadata": {},
     "output_type": "execute_result"
    }
   ],
   "source": [
    "#there is 432 data rows that was not able to extract numerocical statistical values by the regex used\n",
    "len(_list)"
   ]
  },
  {
   "cell_type": "code",
   "execution_count": 30,
   "id": "2d7fff68-c333-444e-8f1d-561bf35b79e3",
   "metadata": {},
   "outputs": [
    {
     "data": {
      "text/html": [
       "<div>\n",
       "<style scoped>\n",
       "    .dataframe tbody tr th:only-of-type {\n",
       "        vertical-align: middle;\n",
       "    }\n",
       "\n",
       "    .dataframe tbody tr th {\n",
       "        vertical-align: top;\n",
       "    }\n",
       "\n",
       "    .dataframe thead th {\n",
       "        text-align: right;\n",
       "    }\n",
       "</style>\n",
       "<table border=\"1\" class=\"dataframe\">\n",
       "  <thead>\n",
       "    <tr style=\"text-align: right;\">\n",
       "      <th></th>\n",
       "      <th>review_stats</th>\n",
       "      <th>positive_percentage</th>\n",
       "      <th>total_reviews</th>\n",
       "    </tr>\n",
       "  </thead>\n",
       "  <tbody>\n",
       "    <tr>\n",
       "      <th>193</th>\n",
       "      <td>60% of the 1,784 user reviews for this game a...</td>\n",
       "      <td>NaN</td>\n",
       "      <td>NaN</td>\n",
       "    </tr>\n",
       "    <tr>\n",
       "      <th>224</th>\n",
       "      <td>75% of the 1,569 user reviews for this game a...</td>\n",
       "      <td>NaN</td>\n",
       "      <td>NaN</td>\n",
       "    </tr>\n",
       "    <tr>\n",
       "      <th>291</th>\n",
       "      <td>74% of the 1,947 user reviews for this game a...</td>\n",
       "      <td>NaN</td>\n",
       "      <td>NaN</td>\n",
       "    </tr>\n",
       "    <tr>\n",
       "      <th>318</th>\n",
       "      <td>80% of the 1,984 user reviews for this game a...</td>\n",
       "      <td>NaN</td>\n",
       "      <td>NaN</td>\n",
       "    </tr>\n",
       "    <tr>\n",
       "      <th>386</th>\n",
       "      <td>47% of the 1,393 user reviews for this game a...</td>\n",
       "      <td>NaN</td>\n",
       "      <td>NaN</td>\n",
       "    </tr>\n",
       "    <tr>\n",
       "      <th>...</th>\n",
       "      <td>...</td>\n",
       "      <td>...</td>\n",
       "      <td>...</td>\n",
       "    </tr>\n",
       "    <tr>\n",
       "      <th>49812</th>\n",
       "      <td>90% of the 2,980 user reviews for this game a...</td>\n",
       "      <td>NaN</td>\n",
       "      <td>NaN</td>\n",
       "    </tr>\n",
       "    <tr>\n",
       "      <th>49843</th>\n",
       "      <td>73% of the 1,043 user reviews in the last 30 ...</td>\n",
       "      <td>NaN</td>\n",
       "      <td>NaN</td>\n",
       "    </tr>\n",
       "    <tr>\n",
       "      <th>49868</th>\n",
       "      <td>82% of the 1,469 user reviews in the last 30 ...</td>\n",
       "      <td>NaN</td>\n",
       "      <td>NaN</td>\n",
       "    </tr>\n",
       "    <tr>\n",
       "      <th>49915</th>\n",
       "      <td>95% of the 1,099 user reviews in the last 30 ...</td>\n",
       "      <td>NaN</td>\n",
       "      <td>NaN</td>\n",
       "    </tr>\n",
       "    <tr>\n",
       "      <th>49945</th>\n",
       "      <td>69% of the 1,109 user reviews for this game a...</td>\n",
       "      <td>NaN</td>\n",
       "      <td>NaN</td>\n",
       "    </tr>\n",
       "  </tbody>\n",
       "</table>\n",
       "<p>432 rows × 3 columns</p>\n",
       "</div>"
      ],
      "text/plain": [
       "                                            review_stats positive_percentage  \\\n",
       "193     60% of the 1,784 user reviews for this game a...                 NaN   \n",
       "224     75% of the 1,569 user reviews for this game a...                 NaN   \n",
       "291     74% of the 1,947 user reviews for this game a...                 NaN   \n",
       "318     80% of the 1,984 user reviews for this game a...                 NaN   \n",
       "386     47% of the 1,393 user reviews for this game a...                 NaN   \n",
       "...                                                  ...                 ...   \n",
       "49812   90% of the 2,980 user reviews for this game a...                 NaN   \n",
       "49843   73% of the 1,043 user reviews in the last 30 ...                 NaN   \n",
       "49868   82% of the 1,469 user reviews in the last 30 ...                 NaN   \n",
       "49915   95% of the 1,099 user reviews in the last 30 ...                 NaN   \n",
       "49945   69% of the 1,109 user reviews for this game a...                 NaN   \n",
       "\n",
       "      total_reviews  \n",
       "193             NaN  \n",
       "224             NaN  \n",
       "291             NaN  \n",
       "318             NaN  \n",
       "386             NaN  \n",
       "...             ...  \n",
       "49812           NaN  \n",
       "49843           NaN  \n",
       "49868           NaN  \n",
       "49915           NaN  \n",
       "49945           NaN  \n",
       "\n",
       "[432 rows x 3 columns]"
      ]
     },
     "execution_count": 30,
     "metadata": {},
     "output_type": "execute_result"
    }
   ],
   "source": [
    "df_432 = df1.loc[_list,:]\n",
    "df_432[['review_stats','positive_percentage','total_reviews']]"
   ]
  },
  {
   "cell_type": "code",
   "execution_count": 31,
   "id": "fb40d708-ab79-43cd-927b-9eb0aaf7add8",
   "metadata": {},
   "outputs": [],
   "source": [
    "df_432[['positive_percentage', 'total_reviews']] = df_432['review_stats'].str.extract(r'(\\d+)% of the (\\d+,\\d+) user reviews')\n",
    "\n",
    "df_432['positive_percentage'] = df_432['positive_percentage'].astype(int)\n",
    "\n",
    "df_432['total_reviews'] = df_432['total_reviews'].str.replace(',','').astype(int)\n"
   ]
  },
  {
   "cell_type": "code",
   "execution_count": 32,
   "id": "82e7ee5f-3785-4f26-ab22-5411bc3b729d",
   "metadata": {},
   "outputs": [
    {
     "data": {
      "text/html": [
       "<div>\n",
       "<style scoped>\n",
       "    .dataframe tbody tr th:only-of-type {\n",
       "        vertical-align: middle;\n",
       "    }\n",
       "\n",
       "    .dataframe tbody tr th {\n",
       "        vertical-align: top;\n",
       "    }\n",
       "\n",
       "    .dataframe thead th {\n",
       "        text-align: right;\n",
       "    }\n",
       "</style>\n",
       "<table border=\"1\" class=\"dataframe\">\n",
       "  <thead>\n",
       "    <tr style=\"text-align: right;\">\n",
       "      <th></th>\n",
       "      <th>title</th>\n",
       "      <th>r_date</th>\n",
       "      <th>price</th>\n",
       "      <th>description</th>\n",
       "      <th>review_type</th>\n",
       "      <th>review_stats</th>\n",
       "      <th>positive_percentage</th>\n",
       "      <th>total_reviews</th>\n",
       "      <th>tagged</th>\n",
       "      <th>game_id</th>\n",
       "    </tr>\n",
       "  </thead>\n",
       "  <tbody>\n",
       "    <tr>\n",
       "      <th>193</th>\n",
       "      <td>tom clancy’s the division® 2</td>\n",
       "      <td>2023-01-13</td>\n",
       "      <td>39.99</td>\n",
       "      <td>history will rememberin tom clancys the divisi...</td>\n",
       "      <td>mixed(1,784)</td>\n",
       "      <td>60% of the 1,784 user reviews for this game a...</td>\n",
       "      <td>60</td>\n",
       "      <td>1784</td>\n",
       "      <td>action, adventure, multiplayer, third-person s...</td>\n",
       "      <td>2221490</td>\n",
       "    </tr>\n",
       "    <tr>\n",
       "      <th>224</th>\n",
       "      <td>sailing era</td>\n",
       "      <td>2023-01-12</td>\n",
       "      <td>32.50</td>\n",
       "      <td>the story takes place during the era of great ...</td>\n",
       "      <td>mostly positive(1,569)</td>\n",
       "      <td>75% of the 1,569 user reviews for this game a...</td>\n",
       "      <td>75</td>\n",
       "      <td>1569</td>\n",
       "      <td>adventure, rpg, singleplayer, sailing, trading...</td>\n",
       "      <td>2161440</td>\n",
       "    </tr>\n",
       "    <tr>\n",
       "      <th>291</th>\n",
       "      <td>kartrider: drift</td>\n",
       "      <td>2023-01-10</td>\n",
       "      <td>0.00</td>\n",
       "      <td>welcome to the newest freetoplay title in the ...</td>\n",
       "      <td>mostly positive(1,947)</td>\n",
       "      <td>74% of the 1,947 user reviews for this game a...</td>\n",
       "      <td>74</td>\n",
       "      <td>1947</td>\n",
       "      <td>racing, free to play, multiplayer, casual, arc...</td>\n",
       "      <td>1184140</td>\n",
       "    </tr>\n",
       "    <tr>\n",
       "      <th>318</th>\n",
       "      <td>breakout 13</td>\n",
       "      <td>2023-01-09</td>\n",
       "      <td>12.99</td>\n",
       "      <td>like unattended weeds unguided teenagers grow...</td>\n",
       "      <td>very positive(1,984)</td>\n",
       "      <td>80% of the 1,984 user reviews for this game a...</td>\n",
       "      <td>80</td>\n",
       "      <td>1984</td>\n",
       "      <td>rpg, fmv, interactive fiction, adventure, lore...</td>\n",
       "      <td>2095300</td>\n",
       "    </tr>\n",
       "    <tr>\n",
       "      <th>386</th>\n",
       "      <td>garten of banban</td>\n",
       "      <td>2023-01-06</td>\n",
       "      <td>0.00</td>\n",
       "      <td>enter banbans kindergarten and youre sure to m...</td>\n",
       "      <td>mixed(1,393)</td>\n",
       "      <td>47% of the 1,393 user reviews for this game a...</td>\n",
       "      <td>47</td>\n",
       "      <td>1393</td>\n",
       "      <td>horror, singleplayer, first-person, cartoony, ...</td>\n",
       "      <td>2232840</td>\n",
       "    </tr>\n",
       "    <tr>\n",
       "      <th>...</th>\n",
       "      <td>...</td>\n",
       "      <td>...</td>\n",
       "      <td>...</td>\n",
       "      <td>...</td>\n",
       "      <td>...</td>\n",
       "      <td>...</td>\n",
       "      <td>...</td>\n",
       "      <td>...</td>\n",
       "      <td>...</td>\n",
       "      <td>...</td>\n",
       "    </tr>\n",
       "    <tr>\n",
       "      <th>49812</th>\n",
       "      <td>rime</td>\n",
       "      <td>2017-05-27</td>\n",
       "      <td>39.99</td>\n",
       "      <td>a land of discovery stretches out before you e...</td>\n",
       "      <td>very positive(2,980)</td>\n",
       "      <td>90% of the 2,980 user reviews for this game a...</td>\n",
       "      <td>90</td>\n",
       "      <td>2980</td>\n",
       "      <td>adventure, puzzle, exploration, atmospheric, g...</td>\n",
       "      <td>493200</td>\n",
       "    </tr>\n",
       "    <tr>\n",
       "      <th>49843</th>\n",
       "      <td>black desert</td>\n",
       "      <td>2017-05-25</td>\n",
       "      <td>12.99</td>\n",
       "      <td>go beyond limits  world class mmorpgblack dese...</td>\n",
       "      <td>mostly positive(1,043)</td>\n",
       "      <td>73% of the 1,043 user reviews in the last 30 ...</td>\n",
       "      <td>73</td>\n",
       "      <td>1043</td>\n",
       "      <td>mmorpg, massively multiplayer, rpg, open world...</td>\n",
       "      <td>582660</td>\n",
       "    </tr>\n",
       "    <tr>\n",
       "      <th>49868</th>\n",
       "      <td>the elder scrolls® online</td>\n",
       "      <td>2017-05-23</td>\n",
       "      <td>24.99</td>\n",
       "      <td>experience an everexpanding story across all o...</td>\n",
       "      <td>very positive(1,469)</td>\n",
       "      <td>82% of the 1,469 user reviews in the last 30 ...</td>\n",
       "      <td>82</td>\n",
       "      <td>1469</td>\n",
       "      <td>rpg, mmorpg, open world, adventure, fantasy, e...</td>\n",
       "      <td>306130</td>\n",
       "    </tr>\n",
       "    <tr>\n",
       "      <th>49915</th>\n",
       "      <td>ravenfield</td>\n",
       "      <td>2017-05-18</td>\n",
       "      <td>20.49</td>\n",
       "      <td>fight upon the ravenfield together with your b...</td>\n",
       "      <td>overwhelmingly positive(1,099)</td>\n",
       "      <td>95% of the 1,099 user reviews in the last 30 ...</td>\n",
       "      <td>95</td>\n",
       "      <td>1099</td>\n",
       "      <td>fps, war, singleplayer, shooter, action, milit...</td>\n",
       "      <td>636480</td>\n",
       "    </tr>\n",
       "    <tr>\n",
       "      <th>49945</th>\n",
       "      <td>bounty train</td>\n",
       "      <td>2017-05-17</td>\n",
       "      <td>12.99</td>\n",
       "      <td>be prepared to conquer the wild west on rails ...</td>\n",
       "      <td>mixed(1,109)</td>\n",
       "      <td>69% of the 1,109 user reviews for this game a...</td>\n",
       "      <td>69</td>\n",
       "      <td>1109</td>\n",
       "      <td>simulation, strategy, trains, management, buil...</td>\n",
       "      <td>371520</td>\n",
       "    </tr>\n",
       "  </tbody>\n",
       "</table>\n",
       "<p>432 rows × 10 columns</p>\n",
       "</div>"
      ],
      "text/plain": [
       "                              title     r_date  price  \\\n",
       "193    tom clancy’s the division® 2 2023-01-13  39.99   \n",
       "224                     sailing era 2023-01-12  32.50   \n",
       "291                kartrider: drift 2023-01-10   0.00   \n",
       "318                     breakout 13 2023-01-09  12.99   \n",
       "386                garten of banban 2023-01-06   0.00   \n",
       "...                             ...        ...    ...   \n",
       "49812                          rime 2017-05-27  39.99   \n",
       "49843                  black desert 2017-05-25  12.99   \n",
       "49868     the elder scrolls® online 2017-05-23  24.99   \n",
       "49915                    ravenfield 2017-05-18  20.49   \n",
       "49945                  bounty train 2017-05-17  12.99   \n",
       "\n",
       "                                             description  \\\n",
       "193    history will rememberin tom clancys the divisi...   \n",
       "224    the story takes place during the era of great ...   \n",
       "291    welcome to the newest freetoplay title in the ...   \n",
       "318     like unattended weeds unguided teenagers grow...   \n",
       "386    enter banbans kindergarten and youre sure to m...   \n",
       "...                                                  ...   \n",
       "49812  a land of discovery stretches out before you e...   \n",
       "49843  go beyond limits  world class mmorpgblack dese...   \n",
       "49868  experience an everexpanding story across all o...   \n",
       "49915  fight upon the ravenfield together with your b...   \n",
       "49945  be prepared to conquer the wild west on rails ...   \n",
       "\n",
       "                          review_type  \\\n",
       "193                      mixed(1,784)   \n",
       "224            mostly positive(1,569)   \n",
       "291            mostly positive(1,947)   \n",
       "318              very positive(1,984)   \n",
       "386                      mixed(1,393)   \n",
       "...                               ...   \n",
       "49812            very positive(2,980)   \n",
       "49843          mostly positive(1,043)   \n",
       "49868            very positive(1,469)   \n",
       "49915  overwhelmingly positive(1,099)   \n",
       "49945                    mixed(1,109)   \n",
       "\n",
       "                                            review_stats  positive_percentage  \\\n",
       "193     60% of the 1,784 user reviews for this game a...                   60   \n",
       "224     75% of the 1,569 user reviews for this game a...                   75   \n",
       "291     74% of the 1,947 user reviews for this game a...                   74   \n",
       "318     80% of the 1,984 user reviews for this game a...                   80   \n",
       "386     47% of the 1,393 user reviews for this game a...                   47   \n",
       "...                                                  ...                  ...   \n",
       "49812   90% of the 2,980 user reviews for this game a...                   90   \n",
       "49843   73% of the 1,043 user reviews in the last 30 ...                   73   \n",
       "49868   82% of the 1,469 user reviews in the last 30 ...                   82   \n",
       "49915   95% of the 1,099 user reviews in the last 30 ...                   95   \n",
       "49945   69% of the 1,109 user reviews for this game a...                   69   \n",
       "\n",
       "       total_reviews                                             tagged  \\\n",
       "193             1784  action, adventure, multiplayer, third-person s...   \n",
       "224             1569  adventure, rpg, singleplayer, sailing, trading...   \n",
       "291             1947  racing, free to play, multiplayer, casual, arc...   \n",
       "318             1984  rpg, fmv, interactive fiction, adventure, lore...   \n",
       "386             1393  horror, singleplayer, first-person, cartoony, ...   \n",
       "...              ...                                                ...   \n",
       "49812           2980  adventure, puzzle, exploration, atmospheric, g...   \n",
       "49843           1043  mmorpg, massively multiplayer, rpg, open world...   \n",
       "49868           1469  rpg, mmorpg, open world, adventure, fantasy, e...   \n",
       "49915           1099  fps, war, singleplayer, shooter, action, milit...   \n",
       "49945           1109  simulation, strategy, trains, management, buil...   \n",
       "\n",
       "       game_id  \n",
       "193    2221490  \n",
       "224    2161440  \n",
       "291    1184140  \n",
       "318    2095300  \n",
       "386    2232840  \n",
       "...        ...  \n",
       "49812   493200  \n",
       "49843   582660  \n",
       "49868   306130  \n",
       "49915   636480  \n",
       "49945   371520  \n",
       "\n",
       "[432 rows x 10 columns]"
      ]
     },
     "execution_count": 32,
     "metadata": {},
     "output_type": "execute_result"
    }
   ],
   "source": [
    "df_432"
   ]
  },
  {
   "cell_type": "code",
   "execution_count": 33,
   "id": "36543c14-d0d4-4b66-8ecb-0ff4472b2cd2",
   "metadata": {},
   "outputs": [
    {
     "name": "stdout",
     "output_type": "stream",
     "text": [
      "Shape(col,rows): (432, 10)\n",
      "Number of duplicates: 0\n",
      "------------------------------------------------------------\n",
      "Number of each unqiue datatypes:\n",
      "object            5\n",
      "int32             2\n",
      "datetime64[ns]    1\n",
      "float64           1\n",
      "int64             1\n",
      "dtype: int64\n",
      "------------------------------------------------------------\n",
      "Columns with missing values:\n",
      "Empty DataFrame\n",
      "Columns: [col, num_nulls, perc_null]\n",
      "Index: []\n"
     ]
    }
   ],
   "source": [
    "df_summary(df_432)"
   ]
  },
  {
   "cell_type": "code",
   "execution_count": 34,
   "id": "870e7e65-9d12-4980-bca1-3f6c46e8000c",
   "metadata": {},
   "outputs": [
    {
     "data": {
      "text/plain": [
       "(49656, 10)"
      ]
     },
     "execution_count": 34,
     "metadata": {},
     "output_type": "execute_result"
    },
    {
     "data": {
      "text/plain": [
       "(26911, 10)"
      ]
     },
     "execution_count": 34,
     "metadata": {},
     "output_type": "execute_result"
    }
   ],
   "source": [
    "# remove data rows without desired review information\n",
    "df1.shape\n",
    "df2 = df1.copy()\n",
    "df2.dropna(inplace=True)\n",
    "df2.shape\n"
   ]
  },
  {
   "cell_type": "code",
   "execution_count": 35,
   "id": "74bad195-612a-4a3b-abbe-e8b463bd566f",
   "metadata": {},
   "outputs": [],
   "source": [
    "df2['total_reviews']=df2['total_reviews'].astype(int)\n",
    "df2['positive_percentage'] = df2['positive_percentage'].str.replace('%','').astype(int)"
   ]
  },
  {
   "cell_type": "code",
   "execution_count": 36,
   "id": "41187784-b220-4adb-87f5-12a4dd797e6e",
   "metadata": {},
   "outputs": [
    {
     "data": {
      "text/plain": [
       "False"
      ]
     },
     "execution_count": 36,
     "metadata": {},
     "output_type": "execute_result"
    }
   ],
   "source": [
    "#demonstrating games in the two dataframes are exclusive of each other\n",
    "df_432.index.tolist() in df2.index.tolist()"
   ]
  },
  {
   "cell_type": "code",
   "execution_count": 37,
   "id": "f66967e0-3edb-46ef-ba3c-e424decd4309",
   "metadata": {},
   "outputs": [
    {
     "data": {
      "text/plain": [
       "array([ True,  True,  True,  True,  True,  True,  True,  True,  True,\n",
       "        True])"
      ]
     },
     "execution_count": 37,
     "metadata": {},
     "output_type": "execute_result"
    }
   ],
   "source": [
    "#demonstrating the two dataframes that we are about to concat have same columns\n",
    "df_432.columns == df2.columns"
   ]
  },
  {
   "cell_type": "code",
   "execution_count": 38,
   "id": "9c4965c6-e3dd-4520-b81a-4b2915db7cf3",
   "metadata": {},
   "outputs": [
    {
     "name": "stdout",
     "output_type": "stream",
     "text": [
      "Shape(col,rows): (27343, 10)\n",
      "Number of duplicates: 1\n",
      "------------------------------------------------------------\n",
      "Number of each unqiue datatypes:\n",
      "object            5\n",
      "int32             2\n",
      "datetime64[ns]    1\n",
      "float64           1\n",
      "int64             1\n",
      "dtype: int64\n",
      "------------------------------------------------------------\n",
      "Columns with missing values:\n",
      "Empty DataFrame\n",
      "Columns: [col, num_nulls, perc_null]\n",
      "Index: []\n"
     ]
    }
   ],
   "source": [
    "df2 = pd.concat([df2,df_432], axis=0)\n",
    "df_summary(df2)"
   ]
  },
  {
   "cell_type": "code",
   "execution_count": 39,
   "id": "44384da5-04ff-4c5c-a074-ebaaad678134",
   "metadata": {},
   "outputs": [
    {
     "data": {
      "text/html": [
       "<div>\n",
       "<style scoped>\n",
       "    .dataframe tbody tr th:only-of-type {\n",
       "        vertical-align: middle;\n",
       "    }\n",
       "\n",
       "    .dataframe tbody tr th {\n",
       "        vertical-align: top;\n",
       "    }\n",
       "\n",
       "    .dataframe thead th {\n",
       "        text-align: right;\n",
       "    }\n",
       "</style>\n",
       "<table border=\"1\" class=\"dataframe\">\n",
       "  <thead>\n",
       "    <tr style=\"text-align: right;\">\n",
       "      <th></th>\n",
       "      <th>title</th>\n",
       "      <th>r_date</th>\n",
       "      <th>price</th>\n",
       "      <th>description</th>\n",
       "      <th>review_type</th>\n",
       "      <th>review_stats</th>\n",
       "      <th>positive_percentage</th>\n",
       "      <th>total_reviews</th>\n",
       "      <th>tagged</th>\n",
       "      <th>game_id</th>\n",
       "    </tr>\n",
       "  </thead>\n",
       "  <tbody>\n",
       "    <tr>\n",
       "      <th>44399</th>\n",
       "      <td>legend of himari</td>\n",
       "      <td>2018-03-20</td>\n",
       "      <td>1.19</td>\n",
       "      <td>himari was ambushed help her hold out as long ...</td>\n",
       "      <td>very positive(291)</td>\n",
       "      <td>87% of the 291 user reviews for this game are...</td>\n",
       "      <td>87</td>\n",
       "      <td>291</td>\n",
       "      <td>indie, casual, anime, female protagonist, pixe...</td>\n",
       "      <td>634340</td>\n",
       "    </tr>\n",
       "    <tr>\n",
       "      <th>44400</th>\n",
       "      <td>legend of himari</td>\n",
       "      <td>2018-03-20</td>\n",
       "      <td>1.19</td>\n",
       "      <td>himari was ambushed help her hold out as long ...</td>\n",
       "      <td>very positive(291)</td>\n",
       "      <td>87% of the 291 user reviews for this game are...</td>\n",
       "      <td>87</td>\n",
       "      <td>291</td>\n",
       "      <td>indie, casual, anime, female protagonist, pixe...</td>\n",
       "      <td>634340</td>\n",
       "    </tr>\n",
       "  </tbody>\n",
       "</table>\n",
       "</div>"
      ],
      "text/plain": [
       "                  title     r_date  price  \\\n",
       "44399  legend of himari 2018-03-20   1.19   \n",
       "44400  legend of himari 2018-03-20   1.19   \n",
       "\n",
       "                                             description         review_type  \\\n",
       "44399  himari was ambushed help her hold out as long ...  very positive(291)   \n",
       "44400  himari was ambushed help her hold out as long ...  very positive(291)   \n",
       "\n",
       "                                            review_stats  positive_percentage  \\\n",
       "44399   87% of the 291 user reviews for this game are...                   87   \n",
       "44400   87% of the 291 user reviews for this game are...                   87   \n",
       "\n",
       "       total_reviews                                             tagged  \\\n",
       "44399            291  indie, casual, anime, female protagonist, pixe...   \n",
       "44400            291  indie, casual, anime, female protagonist, pixe...   \n",
       "\n",
       "       game_id  \n",
       "44399   634340  \n",
       "44400   634340  "
      ]
     },
     "execution_count": 39,
     "metadata": {},
     "output_type": "execute_result"
    }
   ],
   "source": [
    "#checking duplicates after concat the two dataframes\n",
    "df2[df2.duplicated(keep=False)]"
   ]
  },
  {
   "cell_type": "code",
   "execution_count": 40,
   "id": "ab8ba355-43ec-4d5c-8a51-684ff7214e81",
   "metadata": {},
   "outputs": [],
   "source": [
    "#since there is one duplicate row, we remove it\n",
    "df2.drop_duplicates(inplace=True)"
   ]
  },
  {
   "cell_type": "code",
   "execution_count": 41,
   "id": "ff3ff766-f2ff-474f-b0a2-6c9655c8725e",
   "metadata": {},
   "outputs": [
    {
     "data": {
      "text/html": [
       "<div>\n",
       "<style scoped>\n",
       "    .dataframe tbody tr th:only-of-type {\n",
       "        vertical-align: middle;\n",
       "    }\n",
       "\n",
       "    .dataframe tbody tr th {\n",
       "        vertical-align: top;\n",
       "    }\n",
       "\n",
       "    .dataframe thead th {\n",
       "        text-align: right;\n",
       "    }\n",
       "</style>\n",
       "<table border=\"1\" class=\"dataframe\">\n",
       "  <thead>\n",
       "    <tr style=\"text-align: right;\">\n",
       "      <th></th>\n",
       "      <th>title</th>\n",
       "      <th>r_date</th>\n",
       "      <th>price</th>\n",
       "      <th>description</th>\n",
       "      <th>review_type</th>\n",
       "      <th>review_stats</th>\n",
       "      <th>positive_percentage</th>\n",
       "      <th>total_reviews</th>\n",
       "      <th>tagged</th>\n",
       "      <th>game_id</th>\n",
       "    </tr>\n",
       "  </thead>\n",
       "  <tbody>\n",
       "    <tr>\n",
       "      <th>0</th>\n",
       "      <td>persona 3 portable</td>\n",
       "      <td>2023-01-18</td>\n",
       "      <td>27.99</td>\n",
       "      <td>experience the iconic critically acclaimed rpg...</td>\n",
       "      <td>mostly positive(771)</td>\n",
       "      <td>74% of the 771 user reviews for this game are...</td>\n",
       "      <td>74</td>\n",
       "      <td>771</td>\n",
       "      <td>rpg, story rich, anime, turn-based combat, jrp...</td>\n",
       "      <td>1809700</td>\n",
       "    </tr>\n",
       "    <tr>\n",
       "      <th>2</th>\n",
       "      <td>fraymakers</td>\n",
       "      <td>2023-01-18</td>\n",
       "      <td>22.79</td>\n",
       "      <td>what is fraymakersfraymakers is the ultimate c...</td>\n",
       "      <td>mixed(214)</td>\n",
       "      <td>68% of the 214 user reviews for this game are...</td>\n",
       "      <td>68</td>\n",
       "      <td>214</td>\n",
       "      <td>indie, fighting, 2d fighter, multiplayer, acti...</td>\n",
       "      <td>1420350</td>\n",
       "    </tr>\n",
       "    <tr>\n",
       "      <th>7</th>\n",
       "      <td>osiris: new dawn</td>\n",
       "      <td>2023-01-18</td>\n",
       "      <td>39.99</td>\n",
       "      <td>inspired by the edgier side of sci fi osiris n...</td>\n",
       "      <td>mostly negative(127)</td>\n",
       "      <td>31% of the 127 user reviews in the last 30 da...</td>\n",
       "      <td>31</td>\n",
       "      <td>127</td>\n",
       "      <td>open world survival craft, horror, survival, s...</td>\n",
       "      <td>402710</td>\n",
       "    </tr>\n",
       "    <tr>\n",
       "      <th>8</th>\n",
       "      <td>lake haven - chrysalis</td>\n",
       "      <td>2023-01-18</td>\n",
       "      <td>3.89</td>\n",
       "      <td>on october 7th at 9 pm the kansas police depar...</td>\n",
       "      <td>positive(27)</td>\n",
       "      <td>100% of the 27 user reviews for this game are...</td>\n",
       "      <td>100</td>\n",
       "      <td>27</td>\n",
       "      <td>third person, exploration, singleplayer, adven...</td>\n",
       "      <td>1696960</td>\n",
       "    </tr>\n",
       "    <tr>\n",
       "      <th>13</th>\n",
       "      <td>predictors</td>\n",
       "      <td>2023-01-18</td>\n",
       "      <td>3.89</td>\n",
       "      <td>turnbased roguelikego solo or invite up to thr...</td>\n",
       "      <td>positive(20)</td>\n",
       "      <td>95% of the 20 user reviews for this game are ...</td>\n",
       "      <td>95</td>\n",
       "      <td>20</td>\n",
       "      <td>roguelike, roguelite, turn-based, online co-op...</td>\n",
       "      <td>2149330</td>\n",
       "    </tr>\n",
       "  </tbody>\n",
       "</table>\n",
       "</div>"
      ],
      "text/plain": [
       "                     title     r_date  price  \\\n",
       "0       persona 3 portable 2023-01-18  27.99   \n",
       "2               fraymakers 2023-01-18  22.79   \n",
       "7         osiris: new dawn 2023-01-18  39.99   \n",
       "8   lake haven - chrysalis 2023-01-18   3.89   \n",
       "13              predictors 2023-01-18   3.89   \n",
       "\n",
       "                                          description           review_type  \\\n",
       "0   experience the iconic critically acclaimed rpg...  mostly positive(771)   \n",
       "2   what is fraymakersfraymakers is the ultimate c...            mixed(214)   \n",
       "7   inspired by the edgier side of sci fi osiris n...  mostly negative(127)   \n",
       "8   on october 7th at 9 pm the kansas police depar...          positive(27)   \n",
       "13  turnbased roguelikego solo or invite up to thr...          positive(20)   \n",
       "\n",
       "                                         review_stats  positive_percentage  \\\n",
       "0    74% of the 771 user reviews for this game are...                   74   \n",
       "2    68% of the 214 user reviews for this game are...                   68   \n",
       "7    31% of the 127 user reviews in the last 30 da...                   31   \n",
       "8    100% of the 27 user reviews for this game are...                  100   \n",
       "13   95% of the 20 user reviews for this game are ...                   95   \n",
       "\n",
       "    total_reviews                                             tagged  game_id  \n",
       "0             771  rpg, story rich, anime, turn-based combat, jrp...  1809700  \n",
       "2             214  indie, fighting, 2d fighter, multiplayer, acti...  1420350  \n",
       "7             127  open world survival craft, horror, survival, s...   402710  \n",
       "8              27  third person, exploration, singleplayer, adven...  1696960  \n",
       "13             20  roguelike, roguelite, turn-based, online co-op...  2149330  "
      ]
     },
     "execution_count": 41,
     "metadata": {},
     "output_type": "execute_result"
    },
    {
     "data": {
      "text/plain": [
       "title                          object\n",
       "r_date                 datetime64[ns]\n",
       "price                         float64\n",
       "description                    object\n",
       "review_type                    object\n",
       "review_stats                   object\n",
       "positive_percentage             int32\n",
       "total_reviews                   int32\n",
       "tagged                         object\n",
       "game_id                         int64\n",
       "dtype: object"
      ]
     },
     "execution_count": 41,
     "metadata": {},
     "output_type": "execute_result"
    }
   ],
   "source": [
    "df2.head()\n",
    "df2.dtypes"
   ]
  },
  {
   "cell_type": "code",
   "execution_count": 42,
   "id": "e4b41591-ce8c-4165-8ad7-b05646b224c2",
   "metadata": {},
   "outputs": [
    {
     "name": "stdout",
     "output_type": "stream",
     "text": [
      "Shape(col,rows): (27342, 10)\n",
      "Number of duplicates: 0\n",
      "------------------------------------------------------------\n",
      "Number of each unqiue datatypes:\n",
      "object            5\n",
      "int32             2\n",
      "datetime64[ns]    1\n",
      "float64           1\n",
      "int64             1\n",
      "dtype: int64\n",
      "------------------------------------------------------------\n",
      "Columns with missing values:\n",
      "Empty DataFrame\n",
      "Columns: [col, num_nulls, perc_null]\n",
      "Index: []\n"
     ]
    }
   ],
   "source": [
    "df_summary(df2)"
   ]
  },
  {
   "cell_type": "markdown",
   "id": "d9d156f8-4c7f-4339-8841-7a51735225f7",
   "metadata": {},
   "source": [
    "> Great! we have tidied and prepared our review-related columns\n",
    "### 1.8 Continue data cleaning: 'review_type' column"
   ]
  },
  {
   "cell_type": "code",
   "execution_count": 43,
   "id": "45a902c5-60de-4753-bc12-34247159ffaa",
   "metadata": {},
   "outputs": [
    {
     "data": {
      "text/plain": [
       "array(['mostly positive', 'mixed', 'mostly negative', 'positive',\n",
       "       'very positive', 'overwhelmingly negative',\n",
       "       'overwhelmingly positive', 'negative', 'very negative'],\n",
       "      dtype=object)"
      ]
     },
     "execution_count": 43,
     "metadata": {},
     "output_type": "execute_result"
    }
   ],
   "source": [
    "# clean the review type to remove the brackets and the numbers inside\n",
    "df2['review_type'] = df2['review_type'].str.extract(r'(.*)\\(').astype(str)\n",
    "df2['review_type'].unique()"
   ]
  },
  {
   "cell_type": "markdown",
   "id": "4a5bce02-ab2a-4507-8d7b-213f874d8473",
   "metadata": {},
   "source": [
    "# 2. EDA:"
   ]
  },
  {
   "cell_type": "markdown",
   "id": "05e35cd7-5b65-414c-b540-ade2fb1974be",
   "metadata": {},
   "source": [
    "## 2.1 Target variable: Reviews"
   ]
  },
  {
   "cell_type": "code",
   "execution_count": 44,
   "id": "1d5c08c4-e940-4a26-90e2-d1e38f3c8f64",
   "metadata": {},
   "outputs": [],
   "source": [
    "df = df2.copy()"
   ]
  },
  {
   "cell_type": "code",
   "execution_count": 45,
   "id": "49bc3a94-e787-4359-9551-d4a7237c7526",
   "metadata": {},
   "outputs": [
    {
     "data": {
      "text/plain": [
       "70"
      ]
     },
     "execution_count": 45,
     "metadata": {},
     "output_type": "execute_result"
    }
   ],
   "source": [
    "#how many percent of postive reviews a game has before it is labelled 'Positive' under 'review type':\n",
    "\n",
    "df[df['review_type'].str.contains('positive')]['positive_percentage'].min()"
   ]
  },
  {
   "cell_type": "code",
   "execution_count": 46,
   "id": "8fd649d5-786b-46a4-80e9-01f6d1c35988",
   "metadata": {},
   "outputs": [
    {
     "name": "stdout",
     "output_type": "stream",
     "text": [
      "Shape(col,rows): (27342, 10)\n",
      "Number of duplicates: 0\n",
      "------------------------------------------------------------\n",
      "Number of each unqiue datatypes:\n",
      "object            5\n",
      "int32             2\n",
      "datetime64[ns]    1\n",
      "float64           1\n",
      "int64             1\n",
      "dtype: int64\n",
      "------------------------------------------------------------\n",
      "Columns with missing values:\n",
      "Empty DataFrame\n",
      "Columns: [col, num_nulls, perc_null]\n",
      "Index: []\n"
     ]
    }
   ],
   "source": [
    "df_summary(df)"
   ]
  },
  {
   "cell_type": "code",
   "execution_count": 47,
   "id": "ab4e53d2-f686-4619-a2cc-83f8a4a1c544",
   "metadata": {},
   "outputs": [
    {
     "name": "stdout",
     "output_type": "stream",
     "text": [
      "Unique Review types: ['mostly positive' 'mixed' 'mostly negative' 'positive' 'very positive'\n",
      " 'overwhelmingly negative' 'overwhelmingly positive' 'negative'\n",
      " 'very negative']\n",
      "Unique Review types: 9\n"
     ]
    }
   ],
   "source": [
    "print(f\"Unique Review types: {df['review_type'].unique()}\")\n",
    "print(f\"Unique Review types: {df['review_type'].nunique()}\")\n"
   ]
  },
  {
   "cell_type": "code",
   "execution_count": 48,
   "id": "102b3820-65e2-49c5-b5ab-615f56c57695",
   "metadata": {},
   "outputs": [
    {
     "data": {
      "text/plain": [
       "10"
      ]
     },
     "execution_count": 48,
     "metadata": {},
     "output_type": "execute_result"
    }
   ],
   "source": [
    "#how many reviews needed for a game to be give a label as seen above \n",
    "# remember earlier games that \"need more user reviews to generate a score\" were dropped\n",
    "df['total_reviews'].min()"
   ]
  },
  {
   "cell_type": "markdown",
   "id": "49aa74d0-62da-4463-ae3e-c6541b4f14c5",
   "metadata": {},
   "source": [
    "### **Target Variable: 'Good Game' vs 'Poor Game'**\n",
    "\n",
    "Let's define a game as a Good Game if it is postively reviewed.\n",
    "Here we shall create a boolean column that whether a game is 'Good' game.\n",
    "\n",
    "Definition: A game is 'Good' if it has 70% or more postive reviews, and its review type contains the word positive. Otherwise, its 'Poor' game.\n"
   ]
  },
  {
   "cell_type": "code",
   "execution_count": 49,
   "id": "af1dda97-c122-4654-a8de-d84f6faab547",
   "metadata": {},
   "outputs": [
    {
     "data": {
      "text/plain": [
       "True     19723\n",
       "False     7619\n",
       "Name: Good_Game, dtype: int64"
      ]
     },
     "execution_count": 49,
     "metadata": {},
     "output_type": "execute_result"
    },
    {
     "data": {
      "text/plain": [
       "19723"
      ]
     },
     "execution_count": 49,
     "metadata": {},
     "output_type": "execute_result"
    }
   ],
   "source": [
    "df['Good_Game'] = df['positive_percentage']>=70\n",
    "df['Good_Game'].value_counts()\n",
    "len(df[df['review_type'].str.contains('positive')])"
   ]
  },
  {
   "cell_type": "code",
   "execution_count": 50,
   "id": "b85a0371-9c00-44ed-9189-d7ccd9b85089",
   "metadata": {},
   "outputs": [
    {
     "data": {
      "text/plain": [
       "True     0.721344\n",
       "False    0.278656\n",
       "Name: Good_Game, dtype: float64"
      ]
     },
     "execution_count": 50,
     "metadata": {},
     "output_type": "execute_result"
    }
   ],
   "source": [
    "df['Good_Game'].value_counts(normalize=True)\n"
   ]
  },
  {
   "cell_type": "markdown",
   "id": "cc38c357-4440-4931-bd3e-c48eb910a47c",
   "metadata": {},
   "source": [
    "**Comments**:\n",
    "\n",
    "In the dataset 72% of the games are 'Good'.\n",
    "- In other words, if the stakeholder randomly selects a game to invest, the chance of it being well received (has >70% positive reviews) will be 72%\n",
    "- **The aim of our model is to outperform this selection process, to give a PRECISION score >72%.**"
   ]
  },
  {
   "cell_type": "markdown",
   "id": "a321a92e-c4da-4f41-85e3-cbcb8b07e2fb",
   "metadata": {},
   "source": [
    "## 2.2 Main feature: Description\n",
    "\n",
    "It is possible various related games have same description. Let's explore."
   ]
  },
  {
   "cell_type": "code",
   "execution_count": 51,
   "id": "e016cf4e-0804-4529-be0d-0ca810c10456",
   "metadata": {},
   "outputs": [
    {
     "data": {
      "text/html": [
       "<div>\n",
       "<style scoped>\n",
       "    .dataframe tbody tr th:only-of-type {\n",
       "        vertical-align: middle;\n",
       "    }\n",
       "\n",
       "    .dataframe tbody tr th {\n",
       "        vertical-align: top;\n",
       "    }\n",
       "\n",
       "    .dataframe thead th {\n",
       "        text-align: right;\n",
       "    }\n",
       "</style>\n",
       "<table border=\"1\" class=\"dataframe\">\n",
       "  <thead>\n",
       "    <tr style=\"text-align: right;\">\n",
       "      <th></th>\n",
       "      <th>title</th>\n",
       "      <th>r_date</th>\n",
       "      <th>price</th>\n",
       "      <th>description</th>\n",
       "      <th>review_type</th>\n",
       "      <th>review_stats</th>\n",
       "      <th>positive_percentage</th>\n",
       "      <th>total_reviews</th>\n",
       "      <th>tagged</th>\n",
       "      <th>game_id</th>\n",
       "      <th>Good_Game</th>\n",
       "    </tr>\n",
       "  </thead>\n",
       "  <tbody>\n",
       "    <tr>\n",
       "      <th>2245</th>\n",
       "      <td>hidden harbor 2 top-down 3d</td>\n",
       "      <td>2022-11-15</td>\n",
       "      <td>129.99</td>\n",
       "      <td>find the objects that are hidden on the mapthe...</td>\n",
       "      <td>positive</td>\n",
       "      <td>83% of the 12 user reviews for this game are ...</td>\n",
       "      <td>83</td>\n",
       "      <td>12</td>\n",
       "      <td>action, adventure, casual, rpg, simulation, st...</td>\n",
       "      <td>2204970</td>\n",
       "      <td>True</td>\n",
       "    </tr>\n",
       "    <tr>\n",
       "      <th>2402</th>\n",
       "      <td>guarding goddess</td>\n",
       "      <td>2022-11-11</td>\n",
       "      <td>0.00</td>\n",
       "      <td>the demon army is invading and the goddess is ...</td>\n",
       "      <td>mostly positive</td>\n",
       "      <td>76% of the 21 user reviews in the last 30 day...</td>\n",
       "      <td>76</td>\n",
       "      <td>21</td>\n",
       "      <td>casual, action, rpg, idler, dark fantasy, mmor...</td>\n",
       "      <td>1909860</td>\n",
       "      <td>True</td>\n",
       "    </tr>\n",
       "    <tr>\n",
       "      <th>2975</th>\n",
       "      <td>hidden dungeon top-down 3d</td>\n",
       "      <td>2022-10-27</td>\n",
       "      <td>113.99</td>\n",
       "      <td>find the objects that are hidden on the mapthe...</td>\n",
       "      <td>mostly positive</td>\n",
       "      <td>76% of the 13 user reviews for this game are ...</td>\n",
       "      <td>76</td>\n",
       "      <td>13</td>\n",
       "      <td>action, adventure, casual, rpg, simulation, st...</td>\n",
       "      <td>2182850</td>\n",
       "      <td>True</td>\n",
       "    </tr>\n",
       "    <tr>\n",
       "      <th>3033</th>\n",
       "      <td>miss kawaii 2</td>\n",
       "      <td>2022-10-26</td>\n",
       "      <td>3.39</td>\n",
       "      <td>httpsstoresteampoweredcomapp2248580lovely_crus...</td>\n",
       "      <td>very positive</td>\n",
       "      <td>92% of the 55 user reviews for this game are ...</td>\n",
       "      <td>92</td>\n",
       "      <td>55</td>\n",
       "      <td>casual, puzzle, nudity, sexual content, cute, ...</td>\n",
       "      <td>2176270</td>\n",
       "      <td>True</td>\n",
       "    </tr>\n",
       "    <tr>\n",
       "      <th>4084</th>\n",
       "      <td>hidden office top-down 3d</td>\n",
       "      <td>2022-09-29</td>\n",
       "      <td>113.99</td>\n",
       "      <td>find the objects that are hidden on the mapthe...</td>\n",
       "      <td>mixed</td>\n",
       "      <td>68% of the 16 user reviews for this game are ...</td>\n",
       "      <td>68</td>\n",
       "      <td>16</td>\n",
       "      <td>action, adventure, casual, rpg, simulation, st...</td>\n",
       "      <td>2137250</td>\n",
       "      <td>False</td>\n",
       "    </tr>\n",
       "    <tr>\n",
       "      <th>...</th>\n",
       "      <td>...</td>\n",
       "      <td>...</td>\n",
       "      <td>...</td>\n",
       "      <td>...</td>\n",
       "      <td>...</td>\n",
       "      <td>...</td>\n",
       "      <td>...</td>\n",
       "      <td>...</td>\n",
       "      <td>...</td>\n",
       "      <td>...</td>\n",
       "      <td>...</td>\n",
       "    </tr>\n",
       "    <tr>\n",
       "      <th>49747</th>\n",
       "      <td>the last tree</td>\n",
       "      <td>2017-06-01</td>\n",
       "      <td>2.19</td>\n",
       "      <td></td>\n",
       "      <td>mixed</td>\n",
       "      <td>68% of the 22 user reviews for this game are ...</td>\n",
       "      <td>68</td>\n",
       "      <td>22</td>\n",
       "      <td>action, indie, adventure, singleplayer, puzzle...</td>\n",
       "      <td>605210</td>\n",
       "      <td>False</td>\n",
       "    </tr>\n",
       "    <tr>\n",
       "      <th>49844</th>\n",
       "      <td>quarantine</td>\n",
       "      <td>2017-05-24</td>\n",
       "      <td>10.99</td>\n",
       "      <td></td>\n",
       "      <td>mixed</td>\n",
       "      <td>60% of the 315 user reviews for this game are...</td>\n",
       "      <td>60</td>\n",
       "      <td>315</td>\n",
       "      <td>strategy, outbreak sim, simulation, survival, ...</td>\n",
       "      <td>489370</td>\n",
       "      <td>False</td>\n",
       "    </tr>\n",
       "    <tr>\n",
       "      <th>16996</th>\n",
       "      <td>naraka: bladepoint</td>\n",
       "      <td>2021-08-12</td>\n",
       "      <td>29.99</td>\n",
       "      <td></td>\n",
       "      <td>mostly positive</td>\n",
       "      <td>78% of the 116,128 user reviews for this game...</td>\n",
       "      <td>78</td>\n",
       "      <td>116128</td>\n",
       "      <td>battle royale, multiplayer, martial arts, pvp,...</td>\n",
       "      <td>1203220</td>\n",
       "      <td>True</td>\n",
       "    </tr>\n",
       "    <tr>\n",
       "      <th>32577</th>\n",
       "      <td>star wars jedi: fallen order deluxe edition</td>\n",
       "      <td>2019-11-15</td>\n",
       "      <td>64.99</td>\n",
       "      <td>a galaxyspanning adventure awaits in star wars...</td>\n",
       "      <td>very positive</td>\n",
       "      <td>87% of the 5,176 user reviews in the last 30 ...</td>\n",
       "      <td>87</td>\n",
       "      <td>5176</td>\n",
       "      <td>action-adventure, souls-like, third person, sw...</td>\n",
       "      <td>401587</td>\n",
       "      <td>True</td>\n",
       "    </tr>\n",
       "    <tr>\n",
       "      <th>44962</th>\n",
       "      <td>fog of war - free edition</td>\n",
       "      <td>2018-02-22</td>\n",
       "      <td>0.00</td>\n",
       "      <td>the action of the game fog of war takes place ...</td>\n",
       "      <td>mixed</td>\n",
       "      <td>51% of the 1,727 user reviews for this game a...</td>\n",
       "      <td>51</td>\n",
       "      <td>1727</td>\n",
       "      <td>free to play, world war ii, multiplayer, fps, ...</td>\n",
       "      <td>691020</td>\n",
       "      <td>False</td>\n",
       "    </tr>\n",
       "  </tbody>\n",
       "</table>\n",
       "<p>173 rows × 11 columns</p>\n",
       "</div>"
      ],
      "text/plain": [
       "                                             title     r_date   price  \\\n",
       "2245                   hidden harbor 2 top-down 3d 2022-11-15  129.99   \n",
       "2402                              guarding goddess 2022-11-11    0.00   \n",
       "2975                    hidden dungeon top-down 3d 2022-10-27  113.99   \n",
       "3033                                 miss kawaii 2 2022-10-26    3.39   \n",
       "4084                     hidden office top-down 3d 2022-09-29  113.99   \n",
       "...                                            ...        ...     ...   \n",
       "49747                                the last tree 2017-06-01    2.19   \n",
       "49844                                   quarantine 2017-05-24   10.99   \n",
       "16996                           naraka: bladepoint 2021-08-12   29.99   \n",
       "32577  star wars jedi: fallen order deluxe edition 2019-11-15   64.99   \n",
       "44962                    fog of war - free edition 2018-02-22    0.00   \n",
       "\n",
       "                                             description      review_type  \\\n",
       "2245   find the objects that are hidden on the mapthe...         positive   \n",
       "2402   the demon army is invading and the goddess is ...  mostly positive   \n",
       "2975   find the objects that are hidden on the mapthe...  mostly positive   \n",
       "3033   httpsstoresteampoweredcomapp2248580lovely_crus...    very positive   \n",
       "4084   find the objects that are hidden on the mapthe...            mixed   \n",
       "...                                                  ...              ...   \n",
       "49747                                                               mixed   \n",
       "49844                                                               mixed   \n",
       "16996                                                     mostly positive   \n",
       "32577  a galaxyspanning adventure awaits in star wars...    very positive   \n",
       "44962  the action of the game fog of war takes place ...            mixed   \n",
       "\n",
       "                                            review_stats  positive_percentage  \\\n",
       "2245    83% of the 12 user reviews for this game are ...                   83   \n",
       "2402    76% of the 21 user reviews in the last 30 day...                   76   \n",
       "2975    76% of the 13 user reviews for this game are ...                   76   \n",
       "3033    92% of the 55 user reviews for this game are ...                   92   \n",
       "4084    68% of the 16 user reviews for this game are ...                   68   \n",
       "...                                                  ...                  ...   \n",
       "49747   68% of the 22 user reviews for this game are ...                   68   \n",
       "49844   60% of the 315 user reviews for this game are...                   60   \n",
       "16996   78% of the 116,128 user reviews for this game...                   78   \n",
       "32577   87% of the 5,176 user reviews in the last 30 ...                   87   \n",
       "44962   51% of the 1,727 user reviews for this game a...                   51   \n",
       "\n",
       "       total_reviews                                             tagged  \\\n",
       "2245              12  action, adventure, casual, rpg, simulation, st...   \n",
       "2402              21  casual, action, rpg, idler, dark fantasy, mmor...   \n",
       "2975              13  action, adventure, casual, rpg, simulation, st...   \n",
       "3033              55  casual, puzzle, nudity, sexual content, cute, ...   \n",
       "4084              16  action, adventure, casual, rpg, simulation, st...   \n",
       "...              ...                                                ...   \n",
       "49747             22  action, indie, adventure, singleplayer, puzzle...   \n",
       "49844            315  strategy, outbreak sim, simulation, survival, ...   \n",
       "16996         116128  battle royale, multiplayer, martial arts, pvp,...   \n",
       "32577           5176  action-adventure, souls-like, third person, sw...   \n",
       "44962           1727  free to play, world war ii, multiplayer, fps, ...   \n",
       "\n",
       "       game_id  Good_Game  \n",
       "2245   2204970       True  \n",
       "2402   1909860       True  \n",
       "2975   2182850       True  \n",
       "3033   2176270       True  \n",
       "4084   2137250      False  \n",
       "...        ...        ...  \n",
       "49747   605210      False  \n",
       "49844   489370      False  \n",
       "16996  1203220       True  \n",
       "32577   401587       True  \n",
       "44962   691020      False  \n",
       "\n",
       "[173 rows x 11 columns]"
      ]
     },
     "execution_count": 51,
     "metadata": {},
     "output_type": "execute_result"
    },
    {
     "data": {
      "text/plain": [
       "(173, 11)"
      ]
     },
     "execution_count": 51,
     "metadata": {},
     "output_type": "execute_result"
    }
   ],
   "source": [
    "df[df['description'].duplicated()]\n",
    "df[df['description'].duplicated()].shape"
   ]
  },
  {
   "cell_type": "code",
   "execution_count": 52,
   "id": "87608e9a-a060-42f9-8687-be76ef5ea1f8",
   "metadata": {},
   "outputs": [
    {
     "data": {
      "text/plain": [
       "27169"
      ]
     },
     "execution_count": 52,
     "metadata": {},
     "output_type": "execute_result"
    }
   ],
   "source": [
    "_series = df['description'].value_counts()\n",
    "len(_series)"
   ]
  },
  {
   "cell_type": "code",
   "execution_count": 53,
   "id": "8c3c7a66-81de-479c-accb-37c0fa9bc10e",
   "metadata": {
    "tags": []
   },
   "outputs": [
    {
     "data": {
      "text/plain": [
       "(41, 2)"
      ]
     },
     "execution_count": 53,
     "metadata": {},
     "output_type": "execute_result"
    },
    {
     "data": {
      "text/html": [
       "<div>\n",
       "<style scoped>\n",
       "    .dataframe tbody tr th:only-of-type {\n",
       "        vertical-align: middle;\n",
       "    }\n",
       "\n",
       "    .dataframe tbody tr th {\n",
       "        vertical-align: top;\n",
       "    }\n",
       "\n",
       "    .dataframe thead th {\n",
       "        text-align: right;\n",
       "    }\n",
       "</style>\n",
       "<table border=\"1\" class=\"dataframe\">\n",
       "  <thead>\n",
       "    <tr style=\"text-align: right;\">\n",
       "      <th></th>\n",
       "      <th>text</th>\n",
       "      <th>description</th>\n",
       "    </tr>\n",
       "  </thead>\n",
       "  <tbody>\n",
       "    <tr>\n",
       "      <th>0</th>\n",
       "      <td>help the beautiful girls to immerse themselves...</td>\n",
       "      <td>50</td>\n",
       "    </tr>\n",
       "    <tr>\n",
       "      <th>1</th>\n",
       "      <td></td>\n",
       "      <td>33</td>\n",
       "    </tr>\n",
       "    <tr>\n",
       "      <th>2</th>\n",
       "      <td>help the beautiful girls to immerse themselves...</td>\n",
       "      <td>27</td>\n",
       "    </tr>\n",
       "    <tr>\n",
       "      <th>3</th>\n",
       "      <td>find the objects that are hidden on the mapthe...</td>\n",
       "      <td>15</td>\n",
       "    </tr>\n",
       "    <tr>\n",
       "      <th>4</th>\n",
       "      <td>in this game you will plunge into the memories...</td>\n",
       "      <td>7</td>\n",
       "    </tr>\n",
       "  </tbody>\n",
       "</table>\n",
       "</div>"
      ],
      "text/plain": [
       "                                                text  description\n",
       "0  help the beautiful girls to immerse themselves...           50\n",
       "1                                                              33\n",
       "2  help the beautiful girls to immerse themselves...           27\n",
       "3  find the objects that are hidden on the mapthe...           15\n",
       "4  in this game you will plunge into the memories...            7"
      ]
     },
     "execution_count": 53,
     "metadata": {},
     "output_type": "execute_result"
    }
   ],
   "source": [
    "_series = _series[_series>1]\n",
    "_series = _series.sort_values(ascending = False)\n",
    "_df = pd.DataFrame(_series)\n",
    "_df.reset_index(inplace=True)\n",
    "_df.rename(columns = {'index':'text'},inplace=True)\n",
    "\n",
    "_df.shape\n",
    "_df.head()"
   ]
  },
  {
   "cell_type": "code",
   "execution_count": 54,
   "id": "d6066480-529e-4028-a8c3-9e7fc4f37bbf",
   "metadata": {
    "tags": []
   },
   "outputs": [
    {
     "data": {
      "text/plain": [
       "''"
      ]
     },
     "execution_count": 54,
     "metadata": {},
     "output_type": "execute_result"
    }
   ],
   "source": [
    "_df.iloc[1,0]"
   ]
  },
  {
   "cell_type": "markdown",
   "id": "d35c1f1f-4db4-441b-abe6-c4993502c3ff",
   "metadata": {},
   "source": [
    "**Comment**\n",
    "It is found 32 rows of data with not description text (upon going into these games webpage, we realised that these games uses image as their game description) --> as such we drop these 32 rows\n",
    "\n",
    "> Understandably, some games are related and thus have same description text"
   ]
  },
  {
   "cell_type": "code",
   "execution_count": 55,
   "id": "72092024-2775-4a15-a401-35dc42e84059",
   "metadata": {
    "tags": []
   },
   "outputs": [],
   "source": [
    "df.drop(df2[df2['description'] == ''].index, inplace=True)"
   ]
  },
  {
   "cell_type": "code",
   "execution_count": 56,
   "id": "a2f4c718-61b3-4001-9d0a-db06ae5f9d18",
   "metadata": {},
   "outputs": [
    {
     "data": {
      "text/plain": [
       "(27309, 11)"
      ]
     },
     "execution_count": 56,
     "metadata": {},
     "output_type": "execute_result"
    }
   ],
   "source": [
    "df.shape"
   ]
  },
  {
   "cell_type": "markdown",
   "id": "79e7e6e3-d053-477a-b786-a3364fb93b87",
   "metadata": {},
   "source": [
    "## 2.3 Does other features influence the percentage of positive reviews?"
   ]
  },
  {
   "cell_type": "code",
   "execution_count": 57,
   "id": "be3bcfc4-46fb-48a1-9e15-c34c32fa5112",
   "metadata": {},
   "outputs": [],
   "source": [
    "df['r_year'] = df['r_date'].dt.year"
   ]
  },
  {
   "cell_type": "code",
   "execution_count": 58,
   "id": "f71612f6-efd5-4fb1-8bcf-d9856fed2b19",
   "metadata": {},
   "outputs": [
    {
     "data": {
      "text/plain": [
       "Index(['title', 'r_date', 'price', 'description', 'review_type',\n",
       "       'review_stats', 'positive_percentage', 'total_reviews', 'tagged',\n",
       "       'game_id', 'Good_Game', 'r_year'],\n",
       "      dtype='object')"
      ]
     },
     "execution_count": 58,
     "metadata": {},
     "output_type": "execute_result"
    }
   ],
   "source": [
    "df.columns"
   ]
  },
  {
   "cell_type": "code",
   "execution_count": 59,
   "id": "148b9f36-d24a-4204-b5ce-7f60a524da10",
   "metadata": {},
   "outputs": [],
   "source": [
    "_d = df.loc[:,['r_year','price','total_reviews','positive_percentage']]"
   ]
  },
  {
   "cell_type": "code",
   "execution_count": 60,
   "id": "c4507238-bc75-4f5d-abc5-8284fd20187c",
   "metadata": {},
   "outputs": [
    {
     "data": {
      "image/png": "[encoded data removed]",
      "text/plain": [
       "<Figure size 640x480 with 2 Axes>"
      ]
     },
     "metadata": {},
     "output_type": "display_data"
    }
   ],
   "source": [
    "sns.heatmap(_d.corr(numeric_only=True), cmap='coolwarm', annot=True);"
   ]
  },
  {
   "cell_type": "markdown",
   "id": "1c030c1f-234d-4c59-8665-ce13cf0a09c3",
   "metadata": {},
   "source": [
    "**Comment**:\n",
    "\n",
    "From this chart, it appeaers that year of game release, price and total reviews does not appear to strong correlation with the percentage of positive reviews."
   ]
  },
  {
   "cell_type": "markdown",
   "id": "85028753-5df0-4446-8e9f-b59c666a97e6",
   "metadata": {},
   "source": [
    "## 2.4 Distribution"
   ]
  },
  {
   "cell_type": "code",
   "execution_count": 61,
   "id": "c37c0fdc-f98e-48b6-9571-81adc2b45e26",
   "metadata": {},
   "outputs": [],
   "source": [
    "df['r_year'] = df['r_date'].dt.year"
   ]
  },
  {
   "cell_type": "code",
   "execution_count": 62,
   "id": "9612be77-8d2b-4e99-afae-3bdfa75e917e",
   "metadata": {},
   "outputs": [
    {
     "data": {
      "text/plain": [
       "title                          object\n",
       "r_date                 datetime64[ns]\n",
       "price                         float64\n",
       "description                    object\n",
       "review_type                    object\n",
       "review_stats                   object\n",
       "positive_percentage             int32\n",
       "total_reviews                   int32\n",
       "tagged                         object\n",
       "game_id                         int64\n",
       "Good_Game                        bool\n",
       "r_year                          int64\n",
       "dtype: object"
      ]
     },
     "execution_count": 62,
     "metadata": {},
     "output_type": "execute_result"
    }
   ],
   "source": [
    "df.dtypes"
   ]
  },
  {
   "cell_type": "code",
   "execution_count": 63,
   "id": "28211b49-9699-49bb-b0c8-e89aae5f0e46",
   "metadata": {},
   "outputs": [
    {
     "data": {
      "text/html": [
       "<div>\n",
       "<style scoped>\n",
       "    .dataframe tbody tr th:only-of-type {\n",
       "        vertical-align: middle;\n",
       "    }\n",
       "\n",
       "    .dataframe tbody tr th {\n",
       "        vertical-align: top;\n",
       "    }\n",
       "\n",
       "    .dataframe thead th {\n",
       "        text-align: right;\n",
       "    }\n",
       "</style>\n",
       "<table border=\"1\" class=\"dataframe\">\n",
       "  <thead>\n",
       "    <tr style=\"text-align: right;\">\n",
       "      <th></th>\n",
       "      <th>r_date</th>\n",
       "      <th>price</th>\n",
       "      <th>positive_percentage</th>\n",
       "      <th>total_reviews</th>\n",
       "      <th>game_id</th>\n",
       "      <th>r_year</th>\n",
       "    </tr>\n",
       "  </thead>\n",
       "  <tbody>\n",
       "    <tr>\n",
       "      <th>0</th>\n",
       "      <td>2023-01-18</td>\n",
       "      <td>27.99</td>\n",
       "      <td>74</td>\n",
       "      <td>771</td>\n",
       "      <td>1809700</td>\n",
       "      <td>2023</td>\n",
       "    </tr>\n",
       "    <tr>\n",
       "      <th>2</th>\n",
       "      <td>2023-01-18</td>\n",
       "      <td>22.79</td>\n",
       "      <td>68</td>\n",
       "      <td>214</td>\n",
       "      <td>1420350</td>\n",
       "      <td>2023</td>\n",
       "    </tr>\n",
       "    <tr>\n",
       "      <th>7</th>\n",
       "      <td>2023-01-18</td>\n",
       "      <td>39.99</td>\n",
       "      <td>31</td>\n",
       "      <td>127</td>\n",
       "      <td>402710</td>\n",
       "      <td>2023</td>\n",
       "    </tr>\n",
       "    <tr>\n",
       "      <th>8</th>\n",
       "      <td>2023-01-18</td>\n",
       "      <td>3.89</td>\n",
       "      <td>100</td>\n",
       "      <td>27</td>\n",
       "      <td>1696960</td>\n",
       "      <td>2023</td>\n",
       "    </tr>\n",
       "    <tr>\n",
       "      <th>13</th>\n",
       "      <td>2023-01-18</td>\n",
       "      <td>3.89</td>\n",
       "      <td>95</td>\n",
       "      <td>20</td>\n",
       "      <td>2149330</td>\n",
       "      <td>2023</td>\n",
       "    </tr>\n",
       "    <tr>\n",
       "      <th>...</th>\n",
       "      <td>...</td>\n",
       "      <td>...</td>\n",
       "      <td>...</td>\n",
       "      <td>...</td>\n",
       "      <td>...</td>\n",
       "      <td>...</td>\n",
       "    </tr>\n",
       "    <tr>\n",
       "      <th>49812</th>\n",
       "      <td>2017-05-27</td>\n",
       "      <td>39.99</td>\n",
       "      <td>90</td>\n",
       "      <td>2980</td>\n",
       "      <td>493200</td>\n",
       "      <td>2017</td>\n",
       "    </tr>\n",
       "    <tr>\n",
       "      <th>49843</th>\n",
       "      <td>2017-05-25</td>\n",
       "      <td>12.99</td>\n",
       "      <td>73</td>\n",
       "      <td>1043</td>\n",
       "      <td>582660</td>\n",
       "      <td>2017</td>\n",
       "    </tr>\n",
       "    <tr>\n",
       "      <th>49868</th>\n",
       "      <td>2017-05-23</td>\n",
       "      <td>24.99</td>\n",
       "      <td>82</td>\n",
       "      <td>1469</td>\n",
       "      <td>306130</td>\n",
       "      <td>2017</td>\n",
       "    </tr>\n",
       "    <tr>\n",
       "      <th>49915</th>\n",
       "      <td>2017-05-18</td>\n",
       "      <td>20.49</td>\n",
       "      <td>95</td>\n",
       "      <td>1099</td>\n",
       "      <td>636480</td>\n",
       "      <td>2017</td>\n",
       "    </tr>\n",
       "    <tr>\n",
       "      <th>49945</th>\n",
       "      <td>2017-05-17</td>\n",
       "      <td>12.99</td>\n",
       "      <td>69</td>\n",
       "      <td>1109</td>\n",
       "      <td>371520</td>\n",
       "      <td>2017</td>\n",
       "    </tr>\n",
       "  </tbody>\n",
       "</table>\n",
       "<p>27309 rows × 6 columns</p>\n",
       "</div>"
      ],
      "text/plain": [
       "          r_date  price  positive_percentage  total_reviews  game_id  r_year\n",
       "0     2023-01-18  27.99                   74            771  1809700    2023\n",
       "2     2023-01-18  22.79                   68            214  1420350    2023\n",
       "7     2023-01-18  39.99                   31            127   402710    2023\n",
       "8     2023-01-18   3.89                  100             27  1696960    2023\n",
       "13    2023-01-18   3.89                   95             20  2149330    2023\n",
       "...          ...    ...                  ...            ...      ...     ...\n",
       "49812 2017-05-27  39.99                   90           2980   493200    2017\n",
       "49843 2017-05-25  12.99                   73           1043   582660    2017\n",
       "49868 2017-05-23  24.99                   82           1469   306130    2017\n",
       "49915 2017-05-18  20.49                   95           1099   636480    2017\n",
       "49945 2017-05-17  12.99                   69           1109   371520    2017\n",
       "\n",
       "[27309 rows x 6 columns]"
      ]
     },
     "execution_count": 63,
     "metadata": {},
     "output_type": "execute_result"
    }
   ],
   "source": [
    "df.select_dtypes(exclude=['object','bool'])"
   ]
  },
  {
   "cell_type": "code",
   "execution_count": 64,
   "id": "2cea02ce-0364-4ae8-80a8-94e3834650e0",
   "metadata": {},
   "outputs": [
    {
     "data": {
      "text/plain": [
       "Index(['title', 'r_date', 'price', 'description', 'review_type',\n",
       "       'review_stats', 'positive_percentage', 'total_reviews', 'tagged',\n",
       "       'game_id', 'Good_Game', 'r_year'],\n",
       "      dtype='object')"
      ]
     },
     "execution_count": 64,
     "metadata": {},
     "output_type": "execute_result"
    }
   ],
   "source": [
    "df.columns"
   ]
  },
  {
   "cell_type": "code",
   "execution_count": 65,
   "id": "8cc9ae45-8c9d-4b45-97f4-1d13a2a4785f",
   "metadata": {},
   "outputs": [
    {
     "data": {
      "text/html": [
       "<div>\n",
       "<style scoped>\n",
       "    .dataframe tbody tr th:only-of-type {\n",
       "        vertical-align: middle;\n",
       "    }\n",
       "\n",
       "    .dataframe tbody tr th {\n",
       "        vertical-align: top;\n",
       "    }\n",
       "\n",
       "    .dataframe thead th {\n",
       "        text-align: right;\n",
       "    }\n",
       "</style>\n",
       "<table border=\"1\" class=\"dataframe\">\n",
       "  <thead>\n",
       "    <tr style=\"text-align: right;\">\n",
       "      <th></th>\n",
       "      <th>year</th>\n",
       "      <th>count</th>\n",
       "    </tr>\n",
       "  </thead>\n",
       "  <tbody>\n",
       "    <tr>\n",
       "      <th>0</th>\n",
       "      <td>2009</td>\n",
       "      <td>1</td>\n",
       "    </tr>\n",
       "    <tr>\n",
       "      <th>1</th>\n",
       "      <td>2012</td>\n",
       "      <td>1</td>\n",
       "    </tr>\n",
       "    <tr>\n",
       "      <th>2</th>\n",
       "      <td>2015</td>\n",
       "      <td>1</td>\n",
       "    </tr>\n",
       "    <tr>\n",
       "      <th>3</th>\n",
       "      <td>2016</td>\n",
       "      <td>1</td>\n",
       "    </tr>\n",
       "    <tr>\n",
       "      <th>4</th>\n",
       "      <td>2017</td>\n",
       "      <td>2648</td>\n",
       "    </tr>\n",
       "    <tr>\n",
       "      <th>5</th>\n",
       "      <td>2018</td>\n",
       "      <td>4359</td>\n",
       "    </tr>\n",
       "    <tr>\n",
       "      <th>6</th>\n",
       "      <td>2019</td>\n",
       "      <td>3909</td>\n",
       "    </tr>\n",
       "    <tr>\n",
       "      <th>7</th>\n",
       "      <td>2020</td>\n",
       "      <td>4891</td>\n",
       "    </tr>\n",
       "    <tr>\n",
       "      <th>8</th>\n",
       "      <td>2021</td>\n",
       "      <td>5577</td>\n",
       "    </tr>\n",
       "    <tr>\n",
       "      <th>9</th>\n",
       "      <td>2022</td>\n",
       "      <td>5735</td>\n",
       "    </tr>\n",
       "    <tr>\n",
       "      <th>10</th>\n",
       "      <td>2023</td>\n",
       "      <td>186</td>\n",
       "    </tr>\n",
       "  </tbody>\n",
       "</table>\n",
       "</div>"
      ],
      "text/plain": [
       "    year  count\n",
       "0   2009      1\n",
       "1   2012      1\n",
       "2   2015      1\n",
       "3   2016      1\n",
       "4   2017   2648\n",
       "5   2018   4359\n",
       "6   2019   3909\n",
       "7   2020   4891\n",
       "8   2021   5577\n",
       "9   2022   5735\n",
       "10  2023    186"
      ]
     },
     "execution_count": 65,
     "metadata": {},
     "output_type": "execute_result"
    }
   ],
   "source": [
    "_df = pd.DataFrame(df['r_year'].value_counts(sort=False).sort_index())\n",
    "_df.reset_index(inplace=True)\n",
    "_df.rename(columns={'index':'year',\n",
    "                   'r_year':'count'},inplace=True)\n",
    "_df"
   ]
  },
  {
   "cell_type": "code",
   "execution_count": 66,
   "id": "0916dba5-f59c-42aa-965e-502f67d52672",
   "metadata": {},
   "outputs": [
    {
     "data": {
      "image/png": "[encoded data removed]",
      "text/plain": [
       "<Figure size 640x480 with 1 Axes>"
      ]
     },
     "metadata": {},
     "output_type": "display_data"
    }
   ],
   "source": [
    "_tick = _df['year'].unique()\n",
    "plt.bar(x = 'year',\n",
    "        height = 'count',\n",
    "        data = _df,\n",
    "        width = 0.5 )\n",
    "plt.xticks(ticks = _tick, rotation = 45)\n",
    "plt.title('Number of games released per year', fontdict={'fontsize': 15});\n",
    "plt.ylabel('Count');\n",
    "plt.xlabel('Year');\n"
   ]
  },
  {
   "cell_type": "markdown",
   "id": "4b25e008-589b-4689-bbc1-37967d001097",
   "metadata": {},
   "source": [
    "**Comments**\n",
    "\n",
    "> Most games in our data set are from the period 2317-2022"
   ]
  },
  {
   "cell_type": "code",
   "execution_count": 67,
   "id": "015c62f7-49bd-46c5-8a51-fd5fc2efca5d",
   "metadata": {},
   "outputs": [
    {
     "data": {
      "image/png": "[encoded data removed]",
      "text/plain": [
       "<Figure size 1000x500 with 1 Axes>"
      ]
     },
     "metadata": {},
     "output_type": "display_data"
    }
   ],
   "source": [
    "plt.figure(figsize=(10,5))\n",
    "sns.histplot(data = df, x='positive_percentage',bins=50)\n",
    "plt.title('Percentage Positive Reviews of each game', fontdict={'fontsize': 15});\n"
   ]
  },
  {
   "cell_type": "markdown",
   "id": "02635ab2-9afc-403d-9d9c-81cb8c92cb5d",
   "metadata": {},
   "source": [
    "**Comments**\n",
    "\n",
    "> Most games in our data set have more than 70% positive reviews"
   ]
  },
  {
   "cell_type": "code",
   "execution_count": 68,
   "id": "13d683da-ff44-48de-bac6-2aa2b4b525c8",
   "metadata": {},
   "outputs": [
    {
     "data": {
      "text/plain": [
       "19695"
      ]
     },
     "execution_count": 68,
     "metadata": {},
     "output_type": "execute_result"
    }
   ],
   "source": [
    "len(df[df['positive_percentage']>=70])"
   ]
  },
  {
   "cell_type": "code",
   "execution_count": 69,
   "id": "c08d761b-e508-4dab-8a7a-faf6839ad0a8",
   "metadata": {},
   "outputs": [
    {
     "data": {
      "text/plain": [
       "19695"
      ]
     },
     "execution_count": 69,
     "metadata": {},
     "output_type": "execute_result"
    }
   ],
   "source": [
    "len(df[df['review_type'].str.contains('positive')])"
   ]
  },
  {
   "cell_type": "markdown",
   "id": "0effdcc3-2dac-44f3-b9ad-85396fb83855",
   "metadata": {},
   "source": [
    "**Comments**\n",
    "\n",
    "> Games with at least 70% positive reviewed are described 'positive' under its review type"
   ]
  },
  {
   "cell_type": "code",
   "execution_count": 70,
   "id": "33837661-3143-4723-acf7-aac24ec2d326",
   "metadata": {},
   "outputs": [
    {
     "data": {
      "text/plain": [
       "count    27309.000000\n",
       "mean       131.580724\n",
       "std        956.841080\n",
       "min         10.000000\n",
       "25%         17.000000\n",
       "50%         33.000000\n",
       "75%         89.000000\n",
       "max      79218.000000\n",
       "Name: total_reviews, dtype: float64"
      ]
     },
     "execution_count": 70,
     "metadata": {},
     "output_type": "execute_result"
    }
   ],
   "source": [
    "df['total_reviews'].describe()"
   ]
  },
  {
   "cell_type": "code",
   "execution_count": 71,
   "id": "255497ab-bf1d-4bd5-af35-b3035bcb8cfa",
   "metadata": {},
   "outputs": [
    {
     "data": {
      "image/png": "[encoded data removed]",
      "text/plain": [
       "<Figure size 1000x500 with 1 Axes>"
      ]
     },
     "metadata": {},
     "output_type": "display_data"
    }
   ],
   "source": [
    "#showing distribution of total reviews of each game for games with equal or less than 100 reviews\n",
    "plt.figure(figsize=(10,5))\n",
    "sns.histplot(data = df[df['total_reviews']<=100], x='total_reviews')\n",
    "plt.title('Total Reviews of each game\\n(Games with 100 reviews or less )', fontdict={'fontsize': 15});\n"
   ]
  },
  {
   "cell_type": "code",
   "execution_count": 137,
   "id": "cb253c14-653f-44ce-bcc5-04db608e0e6a",
   "metadata": {},
   "outputs": [
    {
     "data": {
      "text/plain": [
       "count    27309.000000\n",
       "mean        10.712865\n",
       "std         13.128284\n",
       "min          0.000000\n",
       "25%          1.190000\n",
       "50%          5.950000\n",
       "75%         16.490000\n",
       "max        259.990000\n",
       "Name: price, dtype: float64"
      ]
     },
     "execution_count": 137,
     "metadata": {},
     "output_type": "execute_result"
    }
   ],
   "source": [
    "df['price'].describe()"
   ]
  },
  {
   "cell_type": "code",
   "execution_count": 136,
   "id": "a00e72cd-61f5-49d9-a821-56257c0bfd1b",
   "metadata": {},
   "outputs": [
    {
     "data": {
      "image/png": "[encoded data removed]",
      "text/plain": [
       "<Figure size 1000x500 with 1 Axes>"
      ]
     },
     "metadata": {},
     "output_type": "display_data"
    }
   ],
   "source": [
    "plt.figure(figsize=(10,5))\n",
    "sns.histplot(data = df, x='price', bins=50)\n",
    "plt.title('Price', fontdict={'fontsize': 15});\n"
   ]
  },
  {
   "cell_type": "code",
   "execution_count": 139,
   "id": "4b0700d0-e8e7-4376-99e4-77415d70d718",
   "metadata": {},
   "outputs": [
    {
     "data": {
      "image/png": "[encoded data removed]",
      "text/plain": [
       "<Figure size 1000x500 with 1 Axes>"
      ]
     },
     "metadata": {},
     "output_type": "display_data"
    }
   ],
   "source": [
    "# showing games that priced less than or equal to 16.5\n",
    "plt.figure(figsize=(10,5))\n",
    "sns.histplot(data = df[df['price']<=16.5], x='price')\n",
    "plt.title('Price', fontdict={'fontsize': 15});\n"
   ]
  },
  {
   "cell_type": "markdown",
   "id": "95c9d5be-97f9-4f6b-9cc8-6f191656d5ca",
   "metadata": {},
   "source": [
    "## 2.5 Outliers"
   ]
  },
  {
   "cell_type": "code",
   "execution_count": 140,
   "id": "b2d3ffaf-1388-4146-80c8-c24883165b1a",
   "metadata": {},
   "outputs": [],
   "source": [
    "#return dataframe showing outliers only, if value is not outlier will show as Nan\n",
    "def find_outliers_IQR(df):\n",
    "    q1=df.quantile(0.25)\n",
    "    q3=df.quantile(0.75)\n",
    "    IQR=q3-q1\n",
    "    outliers = df[((df<(q1-1.5*IQR)) | (df>(q3+1.5*IQR)))]\n",
    "    return outliers"
   ]
  },
  {
   "cell_type": "code",
   "execution_count": 141,
   "id": "a7fc6b0e-e254-4489-9337-3350105e0e82",
   "metadata": {},
   "outputs": [
    {
     "data": {
      "text/plain": [
       "positive_percentage     570\n",
       "price                  1035\n",
       "total_reviews          3364\n",
       "dtype: int64"
      ]
     },
     "execution_count": 141,
     "metadata": {},
     "output_type": "execute_result"
    }
   ],
   "source": [
    "_df = df.loc[:,['price','total_reviews','positive_percentage']]\n",
    "find_outliers_IQR(_df).count().sort_values()"
   ]
  },
  {
   "cell_type": "markdown",
   "id": "5abbd047-7325-465f-b467-41b9395804b3",
   "metadata": {},
   "source": [
    "**Comments**\n",
    "\n",
    "> Subsequent models will focus on the description column only with the 'positive_percentage' used for target variable.\n",
    "> Decision to not drop the outlier as naturally outliers do occur in the real business settings."
   ]
  },
  {
   "cell_type": "markdown",
   "id": "fecb6862-b0f8-4ade-8c5f-fff38b60aa46",
   "metadata": {},
   "source": [
    "## 2.6 Summary statistics"
   ]
  },
  {
   "cell_type": "code",
   "execution_count": 142,
   "id": "05a8f7bf-99e1-4d1a-a140-814af56758c8",
   "metadata": {},
   "outputs": [
    {
     "data": {
      "text/html": [
       "<div>\n",
       "<style scoped>\n",
       "    .dataframe tbody tr th:only-of-type {\n",
       "        vertical-align: middle;\n",
       "    }\n",
       "\n",
       "    .dataframe tbody tr th {\n",
       "        vertical-align: top;\n",
       "    }\n",
       "\n",
       "    .dataframe thead th {\n",
       "        text-align: right;\n",
       "    }\n",
       "</style>\n",
       "<table border=\"1\" class=\"dataframe\">\n",
       "  <thead>\n",
       "    <tr style=\"text-align: right;\">\n",
       "      <th></th>\n",
       "      <th>price</th>\n",
       "      <th>total_reviews</th>\n",
       "      <th>positive_percentage</th>\n",
       "    </tr>\n",
       "  </thead>\n",
       "  <tbody>\n",
       "    <tr>\n",
       "      <th>count</th>\n",
       "      <td>27309.00</td>\n",
       "      <td>27309.00</td>\n",
       "      <td>27309.00</td>\n",
       "    </tr>\n",
       "    <tr>\n",
       "      <th>mean</th>\n",
       "      <td>10.71</td>\n",
       "      <td>131.58</td>\n",
       "      <td>77.35</td>\n",
       "    </tr>\n",
       "    <tr>\n",
       "      <th>std</th>\n",
       "      <td>13.13</td>\n",
       "      <td>956.84</td>\n",
       "      <td>17.94</td>\n",
       "    </tr>\n",
       "    <tr>\n",
       "      <th>min</th>\n",
       "      <td>0.00</td>\n",
       "      <td>10.00</td>\n",
       "      <td>0.00</td>\n",
       "    </tr>\n",
       "    <tr>\n",
       "      <th>25%</th>\n",
       "      <td>1.19</td>\n",
       "      <td>17.00</td>\n",
       "      <td>67.00</td>\n",
       "    </tr>\n",
       "    <tr>\n",
       "      <th>50%</th>\n",
       "      <td>5.95</td>\n",
       "      <td>33.00</td>\n",
       "      <td>81.00</td>\n",
       "    </tr>\n",
       "    <tr>\n",
       "      <th>75%</th>\n",
       "      <td>16.49</td>\n",
       "      <td>89.00</td>\n",
       "      <td>91.00</td>\n",
       "    </tr>\n",
       "    <tr>\n",
       "      <th>max</th>\n",
       "      <td>259.99</td>\n",
       "      <td>79218.00</td>\n",
       "      <td>100.00</td>\n",
       "    </tr>\n",
       "  </tbody>\n",
       "</table>\n",
       "</div>"
      ],
      "text/plain": [
       "          price  total_reviews  positive_percentage\n",
       "count  27309.00       27309.00             27309.00\n",
       "mean      10.71         131.58                77.35\n",
       "std       13.13         956.84                17.94\n",
       "min        0.00          10.00                 0.00\n",
       "25%        1.19          17.00                67.00\n",
       "50%        5.95          33.00                81.00\n",
       "75%       16.49          89.00                91.00\n",
       "max      259.99       79218.00               100.00"
      ]
     },
     "execution_count": 142,
     "metadata": {},
     "output_type": "execute_result"
    }
   ],
   "source": [
    "_df.describe().round(2)"
   ]
  },
  {
   "cell_type": "markdown",
   "id": "443e7a44-9202-459a-a9f8-af5c122c4b5c",
   "metadata": {},
   "source": [
    "# Export Data for next step:\n",
    "\n",
    "Now that the EDA is complete, we will move on to create our baseline model."
   ]
  },
  {
   "cell_type": "code",
   "execution_count": 143,
   "id": "64386cfc-b1a3-4ad4-b728-48862920595b",
   "metadata": {},
   "outputs": [
    {
     "data": {
      "text/html": [
       "<div>\n",
       "<style scoped>\n",
       "    .dataframe tbody tr th:only-of-type {\n",
       "        vertical-align: middle;\n",
       "    }\n",
       "\n",
       "    .dataframe tbody tr th {\n",
       "        vertical-align: top;\n",
       "    }\n",
       "\n",
       "    .dataframe thead th {\n",
       "        text-align: right;\n",
       "    }\n",
       "</style>\n",
       "<table border=\"1\" class=\"dataframe\">\n",
       "  <thead>\n",
       "    <tr style=\"text-align: right;\">\n",
       "      <th></th>\n",
       "      <th>title</th>\n",
       "      <th>r_date</th>\n",
       "      <th>price</th>\n",
       "      <th>description</th>\n",
       "      <th>review_type</th>\n",
       "      <th>review_stats</th>\n",
       "      <th>positive_percentage</th>\n",
       "      <th>total_reviews</th>\n",
       "      <th>tagged</th>\n",
       "      <th>game_id</th>\n",
       "      <th>Good_Game</th>\n",
       "      <th>r_year</th>\n",
       "    </tr>\n",
       "  </thead>\n",
       "  <tbody>\n",
       "    <tr>\n",
       "      <th>0</th>\n",
       "      <td>persona 3 portable</td>\n",
       "      <td>2023-01-18</td>\n",
       "      <td>27.99</td>\n",
       "      <td>experience the iconic critically acclaimed rpg...</td>\n",
       "      <td>mostly positive</td>\n",
       "      <td>74% of the 771 user reviews for this game are...</td>\n",
       "      <td>74</td>\n",
       "      <td>771</td>\n",
       "      <td>rpg, story rich, anime, turn-based combat, jrp...</td>\n",
       "      <td>1809700</td>\n",
       "      <td>True</td>\n",
       "      <td>2023</td>\n",
       "    </tr>\n",
       "    <tr>\n",
       "      <th>2</th>\n",
       "      <td>fraymakers</td>\n",
       "      <td>2023-01-18</td>\n",
       "      <td>22.79</td>\n",
       "      <td>what is fraymakersfraymakers is the ultimate c...</td>\n",
       "      <td>mixed</td>\n",
       "      <td>68% of the 214 user reviews for this game are...</td>\n",
       "      <td>68</td>\n",
       "      <td>214</td>\n",
       "      <td>indie, fighting, 2d fighter, multiplayer, acti...</td>\n",
       "      <td>1420350</td>\n",
       "      <td>False</td>\n",
       "      <td>2023</td>\n",
       "    </tr>\n",
       "    <tr>\n",
       "      <th>7</th>\n",
       "      <td>osiris: new dawn</td>\n",
       "      <td>2023-01-18</td>\n",
       "      <td>39.99</td>\n",
       "      <td>inspired by the edgier side of sci fi osiris n...</td>\n",
       "      <td>mostly negative</td>\n",
       "      <td>31% of the 127 user reviews in the last 30 da...</td>\n",
       "      <td>31</td>\n",
       "      <td>127</td>\n",
       "      <td>open world survival craft, horror, survival, s...</td>\n",
       "      <td>402710</td>\n",
       "      <td>False</td>\n",
       "      <td>2023</td>\n",
       "    </tr>\n",
       "    <tr>\n",
       "      <th>8</th>\n",
       "      <td>lake haven - chrysalis</td>\n",
       "      <td>2023-01-18</td>\n",
       "      <td>3.89</td>\n",
       "      <td>on october 7th at 9 pm the kansas police depar...</td>\n",
       "      <td>positive</td>\n",
       "      <td>100% of the 27 user reviews for this game are...</td>\n",
       "      <td>100</td>\n",
       "      <td>27</td>\n",
       "      <td>third person, exploration, singleplayer, adven...</td>\n",
       "      <td>1696960</td>\n",
       "      <td>True</td>\n",
       "      <td>2023</td>\n",
       "    </tr>\n",
       "    <tr>\n",
       "      <th>13</th>\n",
       "      <td>predictors</td>\n",
       "      <td>2023-01-18</td>\n",
       "      <td>3.89</td>\n",
       "      <td>turnbased roguelikego solo or invite up to thr...</td>\n",
       "      <td>positive</td>\n",
       "      <td>95% of the 20 user reviews for this game are ...</td>\n",
       "      <td>95</td>\n",
       "      <td>20</td>\n",
       "      <td>roguelike, roguelite, turn-based, online co-op...</td>\n",
       "      <td>2149330</td>\n",
       "      <td>True</td>\n",
       "      <td>2023</td>\n",
       "    </tr>\n",
       "  </tbody>\n",
       "</table>\n",
       "</div>"
      ],
      "text/plain": [
       "                     title     r_date  price  \\\n",
       "0       persona 3 portable 2023-01-18  27.99   \n",
       "2               fraymakers 2023-01-18  22.79   \n",
       "7         osiris: new dawn 2023-01-18  39.99   \n",
       "8   lake haven - chrysalis 2023-01-18   3.89   \n",
       "13              predictors 2023-01-18   3.89   \n",
       "\n",
       "                                          description      review_type  \\\n",
       "0   experience the iconic critically acclaimed rpg...  mostly positive   \n",
       "2   what is fraymakersfraymakers is the ultimate c...            mixed   \n",
       "7   inspired by the edgier side of sci fi osiris n...  mostly negative   \n",
       "8   on october 7th at 9 pm the kansas police depar...         positive   \n",
       "13  turnbased roguelikego solo or invite up to thr...         positive   \n",
       "\n",
       "                                         review_stats  positive_percentage  \\\n",
       "0    74% of the 771 user reviews for this game are...                   74   \n",
       "2    68% of the 214 user reviews for this game are...                   68   \n",
       "7    31% of the 127 user reviews in the last 30 da...                   31   \n",
       "8    100% of the 27 user reviews for this game are...                  100   \n",
       "13   95% of the 20 user reviews for this game are ...                   95   \n",
       "\n",
       "    total_reviews                                             tagged  game_id  \\\n",
       "0             771  rpg, story rich, anime, turn-based combat, jrp...  1809700   \n",
       "2             214  indie, fighting, 2d fighter, multiplayer, acti...  1420350   \n",
       "7             127  open world survival craft, horror, survival, s...   402710   \n",
       "8              27  third person, exploration, singleplayer, adven...  1696960   \n",
       "13             20  roguelike, roguelite, turn-based, online co-op...  2149330   \n",
       "\n",
       "    Good_Game  r_year  \n",
       "0        True    2023  \n",
       "2       False    2023  \n",
       "7       False    2023  \n",
       "8        True    2023  \n",
       "13       True    2023  "
      ]
     },
     "execution_count": 143,
     "metadata": {},
     "output_type": "execute_result"
    },
    {
     "data": {
      "text/plain": [
       "(27309, 12)"
      ]
     },
     "execution_count": 143,
     "metadata": {},
     "output_type": "execute_result"
    },
    {
     "data": {
      "text/plain": [
       "title                          object\n",
       "r_date                 datetime64[ns]\n",
       "price                         float64\n",
       "description                    object\n",
       "review_type                    object\n",
       "review_stats                   object\n",
       "positive_percentage             int32\n",
       "total_reviews                   int32\n",
       "tagged                         object\n",
       "game_id                         int64\n",
       "Good_Game                        bool\n",
       "r_year                          int64\n",
       "dtype: object"
      ]
     },
     "execution_count": 143,
     "metadata": {},
     "output_type": "execute_result"
    }
   ],
   "source": [
    "df.head()\n",
    "df.shape\n",
    "df.dtypes"
   ]
  },
  {
   "cell_type": "code",
   "execution_count": 144,
   "id": "31c8a1ae-1bc7-463d-9a70-d9caea359bad",
   "metadata": {},
   "outputs": [
    {
     "name": "stdout",
     "output_type": "stream",
     "text": [
      "Shape(col,rows): (27309, 12)\n",
      "Number of duplicates: 0\n",
      "------------------------------------------------------------\n",
      "Number of each unqiue datatypes:\n",
      "object            5\n",
      "int32             2\n",
      "int64             2\n",
      "datetime64[ns]    1\n",
      "float64           1\n",
      "bool              1\n",
      "dtype: int64\n",
      "------------------------------------------------------------\n",
      "Columns with missing values:\n",
      "Empty DataFrame\n",
      "Columns: [col, num_nulls, perc_null]\n",
      "Index: []\n"
     ]
    }
   ],
   "source": [
    "df_summary(df)"
   ]
  },
  {
   "cell_type": "code",
   "execution_count": 145,
   "id": "705b680f-8f52-4961-8b39-61641cc6128a",
   "metadata": {},
   "outputs": [],
   "source": [
    "df.to_csv(\"cleaned_dataset.csv\",index=False)"
   ]
  },
  {
   "cell_type": "code",
   "execution_count": null,
   "id": "930e1f9e-f501-4665-858c-e20986b3629f",
   "metadata": {},
   "outputs": [],
   "source": []
  }
 ],
 "metadata": {
  "kernelspec": {
   "display_name": "Python 3 (ipykernel)",
   "language": "python",
   "name": "python3"
  },
  "language_info": {
   "codemirror_mode": {
    "name": "ipython",
    "version": 3
   },
   "file_extension": ".py",
   "mimetype": "text/x-python",
   "name": "python",
   "nbconvert_exporter": "python",
   "pygments_lexer": "ipython3",
   "version": "3.8.13"
  }
 },
 "nbformat": 4,
 "nbformat_minor": 5
}
