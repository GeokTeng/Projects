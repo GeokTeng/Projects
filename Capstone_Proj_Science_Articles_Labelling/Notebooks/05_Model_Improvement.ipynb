{
 "cells": [
  {
   "cell_type": "markdown",
   "id": "7bfb7fbc-1c1b-4b59-b9d6-7c2720c6c498",
   "metadata": {
    "tags": []
   },
   "source": [
    "# About this notebook:\n",
    "\n",
    "- We are going to improve performance from the baseline Model\n",
    "    - We will explore dropping some labels and merging some similar labels\n",
    "    - We will explore including article title into the X features\n",
    "    - We will explore different classifiers (MultinomialNB, Logistic Regression)\n",
    "- The aim of our model is to given an article abstract - give it NLM Primary Disease terms labels.\n",
    "- The targeted metric is to have samples avg precision and f1-score > 0.70.\n",
    "\n",
    "[Part 1: Merge & drop labels, Including Title and Abstract as X ](#ID_1)<br>\n",
    "[Part 2: Models and Hyperparametertuning](#ID_2)<br>\n",
    "[Part 3: Best Model Evaluation](#ID_3)<br>\n",
    "[Part 4: Discussion & Conclusion](#ID_4)<br>"
   ]
  },
  {
   "cell_type": "markdown",
   "id": "31475a34-548f-4254-9333-a67b161973b0",
   "metadata": {},
   "source": [
    "# Downloads & Functions"
   ]
  },
  {
   "cell_type": "code",
   "execution_count": 1,
   "id": "5db11854-ea2b-478f-8739-2bd79fb6e6df",
   "metadata": {},
   "outputs": [],
   "source": [
    "import numpy as np \n",
    "import pandas as pd\n",
    "\n",
    "from IPython.core.interactiveshell import InteractiveShell\n",
    "InteractiveShell.ast_node_interactivity = \"all\"\n",
    "\n",
    "\n",
    "#Visualisation:\n",
    "import seaborn               as sns\n",
    "import matplotlib.pyplot     as plt\n",
    "sns.set_theme(style=\"whitegrid\")\n",
    "\n",
    "from tqdm import tqdm\n",
    "tqdm.pandas()\n",
    "\n",
    "#Showing missing, duplicates, shape, dtypes\n",
    "def df_summary(df):\n",
    "    print(f\"Shape(col,rows): {df.shape}\")\n",
    "    print(f\"Number of duplicates: {df.duplicated().sum()}\")\n",
    "    print('---'*20)\n",
    "    print(f'Number of each unqiue datatypes:\\n{df.dtypes.value_counts()}')\n",
    "    print('---'*20)\n",
    "    print(\"Columns with missing values:\")\n",
    "    isnull_df = pd.DataFrame(df.isnull().sum()).reset_index()\n",
    "    isnull_df.columns = ['col','num_nulls']\n",
    "    isnull_df['perc_null'] = ((isnull_df['num_nulls'])/(len(df))).round(2)\n",
    "    print(isnull_df[isnull_df['num_nulls']>0])"
   ]
  },
  {
   "cell_type": "code",
   "execution_count": 2,
   "id": "d99d3eca-be42-4d44-80d2-fc3564dc7d02",
   "metadata": {},
   "outputs": [],
   "source": [
    "#Preprocessing:\n",
    "from sklearn.preprocessing import MultiLabelBinarizer\n",
    "from sklearn.feature_extraction.text import TfidfVectorizer\n",
    "from skmultilearn.model_selection import IterativeStratification\n",
    "\n",
    "\n",
    "#Modelling\n",
    "from sklearn.naive_bayes import BernoulliNB\n",
    "from sklearn.multiclass import OneVsRestClassifier\n",
    "from sklearn.naive_bayes import MultinomialNB\n",
    "from sklearn.linear_model import LogisticRegression\n",
    "\n",
    "#Metrics\n",
    "from sklearn.metrics import confusion_matrix\n",
    "from sklearn.metrics import ConfusionMatrixDisplay\n",
    "\n",
    "from sklearn.metrics import make_scorer\n",
    "from sklearn.metrics import recall_score #sensitivity\n",
    "from sklearn.metrics import precision_score\n",
    "from sklearn.metrics import f1_score\n",
    "from sklearn.metrics import classification_report #precision+recall+f1-score\n",
    "\n",
    "from sklearn.model_selection import GridSearchCV \n",
    "from sklearn.pipeline import Pipeline"
   ]
  },
  {
   "cell_type": "code",
   "execution_count": 3,
   "id": "f1fb77ff-d6e8-4ae0-94e6-fbf5547b1681",
   "metadata": {},
   "outputs": [],
   "source": [
    "#Preprocessing\n",
    "import re\n",
    "from nltk.stem.porter import PorterStemmer\n",
    "stemmer = PorterStemmer()\n",
    "\n",
    "from nltk.tokenize import word_tokenize\n",
    "\n",
    "#remove stopwords\n",
    "import nltk\n",
    "from nltk.corpus import stopwords\n",
    "stop_words = set(stopwords.words('english'))"
   ]
  },
  {
   "cell_type": "code",
   "execution_count": 4,
   "id": "9e26f576-c34c-4993-a4a7-6d0ce98385e8",
   "metadata": {},
   "outputs": [],
   "source": [
    "df = pd.read_csv(\"Modelling_df.csv\")"
   ]
  },
  {
   "cell_type": "code",
   "execution_count": 5,
   "id": "06cc0364-cfc2-4513-8803-ccbbd9205b78",
   "metadata": {},
   "outputs": [],
   "source": [
    "df = df.loc[:,['ID','title','abstract','Pri_diseases_name']]"
   ]
  },
  {
   "cell_type": "code",
   "execution_count": 6,
   "id": "21cdb722-772c-474b-ad2f-84e8b2b3df88",
   "metadata": {},
   "outputs": [
    {
     "name": "stdout",
     "output_type": "stream",
     "text": [
      "Shape(col,rows): (240836, 4)\n",
      "Number of duplicates: 0\n",
      "------------------------------------------------------------\n",
      "Number of each unqiue datatypes:\n",
      "object    3\n",
      "int64     1\n",
      "dtype: int64\n",
      "------------------------------------------------------------\n",
      "Columns with missing values:\n",
      "Empty DataFrame\n",
      "Columns: [col, num_nulls, perc_null]\n",
      "Index: []\n"
     ]
    }
   ],
   "source": [
    "df_summary(df)"
   ]
  },
  {
   "cell_type": "code",
   "execution_count": 7,
   "id": "4c289ff5-5bb9-4300-be3e-7a5569f1e3f7",
   "metadata": {},
   "outputs": [
    {
     "data": {
      "text/html": [
       "<div>\n",
       "<style scoped>\n",
       "    .dataframe tbody tr th:only-of-type {\n",
       "        vertical-align: middle;\n",
       "    }\n",
       "\n",
       "    .dataframe tbody tr th {\n",
       "        vertical-align: top;\n",
       "    }\n",
       "\n",
       "    .dataframe thead th {\n",
       "        text-align: right;\n",
       "    }\n",
       "</style>\n",
       "<table border=\"1\" class=\"dataframe\">\n",
       "  <thead>\n",
       "    <tr style=\"text-align: right;\">\n",
       "      <th></th>\n",
       "      <th>ID</th>\n",
       "      <th>title</th>\n",
       "      <th>abstract</th>\n",
       "      <th>Pri_diseases_name</th>\n",
       "    </tr>\n",
       "  </thead>\n",
       "  <tbody>\n",
       "    <tr>\n",
       "      <th>0</th>\n",
       "      <td>21210353</td>\n",
       "      <td>human leukocyte antigen-g (hla-g) as a marker ...</td>\n",
       "      <td>human leukocyt antigeng  hlag  nonclass hlacla...</td>\n",
       "      <td>[neoplasms]</td>\n",
       "    </tr>\n",
       "    <tr>\n",
       "      <th>1</th>\n",
       "      <td>21265258</td>\n",
       "      <td>head and neck follicular dendritic cell sarcom...</td>\n",
       "      <td>current  less 50 case head neck follicular den...</td>\n",
       "      <td>[neoplasms, pathological conditions_signs and ...</td>\n",
       "    </tr>\n",
       "    <tr>\n",
       "      <th>2</th>\n",
       "      <td>21245633</td>\n",
       "      <td>effectiveness of repeated intragastric balloon...</td>\n",
       "      <td>19yearold japanes male bmi 554 kgm  2  also li...</td>\n",
       "      <td>[nutritional and metabolic diseases, pathologi...</td>\n",
       "    </tr>\n",
       "    <tr>\n",
       "      <th>3</th>\n",
       "      <td>21194024</td>\n",
       "      <td>golden retriever muscular dystrophy (grmd): de...</td>\n",
       "      <td>studi canin model duchenn muscular dystrophi  ...</td>\n",
       "      <td>[animal diseases, pathological conditions_sign...</td>\n",
       "    </tr>\n",
       "    <tr>\n",
       "      <th>4</th>\n",
       "      <td>21220749</td>\n",
       "      <td>dichotomous regulation of gvhd through bidirec...</td>\n",
       "      <td>b lymphocyt attenu  btla  coinhibitori recepto...</td>\n",
       "      <td>[neoplasms, pathological conditions_signs and ...</td>\n",
       "    </tr>\n",
       "    <tr>\n",
       "      <th>...</th>\n",
       "      <td>...</td>\n",
       "      <td>...</td>\n",
       "      <td>...</td>\n",
       "      <td>...</td>\n",
       "    </tr>\n",
       "    <tr>\n",
       "      <th>240831</th>\n",
       "      <td>26709456</td>\n",
       "      <td>reactive oxygen species production by human de...</td>\n",
       "      <td>tuberculosi remain singl largest infecti disea...</td>\n",
       "      <td>[respiratory tract diseases, infections]</td>\n",
       "    </tr>\n",
       "    <tr>\n",
       "      <th>240832</th>\n",
       "      <td>26675461</td>\n",
       "      <td>evaluating the use of commercial west nile vir...</td>\n",
       "      <td>evalu util 2 type commerci avail antigen posit...</td>\n",
       "      <td>[infections, pathological conditions_signs and...</td>\n",
       "    </tr>\n",
       "    <tr>\n",
       "      <th>240833</th>\n",
       "      <td>26709605</td>\n",
       "      <td>efficacy of protease inhibitor monotherapy vs....</td>\n",
       "      <td>aim analysi review evid updat metaanalysi eval...</td>\n",
       "      <td>[immune system diseases, infections]</td>\n",
       "    </tr>\n",
       "    <tr>\n",
       "      <th>240834</th>\n",
       "      <td>26662151</td>\n",
       "      <td>the occurrence of chronic lymphocytic leukemia...</td>\n",
       "      <td>occurr chronic myeloid leukemia  cml  chronic ...</td>\n",
       "      <td>[neoplasms, cardiovascular diseases]</td>\n",
       "    </tr>\n",
       "    <tr>\n",
       "      <th>240835</th>\n",
       "      <td>26706051</td>\n",
       "      <td>frontal aslant tract abnormality on diffusion ...</td>\n",
       "      <td>karyotyp 49  xxxxi one sever form chromosom an...</td>\n",
       "      <td>[nervous system diseases, urogenital diseases,...</td>\n",
       "    </tr>\n",
       "  </tbody>\n",
       "</table>\n",
       "<p>240836 rows × 4 columns</p>\n",
       "</div>"
      ],
      "text/plain": [
       "              ID                                              title  \\\n",
       "0       21210353  human leukocyte antigen-g (hla-g) as a marker ...   \n",
       "1       21265258  head and neck follicular dendritic cell sarcom...   \n",
       "2       21245633  effectiveness of repeated intragastric balloon...   \n",
       "3       21194024  golden retriever muscular dystrophy (grmd): de...   \n",
       "4       21220749  dichotomous regulation of gvhd through bidirec...   \n",
       "...          ...                                                ...   \n",
       "240831  26709456  reactive oxygen species production by human de...   \n",
       "240832  26675461  evaluating the use of commercial west nile vir...   \n",
       "240833  26709605  efficacy of protease inhibitor monotherapy vs....   \n",
       "240834  26662151  the occurrence of chronic lymphocytic leukemia...   \n",
       "240835  26706051  frontal aslant tract abnormality on diffusion ...   \n",
       "\n",
       "                                                 abstract  \\\n",
       "0       human leukocyt antigeng  hlag  nonclass hlacla...   \n",
       "1       current  less 50 case head neck follicular den...   \n",
       "2       19yearold japanes male bmi 554 kgm  2  also li...   \n",
       "3       studi canin model duchenn muscular dystrophi  ...   \n",
       "4       b lymphocyt attenu  btla  coinhibitori recepto...   \n",
       "...                                                   ...   \n",
       "240831  tuberculosi remain singl largest infecti disea...   \n",
       "240832  evalu util 2 type commerci avail antigen posit...   \n",
       "240833  aim analysi review evid updat metaanalysi eval...   \n",
       "240834  occurr chronic myeloid leukemia  cml  chronic ...   \n",
       "240835  karyotyp 49  xxxxi one sever form chromosom an...   \n",
       "\n",
       "                                        Pri_diseases_name  \n",
       "0                                             [neoplasms]  \n",
       "1       [neoplasms, pathological conditions_signs and ...  \n",
       "2       [nutritional and metabolic diseases, pathologi...  \n",
       "3       [animal diseases, pathological conditions_sign...  \n",
       "4       [neoplasms, pathological conditions_signs and ...  \n",
       "...                                                   ...  \n",
       "240831           [respiratory tract diseases, infections]  \n",
       "240832  [infections, pathological conditions_signs and...  \n",
       "240833               [immune system diseases, infections]  \n",
       "240834               [neoplasms, cardiovascular diseases]  \n",
       "240835  [nervous system diseases, urogenital diseases,...  \n",
       "\n",
       "[240836 rows x 4 columns]"
      ]
     },
     "execution_count": 7,
     "metadata": {},
     "output_type": "execute_result"
    }
   ],
   "source": [
    "# Necessary processes to convert Pri_diseases_name back to a list of NLM Pri Disease terms\n",
    "df['Pri_diseases_name'] = df['Pri_diseases_name'].str.strip('{')\n",
    "df['Pri_diseases_name'] = df['Pri_diseases_name'].str.strip('}')\n",
    "\n",
    "str_1 = \"congenital, hereditary, and neonatal diseases and abnormalities\"\n",
    "sub_1 = str_1.replace(\", \",\"_\")\n",
    "str_2 = \"pathological conditions, signs and symptoms\"\n",
    "sub_2 = str_2.replace(\", \",\"_\")\n",
    "\n",
    "df['Pri_diseases_name'] = df['Pri_diseases_name'].str.replace(str_1,sub_1)\n",
    "df['Pri_diseases_name'] = df['Pri_diseases_name'].str.replace(str_2,sub_2)\n",
    "df['Pri_diseases_name'] = df['Pri_diseases_name'].str.replace(\"'\",\"\")\n",
    "df['Pri_diseases_name']  = df['Pri_diseases_name'].str.split(\", \")\n",
    "df"
   ]
  },
  {
   "cell_type": "markdown",
   "id": "19b44c67-a999-4439-b575-335616798b69",
   "metadata": {},
   "source": [
    "# Part 1: Merging some labels, and dropping some labels, and using Title as one of the X features <a class=\"anchor\" id=\"ID_1\"></a>"
   ]
  },
  {
   "cell_type": "markdown",
   "id": "20c40d47-1e7a-4299-b35a-9b9dc298eac3",
   "metadata": {},
   "source": [
    "#### Merge and drop labels"
   ]
  },
  {
   "cell_type": "code",
   "execution_count": 8,
   "id": "b77d2874-3eed-4beb-a882-5160a196de4d",
   "metadata": {},
   "outputs": [
    {
     "name": "stdout",
     "output_type": "stream",
     "text": [
      "CPU times: total: 3.72 s\n",
      "Wall time: 3.72 s\n"
     ]
    },
    {
     "data": {
      "text/html": [
       "<div>\n",
       "<style scoped>\n",
       "    .dataframe tbody tr th:only-of-type {\n",
       "        vertical-align: middle;\n",
       "    }\n",
       "\n",
       "    .dataframe tbody tr th {\n",
       "        vertical-align: top;\n",
       "    }\n",
       "\n",
       "    .dataframe thead th {\n",
       "        text-align: right;\n",
       "    }\n",
       "</style>\n",
       "<table border=\"1\" class=\"dataframe\">\n",
       "  <thead>\n",
       "    <tr style=\"text-align: right;\">\n",
       "      <th></th>\n",
       "      <th>ID</th>\n",
       "      <th>title</th>\n",
       "      <th>abstract</th>\n",
       "      <th>Pri_diseases_name</th>\n",
       "    </tr>\n",
       "  </thead>\n",
       "  <tbody>\n",
       "    <tr>\n",
       "      <th>0</th>\n",
       "      <td>21210353</td>\n",
       "      <td>human leukocyte antigen-g (hla-g) as a marker ...</td>\n",
       "      <td>human leukocyt antigeng  hlag  nonclass hlacla...</td>\n",
       "      <td>[neoplasms]</td>\n",
       "    </tr>\n",
       "    <tr>\n",
       "      <th>1</th>\n",
       "      <td>21265258</td>\n",
       "      <td>head and neck follicular dendritic cell sarcom...</td>\n",
       "      <td>current  less 50 case head neck follicular den...</td>\n",
       "      <td>[pathological conditions_signs and symptoms, n...</td>\n",
       "    </tr>\n",
       "    <tr>\n",
       "      <th>2</th>\n",
       "      <td>21245633</td>\n",
       "      <td>effectiveness of repeated intragastric balloon...</td>\n",
       "      <td>19yearold japanes male bmi 554 kgm  2  also li...</td>\n",
       "      <td>[nutritional, metabolic, endocrine diseases, p...</td>\n",
       "    </tr>\n",
       "    <tr>\n",
       "      <th>3</th>\n",
       "      <td>21194024</td>\n",
       "      <td>golden retriever muscular dystrophy (grmd): de...</td>\n",
       "      <td>studi canin model duchenn muscular dystrophi  ...</td>\n",
       "      <td>[animal diseases, pathological conditions_sign...</td>\n",
       "    </tr>\n",
       "    <tr>\n",
       "      <th>4</th>\n",
       "      <td>21220749</td>\n",
       "      <td>dichotomous regulation of gvhd through bidirec...</td>\n",
       "      <td>b lymphocyt attenu  btla  coinhibitori recepto...</td>\n",
       "      <td>[pathological conditions_signs and symptoms, n...</td>\n",
       "    </tr>\n",
       "    <tr>\n",
       "      <th>...</th>\n",
       "      <td>...</td>\n",
       "      <td>...</td>\n",
       "      <td>...</td>\n",
       "      <td>...</td>\n",
       "    </tr>\n",
       "    <tr>\n",
       "      <th>240831</th>\n",
       "      <td>26709456</td>\n",
       "      <td>reactive oxygen species production by human de...</td>\n",
       "      <td>tuberculosi remain singl largest infecti disea...</td>\n",
       "      <td>[respiratory tract diseases, infections]</td>\n",
       "    </tr>\n",
       "    <tr>\n",
       "      <th>240832</th>\n",
       "      <td>26675461</td>\n",
       "      <td>evaluating the use of commercial west nile vir...</td>\n",
       "      <td>evalu util 2 type commerci avail antigen posit...</td>\n",
       "      <td>[pathological conditions_signs and symptoms, i...</td>\n",
       "    </tr>\n",
       "    <tr>\n",
       "      <th>240833</th>\n",
       "      <td>26709605</td>\n",
       "      <td>efficacy of protease inhibitor monotherapy vs....</td>\n",
       "      <td>aim analysi review evid updat metaanalysi eval...</td>\n",
       "      <td>[immune system diseases, infections]</td>\n",
       "    </tr>\n",
       "    <tr>\n",
       "      <th>240834</th>\n",
       "      <td>26662151</td>\n",
       "      <td>the occurrence of chronic lymphocytic leukemia...</td>\n",
       "      <td>occurr chronic myeloid leukemia  cml  chronic ...</td>\n",
       "      <td>[cardiovascular, haem and lymphatic diseases, ...</td>\n",
       "    </tr>\n",
       "    <tr>\n",
       "      <th>240835</th>\n",
       "      <td>26706051</td>\n",
       "      <td>frontal aslant tract abnormality on diffusion ...</td>\n",
       "      <td>karyotyp 49  xxxxi one sever form chromosom an...</td>\n",
       "      <td>[nervous system diseases, urogenital diseases,...</td>\n",
       "    </tr>\n",
       "  </tbody>\n",
       "</table>\n",
       "<p>240836 rows × 4 columns</p>\n",
       "</div>"
      ],
      "text/plain": [
       "              ID                                              title  \\\n",
       "0       21210353  human leukocyte antigen-g (hla-g) as a marker ...   \n",
       "1       21265258  head and neck follicular dendritic cell sarcom...   \n",
       "2       21245633  effectiveness of repeated intragastric balloon...   \n",
       "3       21194024  golden retriever muscular dystrophy (grmd): de...   \n",
       "4       21220749  dichotomous regulation of gvhd through bidirec...   \n",
       "...          ...                                                ...   \n",
       "240831  26709456  reactive oxygen species production by human de...   \n",
       "240832  26675461  evaluating the use of commercial west nile vir...   \n",
       "240833  26709605  efficacy of protease inhibitor monotherapy vs....   \n",
       "240834  26662151  the occurrence of chronic lymphocytic leukemia...   \n",
       "240835  26706051  frontal aslant tract abnormality on diffusion ...   \n",
       "\n",
       "                                                 abstract  \\\n",
       "0       human leukocyt antigeng  hlag  nonclass hlacla...   \n",
       "1       current  less 50 case head neck follicular den...   \n",
       "2       19yearold japanes male bmi 554 kgm  2  also li...   \n",
       "3       studi canin model duchenn muscular dystrophi  ...   \n",
       "4       b lymphocyt attenu  btla  coinhibitori recepto...   \n",
       "...                                                   ...   \n",
       "240831  tuberculosi remain singl largest infecti disea...   \n",
       "240832  evalu util 2 type commerci avail antigen posit...   \n",
       "240833  aim analysi review evid updat metaanalysi eval...   \n",
       "240834  occurr chronic myeloid leukemia  cml  chronic ...   \n",
       "240835  karyotyp 49  xxxxi one sever form chromosom an...   \n",
       "\n",
       "                                        Pri_diseases_name  \n",
       "0                                             [neoplasms]  \n",
       "1       [pathological conditions_signs and symptoms, n...  \n",
       "2       [nutritional, metabolic, endocrine diseases, p...  \n",
       "3       [animal diseases, pathological conditions_sign...  \n",
       "4       [pathological conditions_signs and symptoms, n...  \n",
       "...                                                   ...  \n",
       "240831           [respiratory tract diseases, infections]  \n",
       "240832  [pathological conditions_signs and symptoms, i...  \n",
       "240833               [immune system diseases, infections]  \n",
       "240834  [cardiovascular, haem and lymphatic diseases, ...  \n",
       "240835  [nervous system diseases, urogenital diseases,...  \n",
       "\n",
       "[240836 rows x 4 columns]"
      ]
     },
     "execution_count": 8,
     "metadata": {},
     "output_type": "execute_result"
    }
   ],
   "source": [
    "%%time\n",
    "# 1. remove disorders of environmental origin, and occupational disease\n",
    "# 2. combine cardiovascular diseases & hemic and lymphatic diseases\n",
    "# 3. combine 'nutritional and metabolic diseases' & 'endocrine system diseases'\n",
    "# 4. combine 'wounds and injuries' & 'chemically-induced disorders' \n",
    "# 5. combine otorhinolaryngologic diseases & stomatognathic diseases\n",
    "\n",
    "df_2 = df.copy()\n",
    "\n",
    "remove_func = lambda lst: [name for name in lst if name != 'disorders of environmental origin']\n",
    "df_2['Pri_diseases_name'] = df_2['Pri_diseases_name'].apply(remove_func)\n",
    "\n",
    "remove_func = lambda lst: [name for name in lst if name != 'occupational diseases']\n",
    "df_2['Pri_diseases_name'] = df_2['Pri_diseases_name'].apply(remove_func)\n",
    "\n",
    "replace_func = lambda lst: [name.replace('cardiovascular diseases', 'cardiovascular, haem and lymphatic diseases') for name in lst]\n",
    "df_2['Pri_diseases_name'] = df_2['Pri_diseases_name'].apply(replace_func)\n",
    "\n",
    "replace_func = lambda lst: [name.replace('hemic and lymphatic diseases', 'cardiovascular, haem and lymphatic diseases') for name in lst]\n",
    "df_2['Pri_diseases_name'] = df_2['Pri_diseases_name'].apply(replace_func)\n",
    "\n",
    "replace_func = lambda lst: [name.replace('nutritional and metabolic diseases', 'nutritional, metabolic, endocrine diseases') for name in lst]\n",
    "df_2['Pri_diseases_name'] = df_2['Pri_diseases_name'].apply(replace_func)\n",
    "\n",
    "replace_func = lambda lst: [name.replace('endocrine system diseases', 'nutritional, metabolic, endocrine diseases') for name in lst]\n",
    "df_2['Pri_diseases_name'] = df_2['Pri_diseases_name'].apply(replace_func)\n",
    "\n",
    "replace_func = lambda lst: [name.replace('chemically-induced disorders', 'wounds,injuries, or chemically-induced disorders') for name in lst]\n",
    "df_2['Pri_diseases_name'] = df_2['Pri_diseases_name'].apply(replace_func)\n",
    "\n",
    "replace_func = lambda lst: [name.replace('wounds and injuries', 'wounds,injuries, or chemically-induced disorders') for name in lst]\n",
    "df_2['Pri_diseases_name'] = df_2['Pri_diseases_name'].apply(replace_func)\n",
    "\n",
    "replace_func = lambda lst: [name.replace('stomatognathic diseases', 'otorhinolaryngologic & stomatognathic diseases') for name in lst]\n",
    "df_2['Pri_diseases_name'] = df_2['Pri_diseases_name'].apply(replace_func)\n",
    "\n",
    "replace_func = lambda lst: [name.replace('otorhinolaryngologic diseases', 'otorhinolaryngologic & stomatognathic diseases') for name in lst]\n",
    "df_2['Pri_diseases_name'] = df_2['Pri_diseases_name'].apply(replace_func)\n",
    "\n",
    "remove_dup_func = lambda lst: list(set(lst))\n",
    "df_2['Pri_diseases_name'] = df_2['Pri_diseases_name'].apply(remove_dup_func)\n",
    "df_2"
   ]
  },
  {
   "cell_type": "markdown",
   "id": "dba5f814-63b4-454e-9f80-9bed128de408",
   "metadata": {},
   "source": [
    "#### Investigating articles that now do not have Pri Diseases labesl"
   ]
  },
  {
   "cell_type": "code",
   "execution_count": 9,
   "id": "ef4ccc30-74ba-4f4e-9a2d-29f644c14553",
   "metadata": {},
   "outputs": [
    {
     "data": {
      "text/html": [
       "<div>\n",
       "<style scoped>\n",
       "    .dataframe tbody tr th:only-of-type {\n",
       "        vertical-align: middle;\n",
       "    }\n",
       "\n",
       "    .dataframe tbody tr th {\n",
       "        vertical-align: top;\n",
       "    }\n",
       "\n",
       "    .dataframe thead th {\n",
       "        text-align: right;\n",
       "    }\n",
       "</style>\n",
       "<table border=\"1\" class=\"dataframe\">\n",
       "  <thead>\n",
       "    <tr style=\"text-align: right;\">\n",
       "      <th></th>\n",
       "      <th>ID</th>\n",
       "      <th>title</th>\n",
       "      <th>abstract</th>\n",
       "      <th>Pri_diseases_name</th>\n",
       "      <th>pri_labels_count</th>\n",
       "    </tr>\n",
       "  </thead>\n",
       "  <tbody>\n",
       "    <tr>\n",
       "      <th>0</th>\n",
       "      <td>21210353</td>\n",
       "      <td>human leukocyte antigen-g (hla-g) as a marker ...</td>\n",
       "      <td>human leukocyt antigeng  hlag  nonclass hlacla...</td>\n",
       "      <td>[neoplasms]</td>\n",
       "      <td>1</td>\n",
       "    </tr>\n",
       "    <tr>\n",
       "      <th>1</th>\n",
       "      <td>21265258</td>\n",
       "      <td>head and neck follicular dendritic cell sarcom...</td>\n",
       "      <td>current  less 50 case head neck follicular den...</td>\n",
       "      <td>[pathological conditions_signs and symptoms, n...</td>\n",
       "      <td>2</td>\n",
       "    </tr>\n",
       "    <tr>\n",
       "      <th>2</th>\n",
       "      <td>21245633</td>\n",
       "      <td>effectiveness of repeated intragastric balloon...</td>\n",
       "      <td>19yearold japanes male bmi 554 kgm  2  also li...</td>\n",
       "      <td>[nutritional, metabolic, endocrine diseases, p...</td>\n",
       "      <td>2</td>\n",
       "    </tr>\n",
       "    <tr>\n",
       "      <th>3</th>\n",
       "      <td>21194024</td>\n",
       "      <td>golden retriever muscular dystrophy (grmd): de...</td>\n",
       "      <td>studi canin model duchenn muscular dystrophi  ...</td>\n",
       "      <td>[animal diseases, pathological conditions_sign...</td>\n",
       "      <td>2</td>\n",
       "    </tr>\n",
       "    <tr>\n",
       "      <th>4</th>\n",
       "      <td>21220749</td>\n",
       "      <td>dichotomous regulation of gvhd through bidirec...</td>\n",
       "      <td>b lymphocyt attenu  btla  coinhibitori recepto...</td>\n",
       "      <td>[pathological conditions_signs and symptoms, n...</td>\n",
       "      <td>2</td>\n",
       "    </tr>\n",
       "    <tr>\n",
       "      <th>...</th>\n",
       "      <td>...</td>\n",
       "      <td>...</td>\n",
       "      <td>...</td>\n",
       "      <td>...</td>\n",
       "      <td>...</td>\n",
       "    </tr>\n",
       "    <tr>\n",
       "      <th>240831</th>\n",
       "      <td>26709456</td>\n",
       "      <td>reactive oxygen species production by human de...</td>\n",
       "      <td>tuberculosi remain singl largest infecti disea...</td>\n",
       "      <td>[respiratory tract diseases, infections]</td>\n",
       "      <td>2</td>\n",
       "    </tr>\n",
       "    <tr>\n",
       "      <th>240832</th>\n",
       "      <td>26675461</td>\n",
       "      <td>evaluating the use of commercial west nile vir...</td>\n",
       "      <td>evalu util 2 type commerci avail antigen posit...</td>\n",
       "      <td>[pathological conditions_signs and symptoms, i...</td>\n",
       "      <td>2</td>\n",
       "    </tr>\n",
       "    <tr>\n",
       "      <th>240833</th>\n",
       "      <td>26709605</td>\n",
       "      <td>efficacy of protease inhibitor monotherapy vs....</td>\n",
       "      <td>aim analysi review evid updat metaanalysi eval...</td>\n",
       "      <td>[immune system diseases, infections]</td>\n",
       "      <td>2</td>\n",
       "    </tr>\n",
       "    <tr>\n",
       "      <th>240834</th>\n",
       "      <td>26662151</td>\n",
       "      <td>the occurrence of chronic lymphocytic leukemia...</td>\n",
       "      <td>occurr chronic myeloid leukemia  cml  chronic ...</td>\n",
       "      <td>[cardiovascular, haem and lymphatic diseases, ...</td>\n",
       "      <td>2</td>\n",
       "    </tr>\n",
       "    <tr>\n",
       "      <th>240835</th>\n",
       "      <td>26706051</td>\n",
       "      <td>frontal aslant tract abnormality on diffusion ...</td>\n",
       "      <td>karyotyp 49  xxxxi one sever form chromosom an...</td>\n",
       "      <td>[nervous system diseases, urogenital diseases,...</td>\n",
       "      <td>3</td>\n",
       "    </tr>\n",
       "  </tbody>\n",
       "</table>\n",
       "<p>240836 rows × 5 columns</p>\n",
       "</div>"
      ],
      "text/plain": [
       "              ID                                              title  \\\n",
       "0       21210353  human leukocyte antigen-g (hla-g) as a marker ...   \n",
       "1       21265258  head and neck follicular dendritic cell sarcom...   \n",
       "2       21245633  effectiveness of repeated intragastric balloon...   \n",
       "3       21194024  golden retriever muscular dystrophy (grmd): de...   \n",
       "4       21220749  dichotomous regulation of gvhd through bidirec...   \n",
       "...          ...                                                ...   \n",
       "240831  26709456  reactive oxygen species production by human de...   \n",
       "240832  26675461  evaluating the use of commercial west nile vir...   \n",
       "240833  26709605  efficacy of protease inhibitor monotherapy vs....   \n",
       "240834  26662151  the occurrence of chronic lymphocytic leukemia...   \n",
       "240835  26706051  frontal aslant tract abnormality on diffusion ...   \n",
       "\n",
       "                                                 abstract  \\\n",
       "0       human leukocyt antigeng  hlag  nonclass hlacla...   \n",
       "1       current  less 50 case head neck follicular den...   \n",
       "2       19yearold japanes male bmi 554 kgm  2  also li...   \n",
       "3       studi canin model duchenn muscular dystrophi  ...   \n",
       "4       b lymphocyt attenu  btla  coinhibitori recepto...   \n",
       "...                                                   ...   \n",
       "240831  tuberculosi remain singl largest infecti disea...   \n",
       "240832  evalu util 2 type commerci avail antigen posit...   \n",
       "240833  aim analysi review evid updat metaanalysi eval...   \n",
       "240834  occurr chronic myeloid leukemia  cml  chronic ...   \n",
       "240835  karyotyp 49  xxxxi one sever form chromosom an...   \n",
       "\n",
       "                                        Pri_diseases_name  pri_labels_count  \n",
       "0                                             [neoplasms]                 1  \n",
       "1       [pathological conditions_signs and symptoms, n...                 2  \n",
       "2       [nutritional, metabolic, endocrine diseases, p...                 2  \n",
       "3       [animal diseases, pathological conditions_sign...                 2  \n",
       "4       [pathological conditions_signs and symptoms, n...                 2  \n",
       "...                                                   ...               ...  \n",
       "240831           [respiratory tract diseases, infections]                 2  \n",
       "240832  [pathological conditions_signs and symptoms, i...                 2  \n",
       "240833               [immune system diseases, infections]                 2  \n",
       "240834  [cardiovascular, haem and lymphatic diseases, ...                 2  \n",
       "240835  [nervous system diseases, urogenital diseases,...                 3  \n",
       "\n",
       "[240836 rows x 5 columns]"
      ]
     },
     "execution_count": 9,
     "metadata": {},
     "output_type": "execute_result"
    }
   ],
   "source": [
    "df_2[\"pri_labels_count\"] = df_2[\"Pri_diseases_name\"].apply(lambda x: len(x))\n",
    "df_2"
   ]
  },
  {
   "cell_type": "code",
   "execution_count": 10,
   "id": "91a49ddf-5464-425a-9e13-1ced3f821637",
   "metadata": {},
   "outputs": [
    {
     "name": "stdout",
     "output_type": "stream",
     "text": [
      "12 articles now do not have NLM Pri Disease terms labels\n"
     ]
    }
   ],
   "source": [
    "_ = df_2.loc[df_2['pri_labels_count']==0,:]\n",
    "print(f\"{len(_)} articles now do not have NLM Pri Disease terms labels\")"
   ]
  },
  {
   "cell_type": "code",
   "execution_count": 11,
   "id": "0d97aa37-28e2-4fd7-bc1c-bcf5f3f8fc72",
   "metadata": {},
   "outputs": [],
   "source": [
    "#remove datarows articles that now do not have NLM Pri Disease terms labels\n",
    "df_2 = df_2.loc[df_2['pri_labels_count']!=0,:]"
   ]
  },
  {
   "cell_type": "code",
   "execution_count": 12,
   "id": "4f64bf07-a3c1-40ce-a29b-8b39b09ff719",
   "metadata": {},
   "outputs": [],
   "source": [
    "df_2.reset_index(drop=True,inplace=True)"
   ]
  },
  {
   "cell_type": "code",
   "execution_count": 13,
   "id": "cb47d200-cea9-4f58-b1b1-392ada4fb508",
   "metadata": {},
   "outputs": [
    {
     "data": {
      "text/plain": [
       "array(['neoplasms', 'pathological conditions_signs and symptoms',\n",
       "       'nutritional, metabolic, endocrine diseases', 'animal diseases',\n",
       "       'musculoskeletal diseases',\n",
       "       'congenital_hereditary_and neonatal diseases and abnormalities',\n",
       "       'nervous system diseases',\n",
       "       'cardiovascular, haem and lymphatic diseases',\n",
       "       'skin and connective tissue diseases',\n",
       "       'wounds,injuries, or chemically-induced disorders', 'infections',\n",
       "       'digestive system diseases', 'immune system diseases',\n",
       "       'respiratory tract diseases',\n",
       "       'otorhinolaryngologic & stomatognathic diseases',\n",
       "       'urogenital diseases', 'eye diseases'], dtype=object)"
      ]
     },
     "execution_count": 13,
     "metadata": {},
     "output_type": "execute_result"
    }
   ],
   "source": [
    "df_2.explode('Pri_diseases_name')['Pri_diseases_name'].unique()"
   ]
  },
  {
   "cell_type": "code",
   "execution_count": 14,
   "id": "6677c2ff-d99a-4d74-af31-b044b273636a",
   "metadata": {},
   "outputs": [
    {
     "name": "stdout",
     "output_type": "stream",
     "text": [
      "Number of NLM Pri Diseases terms as labels: 17\n"
     ]
    }
   ],
   "source": [
    "_ = df_2.explode('Pri_diseases_name')['Pri_diseases_name'].nunique()\n",
    "print(f\"Number of NLM Pri Diseases terms as labels: {_}\")"
   ]
  },
  {
   "cell_type": "code",
   "execution_count": 15,
   "id": "71770862-17f4-4e00-8561-67c71ee9e8cd",
   "metadata": {},
   "outputs": [
    {
     "data": {
      "text/plain": [
       "(240824, 5)"
      ]
     },
     "execution_count": 15,
     "metadata": {},
     "output_type": "execute_result"
    }
   ],
   "source": [
    "df_2.shape"
   ]
  },
  {
   "cell_type": "markdown",
   "id": "8a033319-a928-4e9d-8e16-9b3e8d27374b",
   "metadata": {},
   "source": [
    "#### Trainin Test Split<br>\n",
    "We use 'ID' as X first to split data, as IterativeStratification can only use one column for X"
   ]
  },
  {
   "cell_type": "code",
   "execution_count": 16,
   "id": "06d3b5db-793c-4139-883b-e3afbfe82264",
   "metadata": {},
   "outputs": [],
   "source": [
    "X = df_2['ID']\n",
    "y = df_2['Pri_diseases_name']"
   ]
  },
  {
   "cell_type": "code",
   "execution_count": 17,
   "id": "e8e51fac-c18e-4c86-9ee1-d83cf77d8769",
   "metadata": {},
   "outputs": [],
   "source": [
    "#binarize y\n",
    "mlb = MultiLabelBinarizer()\n",
    "y = mlb.fit_transform(y)\n",
    "labels = list(mlb.classes_)"
   ]
  },
  {
   "cell_type": "code",
   "execution_count": 18,
   "id": "700451b8-30e0-4371-bc97-8162bcdd0507",
   "metadata": {},
   "outputs": [
    {
     "name": "stdout",
     "output_type": "stream",
     "text": [
      "CPU times: total: 9min 1s\n",
      "Wall time: 9min 3s\n"
     ]
    }
   ],
   "source": [
    "%%time\n",
    "size=0.75\n",
    "stratifier = IterativeStratification(n_splits=2, order=2, samples_distribution_per_fold=[size, 1.0-size])\n",
    "\n",
    "for train, test in stratifier.split(X, y):\n",
    "    X_train, y_train = X[train], y[train]\n",
    "    X_test, y_test = X[test], y[test]"
   ]
  },
  {
   "cell_type": "code",
   "execution_count": 19,
   "id": "5ac3f261-a9d6-4485-a04a-4f20667d6c99",
   "metadata": {},
   "outputs": [],
   "source": [
    "X_train = pd.DataFrame(X_train)\n",
    "X_test = pd.DataFrame(X_test)"
   ]
  },
  {
   "cell_type": "markdown",
   "id": "d9f2cdc5-205d-4b00-bb98-eb402bd98166",
   "metadata": {},
   "source": [
    "#### Set X features as Title and Abstract"
   ]
  },
  {
   "cell_type": "code",
   "execution_count": 20,
   "id": "b99a7698-042f-4b8d-938d-2139a3f370b2",
   "metadata": {},
   "outputs": [
    {
     "data": {
      "text/html": [
       "<div>\n",
       "<style scoped>\n",
       "    .dataframe tbody tr th:only-of-type {\n",
       "        vertical-align: middle;\n",
       "    }\n",
       "\n",
       "    .dataframe tbody tr th {\n",
       "        vertical-align: top;\n",
       "    }\n",
       "\n",
       "    .dataframe thead th {\n",
       "        text-align: right;\n",
       "    }\n",
       "</style>\n",
       "<table border=\"1\" class=\"dataframe\">\n",
       "  <thead>\n",
       "    <tr style=\"text-align: right;\">\n",
       "      <th></th>\n",
       "      <th>ID</th>\n",
       "      <th>title</th>\n",
       "      <th>abstract</th>\n",
       "    </tr>\n",
       "  </thead>\n",
       "  <tbody>\n",
       "    <tr>\n",
       "      <th>0</th>\n",
       "      <td>21210353</td>\n",
       "      <td>human leukocyte antigen-g (hla-g) as a marker ...</td>\n",
       "      <td>human leukocyt antigeng  hlag  nonclass hlacla...</td>\n",
       "    </tr>\n",
       "    <tr>\n",
       "      <th>1</th>\n",
       "      <td>21265258</td>\n",
       "      <td>head and neck follicular dendritic cell sarcom...</td>\n",
       "      <td>current  less 50 case head neck follicular den...</td>\n",
       "    </tr>\n",
       "    <tr>\n",
       "      <th>2</th>\n",
       "      <td>21245633</td>\n",
       "      <td>effectiveness of repeated intragastric balloon...</td>\n",
       "      <td>19yearold japanes male bmi 554 kgm  2  also li...</td>\n",
       "    </tr>\n",
       "    <tr>\n",
       "      <th>3</th>\n",
       "      <td>21194024</td>\n",
       "      <td>golden retriever muscular dystrophy (grmd): de...</td>\n",
       "      <td>studi canin model duchenn muscular dystrophi  ...</td>\n",
       "    </tr>\n",
       "    <tr>\n",
       "      <th>4</th>\n",
       "      <td>21220749</td>\n",
       "      <td>dichotomous regulation of gvhd through bidirec...</td>\n",
       "      <td>b lymphocyt attenu  btla  coinhibitori recepto...</td>\n",
       "    </tr>\n",
       "    <tr>\n",
       "      <th>...</th>\n",
       "      <td>...</td>\n",
       "      <td>...</td>\n",
       "      <td>...</td>\n",
       "    </tr>\n",
       "    <tr>\n",
       "      <th>240819</th>\n",
       "      <td>26709456</td>\n",
       "      <td>reactive oxygen species production by human de...</td>\n",
       "      <td>tuberculosi remain singl largest infecti disea...</td>\n",
       "    </tr>\n",
       "    <tr>\n",
       "      <th>240820</th>\n",
       "      <td>26675461</td>\n",
       "      <td>evaluating the use of commercial west nile vir...</td>\n",
       "      <td>evalu util 2 type commerci avail antigen posit...</td>\n",
       "    </tr>\n",
       "    <tr>\n",
       "      <th>240821</th>\n",
       "      <td>26709605</td>\n",
       "      <td>efficacy of protease inhibitor monotherapy vs....</td>\n",
       "      <td>aim analysi review evid updat metaanalysi eval...</td>\n",
       "    </tr>\n",
       "    <tr>\n",
       "      <th>240822</th>\n",
       "      <td>26662151</td>\n",
       "      <td>the occurrence of chronic lymphocytic leukemia...</td>\n",
       "      <td>occurr chronic myeloid leukemia  cml  chronic ...</td>\n",
       "    </tr>\n",
       "    <tr>\n",
       "      <th>240823</th>\n",
       "      <td>26706051</td>\n",
       "      <td>frontal aslant tract abnormality on diffusion ...</td>\n",
       "      <td>karyotyp 49  xxxxi one sever form chromosom an...</td>\n",
       "    </tr>\n",
       "  </tbody>\n",
       "</table>\n",
       "<p>240824 rows × 3 columns</p>\n",
       "</div>"
      ],
      "text/plain": [
       "              ID                                              title  \\\n",
       "0       21210353  human leukocyte antigen-g (hla-g) as a marker ...   \n",
       "1       21265258  head and neck follicular dendritic cell sarcom...   \n",
       "2       21245633  effectiveness of repeated intragastric balloon...   \n",
       "3       21194024  golden retriever muscular dystrophy (grmd): de...   \n",
       "4       21220749  dichotomous regulation of gvhd through bidirec...   \n",
       "...          ...                                                ...   \n",
       "240819  26709456  reactive oxygen species production by human de...   \n",
       "240820  26675461  evaluating the use of commercial west nile vir...   \n",
       "240821  26709605  efficacy of protease inhibitor monotherapy vs....   \n",
       "240822  26662151  the occurrence of chronic lymphocytic leukemia...   \n",
       "240823  26706051  frontal aslant tract abnormality on diffusion ...   \n",
       "\n",
       "                                                 abstract  \n",
       "0       human leukocyt antigeng  hlag  nonclass hlacla...  \n",
       "1       current  less 50 case head neck follicular den...  \n",
       "2       19yearold japanes male bmi 554 kgm  2  also li...  \n",
       "3       studi canin model duchenn muscular dystrophi  ...  \n",
       "4       b lymphocyt attenu  btla  coinhibitori recepto...  \n",
       "...                                                   ...  \n",
       "240819  tuberculosi remain singl largest infecti disea...  \n",
       "240820  evalu util 2 type commerci avail antigen posit...  \n",
       "240821  aim analysi review evid updat metaanalysi eval...  \n",
       "240822  occurr chronic myeloid leukemia  cml  chronic ...  \n",
       "240823  karyotyp 49  xxxxi one sever form chromosom an...  \n",
       "\n",
       "[240824 rows x 3 columns]"
      ]
     },
     "execution_count": 20,
     "metadata": {},
     "output_type": "execute_result"
    }
   ],
   "source": [
    "_d = df_2.loc[:,['ID', 'title', 'abstract']]\n",
    "_d"
   ]
  },
  {
   "cell_type": "code",
   "execution_count": 21,
   "id": "ab54ac6d-ae59-4180-8eb0-a9389b1f6992",
   "metadata": {},
   "outputs": [],
   "source": [
    "def stem_sentences(sentence):\n",
    "    tokens = word_tokenize(sentence)\n",
    "    stemmed_tokens = [stemmer.stem(token) for token in tokens]\n",
    "    return ' '.join(stemmed_tokens)\n",
    "def remove_spec_char(text):\n",
    "    return re.sub('[^A-Za-z0-9 ]+', '',text)   "
   ]
  },
  {
   "cell_type": "code",
   "execution_count": 22,
   "id": "8bc9ed89-92ab-4730-8a0a-d465800a0cc5",
   "metadata": {},
   "outputs": [],
   "source": [
    "X_train = X_train.join(_d.set_index('ID'), on='ID')\n",
    "X_train.drop(columns='ID',inplace=True)\n",
    "\n",
    "X_test = X_test.join(_d.set_index('ID'), on='ID')\n",
    "X_test.drop(columns='ID',inplace=True)"
   ]
  },
  {
   "cell_type": "code",
   "execution_count": 23,
   "id": "686e6ec0-382e-461d-a7d6-3678295b5b37",
   "metadata": {},
   "outputs": [],
   "source": [
    "X_train.reset_index(drop=True,inplace=True)\n",
    "X_train['title'] = X_train['title'].apply(stem_sentences)\n",
    "X_train['title'] = X_train['title'].apply(remove_spec_char)\n",
    "\n",
    "X_test.reset_index(drop=True,inplace=True)\n",
    "X_test['title'] = X_test['title'].apply(stem_sentences)\n",
    "X_test['title'] = X_test['title'].apply(remove_spec_char)"
   ]
  },
  {
   "cell_type": "code",
   "execution_count": 24,
   "id": "e04cdec7-ee6d-4032-a048-a7d7722b82cd",
   "metadata": {},
   "outputs": [],
   "source": [
    "X_train['combine'] = X_train['title']+X_train['abstract']\n",
    "X_test['combine'] = X_test['title']+X_test['abstract']"
   ]
  },
  {
   "cell_type": "code",
   "execution_count": 25,
   "id": "d19a3154-d8a1-4a79-b23c-444c4ec17285",
   "metadata": {},
   "outputs": [
    {
     "data": {
      "text/html": [
       "<div>\n",
       "<style scoped>\n",
       "    .dataframe tbody tr th:only-of-type {\n",
       "        vertical-align: middle;\n",
       "    }\n",
       "\n",
       "    .dataframe tbody tr th {\n",
       "        vertical-align: top;\n",
       "    }\n",
       "\n",
       "    .dataframe thead th {\n",
       "        text-align: right;\n",
       "    }\n",
       "</style>\n",
       "<table border=\"1\" class=\"dataframe\">\n",
       "  <thead>\n",
       "    <tr style=\"text-align: right;\">\n",
       "      <th></th>\n",
       "      <th>title</th>\n",
       "      <th>abstract</th>\n",
       "      <th>combine</th>\n",
       "    </tr>\n",
       "  </thead>\n",
       "  <tbody>\n",
       "    <tr>\n",
       "      <th>0</th>\n",
       "      <td>head and neck follicular dendrit cell sarcoma ...</td>\n",
       "      <td>current  less 50 case head neck follicular den...</td>\n",
       "      <td>head and neck follicular dendrit cell sarcoma ...</td>\n",
       "    </tr>\n",
       "    <tr>\n",
       "      <th>1</th>\n",
       "      <td>effect of repeat intragastr balloon therapi in...</td>\n",
       "      <td>19yearold japanes male bmi 554 kgm  2  also li...</td>\n",
       "      <td>effect of repeat intragastr balloon therapi in...</td>\n",
       "    </tr>\n",
       "    <tr>\n",
       "      <th>2</th>\n",
       "      <td>golden retriev muscular dystrophi  grmd   deve...</td>\n",
       "      <td>studi canin model duchenn muscular dystrophi  ...</td>\n",
       "      <td>golden retriev muscular dystrophi  grmd   deve...</td>\n",
       "    </tr>\n",
       "    <tr>\n",
       "      <th>3</th>\n",
       "      <td>polymorph in the pituitari growth hormon gene ...</td>\n",
       "      <td>investig promot polymorph pituitari growth hor...</td>\n",
       "      <td>polymorph in the pituitari growth hormon gene ...</td>\n",
       "    </tr>\n",
       "    <tr>\n",
       "      <th>4</th>\n",
       "      <td>qualit studi of highcost patient in an urban p...</td>\n",
       "      <td>examin patient account ill care among primari ...</td>\n",
       "      <td>qualit studi of highcost patient in an urban p...</td>\n",
       "    </tr>\n",
       "  </tbody>\n",
       "</table>\n",
       "</div>"
      ],
      "text/plain": [
       "                                               title  \\\n",
       "0  head and neck follicular dendrit cell sarcoma ...   \n",
       "1  effect of repeat intragastr balloon therapi in...   \n",
       "2  golden retriev muscular dystrophi  grmd   deve...   \n",
       "3  polymorph in the pituitari growth hormon gene ...   \n",
       "4  qualit studi of highcost patient in an urban p...   \n",
       "\n",
       "                                            abstract  \\\n",
       "0  current  less 50 case head neck follicular den...   \n",
       "1  19yearold japanes male bmi 554 kgm  2  also li...   \n",
       "2  studi canin model duchenn muscular dystrophi  ...   \n",
       "3  investig promot polymorph pituitari growth hor...   \n",
       "4  examin patient account ill care among primari ...   \n",
       "\n",
       "                                             combine  \n",
       "0  head and neck follicular dendrit cell sarcoma ...  \n",
       "1  effect of repeat intragastr balloon therapi in...  \n",
       "2  golden retriev muscular dystrophi  grmd   deve...  \n",
       "3  polymorph in the pituitari growth hormon gene ...  \n",
       "4  qualit studi of highcost patient in an urban p...  "
      ]
     },
     "execution_count": 25,
     "metadata": {},
     "output_type": "execute_result"
    },
    {
     "data": {
      "text/html": [
       "<div>\n",
       "<style scoped>\n",
       "    .dataframe tbody tr th:only-of-type {\n",
       "        vertical-align: middle;\n",
       "    }\n",
       "\n",
       "    .dataframe tbody tr th {\n",
       "        vertical-align: top;\n",
       "    }\n",
       "\n",
       "    .dataframe thead th {\n",
       "        text-align: right;\n",
       "    }\n",
       "</style>\n",
       "<table border=\"1\" class=\"dataframe\">\n",
       "  <thead>\n",
       "    <tr style=\"text-align: right;\">\n",
       "      <th></th>\n",
       "      <th>title</th>\n",
       "      <th>abstract</th>\n",
       "      <th>combine</th>\n",
       "    </tr>\n",
       "  </thead>\n",
       "  <tbody>\n",
       "    <tr>\n",
       "      <th>0</th>\n",
       "      <td>human leukocyt antigeng  hlag  as a marker for...</td>\n",
       "      <td>human leukocyt antigeng  hlag  nonclass hlacla...</td>\n",
       "      <td>human leukocyt antigeng  hlag  as a marker for...</td>\n",
       "    </tr>\n",
       "    <tr>\n",
       "      <th>1</th>\n",
       "      <td>dichotom regul of gvhd through bidirect functi...</td>\n",
       "      <td>b lymphocyt attenu  btla  coinhibitori recepto...</td>\n",
       "      <td>dichotom regul of gvhd through bidirect functi...</td>\n",
       "    </tr>\n",
       "    <tr>\n",
       "      <th>2</th>\n",
       "      <td>multimod imag of chronic tophac gout</td>\n",
       "      <td>diagnosi gout usual base clinic present labora...</td>\n",
       "      <td>multimod imag of chronic tophac gout  diagnos...</td>\n",
       "    </tr>\n",
       "    <tr>\n",
       "      <th>3</th>\n",
       "      <td>intraop choroid detach dure 23gaug vitrectomi</td>\n",
       "      <td>review intraop choroid detach 23gaug vitrectom...</td>\n",
       "      <td>intraop choroid detach dure 23gaug vitrectomi ...</td>\n",
       "    </tr>\n",
       "    <tr>\n",
       "      <th>4</th>\n",
       "      <td>ciita is not associ with risk of develop rheum...</td>\n",
       "      <td>major histocompat complex  mhc  class ii trans...</td>\n",
       "      <td>ciita is not associ with risk of develop rheum...</td>\n",
       "    </tr>\n",
       "  </tbody>\n",
       "</table>\n",
       "</div>"
      ],
      "text/plain": [
       "                                               title  \\\n",
       "0  human leukocyt antigeng  hlag  as a marker for...   \n",
       "1  dichotom regul of gvhd through bidirect functi...   \n",
       "2             multimod imag of chronic tophac gout     \n",
       "3     intraop choroid detach dure 23gaug vitrectomi    \n",
       "4  ciita is not associ with risk of develop rheum...   \n",
       "\n",
       "                                            abstract  \\\n",
       "0  human leukocyt antigeng  hlag  nonclass hlacla...   \n",
       "1  b lymphocyt attenu  btla  coinhibitori recepto...   \n",
       "2  diagnosi gout usual base clinic present labora...   \n",
       "3  review intraop choroid detach 23gaug vitrectom...   \n",
       "4  major histocompat complex  mhc  class ii trans...   \n",
       "\n",
       "                                             combine  \n",
       "0  human leukocyt antigeng  hlag  as a marker for...  \n",
       "1  dichotom regul of gvhd through bidirect functi...  \n",
       "2   multimod imag of chronic tophac gout  diagnos...  \n",
       "3  intraop choroid detach dure 23gaug vitrectomi ...  \n",
       "4  ciita is not associ with risk of develop rheum...  "
      ]
     },
     "execution_count": 25,
     "metadata": {},
     "output_type": "execute_result"
    }
   ],
   "source": [
    "X_train.head()\n",
    "X_test.head()"
   ]
  },
  {
   "cell_type": "markdown",
   "id": "a6cae233-426a-49dd-97a4-a86e8e728b0a",
   "metadata": {},
   "source": [
    "#### Vectorize X_train X_test"
   ]
  },
  {
   "cell_type": "code",
   "execution_count": 26,
   "id": "94aa833f-c3dc-4f78-87cc-77be21c8ed0a",
   "metadata": {
    "tags": []
   },
   "outputs": [],
   "source": [
    "#vectorise X\n",
    "tvec = TfidfVectorizer()\n",
    "X_train_tvec = tvec.fit_transform(X_train['combine'])\n",
    "X_test_tvec = tvec.transform(X_test['combine'])"
   ]
  },
  {
   "cell_type": "code",
   "execution_count": 27,
   "id": "49e541a0-77ce-49bf-b7e5-b2ab34829d19",
   "metadata": {},
   "outputs": [
    {
     "data": {
      "text/plain": [
       "(180364, 581123)"
      ]
     },
     "execution_count": 27,
     "metadata": {},
     "output_type": "execute_result"
    },
    {
     "data": {
      "text/plain": [
       "(60460, 581123)"
      ]
     },
     "execution_count": 27,
     "metadata": {},
     "output_type": "execute_result"
    }
   ],
   "source": [
    "X_train_tvec.shape\n",
    "X_test_tvec.shape"
   ]
  },
  {
   "cell_type": "code",
   "execution_count": 28,
   "id": "215555a2-a766-46f0-8307-6ef80f8322e8",
   "metadata": {},
   "outputs": [
    {
     "data": {
      "text/plain": [
       "(180364, 3)"
      ]
     },
     "execution_count": 28,
     "metadata": {},
     "output_type": "execute_result"
    },
    {
     "data": {
      "text/plain": [
       "(60460, 3)"
      ]
     },
     "execution_count": 28,
     "metadata": {},
     "output_type": "execute_result"
    }
   ],
   "source": [
    "X_train.shape\n",
    "X_test.shape"
   ]
  },
  {
   "cell_type": "markdown",
   "id": "a45e8c04-b4dc-427c-96d4-bd0f42ea871c",
   "metadata": {},
   "source": [
    "#### Model fitting"
   ]
  },
  {
   "cell_type": "code",
   "execution_count": 29,
   "id": "2fe191a3-8daa-4bc4-89cd-ece024ce23b0",
   "metadata": {},
   "outputs": [],
   "source": [
    "# Train the Naive Bayes classifier using the Binary Relevance method\n",
    "clf = OneVsRestClassifier(BernoulliNB())"
   ]
  },
  {
   "cell_type": "code",
   "execution_count": 30,
   "id": "089c85d7-9e2c-477c-8101-27fd49d086c7",
   "metadata": {},
   "outputs": [
    {
     "data": {
      "text/html": [
       "<style>#sk-container-id-1 {color: black;background-color: white;}#sk-container-id-1 pre{padding: 0;}#sk-container-id-1 div.sk-toggleable {background-color: white;}#sk-container-id-1 label.sk-toggleable__label {cursor: pointer;display: block;width: 100%;margin-bottom: 0;padding: 0.3em;box-sizing: border-box;text-align: center;}#sk-container-id-1 label.sk-toggleable__label-arrow:before {content: \"▸\";float: left;margin-right: 0.25em;color: #696969;}#sk-container-id-1 label.sk-toggleable__label-arrow:hover:before {color: black;}#sk-container-id-1 div.sk-estimator:hover label.sk-toggleable__label-arrow:before {color: black;}#sk-container-id-1 div.sk-toggleable__content {max-height: 0;max-width: 0;overflow: hidden;text-align: left;background-color: #f0f8ff;}#sk-container-id-1 div.sk-toggleable__content pre {margin: 0.2em;color: black;border-radius: 0.25em;background-color: #f0f8ff;}#sk-container-id-1 input.sk-toggleable__control:checked~div.sk-toggleable__content {max-height: 200px;max-width: 100%;overflow: auto;}#sk-container-id-1 input.sk-toggleable__control:checked~label.sk-toggleable__label-arrow:before {content: \"▾\";}#sk-container-id-1 div.sk-estimator input.sk-toggleable__control:checked~label.sk-toggleable__label {background-color: #d4ebff;}#sk-container-id-1 div.sk-label input.sk-toggleable__control:checked~label.sk-toggleable__label {background-color: #d4ebff;}#sk-container-id-1 input.sk-hidden--visually {border: 0;clip: rect(1px 1px 1px 1px);clip: rect(1px, 1px, 1px, 1px);height: 1px;margin: -1px;overflow: hidden;padding: 0;position: absolute;width: 1px;}#sk-container-id-1 div.sk-estimator {font-family: monospace;background-color: #f0f8ff;border: 1px dotted black;border-radius: 0.25em;box-sizing: border-box;margin-bottom: 0.5em;}#sk-container-id-1 div.sk-estimator:hover {background-color: #d4ebff;}#sk-container-id-1 div.sk-parallel-item::after {content: \"\";width: 100%;border-bottom: 1px solid gray;flex-grow: 1;}#sk-container-id-1 div.sk-label:hover label.sk-toggleable__label {background-color: #d4ebff;}#sk-container-id-1 div.sk-serial::before {content: \"\";position: absolute;border-left: 1px solid gray;box-sizing: border-box;top: 0;bottom: 0;left: 50%;z-index: 0;}#sk-container-id-1 div.sk-serial {display: flex;flex-direction: column;align-items: center;background-color: white;padding-right: 0.2em;padding-left: 0.2em;position: relative;}#sk-container-id-1 div.sk-item {position: relative;z-index: 1;}#sk-container-id-1 div.sk-parallel {display: flex;align-items: stretch;justify-content: center;background-color: white;position: relative;}#sk-container-id-1 div.sk-item::before, #sk-container-id-1 div.sk-parallel-item::before {content: \"\";position: absolute;border-left: 1px solid gray;box-sizing: border-box;top: 0;bottom: 0;left: 50%;z-index: -1;}#sk-container-id-1 div.sk-parallel-item {display: flex;flex-direction: column;z-index: 1;position: relative;background-color: white;}#sk-container-id-1 div.sk-parallel-item:first-child::after {align-self: flex-end;width: 50%;}#sk-container-id-1 div.sk-parallel-item:last-child::after {align-self: flex-start;width: 50%;}#sk-container-id-1 div.sk-parallel-item:only-child::after {width: 0;}#sk-container-id-1 div.sk-dashed-wrapped {border: 1px dashed gray;margin: 0 0.4em 0.5em 0.4em;box-sizing: border-box;padding-bottom: 0.4em;background-color: white;}#sk-container-id-1 div.sk-label label {font-family: monospace;font-weight: bold;display: inline-block;line-height: 1.2em;}#sk-container-id-1 div.sk-label-container {text-align: center;}#sk-container-id-1 div.sk-container {/* jupyter's `normalize.less` sets `[hidden] { display: none; }` but bootstrap.min.css set `[hidden] { display: none !important; }` so we also need the `!important` here to be able to override the default hidden behavior on the sphinx rendered scikit-learn.org. See: https://github.com/scikit-learn/scikit-learn/issues/21755 */display: inline-block !important;position: relative;}#sk-container-id-1 div.sk-text-repr-fallback {display: none;}</style><div id=\"sk-container-id-1\" class=\"sk-top-container\"><div class=\"sk-text-repr-fallback\"><pre>OneVsRestClassifier(estimator=BernoulliNB())</pre><b>In a Jupyter environment, please rerun this cell to show the HTML representation or trust the notebook. <br />On GitHub, the HTML representation is unable to render, please try loading this page with nbviewer.org.</b></div><div class=\"sk-container\" hidden><div class=\"sk-item sk-dashed-wrapped\"><div class=\"sk-label-container\"><div class=\"sk-label sk-toggleable\"><input class=\"sk-toggleable__control sk-hidden--visually\" id=\"sk-estimator-id-1\" type=\"checkbox\" ><label for=\"sk-estimator-id-1\" class=\"sk-toggleable__label sk-toggleable__label-arrow\">OneVsRestClassifier</label><div class=\"sk-toggleable__content\"><pre>OneVsRestClassifier(estimator=BernoulliNB())</pre></div></div></div><div class=\"sk-parallel\"><div class=\"sk-parallel-item\"><div class=\"sk-item\"><div class=\"sk-label-container\"><div class=\"sk-label sk-toggleable\"><input class=\"sk-toggleable__control sk-hidden--visually\" id=\"sk-estimator-id-2\" type=\"checkbox\" ><label for=\"sk-estimator-id-2\" class=\"sk-toggleable__label sk-toggleable__label-arrow\">estimator: BernoulliNB</label><div class=\"sk-toggleable__content\"><pre>BernoulliNB()</pre></div></div></div><div class=\"sk-serial\"><div class=\"sk-item\"><div class=\"sk-estimator sk-toggleable\"><input class=\"sk-toggleable__control sk-hidden--visually\" id=\"sk-estimator-id-3\" type=\"checkbox\" ><label for=\"sk-estimator-id-3\" class=\"sk-toggleable__label sk-toggleable__label-arrow\">BernoulliNB</label><div class=\"sk-toggleable__content\"><pre>BernoulliNB()</pre></div></div></div></div></div></div></div></div></div></div>"
      ],
      "text/plain": [
       "OneVsRestClassifier(estimator=BernoulliNB())"
      ]
     },
     "execution_count": 30,
     "metadata": {},
     "output_type": "execute_result"
    }
   ],
   "source": [
    "clf.fit(X_train_tvec, y_train)\n",
    "\n",
    "y_train_pred = clf.predict(X_train_tvec)\n",
    "y_test_pred = clf.predict(X_test_tvec)"
   ]
  },
  {
   "cell_type": "markdown",
   "id": "593dc6cb-cb4b-4528-b5ab-1e243aa01b45",
   "metadata": {},
   "source": [
    "#### Train Data performance"
   ]
  },
  {
   "cell_type": "code",
   "execution_count": 31,
   "id": "1a066e18-060b-4932-a339-26df3688abb3",
   "metadata": {},
   "outputs": [
    {
     "name": "stdout",
     "output_type": "stream",
     "text": [
      "                                                               precision    recall  f1-score   support\n",
      "\n",
      "                                              animal diseases       0.49      0.70      0.57     19557\n",
      "                  cardiovascular, haem and lymphatic diseases       0.68      0.59      0.63     30781\n",
      "congenital_hereditary_and neonatal diseases and abnormalities       0.22      0.03      0.05      5702\n",
      "                                    digestive system diseases       0.72      0.23      0.35     12407\n",
      "                                                 eye diseases       0.08      0.01      0.02      3064\n",
      "                                       immune system diseases       0.75      0.42      0.54     16609\n",
      "                                                   infections       0.84      0.79      0.82     37765\n",
      "                                     musculoskeletal diseases       0.76      0.29      0.42     13010\n",
      "                                                    neoplasms       0.90      0.77      0.83     41501\n",
      "                                      nervous system diseases       0.67      0.36      0.47     19049\n",
      "                   nutritional, metabolic, endocrine diseases       0.70      0.49      0.58     19527\n",
      "               otorhinolaryngologic & stomatognathic diseases       0.11      0.02      0.03      5220\n",
      "                   pathological conditions_signs and symptoms       0.82      0.83      0.83    111974\n",
      "                                   respiratory tract diseases       0.70      0.27      0.39     12994\n",
      "                          skin and connective tissue diseases       0.55      0.11      0.19     11708\n",
      "                                          urogenital diseases       0.63      0.43      0.51     20464\n",
      "             wounds,injuries, or chemically-induced disorders       0.68      0.22      0.34     15476\n",
      "\n",
      "                                                    micro avg       0.75      0.59      0.66    396808\n",
      "                                                    macro avg       0.61      0.39      0.44    396808\n",
      "                                                 weighted avg       0.73      0.59      0.63    396808\n",
      "                                                  samples avg       0.81      0.64      0.64    396808\n",
      "\n",
      "\n",
      "\n"
     ]
    }
   ],
   "source": [
    "print(classification_report(y_train, y_train_pred,zero_division=1,target_names=labels))\n",
    "print(\"\\n\")"
   ]
  },
  {
   "cell_type": "markdown",
   "id": "9fa50b09-4ad5-4849-8f9a-ba2430758808",
   "metadata": {},
   "source": [
    "#### Test Data performance"
   ]
  },
  {
   "cell_type": "code",
   "execution_count": 32,
   "id": "c486a427-c596-4f9c-88d6-e295c9eeba08",
   "metadata": {},
   "outputs": [
    {
     "name": "stdout",
     "output_type": "stream",
     "text": [
      "                                                               precision    recall  f1-score   support\n",
      "\n",
      "                                              animal diseases       0.47      0.63      0.54      6532\n",
      "                  cardiovascular, haem and lymphatic diseases       0.63      0.46      0.53     10260\n",
      "congenital_hereditary_and neonatal diseases and abnormalities       0.17      0.01      0.01      1900\n",
      "                                    digestive system diseases       0.73      0.09      0.15      4136\n",
      "                                                 eye diseases       0.00      0.00      0.00      1021\n",
      "                                       immune system diseases       0.76      0.26      0.39      5536\n",
      "                                                   infections       0.83      0.74      0.78     12588\n",
      "                                     musculoskeletal diseases       0.78      0.16      0.26      4336\n",
      "                                                    neoplasms       0.89      0.70      0.78     13834\n",
      "                                      nervous system diseases       0.61      0.19      0.29      6350\n",
      "                   nutritional, metabolic, endocrine diseases       0.70      0.35      0.46      6509\n",
      "               otorhinolaryngologic & stomatognathic diseases       0.10      0.01      0.01      1740\n",
      "                   pathological conditions_signs and symptoms       0.74      0.79      0.76     37325\n",
      "                                   respiratory tract diseases       0.66      0.12      0.21      4332\n",
      "                          skin and connective tissue diseases       0.41      0.03      0.06      3903\n",
      "                                          urogenital diseases       0.64      0.24      0.35      6822\n",
      "             wounds,injuries, or chemically-induced disorders       0.62      0.06      0.11      5159\n",
      "\n",
      "                                                    micro avg       0.72      0.50      0.59    132283\n",
      "                                                    macro avg       0.57      0.28      0.34    132283\n",
      "                                                 weighted avg       0.69      0.50      0.54    132283\n",
      "                                                  samples avg       0.78      0.55      0.57    132283\n",
      "\n",
      "\n",
      "\n"
     ]
    }
   ],
   "source": [
    "print(classification_report(y_test, y_test_pred,zero_division=1,target_names=labels))\n",
    "print(\"\\n\")"
   ]
  },
  {
   "cell_type": "markdown",
   "id": "617cf7f6-d343-43e3-8874-97fcad3cfb2a",
   "metadata": {},
   "source": [
    "#### **Comments**:<br>\n",
    "\n",
    "The goal for our model is to achieve samples avg precision and f1-score > 0.70.<br>\n",
    "\n",
    "\n",
    "|Model|Description|Train samples avg precision|Train samples avg f1-score|Test samples avg precision|Test samples avg f1-score|Remarks|\n",
    "|----|----|----|----|----|----|----|\n",
    "|Baseline Model|<li>Labels=23</li><li>Features: Abstract</li><li>BernoulliNB</li><li>TFIDF</li>|0.81|0.63|0.77|0.56|<li>Did not meet the targeted model performance</li><li>Sign of overfitting</li>|\n",
    "|Model 1|<li>Labels=17</li><li>Features: Inlcuded both title and abstract</li><li>BernoulliNB</li><li>TFIDF</li>|0.81|0.64|0.78|0.57|<li>Did not meet the targeted model performance</li><li>Sign of overfitting</li><li>There is some improvement from baseline model</li>|"
   ]
  },
  {
   "cell_type": "markdown",
   "id": "c29ff50b-cd73-4ca6-8ba2-708e4a4526b6",
   "metadata": {},
   "source": [
    "# Part 2: Models and Hyperparametertuning (GridSearch) <a class=\"anchor\" id=\"ID_2\"></a>"
   ]
  },
  {
   "cell_type": "code",
   "execution_count": 33,
   "id": "b3ddea30-fb96-448c-b38a-a8e7ff3d65d6",
   "metadata": {},
   "outputs": [],
   "source": [
    "X_train = X_train.loc[:,'combine']\n",
    "X_test = X_test.loc[:,'combine']"
   ]
  },
  {
   "cell_type": "markdown",
   "id": "6010067d-f755-4180-8451-14379b64e1e6",
   "metadata": {},
   "source": [
    "### BernoulliNB"
   ]
  },
  {
   "cell_type": "code",
   "execution_count": 36,
   "id": "9a4f828d-dc6b-4e33-bd6a-d77e7bdda879",
   "metadata": {
    "scrolled": true,
    "tags": []
   },
   "outputs": [
    {
     "name": "stdout",
     "output_type": "stream",
     "text": [
      "Fitting 3 folds for each of 24 candidates, totalling 72 fits\n",
      "[CV 1/3] END clf__estimator__alpha=0.1, tfidf__max_df=0.5, tfidf__max_features=100000, tfidf__min_df=1;, score=0.608 total time=  24.2s\n",
      "[CV 2/3] END clf__estimator__alpha=0.1, tfidf__max_df=0.5, tfidf__max_features=100000, tfidf__min_df=1;, score=0.609 total time=  23.5s\n",
      "[CV 3/3] END clf__estimator__alpha=0.1, tfidf__max_df=0.5, tfidf__max_features=100000, tfidf__min_df=1;, score=0.607 total time=  23.2s\n",
      "[CV 1/3] END clf__estimator__alpha=0.1, tfidf__max_df=0.5, tfidf__max_features=100000, tfidf__min_df=5;, score=0.601 total time=  23.2s\n",
      "[CV 2/3] END clf__estimator__alpha=0.1, tfidf__max_df=0.5, tfidf__max_features=100000, tfidf__min_df=5;, score=0.602 total time=  22.8s\n",
      "[CV 3/3] END clf__estimator__alpha=0.1, tfidf__max_df=0.5, tfidf__max_features=100000, tfidf__min_df=5;, score=0.600 total time=  22.7s\n",
      "[CV 1/3] END clf__estimator__alpha=0.1, tfidf__max_df=0.5, tfidf__max_features=100000, tfidf__min_df=10;, score=0.594 total time=  22.5s\n",
      "[CV 2/3] END clf__estimator__alpha=0.1, tfidf__max_df=0.5, tfidf__max_features=100000, tfidf__min_df=10;, score=0.595 total time=  22.5s\n",
      "[CV 3/3] END clf__estimator__alpha=0.1, tfidf__max_df=0.5, tfidf__max_features=100000, tfidf__min_df=10;, score=0.592 total time=  22.6s\n",
      "[CV 1/3] END clf__estimator__alpha=0.1, tfidf__max_df=0.5, tfidf__max_features=581245, tfidf__min_df=1;, score=0.627 total time=  24.6s\n",
      "[CV 2/3] END clf__estimator__alpha=0.1, tfidf__max_df=0.5, tfidf__max_features=581245, tfidf__min_df=1;, score=0.627 total time=  24.1s\n",
      "[CV 3/3] END clf__estimator__alpha=0.1, tfidf__max_df=0.5, tfidf__max_features=581245, tfidf__min_df=1;, score=0.625 total time=  24.1s\n",
      "[CV 1/3] END clf__estimator__alpha=0.1, tfidf__max_df=0.5, tfidf__max_features=581245, tfidf__min_df=5;, score=0.601 total time=  22.6s\n",
      "[CV 2/3] END clf__estimator__alpha=0.1, tfidf__max_df=0.5, tfidf__max_features=581245, tfidf__min_df=5;, score=0.602 total time=  22.7s\n",
      "[CV 3/3] END clf__estimator__alpha=0.1, tfidf__max_df=0.5, tfidf__max_features=581245, tfidf__min_df=5;, score=0.600 total time=  22.6s\n",
      "[CV 1/3] END clf__estimator__alpha=0.1, tfidf__max_df=0.5, tfidf__max_features=581245, tfidf__min_df=10;, score=0.594 total time=  22.5s\n",
      "[CV 2/3] END clf__estimator__alpha=0.1, tfidf__max_df=0.5, tfidf__max_features=581245, tfidf__min_df=10;, score=0.595 total time=  22.5s\n",
      "[CV 3/3] END clf__estimator__alpha=0.1, tfidf__max_df=0.5, tfidf__max_features=581245, tfidf__min_df=10;, score=0.592 total time=  22.5s\n",
      "[CV 1/3] END clf__estimator__alpha=0.1, tfidf__max_df=1, tfidf__max_features=100000, tfidf__min_df=1;, score=0.404 total time=  19.2s\n",
      "[CV 2/3] END clf__estimator__alpha=0.1, tfidf__max_df=1, tfidf__max_features=100000, tfidf__min_df=1;, score=0.408 total time=  19.0s\n",
      "[CV 3/3] END clf__estimator__alpha=0.1, tfidf__max_df=1, tfidf__max_features=100000, tfidf__min_df=1;, score=0.403 total time=  19.0s\n",
      "[CV 1/3] END clf__estimator__alpha=0.1, tfidf__max_df=1, tfidf__max_features=100000, tfidf__min_df=5;, score=nan total time=  11.6s\n",
      "[CV 2/3] END clf__estimator__alpha=0.1, tfidf__max_df=1, tfidf__max_features=100000, tfidf__min_df=5;, score=nan total time=  11.6s\n",
      "[CV 3/3] END clf__estimator__alpha=0.1, tfidf__max_df=1, tfidf__max_features=100000, tfidf__min_df=5;, score=nan total time=  11.8s\n",
      "[CV 1/3] END clf__estimator__alpha=0.1, tfidf__max_df=1, tfidf__max_features=100000, tfidf__min_df=10;, score=nan total time=  11.6s\n",
      "[CV 2/3] END clf__estimator__alpha=0.1, tfidf__max_df=1, tfidf__max_features=100000, tfidf__min_df=10;, score=nan total time=  11.6s\n",
      "[CV 3/3] END clf__estimator__alpha=0.1, tfidf__max_df=1, tfidf__max_features=100000, tfidf__min_df=10;, score=nan total time=  11.8s\n",
      "[CV 1/3] END clf__estimator__alpha=0.1, tfidf__max_df=1, tfidf__max_features=581245, tfidf__min_df=1;, score=0.394 total time=  19.9s\n",
      "[CV 2/3] END clf__estimator__alpha=0.1, tfidf__max_df=1, tfidf__max_features=581245, tfidf__min_df=1;, score=0.397 total time=  19.3s\n",
      "[CV 3/3] END clf__estimator__alpha=0.1, tfidf__max_df=1, tfidf__max_features=581245, tfidf__min_df=1;, score=0.390 total time=  19.4s\n",
      "[CV 1/3] END clf__estimator__alpha=0.1, tfidf__max_df=1, tfidf__max_features=581245, tfidf__min_df=5;, score=nan total time=  11.5s\n",
      "[CV 2/3] END clf__estimator__alpha=0.1, tfidf__max_df=1, tfidf__max_features=581245, tfidf__min_df=5;, score=nan total time=  11.6s\n",
      "[CV 3/3] END clf__estimator__alpha=0.1, tfidf__max_df=1, tfidf__max_features=581245, tfidf__min_df=5;, score=nan total time=  11.7s\n",
      "[CV 1/3] END clf__estimator__alpha=0.1, tfidf__max_df=1, tfidf__max_features=581245, tfidf__min_df=10;, score=nan total time=  11.7s\n",
      "[CV 2/3] END clf__estimator__alpha=0.1, tfidf__max_df=1, tfidf__max_features=581245, tfidf__min_df=10;, score=nan total time=  11.7s\n",
      "[CV 3/3] END clf__estimator__alpha=0.1, tfidf__max_df=1, tfidf__max_features=581245, tfidf__min_df=10;, score=nan total time=  11.9s\n",
      "[CV 1/3] END clf__estimator__alpha=1.0, tfidf__max_df=0.5, tfidf__max_features=100000, tfidf__min_df=1;, score=0.616 total time=  23.2s\n",
      "[CV 2/3] END clf__estimator__alpha=1.0, tfidf__max_df=0.5, tfidf__max_features=100000, tfidf__min_df=1;, score=0.616 total time=  22.9s\n",
      "[CV 3/3] END clf__estimator__alpha=1.0, tfidf__max_df=0.5, tfidf__max_features=100000, tfidf__min_df=1;, score=0.613 total time=  22.8s\n",
      "[CV 1/3] END clf__estimator__alpha=1.0, tfidf__max_df=0.5, tfidf__max_features=100000, tfidf__min_df=5;, score=0.603 total time=  22.7s\n",
      "[CV 2/3] END clf__estimator__alpha=1.0, tfidf__max_df=0.5, tfidf__max_features=100000, tfidf__min_df=5;, score=0.602 total time=  22.6s\n",
      "[CV 3/3] END clf__estimator__alpha=1.0, tfidf__max_df=0.5, tfidf__max_features=100000, tfidf__min_df=5;, score=0.601 total time=  22.7s\n",
      "[CV 1/3] END clf__estimator__alpha=1.0, tfidf__max_df=0.5, tfidf__max_features=100000, tfidf__min_df=10;, score=0.591 total time=  22.5s\n",
      "[CV 2/3] END clf__estimator__alpha=1.0, tfidf__max_df=0.5, tfidf__max_features=100000, tfidf__min_df=10;, score=0.591 total time=  22.5s\n",
      "[CV 3/3] END clf__estimator__alpha=1.0, tfidf__max_df=0.5, tfidf__max_features=100000, tfidf__min_df=10;, score=0.590 total time=  22.4s\n",
      "[CV 1/3] END clf__estimator__alpha=1.0, tfidf__max_df=0.5, tfidf__max_features=581245, tfidf__min_df=1;, score=0.553 total time=  24.3s\n",
      "[CV 2/3] END clf__estimator__alpha=1.0, tfidf__max_df=0.5, tfidf__max_features=581245, tfidf__min_df=1;, score=0.561 total time=  24.2s\n",
      "[CV 3/3] END clf__estimator__alpha=1.0, tfidf__max_df=0.5, tfidf__max_features=581245, tfidf__min_df=1;, score=0.552 total time=  24.2s\n",
      "[CV 1/3] END clf__estimator__alpha=1.0, tfidf__max_df=0.5, tfidf__max_features=581245, tfidf__min_df=5;, score=0.603 total time=  22.6s\n",
      "[CV 2/3] END clf__estimator__alpha=1.0, tfidf__max_df=0.5, tfidf__max_features=581245, tfidf__min_df=5;, score=0.602 total time=  22.5s\n",
      "[CV 3/3] END clf__estimator__alpha=1.0, tfidf__max_df=0.5, tfidf__max_features=581245, tfidf__min_df=5;, score=0.601 total time=  22.7s\n",
      "[CV 1/3] END clf__estimator__alpha=1.0, tfidf__max_df=0.5, tfidf__max_features=581245, tfidf__min_df=10;, score=0.591 total time=  22.7s\n",
      "[CV 2/3] END clf__estimator__alpha=1.0, tfidf__max_df=0.5, tfidf__max_features=581245, tfidf__min_df=10;, score=0.591 total time=  22.4s\n",
      "[CV 3/3] END clf__estimator__alpha=1.0, tfidf__max_df=0.5, tfidf__max_features=581245, tfidf__min_df=10;, score=0.590 total time=  22.4s\n",
      "[CV 1/3] END clf__estimator__alpha=1.0, tfidf__max_df=1, tfidf__max_features=100000, tfidf__min_df=1;, score=0.394 total time=  19.0s\n",
      "[CV 2/3] END clf__estimator__alpha=1.0, tfidf__max_df=1, tfidf__max_features=100000, tfidf__min_df=1;, score=0.401 total time=  18.9s\n",
      "[CV 3/3] END clf__estimator__alpha=1.0, tfidf__max_df=1, tfidf__max_features=100000, tfidf__min_df=1;, score=0.393 total time=  19.5s\n",
      "[CV 1/3] END clf__estimator__alpha=1.0, tfidf__max_df=1, tfidf__max_features=100000, tfidf__min_df=5;, score=nan total time=  11.8s\n",
      "[CV 2/3] END clf__estimator__alpha=1.0, tfidf__max_df=1, tfidf__max_features=100000, tfidf__min_df=5;, score=nan total time=  11.6s\n",
      "[CV 3/3] END clf__estimator__alpha=1.0, tfidf__max_df=1, tfidf__max_features=100000, tfidf__min_df=5;, score=nan total time=  11.8s\n",
      "[CV 1/3] END clf__estimator__alpha=1.0, tfidf__max_df=1, tfidf__max_features=100000, tfidf__min_df=10;, score=nan total time=  11.8s\n",
      "[CV 2/3] END clf__estimator__alpha=1.0, tfidf__max_df=1, tfidf__max_features=100000, tfidf__min_df=10;, score=nan total time=  11.8s\n",
      "[CV 3/3] END clf__estimator__alpha=1.0, tfidf__max_df=1, tfidf__max_features=100000, tfidf__min_df=10;, score=nan total time=  11.9s\n",
      "[CV 1/3] END clf__estimator__alpha=1.0, tfidf__max_df=1, tfidf__max_features=581245, tfidf__min_df=1;, score=0.393 total time=  19.8s\n",
      "[CV 2/3] END clf__estimator__alpha=1.0, tfidf__max_df=1, tfidf__max_features=581245, tfidf__min_df=1;, score=0.399 total time=  19.4s\n",
      "[CV 3/3] END clf__estimator__alpha=1.0, tfidf__max_df=1, tfidf__max_features=581245, tfidf__min_df=1;, score=0.392 total time=  19.5s\n",
      "[CV 1/3] END clf__estimator__alpha=1.0, tfidf__max_df=1, tfidf__max_features=581245, tfidf__min_df=5;, score=nan total time=  11.6s\n",
      "[CV 2/3] END clf__estimator__alpha=1.0, tfidf__max_df=1, tfidf__max_features=581245, tfidf__min_df=5;, score=nan total time=  11.6s\n",
      "[CV 3/3] END clf__estimator__alpha=1.0, tfidf__max_df=1, tfidf__max_features=581245, tfidf__min_df=5;, score=nan total time=  11.7s\n",
      "[CV 1/3] END clf__estimator__alpha=1.0, tfidf__max_df=1, tfidf__max_features=581245, tfidf__min_df=10;, score=nan total time=  11.9s\n",
      "[CV 2/3] END clf__estimator__alpha=1.0, tfidf__max_df=1, tfidf__max_features=581245, tfidf__min_df=10;, score=nan total time=  11.7s\n",
      "[CV 3/3] END clf__estimator__alpha=1.0, tfidf__max_df=1, tfidf__max_features=581245, tfidf__min_df=10;, score=nan total time=  11.8s\n"
     ]
    },
    {
     "name": "stderr",
     "output_type": "stream",
     "text": [
      "C:\\Users\\geok1\\.conda\\envs\\dsi-sg\\lib\\site-packages\\sklearn\\model_selection\\_validation.py:378: FitFailedWarning: \n",
      "24 fits failed out of a total of 72.\n",
      "The score on these train-test partitions for these parameters will be set to nan.\n",
      "If these failures are not expected, you can try to debug them by setting error_score='raise'.\n",
      "\n",
      "Below are more details about the failures:\n",
      "--------------------------------------------------------------------------------\n",
      "24 fits failed with the following error:\n",
      "Traceback (most recent call last):\n",
      "  File \"C:\\Users\\geok1\\.conda\\envs\\dsi-sg\\lib\\site-packages\\sklearn\\model_selection\\_validation.py\", line 686, in _fit_and_score\n",
      "    estimator.fit(X_train, y_train, **fit_params)\n",
      "  File \"C:\\Users\\geok1\\.conda\\envs\\dsi-sg\\lib\\site-packages\\sklearn\\pipeline.py\", line 378, in fit\n",
      "    Xt = self._fit(X, y, **fit_params_steps)\n",
      "  File \"C:\\Users\\geok1\\.conda\\envs\\dsi-sg\\lib\\site-packages\\sklearn\\pipeline.py\", line 336, in _fit\n",
      "    X, fitted_transformer = fit_transform_one_cached(\n",
      "  File \"C:\\Users\\geok1\\.conda\\envs\\dsi-sg\\lib\\site-packages\\joblib\\memory.py\", line 349, in __call__\n",
      "    return self.func(*args, **kwargs)\n",
      "  File \"C:\\Users\\geok1\\.conda\\envs\\dsi-sg\\lib\\site-packages\\sklearn\\pipeline.py\", line 870, in _fit_transform_one\n",
      "    res = transformer.fit_transform(X, y, **fit_params)\n",
      "  File \"C:\\Users\\geok1\\.conda\\envs\\dsi-sg\\lib\\site-packages\\sklearn\\feature_extraction\\text.py\", line 2079, in fit_transform\n",
      "    X = super().fit_transform(raw_documents)\n",
      "  File \"C:\\Users\\geok1\\.conda\\envs\\dsi-sg\\lib\\site-packages\\sklearn\\feature_extraction\\text.py\", line 1352, in fit_transform\n",
      "    raise ValueError(\"max_df corresponds to < documents than min_df\")\n",
      "ValueError: max_df corresponds to < documents than min_df\n",
      "\n",
      "  warnings.warn(some_fits_failed_message, FitFailedWarning)\n",
      "C:\\Users\\geok1\\.conda\\envs\\dsi-sg\\lib\\site-packages\\sklearn\\model_selection\\_search.py:953: UserWarning: One or more of the test scores are non-finite: [0.60787739 0.60122432 0.59374613 0.62625599 0.60122432 0.59374613\n",
      " 0.40502328        nan        nan 0.39348925        nan        nan\n",
      " 0.61515354 0.60188471 0.59064107 0.55534433 0.60188471 0.59064107\n",
      " 0.39611992        nan        nan 0.39446714        nan        nan]\n",
      "  warnings.warn(\n"
     ]
    },
    {
     "name": "stdout",
     "output_type": "stream",
     "text": [
      "CPU times: total: 22min 41s\n",
      "Wall time: 22min 55s\n"
     ]
    },
    {
     "data": {
      "text/html": [
       "<style>#sk-container-id-2 {color: black;background-color: white;}#sk-container-id-2 pre{padding: 0;}#sk-container-id-2 div.sk-toggleable {background-color: white;}#sk-container-id-2 label.sk-toggleable__label {cursor: pointer;display: block;width: 100%;margin-bottom: 0;padding: 0.3em;box-sizing: border-box;text-align: center;}#sk-container-id-2 label.sk-toggleable__label-arrow:before {content: \"▸\";float: left;margin-right: 0.25em;color: #696969;}#sk-container-id-2 label.sk-toggleable__label-arrow:hover:before {color: black;}#sk-container-id-2 div.sk-estimator:hover label.sk-toggleable__label-arrow:before {color: black;}#sk-container-id-2 div.sk-toggleable__content {max-height: 0;max-width: 0;overflow: hidden;text-align: left;background-color: #f0f8ff;}#sk-container-id-2 div.sk-toggleable__content pre {margin: 0.2em;color: black;border-radius: 0.25em;background-color: #f0f8ff;}#sk-container-id-2 input.sk-toggleable__control:checked~div.sk-toggleable__content {max-height: 200px;max-width: 100%;overflow: auto;}#sk-container-id-2 input.sk-toggleable__control:checked~label.sk-toggleable__label-arrow:before {content: \"▾\";}#sk-container-id-2 div.sk-estimator input.sk-toggleable__control:checked~label.sk-toggleable__label {background-color: #d4ebff;}#sk-container-id-2 div.sk-label input.sk-toggleable__control:checked~label.sk-toggleable__label {background-color: #d4ebff;}#sk-container-id-2 input.sk-hidden--visually {border: 0;clip: rect(1px 1px 1px 1px);clip: rect(1px, 1px, 1px, 1px);height: 1px;margin: -1px;overflow: hidden;padding: 0;position: absolute;width: 1px;}#sk-container-id-2 div.sk-estimator {font-family: monospace;background-color: #f0f8ff;border: 1px dotted black;border-radius: 0.25em;box-sizing: border-box;margin-bottom: 0.5em;}#sk-container-id-2 div.sk-estimator:hover {background-color: #d4ebff;}#sk-container-id-2 div.sk-parallel-item::after {content: \"\";width: 100%;border-bottom: 1px solid gray;flex-grow: 1;}#sk-container-id-2 div.sk-label:hover label.sk-toggleable__label {background-color: #d4ebff;}#sk-container-id-2 div.sk-serial::before {content: \"\";position: absolute;border-left: 1px solid gray;box-sizing: border-box;top: 0;bottom: 0;left: 50%;z-index: 0;}#sk-container-id-2 div.sk-serial {display: flex;flex-direction: column;align-items: center;background-color: white;padding-right: 0.2em;padding-left: 0.2em;position: relative;}#sk-container-id-2 div.sk-item {position: relative;z-index: 1;}#sk-container-id-2 div.sk-parallel {display: flex;align-items: stretch;justify-content: center;background-color: white;position: relative;}#sk-container-id-2 div.sk-item::before, #sk-container-id-2 div.sk-parallel-item::before {content: \"\";position: absolute;border-left: 1px solid gray;box-sizing: border-box;top: 0;bottom: 0;left: 50%;z-index: -1;}#sk-container-id-2 div.sk-parallel-item {display: flex;flex-direction: column;z-index: 1;position: relative;background-color: white;}#sk-container-id-2 div.sk-parallel-item:first-child::after {align-self: flex-end;width: 50%;}#sk-container-id-2 div.sk-parallel-item:last-child::after {align-self: flex-start;width: 50%;}#sk-container-id-2 div.sk-parallel-item:only-child::after {width: 0;}#sk-container-id-2 div.sk-dashed-wrapped {border: 1px dashed gray;margin: 0 0.4em 0.5em 0.4em;box-sizing: border-box;padding-bottom: 0.4em;background-color: white;}#sk-container-id-2 div.sk-label label {font-family: monospace;font-weight: bold;display: inline-block;line-height: 1.2em;}#sk-container-id-2 div.sk-label-container {text-align: center;}#sk-container-id-2 div.sk-container {/* jupyter's `normalize.less` sets `[hidden] { display: none; }` but bootstrap.min.css set `[hidden] { display: none !important; }` so we also need the `!important` here to be able to override the default hidden behavior on the sphinx rendered scikit-learn.org. See: https://github.com/scikit-learn/scikit-learn/issues/21755 */display: inline-block !important;position: relative;}#sk-container-id-2 div.sk-text-repr-fallback {display: none;}</style><div id=\"sk-container-id-2\" class=\"sk-top-container\"><div class=\"sk-text-repr-fallback\"><pre>GridSearchCV(cv=3,\n",
       "             estimator=Pipeline(steps=[(&#x27;tfidf&#x27;, TfidfVectorizer()),\n",
       "                                       (&#x27;clf&#x27;,\n",
       "                                        OneVsRestClassifier(estimator=BernoulliNB()))]),\n",
       "             param_grid={&#x27;clf__estimator__alpha&#x27;: [0.1, 1.0],\n",
       "                         &#x27;tfidf__max_df&#x27;: [0.5, 1],\n",
       "                         &#x27;tfidf__max_features&#x27;: [100000, 581245],\n",
       "                         &#x27;tfidf__min_df&#x27;: [1, 5, 10]},\n",
       "             scoring=make_scorer(f1_score, average=samples), verbose=5)</pre><b>In a Jupyter environment, please rerun this cell to show the HTML representation or trust the notebook. <br />On GitHub, the HTML representation is unable to render, please try loading this page with nbviewer.org.</b></div><div class=\"sk-container\" hidden><div class=\"sk-item sk-dashed-wrapped\"><div class=\"sk-label-container\"><div class=\"sk-label sk-toggleable\"><input class=\"sk-toggleable__control sk-hidden--visually\" id=\"sk-estimator-id-4\" type=\"checkbox\" ><label for=\"sk-estimator-id-4\" class=\"sk-toggleable__label sk-toggleable__label-arrow\">GridSearchCV</label><div class=\"sk-toggleable__content\"><pre>GridSearchCV(cv=3,\n",
       "             estimator=Pipeline(steps=[(&#x27;tfidf&#x27;, TfidfVectorizer()),\n",
       "                                       (&#x27;clf&#x27;,\n",
       "                                        OneVsRestClassifier(estimator=BernoulliNB()))]),\n",
       "             param_grid={&#x27;clf__estimator__alpha&#x27;: [0.1, 1.0],\n",
       "                         &#x27;tfidf__max_df&#x27;: [0.5, 1],\n",
       "                         &#x27;tfidf__max_features&#x27;: [100000, 581245],\n",
       "                         &#x27;tfidf__min_df&#x27;: [1, 5, 10]},\n",
       "             scoring=make_scorer(f1_score, average=samples), verbose=5)</pre></div></div></div><div class=\"sk-parallel\"><div class=\"sk-parallel-item\"><div class=\"sk-item\"><div class=\"sk-label-container\"><div class=\"sk-label sk-toggleable\"><input class=\"sk-toggleable__control sk-hidden--visually\" id=\"sk-estimator-id-5\" type=\"checkbox\" ><label for=\"sk-estimator-id-5\" class=\"sk-toggleable__label sk-toggleable__label-arrow\">estimator: Pipeline</label><div class=\"sk-toggleable__content\"><pre>Pipeline(steps=[(&#x27;tfidf&#x27;, TfidfVectorizer()),\n",
       "                (&#x27;clf&#x27;, OneVsRestClassifier(estimator=BernoulliNB()))])</pre></div></div></div><div class=\"sk-serial\"><div class=\"sk-item\"><div class=\"sk-serial\"><div class=\"sk-item\"><div class=\"sk-estimator sk-toggleable\"><input class=\"sk-toggleable__control sk-hidden--visually\" id=\"sk-estimator-id-6\" type=\"checkbox\" ><label for=\"sk-estimator-id-6\" class=\"sk-toggleable__label sk-toggleable__label-arrow\">TfidfVectorizer</label><div class=\"sk-toggleable__content\"><pre>TfidfVectorizer()</pre></div></div></div><div class=\"sk-item sk-dashed-wrapped\"><div class=\"sk-label-container\"><div class=\"sk-label sk-toggleable\"><input class=\"sk-toggleable__control sk-hidden--visually\" id=\"sk-estimator-id-7\" type=\"checkbox\" ><label for=\"sk-estimator-id-7\" class=\"sk-toggleable__label sk-toggleable__label-arrow\">clf: OneVsRestClassifier</label><div class=\"sk-toggleable__content\"><pre>OneVsRestClassifier(estimator=BernoulliNB())</pre></div></div></div><div class=\"sk-parallel\"><div class=\"sk-parallel-item\"><div class=\"sk-item\"><div class=\"sk-label-container\"><div class=\"sk-label sk-toggleable\"><input class=\"sk-toggleable__control sk-hidden--visually\" id=\"sk-estimator-id-8\" type=\"checkbox\" ><label for=\"sk-estimator-id-8\" class=\"sk-toggleable__label sk-toggleable__label-arrow\">estimator: BernoulliNB</label><div class=\"sk-toggleable__content\"><pre>BernoulliNB()</pre></div></div></div><div class=\"sk-serial\"><div class=\"sk-item\"><div class=\"sk-estimator sk-toggleable\"><input class=\"sk-toggleable__control sk-hidden--visually\" id=\"sk-estimator-id-9\" type=\"checkbox\" ><label for=\"sk-estimator-id-9\" class=\"sk-toggleable__label sk-toggleable__label-arrow\">BernoulliNB</label><div class=\"sk-toggleable__content\"><pre>BernoulliNB()</pre></div></div></div></div></div></div></div></div></div></div></div></div></div></div></div></div></div>"
      ],
      "text/plain": [
       "GridSearchCV(cv=3,\n",
       "             estimator=Pipeline(steps=[('tfidf', TfidfVectorizer()),\n",
       "                                       ('clf',\n",
       "                                        OneVsRestClassifier(estimator=BernoulliNB()))]),\n",
       "             param_grid={'clf__estimator__alpha': [0.1, 1.0],\n",
       "                         'tfidf__max_df': [0.5, 1],\n",
       "                         'tfidf__max_features': [100000, 581245],\n",
       "                         'tfidf__min_df': [1, 5, 10]},\n",
       "             scoring=make_scorer(f1_score, average=samples), verbose=5)"
      ]
     },
     "execution_count": 36,
     "metadata": {},
     "output_type": "execute_result"
    }
   ],
   "source": [
    "%%time\n",
    "# Define the pipeline\n",
    "pipeline = Pipeline([\n",
    "    ('tfidf', TfidfVectorizer()),\n",
    "    ('clf', OneVsRestClassifier(BernoulliNB()))\n",
    "])\n",
    "\n",
    "# Define the hyperparameters to search over\n",
    "parameters = {\n",
    "    'tfidf__min_df': [1,5,10],\n",
    "    'tfidf__max_df': [0.5,1],\n",
    "    'tfidf__max_features': [100000, 581245],\n",
    "    'clf__estimator__alpha': [0.1,1.0]\n",
    "}\n",
    "# Define scoring metric\n",
    "scoring = make_scorer(f1_score, average='samples')\n",
    "\n",
    "# Perform grid search cross-validation\n",
    "grid_search_1 = GridSearchCV(pipeline, parameters, cv=3, verbose=5, scoring=scoring)\n",
    "grid_search_1.fit(X_train, y_train)"
   ]
  },
  {
   "cell_type": "code",
   "execution_count": 37,
   "id": "d6b5f282-3b7b-4290-95bf-2e526a71977a",
   "metadata": {},
   "outputs": [
    {
     "name": "stdout",
     "output_type": "stream",
     "text": [
      "Best parameters:  {'clf__estimator__alpha': 0.1, 'tfidf__max_df': 0.5, 'tfidf__max_features': 581245, 'tfidf__min_df': 1}\n",
      "Best score:  0.6262559915123315\n"
     ]
    }
   ],
   "source": [
    "print(\"Best parameters: \", grid_search_1.best_params_)\n",
    "print(\"Best score: \", grid_search_1.best_score_)"
   ]
  },
  {
   "cell_type": "code",
   "execution_count": 38,
   "id": "17abadcc-e3a8-4936-81ef-139cec679f9c",
   "metadata": {},
   "outputs": [],
   "source": [
    "y_train_pred = grid_search_1.predict(X_train)\n",
    "y_test_pred = grid_search_1.predict(X_test)"
   ]
  },
  {
   "cell_type": "markdown",
   "id": "d8238531-221d-4a79-b602-64f604c4ba69",
   "metadata": {},
   "source": [
    "#### Train Data performance"
   ]
  },
  {
   "cell_type": "code",
   "execution_count": 39,
   "id": "ec40c098-fccc-4c9b-ac2a-2a7657528d13",
   "metadata": {
    "tags": []
   },
   "outputs": [
    {
     "name": "stdout",
     "output_type": "stream",
     "text": [
      "                                                               precision    recall  f1-score   support\n",
      "\n",
      "                                              animal diseases       0.41      0.92      0.57     19557\n",
      "                  cardiovascular, haem and lymphatic diseases       0.66      0.89      0.76     30781\n",
      "congenital_hereditary_and neonatal diseases and abnormalities       0.39      0.87      0.53      5702\n",
      "                                    digestive system diseases       0.65      0.92      0.76     12407\n",
      "                                                 eye diseases       0.57      0.87      0.69      3064\n",
      "                                       immune system diseases       0.54      0.91      0.68     16609\n",
      "                                                   infections       0.83      0.91      0.87     37765\n",
      "                                     musculoskeletal diseases       0.72      0.91      0.80     13010\n",
      "                                                    neoplasms       0.87      0.90      0.89     41501\n",
      "                                      nervous system diseases       0.54      0.90      0.68     19049\n",
      "                   nutritional, metabolic, endocrine diseases       0.62      0.87      0.72     19527\n",
      "               otorhinolaryngologic & stomatognathic diseases       0.55      0.87      0.68      5220\n",
      "                   pathological conditions_signs and symptoms       0.91      0.85      0.88    111974\n",
      "                                   respiratory tract diseases       0.56      0.91      0.69     12994\n",
      "                          skin and connective tissue diseases       0.59      0.91      0.72     11708\n",
      "                                          urogenital diseases       0.49      0.86      0.63     20464\n",
      "             wounds,injuries, or chemically-induced disorders       0.54      0.87      0.66     15476\n",
      "\n",
      "                                                    micro avg       0.67      0.88      0.76    396808\n",
      "                                                    macro avg       0.61      0.89      0.72    396808\n",
      "                                                 weighted avg       0.72      0.88      0.78    396808\n",
      "                                                  samples avg       0.71      0.90      0.75    396808\n",
      "\n",
      "\n",
      "\n"
     ]
    }
   ],
   "source": [
    "print(classification_report(y_train, y_train_pred,zero_division=1,target_names=labels))\n",
    "print(\"\\n\")"
   ]
  },
  {
   "cell_type": "markdown",
   "id": "3e7f0c1c-412e-4a16-a7ea-4d17f9ca4a16",
   "metadata": {},
   "source": [
    "#### Test Data performance"
   ]
  },
  {
   "cell_type": "code",
   "execution_count": 40,
   "id": "3841e299-2889-4f64-962e-efa41dce7015",
   "metadata": {
    "tags": []
   },
   "outputs": [
    {
     "name": "stdout",
     "output_type": "stream",
     "text": [
      "                                                               precision    recall  f1-score   support\n",
      "\n",
      "                                              animal diseases       0.38      0.86      0.52      6532\n",
      "                  cardiovascular, haem and lymphatic diseases       0.54      0.72      0.61     10260\n",
      "congenital_hereditary_and neonatal diseases and abnormalities       0.30      0.55      0.39      1900\n",
      "                                    digestive system diseases       0.57      0.72      0.64      4136\n",
      "                                                 eye diseases       0.57      0.61      0.59      1021\n",
      "                                       immune system diseases       0.45      0.76      0.57      5536\n",
      "                                                   infections       0.77      0.83      0.80     12588\n",
      "                                     musculoskeletal diseases       0.61      0.68      0.64      4336\n",
      "                                                    neoplasms       0.79      0.79      0.79     13834\n",
      "                                      nervous system diseases       0.42      0.67      0.52      6350\n",
      "                   nutritional, metabolic, endocrine diseases       0.51      0.70      0.59      6509\n",
      "               otorhinolaryngologic & stomatognathic diseases       0.50      0.58      0.54      1740\n",
      "                   pathological conditions_signs and symptoms       0.77      0.72      0.74     37325\n",
      "                                   respiratory tract diseases       0.47      0.73      0.57      4332\n",
      "                          skin and connective tissue diseases       0.46      0.61      0.52      3903\n",
      "                                          urogenital diseases       0.37      0.66      0.48      6822\n",
      "             wounds,injuries, or chemically-induced disorders       0.38      0.61      0.47      5159\n",
      "\n",
      "                                                    micro avg       0.57      0.72      0.64    132283\n",
      "                                                    macro avg       0.52      0.69      0.59    132283\n",
      "                                                 weighted avg       0.61      0.72      0.65    132283\n",
      "                                                  samples avg       0.62      0.76      0.62    132283\n",
      "\n",
      "\n",
      "\n"
     ]
    }
   ],
   "source": [
    "print(classification_report(y_test, y_test_pred,zero_division=1,target_names=labels))\n",
    "print(\"\\n\")"
   ]
  },
  {
   "cell_type": "markdown",
   "id": "fe509304-62e4-4608-9a37-35139730e986",
   "metadata": {},
   "source": [
    "#### **Comments**:<br>\n",
    "\n",
    "The goal for our model is to achieve samples avg precision and f1-score > 0.70.<br>\n",
    "\n",
    "\n",
    "|Model|Description|Train samples avg precision|Train samples avg f1-score|Test samples avg precision|Test samples avg f1-score|Remarks|\n",
    "|----|----|----|----|----|----|----|\n",
    "|Baseline Model|<li>Labels=23</li><li>Features: Abstract</li><li>OneVsRestClassifier(BernoulliNB)</li><li>TFIDF</li>|0.81|0.63|0.77|0.56|<li>Did not meet the targeted model performance</li><li>Sign of overfitting</li>|\n",
    "|Model 1|<li>Labels=17</li><li>Features: Inlcuded both title and abstract</li><li>OneVsRestClassifier(BernoulliNB)</li><li>TFIDF</li>|0.81|0.64|0.78|0.57|<li>Did not meet the targeted model performance</li><li>Sign of overfitting</li><li>There is some improvement from baseline model</li>|\n",
    "|Model 2|<li>Labels=17</li><li>Features: Inlcuded both title and abstract</li><li>OneVsRestClassifier(BernoulliNB)</li><li>TFIDF</li><li>GridSearchCV used</li>|0.71|0.75|0.62|0.62|<li>Did not meet the targeted model performance</li><li>Sign of overfitting</li><li>There is some improvement from baseline model</li>|"
   ]
  },
  {
   "cell_type": "markdown",
   "id": "1d83078e-d9db-46d7-b78f-437eb568518f",
   "metadata": {},
   "source": [
    "### MultinomialNB"
   ]
  },
  {
   "cell_type": "code",
   "execution_count": 41,
   "id": "9c1988ae-fdc5-438c-a4c4-8fcd94e29d03",
   "metadata": {
    "scrolled": true,
    "tags": []
   },
   "outputs": [
    {
     "name": "stdout",
     "output_type": "stream",
     "text": [
      "Fitting 3 folds for each of 16 candidates, totalling 48 fits\n",
      "[CV 1/3] END clf__estimator__alpha=0.1, tfidf__max_df=0.5, tfidf__max_features=100000, tfidf__min_df=1;, score=0.663 total time=  21.4s\n",
      "[CV 2/3] END clf__estimator__alpha=0.1, tfidf__max_df=0.5, tfidf__max_features=100000, tfidf__min_df=1;, score=0.669 total time=  21.3s\n",
      "[CV 3/3] END clf__estimator__alpha=0.1, tfidf__max_df=0.5, tfidf__max_features=100000, tfidf__min_df=1;, score=0.666 total time=  21.2s\n",
      "[CV 1/3] END clf__estimator__alpha=0.1, tfidf__max_df=0.5, tfidf__max_features=100000, tfidf__min_df=5;, score=0.671 total time=  21.0s\n",
      "[CV 2/3] END clf__estimator__alpha=0.1, tfidf__max_df=0.5, tfidf__max_features=100000, tfidf__min_df=5;, score=0.677 total time=  21.2s\n",
      "[CV 3/3] END clf__estimator__alpha=0.1, tfidf__max_df=0.5, tfidf__max_features=100000, tfidf__min_df=5;, score=0.673 total time=  21.0s\n",
      "[CV 1/3] END clf__estimator__alpha=0.1, tfidf__max_df=0.5, tfidf__max_features=581245, tfidf__min_df=1;, score=0.599 total time=  22.5s\n",
      "[CV 2/3] END clf__estimator__alpha=0.1, tfidf__max_df=0.5, tfidf__max_features=581245, tfidf__min_df=1;, score=0.607 total time=  22.3s\n",
      "[CV 3/3] END clf__estimator__alpha=0.1, tfidf__max_df=0.5, tfidf__max_features=581245, tfidf__min_df=1;, score=0.602 total time=  22.4s\n",
      "[CV 1/3] END clf__estimator__alpha=0.1, tfidf__max_df=0.5, tfidf__max_features=581245, tfidf__min_df=5;, score=0.671 total time=  21.1s\n",
      "[CV 2/3] END clf__estimator__alpha=0.1, tfidf__max_df=0.5, tfidf__max_features=581245, tfidf__min_df=5;, score=0.677 total time=  21.1s\n",
      "[CV 3/3] END clf__estimator__alpha=0.1, tfidf__max_df=0.5, tfidf__max_features=581245, tfidf__min_df=5;, score=0.673 total time=  20.9s\n",
      "[CV 1/3] END clf__estimator__alpha=0.1, tfidf__max_df=1, tfidf__max_features=100000, tfidf__min_df=1;, score=0.406 total time=  19.0s\n",
      "[CV 2/3] END clf__estimator__alpha=0.1, tfidf__max_df=1, tfidf__max_features=100000, tfidf__min_df=1;, score=0.409 total time=  18.9s\n",
      "[CV 3/3] END clf__estimator__alpha=0.1, tfidf__max_df=1, tfidf__max_features=100000, tfidf__min_df=1;, score=0.405 total time=  18.9s\n",
      "[CV 1/3] END clf__estimator__alpha=0.1, tfidf__max_df=1, tfidf__max_features=100000, tfidf__min_df=5;, score=nan total time=  11.6s\n",
      "[CV 2/3] END clf__estimator__alpha=0.1, tfidf__max_df=1, tfidf__max_features=100000, tfidf__min_df=5;, score=nan total time=  11.6s\n",
      "[CV 3/3] END clf__estimator__alpha=0.1, tfidf__max_df=1, tfidf__max_features=100000, tfidf__min_df=5;, score=nan total time=  11.9s\n",
      "[CV 1/3] END clf__estimator__alpha=0.1, tfidf__max_df=1, tfidf__max_features=581245, tfidf__min_df=1;, score=0.403 total time=  19.5s\n",
      "[CV 2/3] END clf__estimator__alpha=0.1, tfidf__max_df=1, tfidf__max_features=581245, tfidf__min_df=1;, score=0.404 total time=  19.1s\n",
      "[CV 3/3] END clf__estimator__alpha=0.1, tfidf__max_df=1, tfidf__max_features=581245, tfidf__min_df=1;, score=0.399 total time=  19.2s\n",
      "[CV 1/3] END clf__estimator__alpha=0.1, tfidf__max_df=1, tfidf__max_features=581245, tfidf__min_df=5;, score=nan total time=  11.6s\n",
      "[CV 2/3] END clf__estimator__alpha=0.1, tfidf__max_df=1, tfidf__max_features=581245, tfidf__min_df=5;, score=nan total time=  11.6s\n",
      "[CV 3/3] END clf__estimator__alpha=0.1, tfidf__max_df=1, tfidf__max_features=581245, tfidf__min_df=5;, score=nan total time=  11.8s\n",
      "[CV 1/3] END clf__estimator__alpha=1.0, tfidf__max_df=0.5, tfidf__max_features=100000, tfidf__min_df=1;, score=0.539 total time=  21.7s\n",
      "[CV 2/3] END clf__estimator__alpha=1.0, tfidf__max_df=0.5, tfidf__max_features=100000, tfidf__min_df=1;, score=0.549 total time=  21.0s\n",
      "[CV 3/3] END clf__estimator__alpha=1.0, tfidf__max_df=0.5, tfidf__max_features=100000, tfidf__min_df=1;, score=0.542 total time=  21.4s\n",
      "[CV 1/3] END clf__estimator__alpha=1.0, tfidf__max_df=0.5, tfidf__max_features=100000, tfidf__min_df=5;, score=0.590 total time=  21.1s\n",
      "[CV 2/3] END clf__estimator__alpha=1.0, tfidf__max_df=0.5, tfidf__max_features=100000, tfidf__min_df=5;, score=0.599 total time=  21.0s\n",
      "[CV 3/3] END clf__estimator__alpha=1.0, tfidf__max_df=0.5, tfidf__max_features=100000, tfidf__min_df=5;, score=0.594 total time=  21.0s\n",
      "[CV 1/3] END clf__estimator__alpha=1.0, tfidf__max_df=0.5, tfidf__max_features=581245, tfidf__min_df=1;, score=0.450 total time=  22.7s\n",
      "[CV 2/3] END clf__estimator__alpha=1.0, tfidf__max_df=0.5, tfidf__max_features=581245, tfidf__min_df=1;, score=0.460 total time=  22.3s\n",
      "[CV 3/3] END clf__estimator__alpha=1.0, tfidf__max_df=0.5, tfidf__max_features=581245, tfidf__min_df=1;, score=0.452 total time=  22.5s\n",
      "[CV 1/3] END clf__estimator__alpha=1.0, tfidf__max_df=0.5, tfidf__max_features=581245, tfidf__min_df=5;, score=0.590 total time=  21.0s\n",
      "[CV 2/3] END clf__estimator__alpha=1.0, tfidf__max_df=0.5, tfidf__max_features=581245, tfidf__min_df=5;, score=0.599 total time=  20.9s\n",
      "[CV 3/3] END clf__estimator__alpha=1.0, tfidf__max_df=0.5, tfidf__max_features=581245, tfidf__min_df=5;, score=0.594 total time=  21.0s\n",
      "[CV 1/3] END clf__estimator__alpha=1.0, tfidf__max_df=1, tfidf__max_features=100000, tfidf__min_df=1;, score=0.376 total time=  19.2s\n",
      "[CV 2/3] END clf__estimator__alpha=1.0, tfidf__max_df=1, tfidf__max_features=100000, tfidf__min_df=1;, score=0.379 total time=  18.9s\n",
      "[CV 3/3] END clf__estimator__alpha=1.0, tfidf__max_df=1, tfidf__max_features=100000, tfidf__min_df=1;, score=0.375 total time=  19.0s\n",
      "[CV 1/3] END clf__estimator__alpha=1.0, tfidf__max_df=1, tfidf__max_features=100000, tfidf__min_df=5;, score=nan total time=  11.6s\n",
      "[CV 2/3] END clf__estimator__alpha=1.0, tfidf__max_df=1, tfidf__max_features=100000, tfidf__min_df=5;, score=nan total time=  11.6s\n",
      "[CV 3/3] END clf__estimator__alpha=1.0, tfidf__max_df=1, tfidf__max_features=100000, tfidf__min_df=5;, score=nan total time=  11.8s\n",
      "[CV 1/3] END clf__estimator__alpha=1.0, tfidf__max_df=1, tfidf__max_features=581245, tfidf__min_df=1;, score=0.366 total time=  19.8s\n",
      "[CV 2/3] END clf__estimator__alpha=1.0, tfidf__max_df=1, tfidf__max_features=581245, tfidf__min_df=1;, score=0.370 total time=  19.2s\n",
      "[CV 3/3] END clf__estimator__alpha=1.0, tfidf__max_df=1, tfidf__max_features=581245, tfidf__min_df=1;, score=0.368 total time=  19.1s\n",
      "[CV 1/3] END clf__estimator__alpha=1.0, tfidf__max_df=1, tfidf__max_features=581245, tfidf__min_df=5;, score=nan total time=  11.6s\n",
      "[CV 2/3] END clf__estimator__alpha=1.0, tfidf__max_df=1, tfidf__max_features=581245, tfidf__min_df=5;, score=nan total time=  11.6s\n",
      "[CV 3/3] END clf__estimator__alpha=1.0, tfidf__max_df=1, tfidf__max_features=581245, tfidf__min_df=5;, score=nan total time=  11.8s\n"
     ]
    },
    {
     "name": "stderr",
     "output_type": "stream",
     "text": [
      "C:\\Users\\geok1\\.conda\\envs\\dsi-sg\\lib\\site-packages\\sklearn\\model_selection\\_validation.py:378: FitFailedWarning: \n",
      "12 fits failed out of a total of 48.\n",
      "The score on these train-test partitions for these parameters will be set to nan.\n",
      "If these failures are not expected, you can try to debug them by setting error_score='raise'.\n",
      "\n",
      "Below are more details about the failures:\n",
      "--------------------------------------------------------------------------------\n",
      "12 fits failed with the following error:\n",
      "Traceback (most recent call last):\n",
      "  File \"C:\\Users\\geok1\\.conda\\envs\\dsi-sg\\lib\\site-packages\\sklearn\\model_selection\\_validation.py\", line 686, in _fit_and_score\n",
      "    estimator.fit(X_train, y_train, **fit_params)\n",
      "  File \"C:\\Users\\geok1\\.conda\\envs\\dsi-sg\\lib\\site-packages\\sklearn\\pipeline.py\", line 378, in fit\n",
      "    Xt = self._fit(X, y, **fit_params_steps)\n",
      "  File \"C:\\Users\\geok1\\.conda\\envs\\dsi-sg\\lib\\site-packages\\sklearn\\pipeline.py\", line 336, in _fit\n",
      "    X, fitted_transformer = fit_transform_one_cached(\n",
      "  File \"C:\\Users\\geok1\\.conda\\envs\\dsi-sg\\lib\\site-packages\\joblib\\memory.py\", line 349, in __call__\n",
      "    return self.func(*args, **kwargs)\n",
      "  File \"C:\\Users\\geok1\\.conda\\envs\\dsi-sg\\lib\\site-packages\\sklearn\\pipeline.py\", line 870, in _fit_transform_one\n",
      "    res = transformer.fit_transform(X, y, **fit_params)\n",
      "  File \"C:\\Users\\geok1\\.conda\\envs\\dsi-sg\\lib\\site-packages\\sklearn\\feature_extraction\\text.py\", line 2079, in fit_transform\n",
      "    X = super().fit_transform(raw_documents)\n",
      "  File \"C:\\Users\\geok1\\.conda\\envs\\dsi-sg\\lib\\site-packages\\sklearn\\feature_extraction\\text.py\", line 1352, in fit_transform\n",
      "    raise ValueError(\"max_df corresponds to < documents than min_df\")\n",
      "ValueError: max_df corresponds to < documents than min_df\n",
      "\n",
      "  warnings.warn(some_fits_failed_message, FitFailedWarning)\n",
      "C:\\Users\\geok1\\.conda\\envs\\dsi-sg\\lib\\site-packages\\sklearn\\model_selection\\_search.py:953: UserWarning: One or more of the test scores are non-finite: [0.66605803 0.67347953 0.60267918 0.67347953 0.40692824        nan\n",
      " 0.40186834        nan 0.54331565 0.59410181 0.45402062 0.59410181\n",
      " 0.37644502        nan 0.36826018        nan]\n",
      "  warnings.warn(\n"
     ]
    },
    {
     "name": "stdout",
     "output_type": "stream",
     "text": [
      "Best parameters:  {'clf__estimator__alpha': 0.1, 'tfidf__max_df': 0.5, 'tfidf__max_features': 100000, 'tfidf__min_df': 5}\n",
      "Best score:  0.673479534249489\n",
      "CPU times: total: 15min 31s\n",
      "Wall time: 15min 40s\n"
     ]
    }
   ],
   "source": [
    "%%time\n",
    "# Define the pipeline\n",
    "pipeline = Pipeline([\n",
    "    ('tfidf', TfidfVectorizer()),\n",
    "    ('clf', OneVsRestClassifier(MultinomialNB()))\n",
    "])\n",
    "\n",
    "# Define the hyperparameters to search over\n",
    "parameters = {\n",
    "    'tfidf__min_df': [1,5],\n",
    "    'tfidf__max_df': [0.5,1],\n",
    "    'tfidf__max_features': [100000,581245],\n",
    "    'clf__estimator__alpha': [0.1,1.0]\n",
    "}\n",
    "# Define scoring metric\n",
    "scoring = make_scorer(f1_score, average='samples')\n",
    "\n",
    "# Perform grid search cross-validation\n",
    "grid_search_2 = GridSearchCV(pipeline, parameters, cv=3, verbose=5, scoring=scoring)\n",
    "grid_search_2.fit(X_train, y_train)\n",
    "\n",
    "print(\"Best parameters: \", grid_search_2.best_params_)\n",
    "print(\"Best score: \", grid_search_2.best_score_)\n",
    "\n",
    "y_train_pred = grid_search_2.predict(X_train)\n",
    "y_test_pred = grid_search_2.predict(X_test)"
   ]
  },
  {
   "cell_type": "markdown",
   "id": "ebe0b4bd-e7c6-4e8c-8d2c-b53523bcf3e0",
   "metadata": {},
   "source": [
    "#### Train Data performance"
   ]
  },
  {
   "cell_type": "code",
   "execution_count": 42,
   "id": "8be7ce6f-4a98-491d-95f0-b95def044ade",
   "metadata": {
    "tags": []
   },
   "outputs": [
    {
     "name": "stdout",
     "output_type": "stream",
     "text": [
      "                                                               precision    recall  f1-score   support\n",
      "\n",
      "                                              animal diseases       0.55      0.69      0.61     19557\n",
      "                  cardiovascular, haem and lymphatic diseases       0.75      0.65      0.69     30781\n",
      "congenital_hereditary_and neonatal diseases and abnormalities       0.74      0.43      0.55      5702\n",
      "                                    digestive system diseases       0.84      0.60      0.70     12407\n",
      "                                                 eye diseases       0.69      0.64      0.66      3064\n",
      "                                       immune system diseases       0.81      0.68      0.74     16609\n",
      "                                                   infections       0.88      0.81      0.84     37765\n",
      "                                     musculoskeletal diseases       0.86      0.59      0.70     13010\n",
      "                                                    neoplasms       0.91      0.76      0.83     41501\n",
      "                                      nervous system diseases       0.72      0.53      0.61     19049\n",
      "                   nutritional, metabolic, endocrine diseases       0.78      0.62      0.69     19527\n",
      "               otorhinolaryngologic & stomatognathic diseases       0.72      0.48      0.58      5220\n",
      "                   pathological conditions_signs and symptoms       0.79      0.85      0.82    111974\n",
      "                                   respiratory tract diseases       0.83      0.63      0.71     12994\n",
      "                          skin and connective tissue diseases       0.86      0.47      0.61     11708\n",
      "                                          urogenital diseases       0.79      0.50      0.61     20464\n",
      "             wounds,injuries, or chemically-induced disorders       0.86      0.42      0.57     15476\n",
      "\n",
      "                                                    micro avg       0.79      0.70      0.74    396808\n",
      "                                                    macro avg       0.79      0.61      0.68    396808\n",
      "                                                 weighted avg       0.80      0.70      0.74    396808\n",
      "                                                  samples avg       0.82      0.74      0.72    396808\n",
      "\n",
      "\n",
      "\n"
     ]
    }
   ],
   "source": [
    "print(classification_report(y_train, y_train_pred,zero_division=1,target_names=labels))\n",
    "print(\"\\n\")"
   ]
  },
  {
   "cell_type": "markdown",
   "id": "5b85d836-4c72-43cc-8278-13b120b3d6c4",
   "metadata": {},
   "source": [
    "#### Test Data performance"
   ]
  },
  {
   "cell_type": "code",
   "execution_count": 43,
   "id": "0e3b55bf-a79f-4ec2-acf9-49655ea43fbd",
   "metadata": {
    "tags": []
   },
   "outputs": [
    {
     "name": "stdout",
     "output_type": "stream",
     "text": [
      "                                                               precision    recall  f1-score   support\n",
      "\n",
      "                                              animal diseases       0.51      0.64      0.56      6532\n",
      "                  cardiovascular, haem and lymphatic diseases       0.71      0.60      0.65     10260\n",
      "congenital_hereditary_and neonatal diseases and abnormalities       0.65      0.31      0.42      1900\n",
      "                                    digestive system diseases       0.81      0.51      0.62      4136\n",
      "                                                 eye diseases       0.67      0.51      0.58      1021\n",
      "                                       immune system diseases       0.78      0.61      0.68      5536\n",
      "                                                   infections       0.86      0.79      0.82     12588\n",
      "                                     musculoskeletal diseases       0.82      0.50      0.62      4336\n",
      "                                                    neoplasms       0.90      0.73      0.80     13834\n",
      "                                      nervous system diseases       0.66      0.44      0.53      6350\n",
      "                   nutritional, metabolic, endocrine diseases       0.74      0.55      0.63      6509\n",
      "               otorhinolaryngologic & stomatognathic diseases       0.68      0.36      0.47      1740\n",
      "                   pathological conditions_signs and symptoms       0.75      0.83      0.79     37325\n",
      "                                   respiratory tract diseases       0.79      0.55      0.65      4332\n",
      "                          skin and connective tissue diseases       0.80      0.37      0.51      3903\n",
      "                                          urogenital diseases       0.74      0.41      0.52      6822\n",
      "             wounds,injuries, or chemically-induced disorders       0.81      0.34      0.47      5159\n",
      "\n",
      "                                                    micro avg       0.76      0.64      0.70    132283\n",
      "                                                    macro avg       0.75      0.53      0.61    132283\n",
      "                                                 weighted avg       0.76      0.64      0.69    132283\n",
      "                                                  samples avg       0.78      0.69      0.68    132283\n",
      "\n",
      "\n",
      "\n"
     ]
    }
   ],
   "source": [
    "print(classification_report(y_test, y_test_pred,zero_division=1,target_names=labels))\n",
    "print(\"\\n\")"
   ]
  },
  {
   "cell_type": "markdown",
   "id": "64ac58d1-f0fa-4590-a38d-018f4cbc0cd2",
   "metadata": {},
   "source": [
    "#### **Comments**:<br>\n",
    "\n",
    "The goal for our model is to achieve samples avg precision and f1-score > 0.70.<br>\n",
    "\n",
    "\n",
    "|Model|Description|Train samples avg precision|Train samples avg f1-score|Test samples avg precision|Test samples avg f1-score|Remarks|\n",
    "|----|----|----|----|----|----|----|\n",
    "|Baseline Model|<li>Labels=23</li><li>Features: Abstract</li><li>OneVsRestClassifier(BernoulliNB)</li><li>TFIDF</li>|0.81|0.63|0.77|0.56|<li>Did not meet the targeted model performance</li><li>Sign of overfitting</li>|\n",
    "|Model 1|<li>Labels=17</li><li>Features: Inlcuded both title and abstract</li><li>OneVsRestClassifier(BernoulliNB)</li><li>TFIDF</li>|0.81|0.64|0.78|0.57|<li>Did not meet the targeted model performance</li><li>Sign of overfitting</li><li>There is some improvement from baseline model</li>|\n",
    "|Model 2|<li>Labels=17</li><li>Features: Inlcuded both title and abstract</li><li>OneVsRestClassifier(BernoulliNB)</li><li>TFIDF</li><li>GridSearchCV used</li>|0.71|0.75|0.62|0.62|<li>Did not meet the targeted model performance</li><li>Sign of overfitting</li><li>There is some improvement from baseline model</li>|\n",
    "|Model 3|<li>Labels=17</li><li>Features: Inlcuded both title and abstract</li><li>OneVsRestClassifier(MultinomialNB)</li><li>TFIDF</li><li>GridSearchCV used</li>|0.82|0.72|0.78|0.68|<li>Did not meet the targeted model performance</li><li>There is improvement from previous models</li>|"
   ]
  },
  {
   "cell_type": "markdown",
   "id": "52a1235d-5cc8-456b-95ed-a2e35d12a951",
   "metadata": {},
   "source": [
    "### Logistic Regression 1"
   ]
  },
  {
   "cell_type": "code",
   "execution_count": 44,
   "id": "0882c93d-9ea1-425c-a29b-ad98d1671080",
   "metadata": {},
   "outputs": [
    {
     "name": "stdout",
     "output_type": "stream",
     "text": [
      "Fitting 3 folds for each of 6 candidates, totalling 18 fits\n",
      "[CV 1/3] END clf__estimator__C=0.1, tfidf__max_df=0.5, tfidf__max_features=100000, tfidf__min_df=5;, score=0.619 total time=  43.3s\n",
      "[CV 2/3] END clf__estimator__C=0.1, tfidf__max_df=0.5, tfidf__max_features=100000, tfidf__min_df=5;, score=0.622 total time=  44.9s\n",
      "[CV 3/3] END clf__estimator__C=0.1, tfidf__max_df=0.5, tfidf__max_features=100000, tfidf__min_df=5;, score=0.618 total time=  43.6s\n",
      "[CV 1/3] END clf__estimator__C=0.1, tfidf__max_df=0.5, tfidf__max_features=581245, tfidf__min_df=5;, score=0.619 total time=  43.6s\n",
      "[CV 2/3] END clf__estimator__C=0.1, tfidf__max_df=0.5, tfidf__max_features=581245, tfidf__min_df=5;, score=0.622 total time=  44.9s\n",
      "[CV 3/3] END clf__estimator__C=0.1, tfidf__max_df=0.5, tfidf__max_features=581245, tfidf__min_df=5;, score=0.618 total time=  43.6s\n",
      "[CV 1/3] END clf__estimator__C=1.0, tfidf__max_df=0.5, tfidf__max_features=100000, tfidf__min_df=5;, score=0.722 total time= 1.3min\n",
      "[CV 2/3] END clf__estimator__C=1.0, tfidf__max_df=0.5, tfidf__max_features=100000, tfidf__min_df=5;, score=0.726 total time= 1.3min\n",
      "[CV 3/3] END clf__estimator__C=1.0, tfidf__max_df=0.5, tfidf__max_features=100000, tfidf__min_df=5;, score=0.720 total time= 1.4min\n",
      "[CV 1/3] END clf__estimator__C=1.0, tfidf__max_df=0.5, tfidf__max_features=581245, tfidf__min_df=5;, score=0.722 total time= 1.3min\n",
      "[CV 2/3] END clf__estimator__C=1.0, tfidf__max_df=0.5, tfidf__max_features=581245, tfidf__min_df=5;, score=0.726 total time= 1.3min\n",
      "[CV 3/3] END clf__estimator__C=1.0, tfidf__max_df=0.5, tfidf__max_features=581245, tfidf__min_df=5;, score=0.720 total time= 1.4min\n",
      "[CV 1/3] END clf__estimator__C=10.0, tfidf__max_df=0.5, tfidf__max_features=100000, tfidf__min_df=5;, score=0.744 total time= 2.9min\n",
      "[CV 2/3] END clf__estimator__C=10.0, tfidf__max_df=0.5, tfidf__max_features=100000, tfidf__min_df=5;, score=0.745 total time= 2.8min\n",
      "[CV 3/3] END clf__estimator__C=10.0, tfidf__max_df=0.5, tfidf__max_features=100000, tfidf__min_df=5;, score=0.741 total time= 2.9min\n",
      "[CV 1/3] END clf__estimator__C=10.0, tfidf__max_df=0.5, tfidf__max_features=581245, tfidf__min_df=5;, score=0.744 total time= 2.9min\n",
      "[CV 2/3] END clf__estimator__C=10.0, tfidf__max_df=0.5, tfidf__max_features=581245, tfidf__min_df=5;, score=0.745 total time= 2.8min\n",
      "[CV 3/3] END clf__estimator__C=10.0, tfidf__max_df=0.5, tfidf__max_features=581245, tfidf__min_df=5;, score=0.741 total time= 2.9min\n",
      "Best parameters:  {'clf__estimator__C': 10.0, 'tfidf__max_df': 0.5, 'tfidf__max_features': 100000, 'tfidf__min_df': 5}\n",
      "Best score:  0.7430796792439532\n",
      "CPU times: total: 34min 53s\n",
      "Wall time: 35min 2s\n"
     ]
    }
   ],
   "source": [
    "%%time\n",
    "# Define the pipeline\n",
    "pipeline = Pipeline([\n",
    "    ('tfidf', TfidfVectorizer()),\n",
    "    ('clf', OneVsRestClassifier(LogisticRegression(max_iter=1000)))\n",
    "])\n",
    "\n",
    "# Define the hyperparameters to search over\n",
    "parameters = {\n",
    "    'tfidf__min_df': [5],\n",
    "    'tfidf__max_df': [0.5],\n",
    "    'tfidf__max_features': [100000,581245],\n",
    "    'clf__estimator__C': [0.1, 1.0, 10.0]\n",
    "}\n",
    "# Define scoring metric\n",
    "scoring = make_scorer(f1_score, average='samples')\n",
    "\n",
    "# Perform grid search cross-validation\n",
    "grid_search_3 = GridSearchCV(pipeline, parameters, cv=3, verbose=5, scoring=scoring)\n",
    "grid_search_3.fit(X_train, y_train)\n",
    "\n",
    "print(\"Best parameters: \", grid_search_3.best_params_)\n",
    "print(\"Best score: \", grid_search_3.best_score_)\n",
    "\n",
    "y_train_pred = grid_search_3.predict(X_train)\n",
    "y_test_pred = grid_search_3.predict(X_test)"
   ]
  },
  {
   "cell_type": "markdown",
   "id": "44e604c4-2ded-4970-9c5c-20100d888f67",
   "metadata": {},
   "source": [
    "#### Train Data performance"
   ]
  },
  {
   "cell_type": "code",
   "execution_count": 45,
   "id": "e1497b40-22ba-4b1e-8a37-1f31b9550cf6",
   "metadata": {
    "tags": []
   },
   "outputs": [
    {
     "name": "stdout",
     "output_type": "stream",
     "text": [
      "                                                               precision    recall  f1-score   support\n",
      "\n",
      "                                              animal diseases       0.87      0.76      0.81     19557\n",
      "                  cardiovascular, haem and lymphatic diseases       0.92      0.78      0.85     30781\n",
      "congenital_hereditary_and neonatal diseases and abnormalities       0.95      0.66      0.78      5702\n",
      "                                    digestive system diseases       0.94      0.79      0.86     12407\n",
      "                                                 eye diseases       0.96      0.82      0.88      3064\n",
      "                                       immune system diseases       0.96      0.82      0.88     16609\n",
      "                                                   infections       0.96      0.91      0.93     37765\n",
      "                                     musculoskeletal diseases       0.95      0.80      0.87     13010\n",
      "                                                    neoplasms       0.97      0.88      0.92     41501\n",
      "                                      nervous system diseases       0.93      0.74      0.82     19049\n",
      "                   nutritional, metabolic, endocrine diseases       0.93      0.77      0.85     19527\n",
      "               otorhinolaryngologic & stomatognathic diseases       0.94      0.76      0.84      5220\n",
      "                   pathological conditions_signs and symptoms       0.88      0.89      0.89    111974\n",
      "                                   respiratory tract diseases       0.96      0.81      0.88     12994\n",
      "                          skin and connective tissue diseases       0.95      0.75      0.84     11708\n",
      "                                          urogenital diseases       0.92      0.68      0.78     20464\n",
      "             wounds,injuries, or chemically-induced disorders       0.92      0.69      0.79     15476\n",
      "\n",
      "                                                    micro avg       0.92      0.82      0.87    396808\n",
      "                                                    macro avg       0.94      0.78      0.85    396808\n",
      "                                                 weighted avg       0.92      0.82      0.87    396808\n",
      "                                                  samples avg       0.93      0.86      0.86    396808\n",
      "\n",
      "\n",
      "\n"
     ]
    }
   ],
   "source": [
    "print(classification_report(y_train, y_train_pred,zero_division=1,target_names=labels))\n",
    "print(\"\\n\")"
   ]
  },
  {
   "cell_type": "markdown",
   "id": "6b4e68ef-2c37-480e-8559-9f0b8b06bcfc",
   "metadata": {},
   "source": [
    "#### Test Data performance"
   ]
  },
  {
   "cell_type": "code",
   "execution_count": 46,
   "id": "3fcba66b-d3ab-409d-b325-d476872a1ef6",
   "metadata": {
    "tags": []
   },
   "outputs": [
    {
     "name": "stdout",
     "output_type": "stream",
     "text": [
      "                                                               precision    recall  f1-score   support\n",
      "\n",
      "                                              animal diseases       0.71      0.59      0.64      6532\n",
      "                  cardiovascular, haem and lymphatic diseases       0.82      0.67      0.73     10260\n",
      "congenital_hereditary_and neonatal diseases and abnormalities       0.77      0.43      0.55      1900\n",
      "                                    digestive system diseases       0.85      0.63      0.73      4136\n",
      "                                                 eye diseases       0.84      0.58      0.68      1021\n",
      "                                       immune system diseases       0.89      0.73      0.80      5536\n",
      "                                                   infections       0.91      0.84      0.87     12588\n",
      "                                     musculoskeletal diseases       0.86      0.65      0.74      4336\n",
      "                                                    neoplasms       0.93      0.81      0.87     13834\n",
      "                                      nervous system diseases       0.82      0.59      0.69      6350\n",
      "                   nutritional, metabolic, endocrine diseases       0.85      0.65      0.74      6509\n",
      "               otorhinolaryngologic & stomatognathic diseases       0.81      0.55      0.66      1740\n",
      "                   pathological conditions_signs and symptoms       0.80      0.82      0.81     37325\n",
      "                                   respiratory tract diseases       0.87      0.69      0.77      4332\n",
      "                          skin and connective tissue diseases       0.84      0.60      0.70      3903\n",
      "                                          urogenital diseases       0.80      0.54      0.65      6822\n",
      "             wounds,injuries, or chemically-induced disorders       0.79      0.53      0.63      5159\n",
      "\n",
      "                                                    micro avg       0.83      0.71      0.77    132283\n",
      "                                                    macro avg       0.83      0.64      0.72    132283\n",
      "                                                 weighted avg       0.83      0.71      0.77    132283\n",
      "                                                  samples avg       0.86      0.76      0.75    132283\n",
      "\n",
      "\n",
      "\n"
     ]
    }
   ],
   "source": [
    "print(classification_report(y_test, y_test_pred,zero_division=1,target_names=labels))\n",
    "print(\"\\n\")"
   ]
  },
  {
   "cell_type": "markdown",
   "id": "d4e6f3ef-4545-4dba-b035-97c9fb7d5e98",
   "metadata": {},
   "source": [
    "#### **Comments**:<br>\n",
    "\n",
    "The goal for our model is to achieve samples avg precision and f1-score > 0.70.<br>\n",
    "\n",
    "\n",
    "|Model|Description|Train samples avg precision|Train samples avg f1-score|Test samples avg precision|Test samples avg f1-score|Remarks|\n",
    "|----|----|----|----|----|----|----|\n",
    "|Baseline Model|<li>Labels=23</li><li>Features: Abstract</li><li>OneVsRestClassifier(BernoulliNB)</li><li>TFIDF</li>|0.81|0.63|0.77|0.56|<li>Did not meet the targeted model performance</li><li>Sign of overfitting</li>|\n",
    "|Model 1|<li>Labels=17</li><li>Features: Inlcuded both title and abstract</li><li>OneVsRestClassifier(BernoulliNB)</li><li>TFIDF</li>|0.81|0.64|0.78|0.57|<li>Did not meet the targeted model performance</li><li>Sign of overfitting</li><li>There is some improvement from baseline model</li>|\n",
    "|Model 2|<li>Labels=17</li><li>Features: Inlcuded both title and abstract</li><li>OneVsRestClassifier(BernoulliNB)</li><li>TFIDF</li><li>GridSearchCV used</li>|0.71|0.75|0.62|0.62|<li>Did not meet the targeted model performance</li><li>Sign of overfitting</li><li>There is some improvement from baseline model</li>|\n",
    "|Model 3|<li>Labels=17</li><li>Features: Inlcuded both title and abstract</li><li>OneVsRestClassifier(MultinomialNB)</li><li>TFIDF</li><li>GridSearchCV used</li>|0.82|0.72|0.78|0.68|<li>Did not meet the targeted model performance</li><li>There is improvement from previous models</li>|\n",
    "|Model 4|<li>Labels=17</li><li>Features: Inlcuded both title and abstract</li><li>OneVsRestClassifier(LogisticRegression)</li><li>TFIDF</li><li>GridSearchCV used</li>|0.93|0.86|0.86|0.75|<li>There is improvement from previous models</li><li>Met the targeted metric performance BUT</li><li>Sign of overfitting</li>|"
   ]
  },
  {
   "cell_type": "markdown",
   "id": "fe957c37-2ce3-470c-919a-7ae0f2b7fbf9",
   "metadata": {
    "tags": []
   },
   "source": [
    "### Logistic Regression 2"
   ]
  },
  {
   "cell_type": "code",
   "execution_count": 47,
   "id": "43ee22eb-df67-4591-bf76-aaace49c7c27",
   "metadata": {
    "tags": []
   },
   "outputs": [
    {
     "name": "stdout",
     "output_type": "stream",
     "text": [
      "CPU times: total: 25.8 s\n",
      "Wall time: 26 s\n"
     ]
    }
   ],
   "source": [
    "%%time\n",
    "#vectorise X\n",
    "tvec = TfidfVectorizer(max_df=0.5,min_df=5,max_features=10000)\n",
    "X_train_tvec = tvec.fit_transform(X_train)\n",
    "X_test_tvec = tvec.transform(X_test)"
   ]
  },
  {
   "cell_type": "code",
   "execution_count": 48,
   "id": "ec2ee10b-9b53-4eb4-96cc-35e2936c60a4",
   "metadata": {},
   "outputs": [],
   "source": [
    "# Train the Naive Bayes classifier using the Binary Relevance method\n",
    "clf = OneVsRestClassifier(LogisticRegression(max_iter=1000,C=10))"
   ]
  },
  {
   "cell_type": "code",
   "execution_count": 49,
   "id": "1bfea7b3-817a-43b5-b1f4-95571767a386",
   "metadata": {},
   "outputs": [
    {
     "name": "stdout",
     "output_type": "stream",
     "text": [
      "CPU times: total: 2min 51s\n",
      "Wall time: 2min 52s\n"
     ]
    }
   ],
   "source": [
    "%%time\n",
    "clf.fit(X_train_tvec, y_train)\n",
    "\n",
    "y_train_pred = clf.predict(X_train_tvec)\n",
    "y_test_pred = clf.predict(X_test_tvec)"
   ]
  },
  {
   "cell_type": "code",
   "execution_count": 50,
   "id": "285debfe-7c4b-4c54-8222-0eae7439bf0d",
   "metadata": {},
   "outputs": [
    {
     "name": "stdout",
     "output_type": "stream",
     "text": [
      "                                                               precision    recall  f1-score   support\n",
      "\n",
      "                                              animal diseases       0.79      0.64      0.71     19557\n",
      "                  cardiovascular, haem and lymphatic diseases       0.87      0.71      0.78     30781\n",
      "congenital_hereditary_and neonatal diseases and abnormalities       0.85      0.47      0.61      5702\n",
      "                                    digestive system diseases       0.90      0.71      0.79     12407\n",
      "                                                 eye diseases       0.92      0.71      0.80      3064\n",
      "                                       immune system diseases       0.93      0.76      0.84     16609\n",
      "                                                   infections       0.94      0.86      0.89     37765\n",
      "                                     musculoskeletal diseases       0.91      0.71      0.80     13010\n",
      "                                                    neoplasms       0.95      0.84      0.89     41501\n",
      "                                      nervous system diseases       0.87      0.64      0.74     19049\n",
      "                   nutritional, metabolic, endocrine diseases       0.89      0.69      0.78     19527\n",
      "               otorhinolaryngologic & stomatognathic diseases       0.89      0.66      0.76      5220\n",
      "                   pathological conditions_signs and symptoms       0.83      0.85      0.84    111974\n",
      "                                   respiratory tract diseases       0.93      0.75      0.83     12994\n",
      "                          skin and connective tissue diseases       0.89      0.64      0.75     11708\n",
      "                                          urogenital diseases       0.86      0.59      0.70     20464\n",
      "             wounds,injuries, or chemically-induced disorders       0.86      0.59      0.70     15476\n",
      "\n",
      "                                                    micro avg       0.88      0.75      0.81    396808\n",
      "                                                    macro avg       0.89      0.69      0.78    396808\n",
      "                                                 weighted avg       0.88      0.75      0.81    396808\n",
      "                                                  samples avg       0.89      0.79      0.80    396808\n",
      "\n",
      "\n",
      "\n"
     ]
    }
   ],
   "source": [
    "print(classification_report(y_train, y_train_pred,zero_division=1,target_names=labels))\n",
    "print(\"\\n\")"
   ]
  },
  {
   "cell_type": "code",
   "execution_count": 51,
   "id": "35560b63-58bf-4314-b63a-124c49ea1ac2",
   "metadata": {},
   "outputs": [
    {
     "name": "stdout",
     "output_type": "stream",
     "text": [
      "                                                               precision    recall  f1-score   support\n",
      "\n",
      "                                              animal diseases       0.71      0.59      0.65      6532\n",
      "                  cardiovascular, haem and lymphatic diseases       0.82      0.66      0.73     10260\n",
      "congenital_hereditary_and neonatal diseases and abnormalities       0.67      0.37      0.48      1900\n",
      "                                    digestive system diseases       0.84      0.62      0.72      4136\n",
      "                                                 eye diseases       0.81      0.56      0.66      1021\n",
      "                                       immune system diseases       0.88      0.73      0.80      5536\n",
      "                                                   infections       0.90      0.83      0.86     12588\n",
      "                                     musculoskeletal diseases       0.85      0.64      0.73      4336\n",
      "                                                    neoplasms       0.93      0.81      0.86     13834\n",
      "                                      nervous system diseases       0.81      0.58      0.68      6350\n",
      "                   nutritional, metabolic, endocrine diseases       0.84      0.63      0.72      6509\n",
      "               otorhinolaryngologic & stomatognathic diseases       0.78      0.55      0.65      1740\n",
      "                   pathological conditions_signs and symptoms       0.80      0.82      0.81     37325\n",
      "                                   respiratory tract diseases       0.86      0.68      0.76      4332\n",
      "                          skin and connective tissue diseases       0.81      0.58      0.68      3903\n",
      "                                          urogenital diseases       0.80      0.53      0.64      6822\n",
      "             wounds,injuries, or chemically-induced disorders       0.77      0.52      0.62      5159\n",
      "\n",
      "                                                    micro avg       0.83      0.71      0.76    132283\n",
      "                                                    macro avg       0.82      0.63      0.71    132283\n",
      "                                                 weighted avg       0.83      0.71      0.76    132283\n",
      "                                                  samples avg       0.85      0.75      0.75    132283\n",
      "\n",
      "\n",
      "\n"
     ]
    }
   ],
   "source": [
    "print(classification_report(y_test, y_test_pred,zero_division=1,target_names=labels))\n",
    "print(\"\\n\")"
   ]
  },
  {
   "cell_type": "markdown",
   "id": "4a0361ba-f689-492a-9ce8-859d82bb0e32",
   "metadata": {},
   "source": [
    "#### **Comments**:<br>\n",
    "\n",
    "The goal for our model is to achieve samples avg precision and f1-score > 0.70.<br>\n",
    "\n",
    "\n",
    "|Model|Description|Train samples avg precision|Train samples avg f1-score|Test samples avg precision|Test samples avg f1-score|Remarks|\n",
    "|----|----|----|----|----|----|----|\n",
    "|Baseline Model|<li>Labels=23</li><li>Features: Abstract</li><li>OneVsRestClassifier(BernoulliNB)</li><li>TFIDF</li>|0.81|0.63|0.77|0.56|<li>Did not meet the targeted model performance</li><li>Sign of overfitting</li>|\n",
    "|Model 1|<li>Labels=17</li><li>Features: Inlcuded both title and abstract</li><li>OneVsRestClassifier(BernoulliNB)</li><li>TFIDF</li>|0.81|0.64|0.78|0.57|<li>Did not meet the targeted model performance</li><li>Sign of overfitting</li><li>There is some improvement from baseline model</li>|\n",
    "|Model 2|<li>Labels=17</li><li>Features: Inlcuded both title and abstract</li><li>OneVsRestClassifier(BernoulliNB)</li><li>TFIDF</li><li>GridSearchCV used</li>|0.71|0.75|0.62|0.62|<li>Did not meet the targeted model performance</li><li>Sign of overfitting</li><li>There is some improvement from baseline model</li>|\n",
    "|Model 3|<li>Labels=17</li><li>Features: Inlcuded both title and abstract</li><li>OneVsRestClassifier(MultinomialNB)</li><li>TFIDF</li><li>GridSearchCV used</li>|0.82|0.72|0.78|0.68|<li>Did not meet the targeted model performance</li><li>There is improvement from previous models</li>|\n",
    "|Model 4|<li>Labels=17</li><li>Features: Inlcuded both title and abstract</li><li>OneVsRestClassifier(LogisticRegression)</li><li>TFIDF</li><li>GridSearchCV used</li>|0.93|0.86|0.86|0.75|<li>There is improvement from previous models</li><li>Met the targeted metric performance BUT</li><li>Sign of overfitting</li>|\n",
    "|Model 5|<li>Labels=17</li><li>Features: Inlcuded both title and abstract</li><li>OneVsRestClassifier(LogisticRegression)</li><li>TFIDF</li>|0.89|0.80|0.85|0.75|<li>There is improvement from previous models</li><li>Met the targeted metric performance</li>|"
   ]
  },
  {
   "cell_type": "markdown",
   "id": "9e416a0e-cbb3-47b8-89a9-455823ddda57",
   "metadata": {},
   "source": [
    "# Part 3:Model Evaluation <a class=\"anchor\" id=\"ID_3\"></a>\n",
    " \n",
    "The aim of our model is to given an article abstract - give it NLM Primary Disease terms labels.\n",
    "The targeted metric is to have samples avg precision and f1-score > 0.70.\n",
    "\n",
    "**Best Model performance**: Model 5<br>\n",
    "- Model 5 meet our target model metric performance \n",
    "    - precision=0.85 and f1-score=0.75\n",
    "    - Has reduced overfitting (difference between train and test score about 5% or less)\n",
    "\n",
    "# Part 4: Discussion & Conclusion <a class=\"anchor\" id=\"ID_4\"></a>\n",
    "## 4.1 Summary:\n",
    "The image below shows an overview of the whole project:<br>\n",
    "![img3](img/Project_Introduction_and_Overview_Summary.jpg)\n",
    "## 4.2 Limitation:\n",
    "|Area of limitation|Limitation Description|Actions needed|\n",
    "|---|---|---|\n",
    "|Matching Articles to NLM Disease groups|Some NLM Disease groups are poorly represented in our dataset (e.g. due to the limitation in our dictionaries that contain disease-associated terms|Our dictionary to be further improved by including more terms associated to these diseases|\n",
    "|Some labels might be too broad|E.g. Cardiovascular diseases & Hemic and Lymphatic diseases. The associated terms in the dictionaries are too overlapping.|Our dictionary to be further improved by looking deeper for distinct terms associated to the individual disease types|\n",
    "|Model's application|In relation to the scale and complexity of the existing problem, our model is limited to classifying articles related to *diseases* to NLM Primary Diseases groups.| It will require much more understanding of the complexity and the varying relations of the MeSH terms to create an ultimate machine learning solution that helps label any given article with desired NLM standardised group of MeSH terms.|\n",
    "## 4.3 Future work:\n",
    "An ideal to have a automated algorithm, that is able to label any article using NCBI's standardised collection of labels when given any article's Title and Abstract.\n",
    "\n",
    "To achieve so, we will need:\n",
    "1. **More articles properlly labelled** with PubMed collection of standardised MeSH for model training\n",
    "1. **More understanding of the processes behind** that NCBI undergoes in handling the vast variety of articles in the database\n",
    "1. **More understanding of the complexity of MeSH** in PubMed collection of standardised MeSH, including the updating process of new MeSH as the field of medicine continues to advance and diversify."
   ]
  },
  {
   "cell_type": "code",
   "execution_count": null,
   "id": "0179462e-c79b-4c1a-a39e-32a67fa6fe3c",
   "metadata": {},
   "outputs": [],
   "source": []
  }
 ],
 "metadata": {
  "kernelspec": {
   "display_name": "Python 3 (ipykernel)",
   "language": "python",
   "name": "python3"
  },
  "language_info": {
   "codemirror_mode": {
    "name": "ipython",
    "version": 3
   },
   "file_extension": ".py",
   "mimetype": "text/x-python",
   "name": "python",
   "nbconvert_exporter": "python",
   "pygments_lexer": "ipython3",
   "version": "3.8.13"
  },
  "toc-autonumbering": false
 },
 "nbformat": 4,
 "nbformat_minor": 5
}
