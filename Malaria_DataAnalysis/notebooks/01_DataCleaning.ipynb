{
 "cells": [
  {
   "cell_type": "markdown",
   "id": "68f9b0f5-54db-422f-a064-830d43cb084e",
   "metadata": {},
   "source": [
    "# About the Notebook\n",
    "\n",
    "Goal: Inspect and clean the data, include identifying missing and duplicated data\n",
    "\n",
    "About the datasets:\n",
    "- There are three malaria datasets\n",
    "    - Malaria Deaths per Age Group\n",
    "    - Malaria Death Rate\n",
    "    - Malaria Incidence Rate\n",
    "    \n",
    "**Definitions**\n",
    "|*Term*|*Definition*|\n",
    "|---|---|\n",
    "|Death rate|The number of deaths from malaria per 100,000 people.|\n",
    "|Incidence rate|The number of new cases of malaria in a year per 1,000 population\n",
    "at risk.|\n",
    "|Deaths/ Total Deaths|Annual number of deaths from malaria.|\n",
    "\n",
    "**Source**: [Our World in Data](https://ourworldindata.org/malaria#)"
   ]
  },
  {
   "cell_type": "markdown",
   "id": "8dfb22a7-a199-4b97-8c2b-532713455583",
   "metadata": {},
   "source": [
    "# PART 1. Imports"
   ]
  },
  {
   "cell_type": "code",
   "execution_count": 1,
   "id": "1e6f7118-548c-42ba-a781-d0ab157aa868",
   "metadata": {},
   "outputs": [],
   "source": [
    "from IPython.core.interactiveshell import InteractiveShell\n",
    "InteractiveShell.ast_node_interactivity = \"all\"\n",
    "\n",
    "import numpy as np\n",
    "import pandas as pd\n",
    "\n",
    "#Import Data_analysis functions\n",
    "from data_analysis import *\n",
    "\n",
    "#Country Data Exploration\n",
    "from geonamescache import GeonamesCache\n",
    "import pycountry"
   ]
  },
  {
   "cell_type": "code",
   "execution_count": 2,
   "id": "2f8e0e89-b66c-4634-84a5-1629e254af65",
   "metadata": {},
   "outputs": [],
   "source": [
    "#Import csv files\n",
    "age_grp_death_df = pd.read_csv(\"../data_input/2018_malaria_deaths_age.csv\")\n",
    "death_rate_df = pd.read_csv(\"../data_input/2018_malaria_deaths.csv\")\n",
    "inc_rate_df = pd.read_csv(\"../data_input/2018_malaria_inc.csv\")"
   ]
  },
  {
   "cell_type": "code",
   "execution_count": 3,
   "id": "2957c5d9-2171-419e-a727-c35221628e83",
   "metadata": {},
   "outputs": [],
   "source": [
    "#List of data set names\n",
    "dataframe_ls = \"age_grp_death_df,death_rate_df,inc_rate_df\"\n",
    "dataframe_ls = dataframe_ls.split(',')"
   ]
  },
  {
   "cell_type": "markdown",
   "id": "e125a1d7-1a07-4f4a-9867-f9938cf46be8",
   "metadata": {},
   "source": [
    "# PART 2. Initial Data Exploration and Processing"
   ]
  },
  {
   "cell_type": "markdown",
   "id": "7db56282-2c20-44f0-b187-d23606642c69",
   "metadata": {},
   "source": [
    "## 2.1 Quick Glance of the three data sets\n",
    "> Snippet of the first three rows of each dataset"
   ]
  },
  {
   "cell_type": "code",
   "execution_count": 4,
   "id": "839d129b-bf32-473b-ab69-2ea1e6442b52",
   "metadata": {},
   "outputs": [
    {
     "name": "stdout",
     "output_type": "stream",
     "text": [
      "QUICK GLANCE OF DATA SETS:\n",
      "\n",
      "---------- DATAFRAME: age_grp_death_df ----------\n"
     ]
    },
    {
     "data": {
      "text/html": [
       "<div>\n",
       "<style scoped>\n",
       "    .dataframe tbody tr th:only-of-type {\n",
       "        vertical-align: middle;\n",
       "    }\n",
       "\n",
       "    .dataframe tbody tr th {\n",
       "        vertical-align: top;\n",
       "    }\n",
       "\n",
       "    .dataframe thead th {\n",
       "        text-align: right;\n",
       "    }\n",
       "</style>\n",
       "<table border=\"1\" class=\"dataframe\">\n",
       "  <thead>\n",
       "    <tr style=\"text-align: right;\">\n",
       "      <th></th>\n",
       "      <th>Unnamed: 0</th>\n",
       "      <th>entity</th>\n",
       "      <th>code</th>\n",
       "      <th>year</th>\n",
       "      <th>age_group</th>\n",
       "      <th>deaths</th>\n",
       "    </tr>\n",
       "  </thead>\n",
       "  <tbody>\n",
       "    <tr>\n",
       "      <th>0</th>\n",
       "      <td>1</td>\n",
       "      <td>Afghanistan</td>\n",
       "      <td>AFG</td>\n",
       "      <td>1990</td>\n",
       "      <td>Under 5</td>\n",
       "      <td>184.606435</td>\n",
       "    </tr>\n",
       "    <tr>\n",
       "      <th>1</th>\n",
       "      <td>2</td>\n",
       "      <td>Afghanistan</td>\n",
       "      <td>AFG</td>\n",
       "      <td>1991</td>\n",
       "      <td>Under 5</td>\n",
       "      <td>191.658193</td>\n",
       "    </tr>\n",
       "    <tr>\n",
       "      <th>2</th>\n",
       "      <td>3</td>\n",
       "      <td>Afghanistan</td>\n",
       "      <td>AFG</td>\n",
       "      <td>1992</td>\n",
       "      <td>Under 5</td>\n",
       "      <td>197.140197</td>\n",
       "    </tr>\n",
       "  </tbody>\n",
       "</table>\n",
       "</div>"
      ],
      "text/plain": [
       "   Unnamed: 0       entity code  year age_group      deaths\n",
       "0           1  Afghanistan  AFG  1990   Under 5  184.606435\n",
       "1           2  Afghanistan  AFG  1991   Under 5  191.658193\n",
       "2           3  Afghanistan  AFG  1992   Under 5  197.140197"
      ]
     },
     "execution_count": 4,
     "metadata": {},
     "output_type": "execute_result"
    },
    {
     "name": "stdout",
     "output_type": "stream",
     "text": [
      "Dataframe size: 30780\n",
      "\n",
      "---------- DATAFRAME: death_rate_df ----------\n"
     ]
    },
    {
     "data": {
      "text/html": [
       "<div>\n",
       "<style scoped>\n",
       "    .dataframe tbody tr th:only-of-type {\n",
       "        vertical-align: middle;\n",
       "    }\n",
       "\n",
       "    .dataframe tbody tr th {\n",
       "        vertical-align: top;\n",
       "    }\n",
       "\n",
       "    .dataframe thead th {\n",
       "        text-align: right;\n",
       "    }\n",
       "</style>\n",
       "<table border=\"1\" class=\"dataframe\">\n",
       "  <thead>\n",
       "    <tr style=\"text-align: right;\">\n",
       "      <th></th>\n",
       "      <th>Entity</th>\n",
       "      <th>Code</th>\n",
       "      <th>Year</th>\n",
       "      <th>Deaths - Malaria - Sex: Both - Age: Age-standardized (Rate) (per 100,000 people)</th>\n",
       "    </tr>\n",
       "  </thead>\n",
       "  <tbody>\n",
       "    <tr>\n",
       "      <th>0</th>\n",
       "      <td>Afghanistan</td>\n",
       "      <td>AFG</td>\n",
       "      <td>1990</td>\n",
       "      <td>6.802930</td>\n",
       "    </tr>\n",
       "    <tr>\n",
       "      <th>1</th>\n",
       "      <td>Afghanistan</td>\n",
       "      <td>AFG</td>\n",
       "      <td>1991</td>\n",
       "      <td>6.973494</td>\n",
       "    </tr>\n",
       "    <tr>\n",
       "      <th>2</th>\n",
       "      <td>Afghanistan</td>\n",
       "      <td>AFG</td>\n",
       "      <td>1992</td>\n",
       "      <td>6.989882</td>\n",
       "    </tr>\n",
       "  </tbody>\n",
       "</table>\n",
       "</div>"
      ],
      "text/plain": [
       "        Entity Code  Year  \\\n",
       "0  Afghanistan  AFG  1990   \n",
       "1  Afghanistan  AFG  1991   \n",
       "2  Afghanistan  AFG  1992   \n",
       "\n",
       "   Deaths - Malaria - Sex: Both - Age: Age-standardized (Rate) (per 100,000 people)  \n",
       "0                                           6.802930                                 \n",
       "1                                           6.973494                                 \n",
       "2                                           6.989882                                 "
      ]
     },
     "execution_count": 4,
     "metadata": {},
     "output_type": "execute_result"
    },
    {
     "name": "stdout",
     "output_type": "stream",
     "text": [
      "Dataframe size: 6156\n",
      "\n",
      "---------- DATAFRAME: inc_rate_df ----------\n"
     ]
    },
    {
     "data": {
      "text/html": [
       "<div>\n",
       "<style scoped>\n",
       "    .dataframe tbody tr th:only-of-type {\n",
       "        vertical-align: middle;\n",
       "    }\n",
       "\n",
       "    .dataframe tbody tr th {\n",
       "        vertical-align: top;\n",
       "    }\n",
       "\n",
       "    .dataframe thead th {\n",
       "        text-align: right;\n",
       "    }\n",
       "</style>\n",
       "<table border=\"1\" class=\"dataframe\">\n",
       "  <thead>\n",
       "    <tr style=\"text-align: right;\">\n",
       "      <th></th>\n",
       "      <th>Entity</th>\n",
       "      <th>Code</th>\n",
       "      <th>Year</th>\n",
       "      <th>Incidence of malaria (per 1,000 population at risk) (per 1,000 population at risk)</th>\n",
       "    </tr>\n",
       "  </thead>\n",
       "  <tbody>\n",
       "    <tr>\n",
       "      <th>0</th>\n",
       "      <td>Afghanistan</td>\n",
       "      <td>AFG</td>\n",
       "      <td>2000</td>\n",
       "      <td>107.1</td>\n",
       "    </tr>\n",
       "    <tr>\n",
       "      <th>1</th>\n",
       "      <td>Afghanistan</td>\n",
       "      <td>AFG</td>\n",
       "      <td>2005</td>\n",
       "      <td>46.5</td>\n",
       "    </tr>\n",
       "    <tr>\n",
       "      <th>2</th>\n",
       "      <td>Afghanistan</td>\n",
       "      <td>AFG</td>\n",
       "      <td>2010</td>\n",
       "      <td>23.9</td>\n",
       "    </tr>\n",
       "  </tbody>\n",
       "</table>\n",
       "</div>"
      ],
      "text/plain": [
       "        Entity Code  Year  \\\n",
       "0  Afghanistan  AFG  2000   \n",
       "1  Afghanistan  AFG  2005   \n",
       "2  Afghanistan  AFG  2010   \n",
       "\n",
       "   Incidence of malaria (per 1,000 population at risk) (per 1,000 population at risk)  \n",
       "0                                              107.1                                   \n",
       "1                                               46.5                                   \n",
       "2                                               23.9                                   "
      ]
     },
     "execution_count": 4,
     "metadata": {},
     "output_type": "execute_result"
    },
    {
     "name": "stdout",
     "output_type": "stream",
     "text": [
      "Dataframe size: 508\n",
      "\n"
     ]
    }
   ],
   "source": [
    "print(\"QUICK GLANCE OF DATA SETS:\\n\")\n",
    "\n",
    "for data in dataframe_ls:\n",
    "    #Name of dataframe\n",
    "    print(\"--\"*5, f\"DATAFRAME: {data}\", \"--\"*5)\n",
    "    \n",
    "    #Display first three rows of dataframe\n",
    "    df_ = globals()[data]\n",
    "    df_.head(3)\n",
    "    \n",
    "    #Show data size\n",
    "    print(f\"Dataframe size: {len(df_)}\\n\")"
   ]
  },
  {
   "cell_type": "markdown",
   "id": "e25a97a7-0cd0-4fb3-86c6-ca5a9c298d57",
   "metadata": {},
   "source": [
    "---\n",
    "**COMMENT**: About the data<br>\n",
    "\n",
    "- There are three data sets with varying size:\n",
    "    1. `age_grp_death_df`: Showing no. of deaths, per age group, per entity, and per year\n",
    "    1. `death_rate_df`: Showing death rates per entity, and per year\n",
    "    1. `inc_rate_df`: Showing incidence rates per entity, and per year\n",
    "    \n",
    "PLAN:\n",
    "- Rename dataframe columns (for simplicity & consistency)\n",
    "- Remove redundant columns (as seen in age_grp_death_df)\n",
    "---"
   ]
  },
  {
   "cell_type": "markdown",
   "id": "85a5b32e-f563-4988-b31e-2942dba20038",
   "metadata": {},
   "source": [
    "## 2.2 Initial Data Processing"
   ]
  },
  {
   "cell_type": "markdown",
   "id": "cd6a5f83-02ed-45aa-a320-afb8eb3a55a7",
   "metadata": {},
   "source": [
    "**RENAME COLUMNS**<br>\n",
    "> For consistency and simplicity"
   ]
  },
  {
   "cell_type": "markdown",
   "id": "3a91cef5-f162-46a4-a941-13ef4d350e1f",
   "metadata": {},
   "source": [
    "`age_grp_death_df`: Upper case column names"
   ]
  },
  {
   "cell_type": "code",
   "execution_count": 5,
   "id": "5bc2da18-6103-4d34-9909-10becd3e22f6",
   "metadata": {},
   "outputs": [
    {
     "data": {
      "text/html": [
       "<div>\n",
       "<style scoped>\n",
       "    .dataframe tbody tr th:only-of-type {\n",
       "        vertical-align: middle;\n",
       "    }\n",
       "\n",
       "    .dataframe tbody tr th {\n",
       "        vertical-align: top;\n",
       "    }\n",
       "\n",
       "    .dataframe thead th {\n",
       "        text-align: right;\n",
       "    }\n",
       "</style>\n",
       "<table border=\"1\" class=\"dataframe\">\n",
       "  <thead>\n",
       "    <tr style=\"text-align: right;\">\n",
       "      <th></th>\n",
       "      <th>Unnamed: 0</th>\n",
       "      <th>Entity</th>\n",
       "      <th>Code</th>\n",
       "      <th>Year</th>\n",
       "      <th>Age_group</th>\n",
       "      <th>Deaths</th>\n",
       "    </tr>\n",
       "  </thead>\n",
       "  <tbody>\n",
       "    <tr>\n",
       "      <th>0</th>\n",
       "      <td>1</td>\n",
       "      <td>Afghanistan</td>\n",
       "      <td>AFG</td>\n",
       "      <td>1990</td>\n",
       "      <td>Under 5</td>\n",
       "      <td>184.606435</td>\n",
       "    </tr>\n",
       "    <tr>\n",
       "      <th>1</th>\n",
       "      <td>2</td>\n",
       "      <td>Afghanistan</td>\n",
       "      <td>AFG</td>\n",
       "      <td>1991</td>\n",
       "      <td>Under 5</td>\n",
       "      <td>191.658193</td>\n",
       "    </tr>\n",
       "    <tr>\n",
       "      <th>2</th>\n",
       "      <td>3</td>\n",
       "      <td>Afghanistan</td>\n",
       "      <td>AFG</td>\n",
       "      <td>1992</td>\n",
       "      <td>Under 5</td>\n",
       "      <td>197.140197</td>\n",
       "    </tr>\n",
       "  </tbody>\n",
       "</table>\n",
       "</div>"
      ],
      "text/plain": [
       "   Unnamed: 0       Entity Code  Year Age_group      Deaths\n",
       "0           1  Afghanistan  AFG  1990   Under 5  184.606435\n",
       "1           2  Afghanistan  AFG  1991   Under 5  191.658193\n",
       "2           3  Afghanistan  AFG  1992   Under 5  197.140197"
      ]
     },
     "execution_count": 5,
     "metadata": {},
     "output_type": "execute_result"
    }
   ],
   "source": [
    "# Function to uppercase the first letter of a string\n",
    "def uppercase_first_letter(s):\n",
    "    return s[0].upper() + s[1:]\n",
    "\n",
    "# Uppercase the first letter of each column name for age_grp_death_df\n",
    "age_grp_death_df.columns = [uppercase_first_letter(col) for col in age_grp_death_df.columns]\n",
    "age_grp_death_df.head(3)"
   ]
  },
  {
   "cell_type": "markdown",
   "id": "4bd29ace-f69d-4335-8671-e279e41d4a40",
   "metadata": {},
   "source": [
    "`death_rate_df` & `inc_rate_df`: Rename the last column for simplicity"
   ]
  },
  {
   "cell_type": "code",
   "execution_count": 6,
   "id": "4ae89bcc-ea2c-433d-bc53-a57024f96924",
   "metadata": {},
   "outputs": [
    {
     "data": {
      "text/html": [
       "<div>\n",
       "<style scoped>\n",
       "    .dataframe tbody tr th:only-of-type {\n",
       "        vertical-align: middle;\n",
       "    }\n",
       "\n",
       "    .dataframe tbody tr th {\n",
       "        vertical-align: top;\n",
       "    }\n",
       "\n",
       "    .dataframe thead th {\n",
       "        text-align: right;\n",
       "    }\n",
       "</style>\n",
       "<table border=\"1\" class=\"dataframe\">\n",
       "  <thead>\n",
       "    <tr style=\"text-align: right;\">\n",
       "      <th></th>\n",
       "      <th>Entity</th>\n",
       "      <th>Code</th>\n",
       "      <th>Year</th>\n",
       "      <th>DeathRate_per100K</th>\n",
       "    </tr>\n",
       "  </thead>\n",
       "  <tbody>\n",
       "    <tr>\n",
       "      <th>0</th>\n",
       "      <td>Afghanistan</td>\n",
       "      <td>AFG</td>\n",
       "      <td>1990</td>\n",
       "      <td>6.802930</td>\n",
       "    </tr>\n",
       "    <tr>\n",
       "      <th>1</th>\n",
       "      <td>Afghanistan</td>\n",
       "      <td>AFG</td>\n",
       "      <td>1991</td>\n",
       "      <td>6.973494</td>\n",
       "    </tr>\n",
       "    <tr>\n",
       "      <th>2</th>\n",
       "      <td>Afghanistan</td>\n",
       "      <td>AFG</td>\n",
       "      <td>1992</td>\n",
       "      <td>6.989882</td>\n",
       "    </tr>\n",
       "  </tbody>\n",
       "</table>\n",
       "</div>"
      ],
      "text/plain": [
       "        Entity Code  Year  DeathRate_per100K\n",
       "0  Afghanistan  AFG  1990           6.802930\n",
       "1  Afghanistan  AFG  1991           6.973494\n",
       "2  Afghanistan  AFG  1992           6.989882"
      ]
     },
     "execution_count": 6,
     "metadata": {},
     "output_type": "execute_result"
    }
   ],
   "source": [
    "#Simplify Last column name in death_rate_df\n",
    "last_col = death_rate_df.columns.tolist()[-1]\n",
    "death_rate_df.rename(\n",
    "    columns = {last_col:'DeathRate_per100K'},\n",
    "    inplace = True)\n",
    "death_rate_df.head(3)"
   ]
  },
  {
   "cell_type": "code",
   "execution_count": 7,
   "id": "88b86c80-dc31-4abe-b983-581dd7b616b9",
   "metadata": {},
   "outputs": [
    {
     "data": {
      "text/html": [
       "<div>\n",
       "<style scoped>\n",
       "    .dataframe tbody tr th:only-of-type {\n",
       "        vertical-align: middle;\n",
       "    }\n",
       "\n",
       "    .dataframe tbody tr th {\n",
       "        vertical-align: top;\n",
       "    }\n",
       "\n",
       "    .dataframe thead th {\n",
       "        text-align: right;\n",
       "    }\n",
       "</style>\n",
       "<table border=\"1\" class=\"dataframe\">\n",
       "  <thead>\n",
       "    <tr style=\"text-align: right;\">\n",
       "      <th></th>\n",
       "      <th>Entity</th>\n",
       "      <th>Code</th>\n",
       "      <th>Year</th>\n",
       "      <th>IncRate_per100K</th>\n",
       "    </tr>\n",
       "  </thead>\n",
       "  <tbody>\n",
       "    <tr>\n",
       "      <th>0</th>\n",
       "      <td>Afghanistan</td>\n",
       "      <td>AFG</td>\n",
       "      <td>2000</td>\n",
       "      <td>107.1</td>\n",
       "    </tr>\n",
       "    <tr>\n",
       "      <th>1</th>\n",
       "      <td>Afghanistan</td>\n",
       "      <td>AFG</td>\n",
       "      <td>2005</td>\n",
       "      <td>46.5</td>\n",
       "    </tr>\n",
       "    <tr>\n",
       "      <th>2</th>\n",
       "      <td>Afghanistan</td>\n",
       "      <td>AFG</td>\n",
       "      <td>2010</td>\n",
       "      <td>23.9</td>\n",
       "    </tr>\n",
       "  </tbody>\n",
       "</table>\n",
       "</div>"
      ],
      "text/plain": [
       "        Entity Code  Year  IncRate_per100K\n",
       "0  Afghanistan  AFG  2000            107.1\n",
       "1  Afghanistan  AFG  2005             46.5\n",
       "2  Afghanistan  AFG  2010             23.9"
      ]
     },
     "execution_count": 7,
     "metadata": {},
     "output_type": "execute_result"
    }
   ],
   "source": [
    "#Simplify Last column name in inc_rate_df\n",
    "last_col = inc_rate_df.columns.tolist()[-1]\n",
    "inc_rate_df.rename(\n",
    "    columns = {last_col:'IncRate_per100K'},\n",
    "    inplace = True)\n",
    "inc_rate_df.head(3)"
   ]
  },
  {
   "cell_type": "markdown",
   "id": "29d3679e-b833-4535-9a8d-5504529cc866",
   "metadata": {},
   "source": [
    "**DROP REDUNDANT COLUMN**<br>\n",
    "> Drop first column in age_grp_death_df: `Unnamed: 0`"
   ]
  },
  {
   "cell_type": "code",
   "execution_count": 8,
   "id": "13b4c537-9b2f-40cc-b084-f2142e45ba58",
   "metadata": {},
   "outputs": [
    {
     "data": {
      "text/plain": [
       "['Unnamed: 0', 'Entity', 'Code', 'Year', 'Age_group', 'Deaths']"
      ]
     },
     "execution_count": 8,
     "metadata": {},
     "output_type": "execute_result"
    }
   ],
   "source": [
    "#Showing initial sets of columns in age_grp_death_df\n",
    "age_grp_death_df.columns.tolist()"
   ]
  },
  {
   "cell_type": "code",
   "execution_count": 9,
   "id": "6e47cc5a-7a68-421b-b435-af77847444c2",
   "metadata": {},
   "outputs": [
    {
     "data": {
      "text/html": [
       "<div>\n",
       "<style scoped>\n",
       "    .dataframe tbody tr th:only-of-type {\n",
       "        vertical-align: middle;\n",
       "    }\n",
       "\n",
       "    .dataframe tbody tr th {\n",
       "        vertical-align: top;\n",
       "    }\n",
       "\n",
       "    .dataframe thead th {\n",
       "        text-align: right;\n",
       "    }\n",
       "</style>\n",
       "<table border=\"1\" class=\"dataframe\">\n",
       "  <thead>\n",
       "    <tr style=\"text-align: right;\">\n",
       "      <th></th>\n",
       "      <th>Entity</th>\n",
       "      <th>Code</th>\n",
       "      <th>Year</th>\n",
       "      <th>Age_group</th>\n",
       "      <th>Deaths</th>\n",
       "    </tr>\n",
       "  </thead>\n",
       "  <tbody>\n",
       "    <tr>\n",
       "      <th>0</th>\n",
       "      <td>Afghanistan</td>\n",
       "      <td>AFG</td>\n",
       "      <td>1990</td>\n",
       "      <td>Under 5</td>\n",
       "      <td>184.606435</td>\n",
       "    </tr>\n",
       "    <tr>\n",
       "      <th>1</th>\n",
       "      <td>Afghanistan</td>\n",
       "      <td>AFG</td>\n",
       "      <td>1991</td>\n",
       "      <td>Under 5</td>\n",
       "      <td>191.658193</td>\n",
       "    </tr>\n",
       "    <tr>\n",
       "      <th>2</th>\n",
       "      <td>Afghanistan</td>\n",
       "      <td>AFG</td>\n",
       "      <td>1992</td>\n",
       "      <td>Under 5</td>\n",
       "      <td>197.140197</td>\n",
       "    </tr>\n",
       "  </tbody>\n",
       "</table>\n",
       "</div>"
      ],
      "text/plain": [
       "        Entity Code  Year Age_group      Deaths\n",
       "0  Afghanistan  AFG  1990   Under 5  184.606435\n",
       "1  Afghanistan  AFG  1991   Under 5  191.658193\n",
       "2  Afghanistan  AFG  1992   Under 5  197.140197"
      ]
     },
     "execution_count": 9,
     "metadata": {},
     "output_type": "execute_result"
    }
   ],
   "source": [
    "#Removing the first column which is redundant\n",
    "age_grp_death_df = age_grp_death_df.drop(age_grp_death_df.columns[0], axis=1)\n",
    "age_grp_death_df.head(3)"
   ]
  },
  {
   "cell_type": "markdown",
   "id": "14f8a042-0bc4-4be5-8d9b-72a882e8caa4",
   "metadata": {},
   "source": [
    "---\n",
    "**COMMENT**: What's done and What's next<br>\n",
    "\n",
    "We have renamed the columns and dropped redundant columns.<br>\n",
    "We will now perform data checking and exploration in the next segment.\n",
    "---"
   ]
  },
  {
   "cell_type": "markdown",
   "id": "3ac07356-eb15-4f26-aa75-e72a7da5aa0b",
   "metadata": {},
   "source": [
    "# Part 3: Data Exploration across the datasets"
   ]
  },
  {
   "cell_type": "markdown",
   "id": "15b2d015-7cc1-489b-8922-c03f46d02b1c",
   "metadata": {},
   "source": [
    "## 3.1 Data Cleaning: Inspect for obvious issues\n",
    "- Inspect datatype\n",
    "- Inspect missing data\n",
    "- Inspect data value\n",
    "- Inspect for duplicates"
   ]
  },
  {
   "cell_type": "code",
   "execution_count": 10,
   "id": "d4870776-53f6-4aa4-911c-87bd7cafb2f2",
   "metadata": {
    "tags": []
   },
   "outputs": [
    {
     "name": "stdout",
     "output_type": "stream",
     "text": [
      "---------------DATAFRAME SUMMARY OF: age_grp_death_df---------------\n",
      "SHAPE(col,rows): (30780, 5)\n",
      "\n",
      "DUPLICATES\n",
      "Number of duplicates: 0\n",
      "\n",
      "DATA TYPE\n",
      "Entity        object\n",
      "Code          object\n",
      "Year           int64\n",
      "Age_group     object\n",
      "Deaths       float64\n",
      "dtype: object\n",
      "\n",
      "MISSING DATA\n",
      "Columns with missing values:\n",
      "    col  num_nulls  perc_null\n",
      "0  Code       4320       0.14\n",
      "\n",
      "DATA VALUES: Quantitative data\n",
      "  Column Name  Minimum Value  Maximum Value\n",
      "0        Year         1990.0    2016.000000\n",
      "1      Deaths            0.0  752025.548675\n",
      "\n",
      "DATA VALUES: Qualitative data\n",
      "--Column 'Entity' has\n",
      " 228 unique values\n",
      "\n",
      "--Column 'Code' has\n",
      " 196 unique values\n",
      "\n",
      "--Column 'Age_group' has\n",
      " 5 unique values\n",
      "\n",
      "---------------END OF DATA SUMMARY OF age_grp_death_df---------------\n",
      "\n",
      "\n",
      "\n",
      "---------------DATAFRAME SUMMARY OF: death_rate_df---------------\n",
      "SHAPE(col,rows): (6156, 4)\n",
      "\n",
      "DUPLICATES\n",
      "Number of duplicates: 0\n",
      "\n",
      "DATA TYPE\n",
      "Entity                object\n",
      "Code                  object\n",
      "Year                   int64\n",
      "DeathRate_per100K    float64\n",
      "dtype: object\n",
      "\n",
      "MISSING DATA\n",
      "Columns with missing values:\n",
      "    col  num_nulls  perc_null\n",
      "0  Code        864       0.14\n",
      "\n",
      "DATA VALUES: Quantitative data\n",
      "         Column Name  Minimum Value  Maximum Value\n",
      "0               Year         1990.0    2016.000000\n",
      "1  DeathRate_per100K            0.0     229.228881\n",
      "\n",
      "DATA VALUES: Qualitative data\n",
      "--Column 'Entity' has\n",
      " 228 unique values\n",
      "\n",
      "--Column 'Code' has\n",
      " 196 unique values\n",
      "\n",
      "---------------END OF DATA SUMMARY OF death_rate_df---------------\n",
      "\n",
      "\n",
      "\n",
      "---------------DATAFRAME SUMMARY OF: inc_rate_df---------------\n",
      "SHAPE(col,rows): (508, 4)\n",
      "\n",
      "DUPLICATES\n",
      "Number of duplicates: 0\n",
      "\n",
      "DATA TYPE\n",
      "Entity              object\n",
      "Code                object\n",
      "Year                 int64\n",
      "IncRate_per100K    float64\n",
      "dtype: object\n",
      "\n",
      "MISSING DATA\n",
      "Columns with missing values:\n",
      "    col  num_nulls  perc_null\n",
      "0  Code        108       0.21\n",
      "\n",
      "DATA VALUES: Quantitative data\n",
      "       Column Name  Minimum Value  Maximum Value\n",
      "0             Year         2000.0         2015.0\n",
      "1  IncRate_per100K            0.0         1741.0\n",
      "\n",
      "DATA VALUES: Qualitative data\n",
      "--Column 'Entity' has\n",
      " 127 unique values\n",
      "\n",
      "--Column 'Code' has\n",
      " 100 unique values\n",
      "\n",
      "---------------END OF DATA SUMMARY OF inc_rate_df---------------\n",
      "\n",
      "\n",
      "\n"
     ]
    }
   ],
   "source": [
    "for data in dataframe_ls:\n",
    "    df_ = globals()[data]\n",
    "    df_summary(df_, data)\n",
    "    print(\"\\n\\n\")"
   ]
  },
  {
   "cell_type": "markdown",
   "id": "8bbd2a24-e06c-4e9a-8bb5-32142927cb6d",
   "metadata": {},
   "source": [
    "---\n",
    "**COMMENT**: Summary of Data Checking<br>\n",
    "\n",
    "|Area of inspection|Description|Plan|\n",
    "|---|---|---|\n",
    "|Duplicates|Absent|NIL|\n",
    "|Missing Data|Presence of missing data in `Code` column|`Code` column refers to the country code. Further examination needed to understand the nature of the missing data before coming up with appropriate actions to address the missing data. It is possible to be related to `Entity`, as not all elements in `Entity` column is necessarily a country.|\n",
    "|Data type|Appropriate data type for respective columns|NIL|\n",
    "|Data values|<li>Noticed there is different number of unique entities and code across the three data sets<li>Noticed there is different time period the data sets covers<li>There is no obvious abnormaly value (e.g. Negatie values) detected at the moment.|Explore the data further in detail, including exploring the entity to recognise if the data represents a country/region/ US state.|\n",
    "\n",
    "---"
   ]
  },
  {
   "cell_type": "markdown",
   "id": "6bc9582a-2443-4ac9-b2fe-fa992212f1e8",
   "metadata": {},
   "source": [
    "## 3.2 Further Data Exploration: `Entity` & `Code`\n",
    "\n",
    "**ABOUT [geonamescache](https://pypi.org/project/geonamescache/)**:<br>\n",
    "- A Python library that provides functions to retrieve names and other information of continents, countries as well as US states and counties as Python dictionaries. \n",
    "- We will be using this library to:\n",
    "    - Standardize countries names\n",
    "    - Label the countries by their continent code\n",
    "\n",
    "**ABOUT [pycountry](https://pypi.org/project/pycountry/)**<br>\n",
    "- A Python package that provides information about countries and territories. It allows developers to work with ISO standard country codes, official names, common names, and other related data.\n",
    "- We will be using this library to identify if a county is a country."
   ]
  },
  {
   "cell_type": "markdown",
   "id": "0ef3e2ab-b08d-49c7-8c42-d2c810db98e7",
   "metadata": {},
   "source": [
    "### Step 1: Check if `Code` is consistent with the  ISO 3166-1 alpha-3 standard\n",
    "- We use pycountry to conduct this checking.\n",
    "- Information about [ISO 3166 ](https://en.wikipedia.org/wiki/ISO_3166#:~:text=ISO%203166%20is%20an%20ISO,e.g.%2C%20provinces%20or%20states)"
   ]
  },
  {
   "cell_type": "code",
   "execution_count": 11,
   "id": "23e4dc93-6f70-4e5d-bb56-b91d3bddf115",
   "metadata": {},
   "outputs": [
    {
     "data": {
      "text/plain": [
       "{'OWID_WRL', nan}"
      ]
     },
     "execution_count": 11,
     "metadata": {},
     "output_type": "execute_result"
    }
   ],
   "source": [
    "#Check if code is consistent with the  ISO 3166-1 alpha-3 standard.\n",
    "\n",
    "#Set of ISO 3166-1 alpha-3 codes in `pycountry`\n",
    "alpha3_codes = set([country.alpha_3 for country in pycountry.countries])\n",
    "\n",
    "#Create an empty set\n",
    "non_alpha3_set = set()\n",
    "\n",
    "#Populate non_alpha3_set with elements in `Code` columns but not in ISO 3166-1 alpha-3 codes\n",
    "for data in dataframe_ls:\n",
    "    df = globals()[data]\n",
    "    cond_= ~df['Code'].isin(alpha3_codes)\n",
    "    sub_df = df.loc[cond_, 'Code'] \n",
    "    non_alpha3_set = non_alpha3_set| set(sub_df)\n",
    "non_alpha3_set"
   ]
  },
  {
   "cell_type": "markdown",
   "id": "c511ab66-083b-4bc6-b4bb-62d6b1f32378",
   "metadata": {},
   "source": [
    "---\n",
    "**COMMENT**: About `Code` columns<br>\n",
    "- The 3-alphabetical code are indeed ISO 3166 country code, each representing a country.\n",
    "- Next step is to explore data with `Entity` as `OWID_WRL` or *NAN*.\n",
    "---"
   ]
  },
  {
   "cell_type": "markdown",
   "id": "34e4a93c-af3d-4daf-9159-20f57d704a0d",
   "metadata": {},
   "source": [
    "### Step 2: What `Entity` uses the Code `OWID_WRL` or has missing Code"
   ]
  },
  {
   "cell_type": "code",
   "execution_count": 12,
   "id": "d47ccffa-e5cd-4440-87de-58e524e76f1f",
   "metadata": {},
   "outputs": [
    {
     "data": {
      "text/plain": [
       "array(['World'], dtype=object)"
      ]
     },
     "execution_count": 12,
     "metadata": {},
     "output_type": "execute_result"
    },
    {
     "data": {
      "text/plain": [
       "array(['World'], dtype=object)"
      ]
     },
     "execution_count": 12,
     "metadata": {},
     "output_type": "execute_result"
    },
    {
     "data": {
      "text/plain": [
       "array(['World'], dtype=object)"
      ]
     },
     "execution_count": 12,
     "metadata": {},
     "output_type": "execute_result"
    }
   ],
   "source": [
    "# Entity with Code: OWID_WRL\n",
    "for data in dataframe_ls:\n",
    "    df = globals()[data]\n",
    "    cond_= df['Code']==\"OWID_WRL\"\n",
    "    _d = df.loc[cond_, ['Entity']]\n",
    "    _d['Entity'].unique()"
   ]
  },
  {
   "cell_type": "code",
   "execution_count": 13,
   "id": "dd44c032-65c7-4ea8-b806-4d92ade1d4ee",
   "metadata": {},
   "outputs": [
    {
     "data": {
      "text/plain": [
       "{'Andean Latin America',\n",
       " 'Australasia',\n",
       " 'Caribbean',\n",
       " 'Central Asia',\n",
       " 'Central Europe',\n",
       " 'Central Latin America',\n",
       " 'Central Sub-Saharan Africa',\n",
       " 'Early-demographic dividend',\n",
       " 'East Asia',\n",
       " 'East Asia & Pacific',\n",
       " 'East Asia & Pacific (IDA & IBRD)',\n",
       " 'East Asia & Pacific (excluding high income)',\n",
       " 'Eastern Europe',\n",
       " 'Eastern Sub-Saharan Africa',\n",
       " 'England',\n",
       " 'Fragile and conflict affected situations',\n",
       " 'Heavily indebted poor countries (HIPC)',\n",
       " 'High SDI',\n",
       " 'High-income Asia Pacific',\n",
       " 'High-middle SDI',\n",
       " 'IBRD only',\n",
       " 'IDA & IBRD total',\n",
       " 'IDA blend',\n",
       " 'IDA only',\n",
       " 'IDA total',\n",
       " 'Late-demographic dividend',\n",
       " 'Latin America & Caribbean',\n",
       " 'Latin America & Caribbean (IDA & IBRD)',\n",
       " 'Latin America & Caribbean (excluding high income)',\n",
       " 'Latin America and Caribbean',\n",
       " 'Least developed countries: UN classification',\n",
       " 'Low & middle income',\n",
       " 'Low SDI',\n",
       " 'Low income',\n",
       " 'Low-middle SDI',\n",
       " 'Lower middle income',\n",
       " 'Middle SDI',\n",
       " 'Middle income',\n",
       " 'North Africa and Middle East',\n",
       " 'North America',\n",
       " 'Northern Ireland',\n",
       " 'Oceania',\n",
       " 'Pre-demographic dividend',\n",
       " 'Scotland',\n",
       " 'South Asia',\n",
       " 'South Asia (IDA & IBRD)',\n",
       " 'Southeast Asia',\n",
       " 'Southern Latin America',\n",
       " 'Southern Sub-Saharan Africa',\n",
       " 'Sub-Saharan Africa',\n",
       " 'Sub-Saharan Africa (IDA & IBRD)',\n",
       " 'Sub-Saharan Africa (excluding high income)',\n",
       " 'Tropical Latin America',\n",
       " 'Upper middle income',\n",
       " 'Wales',\n",
       " 'Western Europe',\n",
       " 'Western Sub-Saharan Africa'}"
      ]
     },
     "execution_count": 13,
     "metadata": {},
     "output_type": "execute_result"
    }
   ],
   "source": [
    "# Entity with no Code (nan)\n",
    "no_code_entity = set()\n",
    "for data in dataframe_ls:\n",
    "    df = globals()[data]\n",
    "    cond_= df['Code'].isna()\n",
    "    _d = df.loc[cond_, ['Entity']]\n",
    "    no_code_entity = no_code_entity|set(_d['Entity'].unique())\n",
    "no_code_entity    "
   ]
  },
  {
   "cell_type": "code",
   "execution_count": 14,
   "id": "90721af4-dd97-4877-9c93-62fb861dfa2c",
   "metadata": {},
   "outputs": [
    {
     "data": {
      "text/plain": [
       "set()"
      ]
     },
     "execution_count": 14,
     "metadata": {},
     "output_type": "execute_result"
    }
   ],
   "source": [
    "#Check Entity with Code and Entity without Code are mutually exclusive\n",
    "have_code_entity = set()\n",
    "for data in dataframe_ls:\n",
    "    df = globals()[data]\n",
    "    cond_= ~df['Code'].isna()\n",
    "    _d = df.loc[cond_, ['Entity']]\n",
    "    have_code_entity = have_code_entity|set(_d['Entity'].unique())\n",
    "have_code_entity & no_code_entity"
   ]
  },
  {
   "cell_type": "markdown",
   "id": "ca9bddec-c430-4974-90bc-23d2a925358e",
   "metadata": {},
   "source": [
    "---\n",
    "**COMMENT**: Findings<br>\n",
    "1. Entity with Code are countries\n",
    "1. Entity without Code are regions, classifications, or groupings related to demographic, economic, or geographical areas, but they do not represent individual countries.\n",
    "1. 'England','Scotland','Wales','Northern Ireland' do not have `Code` as they are under the 'United Kingdom'\n",
    "    - Subsequent analysis needs to be mindful of this.\n",
    "\n",
    "PLAN:<br>\n",
    "- Create new column `Entity_type` to label the data.\n",
    "- Rename the countries to ensure consistency:\n",
    "    - Countries may be named/ referred to in different ways: (e.g. cape verde vs cabo verde)\n",
    "    - Countries will be renamed using their country code as reference and using the python library `GeonamesCache` \n",
    "---"
   ]
  },
  {
   "cell_type": "markdown",
   "id": "fbed2b1d-5cf3-4cb5-b103-7fc918330b10",
   "metadata": {},
   "source": [
    "### Step 3: New column `Entity_type` and Standardise Countries naming (`Updated_Entity`)"
   ]
  },
  {
   "cell_type": "markdown",
   "id": "fecee2af-3780-49fd-875f-b0dffa32c5d9",
   "metadata": {},
   "source": [
    "**NEW COLUMN: `Entity_type`**"
   ]
  },
  {
   "cell_type": "code",
   "execution_count": 15,
   "id": "72bd3702-5a36-41ff-b70d-e8a1e0740d85",
   "metadata": {},
   "outputs": [],
   "source": [
    "#UK Countries\n",
    "UK_countries = {'England','Scotland','Wales','Northern Ireland'}\n",
    "\n",
    "# Income Classifications Entity\n",
    "keywords = ['income',\n",
    "            'IDA',\n",
    "            'IBRD',\n",
    "            'SDI',\n",
    "            'demographic',\n",
    "            'debt',\n",
    "            'developed']\n",
    "Income_class_entity = {x for x in no_code_entity if any(keyword in x for keyword in keywords)}\n",
    "\n",
    "# Region Classifications Entity\n",
    "Region_class_entity = {x for x in no_code_entity if x not in Income_class_entity|UK_countries}"
   ]
  },
  {
   "cell_type": "code",
   "execution_count": 16,
   "id": "99e30a0d-16c1-4c72-9a24-808d1ec79214",
   "metadata": {},
   "outputs": [],
   "source": [
    "#Function for labelling data based on Entity type:\n",
    "def entity_type(ent):\n",
    "    if ent in UK_countries:\n",
    "        return 'country'\n",
    "    elif ent in Income_class_entity:\n",
    "        return 'income_class'\n",
    "    elif ent in Region_class_entity:\n",
    "        return 'region_class'\n",
    "    else:\n",
    "        return 'others'"
   ]
  },
  {
   "cell_type": "code",
   "execution_count": 17,
   "id": "de07254b-928e-4bfc-b7f0-b486386f8f8d",
   "metadata": {},
   "outputs": [
    {
     "name": "stdout",
     "output_type": "stream",
     "text": [
      "Dataframe: age_grp_death_df\n",
      "Unique Entity_type in dataframe:\n"
     ]
    },
    {
     "data": {
      "text/plain": [
       "['country', 'region_class', 'income_class', 'world']"
      ]
     },
     "execution_count": 17,
     "metadata": {},
     "output_type": "execute_result"
    },
    {
     "data": {
      "text/html": [
       "<div>\n",
       "<style scoped>\n",
       "    .dataframe tbody tr th:only-of-type {\n",
       "        vertical-align: middle;\n",
       "    }\n",
       "\n",
       "    .dataframe tbody tr th {\n",
       "        vertical-align: top;\n",
       "    }\n",
       "\n",
       "    .dataframe thead th {\n",
       "        text-align: right;\n",
       "    }\n",
       "</style>\n",
       "<table border=\"1\" class=\"dataframe\">\n",
       "  <thead>\n",
       "    <tr style=\"text-align: right;\">\n",
       "      <th></th>\n",
       "      <th>Entity</th>\n",
       "      <th>Code</th>\n",
       "      <th>Year</th>\n",
       "      <th>Age_group</th>\n",
       "      <th>Deaths</th>\n",
       "      <th>Entity_type</th>\n",
       "    </tr>\n",
       "  </thead>\n",
       "  <tbody>\n",
       "    <tr>\n",
       "      <th>0</th>\n",
       "      <td>Afghanistan</td>\n",
       "      <td>AFG</td>\n",
       "      <td>1990</td>\n",
       "      <td>Under 5</td>\n",
       "      <td>184.606435</td>\n",
       "      <td>country</td>\n",
       "    </tr>\n",
       "    <tr>\n",
       "      <th>1</th>\n",
       "      <td>Afghanistan</td>\n",
       "      <td>AFG</td>\n",
       "      <td>1991</td>\n",
       "      <td>Under 5</td>\n",
       "      <td>191.658193</td>\n",
       "      <td>country</td>\n",
       "    </tr>\n",
       "    <tr>\n",
       "      <th>2</th>\n",
       "      <td>Afghanistan</td>\n",
       "      <td>AFG</td>\n",
       "      <td>1992</td>\n",
       "      <td>Under 5</td>\n",
       "      <td>197.140197</td>\n",
       "      <td>country</td>\n",
       "    </tr>\n",
       "  </tbody>\n",
       "</table>\n",
       "</div>"
      ],
      "text/plain": [
       "        Entity Code  Year Age_group      Deaths Entity_type\n",
       "0  Afghanistan  AFG  1990   Under 5  184.606435     country\n",
       "1  Afghanistan  AFG  1991   Under 5  191.658193     country\n",
       "2  Afghanistan  AFG  1992   Under 5  197.140197     country"
      ]
     },
     "execution_count": 17,
     "metadata": {},
     "output_type": "execute_result"
    },
    {
     "name": "stdout",
     "output_type": "stream",
     "text": [
      "Dataframe: death_rate_df\n",
      "Unique Entity_type in dataframe:\n"
     ]
    },
    {
     "data": {
      "text/plain": [
       "['country', 'region_class', 'income_class', 'world']"
      ]
     },
     "execution_count": 17,
     "metadata": {},
     "output_type": "execute_result"
    },
    {
     "data": {
      "text/html": [
       "<div>\n",
       "<style scoped>\n",
       "    .dataframe tbody tr th:only-of-type {\n",
       "        vertical-align: middle;\n",
       "    }\n",
       "\n",
       "    .dataframe tbody tr th {\n",
       "        vertical-align: top;\n",
       "    }\n",
       "\n",
       "    .dataframe thead th {\n",
       "        text-align: right;\n",
       "    }\n",
       "</style>\n",
       "<table border=\"1\" class=\"dataframe\">\n",
       "  <thead>\n",
       "    <tr style=\"text-align: right;\">\n",
       "      <th></th>\n",
       "      <th>Entity</th>\n",
       "      <th>Code</th>\n",
       "      <th>Year</th>\n",
       "      <th>DeathRate_per100K</th>\n",
       "      <th>Entity_type</th>\n",
       "    </tr>\n",
       "  </thead>\n",
       "  <tbody>\n",
       "    <tr>\n",
       "      <th>0</th>\n",
       "      <td>Afghanistan</td>\n",
       "      <td>AFG</td>\n",
       "      <td>1990</td>\n",
       "      <td>6.802930</td>\n",
       "      <td>country</td>\n",
       "    </tr>\n",
       "    <tr>\n",
       "      <th>1</th>\n",
       "      <td>Afghanistan</td>\n",
       "      <td>AFG</td>\n",
       "      <td>1991</td>\n",
       "      <td>6.973494</td>\n",
       "      <td>country</td>\n",
       "    </tr>\n",
       "    <tr>\n",
       "      <th>2</th>\n",
       "      <td>Afghanistan</td>\n",
       "      <td>AFG</td>\n",
       "      <td>1992</td>\n",
       "      <td>6.989882</td>\n",
       "      <td>country</td>\n",
       "    </tr>\n",
       "  </tbody>\n",
       "</table>\n",
       "</div>"
      ],
      "text/plain": [
       "        Entity Code  Year  DeathRate_per100K Entity_type\n",
       "0  Afghanistan  AFG  1990           6.802930     country\n",
       "1  Afghanistan  AFG  1991           6.973494     country\n",
       "2  Afghanistan  AFG  1992           6.989882     country"
      ]
     },
     "execution_count": 17,
     "metadata": {},
     "output_type": "execute_result"
    },
    {
     "name": "stdout",
     "output_type": "stream",
     "text": [
      "Dataframe: inc_rate_df\n",
      "Unique Entity_type in dataframe:\n"
     ]
    },
    {
     "data": {
      "text/plain": [
       "['country', 'income_class', 'region_class', 'world']"
      ]
     },
     "execution_count": 17,
     "metadata": {},
     "output_type": "execute_result"
    },
    {
     "data": {
      "text/html": [
       "<div>\n",
       "<style scoped>\n",
       "    .dataframe tbody tr th:only-of-type {\n",
       "        vertical-align: middle;\n",
       "    }\n",
       "\n",
       "    .dataframe tbody tr th {\n",
       "        vertical-align: top;\n",
       "    }\n",
       "\n",
       "    .dataframe thead th {\n",
       "        text-align: right;\n",
       "    }\n",
       "</style>\n",
       "<table border=\"1\" class=\"dataframe\">\n",
       "  <thead>\n",
       "    <tr style=\"text-align: right;\">\n",
       "      <th></th>\n",
       "      <th>Entity</th>\n",
       "      <th>Code</th>\n",
       "      <th>Year</th>\n",
       "      <th>IncRate_per100K</th>\n",
       "      <th>Entity_type</th>\n",
       "    </tr>\n",
       "  </thead>\n",
       "  <tbody>\n",
       "    <tr>\n",
       "      <th>0</th>\n",
       "      <td>Afghanistan</td>\n",
       "      <td>AFG</td>\n",
       "      <td>2000</td>\n",
       "      <td>107.1</td>\n",
       "      <td>country</td>\n",
       "    </tr>\n",
       "    <tr>\n",
       "      <th>1</th>\n",
       "      <td>Afghanistan</td>\n",
       "      <td>AFG</td>\n",
       "      <td>2005</td>\n",
       "      <td>46.5</td>\n",
       "      <td>country</td>\n",
       "    </tr>\n",
       "    <tr>\n",
       "      <th>2</th>\n",
       "      <td>Afghanistan</td>\n",
       "      <td>AFG</td>\n",
       "      <td>2010</td>\n",
       "      <td>23.9</td>\n",
       "      <td>country</td>\n",
       "    </tr>\n",
       "  </tbody>\n",
       "</table>\n",
       "</div>"
      ],
      "text/plain": [
       "        Entity Code  Year  IncRate_per100K Entity_type\n",
       "0  Afghanistan  AFG  2000            107.1     country\n",
       "1  Afghanistan  AFG  2005             46.5     country\n",
       "2  Afghanistan  AFG  2010             23.9     country"
      ]
     },
     "execution_count": 17,
     "metadata": {},
     "output_type": "execute_result"
    }
   ],
   "source": [
    "#Create new Enity_type column across the datasets:\n",
    "\n",
    "for data in dataframe_ls:\n",
    "    df = globals()[data].copy()\n",
    "    not_na_rows = df['Code'].notna()\n",
    "    \n",
    "    df['Entity_type'] = df['Entity'].apply(lambda x: entity_type(x))\n",
    "    df.loc[not_na_rows,'Entity_type'] = 'country'\n",
    "    df.loc[df['Entity']=='World','Entity_type'] = 'world'\n",
    "    \n",
    "    #printouts to view data for checking\n",
    "    print(f\"Dataframe: {data}\")\n",
    "    print(\"Unique Entity_type in dataframe:\")\n",
    "    df['Entity_type'].unique().tolist()\n",
    "    df.head(3)\n",
    "    globals()[data] = df"
   ]
  },
  {
   "cell_type": "markdown",
   "id": "e6a7f482-15ca-419a-94e5-5304130de9a2",
   "metadata": {},
   "source": [
    "**STANDARDISING COUNTRIES NAME** (`Updated_Entity`)"
   ]
  },
  {
   "cell_type": "code",
   "execution_count": 18,
   "id": "29c88db1-c3ff-42ed-9cc7-d4f4d2575c32",
   "metadata": {},
   "outputs": [],
   "source": [
    "#Step 1: create a dictionary with key: country code, value: country name\n",
    "gc = GeonamesCache()\n",
    "\n",
    "# Access data for specific entities\n",
    "gc_countries = gc.get_countries_by_names()\n",
    "\n",
    "# List of country CODE in GeonamesCache\n",
    "gc_country_codes = [value['iso3'] for key, value in gc_countries.items()]\n",
    "# List of country NAME in GeonamesCache\n",
    "gc_country_names = [key for key, value in gc_countries.items()]\n",
    "#Create dictionary\n",
    "gc_country_dict = {k:v for k,v in zip(gc_country_codes,gc_country_names)}"
   ]
  },
  {
   "cell_type": "code",
   "execution_count": 19,
   "id": "c2539b8a-d552-4840-a6c8-3c422bb71bd0",
   "metadata": {},
   "outputs": [
    {
     "name": "stdout",
     "output_type": "stream",
     "text": [
      "Dataframe: age_grp_death_df\n",
      "Country names with updates:\n"
     ]
    },
    {
     "data": {
      "text/html": [
       "<div>\n",
       "<style scoped>\n",
       "    .dataframe tbody tr th:only-of-type {\n",
       "        vertical-align: middle;\n",
       "    }\n",
       "\n",
       "    .dataframe tbody tr th {\n",
       "        vertical-align: top;\n",
       "    }\n",
       "\n",
       "    .dataframe thead th {\n",
       "        text-align: right;\n",
       "    }\n",
       "</style>\n",
       "<table border=\"1\" class=\"dataframe\">\n",
       "  <thead>\n",
       "    <tr style=\"text-align: right;\">\n",
       "      <th></th>\n",
       "      <th>Entity</th>\n",
       "      <th>Updated_Entity</th>\n",
       "    </tr>\n",
       "  </thead>\n",
       "  <tbody>\n",
       "    <tr>\n",
       "      <th>945</th>\n",
       "      <td>Cape Verde</td>\n",
       "      <td>Cabo Verde</td>\n",
       "    </tr>\n",
       "    <tr>\n",
       "      <th>1269</th>\n",
       "      <td>Congo</td>\n",
       "      <td>Republic of the Congo</td>\n",
       "    </tr>\n",
       "    <tr>\n",
       "      <th>1323</th>\n",
       "      <td>Cote d'Ivoire</td>\n",
       "      <td>Ivory Coast</td>\n",
       "    </tr>\n",
       "    <tr>\n",
       "      <th>1431</th>\n",
       "      <td>Czech Republic</td>\n",
       "      <td>Czechia</td>\n",
       "    </tr>\n",
       "    <tr>\n",
       "      <th>1458</th>\n",
       "      <td>Democratic Republic of Congo</td>\n",
       "      <td>Democratic Republic of the Congo</td>\n",
       "    </tr>\n",
       "    <tr>\n",
       "      <th>3213</th>\n",
       "      <td>Macedonia</td>\n",
       "      <td>North Macedonia</td>\n",
       "    </tr>\n",
       "    <tr>\n",
       "      <th>3510</th>\n",
       "      <td>Micronesia (country)</td>\n",
       "      <td>Micronesia</td>\n",
       "    </tr>\n",
       "    <tr>\n",
       "      <th>4158</th>\n",
       "      <td>Palestine</td>\n",
       "      <td>Palestinian Territory</td>\n",
       "    </tr>\n",
       "    <tr>\n",
       "      <th>5238</th>\n",
       "      <td>Swaziland</td>\n",
       "      <td>Eswatini</td>\n",
       "    </tr>\n",
       "    <tr>\n",
       "      <th>5454</th>\n",
       "      <td>Timor</td>\n",
       "      <td>Timor Leste</td>\n",
       "    </tr>\n",
       "    <tr>\n",
       "      <th>5805</th>\n",
       "      <td>United States Virgin Islands</td>\n",
       "      <td>U.S. Virgin Islands</td>\n",
       "    </tr>\n",
       "  </tbody>\n",
       "</table>\n",
       "</div>"
      ],
      "text/plain": [
       "                            Entity                    Updated_Entity\n",
       "945                     Cape Verde                        Cabo Verde\n",
       "1269                         Congo             Republic of the Congo\n",
       "1323                 Cote d'Ivoire                       Ivory Coast\n",
       "1431                Czech Republic                           Czechia\n",
       "1458  Democratic Republic of Congo  Democratic Republic of the Congo\n",
       "3213                     Macedonia                   North Macedonia\n",
       "3510          Micronesia (country)                        Micronesia\n",
       "4158                     Palestine             Palestinian Territory\n",
       "5238                     Swaziland                          Eswatini\n",
       "5454                         Timor                       Timor Leste\n",
       "5805  United States Virgin Islands               U.S. Virgin Islands"
      ]
     },
     "execution_count": 19,
     "metadata": {},
     "output_type": "execute_result"
    },
    {
     "name": "stdout",
     "output_type": "stream",
     "text": [
      "Dataframe: death_rate_df\n",
      "Country names with updates:\n"
     ]
    },
    {
     "data": {
      "text/html": [
       "<div>\n",
       "<style scoped>\n",
       "    .dataframe tbody tr th:only-of-type {\n",
       "        vertical-align: middle;\n",
       "    }\n",
       "\n",
       "    .dataframe tbody tr th {\n",
       "        vertical-align: top;\n",
       "    }\n",
       "\n",
       "    .dataframe thead th {\n",
       "        text-align: right;\n",
       "    }\n",
       "</style>\n",
       "<table border=\"1\" class=\"dataframe\">\n",
       "  <thead>\n",
       "    <tr style=\"text-align: right;\">\n",
       "      <th></th>\n",
       "      <th>Entity</th>\n",
       "      <th>Updated_Entity</th>\n",
       "    </tr>\n",
       "  </thead>\n",
       "  <tbody>\n",
       "    <tr>\n",
       "      <th>945</th>\n",
       "      <td>Cape Verde</td>\n",
       "      <td>Cabo Verde</td>\n",
       "    </tr>\n",
       "    <tr>\n",
       "      <th>1269</th>\n",
       "      <td>Congo</td>\n",
       "      <td>Republic of the Congo</td>\n",
       "    </tr>\n",
       "    <tr>\n",
       "      <th>1323</th>\n",
       "      <td>Cote d'Ivoire</td>\n",
       "      <td>Ivory Coast</td>\n",
       "    </tr>\n",
       "    <tr>\n",
       "      <th>1431</th>\n",
       "      <td>Czech Republic</td>\n",
       "      <td>Czechia</td>\n",
       "    </tr>\n",
       "    <tr>\n",
       "      <th>1458</th>\n",
       "      <td>Democratic Republic of Congo</td>\n",
       "      <td>Democratic Republic of the Congo</td>\n",
       "    </tr>\n",
       "    <tr>\n",
       "      <th>3213</th>\n",
       "      <td>Macedonia</td>\n",
       "      <td>North Macedonia</td>\n",
       "    </tr>\n",
       "    <tr>\n",
       "      <th>3510</th>\n",
       "      <td>Micronesia (country)</td>\n",
       "      <td>Micronesia</td>\n",
       "    </tr>\n",
       "    <tr>\n",
       "      <th>4158</th>\n",
       "      <td>Palestine</td>\n",
       "      <td>Palestinian Territory</td>\n",
       "    </tr>\n",
       "    <tr>\n",
       "      <th>5238</th>\n",
       "      <td>Swaziland</td>\n",
       "      <td>Eswatini</td>\n",
       "    </tr>\n",
       "    <tr>\n",
       "      <th>5454</th>\n",
       "      <td>Timor</td>\n",
       "      <td>Timor Leste</td>\n",
       "    </tr>\n",
       "    <tr>\n",
       "      <th>5805</th>\n",
       "      <td>United States Virgin Islands</td>\n",
       "      <td>U.S. Virgin Islands</td>\n",
       "    </tr>\n",
       "  </tbody>\n",
       "</table>\n",
       "</div>"
      ],
      "text/plain": [
       "                            Entity                    Updated_Entity\n",
       "945                     Cape Verde                        Cabo Verde\n",
       "1269                         Congo             Republic of the Congo\n",
       "1323                 Cote d'Ivoire                       Ivory Coast\n",
       "1431                Czech Republic                           Czechia\n",
       "1458  Democratic Republic of Congo  Democratic Republic of the Congo\n",
       "3213                     Macedonia                   North Macedonia\n",
       "3510          Micronesia (country)                        Micronesia\n",
       "4158                     Palestine             Palestinian Territory\n",
       "5238                     Swaziland                          Eswatini\n",
       "5454                         Timor                       Timor Leste\n",
       "5805  United States Virgin Islands               U.S. Virgin Islands"
      ]
     },
     "execution_count": 19,
     "metadata": {},
     "output_type": "execute_result"
    },
    {
     "name": "stdout",
     "output_type": "stream",
     "text": [
      "Dataframe: inc_rate_df\n",
      "Country names with updates:\n"
     ]
    },
    {
     "data": {
      "text/html": [
       "<div>\n",
       "<style scoped>\n",
       "    .dataframe tbody tr th:only-of-type {\n",
       "        vertical-align: middle;\n",
       "    }\n",
       "\n",
       "    .dataframe tbody tr th {\n",
       "        vertical-align: top;\n",
       "    }\n",
       "\n",
       "    .dataframe thead th {\n",
       "        text-align: right;\n",
       "    }\n",
       "</style>\n",
       "<table border=\"1\" class=\"dataframe\">\n",
       "  <thead>\n",
       "    <tr style=\"text-align: right;\">\n",
       "      <th></th>\n",
       "      <th>Entity</th>\n",
       "      <th>Updated_Entity</th>\n",
       "    </tr>\n",
       "  </thead>\n",
       "  <tbody>\n",
       "    <tr>\n",
       "      <th>64</th>\n",
       "      <td>Cape Verde</td>\n",
       "      <td>Cabo Verde</td>\n",
       "    </tr>\n",
       "    <tr>\n",
       "      <th>88</th>\n",
       "      <td>Congo</td>\n",
       "      <td>Republic of the Congo</td>\n",
       "    </tr>\n",
       "    <tr>\n",
       "      <th>96</th>\n",
       "      <td>Cote d'Ivoire</td>\n",
       "      <td>Ivory Coast</td>\n",
       "    </tr>\n",
       "    <tr>\n",
       "      <th>100</th>\n",
       "      <td>Democratic Republic of Congo</td>\n",
       "      <td>Democratic Republic of the Congo</td>\n",
       "    </tr>\n",
       "    <tr>\n",
       "      <th>440</th>\n",
       "      <td>Swaziland</td>\n",
       "      <td>Eswatini</td>\n",
       "    </tr>\n",
       "    <tr>\n",
       "      <th>456</th>\n",
       "      <td>Timor</td>\n",
       "      <td>Timor Leste</td>\n",
       "    </tr>\n",
       "  </tbody>\n",
       "</table>\n",
       "</div>"
      ],
      "text/plain": [
       "                           Entity                    Updated_Entity\n",
       "64                     Cape Verde                        Cabo Verde\n",
       "88                          Congo             Republic of the Congo\n",
       "96                  Cote d'Ivoire                       Ivory Coast\n",
       "100  Democratic Republic of Congo  Democratic Republic of the Congo\n",
       "440                     Swaziland                          Eswatini\n",
       "456                         Timor                       Timor Leste"
      ]
     },
     "execution_count": 19,
     "metadata": {},
     "output_type": "execute_result"
    }
   ],
   "source": [
    "#Step 2, create Updated Entity Column\n",
    "for data in dataframe_ls:\n",
    "    df = globals()[data].copy()\n",
    "    \n",
    "    #1. Duplicate the original entity column\n",
    "    df['Updated_Entity'] = df['Entity']\n",
    "    \n",
    "    #2. Rename country names\n",
    "    cond_1 = df['Code'].notna() \n",
    "    cond_2 = df['Entity']!= 'World'\n",
    "    df.loc[cond_1 & cond_2,'Updated_Entity'] = df['Code'].map(gc_country_dict)\n",
    "    \n",
    "    #3 view changes\n",
    "    print(f\"Dataframe: {data}\")\n",
    "    print(\"Country names with updates:\")\n",
    "    cond = df['Updated_Entity'] != df['Entity']\n",
    "    df.loc[cond, ['Entity','Updated_Entity']].drop_duplicates()\n",
    "    \n",
    "    #4 Update dataframe\n",
    "    globals()[data] = df\n",
    "    "
   ]
  },
  {
   "cell_type": "code",
   "execution_count": 20,
   "id": "394aaf03-0b24-4656-836e-4135995499ee",
   "metadata": {},
   "outputs": [
    {
     "data": {
      "text/plain": [
       "Series([], Name: Entity, dtype: int64)"
      ]
     },
     "execution_count": 20,
     "metadata": {},
     "output_type": "execute_result"
    },
    {
     "data": {
      "text/plain": [
       "Series([], Name: Entity, dtype: int64)"
      ]
     },
     "execution_count": 20,
     "metadata": {},
     "output_type": "execute_result"
    },
    {
     "data": {
      "text/plain": [
       "Series([], Name: Entity, dtype: int64)"
      ]
     },
     "execution_count": 20,
     "metadata": {},
     "output_type": "execute_result"
    }
   ],
   "source": [
    "#Check that each code only has ONE unique Entity\n",
    "for data in dataframe_ls:\n",
    "    df = globals()[data].copy()\n",
    "    grouped = df.groupby(\"Code\")\n",
    "    count_unique_names = grouped[\"Entity\"].nunique()\n",
    "    codes_with_multiple_names = count_unique_names[count_unique_names > 1]\n",
    "    codes_with_multiple_names"
   ]
  },
  {
   "cell_type": "markdown",
   "id": "8eba749a-18c3-4472-9e75-8ac19fc91f43",
   "metadata": {},
   "source": [
    "---\n",
    "**COMMENT**: What's done and What's Next<br>\n",
    "1. Entity with Code are countries\n",
    "1. Entity without Code are regions, classifications, or groupings related to demographic, economic, or geographical areas, but they do not represent individual countries.\n",
    "1. 'England','Scotland','Wales','Northern Ireland' do not have `Code` as they are under the 'United Kingdom'\n",
    "    - Subsequent analysis needs to be mindful of this.\n",
    "4. Checked that each Code only has one unique Entity.\n",
    "\n",
    "`Update`:\n",
    "1. New column `Entity_type` created, labelling entity as `country`, `region_class` or `income_class`\n",
    "1. New column `Updated_Entity` created to ensure country name is standardised.\n",
    "\n",
    "PLAN:<br>\n",
    "- Next, we will explore if the unique Entity are same across the three datasets"
   ]
  },
  {
   "cell_type": "markdown",
   "id": "169997a2-df8e-44f2-a227-65a457163c51",
   "metadata": {},
   "source": [
    "### Step 4: Are the unique Entities same across the datasets"
   ]
  },
  {
   "cell_type": "markdown",
   "id": "4189705f-368e-422a-8152-5e985fbfbab5",
   "metadata": {},
   "source": [
    "Are the unique Entities same between `age_grp_death_df` & `death_rate_df`?"
   ]
  },
  {
   "cell_type": "code",
   "execution_count": 21,
   "id": "5a53fcaa-7454-4aab-9e06-00723f0e2935",
   "metadata": {},
   "outputs": [
    {
     "data": {
      "text/plain": [
       "True"
      ]
     },
     "execution_count": 21,
     "metadata": {},
     "output_type": "execute_result"
    }
   ],
   "source": [
    "{x for x in age_grp_death_df['Updated_Entity']} == {x for x in death_rate_df['Updated_Entity']}"
   ]
  },
  {
   "cell_type": "markdown",
   "id": "42a566c8-fa24-400f-9c78-b80679f3d348",
   "metadata": {},
   "source": [
    "Are the unique Entities same between `inc_rate_df` & other two datasets?\n",
    "> - Entity in `age_grp_death_df` and `death_rate_df` are identical\n",
    "> - Earlier on we noticed that the number of unique entities in `inc_rate_df` is lesser than that of the other two dataset.\n",
    "> - As such, we will examine the difference in Entity present between the incidence dataset (`inc_rate_df`) and the death datasets (`age_grp_death_df` and `death_rate_df`)."
   ]
  },
  {
   "cell_type": "code",
   "execution_count": 22,
   "id": "c278398e-e9f4-4367-9ea2-3755929d5991",
   "metadata": {},
   "outputs": [
    {
     "name": "stdout",
     "output_type": "stream",
     "text": [
      "Number of Entity that:\n",
      "Are in all three datasets: 102\n",
      "Are exclusively in either incidence dataset or death datasets: 151\n",
      "Are exclusively in incident dataset: 25\n"
     ]
    }
   ],
   "source": [
    "ent_in_deathdate = {x for x in age_grp_death_df['Updated_Entity']}\n",
    "ent_in_incdata = {x for x in inc_rate_df['Updated_Entity']}\n",
    "ent_in_all = ent_in_deathdate & ent_in_incdata\n",
    "ent_in_either_notboth = {x for x in ent_in_deathdate|ent_in_incdata if x not in ent_in_all}\n",
    "ent_onlyin_incdata = {x for x in ent_in_incdata if x not in ent_in_deathdate&ent_in_incdata}\n",
    "\n",
    "print(f\"\"\"Number of Entity that:\n",
    "Are in all three datasets: {len(ent_in_all)}\n",
    "Are exclusively in either incidence dataset or death datasets: {len(ent_in_either_notboth)}\n",
    "Are exclusively in incident dataset: {len(ent_onlyin_incdata)}\"\"\")"
   ]
  },
  {
   "cell_type": "code",
   "execution_count": 23,
   "id": "8072184b-2b6f-43cd-afb0-553119530883",
   "metadata": {},
   "outputs": [
    {
     "data": {
      "text/html": [
       "<div>\n",
       "<style scoped>\n",
       "    .dataframe tbody tr th:only-of-type {\n",
       "        vertical-align: middle;\n",
       "    }\n",
       "\n",
       "    .dataframe tbody tr th {\n",
       "        vertical-align: top;\n",
       "    }\n",
       "\n",
       "    .dataframe thead th {\n",
       "        text-align: right;\n",
       "    }\n",
       "</style>\n",
       "<table border=\"1\" class=\"dataframe\">\n",
       "  <thead>\n",
       "    <tr style=\"text-align: right;\">\n",
       "      <th></th>\n",
       "      <th>Updated_Entity</th>\n",
       "      <th>Entity_type</th>\n",
       "    </tr>\n",
       "  </thead>\n",
       "  <tbody>\n",
       "    <tr>\n",
       "      <th>0</th>\n",
       "      <td>Afghanistan</td>\n",
       "      <td>country</td>\n",
       "    </tr>\n",
       "    <tr>\n",
       "      <th>54</th>\n",
       "      <td>Algeria</td>\n",
       "      <td>country</td>\n",
       "    </tr>\n",
       "    <tr>\n",
       "      <th>162</th>\n",
       "      <td>Angola</td>\n",
       "      <td>country</td>\n",
       "    </tr>\n",
       "    <tr>\n",
       "      <th>216</th>\n",
       "      <td>Argentina</td>\n",
       "      <td>country</td>\n",
       "    </tr>\n",
       "    <tr>\n",
       "      <th>351</th>\n",
       "      <td>Azerbaijan</td>\n",
       "      <td>country</td>\n",
       "    </tr>\n",
       "    <tr>\n",
       "      <th>...</th>\n",
       "      <td>...</td>\n",
       "      <td>...</td>\n",
       "    </tr>\n",
       "    <tr>\n",
       "      <th>5940</th>\n",
       "      <td>Vietnam</td>\n",
       "      <td>country</td>\n",
       "    </tr>\n",
       "    <tr>\n",
       "      <th>6048</th>\n",
       "      <td>World</td>\n",
       "      <td>world</td>\n",
       "    </tr>\n",
       "    <tr>\n",
       "      <th>6075</th>\n",
       "      <td>Yemen</td>\n",
       "      <td>country</td>\n",
       "    </tr>\n",
       "    <tr>\n",
       "      <th>6102</th>\n",
       "      <td>Zambia</td>\n",
       "      <td>country</td>\n",
       "    </tr>\n",
       "    <tr>\n",
       "      <th>6129</th>\n",
       "      <td>Zimbabwe</td>\n",
       "      <td>country</td>\n",
       "    </tr>\n",
       "  </tbody>\n",
       "</table>\n",
       "<p>102 rows × 2 columns</p>\n",
       "</div>"
      ],
      "text/plain": [
       "     Updated_Entity Entity_type\n",
       "0       Afghanistan     country\n",
       "54          Algeria     country\n",
       "162          Angola     country\n",
       "216       Argentina     country\n",
       "351      Azerbaijan     country\n",
       "...             ...         ...\n",
       "5940        Vietnam     country\n",
       "6048          World       world\n",
       "6075          Yemen     country\n",
       "6102         Zambia     country\n",
       "6129       Zimbabwe     country\n",
       "\n",
       "[102 rows x 2 columns]"
      ]
     },
     "execution_count": 23,
     "metadata": {},
     "output_type": "execute_result"
    },
    {
     "data": {
      "text/plain": [
       "country         99\n",
       "region_class     2\n",
       "world            1\n",
       "Name: Entity_type, dtype: int64"
      ]
     },
     "execution_count": 23,
     "metadata": {},
     "output_type": "execute_result"
    }
   ],
   "source": [
    "#Nature of the entity in all three datasets:\n",
    "cond = death_rate_df['Updated_Entity'].isin(ent_in_all)\n",
    "_d = death_rate_df.loc[cond,['Updated_Entity','Entity_type']].drop_duplicates()\n",
    "_d\n",
    "_d['Entity_type'].value_counts()"
   ]
  },
  {
   "cell_type": "code",
   "execution_count": 24,
   "id": "7a6c13ae-70c6-4140-b0d8-6eb073691575",
   "metadata": {},
   "outputs": [
    {
     "data": {
      "text/html": [
       "<div>\n",
       "<style scoped>\n",
       "    .dataframe tbody tr th:only-of-type {\n",
       "        vertical-align: middle;\n",
       "    }\n",
       "\n",
       "    .dataframe tbody tr th {\n",
       "        vertical-align: top;\n",
       "    }\n",
       "\n",
       "    .dataframe thead th {\n",
       "        text-align: right;\n",
       "    }\n",
       "</style>\n",
       "<table border=\"1\" class=\"dataframe\">\n",
       "  <thead>\n",
       "    <tr style=\"text-align: right;\">\n",
       "      <th></th>\n",
       "      <th>Updated_Entity</th>\n",
       "      <th>Entity_type</th>\n",
       "    </tr>\n",
       "  </thead>\n",
       "  <tbody>\n",
       "    <tr>\n",
       "      <th>27</th>\n",
       "      <td>Albania</td>\n",
       "      <td>country</td>\n",
       "    </tr>\n",
       "    <tr>\n",
       "      <th>81</th>\n",
       "      <td>American Samoa</td>\n",
       "      <td>country</td>\n",
       "    </tr>\n",
       "    <tr>\n",
       "      <th>108</th>\n",
       "      <td>Andean Latin America</td>\n",
       "      <td>region_class</td>\n",
       "    </tr>\n",
       "    <tr>\n",
       "      <th>135</th>\n",
       "      <td>Andorra</td>\n",
       "      <td>country</td>\n",
       "    </tr>\n",
       "    <tr>\n",
       "      <th>189</th>\n",
       "      <td>Antigua and Barbuda</td>\n",
       "      <td>country</td>\n",
       "    </tr>\n",
       "    <tr>\n",
       "      <th>...</th>\n",
       "      <td>...</td>\n",
       "      <td>...</td>\n",
       "    </tr>\n",
       "    <tr>\n",
       "      <th>5805</th>\n",
       "      <td>U.S. Virgin Islands</td>\n",
       "      <td>country</td>\n",
       "    </tr>\n",
       "    <tr>\n",
       "      <th>5832</th>\n",
       "      <td>Uruguay</td>\n",
       "      <td>country</td>\n",
       "    </tr>\n",
       "    <tr>\n",
       "      <th>5967</th>\n",
       "      <td>Wales</td>\n",
       "      <td>country</td>\n",
       "    </tr>\n",
       "    <tr>\n",
       "      <th>5994</th>\n",
       "      <td>Western Europe</td>\n",
       "      <td>region_class</td>\n",
       "    </tr>\n",
       "    <tr>\n",
       "      <th>6021</th>\n",
       "      <td>Western Sub-Saharan Africa</td>\n",
       "      <td>region_class</td>\n",
       "    </tr>\n",
       "  </tbody>\n",
       "</table>\n",
       "<p>126 rows × 2 columns</p>\n",
       "</div>"
      ],
      "text/plain": [
       "                  Updated_Entity   Entity_type\n",
       "27                       Albania       country\n",
       "81                American Samoa       country\n",
       "108         Andean Latin America  region_class\n",
       "135                      Andorra       country\n",
       "189          Antigua and Barbuda       country\n",
       "...                          ...           ...\n",
       "5805         U.S. Virgin Islands       country\n",
       "5832                     Uruguay       country\n",
       "5967                       Wales       country\n",
       "5994              Western Europe  region_class\n",
       "6021  Western Sub-Saharan Africa  region_class\n",
       "\n",
       "[126 rows x 2 columns]"
      ]
     },
     "execution_count": 24,
     "metadata": {},
     "output_type": "execute_result"
    },
    {
     "data": {
      "text/plain": [
       "country         100\n",
       "region_class     20\n",
       "income_class      6\n",
       "Name: Entity_type, dtype: int64"
      ]
     },
     "execution_count": 24,
     "metadata": {},
     "output_type": "execute_result"
    }
   ],
   "source": [
    "#Nature of the entity not found in inc_rate_df but found in other two data sets:\n",
    "cond = ~death_rate_df['Updated_Entity'].isin(ent_in_all)\n",
    "_d = death_rate_df.loc[cond,['Updated_Entity','Entity_type']].drop_duplicates()\n",
    "_d\n",
    "_d['Entity_type'].value_counts()"
   ]
  },
  {
   "cell_type": "code",
   "execution_count": 25,
   "id": "c6c4c121-ad8b-485e-9f6d-abb55b372caf",
   "metadata": {},
   "outputs": [
    {
     "data": {
      "text/html": [
       "<div>\n",
       "<style scoped>\n",
       "    .dataframe tbody tr th:only-of-type {\n",
       "        vertical-align: middle;\n",
       "    }\n",
       "\n",
       "    .dataframe tbody tr th {\n",
       "        vertical-align: top;\n",
       "    }\n",
       "\n",
       "    .dataframe thead th {\n",
       "        text-align: right;\n",
       "    }\n",
       "</style>\n",
       "<table border=\"1\" class=\"dataframe\">\n",
       "  <thead>\n",
       "    <tr style=\"text-align: right;\">\n",
       "      <th></th>\n",
       "      <th>Updated_Entity</th>\n",
       "      <th>Entity_type</th>\n",
       "    </tr>\n",
       "  </thead>\n",
       "  <tbody>\n",
       "    <tr>\n",
       "      <th>112</th>\n",
       "      <td>Early-demographic dividend</td>\n",
       "      <td>income_class</td>\n",
       "    </tr>\n",
       "    <tr>\n",
       "      <th>116</th>\n",
       "      <td>East Asia &amp; Pacific</td>\n",
       "      <td>region_class</td>\n",
       "    </tr>\n",
       "    <tr>\n",
       "      <th>120</th>\n",
       "      <td>East Asia &amp; Pacific (IDA &amp; IBRD)</td>\n",
       "      <td>income_class</td>\n",
       "    </tr>\n",
       "    <tr>\n",
       "      <th>124</th>\n",
       "      <td>East Asia &amp; Pacific (excluding high income)</td>\n",
       "      <td>income_class</td>\n",
       "    </tr>\n",
       "    <tr>\n",
       "      <th>148</th>\n",
       "      <td>Fragile and conflict affected situations</td>\n",
       "      <td>region_class</td>\n",
       "    </tr>\n",
       "    <tr>\n",
       "      <th>188</th>\n",
       "      <td>Heavily indebted poor countries (HIPC)</td>\n",
       "      <td>income_class</td>\n",
       "    </tr>\n",
       "    <tr>\n",
       "      <th>196</th>\n",
       "      <td>IBRD only</td>\n",
       "      <td>income_class</td>\n",
       "    </tr>\n",
       "    <tr>\n",
       "      <th>200</th>\n",
       "      <td>IDA &amp; IBRD total</td>\n",
       "      <td>income_class</td>\n",
       "    </tr>\n",
       "    <tr>\n",
       "      <th>204</th>\n",
       "      <td>IDA blend</td>\n",
       "      <td>income_class</td>\n",
       "    </tr>\n",
       "    <tr>\n",
       "      <th>208</th>\n",
       "      <td>IDA only</td>\n",
       "      <td>income_class</td>\n",
       "    </tr>\n",
       "    <tr>\n",
       "      <th>212</th>\n",
       "      <td>IDA total</td>\n",
       "      <td>income_class</td>\n",
       "    </tr>\n",
       "    <tr>\n",
       "      <th>244</th>\n",
       "      <td>Late-demographic dividend</td>\n",
       "      <td>income_class</td>\n",
       "    </tr>\n",
       "    <tr>\n",
       "      <th>248</th>\n",
       "      <td>Latin America &amp; Caribbean</td>\n",
       "      <td>region_class</td>\n",
       "    </tr>\n",
       "    <tr>\n",
       "      <th>252</th>\n",
       "      <td>Latin America &amp; Caribbean (IDA &amp; IBRD)</td>\n",
       "      <td>income_class</td>\n",
       "    </tr>\n",
       "    <tr>\n",
       "      <th>256</th>\n",
       "      <td>Latin America &amp; Caribbean (excluding high income)</td>\n",
       "      <td>income_class</td>\n",
       "    </tr>\n",
       "    <tr>\n",
       "      <th>260</th>\n",
       "      <td>Least developed countries: UN classification</td>\n",
       "      <td>income_class</td>\n",
       "    </tr>\n",
       "    <tr>\n",
       "      <th>268</th>\n",
       "      <td>Low &amp; middle income</td>\n",
       "      <td>income_class</td>\n",
       "    </tr>\n",
       "    <tr>\n",
       "      <th>272</th>\n",
       "      <td>Low income</td>\n",
       "      <td>income_class</td>\n",
       "    </tr>\n",
       "    <tr>\n",
       "      <th>276</th>\n",
       "      <td>Lower middle income</td>\n",
       "      <td>income_class</td>\n",
       "    </tr>\n",
       "    <tr>\n",
       "      <th>304</th>\n",
       "      <td>Middle income</td>\n",
       "      <td>income_class</td>\n",
       "    </tr>\n",
       "    <tr>\n",
       "      <th>364</th>\n",
       "      <td>Pre-demographic dividend</td>\n",
       "      <td>income_class</td>\n",
       "    </tr>\n",
       "    <tr>\n",
       "      <th>404</th>\n",
       "      <td>South Asia (IDA &amp; IBRD)</td>\n",
       "      <td>income_class</td>\n",
       "    </tr>\n",
       "    <tr>\n",
       "      <th>424</th>\n",
       "      <td>Sub-Saharan Africa (IDA &amp; IBRD)</td>\n",
       "      <td>income_class</td>\n",
       "    </tr>\n",
       "    <tr>\n",
       "      <th>428</th>\n",
       "      <td>Sub-Saharan Africa (excluding high income)</td>\n",
       "      <td>income_class</td>\n",
       "    </tr>\n",
       "    <tr>\n",
       "      <th>472</th>\n",
       "      <td>Upper middle income</td>\n",
       "      <td>income_class</td>\n",
       "    </tr>\n",
       "  </tbody>\n",
       "</table>\n",
       "</div>"
      ],
      "text/plain": [
       "                                        Updated_Entity   Entity_type\n",
       "112                         Early-demographic dividend  income_class\n",
       "116                                East Asia & Pacific  region_class\n",
       "120                   East Asia & Pacific (IDA & IBRD)  income_class\n",
       "124        East Asia & Pacific (excluding high income)  income_class\n",
       "148           Fragile and conflict affected situations  region_class\n",
       "188             Heavily indebted poor countries (HIPC)  income_class\n",
       "196                                          IBRD only  income_class\n",
       "200                                   IDA & IBRD total  income_class\n",
       "204                                          IDA blend  income_class\n",
       "208                                           IDA only  income_class\n",
       "212                                          IDA total  income_class\n",
       "244                          Late-demographic dividend  income_class\n",
       "248                          Latin America & Caribbean  region_class\n",
       "252             Latin America & Caribbean (IDA & IBRD)  income_class\n",
       "256  Latin America & Caribbean (excluding high income)  income_class\n",
       "260       Least developed countries: UN classification  income_class\n",
       "268                                Low & middle income  income_class\n",
       "272                                         Low income  income_class\n",
       "276                                Lower middle income  income_class\n",
       "304                                      Middle income  income_class\n",
       "364                           Pre-demographic dividend  income_class\n",
       "404                            South Asia (IDA & IBRD)  income_class\n",
       "424                    Sub-Saharan Africa (IDA & IBRD)  income_class\n",
       "428         Sub-Saharan Africa (excluding high income)  income_class\n",
       "472                                Upper middle income  income_class"
      ]
     },
     "execution_count": 25,
     "metadata": {},
     "output_type": "execute_result"
    },
    {
     "data": {
      "text/plain": [
       "income_class    22\n",
       "region_class     3\n",
       "Name: Entity_type, dtype: int64"
      ]
     },
     "execution_count": 25,
     "metadata": {},
     "output_type": "execute_result"
    }
   ],
   "source": [
    "#Nature of the entity not found in death_rate_df but in inc_rate_df:\n",
    "cond = ~inc_rate_df['Updated_Entity'].isin(ent_in_all)\n",
    "_d = inc_rate_df.loc[cond,['Updated_Entity','Entity_type']].drop_duplicates()\n",
    "_d\n",
    "_d['Entity_type'].value_counts()"
   ]
  },
  {
   "cell_type": "code",
   "execution_count": 26,
   "id": "659b9ec7-1930-4d69-af3c-a48cad11f668",
   "metadata": {},
   "outputs": [
    {
     "name": "stdout",
     "output_type": "stream",
     "text": [
      "\n",
      " age_grp_death_df\n"
     ]
    },
    {
     "data": {
      "text/plain": [
       "country         199\n",
       "region_class     22\n",
       "income_class      6\n",
       "world             1\n",
       "Name: Entity_type, dtype: int64"
      ]
     },
     "execution_count": 26,
     "metadata": {},
     "output_type": "execute_result"
    },
    {
     "name": "stdout",
     "output_type": "stream",
     "text": [
      "\n",
      " death_rate_df\n"
     ]
    },
    {
     "data": {
      "text/plain": [
       "country         199\n",
       "region_class     22\n",
       "income_class      6\n",
       "world             1\n",
       "Name: Entity_type, dtype: int64"
      ]
     },
     "execution_count": 26,
     "metadata": {},
     "output_type": "execute_result"
    },
    {
     "name": "stdout",
     "output_type": "stream",
     "text": [
      "\n",
      " inc_rate_df\n"
     ]
    },
    {
     "data": {
      "text/plain": [
       "country         99\n",
       "income_class    22\n",
       "region_class     5\n",
       "world            1\n",
       "Name: Entity_type, dtype: int64"
      ]
     },
     "execution_count": 26,
     "metadata": {},
     "output_type": "execute_result"
    }
   ],
   "source": [
    "#Entity_types breakdown:\n",
    "for data in dataframe_ls:\n",
    "    print(\"\\n\",data)\n",
    "    df = globals()[data].copy()\n",
    "    _d = df.loc[:,['Updated_Entity','Entity_type']].drop_duplicates()\n",
    "    _d['Entity_type'].value_counts()"
   ]
  },
  {
   "cell_type": "markdown",
   "id": "cd72c26d-d244-4ac7-9e3c-dc8da384846f",
   "metadata": {},
   "source": [
    "---\n",
    "**COMMENT**: What's done and What's Next<br>\n",
    "1. The death datasets (`age_grp_death_df` and `death_rate_df`) have identical Entity sets\n",
    "1. `inc_rate_df` have dissimilar Entity from the other two data.\n",
    "\n",
    "|||\n",
    "|---|---|\n",
    "|Found in all three datasets:|<li>100 countries<li>2 regions<li>0 income class|\n",
    "|Found in death-related datasets only:|<li>100 countries<li>20 regions<li>6 income class|\n",
    "|Found in incidence rate dataset only:|<li>0 countries<li>3 regions<li>22 income class|\n",
    "\n",
    "\n",
    "PLAN:<br>\n",
    "- The insights gained here will be useful in subsequent cross-data analysis.\n",
    "- Next, we will explore if all entities have records across the years, or are there years certain entities have no records.\n",
    "---"
   ]
  },
  {
   "cell_type": "markdown",
   "id": "111a788d-eb28-42b9-868d-f00a07c421b7",
   "metadata": {
    "tags": []
   },
   "source": [
    "## 3.3 Further Data Exploration: `Entity` and `Year`\n",
    "- Explore if all entities have records across the years, or are there years certain entities have no records."
   ]
  },
  {
   "cell_type": "code",
   "execution_count": 27,
   "id": "3364c779-7ff2-43ed-a6a3-5ba4110a6fe0",
   "metadata": {
    "tags": []
   },
   "outputs": [
    {
     "name": "stdout",
     "output_type": "stream",
     "text": [
      "\n",
      "Dataframe: age_grp_death_df\n",
      "Number of unique Entity in dataset: 228\n",
      "Number of unique Entity per year in dataset:\n"
     ]
    },
    {
     "data": {
      "text/plain": [
       "Year\n",
       "1990    228\n",
       "1991    228\n",
       "1992    228\n",
       "1993    228\n",
       "1994    228\n",
       "1995    228\n",
       "1996    228\n",
       "1997    228\n",
       "1998    228\n",
       "1999    228\n",
       "2000    228\n",
       "2001    228\n",
       "2002    228\n",
       "2003    228\n",
       "2004    228\n",
       "2005    228\n",
       "2006    228\n",
       "2007    228\n",
       "2008    228\n",
       "2009    228\n",
       "2010    228\n",
       "2011    228\n",
       "2012    228\n",
       "2013    228\n",
       "2014    228\n",
       "2015    228\n",
       "2016    228\n",
       "Name: Updated_Entity, dtype: int64"
      ]
     },
     "execution_count": 27,
     "metadata": {},
     "output_type": "execute_result"
    },
    {
     "name": "stdout",
     "output_type": "stream",
     "text": [
      "\n",
      "Dataframe: death_rate_df\n",
      "Number of unique Entity in dataset: 228\n",
      "Number of unique Entity per year in dataset:\n"
     ]
    },
    {
     "data": {
      "text/plain": [
       "Year\n",
       "1990    228\n",
       "1991    228\n",
       "1992    228\n",
       "1993    228\n",
       "1994    228\n",
       "1995    228\n",
       "1996    228\n",
       "1997    228\n",
       "1998    228\n",
       "1999    228\n",
       "2000    228\n",
       "2001    228\n",
       "2002    228\n",
       "2003    228\n",
       "2004    228\n",
       "2005    228\n",
       "2006    228\n",
       "2007    228\n",
       "2008    228\n",
       "2009    228\n",
       "2010    228\n",
       "2011    228\n",
       "2012    228\n",
       "2013    228\n",
       "2014    228\n",
       "2015    228\n",
       "2016    228\n",
       "Name: Updated_Entity, dtype: int64"
      ]
     },
     "execution_count": 27,
     "metadata": {},
     "output_type": "execute_result"
    },
    {
     "name": "stdout",
     "output_type": "stream",
     "text": [
      "\n",
      "Dataframe: inc_rate_df\n",
      "Number of unique Entity in dataset: 127\n",
      "Number of unique Entity per year in dataset:\n"
     ]
    },
    {
     "data": {
      "text/plain": [
       "Year\n",
       "2000    127\n",
       "2005    127\n",
       "2010    127\n",
       "2015    127\n",
       "Name: Updated_Entity, dtype: int64"
      ]
     },
     "execution_count": 27,
     "metadata": {},
     "output_type": "execute_result"
    }
   ],
   "source": [
    "for data in dataframe_ls:\n",
    "    df = globals()[data].copy()\n",
    "    print(f\"\\nDataframe: {data}\")\n",
    "    print(f\"Number of unique Entity in dataset: {df['Updated_Entity'].nunique()}\")\n",
    "    print(\"Number of unique Entity per year in dataset:\")\n",
    "    df.groupby('Year')['Updated_Entity'].nunique()"
   ]
  },
  {
   "cell_type": "markdown",
   "id": "3434b1d7-16e2-4331-b2c2-d6d477860725",
   "metadata": {},
   "source": [
    "---\n",
    "**COMMENT**: Findings<br>\n",
    "1. All unique Entity have data entry across the years reported in each dataset.\n",
    "1. Unlike the other two datasets which have records from 1990-2016, `inc_rate_df` only have records from 2000, 2005, 2010 and 2015.\n",
    "\n",
    "PLAN:<br>\n",
    "Explore if each entity and year have all the age groups.\n",
    "---"
   ]
  },
  {
   "cell_type": "markdown",
   "id": "9b72769d-a522-42ea-9a35-2e9a54784aa5",
   "metadata": {
    "tags": []
   },
   "source": [
    "## 3.4 Further Data Exploration: `Entity` and `Age_group`\n",
    "- Explore if each entity and year have all the age groups."
   ]
  },
  {
   "cell_type": "code",
   "execution_count": 28,
   "id": "daeeb5f5-a6f5-4025-be62-7bcde63be449",
   "metadata": {},
   "outputs": [
    {
     "data": {
      "text/html": [
       "<div>\n",
       "<style scoped>\n",
       "    .dataframe tbody tr th:only-of-type {\n",
       "        vertical-align: middle;\n",
       "    }\n",
       "\n",
       "    .dataframe tbody tr th {\n",
       "        vertical-align: top;\n",
       "    }\n",
       "\n",
       "    .dataframe thead th {\n",
       "        text-align: right;\n",
       "    }\n",
       "</style>\n",
       "<table border=\"1\" class=\"dataframe\">\n",
       "  <thead>\n",
       "    <tr style=\"text-align: right;\">\n",
       "      <th></th>\n",
       "      <th>Entity</th>\n",
       "      <th>Code</th>\n",
       "      <th>Year</th>\n",
       "      <th>Age_group</th>\n",
       "      <th>Deaths</th>\n",
       "      <th>Entity_type</th>\n",
       "      <th>Updated_Entity</th>\n",
       "    </tr>\n",
       "  </thead>\n",
       "  <tbody>\n",
       "    <tr>\n",
       "      <th>0</th>\n",
       "      <td>Afghanistan</td>\n",
       "      <td>AFG</td>\n",
       "      <td>1990</td>\n",
       "      <td>Under 5</td>\n",
       "      <td>184.606435</td>\n",
       "      <td>country</td>\n",
       "      <td>Afghanistan</td>\n",
       "    </tr>\n",
       "    <tr>\n",
       "      <th>1</th>\n",
       "      <td>Afghanistan</td>\n",
       "      <td>AFG</td>\n",
       "      <td>1991</td>\n",
       "      <td>Under 5</td>\n",
       "      <td>191.658193</td>\n",
       "      <td>country</td>\n",
       "      <td>Afghanistan</td>\n",
       "    </tr>\n",
       "    <tr>\n",
       "      <th>2</th>\n",
       "      <td>Afghanistan</td>\n",
       "      <td>AFG</td>\n",
       "      <td>1992</td>\n",
       "      <td>Under 5</td>\n",
       "      <td>197.140197</td>\n",
       "      <td>country</td>\n",
       "      <td>Afghanistan</td>\n",
       "    </tr>\n",
       "    <tr>\n",
       "      <th>3</th>\n",
       "      <td>Afghanistan</td>\n",
       "      <td>AFG</td>\n",
       "      <td>1993</td>\n",
       "      <td>Under 5</td>\n",
       "      <td>207.357753</td>\n",
       "      <td>country</td>\n",
       "      <td>Afghanistan</td>\n",
       "    </tr>\n",
       "    <tr>\n",
       "      <th>4</th>\n",
       "      <td>Afghanistan</td>\n",
       "      <td>AFG</td>\n",
       "      <td>1994</td>\n",
       "      <td>Under 5</td>\n",
       "      <td>226.209363</td>\n",
       "      <td>country</td>\n",
       "      <td>Afghanistan</td>\n",
       "    </tr>\n",
       "  </tbody>\n",
       "</table>\n",
       "</div>"
      ],
      "text/plain": [
       "        Entity Code  Year Age_group      Deaths Entity_type Updated_Entity\n",
       "0  Afghanistan  AFG  1990   Under 5  184.606435     country    Afghanistan\n",
       "1  Afghanistan  AFG  1991   Under 5  191.658193     country    Afghanistan\n",
       "2  Afghanistan  AFG  1992   Under 5  197.140197     country    Afghanistan\n",
       "3  Afghanistan  AFG  1993   Under 5  207.357753     country    Afghanistan\n",
       "4  Afghanistan  AFG  1994   Under 5  226.209363     country    Afghanistan"
      ]
     },
     "execution_count": 28,
     "metadata": {},
     "output_type": "execute_result"
    }
   ],
   "source": [
    "age_grp_death_df.head()"
   ]
  },
  {
   "cell_type": "code",
   "execution_count": 29,
   "id": "73048d6b-9799-4c35-af0c-7bb069d77282",
   "metadata": {},
   "outputs": [
    {
     "data": {
      "text/plain": [
       "array(['Under 5', '70 or older', '5-14', '15-49', '50-69'], dtype=object)"
      ]
     },
     "execution_count": 29,
     "metadata": {},
     "output_type": "execute_result"
    }
   ],
   "source": [
    "age_grp_death_df['Age_group'].unique()"
   ]
  },
  {
   "cell_type": "code",
   "execution_count": 30,
   "id": "9bd2bb5e-2158-447d-833f-8a512adba444",
   "metadata": {},
   "outputs": [
    {
     "data": {
      "text/plain": [
       "True"
      ]
     },
     "execution_count": 30,
     "metadata": {},
     "output_type": "execute_result"
    }
   ],
   "source": [
    "_s = age_grp_death_df.groupby(['Age_group','Year'])['Updated_Entity'].nunique()\n",
    "total_unique_ent = age_grp_death_df['Updated_Entity'].nunique()\n",
    "len(_s) == len(_s[_s==total_unique_ent])"
   ]
  },
  {
   "cell_type": "markdown",
   "id": "f2d042f2-f223-4ab4-b46e-e587236e8942",
   "metadata": {},
   "source": [
    "---\n",
    "**COMMENT**: Findings<br>\n",
    "1. All entity and year have all the age groups.\n",
    "---"
   ]
  },
  {
   "cell_type": "markdown",
   "id": "13a97545-9f10-404d-90c7-503f22740543",
   "metadata": {
    "tags": []
   },
   "source": [
    "# Part 4: Notebook Summary & Export\n",
    "\n",
    "The three datasets have been checked for obvious issues and their nature have been explored.\n",
    "In the next notebook, we will perform more focused and granular analysis with data visualisations.\n",
    "\n",
    "**SUMMARY OF THE THREE DATA SETS**\n",
    "|DataSet|Description|Similarity with other datasets|\n",
    "|---|---|---|\n",
    "|age_grp_death_df|<li>228 Unique entities (200 countries, 22 regions, 6 income class)<li>Shows number of malaria deaths of 5 different age groups across the years 1990-2016|<li>Identical set of Entity as `death_rate_df`<li>Do not have income class entity that are found in `inc_rate_df`<li>Out of the 200 Countries found in this dataset, 100 are found in `inc_rate_df` as well.|\n",
    "|death_rate_df|<li>228 Unique entities (200 countries, 22 regions, 6 income class)<li>Shows malaria deaths rates across the years 1990-2016|<li>Identical set of Entity as `age_grp_death_df`<li>Do not have income class entity that are found in `inc_rate_df`<li>Out of the 200 Countries found in this dataset, 100 are found in `inc_rate_df` as well.|\n",
    "|inc_rate_df|<li>127 Unique entities (100 countries, 5 regions, 22 income class)<li>Shows malaria incidence rates in the years 2000, 2005, 2015 and 2015|<li>Countries found in this dataset are found in all other datasets<li>Have most of the unique income-class entity compared to the other datasets|"
   ]
  },
  {
   "cell_type": "code",
   "execution_count": 31,
   "id": "e55aa49f-71d2-4ad3-bbd9-7ddd69c4c8f1",
   "metadata": {},
   "outputs": [],
   "source": [
    "for data in dataframe_ls:\n",
    "    globals()[data].to_csv(f\"../data_output/{data}.csv\", index=False)"
   ]
  }
 ],
 "metadata": {
  "kernelspec": {
   "display_name": "Python 3 (ipykernel)",
   "language": "python",
   "name": "python3"
  },
  "language_info": {
   "codemirror_mode": {
    "name": "ipython",
    "version": 3
   },
   "file_extension": ".py",
   "mimetype": "text/x-python",
   "name": "python",
   "nbconvert_exporter": "python",
   "pygments_lexer": "ipython3",
   "version": "3.8.13"
  }
 },
 "nbformat": 4,
 "nbformat_minor": 5
}
