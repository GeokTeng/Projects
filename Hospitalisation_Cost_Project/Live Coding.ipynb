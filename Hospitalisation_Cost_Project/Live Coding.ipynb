{
 "cells": [
  {
   "cell_type": "code",
   "execution_count": 1,
   "id": "811a1c4e-6ba4-4960-9b02-1714d15a2386",
   "metadata": {},
   "outputs": [],
   "source": [
    "import numpy as np\n",
    "import pandas as pandas\n",
    "from IPython.core.interactiveshell import InteractiveShell\n",
    "InteractiveShell.ast_node_interactivity = \"all\""
   ]
  },
  {
   "cell_type": "code",
   "execution_count": 7,
   "id": "02b17f5c-e3e4-4914-bcf8-e72adbf48b75",
   "metadata": {},
   "outputs": [],
   "source": [
    "def superDigits(n):\n",
    "    _s = str(n)\n",
    "    _len = len(_s)\n",
    "    \n",
    "    while _len >1:\n",
    "        int_ls =[int(x) for x in _s]\n",
    "        n = sum(int_ls)\n",
    "        _s = str(n)\n",
    "        _len = len(_s)\n",
    "    \n",
    "    return n\n",
    "    "
   ]
  },
  {
   "cell_type": "code",
   "execution_count": 12,
   "id": "f4ad10de-2518-4fbd-98d0-a0186b31b203",
   "metadata": {},
   "outputs": [
    {
     "data": {
      "text/plain": [
       "8"
      ]
     },
     "execution_count": 12,
     "metadata": {},
     "output_type": "execute_result"
    }
   ],
   "source": [
    "superDigits(8)"
   ]
  },
  {
   "cell_type": "code",
   "execution_count": null,
   "id": "a838fe5f-c78c-4233-9cf4-9fb4569504ba",
   "metadata": {},
   "outputs": [],
   "source": []
  }
 ],
 "metadata": {
  "kernelspec": {
   "display_name": "Python 3 (ipykernel)",
   "language": "python",
   "name": "python3"
  },
  "language_info": {
   "codemirror_mode": {
    "name": "ipython",
    "version": 3
   },
   "file_extension": ".py",
   "mimetype": "text/x-python",
   "name": "python",
   "nbconvert_exporter": "python",
   "pygments_lexer": "ipython3",
   "version": "3.8.13"
  }
 },
 "nbformat": 4,
 "nbformat_minor": 5
}
