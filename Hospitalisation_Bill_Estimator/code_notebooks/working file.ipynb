{
 "cells": [
  {
   "cell_type": "code",
   "execution_count": 2,
   "id": "a2740e03-087f-49e3-9697-096d3dd582d6",
   "metadata": {},
   "outputs": [
    {
     "name": "stdout",
     "output_type": "stream",
     "text": [
      "Overwriting data_analysis.py\n"
     ]
    }
   ],
   "source": [
    "%%writefile data_analysis.py\n",
    "\n",
    "import numpy as np \n",
    "import pandas as pd\n",
    "\n",
    "# Showing missing, duplicates, shape, dtypes\n",
    "def df_summary(df, title):\n",
    "    print(f\"Dataframe ({title}) Summary\")\n",
    "    #print data shape and show if there is duplicated data\n",
    "    print(f\"Shape(col,rows): {df.shape}\")\n",
    "    print(f\"Number of duplicates: {df.duplicated().sum()}\")\n",
    "    \n",
    "    #check Data Type (to check further)\n",
    "    print('---'*20)\n",
    "    print(f'Number of each unique datatypes:\\n{df.dtypes.value_counts()}')\n",
    "    \n",
    "    #check for missing data\n",
    "    print('---'*20)\n",
    "    print(\"Columns with missing values:\")\n",
    "    _df_ = df_missing(df)\n",
    "    if _df_.empty:\n",
    "        print(\"--No Missing Data--\")\n",
    "    else:\n",
    "        print(_df_)\n",
    "        \n",
    "    #Check Data Values (to check further)\n",
    "    print('---'*20)\n",
    "    print(\"Check Quantitative Data Values (to check further):\")\n",
    "    # Check if the DataFrame contains numerical columns\n",
    "    if df.select_dtypes(include=['number']).columns.empty:\n",
    "        print(\"--No Quantitative feature columns--\")\n",
    "    else:\n",
    "        min_max_df_ = get_min_max_df(df)\n",
    "        print(min_max_df_)\n",
    "\n",
    "    # Check if the DataFrame contains string/object columns\n",
    "    print('---'*20)\n",
    "    print(\"Check Qualitative Data Values (to check further):\")\n",
    "    if df.select_dtypes(include=['object']).columns.empty:\n",
    "        print(\"--No Qualitative feature columns--\")\n",
    "    else:\n",
    "        for col in df.select_dtypes(include=['object']).columns:\n",
    "            print(f\"--Column '{col}' has\\n {df[col].nunique()} unique values\\n\")\n",
    "    print('---'*20)\n",
    "    print(\"\\nEnd of Dataframe Summary\")\n",
    "\n",
    "\n",
    "# Showing min and max values of each column\n",
    "def get_min_max_df(df):\n",
    "    min_max_list = []\n",
    "    _df = df.select_dtypes(exclude=['object'])\n",
    "    for col in _df.columns:\n",
    "        min_val = df[col].min()\n",
    "        max_val = df[col].max()\n",
    "        min_max_list.append([col, min_val, max_val])\n",
    "    min_max_df = pd.DataFrame(min_max_list, columns=['Column Name', 'Minimum Value', 'Maximum Value'])\n",
    "    return min_max_df\n",
    "\n",
    "# Gives a dataframe showing summary of the columns with missing values\n",
    "def df_missing(df):\n",
    "    isnull_df = pd.DataFrame(df.isnull().sum()).reset_index()\n",
    "    isnull_df.columns = ['col','num_nulls']\n",
    "    isnull_df['perc_null'] = ((isnull_df['num_nulls'])/(len(df))).round(2)\n",
    "    isnull_df = isnull_df[isnull_df['num_nulls']>0]\n",
    "    isnull_df.reset_index(drop=True, inplace=True)\n",
    "    return isnull_df\n"
   ]
  },
  {
   "cell_type": "markdown",
   "id": "501c33a7-2ee2-4e5d-bac1-aeeff2a34c5f",
   "metadata": {},
   "source": [
    "\n",
    "\n"
   ]
  },
  {
   "cell_type": "markdown",
   "id": "bba19946-cd73-4c59-b113-7e3885766c88",
   "metadata": {},
   "source": [
    "| Column 1      | Column 2    |\n",
    "| ------------- | ------------|\n",
    "| &#8226; Item 1<br>&#8226; Item 2 | Description 1 |\n",
    "| &#8226; Item 2 | Description 2 |\n",
    "| &#8226; Item 3 | Description 3 |"
   ]
  },
  {
   "cell_type": "code",
   "execution_count": null,
   "id": "e48d0ee0-d041-4c10-ab92-b93ab5af9828",
   "metadata": {},
   "outputs": [],
   "source": []
  }
 ],
 "metadata": {
  "kernelspec": {
   "display_name": "Python 3 (ipykernel)",
   "language": "python",
   "name": "python3"
  },
  "language_info": {
   "codemirror_mode": {
    "name": "ipython",
    "version": 3
   },
   "file_extension": ".py",
   "mimetype": "text/x-python",
   "name": "python",
   "nbconvert_exporter": "python",
   "pygments_lexer": "ipython3",
   "version": "3.8.13"
  }
 },
 "nbformat": 4,
 "nbformat_minor": 5
}
