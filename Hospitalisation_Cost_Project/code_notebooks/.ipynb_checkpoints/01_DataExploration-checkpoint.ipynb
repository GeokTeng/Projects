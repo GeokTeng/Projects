{
 "cells": [
  {
   "cell_type": "markdown",
   "id": "d8ebf520-db2a-4920-b882-b0c2323ad051",
   "metadata": {},
   "source": [
    "# Part 1: Library and Data Imports"
   ]
  },
  {
   "cell_type": "code",
   "execution_count": 1,
   "id": "4253d2ec-dd51-494d-b567-d5087b1329f2",
   "metadata": {},
   "outputs": [],
   "source": [
    "import numpy as np \n",
    "import pandas as pd\n",
    "\n",
    "from IPython.core.interactiveshell import InteractiveShell\n",
    "InteractiveShell.ast_node_interactivity = \"all\"\n",
    "\n",
    "\n",
    "#Visualisation:\n",
    "import seaborn               as sns\n",
    "import matplotlib.pyplot     as plt\n",
    "sns.set_theme(style=\"whitegrid\")\n",
    "\n",
    "from tqdm import tqdm\n",
    "tqdm.pandas()"
   ]
  },
  {
   "cell_type": "code",
   "execution_count": 2,
   "id": "ac63c874-362b-48e8-9296-520203772f86",
   "metadata": {},
   "outputs": [],
   "source": [
    "from data_analysis import *"
   ]
  },
  {
   "cell_type": "code",
   "execution_count": 3,
   "id": "2b9bd86d-1807-401c-9702-ab01a26b775d",
   "metadata": {},
   "outputs": [],
   "source": [
    "#Import csv files\n",
    "demographic_df = pd.read_csv(\"../data_input/demographics.csv\")\n",
    "clinical_df = pd.read_csv(\"../data_input/clinical_data.csv\")\n",
    "billing_id_df = pd.read_csv(\"../data_input/bill_id.csv\")\n",
    "billing_amt_df = pd.read_csv(\"../data_input/bill_amount.csv\")"
   ]
  },
  {
   "cell_type": "markdown",
   "id": "fddf91f2-57bb-46bb-b2f9-1aa411f694bd",
   "metadata": {},
   "source": [
    "---\n",
    "# Part 2: Data Exploration and Processing"
   ]
  },
  {
   "cell_type": "markdown",
   "id": "abd9cf6c-f1cc-4de2-8aa1-2cda837cabe6",
   "metadata": {},
   "source": [
    "## 2.1 Quick overview of the data sets"
   ]
  },
  {
   "cell_type": "code",
   "execution_count": 4,
   "id": "a47a7843-abf7-4440-85ca-01963e4f6be0",
   "metadata": {},
   "outputs": [],
   "source": [
    "df_names = \"demographic_df,clinical_df,billing_id_df,billing_amt_df\"\n",
    "df_names = df_names.split(',')"
   ]
  },
  {
   "cell_type": "code",
   "execution_count": 5,
   "id": "bec053c2-3a1c-4165-9284-c9f45ddaf3ec",
   "metadata": {},
   "outputs": [
    {
     "data": {
      "text/plain": [
       "['demographic_df', 'clinical_df', 'billing_id_df', 'billing_amt_df']"
      ]
     },
     "execution_count": 5,
     "metadata": {},
     "output_type": "execute_result"
    }
   ],
   "source": [
    "df_names"
   ]
  },
  {
   "cell_type": "code",
   "execution_count": 6,
   "id": "348bc8f8-f6db-4b71-98b6-95d64f225772",
   "metadata": {},
   "outputs": [],
   "source": [
    "df_list = [demographic_df,clinical_df,billing_id_df,billing_amt_df]"
   ]
  },
  {
   "cell_type": "code",
   "execution_count": 7,
   "id": "7010b011-f231-4d58-96ee-48d2be63380a",
   "metadata": {},
   "outputs": [
    {
     "name": "stdout",
     "output_type": "stream",
     "text": [
      "DATAFRAME: demographic_df\n"
     ]
    },
    {
     "data": {
      "text/html": [
       "<div>\n",
       "<style scoped>\n",
       "    .dataframe tbody tr th:only-of-type {\n",
       "        vertical-align: middle;\n",
       "    }\n",
       "\n",
       "    .dataframe tbody tr th {\n",
       "        vertical-align: top;\n",
       "    }\n",
       "\n",
       "    .dataframe thead th {\n",
       "        text-align: right;\n",
       "    }\n",
       "</style>\n",
       "<table border=\"1\" class=\"dataframe\">\n",
       "  <thead>\n",
       "    <tr style=\"text-align: right;\">\n",
       "      <th></th>\n",
       "      <th>patient_id</th>\n",
       "      <th>gender</th>\n",
       "      <th>race</th>\n",
       "      <th>resident_status</th>\n",
       "      <th>date_of_birth</th>\n",
       "    </tr>\n",
       "  </thead>\n",
       "  <tbody>\n",
       "    <tr>\n",
       "      <th>0</th>\n",
       "      <td>fa2d818b2261e44e30628ad1ac9cc72c</td>\n",
       "      <td>Female</td>\n",
       "      <td>Indian</td>\n",
       "      <td>Singaporean</td>\n",
       "      <td>1971-05-14</td>\n",
       "    </tr>\n",
       "    <tr>\n",
       "      <th>1</th>\n",
       "      <td>5b6477c5de78d0b138e3b0c18e21d0ae</td>\n",
       "      <td>f</td>\n",
       "      <td>Chinese</td>\n",
       "      <td>Singapore citizen</td>\n",
       "      <td>1976-02-18</td>\n",
       "    </tr>\n",
       "    <tr>\n",
       "      <th>2</th>\n",
       "      <td>320aa16c61937447fd6631bf635e7fde</td>\n",
       "      <td>Male</td>\n",
       "      <td>Chinese</td>\n",
       "      <td>Singapore citizen</td>\n",
       "      <td>1982-07-03</td>\n",
       "    </tr>\n",
       "  </tbody>\n",
       "</table>\n",
       "</div>"
      ],
      "text/plain": [
       "                         patient_id  gender     race    resident_status  \\\n",
       "0  fa2d818b2261e44e30628ad1ac9cc72c  Female   Indian        Singaporean   \n",
       "1  5b6477c5de78d0b138e3b0c18e21d0ae       f  Chinese  Singapore citizen   \n",
       "2  320aa16c61937447fd6631bf635e7fde    Male  Chinese  Singapore citizen   \n",
       "\n",
       "  date_of_birth  \n",
       "0    1971-05-14  \n",
       "1    1976-02-18  \n",
       "2    1982-07-03  "
      ]
     },
     "execution_count": 7,
     "metadata": {},
     "output_type": "execute_result"
    },
    {
     "name": "stdout",
     "output_type": "stream",
     "text": [
      "Number of unique patient_id: 3000\n",
      "Dataframe size: 3000\n",
      "\n",
      "\n",
      "\n",
      "DATAFRAME: clinical_df\n"
     ]
    },
    {
     "data": {
      "text/html": [
       "<div>\n",
       "<style scoped>\n",
       "    .dataframe tbody tr th:only-of-type {\n",
       "        vertical-align: middle;\n",
       "    }\n",
       "\n",
       "    .dataframe tbody tr th {\n",
       "        vertical-align: top;\n",
       "    }\n",
       "\n",
       "    .dataframe thead th {\n",
       "        text-align: right;\n",
       "    }\n",
       "</style>\n",
       "<table border=\"1\" class=\"dataframe\">\n",
       "  <thead>\n",
       "    <tr style=\"text-align: right;\">\n",
       "      <th></th>\n",
       "      <th>id</th>\n",
       "      <th>date_of_admission</th>\n",
       "      <th>date_of_discharge</th>\n",
       "      <th>medical_history_1</th>\n",
       "      <th>medical_history_2</th>\n",
       "      <th>medical_history_3</th>\n",
       "      <th>medical_history_4</th>\n",
       "      <th>medical_history_5</th>\n",
       "      <th>medical_history_6</th>\n",
       "      <th>medical_history_7</th>\n",
       "      <th>...</th>\n",
       "      <th>symptom_1</th>\n",
       "      <th>symptom_2</th>\n",
       "      <th>symptom_3</th>\n",
       "      <th>symptom_4</th>\n",
       "      <th>symptom_5</th>\n",
       "      <th>lab_result_1</th>\n",
       "      <th>lab_result_2</th>\n",
       "      <th>lab_result_3</th>\n",
       "      <th>weight</th>\n",
       "      <th>height</th>\n",
       "    </tr>\n",
       "  </thead>\n",
       "  <tbody>\n",
       "    <tr>\n",
       "      <th>0</th>\n",
       "      <td>1d21f2be18683991eb93d182d6b2d220</td>\n",
       "      <td>2011-01-01</td>\n",
       "      <td>2011-01-11</td>\n",
       "      <td>0</td>\n",
       "      <td>1.0</td>\n",
       "      <td>0</td>\n",
       "      <td>0</td>\n",
       "      <td>0.0</td>\n",
       "      <td>0</td>\n",
       "      <td>0</td>\n",
       "      <td>...</td>\n",
       "      <td>0</td>\n",
       "      <td>0</td>\n",
       "      <td>0</td>\n",
       "      <td>1</td>\n",
       "      <td>1</td>\n",
       "      <td>13.2</td>\n",
       "      <td>30.9</td>\n",
       "      <td>123.0</td>\n",
       "      <td>71.3</td>\n",
       "      <td>161.0</td>\n",
       "    </tr>\n",
       "    <tr>\n",
       "      <th>1</th>\n",
       "      <td>62bdca0b95d97e99e1c712048fb9fd09</td>\n",
       "      <td>2011-01-01</td>\n",
       "      <td>2011-01-11</td>\n",
       "      <td>0</td>\n",
       "      <td>0.0</td>\n",
       "      <td>0</td>\n",
       "      <td>0</td>\n",
       "      <td>0.0</td>\n",
       "      <td>0</td>\n",
       "      <td>0</td>\n",
       "      <td>...</td>\n",
       "      <td>0</td>\n",
       "      <td>0</td>\n",
       "      <td>1</td>\n",
       "      <td>1</td>\n",
       "      <td>1</td>\n",
       "      <td>13.8</td>\n",
       "      <td>22.6</td>\n",
       "      <td>89.0</td>\n",
       "      <td>78.4</td>\n",
       "      <td>160.0</td>\n",
       "    </tr>\n",
       "    <tr>\n",
       "      <th>2</th>\n",
       "      <td>c85cf97bc6307ded0dd4fef8bad2fa09</td>\n",
       "      <td>2011-01-02</td>\n",
       "      <td>2011-01-13</td>\n",
       "      <td>0</td>\n",
       "      <td>0.0</td>\n",
       "      <td>0</td>\n",
       "      <td>0</td>\n",
       "      <td>0.0</td>\n",
       "      <td>0</td>\n",
       "      <td>0</td>\n",
       "      <td>...</td>\n",
       "      <td>1</td>\n",
       "      <td>1</td>\n",
       "      <td>1</td>\n",
       "      <td>1</td>\n",
       "      <td>0</td>\n",
       "      <td>11.2</td>\n",
       "      <td>26.2</td>\n",
       "      <td>100.0</td>\n",
       "      <td>72.0</td>\n",
       "      <td>151.0</td>\n",
       "    </tr>\n",
       "  </tbody>\n",
       "</table>\n",
       "<p>3 rows × 26 columns</p>\n",
       "</div>"
      ],
      "text/plain": [
       "                                 id date_of_admission date_of_discharge  \\\n",
       "0  1d21f2be18683991eb93d182d6b2d220        2011-01-01        2011-01-11   \n",
       "1  62bdca0b95d97e99e1c712048fb9fd09        2011-01-01        2011-01-11   \n",
       "2  c85cf97bc6307ded0dd4fef8bad2fa09        2011-01-02        2011-01-13   \n",
       "\n",
       "   medical_history_1  medical_history_2 medical_history_3  medical_history_4  \\\n",
       "0                  0                1.0                 0                  0   \n",
       "1                  0                0.0                 0                  0   \n",
       "2                  0                0.0                 0                  0   \n",
       "\n",
       "   medical_history_5  medical_history_6  medical_history_7  ...  symptom_1  \\\n",
       "0                0.0                  0                  0  ...          0   \n",
       "1                0.0                  0                  0  ...          0   \n",
       "2                0.0                  0                  0  ...          1   \n",
       "\n",
       "   symptom_2  symptom_3  symptom_4  symptom_5  lab_result_1  lab_result_2  \\\n",
       "0          0          0          1          1          13.2          30.9   \n",
       "1          0          1          1          1          13.8          22.6   \n",
       "2          1          1          1          0          11.2          26.2   \n",
       "\n",
       "   lab_result_3  weight  height  \n",
       "0         123.0    71.3   161.0  \n",
       "1          89.0    78.4   160.0  \n",
       "2         100.0    72.0   151.0  \n",
       "\n",
       "[3 rows x 26 columns]"
      ]
     },
     "execution_count": 7,
     "metadata": {},
     "output_type": "execute_result"
    },
    {
     "name": "stdout",
     "output_type": "stream",
     "text": [
      "Number of unique id: 3000\n",
      "Dataframe size: 3400\n",
      "\n",
      "\n",
      "\n",
      "DATAFRAME: billing_id_df\n"
     ]
    },
    {
     "data": {
      "text/html": [
       "<div>\n",
       "<style scoped>\n",
       "    .dataframe tbody tr th:only-of-type {\n",
       "        vertical-align: middle;\n",
       "    }\n",
       "\n",
       "    .dataframe tbody tr th {\n",
       "        vertical-align: top;\n",
       "    }\n",
       "\n",
       "    .dataframe thead th {\n",
       "        text-align: right;\n",
       "    }\n",
       "</style>\n",
       "<table border=\"1\" class=\"dataframe\">\n",
       "  <thead>\n",
       "    <tr style=\"text-align: right;\">\n",
       "      <th></th>\n",
       "      <th>bill_id</th>\n",
       "      <th>patient_id</th>\n",
       "      <th>date_of_admission</th>\n",
       "    </tr>\n",
       "  </thead>\n",
       "  <tbody>\n",
       "    <tr>\n",
       "      <th>0</th>\n",
       "      <td>7968360812</td>\n",
       "      <td>1d21f2be18683991eb93d182d6b2d220</td>\n",
       "      <td>2011-01-01</td>\n",
       "    </tr>\n",
       "    <tr>\n",
       "      <th>1</th>\n",
       "      <td>6180579974</td>\n",
       "      <td>62bdca0b95d97e99e1c712048fb9fd09</td>\n",
       "      <td>2011-01-01</td>\n",
       "    </tr>\n",
       "    <tr>\n",
       "      <th>2</th>\n",
       "      <td>7512568183</td>\n",
       "      <td>1d21f2be18683991eb93d182d6b2d220</td>\n",
       "      <td>2011-01-01</td>\n",
       "    </tr>\n",
       "  </tbody>\n",
       "</table>\n",
       "</div>"
      ],
      "text/plain": [
       "      bill_id                        patient_id date_of_admission\n",
       "0  7968360812  1d21f2be18683991eb93d182d6b2d220        2011-01-01\n",
       "1  6180579974  62bdca0b95d97e99e1c712048fb9fd09        2011-01-01\n",
       "2  7512568183  1d21f2be18683991eb93d182d6b2d220        2011-01-01"
      ]
     },
     "execution_count": 7,
     "metadata": {},
     "output_type": "execute_result"
    },
    {
     "name": "stdout",
     "output_type": "stream",
     "text": [
      "Number of unique bill_id: 13600\n",
      "Number of unique patient_id: 3000\n",
      "Dataframe size: 13600\n",
      "\n",
      "\n",
      "\n",
      "DATAFRAME: billing_amt_df\n"
     ]
    },
    {
     "data": {
      "text/html": [
       "<div>\n",
       "<style scoped>\n",
       "    .dataframe tbody tr th:only-of-type {\n",
       "        vertical-align: middle;\n",
       "    }\n",
       "\n",
       "    .dataframe tbody tr th {\n",
       "        vertical-align: top;\n",
       "    }\n",
       "\n",
       "    .dataframe thead th {\n",
       "        text-align: right;\n",
       "    }\n",
       "</style>\n",
       "<table border=\"1\" class=\"dataframe\">\n",
       "  <thead>\n",
       "    <tr style=\"text-align: right;\">\n",
       "      <th></th>\n",
       "      <th>bill_id</th>\n",
       "      <th>amount</th>\n",
       "    </tr>\n",
       "  </thead>\n",
       "  <tbody>\n",
       "    <tr>\n",
       "      <th>0</th>\n",
       "      <td>40315104</td>\n",
       "      <td>1552.634830</td>\n",
       "    </tr>\n",
       "    <tr>\n",
       "      <th>1</th>\n",
       "      <td>2660045161</td>\n",
       "      <td>1032.011951</td>\n",
       "    </tr>\n",
       "    <tr>\n",
       "      <th>2</th>\n",
       "      <td>1148334643</td>\n",
       "      <td>6469.605351</td>\n",
       "    </tr>\n",
       "  </tbody>\n",
       "</table>\n",
       "</div>"
      ],
      "text/plain": [
       "      bill_id       amount\n",
       "0    40315104  1552.634830\n",
       "1  2660045161  1032.011951\n",
       "2  1148334643  6469.605351"
      ]
     },
     "execution_count": 7,
     "metadata": {},
     "output_type": "execute_result"
    },
    {
     "name": "stdout",
     "output_type": "stream",
     "text": [
      "Number of unique bill_id: 13600\n",
      "Dataframe size: 13600\n",
      "\n",
      "\n",
      "\n"
     ]
    }
   ],
   "source": [
    "for i in range(4):\n",
    "    _df_ = df_list[i]\n",
    "    print(F\"DATAFRAME: {df_names[i]}\")\n",
    "    _df_.head(3)\n",
    "    \n",
    "    ID_col = [col for col in _df_.columns if ('id' in col) & ('resid' not in col)]\n",
    "    for ID in ID_col:\n",
    "        print(f\"Number of unique {ID}: {_df_[ID].nunique()}\")\n",
    "    print(f\"Dataframe size: {len(_df_)}\")\n",
    "    \n",
    "    print(\"\\n\\n\")\n",
    "    "
   ]
  },
  {
   "cell_type": "code",
   "execution_count": 8,
   "id": "1ece83dc-9986-428f-8af2-85892a957df5",
   "metadata": {},
   "outputs": [],
   "source": [
    "# Billing amount is the primary interest in this project - we shall rename 'amount' as 'hospt_bill' for clarity\n",
    "billing_amt_df.rename(columns = {'amount':'hosp_bill'},\n",
    "                     inplace = True)"
   ]
  },
  {
   "cell_type": "code",
   "execution_count": 9,
   "id": "db9a1bf9-963e-408c-8ca0-cbadfdb08725",
   "metadata": {},
   "outputs": [
    {
     "data": {
      "text/html": [
       "<div>\n",
       "<style scoped>\n",
       "    .dataframe tbody tr th:only-of-type {\n",
       "        vertical-align: middle;\n",
       "    }\n",
       "\n",
       "    .dataframe tbody tr th {\n",
       "        vertical-align: top;\n",
       "    }\n",
       "\n",
       "    .dataframe thead th {\n",
       "        text-align: right;\n",
       "    }\n",
       "</style>\n",
       "<table border=\"1\" class=\"dataframe\">\n",
       "  <thead>\n",
       "    <tr style=\"text-align: right;\">\n",
       "      <th></th>\n",
       "      <th>bill_id</th>\n",
       "      <th>hosp_bill</th>\n",
       "    </tr>\n",
       "  </thead>\n",
       "  <tbody>\n",
       "    <tr>\n",
       "      <th>0</th>\n",
       "      <td>40315104</td>\n",
       "      <td>1552.634830</td>\n",
       "    </tr>\n",
       "    <tr>\n",
       "      <th>1</th>\n",
       "      <td>2660045161</td>\n",
       "      <td>1032.011951</td>\n",
       "    </tr>\n",
       "    <tr>\n",
       "      <th>2</th>\n",
       "      <td>1148334643</td>\n",
       "      <td>6469.605351</td>\n",
       "    </tr>\n",
       "  </tbody>\n",
       "</table>\n",
       "</div>"
      ],
      "text/plain": [
       "      bill_id    hosp_bill\n",
       "0    40315104  1552.634830\n",
       "1  2660045161  1032.011951\n",
       "2  1148334643  6469.605351"
      ]
     },
     "execution_count": 9,
     "metadata": {},
     "output_type": "execute_result"
    }
   ],
   "source": [
    "billing_amt_df.head(3)"
   ]
  },
  {
   "cell_type": "markdown",
   "id": "96b19526-18fb-4908-abfb-d4a5cc86a343",
   "metadata": {},
   "source": [
    "**Comments**\n",
    "\n",
    "- There is 3000 unique patients\n",
    "- There is 13600 unique bills\n",
    "- However, there seems to have duplicated patient information in some dataframes (when number of unique ID does not match the size of the dataframe)\n",
    "    - `clinical_df`\n",
    "    - `billing_id_df`\n",
    "\n",
    "We will now proceed to analyse these possible duplicates and check the IDs in each dataframes, before we merge the data sets."
   ]
  },
  {
   "cell_type": "markdown",
   "id": "0434cdb4-e470-4e1d-974e-58098a7eb89d",
   "metadata": {},
   "source": [
    "## 2.2 Merging data sets\n",
    "\n",
    "We will now proceed to merging the datasets to form `merged_df`, where each row represents each hospitalisation.\n",
    "\n",
    "Part 1: Checking\n",
    "1. IDs in each data frame\n",
    "1. Analyse the duplicates in each dataframe\n",
    "\n",
    "Part 2: Merging datasets"
   ]
  },
  {
   "cell_type": "markdown",
   "id": "6d54757b-a890-4635-a0ba-530b9ecf2cd2",
   "metadata": {},
   "source": [
    "### 2.2.1 Checking `ID` and *Duplicates*"
   ]
  },
  {
   "cell_type": "markdown",
   "id": "48ab6792-a007-4bce-941b-3cc5d1f7da42",
   "metadata": {},
   "source": [
    "**CHECKING 'PATIENT ID' COLUMNS**\n",
    "- We will be looking at three data sets: `clinical_df`, `demographic_df` and `billin_id_df`.\n",
    "- Noticed each data set have consistent columns names for <code>bill_id</code> and <code>patient_id</code>, except <code>clinical_df</code> which only has one column called `id`.\n",
    "- Based on earlier observation, we suspect `id` in `clinical_df` is referring to `patient_id`."
   ]
  },
  {
   "cell_type": "code",
   "execution_count": 10,
   "id": "3aadf2d5-52d5-4de0-a8b0-0367a27acac2",
   "metadata": {},
   "outputs": [
    {
     "name": "stdout",
     "output_type": "stream",
     "text": [
      "Number of unique patient_id in demographic_df = 3000\n",
      "Number of unique patient_id in clinical_df = 3000\n",
      "Number of unique id in clinical_df = 3000\n"
     ]
    }
   ],
   "source": [
    "_no = demographic_df['patient_id'].nunique()\n",
    "print(f\"Number of unique patient_id in demographic_df = {_no}\")\n",
    "\n",
    "_no = billing_id_df['patient_id'].nunique()\n",
    "print(f\"Number of unique patient_id in clinical_df = {_no}\")\n",
    "\n",
    "_no = clinical_df['id'].nunique()\n",
    "print(f\"Number of unique id in clinical_df = {_no}\")"
   ]
  },
  {
   "cell_type": "code",
   "execution_count": 11,
   "id": "142adbe9-8397-4b48-b10a-d1aeecafd8d4",
   "metadata": {},
   "outputs": [
    {
     "name": "stdout",
     "output_type": "stream",
     "text": [
      "All three datasets have the same unique 3000 patient IDs.\n"
     ]
    }
   ],
   "source": [
    "# Check if all three datasets have the same unique IDs\n",
    "demographic_ids = set(demographic_df['patient_id'].unique())\n",
    "billing_ids = set(billing_id_df['patient_id'].unique())\n",
    "clinical_ids = set(clinical_df['id'].unique())\n",
    "\n",
    "# Check if the intersection of all three sets has exactly 3000 elements\n",
    "if len(demographic_ids & billing_ids & clinical_ids) == 3000:\n",
    "    print(\"All three datasets have the same unique 3000 patient IDs.\")\n",
    "else:\n",
    "    print(\"The datasets do not have the same unique 3000 patient IDs.\")\n"
   ]
  },
  {
   "cell_type": "code",
   "execution_count": 12,
   "id": "9346070e-cebc-46b3-82e6-8db78ee75e7a",
   "metadata": {},
   "outputs": [
    {
     "data": {
      "text/html": [
       "<div>\n",
       "<style scoped>\n",
       "    .dataframe tbody tr th:only-of-type {\n",
       "        vertical-align: middle;\n",
       "    }\n",
       "\n",
       "    .dataframe tbody tr th {\n",
       "        vertical-align: top;\n",
       "    }\n",
       "\n",
       "    .dataframe thead th {\n",
       "        text-align: right;\n",
       "    }\n",
       "</style>\n",
       "<table border=\"1\" class=\"dataframe\">\n",
       "  <thead>\n",
       "    <tr style=\"text-align: right;\">\n",
       "      <th></th>\n",
       "      <th>patient_id</th>\n",
       "      <th>date_of_admission</th>\n",
       "      <th>date_of_discharge</th>\n",
       "      <th>medical_history_1</th>\n",
       "      <th>medical_history_2</th>\n",
       "      <th>medical_history_3</th>\n",
       "      <th>medical_history_4</th>\n",
       "      <th>medical_history_5</th>\n",
       "      <th>medical_history_6</th>\n",
       "      <th>medical_history_7</th>\n",
       "      <th>...</th>\n",
       "      <th>symptom_1</th>\n",
       "      <th>symptom_2</th>\n",
       "      <th>symptom_3</th>\n",
       "      <th>symptom_4</th>\n",
       "      <th>symptom_5</th>\n",
       "      <th>lab_result_1</th>\n",
       "      <th>lab_result_2</th>\n",
       "      <th>lab_result_3</th>\n",
       "      <th>weight</th>\n",
       "      <th>height</th>\n",
       "    </tr>\n",
       "  </thead>\n",
       "  <tbody>\n",
       "    <tr>\n",
       "      <th>0</th>\n",
       "      <td>1d21f2be18683991eb93d182d6b2d220</td>\n",
       "      <td>2011-01-01</td>\n",
       "      <td>2011-01-11</td>\n",
       "      <td>0</td>\n",
       "      <td>1.0</td>\n",
       "      <td>0</td>\n",
       "      <td>0</td>\n",
       "      <td>0.0</td>\n",
       "      <td>0</td>\n",
       "      <td>0</td>\n",
       "      <td>...</td>\n",
       "      <td>0</td>\n",
       "      <td>0</td>\n",
       "      <td>0</td>\n",
       "      <td>1</td>\n",
       "      <td>1</td>\n",
       "      <td>13.2</td>\n",
       "      <td>30.9</td>\n",
       "      <td>123.0</td>\n",
       "      <td>71.3</td>\n",
       "      <td>161.0</td>\n",
       "    </tr>\n",
       "    <tr>\n",
       "      <th>1</th>\n",
       "      <td>62bdca0b95d97e99e1c712048fb9fd09</td>\n",
       "      <td>2011-01-01</td>\n",
       "      <td>2011-01-11</td>\n",
       "      <td>0</td>\n",
       "      <td>0.0</td>\n",
       "      <td>0</td>\n",
       "      <td>0</td>\n",
       "      <td>0.0</td>\n",
       "      <td>0</td>\n",
       "      <td>0</td>\n",
       "      <td>...</td>\n",
       "      <td>0</td>\n",
       "      <td>0</td>\n",
       "      <td>1</td>\n",
       "      <td>1</td>\n",
       "      <td>1</td>\n",
       "      <td>13.8</td>\n",
       "      <td>22.6</td>\n",
       "      <td>89.0</td>\n",
       "      <td>78.4</td>\n",
       "      <td>160.0</td>\n",
       "    </tr>\n",
       "    <tr>\n",
       "      <th>2</th>\n",
       "      <td>c85cf97bc6307ded0dd4fef8bad2fa09</td>\n",
       "      <td>2011-01-02</td>\n",
       "      <td>2011-01-13</td>\n",
       "      <td>0</td>\n",
       "      <td>0.0</td>\n",
       "      <td>0</td>\n",
       "      <td>0</td>\n",
       "      <td>0.0</td>\n",
       "      <td>0</td>\n",
       "      <td>0</td>\n",
       "      <td>...</td>\n",
       "      <td>1</td>\n",
       "      <td>1</td>\n",
       "      <td>1</td>\n",
       "      <td>1</td>\n",
       "      <td>0</td>\n",
       "      <td>11.2</td>\n",
       "      <td>26.2</td>\n",
       "      <td>100.0</td>\n",
       "      <td>72.0</td>\n",
       "      <td>151.0</td>\n",
       "    </tr>\n",
       "    <tr>\n",
       "      <th>3</th>\n",
       "      <td>e0397dd72caf4552c5babebd3d61736c</td>\n",
       "      <td>2011-01-02</td>\n",
       "      <td>2011-01-14</td>\n",
       "      <td>0</td>\n",
       "      <td>1.0</td>\n",
       "      <td>No</td>\n",
       "      <td>0</td>\n",
       "      <td>0.0</td>\n",
       "      <td>1</td>\n",
       "      <td>1</td>\n",
       "      <td>...</td>\n",
       "      <td>1</td>\n",
       "      <td>1</td>\n",
       "      <td>1</td>\n",
       "      <td>1</td>\n",
       "      <td>1</td>\n",
       "      <td>13.3</td>\n",
       "      <td>28.4</td>\n",
       "      <td>76.0</td>\n",
       "      <td>64.4</td>\n",
       "      <td>152.0</td>\n",
       "    </tr>\n",
       "    <tr>\n",
       "      <th>4</th>\n",
       "      <td>94ade3cd5f66f4584902554dff170a29</td>\n",
       "      <td>2011-01-08</td>\n",
       "      <td>2011-01-16</td>\n",
       "      <td>0</td>\n",
       "      <td>0.0</td>\n",
       "      <td>No</td>\n",
       "      <td>0</td>\n",
       "      <td>0.0</td>\n",
       "      <td>1</td>\n",
       "      <td>1</td>\n",
       "      <td>...</td>\n",
       "      <td>0</td>\n",
       "      <td>1</td>\n",
       "      <td>0</td>\n",
       "      <td>1</td>\n",
       "      <td>0</td>\n",
       "      <td>12.0</td>\n",
       "      <td>27.8</td>\n",
       "      <td>87.0</td>\n",
       "      <td>55.6</td>\n",
       "      <td>160.0</td>\n",
       "    </tr>\n",
       "  </tbody>\n",
       "</table>\n",
       "<p>5 rows × 26 columns</p>\n",
       "</div>"
      ],
      "text/plain": [
       "                         patient_id date_of_admission date_of_discharge  \\\n",
       "0  1d21f2be18683991eb93d182d6b2d220        2011-01-01        2011-01-11   \n",
       "1  62bdca0b95d97e99e1c712048fb9fd09        2011-01-01        2011-01-11   \n",
       "2  c85cf97bc6307ded0dd4fef8bad2fa09        2011-01-02        2011-01-13   \n",
       "3  e0397dd72caf4552c5babebd3d61736c        2011-01-02        2011-01-14   \n",
       "4  94ade3cd5f66f4584902554dff170a29        2011-01-08        2011-01-16   \n",
       "\n",
       "   medical_history_1  medical_history_2 medical_history_3  medical_history_4  \\\n",
       "0                  0                1.0                 0                  0   \n",
       "1                  0                0.0                 0                  0   \n",
       "2                  0                0.0                 0                  0   \n",
       "3                  0                1.0                No                  0   \n",
       "4                  0                0.0                No                  0   \n",
       "\n",
       "   medical_history_5  medical_history_6  medical_history_7  ...  symptom_1  \\\n",
       "0                0.0                  0                  0  ...          0   \n",
       "1                0.0                  0                  0  ...          0   \n",
       "2                0.0                  0                  0  ...          1   \n",
       "3                0.0                  1                  1  ...          1   \n",
       "4                0.0                  1                  1  ...          0   \n",
       "\n",
       "   symptom_2  symptom_3  symptom_4  symptom_5  lab_result_1  lab_result_2  \\\n",
       "0          0          0          1          1          13.2          30.9   \n",
       "1          0          1          1          1          13.8          22.6   \n",
       "2          1          1          1          0          11.2          26.2   \n",
       "3          1          1          1          1          13.3          28.4   \n",
       "4          1          0          1          0          12.0          27.8   \n",
       "\n",
       "   lab_result_3  weight  height  \n",
       "0         123.0    71.3   161.0  \n",
       "1          89.0    78.4   160.0  \n",
       "2         100.0    72.0   151.0  \n",
       "3          76.0    64.4   152.0  \n",
       "4          87.0    55.6   160.0  \n",
       "\n",
       "[5 rows x 26 columns]"
      ]
     },
     "execution_count": 12,
     "metadata": {},
     "output_type": "execute_result"
    }
   ],
   "source": [
    "# We have confirmed `id` in clinical_df is `patient_id`\n",
    "# As such, we shall rename 'id' in clinical_df to 'patient_id'\n",
    "clinical_df.rename(columns = {'id':'patient_id'}, inplace = True)\n",
    "clinical_df.head()"
   ]
  },
  {
   "cell_type": "markdown",
   "id": "b23c2166-c922-4b26-b244-127386772736",
   "metadata": {},
   "source": [
    "**CHECK 'BILL ID'**"
   ]
  },
  {
   "cell_type": "code",
   "execution_count": 13,
   "id": "71f4072b-0226-4337-9022-461d4d386ca4",
   "metadata": {},
   "outputs": [
    {
     "name": "stdout",
     "output_type": "stream",
     "text": [
      "13600\n",
      "13600\n"
     ]
    }
   ],
   "source": [
    "# Check number of unique billing ids\n",
    "for df in [billing_id_df, billing_amt_df]:\n",
    "    print(df['bill_id'].nunique())"
   ]
  },
  {
   "cell_type": "code",
   "execution_count": 14,
   "id": "33eb8010-b403-4de6-8f95-bb3d16a36dd0",
   "metadata": {},
   "outputs": [
    {
     "name": "stdout",
     "output_type": "stream",
     "text": [
      "Both datasets have the same unique 13600 billing IDs.\n"
     ]
    }
   ],
   "source": [
    "# Check if both datasets have the same unique Billing IDs\n",
    "billing_ids = set(billing_id_df['bill_id'].unique())\n",
    "billing_amt = set(billing_amt_df['bill_id'].unique())\n",
    "\n",
    "## Check if the intersection of all three sets has exactly 13600 elements\n",
    "if len(billing_ids & billing_amt) == 13600:\n",
    "    print(\"Both datasets have the same unique 13600 billing IDs.\")\n",
    "else:\n",
    "    print(\"The datasets do not have the same unique 13600 billing IDs.\")"
   ]
  },
  {
   "cell_type": "markdown",
   "id": "92b0a9bd-89fb-4c9e-a25f-8745dfe11ae0",
   "metadata": {},
   "source": [
    "**ANALYSE DUPLICATED ADMISSIONS INFORMATION IN `clinical_df`**<br>\n",
    "We suspect that there are multiple data rows containing information for each admission."
   ]
  },
  {
   "cell_type": "code",
   "execution_count": 15,
   "id": "97ac04a5-674a-4542-b1d6-5e1c243709f0",
   "metadata": {},
   "outputs": [
    {
     "data": {
      "text/plain": [
       "3000"
      ]
     },
     "execution_count": 15,
     "metadata": {},
     "output_type": "execute_result"
    }
   ],
   "source": [
    "#Number of unique patients\n",
    "clinical_df['patient_id'].nunique()"
   ]
  },
  {
   "cell_type": "code",
   "execution_count": 16,
   "id": "033618f8-ac87-47eb-b03b-d637205e002e",
   "metadata": {},
   "outputs": [
    {
     "data": {
      "text/plain": [
       "3400"
      ]
     },
     "execution_count": 16,
     "metadata": {},
     "output_type": "execute_result"
    }
   ],
   "source": [
    "#Number of unique patient admissions\n",
    "_d = clinical_df[['patient_id', 'date_of_admission']].copy()\n",
    "_d['each_hospitalisation'] = _d['patient_id'] + _d['date_of_admission']\n",
    "_d['each_hospitalisation'].nunique()"
   ]
  },
  {
   "cell_type": "code",
   "execution_count": 17,
   "id": "817125d8-4241-4c35-9a04-ecd20fab60ba",
   "metadata": {},
   "outputs": [
    {
     "data": {
      "text/plain": [
       "0"
      ]
     },
     "execution_count": 17,
     "metadata": {},
     "output_type": "execute_result"
    }
   ],
   "source": [
    "#Checking if there is multiple data entries for each hospitalisation\n",
    "clinical_df[['patient_id','date_of_admission']].duplicated().sum()"
   ]
  },
  {
   "cell_type": "code",
   "execution_count": 18,
   "id": "c2a36c24-a01a-42b2-a49a-2667ea9b3492",
   "metadata": {},
   "outputs": [
    {
     "data": {
      "text/plain": [
       "400"
      ]
     },
     "execution_count": 18,
     "metadata": {},
     "output_type": "execute_result"
    }
   ],
   "source": [
    "#Checking if there is multiple data entries for each patient\n",
    "clinical_df['patient_id'].duplicated().sum()"
   ]
  },
  {
   "cell_type": "code",
   "execution_count": 19,
   "id": "0d1eb7d3-2506-4976-8c0c-b856d1aa0d9a",
   "metadata": {},
   "outputs": [
    {
     "data": {
      "text/plain": [
       "(3400, 26)"
      ]
     },
     "execution_count": 19,
     "metadata": {},
     "output_type": "execute_result"
    }
   ],
   "source": [
    "clinical_df.shape"
   ]
  },
  {
   "cell_type": "markdown",
   "id": "f4853d71-204e-4345-a4e9-3691de19cc55",
   "metadata": {},
   "source": [
    "**Comments**\n",
    "\n",
    "- There is 3000 unique patients, 3400 unique hospitalisations.\n",
    "- There is no duplicated hospitalisations for each patient, meaning each data row represent each patient's independent admission\n",
    "- We can interpret that there are `patients with multiple admissions`."
   ]
  },
  {
   "cell_type": "markdown",
   "id": "bf08f91d-1605-4b3a-8c89-1d1435ee76a6",
   "metadata": {},
   "source": [
    "**ANALYSE DUPLICATED ADMISSIONS INFORMATION IN `billing_id_df`**<br>\n",
    "We suspect that there are multiple data rows containing information for each admission."
   ]
  },
  {
   "cell_type": "code",
   "execution_count": 20,
   "id": "494d7c84-2765-48ac-8b81-d1dd1a0d598b",
   "metadata": {},
   "outputs": [
    {
     "data": {
      "text/plain": [
       "3400"
      ]
     },
     "execution_count": 20,
     "metadata": {},
     "output_type": "execute_result"
    }
   ],
   "source": [
    "#Number of unique patient admissions\n",
    "_d = billing_id_df[['patient_id', 'date_of_admission']].copy()\n",
    "_d['each_hospitalisation'] = _d['patient_id'] + _d['date_of_admission']\n",
    "_d['each_hospitalisation'].nunique()"
   ]
  },
  {
   "cell_type": "code",
   "execution_count": 21,
   "id": "7bd94ba7-7abf-46a9-b067-7d1a82f6a743",
   "metadata": {},
   "outputs": [
    {
     "data": {
      "text/plain": [
       "10200"
      ]
     },
     "execution_count": 21,
     "metadata": {},
     "output_type": "execute_result"
    }
   ],
   "source": [
    "#Checking if there is multiple data entries for each hospitalisation\n",
    "billing_id_df[['patient_id','date_of_admission']].duplicated().sum()"
   ]
  },
  {
   "cell_type": "code",
   "execution_count": 22,
   "id": "5f18f106-a7bd-44c6-9c68-59523f408342",
   "metadata": {},
   "outputs": [
    {
     "data": {
      "text/plain": [
       "10600"
      ]
     },
     "execution_count": 22,
     "metadata": {},
     "output_type": "execute_result"
    }
   ],
   "source": [
    "#Checking if there is multiple data entries for each patient\n",
    "billing_id_df['patient_id'].duplicated().sum()"
   ]
  },
  {
   "cell_type": "code",
   "execution_count": 23,
   "id": "456622d9-3016-4416-80f4-690941f1893d",
   "metadata": {},
   "outputs": [
    {
     "data": {
      "text/plain": [
       "(13600, 3)"
      ]
     },
     "execution_count": 23,
     "metadata": {},
     "output_type": "execute_result"
    }
   ],
   "source": [
    "billing_id_df.shape"
   ]
  },
  {
   "cell_type": "markdown",
   "id": "c6305709-a66d-4c40-8697-53033c5568ed",
   "metadata": {},
   "source": [
    "**Comments**\n",
    "\n",
    "- There is 3400 unique patients hospitalisations.\n",
    "- There is multiple data rows for each patient, and each hospitalisation.\n",
    "- We can interpret as there is total 3400 unique hospitalisation admissions in this billing_id_df, where there can be `multiple bills for each hospitalisation`."
   ]
  },
  {
   "cell_type": "markdown",
   "id": "a90e983a-5e16-491f-905f-d3c645632c6a",
   "metadata": {},
   "source": [
    "### 2.2.2 Merging the data"
   ]
  },
  {
   "cell_type": "markdown",
   "id": "3c2d1256-5d05-4374-8e5a-a5907313e7ed",
   "metadata": {},
   "source": [
    "**MERGE BILLING DATASETS**<br>\n",
    "We are going to create an aggregated dataframe that shows `total_hosp_bill` per hospitalisation."
   ]
  },
  {
   "cell_type": "code",
   "execution_count": 24,
   "id": "735cd54d-7dcc-48a4-9c0a-66fdca3daa8a",
   "metadata": {},
   "outputs": [
    {
     "data": {
      "text/plain": [
       "3"
      ]
     },
     "execution_count": 24,
     "metadata": {},
     "output_type": "execute_result"
    },
    {
     "data": {
      "text/html": [
       "<div>\n",
       "<style scoped>\n",
       "    .dataframe tbody tr th:only-of-type {\n",
       "        vertical-align: middle;\n",
       "    }\n",
       "\n",
       "    .dataframe tbody tr th {\n",
       "        vertical-align: top;\n",
       "    }\n",
       "\n",
       "    .dataframe thead th {\n",
       "        text-align: right;\n",
       "    }\n",
       "</style>\n",
       "<table border=\"1\" class=\"dataframe\">\n",
       "  <thead>\n",
       "    <tr style=\"text-align: right;\">\n",
       "      <th></th>\n",
       "      <th>bill_id</th>\n",
       "      <th>patient_id</th>\n",
       "      <th>date_of_admission</th>\n",
       "    </tr>\n",
       "  </thead>\n",
       "  <tbody>\n",
       "    <tr>\n",
       "      <th>0</th>\n",
       "      <td>7968360812</td>\n",
       "      <td>1d21f2be18683991eb93d182d6b2d220</td>\n",
       "      <td>2011-01-01</td>\n",
       "    </tr>\n",
       "    <tr>\n",
       "      <th>1</th>\n",
       "      <td>6180579974</td>\n",
       "      <td>62bdca0b95d97e99e1c712048fb9fd09</td>\n",
       "      <td>2011-01-01</td>\n",
       "    </tr>\n",
       "    <tr>\n",
       "      <th>2</th>\n",
       "      <td>7512568183</td>\n",
       "      <td>1d21f2be18683991eb93d182d6b2d220</td>\n",
       "      <td>2011-01-01</td>\n",
       "    </tr>\n",
       "  </tbody>\n",
       "</table>\n",
       "</div>"
      ],
      "text/plain": [
       "      bill_id                        patient_id date_of_admission\n",
       "0  7968360812  1d21f2be18683991eb93d182d6b2d220        2011-01-01\n",
       "1  6180579974  62bdca0b95d97e99e1c712048fb9fd09        2011-01-01\n",
       "2  7512568183  1d21f2be18683991eb93d182d6b2d220        2011-01-01"
      ]
     },
     "execution_count": 24,
     "metadata": {},
     "output_type": "execute_result"
    }
   ],
   "source": [
    "#Number of columns in billing_id_df data set:\n",
    "len(billing_id_df.columns)\n",
    "billing_id_df.head(3)"
   ]
  },
  {
   "cell_type": "code",
   "execution_count": 25,
   "id": "03feb729-72cd-4c5e-80c2-988c71d7027f",
   "metadata": {},
   "outputs": [
    {
     "data": {
      "text/plain": [
       "2"
      ]
     },
     "execution_count": 25,
     "metadata": {},
     "output_type": "execute_result"
    },
    {
     "data": {
      "text/html": [
       "<div>\n",
       "<style scoped>\n",
       "    .dataframe tbody tr th:only-of-type {\n",
       "        vertical-align: middle;\n",
       "    }\n",
       "\n",
       "    .dataframe tbody tr th {\n",
       "        vertical-align: top;\n",
       "    }\n",
       "\n",
       "    .dataframe thead th {\n",
       "        text-align: right;\n",
       "    }\n",
       "</style>\n",
       "<table border=\"1\" class=\"dataframe\">\n",
       "  <thead>\n",
       "    <tr style=\"text-align: right;\">\n",
       "      <th></th>\n",
       "      <th>bill_id</th>\n",
       "      <th>hosp_bill</th>\n",
       "    </tr>\n",
       "  </thead>\n",
       "  <tbody>\n",
       "    <tr>\n",
       "      <th>0</th>\n",
       "      <td>40315104</td>\n",
       "      <td>1552.634830</td>\n",
       "    </tr>\n",
       "    <tr>\n",
       "      <th>1</th>\n",
       "      <td>2660045161</td>\n",
       "      <td>1032.011951</td>\n",
       "    </tr>\n",
       "    <tr>\n",
       "      <th>2</th>\n",
       "      <td>1148334643</td>\n",
       "      <td>6469.605351</td>\n",
       "    </tr>\n",
       "  </tbody>\n",
       "</table>\n",
       "</div>"
      ],
      "text/plain": [
       "      bill_id    hosp_bill\n",
       "0    40315104  1552.634830\n",
       "1  2660045161  1032.011951\n",
       "2  1148334643  6469.605351"
      ]
     },
     "execution_count": 25,
     "metadata": {},
     "output_type": "execute_result"
    }
   ],
   "source": [
    "#Number of columns in billing_amt_df data set:\n",
    "len(billing_amt_df.columns)\n",
    "billing_amt_df.head(3)"
   ]
  },
  {
   "cell_type": "code",
   "execution_count": 26,
   "id": "ac472006-a760-4eef-8f30-8fd2711820e7",
   "metadata": {},
   "outputs": [
    {
     "data": {
      "text/html": [
       "<div>\n",
       "<style scoped>\n",
       "    .dataframe tbody tr th:only-of-type {\n",
       "        vertical-align: middle;\n",
       "    }\n",
       "\n",
       "    .dataframe tbody tr th {\n",
       "        vertical-align: top;\n",
       "    }\n",
       "\n",
       "    .dataframe thead th {\n",
       "        text-align: right;\n",
       "    }\n",
       "</style>\n",
       "<table border=\"1\" class=\"dataframe\">\n",
       "  <thead>\n",
       "    <tr style=\"text-align: right;\">\n",
       "      <th></th>\n",
       "      <th>bill_id</th>\n",
       "      <th>patient_id</th>\n",
       "      <th>date_of_admission</th>\n",
       "      <th>hosp_bill</th>\n",
       "    </tr>\n",
       "  </thead>\n",
       "  <tbody>\n",
       "    <tr>\n",
       "      <th>0</th>\n",
       "      <td>7968360812</td>\n",
       "      <td>1d21f2be18683991eb93d182d6b2d220</td>\n",
       "      <td>2011-01-01</td>\n",
       "      <td>951.214467</td>\n",
       "    </tr>\n",
       "    <tr>\n",
       "      <th>1</th>\n",
       "      <td>6180579974</td>\n",
       "      <td>62bdca0b95d97e99e1c712048fb9fd09</td>\n",
       "      <td>2011-01-01</td>\n",
       "      <td>19900.297086</td>\n",
       "    </tr>\n",
       "    <tr>\n",
       "      <th>2</th>\n",
       "      <td>7512568183</td>\n",
       "      <td>1d21f2be18683991eb93d182d6b2d220</td>\n",
       "      <td>2011-01-01</td>\n",
       "      <td>12338.269972</td>\n",
       "    </tr>\n",
       "    <tr>\n",
       "      <th>3</th>\n",
       "      <td>3762633379</td>\n",
       "      <td>62bdca0b95d97e99e1c712048fb9fd09</td>\n",
       "      <td>2011-01-01</td>\n",
       "      <td>1145.372193</td>\n",
       "    </tr>\n",
       "    <tr>\n",
       "      <th>4</th>\n",
       "      <td>7654730355</td>\n",
       "      <td>1d21f2be18683991eb93d182d6b2d220</td>\n",
       "      <td>2011-01-01</td>\n",
       "      <td>1133.601902</td>\n",
       "    </tr>\n",
       "  </tbody>\n",
       "</table>\n",
       "</div>"
      ],
      "text/plain": [
       "      bill_id                        patient_id date_of_admission  \\\n",
       "0  7968360812  1d21f2be18683991eb93d182d6b2d220        2011-01-01   \n",
       "1  6180579974  62bdca0b95d97e99e1c712048fb9fd09        2011-01-01   \n",
       "2  7512568183  1d21f2be18683991eb93d182d6b2d220        2011-01-01   \n",
       "3  3762633379  62bdca0b95d97e99e1c712048fb9fd09        2011-01-01   \n",
       "4  7654730355  1d21f2be18683991eb93d182d6b2d220        2011-01-01   \n",
       "\n",
       "      hosp_bill  \n",
       "0    951.214467  \n",
       "1  19900.297086  \n",
       "2  12338.269972  \n",
       "3   1145.372193  \n",
       "4   1133.601902  "
      ]
     },
     "execution_count": 26,
     "metadata": {},
     "output_type": "execute_result"
    }
   ],
   "source": [
    "#Merge the billing data sets first, expected to have 4 columns\n",
    "billing_merged_df = billing_id_df.merge(billing_amt_df, on='bill_id')\n",
    "billing_merged_df.head()"
   ]
  },
  {
   "cell_type": "code",
   "execution_count": 27,
   "id": "f9ccb817-027f-4f86-bdfb-2b2cceb355ab",
   "metadata": {},
   "outputs": [
    {
     "data": {
      "text/plain": [
       "Index(['bill_id', 'patient_id', 'date_of_admission', 'hosp_bill'], dtype='object')"
      ]
     },
     "execution_count": 27,
     "metadata": {},
     "output_type": "execute_result"
    }
   ],
   "source": [
    "billing_merged_df.columns"
   ]
  },
  {
   "cell_type": "code",
   "execution_count": 28,
   "id": "b490d464-8283-4c23-9fa6-515b5e85a237",
   "metadata": {},
   "outputs": [
    {
     "data": {
      "text/html": [
       "<div>\n",
       "<style scoped>\n",
       "    .dataframe tbody tr th:only-of-type {\n",
       "        vertical-align: middle;\n",
       "    }\n",
       "\n",
       "    .dataframe tbody tr th {\n",
       "        vertical-align: top;\n",
       "    }\n",
       "\n",
       "    .dataframe thead th {\n",
       "        text-align: right;\n",
       "    }\n",
       "</style>\n",
       "<table border=\"1\" class=\"dataframe\">\n",
       "  <thead>\n",
       "    <tr style=\"text-align: right;\">\n",
       "      <th></th>\n",
       "      <th>patient_id</th>\n",
       "      <th>date_of_admission</th>\n",
       "      <th>total_hosp_bill</th>\n",
       "    </tr>\n",
       "  </thead>\n",
       "  <tbody>\n",
       "    <tr>\n",
       "      <th>0</th>\n",
       "      <td>00225710a878eff524a1d13be817e8e2</td>\n",
       "      <td>2014-04-10</td>\n",
       "      <td>5190.566695</td>\n",
       "    </tr>\n",
       "    <tr>\n",
       "      <th>1</th>\n",
       "      <td>0029d90eb654699c18001c17efb0f129</td>\n",
       "      <td>2012-11-07</td>\n",
       "      <td>22601.497872</td>\n",
       "    </tr>\n",
       "    <tr>\n",
       "      <th>2</th>\n",
       "      <td>0040333abd68527ecb53e1db9073f52e</td>\n",
       "      <td>2013-01-19</td>\n",
       "      <td>17447.181635</td>\n",
       "    </tr>\n",
       "    <tr>\n",
       "      <th>3</th>\n",
       "      <td>00473b58e3dc8ae37b3cb34069705083</td>\n",
       "      <td>2014-02-10</td>\n",
       "      <td>15285.883220</td>\n",
       "    </tr>\n",
       "    <tr>\n",
       "      <th>4</th>\n",
       "      <td>0078662d1d983dde68ea057c42d5b5cf</td>\n",
       "      <td>2012-04-28</td>\n",
       "      <td>73477.869010</td>\n",
       "    </tr>\n",
       "  </tbody>\n",
       "</table>\n",
       "</div>"
      ],
      "text/plain": [
       "                         patient_id date_of_admission  total_hosp_bill\n",
       "0  00225710a878eff524a1d13be817e8e2        2014-04-10      5190.566695\n",
       "1  0029d90eb654699c18001c17efb0f129        2012-11-07     22601.497872\n",
       "2  0040333abd68527ecb53e1db9073f52e        2013-01-19     17447.181635\n",
       "3  00473b58e3dc8ae37b3cb34069705083        2014-02-10     15285.883220\n",
       "4  0078662d1d983dde68ea057c42d5b5cf        2012-04-28     73477.869010"
      ]
     },
     "execution_count": 28,
     "metadata": {},
     "output_type": "execute_result"
    },
    {
     "data": {
      "text/plain": [
       "(3400, 3)"
      ]
     },
     "execution_count": 28,
     "metadata": {},
     "output_type": "execute_result"
    }
   ],
   "source": [
    "#Process the dataframe, so that each data row represent each hospitalisation, and the hosp_bills is aggregated to total_hosp_bill\n",
    "\n",
    "# Group the data by 'patient_id' and 'date_of_admission' and calculate the sum of 'hosp_bill'\n",
    "grouped_df = billing_merged_df.groupby(['patient_id', 'date_of_admission'])['hosp_bill'].sum().reset_index()\n",
    "\n",
    "# Create a new DataFrame with the desired columns\n",
    "bill_df = grouped_df[['patient_id', 'date_of_admission', 'hosp_bill']].copy()\n",
    "bill_df.columns = ['patient_id', 'date_of_admission', 'total_hosp_bill']\n",
    "\n",
    "# Display the resulting DataFrame, there should be 3400 data rows\n",
    "bill_df.head()\n",
    "bill_df.shape"
   ]
  },
  {
   "cell_type": "markdown",
   "id": "23fe9666-2271-42d9-912c-a0a8c3a15762",
   "metadata": {},
   "source": [
    "**MERGE BILLING DATASET TO CLINICAL DATASET**"
   ]
  },
  {
   "cell_type": "code",
   "execution_count": 29,
   "id": "c7ab9931-32e7-4e55-8428-3df25e4cc3cb",
   "metadata": {},
   "outputs": [
    {
     "data": {
      "text/html": [
       "<div>\n",
       "<style scoped>\n",
       "    .dataframe tbody tr th:only-of-type {\n",
       "        vertical-align: middle;\n",
       "    }\n",
       "\n",
       "    .dataframe tbody tr th {\n",
       "        vertical-align: top;\n",
       "    }\n",
       "\n",
       "    .dataframe thead th {\n",
       "        text-align: right;\n",
       "    }\n",
       "</style>\n",
       "<table border=\"1\" class=\"dataframe\">\n",
       "  <thead>\n",
       "    <tr style=\"text-align: right;\">\n",
       "      <th></th>\n",
       "      <th>patient_id</th>\n",
       "      <th>date_of_admission</th>\n",
       "      <th>total_hosp_bill</th>\n",
       "      <th>date_of_discharge</th>\n",
       "      <th>medical_history_1</th>\n",
       "      <th>medical_history_2</th>\n",
       "      <th>medical_history_3</th>\n",
       "      <th>medical_history_4</th>\n",
       "      <th>medical_history_5</th>\n",
       "      <th>medical_history_6</th>\n",
       "      <th>...</th>\n",
       "      <th>symptom_1</th>\n",
       "      <th>symptom_2</th>\n",
       "      <th>symptom_3</th>\n",
       "      <th>symptom_4</th>\n",
       "      <th>symptom_5</th>\n",
       "      <th>lab_result_1</th>\n",
       "      <th>lab_result_2</th>\n",
       "      <th>lab_result_3</th>\n",
       "      <th>weight</th>\n",
       "      <th>height</th>\n",
       "    </tr>\n",
       "  </thead>\n",
       "  <tbody>\n",
       "    <tr>\n",
       "      <th>0</th>\n",
       "      <td>00225710a878eff524a1d13be817e8e2</td>\n",
       "      <td>2014-04-10</td>\n",
       "      <td>5190.566695</td>\n",
       "      <td>2014-04-22</td>\n",
       "      <td>0</td>\n",
       "      <td>0.0</td>\n",
       "      <td>0</td>\n",
       "      <td>0</td>\n",
       "      <td>0.0</td>\n",
       "      <td>0</td>\n",
       "      <td>...</td>\n",
       "      <td>0</td>\n",
       "      <td>0</td>\n",
       "      <td>1</td>\n",
       "      <td>0</td>\n",
       "      <td>0</td>\n",
       "      <td>13.4</td>\n",
       "      <td>27.9</td>\n",
       "      <td>96.0</td>\n",
       "      <td>66.9</td>\n",
       "      <td>155.0</td>\n",
       "    </tr>\n",
       "    <tr>\n",
       "      <th>1</th>\n",
       "      <td>0029d90eb654699c18001c17efb0f129</td>\n",
       "      <td>2012-11-07</td>\n",
       "      <td>22601.497872</td>\n",
       "      <td>2012-11-20</td>\n",
       "      <td>0</td>\n",
       "      <td>1.0</td>\n",
       "      <td>0</td>\n",
       "      <td>0</td>\n",
       "      <td>0.0</td>\n",
       "      <td>1</td>\n",
       "      <td>...</td>\n",
       "      <td>0</td>\n",
       "      <td>1</td>\n",
       "      <td>0</td>\n",
       "      <td>0</td>\n",
       "      <td>1</td>\n",
       "      <td>16.7</td>\n",
       "      <td>26.5</td>\n",
       "      <td>109.0</td>\n",
       "      <td>89.1</td>\n",
       "      <td>160.0</td>\n",
       "    </tr>\n",
       "    <tr>\n",
       "      <th>2</th>\n",
       "      <td>0040333abd68527ecb53e1db9073f52e</td>\n",
       "      <td>2013-01-19</td>\n",
       "      <td>17447.181635</td>\n",
       "      <td>2013-01-31</td>\n",
       "      <td>0</td>\n",
       "      <td>1.0</td>\n",
       "      <td>0</td>\n",
       "      <td>0</td>\n",
       "      <td>0.0</td>\n",
       "      <td>0</td>\n",
       "      <td>...</td>\n",
       "      <td>0</td>\n",
       "      <td>1</td>\n",
       "      <td>0</td>\n",
       "      <td>0</td>\n",
       "      <td>1</td>\n",
       "      <td>14.8</td>\n",
       "      <td>25.2</td>\n",
       "      <td>96.0</td>\n",
       "      <td>79.5</td>\n",
       "      <td>172.0</td>\n",
       "    </tr>\n",
       "    <tr>\n",
       "      <th>3</th>\n",
       "      <td>00473b58e3dc8ae37b3cb34069705083</td>\n",
       "      <td>2014-02-10</td>\n",
       "      <td>15285.883220</td>\n",
       "      <td>2014-02-15</td>\n",
       "      <td>1</td>\n",
       "      <td>0.0</td>\n",
       "      <td>0</td>\n",
       "      <td>0</td>\n",
       "      <td>0.0</td>\n",
       "      <td>0</td>\n",
       "      <td>...</td>\n",
       "      <td>0</td>\n",
       "      <td>1</td>\n",
       "      <td>1</td>\n",
       "      <td>1</td>\n",
       "      <td>0</td>\n",
       "      <td>14.9</td>\n",
       "      <td>28.7</td>\n",
       "      <td>122.0</td>\n",
       "      <td>81.1</td>\n",
       "      <td>160.0</td>\n",
       "    </tr>\n",
       "    <tr>\n",
       "      <th>4</th>\n",
       "      <td>0078662d1d983dde68ea057c42d5b5cf</td>\n",
       "      <td>2012-04-28</td>\n",
       "      <td>73477.869010</td>\n",
       "      <td>2012-05-10</td>\n",
       "      <td>0</td>\n",
       "      <td>1.0</td>\n",
       "      <td>No</td>\n",
       "      <td>0</td>\n",
       "      <td>0.0</td>\n",
       "      <td>1</td>\n",
       "      <td>...</td>\n",
       "      <td>0</td>\n",
       "      <td>1</td>\n",
       "      <td>0</td>\n",
       "      <td>1</td>\n",
       "      <td>1</td>\n",
       "      <td>14.2</td>\n",
       "      <td>27.2</td>\n",
       "      <td>89.0</td>\n",
       "      <td>74.7</td>\n",
       "      <td>173.0</td>\n",
       "    </tr>\n",
       "  </tbody>\n",
       "</table>\n",
       "<p>5 rows × 27 columns</p>\n",
       "</div>"
      ],
      "text/plain": [
       "                         patient_id date_of_admission  total_hosp_bill  \\\n",
       "0  00225710a878eff524a1d13be817e8e2        2014-04-10      5190.566695   \n",
       "1  0029d90eb654699c18001c17efb0f129        2012-11-07     22601.497872   \n",
       "2  0040333abd68527ecb53e1db9073f52e        2013-01-19     17447.181635   \n",
       "3  00473b58e3dc8ae37b3cb34069705083        2014-02-10     15285.883220   \n",
       "4  0078662d1d983dde68ea057c42d5b5cf        2012-04-28     73477.869010   \n",
       "\n",
       "  date_of_discharge  medical_history_1  medical_history_2 medical_history_3  \\\n",
       "0        2014-04-22                  0                0.0                 0   \n",
       "1        2012-11-20                  0                1.0                 0   \n",
       "2        2013-01-31                  0                1.0                 0   \n",
       "3        2014-02-15                  1                0.0                 0   \n",
       "4        2012-05-10                  0                1.0                No   \n",
       "\n",
       "   medical_history_4  medical_history_5  medical_history_6  ...  symptom_1  \\\n",
       "0                  0                0.0                  0  ...          0   \n",
       "1                  0                0.0                  1  ...          0   \n",
       "2                  0                0.0                  0  ...          0   \n",
       "3                  0                0.0                  0  ...          0   \n",
       "4                  0                0.0                  1  ...          0   \n",
       "\n",
       "   symptom_2  symptom_3  symptom_4  symptom_5  lab_result_1  lab_result_2  \\\n",
       "0          0          1          0          0          13.4          27.9   \n",
       "1          1          0          0          1          16.7          26.5   \n",
       "2          1          0          0          1          14.8          25.2   \n",
       "3          1          1          1          0          14.9          28.7   \n",
       "4          1          0          1          1          14.2          27.2   \n",
       "\n",
       "   lab_result_3  weight  height  \n",
       "0          96.0    66.9   155.0  \n",
       "1         109.0    89.1   160.0  \n",
       "2          96.0    79.5   172.0  \n",
       "3         122.0    81.1   160.0  \n",
       "4          89.0    74.7   173.0  \n",
       "\n",
       "[5 rows x 27 columns]"
      ]
     },
     "execution_count": 29,
     "metadata": {},
     "output_type": "execute_result"
    }
   ],
   "source": [
    "#Merge the billing dataframe with the clinical data set\n",
    "hospitalisation_df = bill_df.merge(clinical_df, on=['patient_id', 'date_of_admission'])\n",
    "hospitalisation_df.head()"
   ]
  },
  {
   "cell_type": "code",
   "execution_count": 30,
   "id": "dbda4014-905b-4067-9947-d871025509a4",
   "metadata": {},
   "outputs": [
    {
     "name": "stdout",
     "output_type": "stream",
     "text": [
      "\n",
      "Expected number of columns in hospitalisation_df: 27\n",
      "Number of hospitalisation_df columns: 27\n",
      "Number of columns in resulting dataframe matches expected number of columns\n",
      "Number of rows in resulting dataframe matches expected number of columns of 3400\n"
     ]
    }
   ],
   "source": [
    "exp = len(clinical_df.columns) + len(bill_df.columns) - 2\n",
    "actual = len(hospitalisation_df.columns)\n",
    "print(f\"\"\"\n",
    "Expected number of columns in hospitalisation_df: {exp}\n",
    "Number of hospitalisation_df columns: {actual}\"\"\")\n",
    "\n",
    "if exp == actual:\n",
    "    print(\"Number of columns in resulting dataframe matches expected number of columns\")\n",
    "    \n",
    "if len(hospitalisation_df) == len(bill_df):\n",
    "    print(f\"Number of rows in resulting dataframe matches expected number of columns of {len(bill_df)}\")"
   ]
  },
  {
   "cell_type": "markdown",
   "id": "9a120b98-fcbb-48b0-b664-6ee6481dd669",
   "metadata": {},
   "source": [
    "**MERGE hospitalisation_df DATASETS WITH DEMOGRAPHIC DATASET**"
   ]
  },
  {
   "cell_type": "code",
   "execution_count": 31,
   "id": "c4391785-7797-4899-900e-48016e9a66ea",
   "metadata": {},
   "outputs": [
    {
     "data": {
      "text/html": [
       "<div>\n",
       "<style scoped>\n",
       "    .dataframe tbody tr th:only-of-type {\n",
       "        vertical-align: middle;\n",
       "    }\n",
       "\n",
       "    .dataframe tbody tr th {\n",
       "        vertical-align: top;\n",
       "    }\n",
       "\n",
       "    .dataframe thead th {\n",
       "        text-align: right;\n",
       "    }\n",
       "</style>\n",
       "<table border=\"1\" class=\"dataframe\">\n",
       "  <thead>\n",
       "    <tr style=\"text-align: right;\">\n",
       "      <th></th>\n",
       "      <th>patient_id</th>\n",
       "      <th>date_of_admission</th>\n",
       "      <th>total_hosp_bill</th>\n",
       "      <th>date_of_discharge</th>\n",
       "      <th>medical_history_1</th>\n",
       "      <th>medical_history_2</th>\n",
       "      <th>medical_history_3</th>\n",
       "      <th>medical_history_4</th>\n",
       "      <th>medical_history_5</th>\n",
       "      <th>medical_history_6</th>\n",
       "      <th>...</th>\n",
       "      <th>symptom_5</th>\n",
       "      <th>lab_result_1</th>\n",
       "      <th>lab_result_2</th>\n",
       "      <th>lab_result_3</th>\n",
       "      <th>weight</th>\n",
       "      <th>height</th>\n",
       "      <th>gender</th>\n",
       "      <th>race</th>\n",
       "      <th>resident_status</th>\n",
       "      <th>date_of_birth</th>\n",
       "    </tr>\n",
       "  </thead>\n",
       "  <tbody>\n",
       "    <tr>\n",
       "      <th>0</th>\n",
       "      <td>00225710a878eff524a1d13be817e8e2</td>\n",
       "      <td>2014-04-10</td>\n",
       "      <td>5190.566695</td>\n",
       "      <td>2014-04-22</td>\n",
       "      <td>0</td>\n",
       "      <td>0.0</td>\n",
       "      <td>0</td>\n",
       "      <td>0</td>\n",
       "      <td>0.0</td>\n",
       "      <td>0</td>\n",
       "      <td>...</td>\n",
       "      <td>0</td>\n",
       "      <td>13.4</td>\n",
       "      <td>27.9</td>\n",
       "      <td>96.0</td>\n",
       "      <td>66.9</td>\n",
       "      <td>155.0</td>\n",
       "      <td>Female</td>\n",
       "      <td>Chinese</td>\n",
       "      <td>Singaporean</td>\n",
       "      <td>1983-01-16</td>\n",
       "    </tr>\n",
       "    <tr>\n",
       "      <th>1</th>\n",
       "      <td>0029d90eb654699c18001c17efb0f129</td>\n",
       "      <td>2012-11-07</td>\n",
       "      <td>22601.497872</td>\n",
       "      <td>2012-11-20</td>\n",
       "      <td>0</td>\n",
       "      <td>1.0</td>\n",
       "      <td>0</td>\n",
       "      <td>0</td>\n",
       "      <td>0.0</td>\n",
       "      <td>1</td>\n",
       "      <td>...</td>\n",
       "      <td>1</td>\n",
       "      <td>16.7</td>\n",
       "      <td>26.5</td>\n",
       "      <td>109.0</td>\n",
       "      <td>89.1</td>\n",
       "      <td>160.0</td>\n",
       "      <td>Female</td>\n",
       "      <td>Chinese</td>\n",
       "      <td>Singaporean</td>\n",
       "      <td>1943-10-14</td>\n",
       "    </tr>\n",
       "    <tr>\n",
       "      <th>2</th>\n",
       "      <td>0040333abd68527ecb53e1db9073f52e</td>\n",
       "      <td>2013-01-19</td>\n",
       "      <td>17447.181635</td>\n",
       "      <td>2013-01-31</td>\n",
       "      <td>0</td>\n",
       "      <td>1.0</td>\n",
       "      <td>0</td>\n",
       "      <td>0</td>\n",
       "      <td>0.0</td>\n",
       "      <td>0</td>\n",
       "      <td>...</td>\n",
       "      <td>1</td>\n",
       "      <td>14.8</td>\n",
       "      <td>25.2</td>\n",
       "      <td>96.0</td>\n",
       "      <td>79.5</td>\n",
       "      <td>172.0</td>\n",
       "      <td>Male</td>\n",
       "      <td>India</td>\n",
       "      <td>Singaporean</td>\n",
       "      <td>1972-08-26</td>\n",
       "    </tr>\n",
       "    <tr>\n",
       "      <th>3</th>\n",
       "      <td>00473b58e3dc8ae37b3cb34069705083</td>\n",
       "      <td>2014-02-10</td>\n",
       "      <td>15285.883220</td>\n",
       "      <td>2014-02-15</td>\n",
       "      <td>1</td>\n",
       "      <td>0.0</td>\n",
       "      <td>0</td>\n",
       "      <td>0</td>\n",
       "      <td>0.0</td>\n",
       "      <td>0</td>\n",
       "      <td>...</td>\n",
       "      <td>0</td>\n",
       "      <td>14.9</td>\n",
       "      <td>28.7</td>\n",
       "      <td>122.0</td>\n",
       "      <td>81.1</td>\n",
       "      <td>160.0</td>\n",
       "      <td>Female</td>\n",
       "      <td>Chinese</td>\n",
       "      <td>Singapore citizen</td>\n",
       "      <td>1976-07-23</td>\n",
       "    </tr>\n",
       "    <tr>\n",
       "      <th>4</th>\n",
       "      <td>0078662d1d983dde68ea057c42d5b5cf</td>\n",
       "      <td>2012-04-28</td>\n",
       "      <td>73477.869010</td>\n",
       "      <td>2012-05-10</td>\n",
       "      <td>0</td>\n",
       "      <td>1.0</td>\n",
       "      <td>No</td>\n",
       "      <td>0</td>\n",
       "      <td>0.0</td>\n",
       "      <td>1</td>\n",
       "      <td>...</td>\n",
       "      <td>1</td>\n",
       "      <td>14.2</td>\n",
       "      <td>27.2</td>\n",
       "      <td>89.0</td>\n",
       "      <td>74.7</td>\n",
       "      <td>173.0</td>\n",
       "      <td>Male</td>\n",
       "      <td>Malay</td>\n",
       "      <td>Foreigner</td>\n",
       "      <td>1942-10-19</td>\n",
       "    </tr>\n",
       "  </tbody>\n",
       "</table>\n",
       "<p>5 rows × 31 columns</p>\n",
       "</div>"
      ],
      "text/plain": [
       "                         patient_id date_of_admission  total_hosp_bill  \\\n",
       "0  00225710a878eff524a1d13be817e8e2        2014-04-10      5190.566695   \n",
       "1  0029d90eb654699c18001c17efb0f129        2012-11-07     22601.497872   \n",
       "2  0040333abd68527ecb53e1db9073f52e        2013-01-19     17447.181635   \n",
       "3  00473b58e3dc8ae37b3cb34069705083        2014-02-10     15285.883220   \n",
       "4  0078662d1d983dde68ea057c42d5b5cf        2012-04-28     73477.869010   \n",
       "\n",
       "  date_of_discharge  medical_history_1  medical_history_2 medical_history_3  \\\n",
       "0        2014-04-22                  0                0.0                 0   \n",
       "1        2012-11-20                  0                1.0                 0   \n",
       "2        2013-01-31                  0                1.0                 0   \n",
       "3        2014-02-15                  1                0.0                 0   \n",
       "4        2012-05-10                  0                1.0                No   \n",
       "\n",
       "   medical_history_4  medical_history_5  medical_history_6  ...  symptom_5  \\\n",
       "0                  0                0.0                  0  ...          0   \n",
       "1                  0                0.0                  1  ...          1   \n",
       "2                  0                0.0                  0  ...          1   \n",
       "3                  0                0.0                  0  ...          0   \n",
       "4                  0                0.0                  1  ...          1   \n",
       "\n",
       "   lab_result_1  lab_result_2  lab_result_3  weight  height  gender     race  \\\n",
       "0          13.4          27.9          96.0    66.9   155.0  Female  Chinese   \n",
       "1          16.7          26.5         109.0    89.1   160.0  Female  Chinese   \n",
       "2          14.8          25.2          96.0    79.5   172.0    Male    India   \n",
       "3          14.9          28.7         122.0    81.1   160.0  Female  Chinese   \n",
       "4          14.2          27.2          89.0    74.7   173.0    Male    Malay   \n",
       "\n",
       "     resident_status  date_of_birth  \n",
       "0        Singaporean     1983-01-16  \n",
       "1        Singaporean     1943-10-14  \n",
       "2        Singaporean     1972-08-26  \n",
       "3  Singapore citizen     1976-07-23  \n",
       "4          Foreigner     1942-10-19  \n",
       "\n",
       "[5 rows x 31 columns]"
      ]
     },
     "execution_count": 31,
     "metadata": {},
     "output_type": "execute_result"
    }
   ],
   "source": [
    "#Merge the hospitalisation_df dataframe with the patient demographic data set\n",
    "merged_df = hospitalisation_df.merge(demographic_df, on='patient_id', how='left')\n",
    "merged_df.head()"
   ]
  },
  {
   "cell_type": "code",
   "execution_count": 32,
   "id": "b1964b7e-497e-4f4f-9747-38c6715f0896",
   "metadata": {},
   "outputs": [
    {
     "name": "stdout",
     "output_type": "stream",
     "text": [
      "\n",
      "Expected number of columns in merged_df: 31\n",
      "Number of merged_df columns: 31\n",
      "\n",
      "Number of columns in resulting dataframe is the same as expected number of columns\n",
      "Number of rows in resulting dataframe matches expected number of columns of 3400\n"
     ]
    }
   ],
   "source": [
    "exp = len(hospitalisation_df.columns) + len(demographic_df.columns) - 1\n",
    "actual = len(merged_df.columns)\n",
    "print(f\"\"\"\n",
    "Expected number of columns in merged_df: {exp}\n",
    "Number of merged_df columns: {actual}\\n\"\"\")\n",
    "\n",
    "if exp == actual:\n",
    "    print(\"Number of columns in resulting dataframe is the same as expected number of columns\")\n",
    "if len(merged_df) == len(hospitalisation_df):\n",
    "    print(f\"Number of rows in resulting dataframe matches expected number of columns of {len(hospitalisation_df)}\")"
   ]
  },
  {
   "cell_type": "markdown",
   "id": "77dec052-611e-42c0-a22a-2c32e1ca1d01",
   "metadata": {},
   "source": [
    "## 2.3 View merged dataset"
   ]
  },
  {
   "cell_type": "code",
   "execution_count": 33,
   "id": "b675a14d-4fd4-4a50-9afd-a7bcafdbaf33",
   "metadata": {},
   "outputs": [
    {
     "name": "stdout",
     "output_type": "stream",
     "text": [
      "Dataframe (Merged Dataframe) Summary\n",
      "Shape(col,rows): (3400, 31)\n",
      "Number of duplicates: 0\n",
      "------------------------------------------------------------\n",
      "Number of each unique datatypes:\n",
      "int64      15\n",
      "object      8\n",
      "float64     8\n",
      "dtype: int64\n",
      "------------------------------------------------------------\n",
      "Columns with missing values:\n",
      "                 col  num_nulls  perc_null\n",
      "0  medical_history_2        233       0.07\n",
      "1  medical_history_5        304       0.09\n",
      "------------------------------------------------------------\n",
      "Check Quantitative data values:\n",
      "           Column Name  Minimum Value  Maximum Value\n",
      "0      total_hosp_bill    2946.100354   98723.854994\n",
      "1    medical_history_1       0.000000       1.000000\n",
      "2    medical_history_2       0.000000       1.000000\n",
      "3    medical_history_4       0.000000       1.000000\n",
      "4    medical_history_5       0.000000       1.000000\n",
      "5    medical_history_6       0.000000       1.000000\n",
      "6    medical_history_7       0.000000       1.000000\n",
      "7   preop_medication_1       0.000000       1.000000\n",
      "8   preop_medication_2       0.000000       1.000000\n",
      "9   preop_medication_3       0.000000       1.000000\n",
      "10  preop_medication_4       0.000000       1.000000\n",
      "11  preop_medication_5       0.000000       1.000000\n",
      "12  preop_medication_6       0.000000       1.000000\n",
      "13           symptom_1       0.000000       1.000000\n",
      "14           symptom_2       0.000000       1.000000\n",
      "15           symptom_3       0.000000       1.000000\n",
      "16           symptom_4       0.000000       1.000000\n",
      "17           symptom_5       0.000000       1.000000\n",
      "18        lab_result_1       9.100000      20.300000\n",
      "19        lab_result_2      19.700000      35.100000\n",
      "20        lab_result_3      52.000000     150.000000\n",
      "21              weight      48.000000     121.000000\n",
      "22              height     151.000000     186.000000\n",
      "------------------------------------------------------------\n",
      "Check Qualitative data values:\n",
      "--Column 'patient_id' has\n",
      " 3000 unique values\n",
      "\n",
      "--Column 'date_of_admission' has\n",
      " 1450 unique values\n",
      "\n",
      "--Column 'date_of_discharge' has\n",
      " 1532 unique values\n",
      "\n",
      "--Column 'medical_history_3' has\n",
      " 4 unique values\n",
      "\n",
      "--Column 'gender' has\n",
      " 4 unique values\n",
      "\n",
      "--Column 'race' has\n",
      " 6 unique values\n",
      "\n",
      "--Column 'resident_status' has\n",
      " 4 unique values\n",
      "\n",
      "--Column 'date_of_birth' has\n",
      " 2746 unique values\n",
      "\n",
      "------------------------------------------------------------\n",
      "\n",
      "End of Dataframe Summary\n"
     ]
    }
   ],
   "source": [
    "df_summary(merged_df, \"Merged Dataframe\")"
   ]
  },
  {
   "cell_type": "code",
   "execution_count": 35,
   "id": "c9d39701-b13e-430c-a07a-6bbc28d7592d",
   "metadata": {},
   "outputs": [
    {
     "data": {
      "text/plain": [
       "3400"
      ]
     },
     "execution_count": 35,
     "metadata": {},
     "output_type": "execute_result"
    }
   ],
   "source": [
    "#There should be no duplicated patient_id and hospitalisation admissions\n",
    "#Number of unique patient admissions\n",
    "_d = merged_df[['patient_id', 'date_of_admission']].copy()\n",
    "_d['each_hospitalisation'] = _d['patient_id'] + _d['date_of_admission']\n",
    "_d['each_hospitalisation'].nunique()"
   ]
  },
  {
   "cell_type": "markdown",
   "id": "6aa0b0df-eb50-4e23-a165-baff363d1bb6",
   "metadata": {},
   "source": [
    "**Remarks**\n",
    "\n",
    "We have succesfully merged the data sets, where each row now represents each unique hospitalisation.\n",
    "\n",
    "|**Observation**|**Description**|**Plan**|\n",
    "|---|---|---|\n",
    "|General|<ul><li>3000 unique patients<li>3400 hospitalisation cases|*NA*|\n",
    "|Missing Data|<ul><li>Missing data noted:<ul><li>`medical_history_2`<li>`medical_history_5`|Analyse the columns with missing data, possibly impute with appropriate values|\n",
    "|Duplicate Data|<ul><li>Absent |*NA*|\n",
    "|Data Type|<ul><li>Some features data types look into:<ul><li>`medical_history_3` (Suspect presence of non-numerical elements in the column)<li>'date' related columns (To convert to date_time format)<li>boolean columns to be in interger form|*Refer to comments in brackets in the column on the left*|"
   ]
  },
  {
   "cell_type": "markdown",
   "id": "6bede65b-a822-4246-a397-879054e7eaa4",
   "metadata": {},
   "source": [
    "## 2.4 Missing Data "
   ]
  },
  {
   "cell_type": "code",
   "execution_count": 36,
   "id": "6ff86943-360c-4b91-9266-bea3b5ae2532",
   "metadata": {},
   "outputs": [
    {
     "data": {
      "text/html": [
       "<div>\n",
       "<style scoped>\n",
       "    .dataframe tbody tr th:only-of-type {\n",
       "        vertical-align: middle;\n",
       "    }\n",
       "\n",
       "    .dataframe tbody tr th {\n",
       "        vertical-align: top;\n",
       "    }\n",
       "\n",
       "    .dataframe thead th {\n",
       "        text-align: right;\n",
       "    }\n",
       "</style>\n",
       "<table border=\"1\" class=\"dataframe\">\n",
       "  <thead>\n",
       "    <tr style=\"text-align: right;\">\n",
       "      <th></th>\n",
       "      <th>col</th>\n",
       "      <th>num_nulls</th>\n",
       "      <th>perc_null</th>\n",
       "    </tr>\n",
       "  </thead>\n",
       "  <tbody>\n",
       "    <tr>\n",
       "      <th>0</th>\n",
       "      <td>medical_history_2</td>\n",
       "      <td>233</td>\n",
       "      <td>0.07</td>\n",
       "    </tr>\n",
       "    <tr>\n",
       "      <th>1</th>\n",
       "      <td>medical_history_5</td>\n",
       "      <td>304</td>\n",
       "      <td>0.09</td>\n",
       "    </tr>\n",
       "  </tbody>\n",
       "</table>\n",
       "</div>"
      ],
      "text/plain": [
       "                 col  num_nulls  perc_null\n",
       "0  medical_history_2        233       0.07\n",
       "1  medical_history_5        304       0.09"
      ]
     },
     "execution_count": 36,
     "metadata": {},
     "output_type": "execute_result"
    }
   ],
   "source": [
    "df_missing(merged_df)"
   ]
  },
  {
   "cell_type": "markdown",
   "id": "87320bba-6ac2-45d9-a20c-ffb23791d133",
   "metadata": {},
   "source": [
    "**Comments**:<br>\n",
    "* Missing data is found in columns about `medical history`.\n",
    "* As it is not known what medical history column are refering too, it is reasonable to assume patient do not have the medical history if it is not being recorded.\n",
    "* As such we shall fill NaN with '0'."
   ]
  },
  {
   "cell_type": "code",
   "execution_count": 37,
   "id": "5d839904-3031-4df5-ac18-f74da11c461d",
   "metadata": {},
   "outputs": [
    {
     "name": "stdout",
     "output_type": "stream",
     "text": [
      "No missing data\n"
     ]
    }
   ],
   "source": [
    "merged_df[['medical_history_5','medical_history_2']] = merged_df[['medical_history_5','medical_history_2']].fillna(0)\n",
    "\n",
    "_if_missing = df_missing(merged_df)\n",
    "if _if_missing.empty:\n",
    "    print(\"No missing data\")\n",
    "else:\n",
    "    print (_if_missing)"
   ]
  },
  {
   "cell_type": "markdown",
   "id": "f8850d36-468c-4148-adaa-8282b421b60d",
   "metadata": {},
   "source": [
    "## 2.5 Address Data type"
   ]
  },
  {
   "cell_type": "markdown",
   "id": "cf8d648b-9ec3-43be-8846-cc7f8a34206e",
   "metadata": {},
   "source": [
    "### 2.5.1 Date-related columns\n",
    "To convert to `datetime` format"
   ]
  },
  {
   "cell_type": "code",
   "execution_count": 38,
   "id": "2a788c70-b1c2-43a8-a7d1-ac90b32e625b",
   "metadata": {},
   "outputs": [
    {
     "data": {
      "text/html": [
       "<div>\n",
       "<style scoped>\n",
       "    .dataframe tbody tr th:only-of-type {\n",
       "        vertical-align: middle;\n",
       "    }\n",
       "\n",
       "    .dataframe tbody tr th {\n",
       "        vertical-align: top;\n",
       "    }\n",
       "\n",
       "    .dataframe thead th {\n",
       "        text-align: right;\n",
       "    }\n",
       "</style>\n",
       "<table border=\"1\" class=\"dataframe\">\n",
       "  <thead>\n",
       "    <tr style=\"text-align: right;\">\n",
       "      <th></th>\n",
       "      <th>date_of_admission</th>\n",
       "      <th>date_of_discharge</th>\n",
       "      <th>date_of_birth</th>\n",
       "    </tr>\n",
       "  </thead>\n",
       "  <tbody>\n",
       "    <tr>\n",
       "      <th>0</th>\n",
       "      <td>2014-04-10</td>\n",
       "      <td>2014-04-22</td>\n",
       "      <td>1983-01-16</td>\n",
       "    </tr>\n",
       "    <tr>\n",
       "      <th>1</th>\n",
       "      <td>2012-11-07</td>\n",
       "      <td>2012-11-20</td>\n",
       "      <td>1943-10-14</td>\n",
       "    </tr>\n",
       "    <tr>\n",
       "      <th>2</th>\n",
       "      <td>2013-01-19</td>\n",
       "      <td>2013-01-31</td>\n",
       "      <td>1972-08-26</td>\n",
       "    </tr>\n",
       "    <tr>\n",
       "      <th>3</th>\n",
       "      <td>2014-02-10</td>\n",
       "      <td>2014-02-15</td>\n",
       "      <td>1976-07-23</td>\n",
       "    </tr>\n",
       "    <tr>\n",
       "      <th>4</th>\n",
       "      <td>2012-04-28</td>\n",
       "      <td>2012-05-10</td>\n",
       "      <td>1942-10-19</td>\n",
       "    </tr>\n",
       "  </tbody>\n",
       "</table>\n",
       "</div>"
      ],
      "text/plain": [
       "  date_of_admission date_of_discharge date_of_birth\n",
       "0        2014-04-10        2014-04-22    1983-01-16\n",
       "1        2012-11-07        2012-11-20    1943-10-14\n",
       "2        2013-01-19        2013-01-31    1972-08-26\n",
       "3        2014-02-10        2014-02-15    1976-07-23\n",
       "4        2012-04-28        2012-05-10    1942-10-19"
      ]
     },
     "execution_count": 38,
     "metadata": {},
     "output_type": "execute_result"
    }
   ],
   "source": [
    "date_col = [col for col in merged_df.columns if 'date' in col]\n",
    "merged_df[date_col].head()"
   ]
  },
  {
   "cell_type": "code",
   "execution_count": 39,
   "id": "a10453a9-48f2-4784-85d6-049de8067f5e",
   "metadata": {},
   "outputs": [
    {
     "data": {
      "text/html": [
       "<div>\n",
       "<style scoped>\n",
       "    .dataframe tbody tr th:only-of-type {\n",
       "        vertical-align: middle;\n",
       "    }\n",
       "\n",
       "    .dataframe tbody tr th {\n",
       "        vertical-align: top;\n",
       "    }\n",
       "\n",
       "    .dataframe thead th {\n",
       "        text-align: right;\n",
       "    }\n",
       "</style>\n",
       "<table border=\"1\" class=\"dataframe\">\n",
       "  <thead>\n",
       "    <tr style=\"text-align: right;\">\n",
       "      <th></th>\n",
       "      <th>date_of_admission</th>\n",
       "      <th>date_of_discharge</th>\n",
       "      <th>date_of_birth</th>\n",
       "    </tr>\n",
       "  </thead>\n",
       "  <tbody>\n",
       "    <tr>\n",
       "      <th>0</th>\n",
       "      <td>2014-04-10</td>\n",
       "      <td>2014-04-22</td>\n",
       "      <td>1983-01-16</td>\n",
       "    </tr>\n",
       "    <tr>\n",
       "      <th>1</th>\n",
       "      <td>2012-11-07</td>\n",
       "      <td>2012-11-20</td>\n",
       "      <td>1943-10-14</td>\n",
       "    </tr>\n",
       "    <tr>\n",
       "      <th>2</th>\n",
       "      <td>2013-01-19</td>\n",
       "      <td>2013-01-31</td>\n",
       "      <td>1972-08-26</td>\n",
       "    </tr>\n",
       "    <tr>\n",
       "      <th>3</th>\n",
       "      <td>2014-02-10</td>\n",
       "      <td>2014-02-15</td>\n",
       "      <td>1976-07-23</td>\n",
       "    </tr>\n",
       "    <tr>\n",
       "      <th>4</th>\n",
       "      <td>2012-04-28</td>\n",
       "      <td>2012-05-10</td>\n",
       "      <td>1942-10-19</td>\n",
       "    </tr>\n",
       "  </tbody>\n",
       "</table>\n",
       "</div>"
      ],
      "text/plain": [
       "  date_of_admission date_of_discharge date_of_birth\n",
       "0        2014-04-10        2014-04-22    1983-01-16\n",
       "1        2012-11-07        2012-11-20    1943-10-14\n",
       "2        2013-01-19        2013-01-31    1972-08-26\n",
       "3        2014-02-10        2014-02-15    1976-07-23\n",
       "4        2012-04-28        2012-05-10    1942-10-19"
      ]
     },
     "execution_count": 39,
     "metadata": {},
     "output_type": "execute_result"
    }
   ],
   "source": [
    "for col in date_col:\n",
    "    merged_df[col] = pd.to_datetime(merged_df[col], yearfirst = True)\n",
    "merged_df[date_col].head()    "
   ]
  },
  {
   "cell_type": "code",
   "execution_count": 40,
   "id": "1b819773-304f-46f7-8c80-628e3ac0ac8f",
   "metadata": {},
   "outputs": [
    {
     "data": {
      "text/plain": [
       "date_of_admission    datetime64[ns]\n",
       "date_of_discharge    datetime64[ns]\n",
       "date_of_birth        datetime64[ns]\n",
       "dtype: object"
      ]
     },
     "execution_count": 40,
     "metadata": {},
     "output_type": "execute_result"
    }
   ],
   "source": [
    "#Checking they have been converted to datetime datatype format\n",
    "merged_df[date_col].dtypes"
   ]
  },
  {
   "cell_type": "markdown",
   "id": "810725d9-08c9-4747-b8b7-9120d3ab817d",
   "metadata": {},
   "source": [
    "### 2.5.2 <code>'medical_history_3'</code> column\n",
    "To convert to `interger` format.\n",
    "However, we first need to check for non-numerical elements."
   ]
  },
  {
   "cell_type": "code",
   "execution_count": 41,
   "id": "f40aa777-a39b-48d7-a8f8-11cd93fe49c5",
   "metadata": {},
   "outputs": [
    {
     "data": {
      "text/plain": [
       "array(['0', 'No', '1', 'Yes'], dtype=object)"
      ]
     },
     "execution_count": 41,
     "metadata": {},
     "output_type": "execute_result"
    }
   ],
   "source": [
    "merged_df['medical_history_3'].unique()"
   ]
  },
  {
   "cell_type": "code",
   "execution_count": 42,
   "id": "a08edd37-2b92-4677-8ad1-150d1913ee52",
   "metadata": {},
   "outputs": [],
   "source": [
    "merged_df['medical_history_3'] = merged_df['medical_history_3'].replace({'No': '0', 'Yes': '1'})\n",
    "merged_df['medical_history_3'] = merged_df['medical_history_3'].astype(int)"
   ]
  },
  {
   "cell_type": "code",
   "execution_count": 43,
   "id": "5ed379d2-1beb-46a4-a08b-401a44944f6d",
   "metadata": {},
   "outputs": [
    {
     "data": {
      "text/plain": [
       "dtype('int32')"
      ]
     },
     "execution_count": 43,
     "metadata": {},
     "output_type": "execute_result"
    }
   ],
   "source": [
    "#Check it has been changed to interger form\n",
    "merged_df['medical_history_3'].dtype"
   ]
  },
  {
   "cell_type": "markdown",
   "id": "b89c34b4-c50b-43b3-83ea-5e9ef4123f14",
   "metadata": {},
   "source": [
    "### 2.5.3 Boolean column\n",
    "To convert to `interger` format.\n",
    "\n",
    "*Based on observation, it appear `medical history`, `pre-op medication` and `symptom` are boolean columns.*"
   ]
  },
  {
   "cell_type": "code",
   "execution_count": 44,
   "id": "b736b9e4-5e7e-4338-b1b4-c17fe7f4321a",
   "metadata": {},
   "outputs": [],
   "source": [
    "bool_col = [col for col in merged_df.columns if ('medic' in col) or ('sympt' in col)]\n",
    "merged_df[bool_col] = merged_df[bool_col].astype(int)"
   ]
  },
  {
   "cell_type": "code",
   "execution_count": 45,
   "id": "c854cfab-f21a-4712-8438-82904c359afc",
   "metadata": {},
   "outputs": [
    {
     "data": {
      "text/plain": [
       "medical_history_1     int32\n",
       "medical_history_2     int32\n",
       "medical_history_3     int32\n",
       "medical_history_4     int32\n",
       "medical_history_5     int32\n",
       "medical_history_6     int32\n",
       "medical_history_7     int32\n",
       "preop_medication_1    int32\n",
       "preop_medication_2    int32\n",
       "preop_medication_3    int32\n",
       "preop_medication_4    int32\n",
       "preop_medication_5    int32\n",
       "preop_medication_6    int32\n",
       "symptom_1             int32\n",
       "symptom_2             int32\n",
       "symptom_3             int32\n",
       "symptom_4             int32\n",
       "symptom_5             int32\n",
       "dtype: object"
      ]
     },
     "execution_count": 45,
     "metadata": {},
     "output_type": "execute_result"
    }
   ],
   "source": [
    "#check if datatype is now 'int'\n",
    "merged_df[bool_col].dtypes"
   ]
  },
  {
   "cell_type": "markdown",
   "id": "a343f081-825e-40df-abd0-b8fd078796f8",
   "metadata": {},
   "source": [
    "### 2.5.4 View columns data types"
   ]
  },
  {
   "cell_type": "code",
   "execution_count": 46,
   "id": "6383fcbf-0299-4e29-81ee-e05d83919a97",
   "metadata": {},
   "outputs": [
    {
     "data": {
      "text/plain": [
       "date_of_admission    datetime64[ns]\n",
       "date_of_discharge    datetime64[ns]\n",
       "date_of_birth        datetime64[ns]\n",
       "dtype: object"
      ]
     },
     "execution_count": 46,
     "metadata": {},
     "output_type": "execute_result"
    }
   ],
   "source": [
    "#datetime columns\n",
    "merged_df.select_dtypes(include = 'datetime').dtypes"
   ]
  },
  {
   "cell_type": "code",
   "execution_count": 47,
   "id": "620b4a01-263b-4903-a11f-b4cb3d5165cb",
   "metadata": {},
   "outputs": [
    {
     "data": {
      "text/plain": [
       "total_hosp_bill       float64\n",
       "medical_history_1       int32\n",
       "medical_history_2       int32\n",
       "medical_history_3       int32\n",
       "medical_history_4       int32\n",
       "medical_history_5       int32\n",
       "medical_history_6       int32\n",
       "medical_history_7       int32\n",
       "preop_medication_1      int32\n",
       "preop_medication_2      int32\n",
       "preop_medication_3      int32\n",
       "preop_medication_4      int32\n",
       "preop_medication_5      int32\n",
       "preop_medication_6      int32\n",
       "symptom_1               int32\n",
       "symptom_2               int32\n",
       "symptom_3               int32\n",
       "symptom_4               int32\n",
       "symptom_5               int32\n",
       "lab_result_1          float64\n",
       "lab_result_2          float64\n",
       "lab_result_3          float64\n",
       "weight                float64\n",
       "height                float64\n",
       "dtype: object"
      ]
     },
     "execution_count": 47,
     "metadata": {},
     "output_type": "execute_result"
    }
   ],
   "source": [
    "#numerical columns\n",
    "merged_df.select_dtypes(include = ['float','int']).dtypes"
   ]
  },
  {
   "cell_type": "code",
   "execution_count": 48,
   "id": "a7f23bdf-14be-4b21-9601-0427d773a0aa",
   "metadata": {},
   "outputs": [
    {
     "data": {
      "text/plain": [
       "patient_id         object\n",
       "gender             object\n",
       "race               object\n",
       "resident_status    object\n",
       "dtype: object"
      ]
     },
     "execution_count": 48,
     "metadata": {},
     "output_type": "execute_result"
    }
   ],
   "source": [
    "#object columns\n",
    "merged_df.select_dtypes(include = 'object').dtypes"
   ]
  },
  {
   "cell_type": "markdown",
   "id": "8093a4b5-77fb-4967-9b4a-b3fe5e77e421",
   "metadata": {},
   "source": [
    "**Comments**:<br>\n",
    "Datatypes all appear appropriate."
   ]
  },
  {
   "cell_type": "markdown",
   "id": "bcebbc0f-66fc-4adf-ba71-7f6ba4f4f121",
   "metadata": {},
   "source": [
    "## 2.6 Data Values/ Elements"
   ]
  },
  {
   "cell_type": "markdown",
   "id": "19c55419-f87b-4cf9-afc6-0a6cdce4359e",
   "metadata": {},
   "source": [
    "### 2.6.1 Qualitative Data"
   ]
  },
  {
   "cell_type": "code",
   "execution_count": 49,
   "id": "86b575d5-2610-43d0-82dc-a47faeb8d79f",
   "metadata": {},
   "outputs": [
    {
     "name": "stdout",
     "output_type": "stream",
     "text": [
      "gender unique elements:\n",
      "  ['Female' 'Male' 'm' 'f']\n",
      "race unique elements:\n",
      "  ['Chinese' 'India' 'Malay' 'Others' 'Indian' 'chinese']\n",
      "resident_status unique elements:\n",
      "  ['Singaporean' 'Singapore citizen' 'Foreigner' 'PR']\n"
     ]
    }
   ],
   "source": [
    "obj_col = ['gender', 'race', 'resident_status']\n",
    "for obj in obj_col:\n",
    "    print(f\"{obj} unique elements:\\n  {merged_df[obj].unique()}\")"
   ]
  },
  {
   "cell_type": "code",
   "execution_count": 50,
   "id": "dba6c7ae-f982-4a32-8ba6-d17315a7f11e",
   "metadata": {},
   "outputs": [],
   "source": [
    "# Standardizing data elements in respective columns\n",
    "merged_df['gender'] = merged_df['gender'].replace({'m': 'Male',\n",
    "                                                   'f': 'Female'})\n",
    "merged_df['race'] = merged_df['race'].replace({'chinese': 'Chinese',\n",
    "                                               'India':'Indian'})\n",
    "merged_df['resident_status'] = merged_df['resident_status'].replace({'Singaporean': 'Singapore citizen'})"
   ]
  },
  {
   "cell_type": "code",
   "execution_count": 52,
   "id": "67a510d5-eb08-44f4-a374-95e91f06fdb6",
   "metadata": {},
   "outputs": [
    {
     "name": "stdout",
     "output_type": "stream",
     "text": [
      "gender unique elements:\n",
      "  ['Female' 'Male']\n",
      "race unique elements:\n",
      "  ['Chinese' 'Indian' 'Malay' 'Others']\n",
      "resident_status unique elements:\n",
      "  ['Singapore citizen' 'Foreigner' 'PR']\n"
     ]
    }
   ],
   "source": [
    "obj_col = ['gender', 'race', 'resident_status']\n",
    "for obj in obj_col:\n",
    "    print(f\"{obj} unique elements:\\n  {merged_df[obj].unique()}\")"
   ]
  },
  {
   "cell_type": "markdown",
   "id": "022b21f0-b448-4517-8912-40890b29dbb9",
   "metadata": {},
   "source": [
    "**Comments**:<br>\n",
    "Unique data elements in each categorical columns are logical and appropriate."
   ]
  },
  {
   "cell_type": "markdown",
   "id": "68e47fd4-3596-45ab-879b-c1d901c869fb",
   "metadata": {},
   "source": [
    "### 2.6.2 Quantitative Data"
   ]
  },
  {
   "cell_type": "code",
   "execution_count": 53,
   "id": "0ab5700f-0535-4646-b661-9446485713e5",
   "metadata": {},
   "outputs": [
    {
     "data": {
      "text/html": [
       "<div>\n",
       "<style scoped>\n",
       "    .dataframe tbody tr th:only-of-type {\n",
       "        vertical-align: middle;\n",
       "    }\n",
       "\n",
       "    .dataframe tbody tr th {\n",
       "        vertical-align: top;\n",
       "    }\n",
       "\n",
       "    .dataframe thead th {\n",
       "        text-align: right;\n",
       "    }\n",
       "</style>\n",
       "<table border=\"1\" class=\"dataframe\">\n",
       "  <thead>\n",
       "    <tr style=\"text-align: right;\">\n",
       "      <th></th>\n",
       "      <th>Column Name</th>\n",
       "      <th>Minimum Value</th>\n",
       "      <th>Maximum Value</th>\n",
       "    </tr>\n",
       "  </thead>\n",
       "  <tbody>\n",
       "    <tr>\n",
       "      <th>0</th>\n",
       "      <td>date_of_admission</td>\n",
       "      <td>2011-01-01 00:00:00</td>\n",
       "      <td>2015-12-28 00:00:00</td>\n",
       "    </tr>\n",
       "    <tr>\n",
       "      <th>1</th>\n",
       "      <td>total_hosp_bill</td>\n",
       "      <td>2946.100354</td>\n",
       "      <td>98723.854994</td>\n",
       "    </tr>\n",
       "    <tr>\n",
       "      <th>2</th>\n",
       "      <td>date_of_discharge</td>\n",
       "      <td>2011-01-11 00:00:00</td>\n",
       "      <td>2016-01-11 00:00:00</td>\n",
       "    </tr>\n",
       "    <tr>\n",
       "      <th>3</th>\n",
       "      <td>medical_history_1</td>\n",
       "      <td>0</td>\n",
       "      <td>1</td>\n",
       "    </tr>\n",
       "    <tr>\n",
       "      <th>4</th>\n",
       "      <td>medical_history_2</td>\n",
       "      <td>0</td>\n",
       "      <td>1</td>\n",
       "    </tr>\n",
       "    <tr>\n",
       "      <th>5</th>\n",
       "      <td>medical_history_3</td>\n",
       "      <td>0</td>\n",
       "      <td>1</td>\n",
       "    </tr>\n",
       "    <tr>\n",
       "      <th>6</th>\n",
       "      <td>medical_history_4</td>\n",
       "      <td>0</td>\n",
       "      <td>1</td>\n",
       "    </tr>\n",
       "    <tr>\n",
       "      <th>7</th>\n",
       "      <td>medical_history_5</td>\n",
       "      <td>0</td>\n",
       "      <td>1</td>\n",
       "    </tr>\n",
       "    <tr>\n",
       "      <th>8</th>\n",
       "      <td>medical_history_6</td>\n",
       "      <td>0</td>\n",
       "      <td>1</td>\n",
       "    </tr>\n",
       "    <tr>\n",
       "      <th>9</th>\n",
       "      <td>medical_history_7</td>\n",
       "      <td>0</td>\n",
       "      <td>1</td>\n",
       "    </tr>\n",
       "    <tr>\n",
       "      <th>10</th>\n",
       "      <td>preop_medication_1</td>\n",
       "      <td>0</td>\n",
       "      <td>1</td>\n",
       "    </tr>\n",
       "    <tr>\n",
       "      <th>11</th>\n",
       "      <td>preop_medication_2</td>\n",
       "      <td>0</td>\n",
       "      <td>1</td>\n",
       "    </tr>\n",
       "    <tr>\n",
       "      <th>12</th>\n",
       "      <td>preop_medication_3</td>\n",
       "      <td>0</td>\n",
       "      <td>1</td>\n",
       "    </tr>\n",
       "    <tr>\n",
       "      <th>13</th>\n",
       "      <td>preop_medication_4</td>\n",
       "      <td>0</td>\n",
       "      <td>1</td>\n",
       "    </tr>\n",
       "    <tr>\n",
       "      <th>14</th>\n",
       "      <td>preop_medication_5</td>\n",
       "      <td>0</td>\n",
       "      <td>1</td>\n",
       "    </tr>\n",
       "    <tr>\n",
       "      <th>15</th>\n",
       "      <td>preop_medication_6</td>\n",
       "      <td>0</td>\n",
       "      <td>1</td>\n",
       "    </tr>\n",
       "    <tr>\n",
       "      <th>16</th>\n",
       "      <td>symptom_1</td>\n",
       "      <td>0</td>\n",
       "      <td>1</td>\n",
       "    </tr>\n",
       "    <tr>\n",
       "      <th>17</th>\n",
       "      <td>symptom_2</td>\n",
       "      <td>0</td>\n",
       "      <td>1</td>\n",
       "    </tr>\n",
       "    <tr>\n",
       "      <th>18</th>\n",
       "      <td>symptom_3</td>\n",
       "      <td>0</td>\n",
       "      <td>1</td>\n",
       "    </tr>\n",
       "    <tr>\n",
       "      <th>19</th>\n",
       "      <td>symptom_4</td>\n",
       "      <td>0</td>\n",
       "      <td>1</td>\n",
       "    </tr>\n",
       "    <tr>\n",
       "      <th>20</th>\n",
       "      <td>symptom_5</td>\n",
       "      <td>0</td>\n",
       "      <td>1</td>\n",
       "    </tr>\n",
       "    <tr>\n",
       "      <th>21</th>\n",
       "      <td>lab_result_1</td>\n",
       "      <td>9.1</td>\n",
       "      <td>20.3</td>\n",
       "    </tr>\n",
       "    <tr>\n",
       "      <th>22</th>\n",
       "      <td>lab_result_2</td>\n",
       "      <td>19.7</td>\n",
       "      <td>35.1</td>\n",
       "    </tr>\n",
       "    <tr>\n",
       "      <th>23</th>\n",
       "      <td>lab_result_3</td>\n",
       "      <td>52.0</td>\n",
       "      <td>150.0</td>\n",
       "    </tr>\n",
       "    <tr>\n",
       "      <th>24</th>\n",
       "      <td>weight</td>\n",
       "      <td>48.0</td>\n",
       "      <td>121.0</td>\n",
       "    </tr>\n",
       "    <tr>\n",
       "      <th>25</th>\n",
       "      <td>height</td>\n",
       "      <td>151.0</td>\n",
       "      <td>186.0</td>\n",
       "    </tr>\n",
       "    <tr>\n",
       "      <th>26</th>\n",
       "      <td>date_of_birth</td>\n",
       "      <td>1930-01-20 00:00:00</td>\n",
       "      <td>1990-12-15 00:00:00</td>\n",
       "    </tr>\n",
       "  </tbody>\n",
       "</table>\n",
       "</div>"
      ],
      "text/plain": [
       "           Column Name        Minimum Value        Maximum Value\n",
       "0    date_of_admission  2011-01-01 00:00:00  2015-12-28 00:00:00\n",
       "1      total_hosp_bill          2946.100354         98723.854994\n",
       "2    date_of_discharge  2011-01-11 00:00:00  2016-01-11 00:00:00\n",
       "3    medical_history_1                    0                    1\n",
       "4    medical_history_2                    0                    1\n",
       "5    medical_history_3                    0                    1\n",
       "6    medical_history_4                    0                    1\n",
       "7    medical_history_5                    0                    1\n",
       "8    medical_history_6                    0                    1\n",
       "9    medical_history_7                    0                    1\n",
       "10  preop_medication_1                    0                    1\n",
       "11  preop_medication_2                    0                    1\n",
       "12  preop_medication_3                    0                    1\n",
       "13  preop_medication_4                    0                    1\n",
       "14  preop_medication_5                    0                    1\n",
       "15  preop_medication_6                    0                    1\n",
       "16           symptom_1                    0                    1\n",
       "17           symptom_2                    0                    1\n",
       "18           symptom_3                    0                    1\n",
       "19           symptom_4                    0                    1\n",
       "20           symptom_5                    0                    1\n",
       "21        lab_result_1                  9.1                 20.3\n",
       "22        lab_result_2                 19.7                 35.1\n",
       "23        lab_result_3                 52.0                150.0\n",
       "24              weight                 48.0                121.0\n",
       "25              height                151.0                186.0\n",
       "26       date_of_birth  1930-01-20 00:00:00  1990-12-15 00:00:00"
      ]
     },
     "execution_count": 53,
     "metadata": {},
     "output_type": "execute_result"
    }
   ],
   "source": [
    "get_min_max_df(merged_df.select_dtypes(exclude = 'object'))"
   ]
  },
  {
   "cell_type": "code",
   "execution_count": 54,
   "id": "aedb41b2-e519-4956-9d07-171fecc7bae3",
   "metadata": {},
   "outputs": [
    {
     "name": "stdout",
     "output_type": "stream",
     "text": [
      "They all have only 2 unique values\n"
     ]
    }
   ],
   "source": [
    "#Data that is boolean in nature:\n",
    "bool_col = [col for col in merged_df.columns if ('medic' in col) or ('sympt' in col)]\n",
    "for col in bool_col:\n",
    "    n = 0\n",
    "    if merged_df[col].nunique() > 2:\n",
    "        print(f\"{col} unique elements: {merged_df[col].unique()}\")\n",
    "        n =+ 1\n",
    "if n == 0:\n",
    "    print(\"They all have only 2 unique values\")"
   ]
  },
  {
   "cell_type": "markdown",
   "id": "bedcc5da-52f6-4187-bebd-bd4f7c56e873",
   "metadata": {},
   "source": [
    "**Comments**:<br>\n",
    "* Min and Max values for most columns follow logical sense\n",
    "     * Unable to comment the same way for <code>lab_result</code> columns as there is no understanding what are their normal value range.\n",
    "* Boolean-columns have only two unique values - '0' and '1'"
   ]
  },
  {
   "cell_type": "markdown",
   "id": "5ad54cd9-f22e-4e73-af4f-f9c96407e7f9",
   "metadata": {},
   "source": [
    "---\n",
    "# Part 3: Analysis"
   ]
  },
  {
   "cell_type": "markdown",
   "id": "3b64a904-bd93-4bc8-adef-637979771591",
   "metadata": {},
   "source": [
    "## 3.1 Univariate Analysis"
   ]
  },
  {
   "cell_type": "markdown",
   "id": "d4ef05a9-1a9f-4280-8c61-904376e79543",
   "metadata": {},
   "source": [
    "### 3.1.1 Demographic Analysis"
   ]
  },
  {
   "cell_type": "markdown",
   "id": "30777fd3-9f90-493b-a0c4-b9dad1a304fd",
   "metadata": {},
   "source": [
    "#### 3.1.1.1 GENDER, RACE, RESIDENTIAL STATUS"
   ]
  },
  {
   "cell_type": "markdown",
   "id": "41a6fe54-1856-4269-a776-34b73e7a8cff",
   "metadata": {},
   "source": [
    "We will be analysing the demographics of the 3000 indepent patients, as some patients have multiple admissions.\n",
    "We will also be analysing the demographics across all 136000 hospitalisation cases, as it is possible some demographic group may be hospitalised more often than the other."
   ]
  },
  {
   "cell_type": "code",
   "execution_count": 55,
   "id": "bcece0bf-f302-41ad-bb4f-43ba34d59732",
   "metadata": {},
   "outputs": [
    {
     "data": {
      "text/plain": [
       "(3000, 4)"
      ]
     },
     "execution_count": 55,
     "metadata": {},
     "output_type": "execute_result"
    },
    {
     "data": {
      "text/html": [
       "<div>\n",
       "<style scoped>\n",
       "    .dataframe tbody tr th:only-of-type {\n",
       "        vertical-align: middle;\n",
       "    }\n",
       "\n",
       "    .dataframe tbody tr th {\n",
       "        vertical-align: top;\n",
       "    }\n",
       "\n",
       "    .dataframe thead th {\n",
       "        text-align: right;\n",
       "    }\n",
       "</style>\n",
       "<table border=\"1\" class=\"dataframe\">\n",
       "  <thead>\n",
       "    <tr style=\"text-align: right;\">\n",
       "      <th></th>\n",
       "      <th>patient_id</th>\n",
       "      <th>gender</th>\n",
       "      <th>race</th>\n",
       "      <th>resident_status</th>\n",
       "    </tr>\n",
       "  </thead>\n",
       "  <tbody>\n",
       "    <tr>\n",
       "      <th>0</th>\n",
       "      <td>00225710a878eff524a1d13be817e8e2</td>\n",
       "      <td>Female</td>\n",
       "      <td>Chinese</td>\n",
       "      <td>Singapore citizen</td>\n",
       "    </tr>\n",
       "    <tr>\n",
       "      <th>1</th>\n",
       "      <td>0029d90eb654699c18001c17efb0f129</td>\n",
       "      <td>Female</td>\n",
       "      <td>Chinese</td>\n",
       "      <td>Singapore citizen</td>\n",
       "    </tr>\n",
       "    <tr>\n",
       "      <th>2</th>\n",
       "      <td>0040333abd68527ecb53e1db9073f52e</td>\n",
       "      <td>Male</td>\n",
       "      <td>Indian</td>\n",
       "      <td>Singapore citizen</td>\n",
       "    </tr>\n",
       "  </tbody>\n",
       "</table>\n",
       "</div>"
      ],
      "text/plain": [
       "                         patient_id  gender     race    resident_status\n",
       "0  00225710a878eff524a1d13be817e8e2  Female  Chinese  Singapore citizen\n",
       "1  0029d90eb654699c18001c17efb0f129  Female  Chinese  Singapore citizen\n",
       "2  0040333abd68527ecb53e1db9073f52e    Male   Indian  Singapore citizen"
      ]
     },
     "execution_count": 55,
     "metadata": {},
     "output_type": "execute_result"
    }
   ],
   "source": [
    "#Obtaining a subset dataset of the 3000 unique patients\n",
    "subset_df = merged_df.copy()\n",
    "subset_df = subset_df.loc[:,['patient_id','gender','race','resident_status']]\n",
    "subset_df.drop_duplicates(inplace=True)\n",
    "subset_df.shape\n",
    "subset_df.head(3)"
   ]
  },
  {
   "cell_type": "code",
   "execution_count": 56,
   "id": "b65f292e-cdc1-4ac2-b0c4-d2c376840713",
   "metadata": {
    "tags": []
   },
   "outputs": [],
   "source": [
    "#ACROSS THE 3000 UNIQUE PATIENTS\n",
    "\n",
    "# Calculate count and percentage values for 'gender'\n",
    "gender_counts = subset_df['gender'].value_counts()\n",
    "gender_percentages = subset_df['gender'].value_counts(normalize = True)*100\n",
    "\n",
    "# Calculate count and percentage values for 'race'\n",
    "race_counts = subset_df['race'].value_counts()\n",
    "race_percentages = subset_df['race'].value_counts(normalize = True)*100\n",
    "\n",
    "# Calculate count and percentage values for 'resident_status'\n",
    "resident_status_counts = subset_df['resident_status'].value_counts()\n",
    "resident_status_percentages = subset_df['resident_status'].value_counts(normalize = True)*100"
   ]
  },
  {
   "cell_type": "code",
   "execution_count": 57,
   "id": "df780464-38e0-4dd2-a3d2-6403bc97f9c4",
   "metadata": {
    "tags": []
   },
   "outputs": [
    {
     "data": {
      "image/png": "[encoded data removed]",
      "text/plain": [
       "<Figure size 1500x500 with 3 Axes>"
      ]
     },
     "metadata": {},
     "output_type": "display_data"
    }
   ],
   "source": [
    "# Create subplots to display multiple countplots\n",
    "fig, axes = plt.subplots(1, 3, figsize=(15, 5))\n",
    "\n",
    "labels = [\"Gender\",\"Race\",\"Resident Status\"]\n",
    "columns = ['gender','race', 'resident_status']\n",
    "counts = [gender_counts,race_counts,resident_status_counts]\n",
    "perctages = [gender_percentages, race_percentages, resident_status_percentages]\n",
    "\n",
    "for i in range(3):\n",
    "    feature = columns[i]\n",
    "    count = counts[i]\n",
    "    perc = perctages[i]\n",
    "    \n",
    "    #each subplot\n",
    "    sns.countplot(data=subset_df,\n",
    "              x=feature,\n",
    "              order = count.index,\n",
    "              ax=axes[i])\n",
    "    \n",
    "    #subplot labels\n",
    "    label = labels[i]\n",
    "    axes[i].set_ylabel('Count')\n",
    "    axes[i].set_title(label)\n",
    "    axes[i].set_xlabel(label)\n",
    "    \n",
    "    #subplot annotation\n",
    "    for j, count in enumerate(count):\n",
    "        axes[i].text(j, count, f\"{count}\\n({perc[j]:.1f}%)\",\n",
    "                     ha='center', va='bottom') \n",
    "\n",
    "plt.suptitle('Demographic groups across 3000 unique patients')\n",
    "plt.show();"
   ]
  },
  {
   "cell_type": "code",
   "execution_count": 58,
   "id": "93080264-dd32-4d06-b38a-362362fe7061",
   "metadata": {
    "tags": []
   },
   "outputs": [],
   "source": [
    "#ACROSS THE 3400 UNIQUE HOSPITALISATION CASES\n",
    "\n",
    "# Calculate count and percentage values for 'gender'\n",
    "gender_counts = merged_df['gender'].value_counts()\n",
    "gender_percentages = merged_df['gender'].value_counts(normalize = True)*100\n",
    "\n",
    "# Calculate count and percentage values for 'race'\n",
    "race_counts = merged_df['race'].value_counts()\n",
    "race_percentages = merged_df['race'].value_counts(normalize = True)*100\n",
    "\n",
    "# Calculate count and percentage values for 'resident_status'\n",
    "resident_status_counts = merged_df['resident_status'].value_counts()\n",
    "resident_status_percentages = merged_df['resident_status'].value_counts(normalize = True)*100"
   ]
  },
  {
   "cell_type": "code",
   "execution_count": 59,
   "id": "c41e708a-78bd-4392-8477-2a6d117bb79b",
   "metadata": {
    "tags": []
   },
   "outputs": [
    {
     "data": {
      "image/png": "[encoded data removed]",
      "text/plain": [
       "<Figure size 1500x500 with 3 Axes>"
      ]
     },
     "metadata": {},
     "output_type": "display_data"
    }
   ],
   "source": [
    "# Create subplots to display multiple countplots\n",
    "fig, axes = plt.subplots(1, 3, figsize=(15, 5))\n",
    "\n",
    "labels = [\"Gender\",\"Race\",\"Resident Status\"]\n",
    "columns = ['gender','race', 'resident_status']\n",
    "counts = [gender_counts,race_counts,resident_status_counts]\n",
    "perctages = [gender_percentages, race_percentages, resident_status_percentages]\n",
    "\n",
    "for i in range(3):\n",
    "    feature = columns[i]\n",
    "    count = counts[i]\n",
    "    perc = perctages[i]\n",
    "    \n",
    "    #each subplot\n",
    "    sns.countplot(data=merged_df,\n",
    "              x=feature,\n",
    "              order = count.index,\n",
    "              ax=axes[i])\n",
    "    \n",
    "    #subplot labels\n",
    "    label = labels[i]\n",
    "    axes[i].set_ylabel('Count')\n",
    "    axes[i].set_title(label)\n",
    "    axes[i].set_xlabel(label)\n",
    "    \n",
    "    #subplot annotation\n",
    "    for j, count in enumerate(count):\n",
    "        axes[i].text(j, count, f\"{count}\\n({perc[j]:.1f}%)\",\n",
    "                     ha='center', va='bottom') \n",
    "\n",
    "plt.suptitle('Demographic groups across 3400 hospitalisation cases')\n",
    "plt.tight_layout()\n",
    "plt.show();\n"
   ]
  },
  {
   "cell_type": "markdown",
   "id": "c6aa8a7d-190e-4bad-a532-02f38b7be693",
   "metadata": {},
   "source": [
    "**Comments**<br>\n",
    "|Feature|Observation|Remarks|\n",
    "|---|---|---|\n",
    "|Demographic distribution|Similar when analysis done on 3000 unique patients and on 13600 unique hospitalisation cases||\n",
    "|Gender|Relatively balanced (50.1% : 49.9%)||\n",
    "|Race|Chinese appears to be dominant racial group (63.7%)|Racial profile may influence hospitalisation bill because:<br><li>Difference ethinicities predispose individuals to certain medical conditions ([reference](https://www.singhealth.com.sg/news/tomorrows-medicine/new-study-uncovers-genetic-risks-of-getting-disease-among-different-ethnicities-in-singapore))<li>Hospitalisation bill is influenced by the treatment received for medical conditions<li>It is possible we may observe a particular ethnic group tend to have higher/lower bill as a result of particular disease conditions that the ethnic group tends to have.|\n",
    "|Resident Status|Singapore citizen  appears to be dominant group (80.1%)|Resident status have influence on hospitalisation bill, as it determines if the individual is eligible for government subsidies ([reference](https://www.guidemesingapore.com/business-guides/immigration/get-to-know-singapore/healthcare-in-singapore))\n",
    "    \n",
    "To analyse hospitalisation bill among the different categorical groups later."
   ]
  },
  {
   "cell_type": "markdown",
   "id": "0538ce22-2552-40b8-9843-25bc6c4b8aed",
   "metadata": {},
   "source": [
    "#### 3.1.1.2 PATIENT AGE"
   ]
  },
  {
   "cell_type": "code",
   "execution_count": 60,
   "id": "68d9e8d0-b8f3-4166-819d-f831062793ce",
   "metadata": {},
   "outputs": [],
   "source": [
    "merged_df['Age_upon_admission'] = merged_df['date_of_admission'].dt.year - merged_df['date_of_birth'].dt.year"
   ]
  },
  {
   "cell_type": "code",
   "execution_count": 61,
   "id": "c05c7def-d89c-4723-850e-a6ce00562745",
   "metadata": {},
   "outputs": [
    {
     "data": {
      "text/html": [
       "<div>\n",
       "<style scoped>\n",
       "    .dataframe tbody tr th:only-of-type {\n",
       "        vertical-align: middle;\n",
       "    }\n",
       "\n",
       "    .dataframe tbody tr th {\n",
       "        vertical-align: top;\n",
       "    }\n",
       "\n",
       "    .dataframe thead th {\n",
       "        text-align: right;\n",
       "    }\n",
       "</style>\n",
       "<table border=\"1\" class=\"dataframe\">\n",
       "  <thead>\n",
       "    <tr style=\"text-align: right;\">\n",
       "      <th></th>\n",
       "      <th>date_of_admission</th>\n",
       "      <th>date_of_discharge</th>\n",
       "      <th>date_of_birth</th>\n",
       "      <th>Age_upon_admission</th>\n",
       "    </tr>\n",
       "  </thead>\n",
       "  <tbody>\n",
       "    <tr>\n",
       "      <th>0</th>\n",
       "      <td>2014-04-10</td>\n",
       "      <td>2014-04-22</td>\n",
       "      <td>1983-01-16</td>\n",
       "      <td>31</td>\n",
       "    </tr>\n",
       "    <tr>\n",
       "      <th>1</th>\n",
       "      <td>2012-11-07</td>\n",
       "      <td>2012-11-20</td>\n",
       "      <td>1943-10-14</td>\n",
       "      <td>69</td>\n",
       "    </tr>\n",
       "    <tr>\n",
       "      <th>2</th>\n",
       "      <td>2013-01-19</td>\n",
       "      <td>2013-01-31</td>\n",
       "      <td>1972-08-26</td>\n",
       "      <td>41</td>\n",
       "    </tr>\n",
       "    <tr>\n",
       "      <th>3</th>\n",
       "      <td>2014-02-10</td>\n",
       "      <td>2014-02-15</td>\n",
       "      <td>1976-07-23</td>\n",
       "      <td>38</td>\n",
       "    </tr>\n",
       "    <tr>\n",
       "      <th>4</th>\n",
       "      <td>2012-04-28</td>\n",
       "      <td>2012-05-10</td>\n",
       "      <td>1942-10-19</td>\n",
       "      <td>70</td>\n",
       "    </tr>\n",
       "    <tr>\n",
       "      <th>...</th>\n",
       "      <td>...</td>\n",
       "      <td>...</td>\n",
       "      <td>...</td>\n",
       "      <td>...</td>\n",
       "    </tr>\n",
       "    <tr>\n",
       "      <th>3395</th>\n",
       "      <td>2011-04-24</td>\n",
       "      <td>2011-05-04</td>\n",
       "      <td>1976-08-07</td>\n",
       "      <td>35</td>\n",
       "    </tr>\n",
       "    <tr>\n",
       "      <th>3396</th>\n",
       "      <td>2015-11-28</td>\n",
       "      <td>2015-12-07</td>\n",
       "      <td>1963-10-07</td>\n",
       "      <td>52</td>\n",
       "    </tr>\n",
       "    <tr>\n",
       "      <th>3397</th>\n",
       "      <td>2013-05-05</td>\n",
       "      <td>2013-05-15</td>\n",
       "      <td>1938-09-12</td>\n",
       "      <td>75</td>\n",
       "    </tr>\n",
       "    <tr>\n",
       "      <th>3398</th>\n",
       "      <td>2012-12-24</td>\n",
       "      <td>2013-01-01</td>\n",
       "      <td>1950-06-06</td>\n",
       "      <td>62</td>\n",
       "    </tr>\n",
       "    <tr>\n",
       "      <th>3399</th>\n",
       "      <td>2013-06-04</td>\n",
       "      <td>2013-06-15</td>\n",
       "      <td>1956-04-02</td>\n",
       "      <td>57</td>\n",
       "    </tr>\n",
       "  </tbody>\n",
       "</table>\n",
       "<p>3400 rows × 4 columns</p>\n",
       "</div>"
      ],
      "text/plain": [
       "     date_of_admission date_of_discharge date_of_birth  Age_upon_admission\n",
       "0           2014-04-10        2014-04-22    1983-01-16                  31\n",
       "1           2012-11-07        2012-11-20    1943-10-14                  69\n",
       "2           2013-01-19        2013-01-31    1972-08-26                  41\n",
       "3           2014-02-10        2014-02-15    1976-07-23                  38\n",
       "4           2012-04-28        2012-05-10    1942-10-19                  70\n",
       "...                ...               ...           ...                 ...\n",
       "3395        2011-04-24        2011-05-04    1976-08-07                  35\n",
       "3396        2015-11-28        2015-12-07    1963-10-07                  52\n",
       "3397        2013-05-05        2013-05-15    1938-09-12                  75\n",
       "3398        2012-12-24        2013-01-01    1950-06-06                  62\n",
       "3399        2013-06-04        2013-06-15    1956-04-02                  57\n",
       "\n",
       "[3400 rows x 4 columns]"
      ]
     },
     "execution_count": 61,
     "metadata": {},
     "output_type": "execute_result"
    }
   ],
   "source": [
    "_ls = date_col + ['Age_upon_admission']\n",
    "merged_df[_ls]"
   ]
  },
  {
   "cell_type": "code",
   "execution_count": 62,
   "id": "3c5320f4-cce0-44f9-aa5e-7705739441b6",
   "metadata": {},
   "outputs": [
    {
     "data": {
      "image/png": "[encoded data removed]",
      "text/plain": [
       "<Figure size 640x480 with 1 Axes>"
      ]
     },
     "metadata": {},
     "output_type": "display_data"
    }
   ],
   "source": [
    "sns.histplot(data = merged_df,\n",
    "            x = 'Age_upon_admission')\n",
    "plt.title(\"Age Distribution\");"
   ]
  },
  {
   "cell_type": "code",
   "execution_count": 63,
   "id": "3dcd66fd-f734-47d2-9eb6-48490843fde9",
   "metadata": {},
   "outputs": [
    {
     "data": {
      "text/plain": [
       "count    3400.000000\n",
       "mean       52.542647\n",
       "std        14.681475\n",
       "min        22.000000\n",
       "25%        40.000000\n",
       "50%        51.000000\n",
       "75%        65.000000\n",
       "max        85.000000\n",
       "Name: Age_upon_admission, dtype: float64"
      ]
     },
     "execution_count": 63,
     "metadata": {},
     "output_type": "execute_result"
    }
   ],
   "source": [
    "merged_df['Age_upon_admission'].describe()"
   ]
  },
  {
   "cell_type": "markdown",
   "id": "a572780d-0621-4dd4-b492-d63a8a8f5c8d",
   "metadata": {},
   "source": [
    "**Comment**\n",
    "\n",
    "|Observation|Description|\n",
    "|---|---|\n",
    "|From the histogram we observe a bimodal distribution in age, suggesting there is generally two groups of patients.|One younger group (22-55yo) with mean age around 40 years old, and another older group (55-85yo) with mean around 66 years old.|\n",
    "|Middle-age patients dominates over younger and older patients|Younger patients (20s-30s) and Senior patients (above 65yo) makes up 25% each, while middle-age patients (40s-mid69s) makes up about 50%|\n",
    "\n",
    "In subsequent analysis, we may explore how age influence hospitalisation bill. It is possible patients greater in age have more complex medical conditions that require multiple medical interventions. "
   ]
  },
  {
   "cell_type": "markdown",
   "id": "6b42672f-88d6-4f0e-8c10-5f99898561cf",
   "metadata": {},
   "source": [
    "### 3.1.2 Hospitalisation Bill and Duration Analysis"
   ]
  },
  {
   "cell_type": "markdown",
   "id": "14601f5a-f34b-4911-8d05-902ef02d370b",
   "metadata": {},
   "source": [
    "#### 3.1.2.1 HOSPITALISATION BILL"
   ]
  },
  {
   "cell_type": "code",
   "execution_count": 65,
   "id": "4d713e37-46d0-4c94-8898-c6a82377750f",
   "metadata": {},
   "outputs": [
    {
     "data": {
      "text/plain": [
       "Index(['patient_id', 'date_of_admission', 'total_hosp_bill',\n",
       "       'date_of_discharge', 'medical_history_1', 'medical_history_2',\n",
       "       'medical_history_3', 'medical_history_4', 'medical_history_5',\n",
       "       'medical_history_6', 'medical_history_7', 'preop_medication_1',\n",
       "       'preop_medication_2', 'preop_medication_3', 'preop_medication_4',\n",
       "       'preop_medication_5', 'preop_medication_6', 'symptom_1', 'symptom_2',\n",
       "       'symptom_3', 'symptom_4', 'symptom_5', 'lab_result_1', 'lab_result_2',\n",
       "       'lab_result_3', 'weight', 'height', 'gender', 'race', 'resident_status',\n",
       "       'date_of_birth', 'Age_upon_admission'],\n",
       "      dtype='object')"
      ]
     },
     "execution_count": 65,
     "metadata": {},
     "output_type": "execute_result"
    }
   ],
   "source": [
    "merged_df.columns"
   ]
  },
  {
   "cell_type": "code",
   "execution_count": 66,
   "id": "e30edf2f-1c50-4f81-abbd-a890ff2a0502",
   "metadata": {},
   "outputs": [
    {
     "data": {
      "text/plain": [
       "count     3400.000000\n",
       "mean     21859.071130\n",
       "std      10155.336753\n",
       "min       2946.100354\n",
       "25%      14793.370831\n",
       "50%      20180.020614\n",
       "75%      26680.292435\n",
       "max      98723.854994\n",
       "Name: total_hosp_bill, dtype: float64"
      ]
     },
     "execution_count": 66,
     "metadata": {},
     "output_type": "execute_result"
    }
   ],
   "source": [
    "merged_df['total_hosp_bill'].describe()"
   ]
  },
  {
   "cell_type": "code",
   "execution_count": 67,
   "id": "980eff9e-bc60-4b2c-ab85-40d076ad7493",
   "metadata": {},
   "outputs": [],
   "source": [
    "#Outlier detection, applying Tukey’s fences concept.\n",
    "_bill = merged_df['total_hosp_bill']\n",
    "q1=_bill.quantile(0.25)\n",
    "q3=_bill.quantile(0.75)\n",
    "IQR=q3-q1\n",
    "upper_fence = q3+1.5*IQR\n",
    "lower_fence = q1-1.5*IQR"
   ]
  },
  {
   "cell_type": "code",
   "execution_count": 68,
   "id": "d767834f-1708-4690-9446-a8066732ea79",
   "metadata": {},
   "outputs": [
    {
     "data": {
      "text/plain": [
       "44510.674840263746"
      ]
     },
     "execution_count": 68,
     "metadata": {},
     "output_type": "execute_result"
    }
   ],
   "source": [
    "upper_fence"
   ]
  },
  {
   "cell_type": "code",
   "execution_count": 69,
   "id": "5181e8be-f3d2-4e4f-8846-3d265326a2e4",
   "metadata": {},
   "outputs": [
    {
     "data": {
      "text/plain": [
       "-3037.0115738342465"
      ]
     },
     "execution_count": 69,
     "metadata": {},
     "output_type": "execute_result"
    }
   ],
   "source": [
    "lower_fence"
   ]
  },
  {
   "cell_type": "code",
   "execution_count": 74,
   "id": "5a52fafc-9041-4b8f-ad1f-f160c4662599",
   "metadata": {},
   "outputs": [
    {
     "data": {
      "image/png": "[encoded data removed]",
      "text/plain": [
       "<Figure size 1200x600 with 2 Axes>"
      ]
     },
     "metadata": {},
     "output_type": "display_data"
    }
   ],
   "source": [
    "# Create the figure and subplots\n",
    "fig, axs = plt.subplots(1, 2, figsize=(12, 6))\n",
    "\n",
    "# Plot the first subplot (Violinplot)\n",
    "sns.violinplot(data=merged_df, x='total_hosp_bill', ax=axs[0])\n",
    "axs[0].set_title(\"Hospitalisation Bill Distribution\")\n",
    "axs[0].axvline(x=upper_fence, color='red', linestyle='--')\n",
    "\n",
    "# Plot the second subplot (Histogram with KDE)\n",
    "sns.histplot(data=merged_df, x='total_hosp_bill', kde=True, ax=axs[1])\n",
    "axs[1].set_title(\"Hospitalisation Bill Distribution\")\n",
    "axs[1].axvline(x=upper_fence, color='red', linestyle='--')\n",
    "\n",
    "# Adjust spacing between subplots\n",
    "plt.tight_layout()\n",
    "\n",
    "# Show the combined plot\n",
    "plt.show();\n"
   ]
  },
  {
   "cell_type": "code",
   "execution_count": 72,
   "id": "4537b487-546b-4619-b0ff-bfb046715fc7",
   "metadata": {},
   "outputs": [
    {
     "name": "stdout",
     "output_type": "stream",
     "text": [
      "\n",
      "Number of outlier bills: 94\n",
      "Percentage of outlier bills: 2.76%\n"
     ]
    }
   ],
   "source": [
    "#Number of hospital bills that are above upper fence (outliers)\n",
    "\n",
    "_cond = merged_df['total_hosp_bill'] > upper_fence\n",
    "no = len(merged_df[_cond])\n",
    "perc = (no/len(merged_df))*100\n",
    "print(f\"\"\"\n",
    "Number of outlier bills: {no}\n",
    "Percentage of outlier bills: {np.round(perc, 2)}%\"\"\")\n"
   ]
  },
  {
   "cell_type": "markdown",
   "id": "c9241e8e-2c29-4b1b-ab91-db0c7334cfb8",
   "metadata": {},
   "source": [
    "**Comments**\n",
    "\n",
    "- The hospitalisation bill distribution is <code>positively skewed</code> as the histogram shows it tails off on the right.\n",
    "- The bill ranges from \\~\\\\$2.9K to \\~\\\\$99K.\n",
    "- Average bill is about \\\\$20K.\n",
    "- 2.8% of the bill is very large and are outliers (\\>\\\\$44.5K)\n",
    "\n",
    "\n",
    "[Reference for interpretatin violinplot](https://towardsdatascience.com/violin-plots-explained-fb1d115e023d)<br>\n",
    "![](../images/violinplot_img.jpg)\n",
    "\n"
   ]
  },
  {
   "cell_type": "markdown",
   "id": "a0583117-2723-4ef6-a32a-70434cb95f9a",
   "metadata": {},
   "source": [
    "#### 3.1.2.1 HOSPITALISATION PERIOD"
   ]
  },
  {
   "cell_type": "code",
   "execution_count": 75,
   "id": "8be96b9f-5c13-4694-8731-99686269e379",
   "metadata": {},
   "outputs": [
    {
     "data": {
      "text/html": [
       "<div>\n",
       "<style scoped>\n",
       "    .dataframe tbody tr th:only-of-type {\n",
       "        vertical-align: middle;\n",
       "    }\n",
       "\n",
       "    .dataframe tbody tr th {\n",
       "        vertical-align: top;\n",
       "    }\n",
       "\n",
       "    .dataframe thead th {\n",
       "        text-align: right;\n",
       "    }\n",
       "</style>\n",
       "<table border=\"1\" class=\"dataframe\">\n",
       "  <thead>\n",
       "    <tr style=\"text-align: right;\">\n",
       "      <th></th>\n",
       "      <th>hospitalization_duration_days</th>\n",
       "      <th>date_of_admission</th>\n",
       "      <th>date_of_discharge</th>\n",
       "    </tr>\n",
       "  </thead>\n",
       "  <tbody>\n",
       "    <tr>\n",
       "      <th>3395</th>\n",
       "      <td>10</td>\n",
       "      <td>2011-04-24</td>\n",
       "      <td>2011-05-04</td>\n",
       "    </tr>\n",
       "    <tr>\n",
       "      <th>3396</th>\n",
       "      <td>9</td>\n",
       "      <td>2015-11-28</td>\n",
       "      <td>2015-12-07</td>\n",
       "    </tr>\n",
       "    <tr>\n",
       "      <th>3397</th>\n",
       "      <td>10</td>\n",
       "      <td>2013-05-05</td>\n",
       "      <td>2013-05-15</td>\n",
       "    </tr>\n",
       "    <tr>\n",
       "      <th>3398</th>\n",
       "      <td>8</td>\n",
       "      <td>2012-12-24</td>\n",
       "      <td>2013-01-01</td>\n",
       "    </tr>\n",
       "    <tr>\n",
       "      <th>3399</th>\n",
       "      <td>11</td>\n",
       "      <td>2013-06-04</td>\n",
       "      <td>2013-06-15</td>\n",
       "    </tr>\n",
       "  </tbody>\n",
       "</table>\n",
       "</div>"
      ],
      "text/plain": [
       "      hospitalization_duration_days date_of_admission date_of_discharge\n",
       "3395                             10        2011-04-24        2011-05-04\n",
       "3396                              9        2015-11-28        2015-12-07\n",
       "3397                             10        2013-05-05        2013-05-15\n",
       "3398                              8        2012-12-24        2013-01-01\n",
       "3399                             11        2013-06-04        2013-06-15"
      ]
     },
     "execution_count": 75,
     "metadata": {},
     "output_type": "execute_result"
    }
   ],
   "source": [
    "merged_df['hospitalization_duration_days'] = (merged_df['date_of_discharge'] - merged_df['date_of_admission']).dt.days\n",
    "\n",
    "_col = ['hospitalization_duration_days', 'date_of_admission', 'date_of_discharge']\n",
    "merged_df[_col].tail()"
   ]
  },
  {
   "cell_type": "code",
   "execution_count": 76,
   "id": "c0e15ebc-567d-4205-a091-da3489ed7968",
   "metadata": {},
   "outputs": [
    {
     "data": {
      "image/png": "[encoded data removed]",
      "text/plain": [
       "<Figure size 640x480 with 1 Axes>"
      ]
     },
     "metadata": {},
     "output_type": "display_data"
    }
   ],
   "source": [
    "sns.histplot(data = merged_df,\n",
    "            x = 'hospitalization_duration_days')\n",
    "plt.title(\"Hospitalisation Duration Distribution (Days)\")\n",
    "plt.xticks(range(0, merged_df['hospitalization_duration_days'].max() + 1, 2));"
   ]
  },
  {
   "cell_type": "code",
   "execution_count": 77,
   "id": "cc68b835-7c0c-42ec-b40a-15d4734a2f58",
   "metadata": {},
   "outputs": [
    {
     "data": {
      "text/plain": [
       "count    3400.000000\n",
       "mean       11.051176\n",
       "std         2.850140\n",
       "min         1.000000\n",
       "25%         9.000000\n",
       "50%        11.000000\n",
       "75%        13.000000\n",
       "max        20.000000\n",
       "Name: hospitalization_duration_days, dtype: float64"
      ]
     },
     "execution_count": 77,
     "metadata": {},
     "output_type": "execute_result"
    }
   ],
   "source": [
    "merged_df['hospitalization_duration_days'].describe()"
   ]
  },
  {
   "cell_type": "code",
   "execution_count": 78,
   "id": "fc6d7057-ce07-4929-9b80-c86de497691a",
   "metadata": {},
   "outputs": [
    {
     "data": {
      "text/html": [
       "<div>\n",
       "<style scoped>\n",
       "    .dataframe tbody tr th:only-of-type {\n",
       "        vertical-align: middle;\n",
       "    }\n",
       "\n",
       "    .dataframe tbody tr th {\n",
       "        vertical-align: top;\n",
       "    }\n",
       "\n",
       "    .dataframe thead th {\n",
       "        text-align: right;\n",
       "    }\n",
       "</style>\n",
       "<table border=\"1\" class=\"dataframe\">\n",
       "  <thead>\n",
       "    <tr style=\"text-align: right;\">\n",
       "      <th></th>\n",
       "      <th>Column Name</th>\n",
       "      <th>Minimum Value</th>\n",
       "      <th>Maximum Value</th>\n",
       "    </tr>\n",
       "  </thead>\n",
       "  <tbody>\n",
       "    <tr>\n",
       "      <th>0</th>\n",
       "      <td>date_of_admission</td>\n",
       "      <td>2011-01-01</td>\n",
       "      <td>2015-12-28</td>\n",
       "    </tr>\n",
       "    <tr>\n",
       "      <th>1</th>\n",
       "      <td>date_of_discharge</td>\n",
       "      <td>2011-01-11</td>\n",
       "      <td>2016-01-11</td>\n",
       "    </tr>\n",
       "  </tbody>\n",
       "</table>\n",
       "</div>"
      ],
      "text/plain": [
       "         Column Name Minimum Value Maximum Value\n",
       "0  date_of_admission    2011-01-01    2015-12-28\n",
       "1  date_of_discharge    2011-01-11    2016-01-11"
      ]
     },
     "execution_count": 78,
     "metadata": {},
     "output_type": "execute_result"
    }
   ],
   "source": [
    "get_min_max_df(merged_df[['date_of_admission','date_of_discharge']])"
   ]
  },
  {
   "cell_type": "markdown",
   "id": "6903c79c-cbf7-4889-a6dc-9c79413857c5",
   "metadata": {},
   "source": [
    "**Comments**<br>\n",
    "- The data consist of hospitalisations of patients admitted between 2011 to 2015.\n",
    "- Hospitalisation duration range from 1 day to 20 days.\n",
    "- Most patients hospitalisation duration is around 1 to 2 weeks."
   ]
  },
  {
   "cell_type": "markdown",
   "id": "e00d1aab-48ec-4ecb-9696-4c3bfbfe6866",
   "metadata": {},
   "source": [
    "#### 3.1.2.3 Number of prior admissions:"
   ]
  },
  {
   "cell_type": "code",
   "execution_count": 80,
   "id": "972871d2-bad0-4cd3-bb17-7c62e8f3beb5",
   "metadata": {},
   "outputs": [
    {
     "data": {
      "text/plain": [
       "count    3000.000000\n",
       "mean        1.133333\n",
       "std         0.360923\n",
       "min         1.000000\n",
       "25%         1.000000\n",
       "50%         1.000000\n",
       "75%         1.000000\n",
       "max         4.000000\n",
       "Name: date_of_admission, dtype: float64"
      ]
     },
     "execution_count": 80,
     "metadata": {},
     "output_type": "execute_result"
    }
   ],
   "source": [
    "hosp_count = merged_df.groupby('patient_id')['date_of_admission'].count()\n",
    "hosp_count.describe()"
   ]
  },
  {
   "cell_type": "code",
   "execution_count": 81,
   "id": "47dbc2c7-c70d-4c45-80b8-640310f484cd",
   "metadata": {},
   "outputs": [
    {
     "data": {
      "image/png": "[encoded data removed]",
      "text/plain": [
       "<Figure size 640x480 with 1 Axes>"
      ]
     },
     "metadata": {},
     "output_type": "display_data"
    }
   ],
   "source": [
    "ax = sns.countplot(x = hosp_count)\n",
    "total = len(hosp_count)\n",
    "\n",
    "for p in ax.patches:\n",
    "    count = p.get_height()\n",
    "    percentage = count / total * 100\n",
    "    ax.annotate(f'{count}\\n({percentage:.1f}%)',\n",
    "                (p.get_x() + p.get_width() / 2., p.get_height()),\n",
    "                ha='center', va='center',\n",
    "                xytext=(0, 10),\n",
    "                textcoords='offset points')\n",
    "plt.title(\"Total Admissions Distribution\")\n",
    "# Display the plot\n",
    "plt.show();"
   ]
  },
  {
   "cell_type": "code",
   "execution_count": 84,
   "id": "298a78f9-56d3-482a-b9db-23fe76a9c6ea",
   "metadata": {},
   "outputs": [
    {
     "data": {
      "text/plain": [
       "['0eacfb2daed1f3ba2adf32e293bc05a6',\n",
       " '258807316af4b45fda1b05668d557d06',\n",
       " '4e46fddfa404b306809c350aecbf0f6a',\n",
       " '5e9e8508e8098fc220a12db23c698ec6',\n",
       " '64a531972193ccf232cc47597ddb85ed',\n",
       " '6a6991ecb85a2f82f77b09eb0eeb747b',\n",
       " '8239986dfdf8f4e0bb351ace4742ef95',\n",
       " '86cbe18dab50db6269046fc539915636',\n",
       " 'a0214fcb0b1e3cf8d667e77a27f9840c',\n",
       " 'af713a949eda293f348bf51a058e48a1',\n",
       " 'b2d15cda8c4e1f86ba43356434df6718',\n",
       " 'cebd42e84733dae9898687cfb750fbaf',\n",
       " 'cf835526e33d00afa016ac898582038c',\n",
       " 'd01386ff66ee5ecef47c5ef7980ff10a',\n",
       " 'd15ec3b278e42b36e7362ac783643685',\n",
       " 'e3270f450ee164e596ca933a25bab61d',\n",
       " 'ea4f259bc46b6818f55b774abb7ac690',\n",
       " 'f01974d944d1c4b2c40753223fb979fa',\n",
       " 'f7914ba012897ceb6562be47f6cec84d',\n",
       " 'feb52392f4d58a02254cbd0ba634312f']"
      ]
     },
     "execution_count": 84,
     "metadata": {},
     "output_type": "execute_result"
    }
   ],
   "source": [
    "hosp_count[hosp_count>=3].index.tolist()"
   ]
  },
  {
   "cell_type": "code",
   "execution_count": null,
   "id": "14e0440a-729d-48f3-9a23-a374325cdb44",
   "metadata": {},
   "outputs": [],
   "source": [
    "merged_df[merged_df['patient_id']=='4e46fddfa404b306809c350aecbf0f6a']"
   ]
  },
  {
   "cell_type": "code",
   "execution_count": null,
   "id": "07d23335-af22-4d9a-8199-3458eac84cf1",
   "metadata": {},
   "outputs": [],
   "source": []
  },
  {
   "cell_type": "code",
   "execution_count": null,
   "id": "22281d97-90f5-4f71-b181-98d370c9be4a",
   "metadata": {},
   "outputs": [],
   "source": []
  },
  {
   "cell_type": "code",
   "execution_count": null,
   "id": "1ca9cf8f-5ebe-49ce-acfd-b5332138db4c",
   "metadata": {},
   "outputs": [],
   "source": []
  },
  {
   "cell_type": "code",
   "execution_count": null,
   "id": "91663108-aa69-4bc1-8090-4ea943770b97",
   "metadata": {},
   "outputs": [],
   "source": []
  },
  {
   "cell_type": "code",
   "execution_count": null,
   "id": "a3f279ce-abcf-4c2c-9589-6e4958a7fc4a",
   "metadata": {},
   "outputs": [],
   "source": []
  },
  {
   "cell_type": "code",
   "execution_count": null,
   "id": "93c08250-e0c1-4879-9167-225fd4d97242",
   "metadata": {},
   "outputs": [],
   "source": []
  },
  {
   "cell_type": "markdown",
   "id": "d9c89739-e435-4402-9ded-07bd37232818",
   "metadata": {},
   "source": [
    "### 3.1.3 Clinical Analysis\n",
    "\n",
    "Here we will be looking at `medical history`, `preop medications`, `symptom`, `lab results` and `height & weight`"
   ]
  },
  {
   "cell_type": "code",
   "execution_count": 85,
   "id": "6d96e04c-25bd-4aea-90c4-532b7b719ff1",
   "metadata": {
    "tags": []
   },
   "outputs": [
    {
     "data": {
      "text/plain": [
       "['medical_history_1',\n",
       " 'medical_history_2',\n",
       " 'medical_history_3',\n",
       " 'medical_history_4',\n",
       " 'medical_history_5',\n",
       " 'medical_history_6',\n",
       " 'medical_history_7',\n",
       " 'preop_medication_1',\n",
       " 'preop_medication_2',\n",
       " 'preop_medication_3',\n",
       " 'preop_medication_4',\n",
       " 'preop_medication_5',\n",
       " 'preop_medication_6',\n",
       " 'symptom_1',\n",
       " 'symptom_2',\n",
       " 'symptom_3',\n",
       " 'symptom_4',\n",
       " 'symptom_5',\n",
       " 'lab_result_1',\n",
       " 'lab_result_2',\n",
       " 'lab_result_3',\n",
       " 'weight',\n",
       " 'height']"
      ]
     },
     "execution_count": 85,
     "metadata": {},
     "output_type": "execute_result"
    }
   ],
   "source": [
    "#obtain a list of clinical columns, using the column names from clinical_df\n",
    "non_med = ['patient_id', 'date_of_admission', 'date_of_discharge']\n",
    "clinical_col = [col for col in clinical_df.columns if col not in non_med]\n",
    "clinical_col"
   ]
  },
  {
   "cell_type": "code",
   "execution_count": 86,
   "id": "1dcdc25e-526c-4da1-a203-fd6edae940a4",
   "metadata": {},
   "outputs": [],
   "source": [
    "clinical_bool_col = [col for col in clinical_col if ('medic' in col) or ('sympt' in col)]\n",
    "clinical_qty_col = [col for col in clinical_col if col not in clinical_bool_col]"
   ]
  },
  {
   "cell_type": "code",
   "execution_count": 87,
   "id": "25f4a748-ad87-422e-93f2-ddd2b6cd150d",
   "metadata": {},
   "outputs": [
    {
     "data": {
      "text/html": [
       "<div>\n",
       "<style scoped>\n",
       "    .dataframe tbody tr th:only-of-type {\n",
       "        vertical-align: middle;\n",
       "    }\n",
       "\n",
       "    .dataframe tbody tr th {\n",
       "        vertical-align: top;\n",
       "    }\n",
       "\n",
       "    .dataframe thead th {\n",
       "        text-align: right;\n",
       "    }\n",
       "</style>\n",
       "<table border=\"1\" class=\"dataframe\">\n",
       "  <thead>\n",
       "    <tr style=\"text-align: right;\">\n",
       "      <th></th>\n",
       "      <th>count</th>\n",
       "      <th>mean</th>\n",
       "      <th>std</th>\n",
       "      <th>min</th>\n",
       "      <th>25%</th>\n",
       "      <th>50%</th>\n",
       "      <th>75%</th>\n",
       "      <th>max</th>\n",
       "    </tr>\n",
       "  </thead>\n",
       "  <tbody>\n",
       "    <tr>\n",
       "      <th>lab_result_1</th>\n",
       "      <td>3400.0</td>\n",
       "      <td>14.469882</td>\n",
       "      <td>1.747323</td>\n",
       "      <td>9.1</td>\n",
       "      <td>13.2</td>\n",
       "      <td>14.5</td>\n",
       "      <td>15.8</td>\n",
       "      <td>20.3</td>\n",
       "    </tr>\n",
       "    <tr>\n",
       "      <th>lab_result_2</th>\n",
       "      <td>3400.0</td>\n",
       "      <td>27.431529</td>\n",
       "      <td>2.463844</td>\n",
       "      <td>19.7</td>\n",
       "      <td>25.8</td>\n",
       "      <td>27.4</td>\n",
       "      <td>29.1</td>\n",
       "      <td>35.1</td>\n",
       "    </tr>\n",
       "    <tr>\n",
       "      <th>lab_result_3</th>\n",
       "      <td>3400.0</td>\n",
       "      <td>99.489706</td>\n",
       "      <td>15.254453</td>\n",
       "      <td>52.0</td>\n",
       "      <td>88.0</td>\n",
       "      <td>100.0</td>\n",
       "      <td>110.0</td>\n",
       "      <td>150.0</td>\n",
       "    </tr>\n",
       "    <tr>\n",
       "      <th>weight</th>\n",
       "      <td>3400.0</td>\n",
       "      <td>78.748441</td>\n",
       "      <td>10.975076</td>\n",
       "      <td>48.0</td>\n",
       "      <td>71.2</td>\n",
       "      <td>78.9</td>\n",
       "      <td>86.3</td>\n",
       "      <td>121.0</td>\n",
       "    </tr>\n",
       "    <tr>\n",
       "      <th>height</th>\n",
       "      <td>3400.0</td>\n",
       "      <td>165.084412</td>\n",
       "      <td>6.973678</td>\n",
       "      <td>151.0</td>\n",
       "      <td>160.0</td>\n",
       "      <td>165.0</td>\n",
       "      <td>170.0</td>\n",
       "      <td>186.0</td>\n",
       "    </tr>\n",
       "  </tbody>\n",
       "</table>\n",
       "</div>"
      ],
      "text/plain": [
       "               count        mean        std    min    25%    50%    75%    max\n",
       "lab_result_1  3400.0   14.469882   1.747323    9.1   13.2   14.5   15.8   20.3\n",
       "lab_result_2  3400.0   27.431529   2.463844   19.7   25.8   27.4   29.1   35.1\n",
       "lab_result_3  3400.0   99.489706  15.254453   52.0   88.0  100.0  110.0  150.0\n",
       "weight        3400.0   78.748441  10.975076   48.0   71.2   78.9   86.3  121.0\n",
       "height        3400.0  165.084412   6.973678  151.0  160.0  165.0  170.0  186.0"
      ]
     },
     "execution_count": 87,
     "metadata": {},
     "output_type": "execute_result"
    }
   ],
   "source": [
    "merged_df[clinical_qty_col].describe().T"
   ]
  },
  {
   "cell_type": "markdown",
   "id": "500a8d34-f344-4d74-9070-9af7ae0c662a",
   "metadata": {},
   "source": [
    "#### *MEDICAL HISTORY*"
   ]
  },
  {
   "cell_type": "code",
   "execution_count": 88,
   "id": "f2035c7f-06f3-451f-818f-e1f29f402da9",
   "metadata": {},
   "outputs": [
    {
     "data": {
      "text/plain": [
       "Index(['medical_history_1', 'medical_history_2', 'medical_history_3',\n",
       "       'medical_history_4', 'medical_history_5', 'medical_history_6',\n",
       "       'medical_history_7'],\n",
       "      dtype='object')"
      ]
     },
     "execution_count": 88,
     "metadata": {},
     "output_type": "execute_result"
    }
   ],
   "source": [
    "# obtaining medical history columns\n",
    "_col = [col for col in merged_df.columns if 'history' in col]\n",
    "merged_df[_col].columns"
   ]
  },
  {
   "cell_type": "code",
   "execution_count": 89,
   "id": "091e9d12-fb43-44c2-a4b1-780560373448",
   "metadata": {},
   "outputs": [
    {
     "data": {
      "text/html": [
       "<div>\n",
       "<style scoped>\n",
       "    .dataframe tbody tr th:only-of-type {\n",
       "        vertical-align: middle;\n",
       "    }\n",
       "\n",
       "    .dataframe tbody tr th {\n",
       "        vertical-align: top;\n",
       "    }\n",
       "\n",
       "    .dataframe thead th {\n",
       "        text-align: right;\n",
       "    }\n",
       "</style>\n",
       "<table border=\"1\" class=\"dataframe\">\n",
       "  <thead>\n",
       "    <tr style=\"text-align: right;\">\n",
       "      <th></th>\n",
       "      <th>medical_history_1</th>\n",
       "      <th>medical_history_2</th>\n",
       "      <th>medical_history_3</th>\n",
       "      <th>medical_history_4</th>\n",
       "      <th>medical_history_5</th>\n",
       "      <th>medical_history_6</th>\n",
       "      <th>medical_history_7</th>\n",
       "      <th>sum_medical_history</th>\n",
       "    </tr>\n",
       "  </thead>\n",
       "  <tbody>\n",
       "    <tr>\n",
       "      <th>0</th>\n",
       "      <td>0</td>\n",
       "      <td>0</td>\n",
       "      <td>0</td>\n",
       "      <td>0</td>\n",
       "      <td>0</td>\n",
       "      <td>0</td>\n",
       "      <td>1</td>\n",
       "      <td>1</td>\n",
       "    </tr>\n",
       "    <tr>\n",
       "      <th>1</th>\n",
       "      <td>0</td>\n",
       "      <td>1</td>\n",
       "      <td>0</td>\n",
       "      <td>0</td>\n",
       "      <td>0</td>\n",
       "      <td>1</td>\n",
       "      <td>0</td>\n",
       "      <td>2</td>\n",
       "    </tr>\n",
       "    <tr>\n",
       "      <th>2</th>\n",
       "      <td>0</td>\n",
       "      <td>1</td>\n",
       "      <td>0</td>\n",
       "      <td>0</td>\n",
       "      <td>0</td>\n",
       "      <td>0</td>\n",
       "      <td>1</td>\n",
       "      <td>2</td>\n",
       "    </tr>\n",
       "    <tr>\n",
       "      <th>3</th>\n",
       "      <td>1</td>\n",
       "      <td>0</td>\n",
       "      <td>0</td>\n",
       "      <td>0</td>\n",
       "      <td>0</td>\n",
       "      <td>0</td>\n",
       "      <td>0</td>\n",
       "      <td>1</td>\n",
       "    </tr>\n",
       "    <tr>\n",
       "      <th>4</th>\n",
       "      <td>0</td>\n",
       "      <td>1</td>\n",
       "      <td>0</td>\n",
       "      <td>0</td>\n",
       "      <td>0</td>\n",
       "      <td>1</td>\n",
       "      <td>0</td>\n",
       "      <td>2</td>\n",
       "    </tr>\n",
       "    <tr>\n",
       "      <th>5</th>\n",
       "      <td>0</td>\n",
       "      <td>1</td>\n",
       "      <td>0</td>\n",
       "      <td>0</td>\n",
       "      <td>0</td>\n",
       "      <td>0</td>\n",
       "      <td>0</td>\n",
       "      <td>1</td>\n",
       "    </tr>\n",
       "    <tr>\n",
       "      <th>6</th>\n",
       "      <td>0</td>\n",
       "      <td>0</td>\n",
       "      <td>0</td>\n",
       "      <td>0</td>\n",
       "      <td>0</td>\n",
       "      <td>0</td>\n",
       "      <td>0</td>\n",
       "      <td>0</td>\n",
       "    </tr>\n",
       "    <tr>\n",
       "      <th>7</th>\n",
       "      <td>0</td>\n",
       "      <td>0</td>\n",
       "      <td>0</td>\n",
       "      <td>0</td>\n",
       "      <td>0</td>\n",
       "      <td>0</td>\n",
       "      <td>0</td>\n",
       "      <td>0</td>\n",
       "    </tr>\n",
       "    <tr>\n",
       "      <th>8</th>\n",
       "      <td>0</td>\n",
       "      <td>0</td>\n",
       "      <td>0</td>\n",
       "      <td>0</td>\n",
       "      <td>0</td>\n",
       "      <td>1</td>\n",
       "      <td>0</td>\n",
       "      <td>1</td>\n",
       "    </tr>\n",
       "    <tr>\n",
       "      <th>9</th>\n",
       "      <td>1</td>\n",
       "      <td>0</td>\n",
       "      <td>0</td>\n",
       "      <td>0</td>\n",
       "      <td>0</td>\n",
       "      <td>0</td>\n",
       "      <td>1</td>\n",
       "      <td>2</td>\n",
       "    </tr>\n",
       "  </tbody>\n",
       "</table>\n",
       "</div>"
      ],
      "text/plain": [
       "   medical_history_1  medical_history_2  medical_history_3  medical_history_4  \\\n",
       "0                  0                  0                  0                  0   \n",
       "1                  0                  1                  0                  0   \n",
       "2                  0                  1                  0                  0   \n",
       "3                  1                  0                  0                  0   \n",
       "4                  0                  1                  0                  0   \n",
       "5                  0                  1                  0                  0   \n",
       "6                  0                  0                  0                  0   \n",
       "7                  0                  0                  0                  0   \n",
       "8                  0                  0                  0                  0   \n",
       "9                  1                  0                  0                  0   \n",
       "\n",
       "   medical_history_5  medical_history_6  medical_history_7  \\\n",
       "0                  0                  0                  1   \n",
       "1                  0                  1                  0   \n",
       "2                  0                  0                  1   \n",
       "3                  0                  0                  0   \n",
       "4                  0                  1                  0   \n",
       "5                  0                  0                  0   \n",
       "6                  0                  0                  0   \n",
       "7                  0                  0                  0   \n",
       "8                  0                  1                  0   \n",
       "9                  0                  0                  1   \n",
       "\n",
       "   sum_medical_history  \n",
       "0                    1  \n",
       "1                    2  \n",
       "2                    2  \n",
       "3                    1  \n",
       "4                    2  \n",
       "5                    1  \n",
       "6                    0  \n",
       "7                    0  \n",
       "8                    1  \n",
       "9                    2  "
      ]
     },
     "execution_count": 89,
     "metadata": {},
     "output_type": "execute_result"
    }
   ],
   "source": [
    "# create a new column that show the total of medical history a patient has during the hospitalisation\n",
    "merged_df['sum_medical_history'] = merged_df[_col].sum(axis=1)\n",
    "_col = [col for col in merged_df.columns if 'history' in col]\n",
    "merged_df[_col].head(10)"
   ]
  },
  {
   "cell_type": "code",
   "execution_count": 90,
   "id": "bbaf6918-0d7e-4b12-9af0-4b42ad7287fa",
   "metadata": {},
   "outputs": [
    {
     "data": {
      "text/plain": [
       "medical_history_4    177\n",
       "medical_history_5    198\n",
       "medical_history_3    463\n",
       "medical_history_1    575\n",
       "medical_history_7    865\n",
       "medical_history_6    866\n",
       "medical_history_2    986\n",
       "dtype: int64"
      ]
     },
     "execution_count": 90,
     "metadata": {},
     "output_type": "execute_result"
    }
   ],
   "source": [
    "# Finding sum of prevelance of medical history at each hospitalisation\n",
    "_col = [col for col in merged_df.columns if 'history_' in col]\n",
    "med_hx_count = merged_df[_col].sum().sort_values()\n",
    "med_hx_count"
   ]
  },
  {
   "cell_type": "code",
   "execution_count": 91,
   "id": "e5d4a2c1-e484-4989-8456-0c8df60302fc",
   "metadata": {},
   "outputs": [
    {
     "data": {
      "image/png": "[encoded data removed]",
      "text/plain": [
       "<Figure size 1200x700 with 2 Axes>"
      ]
     },
     "metadata": {},
     "output_type": "display_data"
    }
   ],
   "source": [
    "# Create a figure with two subplots\n",
    "fig, axs = plt.subplots(1, 2, figsize=(12, 7))\n",
    "\n",
    "# First subplot: Countplot\n",
    "ax1 = axs[0]\n",
    "sns.countplot(data=merged_df,\n",
    "              x='sum_medical_history',\n",
    "              color= 'cornflowerblue',\n",
    "              ax=ax1)\n",
    "ax1.set_title(\"Sum of Medical History Distribution\")\n",
    "\n",
    "# Add annotations to the countplot\n",
    "total_patients = len(merged_df)\n",
    "for p in ax1.patches:\n",
    "    count = p.get_height()\n",
    "    percentage = count / total_patients * 100\n",
    "    ax1.annotate(f'{count}\\n({percentage:.1f}%)',\n",
    "                 (p.get_x() + p.get_width() / 2., p.get_height()),\n",
    "                 ha='center', va='center',\n",
    "                 xytext=(0, 10),\n",
    "                 textcoords='offset points')\n",
    "\n",
    "# Second subplot: Barplot\n",
    "ax2 = axs[1]\n",
    "sns.barplot(x=med_hx_count.index,\n",
    "            y=med_hx_count.values,\n",
    "            color = 'coral',\n",
    "            ax=ax2)\n",
    "ax2.set_xlabel('Medical History')\n",
    "ax2.set_ylabel('Number of Patients')\n",
    "ax2.set_title('Prevalence of Each Medical History')\n",
    "ax2.set_xticklabels(ax2.get_xticklabels(), rotation=45)  # Rotate x-axis labels if needed\n",
    "\n",
    "# Add annotations to the barplot\n",
    "for p in ax2.patches:\n",
    "    count = p.get_height()\n",
    "    percentage = count / total_patients * 100\n",
    "    ax2.annotate(f'{count}\\n({percentage:.1f}%)',\n",
    "                 (p.get_x() + p.get_width() / 2., p.get_height()),\n",
    "                 ha='center', va='center',\n",
    "                 xytext=(0, 10),\n",
    "                 textcoords='offset points')\n",
    "\n",
    "# Adjust the spacing between subplots\n",
    "plt.tight_layout()\n",
    "\n",
    "# Display the combined plot\n",
    "plt.show();"
   ]
  },
  {
   "cell_type": "markdown",
   "id": "8eb8e19e-bbab-4228-b213-5404dc86b3ed",
   "metadata": {},
   "source": [
    "**Comments**<br>\n",
    "|Observation|Description|\n",
    "|---|---|\n",
    "|`Number of medical history:`<br><li>Most hospitalisation cases have patient with at least one medical history<li>Some hospitalisation cases have patient with multiple medical history<li>Observed highest number of medical history is 5 out of 7.|<li>About 75% of hospitalisation cases have patient with at least one medical history during hospitalisation<li> About 35% of hospitalisation cases have patient with multiple medical history, with about 1.5% having as many as 4 or 5.|\n",
    "|`Prevalence of each medical history` <br><li> Higher prevalence medical histories are `2`, `6` & `7`<li>Least prevalence medical histories are `4` & `5`.|<li> Medical histories are `2`, `6` & `7` seen in >25%  of hospitalisation cases<li>Medical histories are `4` & `5` seen in about 5% of the hospitalisation cases.\n"
   ]
  },
  {
   "cell_type": "code",
   "execution_count": null,
   "id": "3dfc56bd-2bb6-4807-8bf9-9250f485aa40",
   "metadata": {},
   "outputs": [],
   "source": []
  }
 ],
 "metadata": {
  "kernelspec": {
   "display_name": "Python 3 (ipykernel)",
   "language": "python",
   "name": "python3"
  },
  "language_info": {
   "codemirror_mode": {
    "name": "ipython",
    "version": 3
   },
   "file_extension": ".py",
   "mimetype": "text/x-python",
   "name": "python",
   "nbconvert_exporter": "python",
   "pygments_lexer": "ipython3",
   "version": "3.8.13"
  }
 },
 "nbformat": 4,
 "nbformat_minor": 5
}
