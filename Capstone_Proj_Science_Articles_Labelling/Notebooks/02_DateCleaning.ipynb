{
 "cells": [
  {
   "cell_type": "markdown",
   "id": "407a06a5-9c75-4947-b909-a0a5669a3cbf",
   "metadata": {},
   "source": [
    "# About this notebook:\n",
    "\n",
    "- We are cleaning our main data: Articles.\n",
    "- Data cleaning processes include:\n",
    "    - Addressing Missing\n",
    "    - Checking for duplicates\n",
    "    - Converting to lowercase\n",
    "    - Removing stopwords and stemming for Articles' Abstract\n",
    "    - Removing Abstract special characters\n",
    "\n",
    "[Part 1: Library Imports & Functions Creation](#ID_1)<br>\n",
    "[Part 2: Data Cleaning](#ID_2)<br>\n",
    "[Part 3: Summary & Export](#ID_3)\n"
   ]
  },
  {
   "cell_type": "markdown",
   "id": "268e44eb-f283-4406-91b8-7aadda700dcc",
   "metadata": {},
   "source": [
    "# 1. Library Imports & Functions Creation <a class=\"anchor\" id=\"ID_1\"></a>"
   ]
  },
  {
   "cell_type": "code",
   "execution_count": 1,
   "id": "a50af50a-6751-4383-b0e8-47c2423b4919",
   "metadata": {},
   "outputs": [],
   "source": [
    "import numpy as np \n",
    "import pandas as pd\n",
    "\n",
    "from IPython.core.interactiveshell import InteractiveShell\n",
    "InteractiveShell.ast_node_interactivity = \"all\"\n",
    "\n",
    "\n",
    "#Visualisation:\n",
    "import seaborn               as sns\n",
    "import matplotlib.pyplot     as plt\n",
    "sns.set_theme(style=\"whitegrid\")\n",
    "\n",
    "#Progress tracking\n",
    "from tqdm import tqdm\n",
    "tqdm.pandas()\n",
    "\n",
    "#Text processing\n",
    "import ast\n",
    "\n",
    "#Showing missing, duplicates, shape, dtypes\n",
    "def df_summary(df):\n",
    "    print(f\"Shape(col,rows): {df.shape}\")\n",
    "    print(f\"Number of duplicates: {df.duplicated().sum()}\")\n",
    "    print('---'*20)\n",
    "    print(f'Number of each unqiue datatypes:\\n{df.dtypes.value_counts()}')\n",
    "    print('---'*20)\n",
    "    print(\"Columns with missing values:\")\n",
    "    isnull_df = pd.DataFrame(df.isnull().sum()).reset_index()\n",
    "    isnull_df.columns = ['col','num_nulls']\n",
    "    isnull_df['perc_null'] = ((isnull_df['num_nulls'])/(len(df))).round(2)\n",
    "    print(isnull_df[isnull_df['num_nulls']>0])"
   ]
  },
  {
   "cell_type": "code",
   "execution_count": 2,
   "id": "5736d8bc-75da-45e1-8c37-6cef977bc4fe",
   "metadata": {},
   "outputs": [],
   "source": [
    "#Preprocessing\n",
    "import re\n",
    "from nltk.stem.porter import PorterStemmer\n",
    "stemmer = PorterStemmer()\n",
    "\n",
    "from nltk.tokenize import word_tokenize\n",
    "\n",
    "#remove stopwords\n",
    "import nltk\n",
    "from nltk.corpus import stopwords\n",
    "stop_words = set(stopwords.words('english'))"
   ]
  },
  {
   "cell_type": "code",
   "execution_count": 3,
   "id": "ef988f1d-0f34-4704-bd6f-996e997602bc",
   "metadata": {},
   "outputs": [
    {
     "data": {
      "text/html": [
       "<div>\n",
       "<style scoped>\n",
       "    .dataframe tbody tr th:only-of-type {\n",
       "        vertical-align: middle;\n",
       "    }\n",
       "\n",
       "    .dataframe tbody tr th {\n",
       "        vertical-align: top;\n",
       "    }\n",
       "\n",
       "    .dataframe thead th {\n",
       "        text-align: right;\n",
       "    }\n",
       "</style>\n",
       "<table border=\"1\" class=\"dataframe\">\n",
       "  <thead>\n",
       "    <tr style=\"text-align: right;\">\n",
       "      <th></th>\n",
       "      <th>ID</th>\n",
       "      <th>title</th>\n",
       "      <th>Pub_Date</th>\n",
       "      <th>abstract</th>\n",
       "      <th>MeSH_term</th>\n",
       "    </tr>\n",
       "  </thead>\n",
       "  <tbody>\n",
       "    <tr>\n",
       "      <th>0</th>\n",
       "      <td>21210353</td>\n",
       "      <td>Human leukocyte antigen-G (HLA-G) as a marker ...</td>\n",
       "      <td>2011/01/07</td>\n",
       "      <td>Human leukocyte antigen-G (HLA-G) is a non-cla...</td>\n",
       "      <td>['', ('Biomarkers, Tumor', ['immunology', 'met...</td>\n",
       "    </tr>\n",
       "    <tr>\n",
       "      <th>1</th>\n",
       "      <td>21265258</td>\n",
       "      <td>Head and neck follicular dendritic cell sarcom...</td>\n",
       "      <td>2011/01/27</td>\n",
       "      <td>Currently, of less than 50 cases of head and n...</td>\n",
       "      <td>['', ('Aged', []), ('Castleman Disease', ['com...</td>\n",
       "    </tr>\n",
       "    <tr>\n",
       "      <th>2</th>\n",
       "      <td>21205401</td>\n",
       "      <td>A discrete choice experiment investigating pre...</td>\n",
       "      <td>2011/01/06</td>\n",
       "      <td>Policy debate about funding criteria for drugs...</td>\n",
       "      <td>['', ('Biomedical Research', []), ('Choice Beh...</td>\n",
       "    </tr>\n",
       "    <tr>\n",
       "      <th>3</th>\n",
       "      <td>21245633</td>\n",
       "      <td>Effectiveness of repeated intragastric balloon...</td>\n",
       "      <td>2011/01/20</td>\n",
       "      <td>A 19-year-old Japanese male with a BMI of 55.4...</td>\n",
       "      <td>['', ('Gastric Balloon', ['trends']), ('Humans...</td>\n",
       "    </tr>\n",
       "    <tr>\n",
       "      <th>4</th>\n",
       "      <td>21194024</td>\n",
       "      <td>Golden retriever muscular dystrophy (GRMD): De...</td>\n",
       "      <td>2011/01/05</td>\n",
       "      <td>Studies of canine models of Duchenne muscular ...</td>\n",
       "      <td>['', ('Animals', []), ('Breeding', []), ('Dise...</td>\n",
       "    </tr>\n",
       "    <tr>\n",
       "      <th>...</th>\n",
       "      <td>...</td>\n",
       "      <td>...</td>\n",
       "      <td>...</td>\n",
       "      <td>...</td>\n",
       "      <td>...</td>\n",
       "    </tr>\n",
       "    <tr>\n",
       "      <th>355799</th>\n",
       "      <td>26709456</td>\n",
       "      <td>Reactive oxygen species production by human de...</td>\n",
       "      <td>2015/12/29</td>\n",
       "      <td>Tuberculosis remains the single largest infect...</td>\n",
       "      <td>['', ('Dendritic Cells', ['immunology', 'metab...</td>\n",
       "    </tr>\n",
       "    <tr>\n",
       "      <th>355800</th>\n",
       "      <td>26675461</td>\n",
       "      <td>Evaluating the Use of Commercial West Nile Vir...</td>\n",
       "      <td>2015/12/18</td>\n",
       "      <td>We evaluated the utility of 2 types of commerc...</td>\n",
       "      <td>['', ('Animals', []), ('Antigens, Viral', ['im...</td>\n",
       "    </tr>\n",
       "    <tr>\n",
       "      <th>355801</th>\n",
       "      <td>26709605</td>\n",
       "      <td>Efficacy of protease inhibitor monotherapy vs....</td>\n",
       "      <td>2015/12/29</td>\n",
       "      <td>The aim of this analysis was to review the evi...</td>\n",
       "      <td>['', ('Atazanavir Sulfate', ['therapeutic use'...</td>\n",
       "    </tr>\n",
       "    <tr>\n",
       "      <th>355802</th>\n",
       "      <td>26662151</td>\n",
       "      <td>The occurrence of chronic lymphocytic leukemia...</td>\n",
       "      <td>2015/12/15</td>\n",
       "      <td>The occurrence of chronic myeloid leukemia (CM...</td>\n",
       "      <td>['', ('Aged', []), ('Aged, 80 and over', []), ...</td>\n",
       "    </tr>\n",
       "    <tr>\n",
       "      <th>355803</th>\n",
       "      <td>26706051</td>\n",
       "      <td>Frontal Aslant Tract Abnormality on Diffusion ...</td>\n",
       "      <td>2015/12/27</td>\n",
       "      <td>The karyotype 49, XXXXY is one of the most sev...</td>\n",
       "      <td>['', ('Aneuploidy', []), ('Aphasia, Broca', ['...</td>\n",
       "    </tr>\n",
       "  </tbody>\n",
       "</table>\n",
       "<p>355804 rows × 5 columns</p>\n",
       "</div>"
      ],
      "text/plain": [
       "              ID                                              title  \\\n",
       "0       21210353  Human leukocyte antigen-G (HLA-G) as a marker ...   \n",
       "1       21265258  Head and neck follicular dendritic cell sarcom...   \n",
       "2       21205401  A discrete choice experiment investigating pre...   \n",
       "3       21245633  Effectiveness of repeated intragastric balloon...   \n",
       "4       21194024  Golden retriever muscular dystrophy (GRMD): De...   \n",
       "...          ...                                                ...   \n",
       "355799  26709456  Reactive oxygen species production by human de...   \n",
       "355800  26675461  Evaluating the Use of Commercial West Nile Vir...   \n",
       "355801  26709605  Efficacy of protease inhibitor monotherapy vs....   \n",
       "355802  26662151  The occurrence of chronic lymphocytic leukemia...   \n",
       "355803  26706051  Frontal Aslant Tract Abnormality on Diffusion ...   \n",
       "\n",
       "          Pub_Date                                           abstract  \\\n",
       "0       2011/01/07  Human leukocyte antigen-G (HLA-G) is a non-cla...   \n",
       "1       2011/01/27  Currently, of less than 50 cases of head and n...   \n",
       "2       2011/01/06  Policy debate about funding criteria for drugs...   \n",
       "3       2011/01/20  A 19-year-old Japanese male with a BMI of 55.4...   \n",
       "4       2011/01/05  Studies of canine models of Duchenne muscular ...   \n",
       "...            ...                                                ...   \n",
       "355799  2015/12/29  Tuberculosis remains the single largest infect...   \n",
       "355800  2015/12/18  We evaluated the utility of 2 types of commerc...   \n",
       "355801  2015/12/29  The aim of this analysis was to review the evi...   \n",
       "355802  2015/12/15  The occurrence of chronic myeloid leukemia (CM...   \n",
       "355803  2015/12/27  The karyotype 49, XXXXY is one of the most sev...   \n",
       "\n",
       "                                                MeSH_term  \n",
       "0       ['', ('Biomarkers, Tumor', ['immunology', 'met...  \n",
       "1       ['', ('Aged', []), ('Castleman Disease', ['com...  \n",
       "2       ['', ('Biomedical Research', []), ('Choice Beh...  \n",
       "3       ['', ('Gastric Balloon', ['trends']), ('Humans...  \n",
       "4       ['', ('Animals', []), ('Breeding', []), ('Dise...  \n",
       "...                                                   ...  \n",
       "355799  ['', ('Dendritic Cells', ['immunology', 'metab...  \n",
       "355800  ['', ('Animals', []), ('Antigens, Viral', ['im...  \n",
       "355801  ['', ('Atazanavir Sulfate', ['therapeutic use'...  \n",
       "355802  ['', ('Aged', []), ('Aged, 80 and over', []), ...  \n",
       "355803  ['', ('Aneuploidy', []), ('Aphasia, Broca', ['...  \n",
       "\n",
       "[355804 rows x 5 columns]"
      ]
     },
     "execution_count": 3,
     "metadata": {},
     "output_type": "execute_result"
    },
    {
     "name": "stdout",
     "output_type": "stream",
     "text": [
      "Shape(col,rows): (355804, 5)\n",
      "Number of duplicates: 0\n",
      "------------------------------------------------------------\n",
      "Number of each unqiue datatypes:\n",
      "object    4\n",
      "int64     1\n",
      "dtype: int64\n",
      "------------------------------------------------------------\n",
      "Columns with missing values:\n",
      "        col  num_nulls  perc_null\n",
      "3  abstract      32640       0.09\n"
     ]
    }
   ],
   "source": [
    "df = pd.read_csv('01_Data Collection/Step_3_Merge_dataframes/master_df.csv')\n",
    "df\n",
    "df_summary(df)"
   ]
  },
  {
   "cell_type": "markdown",
   "id": "7e7111d4-6629-431b-b3f8-95fecfe2a6f3",
   "metadata": {},
   "source": [
    "# 2. Data Cleaning <a class=\"anchor\" id=\"ID_2\"></a>"
   ]
  },
  {
   "cell_type": "markdown",
   "id": "20d1986f-fbb1-4479-b5eb-0cc8cc2413eb",
   "metadata": {},
   "source": [
    "## 2.1 Remove rows with missing Abstracts\n",
    "\n",
    "Since these data rows will not be useful in helping our modelling later on (which require predicting labels of articles based on their abstract content)."
   ]
  },
  {
   "cell_type": "code",
   "execution_count": 4,
   "id": "32bd42ac-e501-40b7-ba75-2fede050eca2",
   "metadata": {},
   "outputs": [],
   "source": [
    "df.dropna(subset=['abstract'], inplace=True)"
   ]
  },
  {
   "cell_type": "code",
   "execution_count": 5,
   "id": "eb8342a0-c1d6-43f1-a51d-456480f50401",
   "metadata": {},
   "outputs": [
    {
     "data": {
      "text/plain": [
       "323164"
      ]
     },
     "execution_count": 5,
     "metadata": {},
     "output_type": "execute_result"
    }
   ],
   "source": [
    "#Number of data we have now\n",
    "len(df)"
   ]
  },
  {
   "cell_type": "markdown",
   "id": "a92b5a0e-f224-4edd-bd0e-7f12100b0666",
   "metadata": {},
   "source": [
    "### Convert Pub_date to date_time formart"
   ]
  },
  {
   "cell_type": "code",
   "execution_count": 6,
   "id": "92eedfdf-78f7-489e-8301-1ea7590fedb5",
   "metadata": {},
   "outputs": [
    {
     "data": {
      "text/plain": [
       "ID                    int64\n",
       "title                object\n",
       "Pub_Date     datetime64[ns]\n",
       "abstract             object\n",
       "MeSH_term            object\n",
       "dtype: object"
      ]
     },
     "execution_count": 6,
     "metadata": {},
     "output_type": "execute_result"
    }
   ],
   "source": [
    "df['Pub_Date'] = pd.to_datetime(df['Pub_Date'], yearfirst=True)\n",
    "df.dtypes"
   ]
  },
  {
   "cell_type": "markdown",
   "id": "d8088970-1690-4c62-a36a-ff815e5fee02",
   "metadata": {},
   "source": [
    "## 2.2 Rename columns\n",
    "\n",
    "To avoid confusion subsequently when matching with NLM PubMed MeSH"
   ]
  },
  {
   "cell_type": "code",
   "execution_count": 7,
   "id": "d0b5736a-3382-4961-9f79-b292aeb2fd89",
   "metadata": {},
   "outputs": [],
   "source": [
    "df.rename(columns = {'MeSH_term':'Article_Given_MeSH'},inplace=True)"
   ]
  },
  {
   "cell_type": "markdown",
   "id": "3e2e4c33-1797-48e3-b295-fa2d71a35e6c",
   "metadata": {},
   "source": [
    "## 2.3 Conver Article_Given_MeSH to a column of lists"
   ]
  },
  {
   "cell_type": "code",
   "execution_count": 8,
   "id": "4f2c7ba4-0248-48c0-ae15-75deddf60e93",
   "metadata": {},
   "outputs": [
    {
     "name": "stderr",
     "output_type": "stream",
     "text": [
      "100%|██████████| 323164/323164 [29:28<00:00, 182.70it/s]\n"
     ]
    }
   ],
   "source": [
    "def extract_terms(term_list):\n",
    "    \"\"\"\n",
    "    Extracts terms and qualifiers from the MeSH term list\n",
    "    \"\"\"\n",
    "    terms = []\n",
    "    for term in term_list:\n",
    "        if isinstance(term, tuple):\n",
    "            # extract term and qualifier\n",
    "            term_str = term[0].strip(\"'\") + (' ' + term[1][0].strip(\"'\") if term[1] else '')\n",
    "            terms.append(term_str)\n",
    "    return terms\n",
    "\n",
    "# loop over rows and extract terms\n",
    "for i, row in tqdm(df.iterrows(), total=len(df)):\n",
    "    term_str = row['Article_Given_MeSH']\n",
    "    # convert string to list of tuples\n",
    "    term_list = ast.literal_eval(term_str)\n",
    "    # extract terms from list of tuples\n",
    "    terms = extract_terms(term_list)\n",
    "    # update the row with the new list of terms\n",
    "    df.at[i, 'Article_Given_MeSH'] = terms"
   ]
  },
  {
   "cell_type": "markdown",
   "id": "49c94791-ab88-45b8-b061-e23bef0f2043",
   "metadata": {},
   "source": [
    "## 2.4 Convert to Title, Abstract and Article_Given_MeSH to lowercase"
   ]
  },
  {
   "cell_type": "code",
   "execution_count": 9,
   "id": "5cfadf71-c611-409c-a032-c4d43f01dbe5",
   "metadata": {},
   "outputs": [
    {
     "data": {
      "text/html": [
       "<div>\n",
       "<style scoped>\n",
       "    .dataframe tbody tr th:only-of-type {\n",
       "        vertical-align: middle;\n",
       "    }\n",
       "\n",
       "    .dataframe tbody tr th {\n",
       "        vertical-align: top;\n",
       "    }\n",
       "\n",
       "    .dataframe thead th {\n",
       "        text-align: right;\n",
       "    }\n",
       "</style>\n",
       "<table border=\"1\" class=\"dataframe\">\n",
       "  <thead>\n",
       "    <tr style=\"text-align: right;\">\n",
       "      <th></th>\n",
       "      <th>ID</th>\n",
       "      <th>title</th>\n",
       "      <th>Pub_Date</th>\n",
       "      <th>abstract</th>\n",
       "      <th>Article_Given_MeSH</th>\n",
       "    </tr>\n",
       "  </thead>\n",
       "  <tbody>\n",
       "    <tr>\n",
       "      <th>0</th>\n",
       "      <td>21210353</td>\n",
       "      <td>human leukocyte antigen-g (hla-g) as a marker ...</td>\n",
       "      <td>2011-01-07</td>\n",
       "      <td>human leukocyte antigen-g (hla-g) is a non-cla...</td>\n",
       "      <td>[Biomarkers, Tumor immunology, HLA Antigens bi...</td>\n",
       "    </tr>\n",
       "    <tr>\n",
       "      <th>1</th>\n",
       "      <td>21265258</td>\n",
       "      <td>head and neck follicular dendritic cell sarcom...</td>\n",
       "      <td>2011-01-27</td>\n",
       "      <td>currently, of less than 50 cases of head and n...</td>\n",
       "      <td>[Aged, Castleman Disease complications, Dendri...</td>\n",
       "    </tr>\n",
       "    <tr>\n",
       "      <th>2</th>\n",
       "      <td>21205401</td>\n",
       "      <td>a discrete choice experiment investigating pre...</td>\n",
       "      <td>2011-01-06</td>\n",
       "      <td>policy debate about funding criteria for drugs...</td>\n",
       "      <td>[Biomedical Research, Choice Behavior, Cost-Be...</td>\n",
       "    </tr>\n",
       "    <tr>\n",
       "      <th>3</th>\n",
       "      <td>21245633</td>\n",
       "      <td>effectiveness of repeated intragastric balloon...</td>\n",
       "      <td>2011-01-20</td>\n",
       "      <td>a 19-year-old japanese male with a bmi of 55.4...</td>\n",
       "      <td>[Gastric Balloon trends, Humans, Male, Obesity...</td>\n",
       "    </tr>\n",
       "    <tr>\n",
       "      <th>4</th>\n",
       "      <td>21194024</td>\n",
       "      <td>golden retriever muscular dystrophy (grmd): de...</td>\n",
       "      <td>2011-01-05</td>\n",
       "      <td>studies of canine models of duchenne muscular ...</td>\n",
       "      <td>[Animals, Breeding, Disease Models, Animal, Do...</td>\n",
       "    </tr>\n",
       "    <tr>\n",
       "      <th>...</th>\n",
       "      <td>...</td>\n",
       "      <td>...</td>\n",
       "      <td>...</td>\n",
       "      <td>...</td>\n",
       "      <td>...</td>\n",
       "    </tr>\n",
       "    <tr>\n",
       "      <th>355799</th>\n",
       "      <td>26709456</td>\n",
       "      <td>reactive oxygen species production by human de...</td>\n",
       "      <td>2015-12-29</td>\n",
       "      <td>tuberculosis remains the single largest infect...</td>\n",
       "      <td>[Dendritic Cells immunology, Host-Pathogen Int...</td>\n",
       "    </tr>\n",
       "    <tr>\n",
       "      <th>355800</th>\n",
       "      <td>26675461</td>\n",
       "      <td>evaluating the use of commercial west nile vir...</td>\n",
       "      <td>2015-12-18</td>\n",
       "      <td>we evaluated the utility of 2 types of commerc...</td>\n",
       "      <td>[Animals, Antigens, Viral immunology, Culicida...</td>\n",
       "    </tr>\n",
       "    <tr>\n",
       "      <th>355801</th>\n",
       "      <td>26709605</td>\n",
       "      <td>efficacy of protease inhibitor monotherapy vs....</td>\n",
       "      <td>2015-12-29</td>\n",
       "      <td>the aim of this analysis was to review the evi...</td>\n",
       "      <td>[Atazanavir Sulfate therapeutic use, Cerebrosp...</td>\n",
       "    </tr>\n",
       "    <tr>\n",
       "      <th>355802</th>\n",
       "      <td>26662151</td>\n",
       "      <td>the occurrence of chronic lymphocytic leukemia...</td>\n",
       "      <td>2015-12-15</td>\n",
       "      <td>the occurrence of chronic myeloid leukemia (cm...</td>\n",
       "      <td>[Aged, Aged, 80 and over, B-Lymphocytes pathol...</td>\n",
       "    </tr>\n",
       "    <tr>\n",
       "      <th>355803</th>\n",
       "      <td>26706051</td>\n",
       "      <td>frontal aslant tract abnormality on diffusion ...</td>\n",
       "      <td>2015-12-27</td>\n",
       "      <td>the karyotype 49, xxxxy is one of the most sev...</td>\n",
       "      <td>[Aneuploidy, Aphasia, Broca pathology, Child, ...</td>\n",
       "    </tr>\n",
       "  </tbody>\n",
       "</table>\n",
       "<p>323164 rows × 5 columns</p>\n",
       "</div>"
      ],
      "text/plain": [
       "              ID                                              title  \\\n",
       "0       21210353  human leukocyte antigen-g (hla-g) as a marker ...   \n",
       "1       21265258  head and neck follicular dendritic cell sarcom...   \n",
       "2       21205401  a discrete choice experiment investigating pre...   \n",
       "3       21245633  effectiveness of repeated intragastric balloon...   \n",
       "4       21194024  golden retriever muscular dystrophy (grmd): de...   \n",
       "...          ...                                                ...   \n",
       "355799  26709456  reactive oxygen species production by human de...   \n",
       "355800  26675461  evaluating the use of commercial west nile vir...   \n",
       "355801  26709605  efficacy of protease inhibitor monotherapy vs....   \n",
       "355802  26662151  the occurrence of chronic lymphocytic leukemia...   \n",
       "355803  26706051  frontal aslant tract abnormality on diffusion ...   \n",
       "\n",
       "         Pub_Date                                           abstract  \\\n",
       "0      2011-01-07  human leukocyte antigen-g (hla-g) is a non-cla...   \n",
       "1      2011-01-27  currently, of less than 50 cases of head and n...   \n",
       "2      2011-01-06  policy debate about funding criteria for drugs...   \n",
       "3      2011-01-20  a 19-year-old japanese male with a bmi of 55.4...   \n",
       "4      2011-01-05  studies of canine models of duchenne muscular ...   \n",
       "...           ...                                                ...   \n",
       "355799 2015-12-29  tuberculosis remains the single largest infect...   \n",
       "355800 2015-12-18  we evaluated the utility of 2 types of commerc...   \n",
       "355801 2015-12-29  the aim of this analysis was to review the evi...   \n",
       "355802 2015-12-15  the occurrence of chronic myeloid leukemia (cm...   \n",
       "355803 2015-12-27  the karyotype 49, xxxxy is one of the most sev...   \n",
       "\n",
       "                                       Article_Given_MeSH  \n",
       "0       [Biomarkers, Tumor immunology, HLA Antigens bi...  \n",
       "1       [Aged, Castleman Disease complications, Dendri...  \n",
       "2       [Biomedical Research, Choice Behavior, Cost-Be...  \n",
       "3       [Gastric Balloon trends, Humans, Male, Obesity...  \n",
       "4       [Animals, Breeding, Disease Models, Animal, Do...  \n",
       "...                                                   ...  \n",
       "355799  [Dendritic Cells immunology, Host-Pathogen Int...  \n",
       "355800  [Animals, Antigens, Viral immunology, Culicida...  \n",
       "355801  [Atazanavir Sulfate therapeutic use, Cerebrosp...  \n",
       "355802  [Aged, Aged, 80 and over, B-Lymphocytes pathol...  \n",
       "355803  [Aneuploidy, Aphasia, Broca pathology, Child, ...  \n",
       "\n",
       "[323164 rows x 5 columns]"
      ]
     },
     "execution_count": 9,
     "metadata": {},
     "output_type": "execute_result"
    }
   ],
   "source": [
    "df['abstract'] = df['abstract'].str.lower()\n",
    "df['title'] = df['title'].str.lower()\n",
    "df"
   ]
  },
  {
   "cell_type": "code",
   "execution_count": 10,
   "id": "53bb8499-bdcf-4578-8e62-274f138fb36b",
   "metadata": {},
   "outputs": [
    {
     "data": {
      "text/html": [
       "<div>\n",
       "<style scoped>\n",
       "    .dataframe tbody tr th:only-of-type {\n",
       "        vertical-align: middle;\n",
       "    }\n",
       "\n",
       "    .dataframe tbody tr th {\n",
       "        vertical-align: top;\n",
       "    }\n",
       "\n",
       "    .dataframe thead th {\n",
       "        text-align: right;\n",
       "    }\n",
       "</style>\n",
       "<table border=\"1\" class=\"dataframe\">\n",
       "  <thead>\n",
       "    <tr style=\"text-align: right;\">\n",
       "      <th></th>\n",
       "      <th>ID</th>\n",
       "      <th>title</th>\n",
       "      <th>Pub_Date</th>\n",
       "      <th>abstract</th>\n",
       "      <th>Article_Given_MeSH</th>\n",
       "    </tr>\n",
       "  </thead>\n",
       "  <tbody>\n",
       "    <tr>\n",
       "      <th>0</th>\n",
       "      <td>21210353</td>\n",
       "      <td>human leukocyte antigen-g (hla-g) as a marker ...</td>\n",
       "      <td>2011-01-07</td>\n",
       "      <td>human leukocyte antigen-g (hla-g) is a non-cla...</td>\n",
       "      <td>[biomarkers, tumor immunology, hla antigens bi...</td>\n",
       "    </tr>\n",
       "    <tr>\n",
       "      <th>1</th>\n",
       "      <td>21265258</td>\n",
       "      <td>head and neck follicular dendritic cell sarcom...</td>\n",
       "      <td>2011-01-27</td>\n",
       "      <td>currently, of less than 50 cases of head and n...</td>\n",
       "      <td>[aged, castleman disease complications, dendri...</td>\n",
       "    </tr>\n",
       "    <tr>\n",
       "      <th>2</th>\n",
       "      <td>21205401</td>\n",
       "      <td>a discrete choice experiment investigating pre...</td>\n",
       "      <td>2011-01-06</td>\n",
       "      <td>policy debate about funding criteria for drugs...</td>\n",
       "      <td>[biomedical research, choice behavior, cost-be...</td>\n",
       "    </tr>\n",
       "    <tr>\n",
       "      <th>3</th>\n",
       "      <td>21245633</td>\n",
       "      <td>effectiveness of repeated intragastric balloon...</td>\n",
       "      <td>2011-01-20</td>\n",
       "      <td>a 19-year-old japanese male with a bmi of 55.4...</td>\n",
       "      <td>[gastric balloon trends, humans, male, obesity...</td>\n",
       "    </tr>\n",
       "    <tr>\n",
       "      <th>4</th>\n",
       "      <td>21194024</td>\n",
       "      <td>golden retriever muscular dystrophy (grmd): de...</td>\n",
       "      <td>2011-01-05</td>\n",
       "      <td>studies of canine models of duchenne muscular ...</td>\n",
       "      <td>[animals, breeding, disease models, animal, do...</td>\n",
       "    </tr>\n",
       "    <tr>\n",
       "      <th>...</th>\n",
       "      <td>...</td>\n",
       "      <td>...</td>\n",
       "      <td>...</td>\n",
       "      <td>...</td>\n",
       "      <td>...</td>\n",
       "    </tr>\n",
       "    <tr>\n",
       "      <th>355799</th>\n",
       "      <td>26709456</td>\n",
       "      <td>reactive oxygen species production by human de...</td>\n",
       "      <td>2015-12-29</td>\n",
       "      <td>tuberculosis remains the single largest infect...</td>\n",
       "      <td>[dendritic cells immunology, host-pathogen int...</td>\n",
       "    </tr>\n",
       "    <tr>\n",
       "      <th>355800</th>\n",
       "      <td>26675461</td>\n",
       "      <td>evaluating the use of commercial west nile vir...</td>\n",
       "      <td>2015-12-18</td>\n",
       "      <td>we evaluated the utility of 2 types of commerc...</td>\n",
       "      <td>[animals, antigens, viral immunology, culicida...</td>\n",
       "    </tr>\n",
       "    <tr>\n",
       "      <th>355801</th>\n",
       "      <td>26709605</td>\n",
       "      <td>efficacy of protease inhibitor monotherapy vs....</td>\n",
       "      <td>2015-12-29</td>\n",
       "      <td>the aim of this analysis was to review the evi...</td>\n",
       "      <td>[atazanavir sulfate therapeutic use, cerebrosp...</td>\n",
       "    </tr>\n",
       "    <tr>\n",
       "      <th>355802</th>\n",
       "      <td>26662151</td>\n",
       "      <td>the occurrence of chronic lymphocytic leukemia...</td>\n",
       "      <td>2015-12-15</td>\n",
       "      <td>the occurrence of chronic myeloid leukemia (cm...</td>\n",
       "      <td>[aged, aged, 80 and over, b-lymphocytes pathol...</td>\n",
       "    </tr>\n",
       "    <tr>\n",
       "      <th>355803</th>\n",
       "      <td>26706051</td>\n",
       "      <td>frontal aslant tract abnormality on diffusion ...</td>\n",
       "      <td>2015-12-27</td>\n",
       "      <td>the karyotype 49, xxxxy is one of the most sev...</td>\n",
       "      <td>[aneuploidy, aphasia, broca pathology, child, ...</td>\n",
       "    </tr>\n",
       "  </tbody>\n",
       "</table>\n",
       "<p>323164 rows × 5 columns</p>\n",
       "</div>"
      ],
      "text/plain": [
       "              ID                                              title  \\\n",
       "0       21210353  human leukocyte antigen-g (hla-g) as a marker ...   \n",
       "1       21265258  head and neck follicular dendritic cell sarcom...   \n",
       "2       21205401  a discrete choice experiment investigating pre...   \n",
       "3       21245633  effectiveness of repeated intragastric balloon...   \n",
       "4       21194024  golden retriever muscular dystrophy (grmd): de...   \n",
       "...          ...                                                ...   \n",
       "355799  26709456  reactive oxygen species production by human de...   \n",
       "355800  26675461  evaluating the use of commercial west nile vir...   \n",
       "355801  26709605  efficacy of protease inhibitor monotherapy vs....   \n",
       "355802  26662151  the occurrence of chronic lymphocytic leukemia...   \n",
       "355803  26706051  frontal aslant tract abnormality on diffusion ...   \n",
       "\n",
       "         Pub_Date                                           abstract  \\\n",
       "0      2011-01-07  human leukocyte antigen-g (hla-g) is a non-cla...   \n",
       "1      2011-01-27  currently, of less than 50 cases of head and n...   \n",
       "2      2011-01-06  policy debate about funding criteria for drugs...   \n",
       "3      2011-01-20  a 19-year-old japanese male with a bmi of 55.4...   \n",
       "4      2011-01-05  studies of canine models of duchenne muscular ...   \n",
       "...           ...                                                ...   \n",
       "355799 2015-12-29  tuberculosis remains the single largest infect...   \n",
       "355800 2015-12-18  we evaluated the utility of 2 types of commerc...   \n",
       "355801 2015-12-29  the aim of this analysis was to review the evi...   \n",
       "355802 2015-12-15  the occurrence of chronic myeloid leukemia (cm...   \n",
       "355803 2015-12-27  the karyotype 49, xxxxy is one of the most sev...   \n",
       "\n",
       "                                       Article_Given_MeSH  \n",
       "0       [biomarkers, tumor immunology, hla antigens bi...  \n",
       "1       [aged, castleman disease complications, dendri...  \n",
       "2       [biomedical research, choice behavior, cost-be...  \n",
       "3       [gastric balloon trends, humans, male, obesity...  \n",
       "4       [animals, breeding, disease models, animal, do...  \n",
       "...                                                   ...  \n",
       "355799  [dendritic cells immunology, host-pathogen int...  \n",
       "355800  [animals, antigens, viral immunology, culicida...  \n",
       "355801  [atazanavir sulfate therapeutic use, cerebrosp...  \n",
       "355802  [aged, aged, 80 and over, b-lymphocytes pathol...  \n",
       "355803  [aneuploidy, aphasia, broca pathology, child, ...  \n",
       "\n",
       "[323164 rows x 5 columns]"
      ]
     },
     "execution_count": 10,
     "metadata": {},
     "output_type": "execute_result"
    }
   ],
   "source": [
    "for i, row in df.iterrows():\n",
    "    for j, term in enumerate(row['Article_Given_MeSH']):\n",
    "        term = term.lower()\n",
    "        df.at[i, 'Article_Given_MeSH'][j] = term\n",
    "\n",
    "df"
   ]
  },
  {
   "cell_type": "markdown",
   "id": "a2266dc2-6540-48b4-b73d-83e525a2be76",
   "metadata": {
    "tags": []
   },
   "source": [
    "## 2.5 Removing stopwords and  Stemming for Abstract\n",
    "\n",
    "NOTE: **Remove stop words first** then do stemming"
   ]
  },
  {
   "cell_type": "code",
   "execution_count": 11,
   "id": "de4f8117-c838-4ff9-8147-901fca995ff1",
   "metadata": {},
   "outputs": [],
   "source": [
    "df.reset_index(drop=True,inplace=True)"
   ]
  },
  {
   "cell_type": "code",
   "execution_count": 12,
   "id": "5a85043e-f9e6-45b9-90c3-26dde8cb92f5",
   "metadata": {},
   "outputs": [
    {
     "data": {
      "text/plain": [
       "'dengue fever, including dengue hemorrhagic fever, has become a re-emerging public health threat in the caribbean in the absence of a comprehensive regional surveillance system. in this deficiency, a project entitled aricaba, strives to implement a pilot surveillance system across three islands: martinique, st. lucia, and dominica. the aim of this project is to establish a network for epidemiological surveillance of infectious diseases, utilizing information and communication technology. this paper describes the system design and development strategies of a \"network of networks\" surveillance system for infectious diseases in the caribbean. also described are benefits, challenges, and limitations of this approach across the three island nations identified through direct observation, open-ended interviews, and email communications with an on-site it consultant, key informants, and the project director. identified core systems design of the aricaba data warehouse include a disease monitoring system and a syndromic surveillance system. three components comprise the development strategy: the data warehouse server, the geographical information system, and forecasting algorithms; these are recognized technical priorities of the surveillance system. a main benefit of the aricaba surveillance system is improving responsiveness and representativeness of existing health systems through automated data collection, process, and transmission of information from various sources. challenges include overcoming technology gaps between countries; real-time data collection points; multiple language support; and \"component-oriented\" development approaches.'"
      ]
     },
     "execution_count": 12,
     "metadata": {},
     "output_type": "execute_result"
    },
    {
     "data": {
      "text/plain": [
       "'b and t lymphocyte attenuator (btla) is a co-inhibitory receptor that interacts with herpesvirus entry mediator (hvem), and this interaction regulates pathogenesis in various immunologic diseases. in graft-versus-host disease (gvhd), btla unexpectedly mediates positive effects on donor t-cell survival, whereas immunologic mechanisms of this function have yet to be explored. in this study, we elucidated a role of btla in gvhd by applying the newly established agonistic anti-btla monoclonal antibody that stimulates btla signal without antagonizing btla-hvem interaction. our results revealed that provision of btla signal inhibited donor antihost t-cell responses and ameliorated gvhd with a successful engraftment of donor hematopoietic cells. these effects were dependent on btla signal into donor t cells but neither donor non-t cells nor recipient cells. on the other hand, expression of btla mutant lacking an intracellular signaling domain restored impaired survival of btla-deficient t cells, suggesting that btla also serves as a ligand that delivers hvem prosurvival signal in donor t cells. collectively, current study elucidated dichotomous functions of btla in gvhd to serve as a costimulatory ligand of hvem and to transmit inhibitory signal as a receptor.'"
      ]
     },
     "execution_count": 12,
     "metadata": {},
     "output_type": "execute_result"
    }
   ],
   "source": [
    "df['abstract'][50]\n",
    "df['abstract'][5]"
   ]
  },
  {
   "cell_type": "code",
   "execution_count": 13,
   "id": "f7960a4a-2f4c-488d-8bec-a8666575856c",
   "metadata": {},
   "outputs": [],
   "source": [
    "#Function to tokenise, stem words, then join back\n",
    "def stem_sentences(sentence):\n",
    "    tokens = word_tokenize(sentence)\n",
    "    stemmed_tokens = [stemmer.stem(token) for token in tokens]\n",
    "    return ' '.join(stemmed_tokens)"
   ]
  },
  {
   "cell_type": "code",
   "execution_count": 14,
   "id": "4e9ac9be-2dbf-4e72-a562-0b6e30935c2c",
   "metadata": {},
   "outputs": [],
   "source": [
    "#remove stopwords\n",
    "df['abstract'] = df['abstract'].apply(lambda x: ' '.join([word for word in x.split() if word not in stop_words]))"
   ]
  },
  {
   "cell_type": "code",
   "execution_count": 15,
   "id": "5763d50d-c7a2-4dde-80bf-047192615f61",
   "metadata": {},
   "outputs": [
    {
     "name": "stdout",
     "output_type": "stream",
     "text": [
      "CPU times: total: 18min 37s\n",
      "Wall time: 18min 39s\n"
     ]
    }
   ],
   "source": [
    "%%time\n",
    "#tokenise, stem, then join back\n",
    "df['abstract'] = df['abstract'].apply(stem_sentences)"
   ]
  },
  {
   "cell_type": "code",
   "execution_count": 16,
   "id": "1a6afb5b-3640-4660-93db-4433b7a435ab",
   "metadata": {},
   "outputs": [
    {
     "data": {
      "text/plain": [
       "\"dengu fever , includ dengu hemorrhag fever , becom re-emerg public health threat caribbean absenc comprehens region surveil system . defici , project entitl aricaba , strive implement pilot surveil system across three island : martiniqu , st. lucia , dominica . aim project establish network epidemiolog surveil infecti diseas , util inform commun technolog . paper describ system design develop strategi `` network network '' surveil system infecti diseas caribbean . also describ benefit , challeng , limit approach across three island nation identifi direct observ , open-end interview , email commun on-sit consult , key inform , project director . identifi core system design aricaba data warehous includ diseas monitor system syndrom surveil system . three compon compris develop strategi : data warehous server , geograph inform system , forecast algorithm ; recogn technic prioriti surveil system . main benefit aricaba surveil system improv respons repres exist health system autom data collect , process , transmiss inform variou sourc . challeng includ overcom technolog gap countri ; real-tim data collect point ; multipl languag support ; `` component-ori '' develop approach .\""
      ]
     },
     "execution_count": 16,
     "metadata": {},
     "output_type": "execute_result"
    },
    {
     "data": {
      "text/plain": [
       "'b lymphocyt attenu ( btla ) co-inhibitori receptor interact herpesviru entri mediat ( hvem ) , interact regul pathogenesi variou immunolog diseas . graft-versus-host diseas ( gvhd ) , btla unexpectedli mediat posit effect donor t-cell surviv , wherea immunolog mechan function yet explor . studi , elucid role btla gvhd appli newli establish agonist anti-btla monoclon antibodi stimul btla signal without antagon btla-hvem interact . result reveal provis btla signal inhibit donor antihost t-cell respons amelior gvhd success engraft donor hematopoiet cell . effect depend btla signal donor cell neither donor non-t cell recipi cell . hand , express btla mutant lack intracellular signal domain restor impair surviv btla-defici cell , suggest btla also serv ligand deliv hvem prosurviv signal donor cell . collect , current studi elucid dichotom function btla gvhd serv costimulatori ligand hvem transmit inhibitori signal receptor .'"
      ]
     },
     "execution_count": 16,
     "metadata": {},
     "output_type": "execute_result"
    }
   ],
   "source": [
    "df['abstract'][50]\n",
    "df['abstract'][5]"
   ]
  },
  {
   "cell_type": "markdown",
   "id": "cc791d6f-05b5-42ae-bd81-41e612f5b7b5",
   "metadata": {},
   "source": [
    "## 2.6 Remove special characters"
   ]
  },
  {
   "cell_type": "code",
   "execution_count": 17,
   "id": "29ec3f5b-d802-4c0f-91e0-1a9ff1e2c87f",
   "metadata": {},
   "outputs": [],
   "source": [
    "def remove_spec_char(text):\n",
    "    return re.sub('[^A-Za-z0-9 ]+', '',text)    "
   ]
  },
  {
   "cell_type": "code",
   "execution_count": 18,
   "id": "33509d1a-316e-421e-9b05-0cbd43fad222",
   "metadata": {},
   "outputs": [
    {
     "data": {
      "text/plain": [
       "'b lymphocyt attenu ( btla ) co-inhibitori receptor interact herpesviru entri mediat ( hvem ) , interact regul pathogenesi variou immunolog diseas . graft-versus-host diseas ( gvhd ) , btla unexpectedli mediat posit effect donor t-cell surviv , wherea immunolog mechan function yet explor . studi , elucid role btla gvhd appli newli establish agonist anti-btla monoclon antibodi stimul btla signal without antagon btla-hvem interact . result reveal provis btla signal inhibit donor antihost t-cell respons amelior gvhd success engraft donor hematopoiet cell . effect depend btla signal donor cell neither donor non-t cell recipi cell . hand , express btla mutant lack intracellular signal domain restor impair surviv btla-defici cell , suggest btla also serv ligand deliv hvem prosurviv signal donor cell . collect , current studi elucid dichotom function btla gvhd serv costimulatori ligand hvem transmit inhibitori signal receptor .'"
      ]
     },
     "execution_count": 18,
     "metadata": {},
     "output_type": "execute_result"
    }
   ],
   "source": [
    "df['abstract'][5]"
   ]
  },
  {
   "cell_type": "code",
   "execution_count": 19,
   "id": "d04cf315-e3b3-4baf-847e-7750b4970676",
   "metadata": {},
   "outputs": [],
   "source": [
    "df['abstract'] = df['abstract'].apply(remove_spec_char)"
   ]
  },
  {
   "cell_type": "code",
   "execution_count": 20,
   "id": "8f3f4fdd-6d81-4052-88af-708b6c42aaaa",
   "metadata": {},
   "outputs": [
    {
     "data": {
      "text/plain": [
       "'b lymphocyt attenu  btla  coinhibitori receptor interact herpesviru entri mediat  hvem   interact regul pathogenesi variou immunolog diseas  graftversushost diseas  gvhd   btla unexpectedli mediat posit effect donor tcell surviv  wherea immunolog mechan function yet explor  studi  elucid role btla gvhd appli newli establish agonist antibtla monoclon antibodi stimul btla signal without antagon btlahvem interact  result reveal provis btla signal inhibit donor antihost tcell respons amelior gvhd success engraft donor hematopoiet cell  effect depend btla signal donor cell neither donor nont cell recipi cell  hand  express btla mutant lack intracellular signal domain restor impair surviv btladefici cell  suggest btla also serv ligand deliv hvem prosurviv signal donor cell  collect  current studi elucid dichotom function btla gvhd serv costimulatori ligand hvem transmit inhibitori signal receptor '"
      ]
     },
     "execution_count": 20,
     "metadata": {},
     "output_type": "execute_result"
    }
   ],
   "source": [
    "df['abstract'][5]"
   ]
  },
  {
   "cell_type": "markdown",
   "id": "df063f2f-4f26-4474-a936-a2563b0a88ec",
   "metadata": {},
   "source": [
    "# 3. Summary and Export Cleaned Data <a class=\"anchor\" id=\"ID_3\"></a>\n",
    "\n",
    "After conducting these processess:<br>\n",
    "- Addressing Missing\n",
    "- Checking for duplicates\n",
    "- Converting to lowercase\n",
    "- Removing stopwords and stemming for Articles' Abstract\n",
    "- Removing Abstract special characters\n",
    "We now have our cleaned Articles data."
   ]
  },
  {
   "cell_type": "code",
   "execution_count": null,
   "id": "a330e5f5-1141-4cd2-bbf4-61de48954698",
   "metadata": {},
   "outputs": [],
   "source": [
    "df.head()"
   ]
  },
  {
   "cell_type": "code",
   "execution_count": 30,
   "id": "f6fb1fac-bdcc-4007-9837-7c1c9047cd3e",
   "metadata": {},
   "outputs": [],
   "source": [
    "df.to_csv(\"DATA_cleaned.csv\",index=False)"
   ]
  },
  {
   "cell_type": "code",
   "execution_count": null,
   "id": "cfb109d5-ebbc-4f2a-b220-b04363656efe",
   "metadata": {},
   "outputs": [],
   "source": []
  }
 ],
 "metadata": {
  "kernelspec": {
   "display_name": "Python 3 (ipykernel)",
   "language": "python",
   "name": "python3"
  },
  "language_info": {
   "codemirror_mode": {
    "name": "ipython",
    "version": 3
   },
   "file_extension": ".py",
   "mimetype": "text/x-python",
   "name": "python",
   "nbconvert_exporter": "python",
   "pygments_lexer": "ipython3",
   "version": "3.8.13"
  },
  "toc-autonumbering": false
 },
 "nbformat": 4,
 "nbformat_minor": 5
}
