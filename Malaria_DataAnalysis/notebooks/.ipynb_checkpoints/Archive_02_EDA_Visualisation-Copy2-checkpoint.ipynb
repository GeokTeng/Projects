{
 "cells": [
  {
   "cell_type": "markdown",
   "id": "42a0f06b-d10e-4b81-9331-c03908950995",
   "metadata": {},
   "source": [
    "# About the Notebook"
   ]
  },
  {
   "cell_type": "markdown",
   "id": "76585a7e-694b-4fd7-afa2-eddd29a2831c",
   "metadata": {},
   "source": [
    "**SUMMARY OF THE THREE DATA SETS**\n",
    "|DataSet|Description|Similarity with other datasets|\n",
    "|---|---|---|\n",
    "|age_grp_death_df|<li>228 Unique entities (200 countries, 22 regions, 6 income class)<li>Shows number of malaria deaths of 5 different age groups across the years 1990-2016|<li>Identical set of Entity as `death_rate_df`<li>Do not have income class entity that are found in `inc_rate_df`<li>Out of the 200 Countries found in this dataset, 100 are found in `inc_rate_df` as well.|\n",
    "|death_rate_df|<li>228 Unique entities (200 countries, 22 regions, 6 income class)<li>Shows malaria deaths rates across the years 1990-2016|<li>Identical set of Entity as `age_grp_death_df`<li>Do not have income class entity that are found in `inc_rate_df`<li>Out of the 200 Countries found in this dataset, 100 are found in `inc_rate_df` as well.|\n",
    "|inc_rate_df|<li>127 Unique entities (100 countries, 5 regions, 22 income class)<li>Shows malaria incidence rates in the years 2000, 2005, 2015 and 2015|<li>Countries found in this dataset are found in all other datasets<li>Have most of the unique income-class entity compared to the other datasets|"
   ]
  },
  {
   "cell_type": "markdown",
   "id": "2d0f4ac2-04d2-4197-a228-4716986ed7fd",
   "metadata": {},
   "source": [
    "# PART 1. Imports"
   ]
  },
  {
   "cell_type": "code",
   "execution_count": 1,
   "id": "7219dc05-ec1a-4857-876e-7292519a4cf7",
   "metadata": {},
   "outputs": [],
   "source": [
    "from IPython.core.interactiveshell import InteractiveShell\n",
    "InteractiveShell.ast_node_interactivity = \"all\"\n",
    "\n",
    "import numpy as np\n",
    "import pandas as pd\n",
    "\n",
    "#Visualisation:\n",
    "import seaborn               as sns\n",
    "import matplotlib.pyplot     as plt\n",
    "sns.set_theme(style=\"whitegrid\")\n",
    "\n",
    "#Import Data_analysis functions\n",
    "from data_analysis import *\n",
    "\n",
    "#Country Data Processing\n",
    "from geonamescache import GeonamesCache\n",
    "# # import country_converter as coco\n",
    "# import pycountry"
   ]
  },
  {
   "cell_type": "code",
   "execution_count": 2,
   "id": "f77020f3-6f8b-4e1a-84a4-9ef7e49cf114",
   "metadata": {},
   "outputs": [
    {
     "name": "stdout",
     "output_type": "stream",
     "text": [
      "Dataframe: age_grp_death_df\n"
     ]
    },
    {
     "data": {
      "text/html": [
       "<div>\n",
       "<style scoped>\n",
       "    .dataframe tbody tr th:only-of-type {\n",
       "        vertical-align: middle;\n",
       "    }\n",
       "\n",
       "    .dataframe tbody tr th {\n",
       "        vertical-align: top;\n",
       "    }\n",
       "\n",
       "    .dataframe thead th {\n",
       "        text-align: right;\n",
       "    }\n",
       "</style>\n",
       "<table border=\"1\" class=\"dataframe\">\n",
       "  <thead>\n",
       "    <tr style=\"text-align: right;\">\n",
       "      <th></th>\n",
       "      <th>Entity</th>\n",
       "      <th>Code</th>\n",
       "      <th>Year</th>\n",
       "      <th>Age_group</th>\n",
       "      <th>Deaths</th>\n",
       "      <th>Entity_type</th>\n",
       "      <th>Updated_Entity</th>\n",
       "    </tr>\n",
       "  </thead>\n",
       "  <tbody>\n",
       "    <tr>\n",
       "      <th>0</th>\n",
       "      <td>Afghanistan</td>\n",
       "      <td>AFG</td>\n",
       "      <td>1990</td>\n",
       "      <td>Under 5</td>\n",
       "      <td>184.606435</td>\n",
       "      <td>country</td>\n",
       "      <td>Afghanistan</td>\n",
       "    </tr>\n",
       "    <tr>\n",
       "      <th>1</th>\n",
       "      <td>Afghanistan</td>\n",
       "      <td>AFG</td>\n",
       "      <td>1991</td>\n",
       "      <td>Under 5</td>\n",
       "      <td>191.658193</td>\n",
       "      <td>country</td>\n",
       "      <td>Afghanistan</td>\n",
       "    </tr>\n",
       "    <tr>\n",
       "      <th>2</th>\n",
       "      <td>Afghanistan</td>\n",
       "      <td>AFG</td>\n",
       "      <td>1992</td>\n",
       "      <td>Under 5</td>\n",
       "      <td>197.140197</td>\n",
       "      <td>country</td>\n",
       "      <td>Afghanistan</td>\n",
       "    </tr>\n",
       "  </tbody>\n",
       "</table>\n",
       "</div>"
      ],
      "text/plain": [
       "        Entity Code  Year Age_group      Deaths Entity_type Updated_Entity\n",
       "0  Afghanistan  AFG  1990   Under 5  184.606435     country    Afghanistan\n",
       "1  Afghanistan  AFG  1991   Under 5  191.658193     country    Afghanistan\n",
       "2  Afghanistan  AFG  1992   Under 5  197.140197     country    Afghanistan"
      ]
     },
     "execution_count": 2,
     "metadata": {},
     "output_type": "execute_result"
    },
    {
     "name": "stdout",
     "output_type": "stream",
     "text": [
      "Dataframe: death_rate_df\n"
     ]
    },
    {
     "data": {
      "text/html": [
       "<div>\n",
       "<style scoped>\n",
       "    .dataframe tbody tr th:only-of-type {\n",
       "        vertical-align: middle;\n",
       "    }\n",
       "\n",
       "    .dataframe tbody tr th {\n",
       "        vertical-align: top;\n",
       "    }\n",
       "\n",
       "    .dataframe thead th {\n",
       "        text-align: right;\n",
       "    }\n",
       "</style>\n",
       "<table border=\"1\" class=\"dataframe\">\n",
       "  <thead>\n",
       "    <tr style=\"text-align: right;\">\n",
       "      <th></th>\n",
       "      <th>Entity</th>\n",
       "      <th>Code</th>\n",
       "      <th>Year</th>\n",
       "      <th>DeathRate_per100K</th>\n",
       "      <th>Entity_type</th>\n",
       "      <th>Updated_Entity</th>\n",
       "    </tr>\n",
       "  </thead>\n",
       "  <tbody>\n",
       "    <tr>\n",
       "      <th>0</th>\n",
       "      <td>Afghanistan</td>\n",
       "      <td>AFG</td>\n",
       "      <td>1990</td>\n",
       "      <td>6.802930</td>\n",
       "      <td>country</td>\n",
       "      <td>Afghanistan</td>\n",
       "    </tr>\n",
       "    <tr>\n",
       "      <th>1</th>\n",
       "      <td>Afghanistan</td>\n",
       "      <td>AFG</td>\n",
       "      <td>1991</td>\n",
       "      <td>6.973494</td>\n",
       "      <td>country</td>\n",
       "      <td>Afghanistan</td>\n",
       "    </tr>\n",
       "    <tr>\n",
       "      <th>2</th>\n",
       "      <td>Afghanistan</td>\n",
       "      <td>AFG</td>\n",
       "      <td>1992</td>\n",
       "      <td>6.989882</td>\n",
       "      <td>country</td>\n",
       "      <td>Afghanistan</td>\n",
       "    </tr>\n",
       "  </tbody>\n",
       "</table>\n",
       "</div>"
      ],
      "text/plain": [
       "        Entity Code  Year  DeathRate_per100K Entity_type Updated_Entity\n",
       "0  Afghanistan  AFG  1990           6.802930     country    Afghanistan\n",
       "1  Afghanistan  AFG  1991           6.973494     country    Afghanistan\n",
       "2  Afghanistan  AFG  1992           6.989882     country    Afghanistan"
      ]
     },
     "execution_count": 2,
     "metadata": {},
     "output_type": "execute_result"
    },
    {
     "name": "stdout",
     "output_type": "stream",
     "text": [
      "Dataframe: inc_rate_df\n"
     ]
    },
    {
     "data": {
      "text/html": [
       "<div>\n",
       "<style scoped>\n",
       "    .dataframe tbody tr th:only-of-type {\n",
       "        vertical-align: middle;\n",
       "    }\n",
       "\n",
       "    .dataframe tbody tr th {\n",
       "        vertical-align: top;\n",
       "    }\n",
       "\n",
       "    .dataframe thead th {\n",
       "        text-align: right;\n",
       "    }\n",
       "</style>\n",
       "<table border=\"1\" class=\"dataframe\">\n",
       "  <thead>\n",
       "    <tr style=\"text-align: right;\">\n",
       "      <th></th>\n",
       "      <th>Entity</th>\n",
       "      <th>Code</th>\n",
       "      <th>Year</th>\n",
       "      <th>IncRate_per100K</th>\n",
       "      <th>Entity_type</th>\n",
       "      <th>Updated_Entity</th>\n",
       "    </tr>\n",
       "  </thead>\n",
       "  <tbody>\n",
       "    <tr>\n",
       "      <th>0</th>\n",
       "      <td>Afghanistan</td>\n",
       "      <td>AFG</td>\n",
       "      <td>2000</td>\n",
       "      <td>107.1</td>\n",
       "      <td>country</td>\n",
       "      <td>Afghanistan</td>\n",
       "    </tr>\n",
       "    <tr>\n",
       "      <th>1</th>\n",
       "      <td>Afghanistan</td>\n",
       "      <td>AFG</td>\n",
       "      <td>2005</td>\n",
       "      <td>46.5</td>\n",
       "      <td>country</td>\n",
       "      <td>Afghanistan</td>\n",
       "    </tr>\n",
       "    <tr>\n",
       "      <th>2</th>\n",
       "      <td>Afghanistan</td>\n",
       "      <td>AFG</td>\n",
       "      <td>2010</td>\n",
       "      <td>23.9</td>\n",
       "      <td>country</td>\n",
       "      <td>Afghanistan</td>\n",
       "    </tr>\n",
       "  </tbody>\n",
       "</table>\n",
       "</div>"
      ],
      "text/plain": [
       "        Entity Code  Year  IncRate_per100K Entity_type Updated_Entity\n",
       "0  Afghanistan  AFG  2000            107.1     country    Afghanistan\n",
       "1  Afghanistan  AFG  2005             46.5     country    Afghanistan\n",
       "2  Afghanistan  AFG  2010             23.9     country    Afghanistan"
      ]
     },
     "execution_count": 2,
     "metadata": {},
     "output_type": "execute_result"
    }
   ],
   "source": [
    "#List of data set names\n",
    "dataframe_ls = \"age_grp_death_df,death_rate_df,inc_rate_df\"\n",
    "dataframe_ls = dataframe_ls.split(',')\n",
    "\n",
    "for data in dataframe_ls:\n",
    "    globals()[data] = pd.read_csv(f\"../data_output/{data}.csv\")\n",
    "    print(f\"Dataframe: {data}\")\n",
    "    globals()[data].head(3)"
   ]
  },
  {
   "cell_type": "markdown",
   "id": "b13f5253-adac-43ba-b0e9-f2b0d73a3258",
   "metadata": {},
   "source": [
    "# Part 2: Data Preparation"
   ]
  },
  {
   "cell_type": "markdown",
   "id": "a56fd835-fd83-46c9-bcd6-db120b6201c5",
   "metadata": {},
   "source": [
    "## 2.1 Replace `Entity` with `Updated_Entity`"
   ]
  },
  {
   "cell_type": "code",
   "execution_count": 3,
   "id": "08e6f3e5-1365-4776-a7da-84416719128a",
   "metadata": {},
   "outputs": [
    {
     "name": "stdout",
     "output_type": "stream",
     "text": [
      "Dataframe: age_grp_death_df\n"
     ]
    },
    {
     "data": {
      "text/html": [
       "<div>\n",
       "<style scoped>\n",
       "    .dataframe tbody tr th:only-of-type {\n",
       "        vertical-align: middle;\n",
       "    }\n",
       "\n",
       "    .dataframe tbody tr th {\n",
       "        vertical-align: top;\n",
       "    }\n",
       "\n",
       "    .dataframe thead th {\n",
       "        text-align: right;\n",
       "    }\n",
       "</style>\n",
       "<table border=\"1\" class=\"dataframe\">\n",
       "  <thead>\n",
       "    <tr style=\"text-align: right;\">\n",
       "      <th></th>\n",
       "      <th>Entity</th>\n",
       "      <th>Entity_type</th>\n",
       "      <th>Code</th>\n",
       "      <th>Year</th>\n",
       "      <th>Age_group</th>\n",
       "      <th>Deaths</th>\n",
       "    </tr>\n",
       "  </thead>\n",
       "  <tbody>\n",
       "    <tr>\n",
       "      <th>0</th>\n",
       "      <td>Afghanistan</td>\n",
       "      <td>country</td>\n",
       "      <td>AFG</td>\n",
       "      <td>1990</td>\n",
       "      <td>Under 5</td>\n",
       "      <td>184.606435</td>\n",
       "    </tr>\n",
       "    <tr>\n",
       "      <th>1</th>\n",
       "      <td>Afghanistan</td>\n",
       "      <td>country</td>\n",
       "      <td>AFG</td>\n",
       "      <td>1991</td>\n",
       "      <td>Under 5</td>\n",
       "      <td>191.658193</td>\n",
       "    </tr>\n",
       "    <tr>\n",
       "      <th>2</th>\n",
       "      <td>Afghanistan</td>\n",
       "      <td>country</td>\n",
       "      <td>AFG</td>\n",
       "      <td>1992</td>\n",
       "      <td>Under 5</td>\n",
       "      <td>197.140197</td>\n",
       "    </tr>\n",
       "    <tr>\n",
       "      <th>3</th>\n",
       "      <td>Afghanistan</td>\n",
       "      <td>country</td>\n",
       "      <td>AFG</td>\n",
       "      <td>1993</td>\n",
       "      <td>Under 5</td>\n",
       "      <td>207.357753</td>\n",
       "    </tr>\n",
       "    <tr>\n",
       "      <th>4</th>\n",
       "      <td>Afghanistan</td>\n",
       "      <td>country</td>\n",
       "      <td>AFG</td>\n",
       "      <td>1994</td>\n",
       "      <td>Under 5</td>\n",
       "      <td>226.209363</td>\n",
       "    </tr>\n",
       "  </tbody>\n",
       "</table>\n",
       "</div>"
      ],
      "text/plain": [
       "        Entity Entity_type Code  Year Age_group      Deaths\n",
       "0  Afghanistan     country  AFG  1990   Under 5  184.606435\n",
       "1  Afghanistan     country  AFG  1991   Under 5  191.658193\n",
       "2  Afghanistan     country  AFG  1992   Under 5  197.140197\n",
       "3  Afghanistan     country  AFG  1993   Under 5  207.357753\n",
       "4  Afghanistan     country  AFG  1994   Under 5  226.209363"
      ]
     },
     "execution_count": 3,
     "metadata": {},
     "output_type": "execute_result"
    },
    {
     "name": "stdout",
     "output_type": "stream",
     "text": [
      "Dataframe: death_rate_df\n"
     ]
    },
    {
     "data": {
      "text/html": [
       "<div>\n",
       "<style scoped>\n",
       "    .dataframe tbody tr th:only-of-type {\n",
       "        vertical-align: middle;\n",
       "    }\n",
       "\n",
       "    .dataframe tbody tr th {\n",
       "        vertical-align: top;\n",
       "    }\n",
       "\n",
       "    .dataframe thead th {\n",
       "        text-align: right;\n",
       "    }\n",
       "</style>\n",
       "<table border=\"1\" class=\"dataframe\">\n",
       "  <thead>\n",
       "    <tr style=\"text-align: right;\">\n",
       "      <th></th>\n",
       "      <th>Entity</th>\n",
       "      <th>Entity_type</th>\n",
       "      <th>Code</th>\n",
       "      <th>Year</th>\n",
       "      <th>DeathRate_per100K</th>\n",
       "    </tr>\n",
       "  </thead>\n",
       "  <tbody>\n",
       "    <tr>\n",
       "      <th>0</th>\n",
       "      <td>Afghanistan</td>\n",
       "      <td>country</td>\n",
       "      <td>AFG</td>\n",
       "      <td>1990</td>\n",
       "      <td>6.802930</td>\n",
       "    </tr>\n",
       "    <tr>\n",
       "      <th>1</th>\n",
       "      <td>Afghanistan</td>\n",
       "      <td>country</td>\n",
       "      <td>AFG</td>\n",
       "      <td>1991</td>\n",
       "      <td>6.973494</td>\n",
       "    </tr>\n",
       "    <tr>\n",
       "      <th>2</th>\n",
       "      <td>Afghanistan</td>\n",
       "      <td>country</td>\n",
       "      <td>AFG</td>\n",
       "      <td>1992</td>\n",
       "      <td>6.989882</td>\n",
       "    </tr>\n",
       "    <tr>\n",
       "      <th>3</th>\n",
       "      <td>Afghanistan</td>\n",
       "      <td>country</td>\n",
       "      <td>AFG</td>\n",
       "      <td>1993</td>\n",
       "      <td>7.088983</td>\n",
       "    </tr>\n",
       "    <tr>\n",
       "      <th>4</th>\n",
       "      <td>Afghanistan</td>\n",
       "      <td>country</td>\n",
       "      <td>AFG</td>\n",
       "      <td>1994</td>\n",
       "      <td>7.392472</td>\n",
       "    </tr>\n",
       "  </tbody>\n",
       "</table>\n",
       "</div>"
      ],
      "text/plain": [
       "        Entity Entity_type Code  Year  DeathRate_per100K\n",
       "0  Afghanistan     country  AFG  1990           6.802930\n",
       "1  Afghanistan     country  AFG  1991           6.973494\n",
       "2  Afghanistan     country  AFG  1992           6.989882\n",
       "3  Afghanistan     country  AFG  1993           7.088983\n",
       "4  Afghanistan     country  AFG  1994           7.392472"
      ]
     },
     "execution_count": 3,
     "metadata": {},
     "output_type": "execute_result"
    },
    {
     "name": "stdout",
     "output_type": "stream",
     "text": [
      "Dataframe: inc_rate_df\n"
     ]
    },
    {
     "data": {
      "text/html": [
       "<div>\n",
       "<style scoped>\n",
       "    .dataframe tbody tr th:only-of-type {\n",
       "        vertical-align: middle;\n",
       "    }\n",
       "\n",
       "    .dataframe tbody tr th {\n",
       "        vertical-align: top;\n",
       "    }\n",
       "\n",
       "    .dataframe thead th {\n",
       "        text-align: right;\n",
       "    }\n",
       "</style>\n",
       "<table border=\"1\" class=\"dataframe\">\n",
       "  <thead>\n",
       "    <tr style=\"text-align: right;\">\n",
       "      <th></th>\n",
       "      <th>Entity</th>\n",
       "      <th>Entity_type</th>\n",
       "      <th>Code</th>\n",
       "      <th>Year</th>\n",
       "      <th>IncRate_per100K</th>\n",
       "    </tr>\n",
       "  </thead>\n",
       "  <tbody>\n",
       "    <tr>\n",
       "      <th>0</th>\n",
       "      <td>Afghanistan</td>\n",
       "      <td>country</td>\n",
       "      <td>AFG</td>\n",
       "      <td>2000</td>\n",
       "      <td>107.100000</td>\n",
       "    </tr>\n",
       "    <tr>\n",
       "      <th>1</th>\n",
       "      <td>Afghanistan</td>\n",
       "      <td>country</td>\n",
       "      <td>AFG</td>\n",
       "      <td>2005</td>\n",
       "      <td>46.500000</td>\n",
       "    </tr>\n",
       "    <tr>\n",
       "      <th>2</th>\n",
       "      <td>Afghanistan</td>\n",
       "      <td>country</td>\n",
       "      <td>AFG</td>\n",
       "      <td>2010</td>\n",
       "      <td>23.900000</td>\n",
       "    </tr>\n",
       "    <tr>\n",
       "      <th>3</th>\n",
       "      <td>Afghanistan</td>\n",
       "      <td>country</td>\n",
       "      <td>AFG</td>\n",
       "      <td>2015</td>\n",
       "      <td>23.600000</td>\n",
       "    </tr>\n",
       "    <tr>\n",
       "      <th>4</th>\n",
       "      <td>Algeria</td>\n",
       "      <td>country</td>\n",
       "      <td>DZA</td>\n",
       "      <td>2000</td>\n",
       "      <td>0.037746</td>\n",
       "    </tr>\n",
       "  </tbody>\n",
       "</table>\n",
       "</div>"
      ],
      "text/plain": [
       "        Entity Entity_type Code  Year  IncRate_per100K\n",
       "0  Afghanistan     country  AFG  2000       107.100000\n",
       "1  Afghanistan     country  AFG  2005        46.500000\n",
       "2  Afghanistan     country  AFG  2010        23.900000\n",
       "3  Afghanistan     country  AFG  2015        23.600000\n",
       "4      Algeria     country  DZA  2000         0.037746"
      ]
     },
     "execution_count": 3,
     "metadata": {},
     "output_type": "execute_result"
    }
   ],
   "source": [
    "for data in dataframe_ls:\n",
    "    df = globals()[data].copy()\n",
    "    df.drop(columns='Entity',inplace=True)\n",
    "    df.rename(columns = {'Updated_Entity':'Entity'},inplace=True)\n",
    "    ent_col = ['Entity','Entity_type']\n",
    "    other_col = [col for col in df.columns if col not in ent_col]\n",
    "    \n",
    "    print(f\"Dataframe: {data}\")\n",
    "    new_df = df.loc[:,ent_col+other_col]\n",
    "    new_df.head()\n",
    "    \n",
    "    globals()[data] = new_df"
   ]
  },
  {
   "cell_type": "markdown",
   "id": "70e1c62f-ec94-4f50-9d3a-652a93c74000",
   "metadata": {},
   "source": [
    "## 2.2 Label Countries their respective Continental codes"
   ]
  },
  {
   "cell_type": "code",
   "execution_count": 4,
   "id": "3f27a371-9970-44b6-ac5b-356074db233e",
   "metadata": {},
   "outputs": [],
   "source": [
    "#Label the countries continental code\n",
    "gc = GeonamesCache()\n",
    "\n",
    "# Access data for specific entities\n",
    "gc_countries = gc.get_countries()\n",
    "\n",
    "# List of country codes in GeonamesCache\n",
    "gc_country_codes = [value['iso3'] for key, value in gc_countries.items()]\n",
    "# List of countries respective continental codes GeonamesCache\n",
    "gc_country_cont_codes = [value['continentcode'] for key, value in gc_countries.items()]\n",
    "\n",
    "#Store countries code & continental codes in a dictionary\n",
    "gc_country_cont_dict = {k:v for k,v in zip(gc_country_codes,gc_country_cont_codes)}"
   ]
  },
  {
   "cell_type": "code",
   "execution_count": 5,
   "id": "16447940-3426-4a16-875a-693b2ba56505",
   "metadata": {},
   "outputs": [
    {
     "name": "stdout",
     "output_type": "stream",
     "text": [
      "Dataframe:age_grp_death_df\n"
     ]
    },
    {
     "data": {
      "text/html": [
       "<div>\n",
       "<style scoped>\n",
       "    .dataframe tbody tr th:only-of-type {\n",
       "        vertical-align: middle;\n",
       "    }\n",
       "\n",
       "    .dataframe tbody tr th {\n",
       "        vertical-align: top;\n",
       "    }\n",
       "\n",
       "    .dataframe thead th {\n",
       "        text-align: right;\n",
       "    }\n",
       "</style>\n",
       "<table border=\"1\" class=\"dataframe\">\n",
       "  <thead>\n",
       "    <tr style=\"text-align: right;\">\n",
       "      <th></th>\n",
       "      <th>Entity</th>\n",
       "      <th>Entity_type</th>\n",
       "      <th>Code</th>\n",
       "      <th>Year</th>\n",
       "      <th>Age_group</th>\n",
       "      <th>Deaths</th>\n",
       "      <th>Continent</th>\n",
       "    </tr>\n",
       "  </thead>\n",
       "  <tbody>\n",
       "    <tr>\n",
       "      <th>0</th>\n",
       "      <td>Afghanistan</td>\n",
       "      <td>country</td>\n",
       "      <td>AFG</td>\n",
       "      <td>1990</td>\n",
       "      <td>Under 5</td>\n",
       "      <td>184.606435</td>\n",
       "      <td>AS</td>\n",
       "    </tr>\n",
       "    <tr>\n",
       "      <th>1</th>\n",
       "      <td>Afghanistan</td>\n",
       "      <td>country</td>\n",
       "      <td>AFG</td>\n",
       "      <td>1991</td>\n",
       "      <td>Under 5</td>\n",
       "      <td>191.658193</td>\n",
       "      <td>AS</td>\n",
       "    </tr>\n",
       "    <tr>\n",
       "      <th>2</th>\n",
       "      <td>Afghanistan</td>\n",
       "      <td>country</td>\n",
       "      <td>AFG</td>\n",
       "      <td>1992</td>\n",
       "      <td>Under 5</td>\n",
       "      <td>197.140197</td>\n",
       "      <td>AS</td>\n",
       "    </tr>\n",
       "    <tr>\n",
       "      <th>3</th>\n",
       "      <td>Afghanistan</td>\n",
       "      <td>country</td>\n",
       "      <td>AFG</td>\n",
       "      <td>1993</td>\n",
       "      <td>Under 5</td>\n",
       "      <td>207.357753</td>\n",
       "      <td>AS</td>\n",
       "    </tr>\n",
       "    <tr>\n",
       "      <th>4</th>\n",
       "      <td>Afghanistan</td>\n",
       "      <td>country</td>\n",
       "      <td>AFG</td>\n",
       "      <td>1994</td>\n",
       "      <td>Under 5</td>\n",
       "      <td>226.209363</td>\n",
       "      <td>AS</td>\n",
       "    </tr>\n",
       "  </tbody>\n",
       "</table>\n",
       "</div>"
      ],
      "text/plain": [
       "        Entity Entity_type Code  Year Age_group      Deaths Continent\n",
       "0  Afghanistan     country  AFG  1990   Under 5  184.606435        AS\n",
       "1  Afghanistan     country  AFG  1991   Under 5  191.658193        AS\n",
       "2  Afghanistan     country  AFG  1992   Under 5  197.140197        AS\n",
       "3  Afghanistan     country  AFG  1993   Under 5  207.357753        AS\n",
       "4  Afghanistan     country  AFG  1994   Under 5  226.209363        AS"
      ]
     },
     "execution_count": 5,
     "metadata": {},
     "output_type": "execute_result"
    },
    {
     "name": "stdout",
     "output_type": "stream",
     "text": [
      "Dataframe:death_rate_df\n"
     ]
    },
    {
     "data": {
      "text/html": [
       "<div>\n",
       "<style scoped>\n",
       "    .dataframe tbody tr th:only-of-type {\n",
       "        vertical-align: middle;\n",
       "    }\n",
       "\n",
       "    .dataframe tbody tr th {\n",
       "        vertical-align: top;\n",
       "    }\n",
       "\n",
       "    .dataframe thead th {\n",
       "        text-align: right;\n",
       "    }\n",
       "</style>\n",
       "<table border=\"1\" class=\"dataframe\">\n",
       "  <thead>\n",
       "    <tr style=\"text-align: right;\">\n",
       "      <th></th>\n",
       "      <th>Entity</th>\n",
       "      <th>Entity_type</th>\n",
       "      <th>Code</th>\n",
       "      <th>Year</th>\n",
       "      <th>DeathRate_per100K</th>\n",
       "      <th>Continent</th>\n",
       "    </tr>\n",
       "  </thead>\n",
       "  <tbody>\n",
       "    <tr>\n",
       "      <th>0</th>\n",
       "      <td>Afghanistan</td>\n",
       "      <td>country</td>\n",
       "      <td>AFG</td>\n",
       "      <td>1990</td>\n",
       "      <td>6.802930</td>\n",
       "      <td>AS</td>\n",
       "    </tr>\n",
       "    <tr>\n",
       "      <th>1</th>\n",
       "      <td>Afghanistan</td>\n",
       "      <td>country</td>\n",
       "      <td>AFG</td>\n",
       "      <td>1991</td>\n",
       "      <td>6.973494</td>\n",
       "      <td>AS</td>\n",
       "    </tr>\n",
       "    <tr>\n",
       "      <th>2</th>\n",
       "      <td>Afghanistan</td>\n",
       "      <td>country</td>\n",
       "      <td>AFG</td>\n",
       "      <td>1992</td>\n",
       "      <td>6.989882</td>\n",
       "      <td>AS</td>\n",
       "    </tr>\n",
       "    <tr>\n",
       "      <th>3</th>\n",
       "      <td>Afghanistan</td>\n",
       "      <td>country</td>\n",
       "      <td>AFG</td>\n",
       "      <td>1993</td>\n",
       "      <td>7.088983</td>\n",
       "      <td>AS</td>\n",
       "    </tr>\n",
       "    <tr>\n",
       "      <th>4</th>\n",
       "      <td>Afghanistan</td>\n",
       "      <td>country</td>\n",
       "      <td>AFG</td>\n",
       "      <td>1994</td>\n",
       "      <td>7.392472</td>\n",
       "      <td>AS</td>\n",
       "    </tr>\n",
       "  </tbody>\n",
       "</table>\n",
       "</div>"
      ],
      "text/plain": [
       "        Entity Entity_type Code  Year  DeathRate_per100K Continent\n",
       "0  Afghanistan     country  AFG  1990           6.802930        AS\n",
       "1  Afghanistan     country  AFG  1991           6.973494        AS\n",
       "2  Afghanistan     country  AFG  1992           6.989882        AS\n",
       "3  Afghanistan     country  AFG  1993           7.088983        AS\n",
       "4  Afghanistan     country  AFG  1994           7.392472        AS"
      ]
     },
     "execution_count": 5,
     "metadata": {},
     "output_type": "execute_result"
    },
    {
     "name": "stdout",
     "output_type": "stream",
     "text": [
      "Dataframe:inc_rate_df\n"
     ]
    },
    {
     "data": {
      "text/html": [
       "<div>\n",
       "<style scoped>\n",
       "    .dataframe tbody tr th:only-of-type {\n",
       "        vertical-align: middle;\n",
       "    }\n",
       "\n",
       "    .dataframe tbody tr th {\n",
       "        vertical-align: top;\n",
       "    }\n",
       "\n",
       "    .dataframe thead th {\n",
       "        text-align: right;\n",
       "    }\n",
       "</style>\n",
       "<table border=\"1\" class=\"dataframe\">\n",
       "  <thead>\n",
       "    <tr style=\"text-align: right;\">\n",
       "      <th></th>\n",
       "      <th>Entity</th>\n",
       "      <th>Entity_type</th>\n",
       "      <th>Code</th>\n",
       "      <th>Year</th>\n",
       "      <th>IncRate_per100K</th>\n",
       "      <th>Continent</th>\n",
       "    </tr>\n",
       "  </thead>\n",
       "  <tbody>\n",
       "    <tr>\n",
       "      <th>0</th>\n",
       "      <td>Afghanistan</td>\n",
       "      <td>country</td>\n",
       "      <td>AFG</td>\n",
       "      <td>2000</td>\n",
       "      <td>107.100000</td>\n",
       "      <td>AS</td>\n",
       "    </tr>\n",
       "    <tr>\n",
       "      <th>1</th>\n",
       "      <td>Afghanistan</td>\n",
       "      <td>country</td>\n",
       "      <td>AFG</td>\n",
       "      <td>2005</td>\n",
       "      <td>46.500000</td>\n",
       "      <td>AS</td>\n",
       "    </tr>\n",
       "    <tr>\n",
       "      <th>2</th>\n",
       "      <td>Afghanistan</td>\n",
       "      <td>country</td>\n",
       "      <td>AFG</td>\n",
       "      <td>2010</td>\n",
       "      <td>23.900000</td>\n",
       "      <td>AS</td>\n",
       "    </tr>\n",
       "    <tr>\n",
       "      <th>3</th>\n",
       "      <td>Afghanistan</td>\n",
       "      <td>country</td>\n",
       "      <td>AFG</td>\n",
       "      <td>2015</td>\n",
       "      <td>23.600000</td>\n",
       "      <td>AS</td>\n",
       "    </tr>\n",
       "    <tr>\n",
       "      <th>4</th>\n",
       "      <td>Algeria</td>\n",
       "      <td>country</td>\n",
       "      <td>DZA</td>\n",
       "      <td>2000</td>\n",
       "      <td>0.037746</td>\n",
       "      <td>AF</td>\n",
       "    </tr>\n",
       "  </tbody>\n",
       "</table>\n",
       "</div>"
      ],
      "text/plain": [
       "        Entity Entity_type Code  Year  IncRate_per100K Continent\n",
       "0  Afghanistan     country  AFG  2000       107.100000        AS\n",
       "1  Afghanistan     country  AFG  2005        46.500000        AS\n",
       "2  Afghanistan     country  AFG  2010        23.900000        AS\n",
       "3  Afghanistan     country  AFG  2015        23.600000        AS\n",
       "4      Algeria     country  DZA  2000         0.037746        AF"
      ]
     },
     "execution_count": 5,
     "metadata": {},
     "output_type": "execute_result"
    }
   ],
   "source": [
    "UK_countries = {'England','Scotland','Wales','Northern Ireland'}\n",
    "\n",
    "for data in dataframe_ls:\n",
    "    df = globals()[data].copy()\n",
    "    \n",
    "    #Labelling countries according to their continent code\n",
    "    df['Continent'] = df['Code'].map(gc_country_cont_dict)\n",
    "    df.loc[df['Entity'].isin(UK_countries),'Continent'] = 'EU'\n",
    "    \n",
    "    globals()[data] = df\n",
    "    \n",
    "    print(f\"Dataframe:{data}\")\n",
    "    globals()[data].head()"
   ]
  },
  {
   "cell_type": "markdown",
   "id": "28854e6f-3075-43b7-b13d-64e2a77ee6db",
   "metadata": {},
   "source": [
    "## 2.3 Entity of interest\n",
    "- ASEAN & its countries\n",
    "- AF(Africa) & AS (Asia)\n",
    "- World"
   ]
  },
  {
   "cell_type": "markdown",
   "id": "71c90762-cb82-423e-b371-90fa04628ad6",
   "metadata": {},
   "source": [
    "### ASEAN COUNTRIES"
   ]
  },
  {
   "cell_type": "code",
   "execution_count": 6,
   "id": "0b8f0137-8f6e-47d1-982f-a81ea1a4edca",
   "metadata": {
    "tags": []
   },
   "outputs": [
    {
     "data": {
      "text/plain": [
       "['Brunei',\n",
       " 'Cambodia',\n",
       " 'Indonesia',\n",
       " 'Laos',\n",
       " 'Malaysia',\n",
       " 'Myanmar',\n",
       " 'Philippines',\n",
       " 'Singapore',\n",
       " 'Thailand',\n",
       " 'Vietnam']"
      ]
     },
     "execution_count": 6,
     "metadata": {},
     "output_type": "execute_result"
    }
   ],
   "source": [
    "ASEAN = \"Brunei, Cambodia, Indonesia, Laos, Malaysia, Myanmar, Philippines, Singapore, Thailand, Vietnam\"\n",
    "ASEAN = ASEAN.split(', ')\n",
    "ASEAN"
   ]
  },
  {
   "cell_type": "code",
   "execution_count": 7,
   "id": "12024b57-2b34-4cb4-adb2-24ce2329e9fe",
   "metadata": {
    "tags": []
   },
   "outputs": [
    {
     "name": "stdout",
     "output_type": "stream",
     "text": [
      "asean_country_age_grp_death_df\n"
     ]
    },
    {
     "data": {
      "text/html": [
       "<div>\n",
       "<style scoped>\n",
       "    .dataframe tbody tr th:only-of-type {\n",
       "        vertical-align: middle;\n",
       "    }\n",
       "\n",
       "    .dataframe tbody tr th {\n",
       "        vertical-align: top;\n",
       "    }\n",
       "\n",
       "    .dataframe thead th {\n",
       "        text-align: right;\n",
       "    }\n",
       "</style>\n",
       "<table border=\"1\" class=\"dataframe\">\n",
       "  <thead>\n",
       "    <tr style=\"text-align: right;\">\n",
       "      <th></th>\n",
       "      <th>Entity</th>\n",
       "      <th>Year</th>\n",
       "      <th>Age_group</th>\n",
       "      <th>Deaths</th>\n",
       "    </tr>\n",
       "  </thead>\n",
       "  <tbody>\n",
       "    <tr>\n",
       "      <th>756</th>\n",
       "      <td>Brunei</td>\n",
       "      <td>1990</td>\n",
       "      <td>Under 5</td>\n",
       "      <td>0.0</td>\n",
       "    </tr>\n",
       "    <tr>\n",
       "      <th>757</th>\n",
       "      <td>Brunei</td>\n",
       "      <td>1991</td>\n",
       "      <td>Under 5</td>\n",
       "      <td>0.0</td>\n",
       "    </tr>\n",
       "    <tr>\n",
       "      <th>758</th>\n",
       "      <td>Brunei</td>\n",
       "      <td>1992</td>\n",
       "      <td>Under 5</td>\n",
       "      <td>0.0</td>\n",
       "    </tr>\n",
       "    <tr>\n",
       "      <th>759</th>\n",
       "      <td>Brunei</td>\n",
       "      <td>1993</td>\n",
       "      <td>Under 5</td>\n",
       "      <td>0.0</td>\n",
       "    </tr>\n",
       "    <tr>\n",
       "      <th>760</th>\n",
       "      <td>Brunei</td>\n",
       "      <td>1994</td>\n",
       "      <td>Under 5</td>\n",
       "      <td>0.0</td>\n",
       "    </tr>\n",
       "  </tbody>\n",
       "</table>\n",
       "</div>"
      ],
      "text/plain": [
       "     Entity  Year Age_group  Deaths\n",
       "756  Brunei  1990   Under 5     0.0\n",
       "757  Brunei  1991   Under 5     0.0\n",
       "758  Brunei  1992   Under 5     0.0\n",
       "759  Brunei  1993   Under 5     0.0\n",
       "760  Brunei  1994   Under 5     0.0"
      ]
     },
     "execution_count": 7,
     "metadata": {},
     "output_type": "execute_result"
    },
    {
     "data": {
      "text/plain": [
       "(1350, 4)"
      ]
     },
     "execution_count": 7,
     "metadata": {},
     "output_type": "execute_result"
    },
    {
     "name": "stdout",
     "output_type": "stream",
     "text": [
      "asean_country_death_rate_df\n"
     ]
    },
    {
     "data": {
      "text/html": [
       "<div>\n",
       "<style scoped>\n",
       "    .dataframe tbody tr th:only-of-type {\n",
       "        vertical-align: middle;\n",
       "    }\n",
       "\n",
       "    .dataframe tbody tr th {\n",
       "        vertical-align: top;\n",
       "    }\n",
       "\n",
       "    .dataframe thead th {\n",
       "        text-align: right;\n",
       "    }\n",
       "</style>\n",
       "<table border=\"1\" class=\"dataframe\">\n",
       "  <thead>\n",
       "    <tr style=\"text-align: right;\">\n",
       "      <th></th>\n",
       "      <th>Entity</th>\n",
       "      <th>Year</th>\n",
       "      <th>DeathRate_per100K</th>\n",
       "    </tr>\n",
       "  </thead>\n",
       "  <tbody>\n",
       "    <tr>\n",
       "      <th>756</th>\n",
       "      <td>Brunei</td>\n",
       "      <td>1990</td>\n",
       "      <td>0.0</td>\n",
       "    </tr>\n",
       "    <tr>\n",
       "      <th>757</th>\n",
       "      <td>Brunei</td>\n",
       "      <td>1991</td>\n",
       "      <td>0.0</td>\n",
       "    </tr>\n",
       "    <tr>\n",
       "      <th>758</th>\n",
       "      <td>Brunei</td>\n",
       "      <td>1992</td>\n",
       "      <td>0.0</td>\n",
       "    </tr>\n",
       "    <tr>\n",
       "      <th>759</th>\n",
       "      <td>Brunei</td>\n",
       "      <td>1993</td>\n",
       "      <td>0.0</td>\n",
       "    </tr>\n",
       "    <tr>\n",
       "      <th>760</th>\n",
       "      <td>Brunei</td>\n",
       "      <td>1994</td>\n",
       "      <td>0.0</td>\n",
       "    </tr>\n",
       "  </tbody>\n",
       "</table>\n",
       "</div>"
      ],
      "text/plain": [
       "     Entity  Year  DeathRate_per100K\n",
       "756  Brunei  1990                0.0\n",
       "757  Brunei  1991                0.0\n",
       "758  Brunei  1992                0.0\n",
       "759  Brunei  1993                0.0\n",
       "760  Brunei  1994                0.0"
      ]
     },
     "execution_count": 7,
     "metadata": {},
     "output_type": "execute_result"
    },
    {
     "data": {
      "text/plain": [
       "(270, 3)"
      ]
     },
     "execution_count": 7,
     "metadata": {},
     "output_type": "execute_result"
    },
    {
     "name": "stdout",
     "output_type": "stream",
     "text": [
      "asean_country_inc_rate_df\n"
     ]
    },
    {
     "data": {
      "text/html": [
       "<div>\n",
       "<style scoped>\n",
       "    .dataframe tbody tr th:only-of-type {\n",
       "        vertical-align: middle;\n",
       "    }\n",
       "\n",
       "    .dataframe tbody tr th {\n",
       "        vertical-align: top;\n",
       "    }\n",
       "\n",
       "    .dataframe thead th {\n",
       "        text-align: right;\n",
       "    }\n",
       "</style>\n",
       "<table border=\"1\" class=\"dataframe\">\n",
       "  <thead>\n",
       "    <tr style=\"text-align: right;\">\n",
       "      <th></th>\n",
       "      <th>Entity</th>\n",
       "      <th>Year</th>\n",
       "      <th>IncRate_per100K</th>\n",
       "    </tr>\n",
       "  </thead>\n",
       "  <tbody>\n",
       "    <tr>\n",
       "      <th>56</th>\n",
       "      <td>Cambodia</td>\n",
       "      <td>2000</td>\n",
       "      <td>207.0</td>\n",
       "    </tr>\n",
       "    <tr>\n",
       "      <th>57</th>\n",
       "      <td>Cambodia</td>\n",
       "      <td>2005</td>\n",
       "      <td>48.7</td>\n",
       "    </tr>\n",
       "    <tr>\n",
       "      <th>58</th>\n",
       "      <td>Cambodia</td>\n",
       "      <td>2010</td>\n",
       "      <td>20.5</td>\n",
       "    </tr>\n",
       "    <tr>\n",
       "      <th>59</th>\n",
       "      <td>Cambodia</td>\n",
       "      <td>2015</td>\n",
       "      <td>13.0</td>\n",
       "    </tr>\n",
       "    <tr>\n",
       "      <th>220</th>\n",
       "      <td>Indonesia</td>\n",
       "      <td>2000</td>\n",
       "      <td>99.0</td>\n",
       "    </tr>\n",
       "  </tbody>\n",
       "</table>\n",
       "</div>"
      ],
      "text/plain": [
       "        Entity  Year  IncRate_per100K\n",
       "56    Cambodia  2000            207.0\n",
       "57    Cambodia  2005             48.7\n",
       "58    Cambodia  2010             20.5\n",
       "59    Cambodia  2015             13.0\n",
       "220  Indonesia  2000             99.0"
      ]
     },
     "execution_count": 7,
     "metadata": {},
     "output_type": "execute_result"
    },
    {
     "data": {
      "text/plain": [
       "(32, 3)"
      ]
     },
     "execution_count": 7,
     "metadata": {},
     "output_type": "execute_result"
    }
   ],
   "source": [
    "ASEAN_country_df_ls = []\n",
    "for data in dataframe_ls:\n",
    "    new_name = 'asean_country_'+data\n",
    "    ASEAN_country_df_ls.append(new_name)\n",
    "    \n",
    "    df = globals()[data].copy()\n",
    "    cond = df['Entity'].isin(ASEAN)\n",
    "    df = df.loc[cond,:]\n",
    "    df.drop(columns = ['Entity_type','Code','Continent'],\n",
    "           inplace=True)\n",
    "    \n",
    "    globals()[new_name] = df\n",
    "    \n",
    "    print(new_name)\n",
    "    globals()[new_name].head()\n",
    "    globals()[new_name].shape"
   ]
  },
  {
   "cell_type": "markdown",
   "id": "b04ef7c9-b7ae-4f8b-929c-bbe58fbb8818",
   "metadata": {},
   "source": [
    "### ASEAN(region)"
   ]
  },
  {
   "cell_type": "code",
   "execution_count": 8,
   "id": "29ef5df2-2d23-4f0d-81bf-bcbeffa95b24",
   "metadata": {},
   "outputs": [
    {
     "name": "stdout",
     "output_type": "stream",
     "text": [
      "asean_region_age_grp_death_df\n"
     ]
    },
    {
     "data": {
      "text/html": [
       "<div>\n",
       "<style scoped>\n",
       "    .dataframe tbody tr th:only-of-type {\n",
       "        vertical-align: middle;\n",
       "    }\n",
       "\n",
       "    .dataframe tbody tr th {\n",
       "        vertical-align: top;\n",
       "    }\n",
       "\n",
       "    .dataframe thead th {\n",
       "        text-align: right;\n",
       "    }\n",
       "</style>\n",
       "<table border=\"1\" class=\"dataframe\">\n",
       "  <thead>\n",
       "    <tr style=\"text-align: right;\">\n",
       "      <th></th>\n",
       "      <th>Entity</th>\n",
       "      <th>Year</th>\n",
       "      <th>Age_group</th>\n",
       "      <th>Deaths</th>\n",
       "    </tr>\n",
       "  </thead>\n",
       "  <tbody>\n",
       "    <tr>\n",
       "      <th>0</th>\n",
       "      <td>ASEAN</td>\n",
       "      <td>1990</td>\n",
       "      <td>15-49</td>\n",
       "      <td>8859.637155</td>\n",
       "    </tr>\n",
       "    <tr>\n",
       "      <th>1</th>\n",
       "      <td>ASEAN</td>\n",
       "      <td>1990</td>\n",
       "      <td>5-14</td>\n",
       "      <td>2082.280655</td>\n",
       "    </tr>\n",
       "    <tr>\n",
       "      <th>2</th>\n",
       "      <td>ASEAN</td>\n",
       "      <td>1990</td>\n",
       "      <td>50-69</td>\n",
       "      <td>2659.586464</td>\n",
       "    </tr>\n",
       "    <tr>\n",
       "      <th>3</th>\n",
       "      <td>ASEAN</td>\n",
       "      <td>1990</td>\n",
       "      <td>70 or older</td>\n",
       "      <td>1380.648862</td>\n",
       "    </tr>\n",
       "    <tr>\n",
       "      <th>4</th>\n",
       "      <td>ASEAN</td>\n",
       "      <td>1990</td>\n",
       "      <td>Under 5</td>\n",
       "      <td>6557.245580</td>\n",
       "    </tr>\n",
       "  </tbody>\n",
       "</table>\n",
       "</div>"
      ],
      "text/plain": [
       "  Entity  Year    Age_group       Deaths\n",
       "0  ASEAN  1990        15-49  8859.637155\n",
       "1  ASEAN  1990         5-14  2082.280655\n",
       "2  ASEAN  1990        50-69  2659.586464\n",
       "3  ASEAN  1990  70 or older  1380.648862\n",
       "4  ASEAN  1990      Under 5  6557.245580"
      ]
     },
     "execution_count": 8,
     "metadata": {},
     "output_type": "execute_result"
    },
    {
     "data": {
      "text/plain": [
       "(135, 4)"
      ]
     },
     "execution_count": 8,
     "metadata": {},
     "output_type": "execute_result"
    },
    {
     "name": "stdout",
     "output_type": "stream",
     "text": [
      "asean_region_death_rate_df\n"
     ]
    },
    {
     "data": {
      "text/html": [
       "<div>\n",
       "<style scoped>\n",
       "    .dataframe tbody tr th:only-of-type {\n",
       "        vertical-align: middle;\n",
       "    }\n",
       "\n",
       "    .dataframe tbody tr th {\n",
       "        vertical-align: top;\n",
       "    }\n",
       "\n",
       "    .dataframe thead th {\n",
       "        text-align: right;\n",
       "    }\n",
       "</style>\n",
       "<table border=\"1\" class=\"dataframe\">\n",
       "  <thead>\n",
       "    <tr style=\"text-align: right;\">\n",
       "      <th></th>\n",
       "      <th>Entity</th>\n",
       "      <th>Year</th>\n",
       "      <th>DeathRate_per100K</th>\n",
       "    </tr>\n",
       "  </thead>\n",
       "  <tbody>\n",
       "    <tr>\n",
       "      <th>0</th>\n",
       "      <td>ASEAN</td>\n",
       "      <td>1990</td>\n",
       "      <td>6.243188</td>\n",
       "    </tr>\n",
       "    <tr>\n",
       "      <th>1</th>\n",
       "      <td>ASEAN</td>\n",
       "      <td>1991</td>\n",
       "      <td>6.099458</td>\n",
       "    </tr>\n",
       "    <tr>\n",
       "      <th>2</th>\n",
       "      <td>ASEAN</td>\n",
       "      <td>1992</td>\n",
       "      <td>5.828439</td>\n",
       "    </tr>\n",
       "    <tr>\n",
       "      <th>3</th>\n",
       "      <td>ASEAN</td>\n",
       "      <td>1993</td>\n",
       "      <td>5.706938</td>\n",
       "    </tr>\n",
       "    <tr>\n",
       "      <th>4</th>\n",
       "      <td>ASEAN</td>\n",
       "      <td>1994</td>\n",
       "      <td>5.477794</td>\n",
       "    </tr>\n",
       "  </tbody>\n",
       "</table>\n",
       "</div>"
      ],
      "text/plain": [
       "  Entity  Year  DeathRate_per100K\n",
       "0  ASEAN  1990           6.243188\n",
       "1  ASEAN  1991           6.099458\n",
       "2  ASEAN  1992           5.828439\n",
       "3  ASEAN  1993           5.706938\n",
       "4  ASEAN  1994           5.477794"
      ]
     },
     "execution_count": 8,
     "metadata": {},
     "output_type": "execute_result"
    },
    {
     "data": {
      "text/plain": [
       "(27, 3)"
      ]
     },
     "execution_count": 8,
     "metadata": {},
     "output_type": "execute_result"
    },
    {
     "name": "stdout",
     "output_type": "stream",
     "text": [
      "asean_region_inc_rate_df\n"
     ]
    },
    {
     "data": {
      "text/html": [
       "<div>\n",
       "<style scoped>\n",
       "    .dataframe tbody tr th:only-of-type {\n",
       "        vertical-align: middle;\n",
       "    }\n",
       "\n",
       "    .dataframe tbody tr th {\n",
       "        vertical-align: top;\n",
       "    }\n",
       "\n",
       "    .dataframe thead th {\n",
       "        text-align: right;\n",
       "    }\n",
       "</style>\n",
       "<table border=\"1\" class=\"dataframe\">\n",
       "  <thead>\n",
       "    <tr style=\"text-align: right;\">\n",
       "      <th></th>\n",
       "      <th>Entity</th>\n",
       "      <th>Year</th>\n",
       "      <th>IncRate_per100K</th>\n",
       "    </tr>\n",
       "  </thead>\n",
       "  <tbody>\n",
       "    <tr>\n",
       "      <th>0</th>\n",
       "      <td>ASEAN</td>\n",
       "      <td>2000</td>\n",
       "      <td>62.5750</td>\n",
       "    </tr>\n",
       "    <tr>\n",
       "      <th>1</th>\n",
       "      <td>ASEAN</td>\n",
       "      <td>2005</td>\n",
       "      <td>34.8250</td>\n",
       "    </tr>\n",
       "    <tr>\n",
       "      <th>2</th>\n",
       "      <td>ASEAN</td>\n",
       "      <td>2010</td>\n",
       "      <td>32.7875</td>\n",
       "    </tr>\n",
       "    <tr>\n",
       "      <th>3</th>\n",
       "      <td>ASEAN</td>\n",
       "      <td>2015</td>\n",
       "      <td>9.6375</td>\n",
       "    </tr>\n",
       "  </tbody>\n",
       "</table>\n",
       "</div>"
      ],
      "text/plain": [
       "  Entity  Year  IncRate_per100K\n",
       "0  ASEAN  2000          62.5750\n",
       "1  ASEAN  2005          34.8250\n",
       "2  ASEAN  2010          32.7875\n",
       "3  ASEAN  2015           9.6375"
      ]
     },
     "execution_count": 8,
     "metadata": {},
     "output_type": "execute_result"
    },
    {
     "data": {
      "text/plain": [
       "(4, 3)"
      ]
     },
     "execution_count": 8,
     "metadata": {},
     "output_type": "execute_result"
    }
   ],
   "source": [
    "ASEAN_df_ls = []\n",
    "for data in dataframe_ls:\n",
    "    new_name = 'asean_region_'+data\n",
    "    ASEAN_df_ls.append(new_name)\n",
    "    \n",
    "    df = globals()[data].copy()\n",
    "    cond = df['Entity'].isin(ASEAN)\n",
    "    df = df.loc[cond,:]\n",
    "    df.drop(columns = ['Entity_type','Code','Continent'],\n",
    "           inplace=True)\n",
    "    last_col = df.columns.tolist()[-1]\n",
    "    if last_col == 'Deaths':\n",
    "        df = df.groupby(['Year','Age_group'])[last_col].sum().reset_index()\n",
    "    else:\n",
    "        df = df.groupby('Year')[last_col].mean().reset_index()\n",
    "        \n",
    "    df.reset_index(inplace=True)\n",
    "    df.rename(columns = {'index':'Entity'}, inplace = True)\n",
    "    df['Entity'] = \"ASEAN\"\n",
    "    globals()[new_name] = df\n",
    "    \n",
    "    print(new_name)\n",
    "    globals()[new_name].head()\n",
    "    globals()[new_name].shape"
   ]
  },
  {
   "cell_type": "code",
   "execution_count": 9,
   "id": "17004d95-c577-4465-a025-bcd5319d9455",
   "metadata": {},
   "outputs": [
    {
     "data": {
      "text/plain": [
       "True"
      ]
     },
     "execution_count": 9,
     "metadata": {},
     "output_type": "execute_result"
    },
    {
     "data": {
      "text/plain": [
       "True"
      ]
     },
     "execution_count": 9,
     "metadata": {},
     "output_type": "execute_result"
    },
    {
     "data": {
      "text/plain": [
       "True"
      ]
     },
     "execution_count": 9,
     "metadata": {},
     "output_type": "execute_result"
    }
   ],
   "source": [
    "asean_region_age_grp_death_df['Deaths'].sum() == asean_country_age_grp_death_df['Deaths'].sum()\n",
    "asean_region_death_rate_df['DeathRate_per100K'].mean() == asean_country_death_rate_df['DeathRate_per100K'].mean()\n",
    "asean_region_inc_rate_df['IncRate_per100K'].mean() == asean_country_inc_rate_df['IncRate_per100K'].mean()"
   ]
  },
  {
   "cell_type": "markdown",
   "id": "5c75b03a-beee-4ced-a672-029ebb0d0cbb",
   "metadata": {},
   "source": [
    "### WORLD"
   ]
  },
  {
   "cell_type": "code",
   "execution_count": 10,
   "id": "9069123f-8e80-4776-8590-cea464a864da",
   "metadata": {},
   "outputs": [
    {
     "name": "stdout",
     "output_type": "stream",
     "text": [
      "World_age_grp_death_df\n"
     ]
    },
    {
     "data": {
      "text/html": [
       "<div>\n",
       "<style scoped>\n",
       "    .dataframe tbody tr th:only-of-type {\n",
       "        vertical-align: middle;\n",
       "    }\n",
       "\n",
       "    .dataframe tbody tr th {\n",
       "        vertical-align: top;\n",
       "    }\n",
       "\n",
       "    .dataframe thead th {\n",
       "        text-align: right;\n",
       "    }\n",
       "</style>\n",
       "<table border=\"1\" class=\"dataframe\">\n",
       "  <thead>\n",
       "    <tr style=\"text-align: right;\">\n",
       "      <th></th>\n",
       "      <th>Entity</th>\n",
       "      <th>Year</th>\n",
       "      <th>Age_group</th>\n",
       "      <th>Deaths</th>\n",
       "    </tr>\n",
       "  </thead>\n",
       "  <tbody>\n",
       "    <tr>\n",
       "      <th>6048</th>\n",
       "      <td>World</td>\n",
       "      <td>1990</td>\n",
       "      <td>Under 5</td>\n",
       "      <td>586161.122620</td>\n",
       "    </tr>\n",
       "    <tr>\n",
       "      <th>6049</th>\n",
       "      <td>World</td>\n",
       "      <td>1991</td>\n",
       "      <td>Under 5</td>\n",
       "      <td>602734.287725</td>\n",
       "    </tr>\n",
       "    <tr>\n",
       "      <th>6050</th>\n",
       "      <td>World</td>\n",
       "      <td>1992</td>\n",
       "      <td>Under 5</td>\n",
       "      <td>612688.202533</td>\n",
       "    </tr>\n",
       "    <tr>\n",
       "      <th>6051</th>\n",
       "      <td>World</td>\n",
       "      <td>1993</td>\n",
       "      <td>Under 5</td>\n",
       "      <td>626224.692402</td>\n",
       "    </tr>\n",
       "    <tr>\n",
       "      <th>6052</th>\n",
       "      <td>World</td>\n",
       "      <td>1994</td>\n",
       "      <td>Under 5</td>\n",
       "      <td>636119.462322</td>\n",
       "    </tr>\n",
       "  </tbody>\n",
       "</table>\n",
       "</div>"
      ],
      "text/plain": [
       "     Entity  Year Age_group         Deaths\n",
       "6048  World  1990   Under 5  586161.122620\n",
       "6049  World  1991   Under 5  602734.287725\n",
       "6050  World  1992   Under 5  612688.202533\n",
       "6051  World  1993   Under 5  626224.692402\n",
       "6052  World  1994   Under 5  636119.462322"
      ]
     },
     "execution_count": 10,
     "metadata": {},
     "output_type": "execute_result"
    },
    {
     "data": {
      "text/plain": [
       "(135, 4)"
      ]
     },
     "execution_count": 10,
     "metadata": {},
     "output_type": "execute_result"
    },
    {
     "name": "stdout",
     "output_type": "stream",
     "text": [
      "World_death_rate_df\n"
     ]
    },
    {
     "data": {
      "text/html": [
       "<div>\n",
       "<style scoped>\n",
       "    .dataframe tbody tr th:only-of-type {\n",
       "        vertical-align: middle;\n",
       "    }\n",
       "\n",
       "    .dataframe tbody tr th {\n",
       "        vertical-align: top;\n",
       "    }\n",
       "\n",
       "    .dataframe thead th {\n",
       "        text-align: right;\n",
       "    }\n",
       "</style>\n",
       "<table border=\"1\" class=\"dataframe\">\n",
       "  <thead>\n",
       "    <tr style=\"text-align: right;\">\n",
       "      <th></th>\n",
       "      <th>Entity</th>\n",
       "      <th>Year</th>\n",
       "      <th>DeathRate_per100K</th>\n",
       "    </tr>\n",
       "  </thead>\n",
       "  <tbody>\n",
       "    <tr>\n",
       "      <th>6048</th>\n",
       "      <td>World</td>\n",
       "      <td>1990</td>\n",
       "      <td>11.991974</td>\n",
       "    </tr>\n",
       "    <tr>\n",
       "      <th>6049</th>\n",
       "      <td>World</td>\n",
       "      <td>1991</td>\n",
       "      <td>12.304085</td>\n",
       "    </tr>\n",
       "    <tr>\n",
       "      <th>6050</th>\n",
       "      <td>World</td>\n",
       "      <td>1992</td>\n",
       "      <td>12.462722</td>\n",
       "    </tr>\n",
       "    <tr>\n",
       "      <th>6051</th>\n",
       "      <td>World</td>\n",
       "      <td>1993</td>\n",
       "      <td>12.743795</td>\n",
       "    </tr>\n",
       "    <tr>\n",
       "      <th>6052</th>\n",
       "      <td>World</td>\n",
       "      <td>1994</td>\n",
       "      <td>12.951607</td>\n",
       "    </tr>\n",
       "  </tbody>\n",
       "</table>\n",
       "</div>"
      ],
      "text/plain": [
       "     Entity  Year  DeathRate_per100K\n",
       "6048  World  1990          11.991974\n",
       "6049  World  1991          12.304085\n",
       "6050  World  1992          12.462722\n",
       "6051  World  1993          12.743795\n",
       "6052  World  1994          12.951607"
      ]
     },
     "execution_count": 10,
     "metadata": {},
     "output_type": "execute_result"
    },
    {
     "data": {
      "text/plain": [
       "(27, 3)"
      ]
     },
     "execution_count": 10,
     "metadata": {},
     "output_type": "execute_result"
    },
    {
     "name": "stdout",
     "output_type": "stream",
     "text": [
      "World_inc_rate_df\n"
     ]
    },
    {
     "data": {
      "text/html": [
       "<div>\n",
       "<style scoped>\n",
       "    .dataframe tbody tr th:only-of-type {\n",
       "        vertical-align: middle;\n",
       "    }\n",
       "\n",
       "    .dataframe tbody tr th {\n",
       "        vertical-align: top;\n",
       "    }\n",
       "\n",
       "    .dataframe thead th {\n",
       "        text-align: right;\n",
       "    }\n",
       "</style>\n",
       "<table border=\"1\" class=\"dataframe\">\n",
       "  <thead>\n",
       "    <tr style=\"text-align: right;\">\n",
       "      <th></th>\n",
       "      <th>Entity</th>\n",
       "      <th>Year</th>\n",
       "      <th>IncRate_per100K</th>\n",
       "    </tr>\n",
       "  </thead>\n",
       "  <tbody>\n",
       "    <tr>\n",
       "      <th>492</th>\n",
       "      <td>World</td>\n",
       "      <td>2000</td>\n",
       "      <td>158.124351</td>\n",
       "    </tr>\n",
       "    <tr>\n",
       "      <th>493</th>\n",
       "      <td>World</td>\n",
       "      <td>2005</td>\n",
       "      <td>141.256696</td>\n",
       "    </tr>\n",
       "    <tr>\n",
       "      <th>494</th>\n",
       "      <td>World</td>\n",
       "      <td>2010</td>\n",
       "      <td>118.740388</td>\n",
       "    </tr>\n",
       "    <tr>\n",
       "      <th>495</th>\n",
       "      <td>World</td>\n",
       "      <td>2015</td>\n",
       "      <td>93.956287</td>\n",
       "    </tr>\n",
       "  </tbody>\n",
       "</table>\n",
       "</div>"
      ],
      "text/plain": [
       "    Entity  Year  IncRate_per100K\n",
       "492  World  2000       158.124351\n",
       "493  World  2005       141.256696\n",
       "494  World  2010       118.740388\n",
       "495  World  2015        93.956287"
      ]
     },
     "execution_count": 10,
     "metadata": {},
     "output_type": "execute_result"
    },
    {
     "data": {
      "text/plain": [
       "(4, 3)"
      ]
     },
     "execution_count": 10,
     "metadata": {},
     "output_type": "execute_result"
    }
   ],
   "source": [
    "World_df_ls = []\n",
    "for data in dataframe_ls:\n",
    "    new_name = 'World_'+data\n",
    "    World_df_ls.append(new_name)\n",
    "    \n",
    "    df = globals()[data].copy()\n",
    "    cond = df['Entity'] == 'World'\n",
    "    df = df.loc[cond,:]\n",
    "    df.drop(columns = ['Entity_type','Code','Continent'],\n",
    "           inplace=True)\n",
    "    globals()[new_name] = df\n",
    "    \n",
    "    print(new_name)\n",
    "    globals()[new_name].head()\n",
    "    globals()[new_name].shape"
   ]
  },
  {
   "cell_type": "code",
   "execution_count": 11,
   "id": "545db9a5-ee5c-4a18-a9c5-acd25d9d1652",
   "metadata": {},
   "outputs": [
    {
     "data": {
      "text/plain": [
       "True"
      ]
     },
     "execution_count": 11,
     "metadata": {},
     "output_type": "execute_result"
    },
    {
     "data": {
      "text/plain": [
       "True"
      ]
     },
     "execution_count": 11,
     "metadata": {},
     "output_type": "execute_result"
    },
    {
     "data": {
      "text/plain": [
       "True"
      ]
     },
     "execution_count": 11,
     "metadata": {},
     "output_type": "execute_result"
    }
   ],
   "source": [
    "World_age_grp_death_df['Deaths'].sum() == age_grp_death_df.loc[age_grp_death_df['Entity'] == 'World','Deaths'].sum()\n",
    "World_death_rate_df['DeathRate_per100K'].mean() == death_rate_df.loc[death_rate_df['Entity'] == 'World','DeathRate_per100K'].mean()\n",
    "World_inc_rate_df['IncRate_per100K'].mean() == inc_rate_df.loc[inc_rate_df['Entity'] == 'World','IncRate_per100K'].mean()"
   ]
  },
  {
   "cell_type": "markdown",
   "id": "ecab42b6-614f-4096-ae00-4a83cda9f966",
   "metadata": {},
   "source": [
    "### AS, AF"
   ]
  },
  {
   "cell_type": "code",
   "execution_count": 12,
   "id": "60aa2fb3-3176-4def-94c7-b4f72e3f096a",
   "metadata": {},
   "outputs": [
    {
     "name": "stdout",
     "output_type": "stream",
     "text": [
      "AF_df_ls:\n",
      "AF_age_grp_death_df\n"
     ]
    },
    {
     "data": {
      "text/html": [
       "<div>\n",
       "<style scoped>\n",
       "    .dataframe tbody tr th:only-of-type {\n",
       "        vertical-align: middle;\n",
       "    }\n",
       "\n",
       "    .dataframe tbody tr th {\n",
       "        vertical-align: top;\n",
       "    }\n",
       "\n",
       "    .dataframe thead th {\n",
       "        text-align: right;\n",
       "    }\n",
       "</style>\n",
       "<table border=\"1\" class=\"dataframe\">\n",
       "  <thead>\n",
       "    <tr style=\"text-align: right;\">\n",
       "      <th></th>\n",
       "      <th>Entity</th>\n",
       "      <th>Year</th>\n",
       "      <th>Age_group</th>\n",
       "      <th>Deaths</th>\n",
       "    </tr>\n",
       "  </thead>\n",
       "  <tbody>\n",
       "    <tr>\n",
       "      <th>0</th>\n",
       "      <td>AF</td>\n",
       "      <td>1990</td>\n",
       "      <td>15-49</td>\n",
       "      <td>28519.604501</td>\n",
       "    </tr>\n",
       "    <tr>\n",
       "      <th>1</th>\n",
       "      <td>AF</td>\n",
       "      <td>1990</td>\n",
       "      <td>5-14</td>\n",
       "      <td>44163.339059</td>\n",
       "    </tr>\n",
       "    <tr>\n",
       "      <th>2</th>\n",
       "      <td>AF</td>\n",
       "      <td>1990</td>\n",
       "      <td>50-69</td>\n",
       "      <td>20067.975092</td>\n",
       "    </tr>\n",
       "    <tr>\n",
       "      <th>3</th>\n",
       "      <td>AF</td>\n",
       "      <td>1990</td>\n",
       "      <td>70 or older</td>\n",
       "      <td>12018.403985</td>\n",
       "    </tr>\n",
       "    <tr>\n",
       "      <th>4</th>\n",
       "      <td>AF</td>\n",
       "      <td>1990</td>\n",
       "      <td>Under 5</td>\n",
       "      <td>532346.518948</td>\n",
       "    </tr>\n",
       "  </tbody>\n",
       "</table>\n",
       "</div>"
      ],
      "text/plain": [
       "  Entity  Year    Age_group         Deaths\n",
       "0     AF  1990        15-49   28519.604501\n",
       "1     AF  1990         5-14   44163.339059\n",
       "2     AF  1990        50-69   20067.975092\n",
       "3     AF  1990  70 or older   12018.403985\n",
       "4     AF  1990      Under 5  532346.518948"
      ]
     },
     "execution_count": 12,
     "metadata": {},
     "output_type": "execute_result"
    },
    {
     "data": {
      "text/plain": [
       "(135, 4)"
      ]
     },
     "execution_count": 12,
     "metadata": {},
     "output_type": "execute_result"
    },
    {
     "name": "stdout",
     "output_type": "stream",
     "text": [
      "AF_death_rate_df\n"
     ]
    },
    {
     "data": {
      "text/html": [
       "<div>\n",
       "<style scoped>\n",
       "    .dataframe tbody tr th:only-of-type {\n",
       "        vertical-align: middle;\n",
       "    }\n",
       "\n",
       "    .dataframe tbody tr th {\n",
       "        vertical-align: top;\n",
       "    }\n",
       "\n",
       "    .dataframe thead th {\n",
       "        text-align: right;\n",
       "    }\n",
       "</style>\n",
       "<table border=\"1\" class=\"dataframe\">\n",
       "  <thead>\n",
       "    <tr style=\"text-align: right;\">\n",
       "      <th></th>\n",
       "      <th>Entity</th>\n",
       "      <th>Year</th>\n",
       "      <th>DeathRate_per100K</th>\n",
       "    </tr>\n",
       "  </thead>\n",
       "  <tbody>\n",
       "    <tr>\n",
       "      <th>0</th>\n",
       "      <td>AF</td>\n",
       "      <td>1990</td>\n",
       "      <td>58.767830</td>\n",
       "    </tr>\n",
       "    <tr>\n",
       "      <th>1</th>\n",
       "      <td>AF</td>\n",
       "      <td>1991</td>\n",
       "      <td>59.958646</td>\n",
       "    </tr>\n",
       "    <tr>\n",
       "      <th>2</th>\n",
       "      <td>AF</td>\n",
       "      <td>1992</td>\n",
       "      <td>60.098231</td>\n",
       "    </tr>\n",
       "    <tr>\n",
       "      <th>3</th>\n",
       "      <td>AF</td>\n",
       "      <td>1993</td>\n",
       "      <td>60.780857</td>\n",
       "    </tr>\n",
       "    <tr>\n",
       "      <th>4</th>\n",
       "      <td>AF</td>\n",
       "      <td>1994</td>\n",
       "      <td>61.304546</td>\n",
       "    </tr>\n",
       "  </tbody>\n",
       "</table>\n",
       "</div>"
      ],
      "text/plain": [
       "  Entity  Year  DeathRate_per100K\n",
       "0     AF  1990          58.767830\n",
       "1     AF  1991          59.958646\n",
       "2     AF  1992          60.098231\n",
       "3     AF  1993          60.780857\n",
       "4     AF  1994          61.304546"
      ]
     },
     "execution_count": 12,
     "metadata": {},
     "output_type": "execute_result"
    },
    {
     "data": {
      "text/plain": [
       "(27, 3)"
      ]
     },
     "execution_count": 12,
     "metadata": {},
     "output_type": "execute_result"
    },
    {
     "name": "stdout",
     "output_type": "stream",
     "text": [
      "AF_inc_rate_df\n"
     ]
    },
    {
     "data": {
      "text/html": [
       "<div>\n",
       "<style scoped>\n",
       "    .dataframe tbody tr th:only-of-type {\n",
       "        vertical-align: middle;\n",
       "    }\n",
       "\n",
       "    .dataframe tbody tr th {\n",
       "        vertical-align: top;\n",
       "    }\n",
       "\n",
       "    .dataframe thead th {\n",
       "        text-align: right;\n",
       "    }\n",
       "</style>\n",
       "<table border=\"1\" class=\"dataframe\">\n",
       "  <thead>\n",
       "    <tr style=\"text-align: right;\">\n",
       "      <th></th>\n",
       "      <th>Entity</th>\n",
       "      <th>Year</th>\n",
       "      <th>IncRate_per100K</th>\n",
       "    </tr>\n",
       "  </thead>\n",
       "  <tbody>\n",
       "    <tr>\n",
       "      <th>0</th>\n",
       "      <td>AF</td>\n",
       "      <td>2000</td>\n",
       "      <td>323.941229</td>\n",
       "    </tr>\n",
       "    <tr>\n",
       "      <th>1</th>\n",
       "      <td>AF</td>\n",
       "      <td>2005</td>\n",
       "      <td>267.446852</td>\n",
       "    </tr>\n",
       "    <tr>\n",
       "      <th>2</th>\n",
       "      <td>AF</td>\n",
       "      <td>2010</td>\n",
       "      <td>215.629814</td>\n",
       "    </tr>\n",
       "    <tr>\n",
       "      <th>3</th>\n",
       "      <td>AF</td>\n",
       "      <td>2015</td>\n",
       "      <td>173.338338</td>\n",
       "    </tr>\n",
       "  </tbody>\n",
       "</table>\n",
       "</div>"
      ],
      "text/plain": [
       "  Entity  Year  IncRate_per100K\n",
       "0     AF  2000       323.941229\n",
       "1     AF  2005       267.446852\n",
       "2     AF  2010       215.629814\n",
       "3     AF  2015       173.338338"
      ]
     },
     "execution_count": 12,
     "metadata": {},
     "output_type": "execute_result"
    },
    {
     "data": {
      "text/plain": [
       "(4, 3)"
      ]
     },
     "execution_count": 12,
     "metadata": {},
     "output_type": "execute_result"
    },
    {
     "name": "stdout",
     "output_type": "stream",
     "text": [
      "AS_df_ls:\n",
      "AS_age_grp_death_df\n"
     ]
    },
    {
     "data": {
      "text/html": [
       "<div>\n",
       "<style scoped>\n",
       "    .dataframe tbody tr th:only-of-type {\n",
       "        vertical-align: middle;\n",
       "    }\n",
       "\n",
       "    .dataframe tbody tr th {\n",
       "        vertical-align: top;\n",
       "    }\n",
       "\n",
       "    .dataframe thead th {\n",
       "        text-align: right;\n",
       "    }\n",
       "</style>\n",
       "<table border=\"1\" class=\"dataframe\">\n",
       "  <thead>\n",
       "    <tr style=\"text-align: right;\">\n",
       "      <th></th>\n",
       "      <th>Entity</th>\n",
       "      <th>Year</th>\n",
       "      <th>Age_group</th>\n",
       "      <th>Deaths</th>\n",
       "    </tr>\n",
       "  </thead>\n",
       "  <tbody>\n",
       "    <tr>\n",
       "      <th>0</th>\n",
       "      <td>AS</td>\n",
       "      <td>1990</td>\n",
       "      <td>15-49</td>\n",
       "      <td>18898.481479</td>\n",
       "    </tr>\n",
       "    <tr>\n",
       "      <th>1</th>\n",
       "      <td>AS</td>\n",
       "      <td>1990</td>\n",
       "      <td>5-14</td>\n",
       "      <td>24276.327573</td>\n",
       "    </tr>\n",
       "    <tr>\n",
       "      <th>2</th>\n",
       "      <td>AS</td>\n",
       "      <td>1990</td>\n",
       "      <td>50-69</td>\n",
       "      <td>7415.179749</td>\n",
       "    </tr>\n",
       "    <tr>\n",
       "      <th>3</th>\n",
       "      <td>AS</td>\n",
       "      <td>1990</td>\n",
       "      <td>70 or older</td>\n",
       "      <td>3003.647088</td>\n",
       "    </tr>\n",
       "    <tr>\n",
       "      <th>4</th>\n",
       "      <td>AS</td>\n",
       "      <td>1990</td>\n",
       "      <td>Under 5</td>\n",
       "      <td>53002.044063</td>\n",
       "    </tr>\n",
       "  </tbody>\n",
       "</table>\n",
       "</div>"
      ],
      "text/plain": [
       "  Entity  Year    Age_group        Deaths\n",
       "0     AS  1990        15-49  18898.481479\n",
       "1     AS  1990         5-14  24276.327573\n",
       "2     AS  1990        50-69   7415.179749\n",
       "3     AS  1990  70 or older   3003.647088\n",
       "4     AS  1990      Under 5  53002.044063"
      ]
     },
     "execution_count": 12,
     "metadata": {},
     "output_type": "execute_result"
    },
    {
     "data": {
      "text/plain": [
       "(135, 4)"
      ]
     },
     "execution_count": 12,
     "metadata": {},
     "output_type": "execute_result"
    },
    {
     "name": "stdout",
     "output_type": "stream",
     "text": [
      "AS_death_rate_df\n"
     ]
    },
    {
     "data": {
      "text/html": [
       "<div>\n",
       "<style scoped>\n",
       "    .dataframe tbody tr th:only-of-type {\n",
       "        vertical-align: middle;\n",
       "    }\n",
       "\n",
       "    .dataframe tbody tr th {\n",
       "        vertical-align: top;\n",
       "    }\n",
       "\n",
       "    .dataframe thead th {\n",
       "        text-align: right;\n",
       "    }\n",
       "</style>\n",
       "<table border=\"1\" class=\"dataframe\">\n",
       "  <thead>\n",
       "    <tr style=\"text-align: right;\">\n",
       "      <th></th>\n",
       "      <th>Entity</th>\n",
       "      <th>Year</th>\n",
       "      <th>DeathRate_per100K</th>\n",
       "    </tr>\n",
       "  </thead>\n",
       "  <tbody>\n",
       "    <tr>\n",
       "      <th>0</th>\n",
       "      <td>AS</td>\n",
       "      <td>1990</td>\n",
       "      <td>2.096602</td>\n",
       "    </tr>\n",
       "    <tr>\n",
       "      <th>1</th>\n",
       "      <td>AS</td>\n",
       "      <td>1991</td>\n",
       "      <td>2.135632</td>\n",
       "    </tr>\n",
       "    <tr>\n",
       "      <th>2</th>\n",
       "      <td>AS</td>\n",
       "      <td>1992</td>\n",
       "      <td>2.076787</td>\n",
       "    </tr>\n",
       "    <tr>\n",
       "      <th>3</th>\n",
       "      <td>AS</td>\n",
       "      <td>1993</td>\n",
       "      <td>2.034241</td>\n",
       "    </tr>\n",
       "    <tr>\n",
       "      <th>4</th>\n",
       "      <td>AS</td>\n",
       "      <td>1994</td>\n",
       "      <td>1.960534</td>\n",
       "    </tr>\n",
       "  </tbody>\n",
       "</table>\n",
       "</div>"
      ],
      "text/plain": [
       "  Entity  Year  DeathRate_per100K\n",
       "0     AS  1990           2.096602\n",
       "1     AS  1991           2.135632\n",
       "2     AS  1992           2.076787\n",
       "3     AS  1993           2.034241\n",
       "4     AS  1994           1.960534"
      ]
     },
     "execution_count": 12,
     "metadata": {},
     "output_type": "execute_result"
    },
    {
     "data": {
      "text/plain": [
       "(27, 3)"
      ]
     },
     "execution_count": 12,
     "metadata": {},
     "output_type": "execute_result"
    },
    {
     "name": "stdout",
     "output_type": "stream",
     "text": [
      "AS_inc_rate_df\n"
     ]
    },
    {
     "data": {
      "text/html": [
       "<div>\n",
       "<style scoped>\n",
       "    .dataframe tbody tr th:only-of-type {\n",
       "        vertical-align: middle;\n",
       "    }\n",
       "\n",
       "    .dataframe tbody tr th {\n",
       "        vertical-align: top;\n",
       "    }\n",
       "\n",
       "    .dataframe thead th {\n",
       "        text-align: right;\n",
       "    }\n",
       "</style>\n",
       "<table border=\"1\" class=\"dataframe\">\n",
       "  <thead>\n",
       "    <tr style=\"text-align: right;\">\n",
       "      <th></th>\n",
       "      <th>Entity</th>\n",
       "      <th>Year</th>\n",
       "      <th>IncRate_per100K</th>\n",
       "    </tr>\n",
       "  </thead>\n",
       "  <tbody>\n",
       "    <tr>\n",
       "      <th>0</th>\n",
       "      <td>AS</td>\n",
       "      <td>2000</td>\n",
       "      <td>100.425000</td>\n",
       "    </tr>\n",
       "    <tr>\n",
       "      <th>1</th>\n",
       "      <td>AS</td>\n",
       "      <td>2005</td>\n",
       "      <td>35.108120</td>\n",
       "    </tr>\n",
       "    <tr>\n",
       "      <th>2</th>\n",
       "      <td>AS</td>\n",
       "      <td>2010</td>\n",
       "      <td>14.330320</td>\n",
       "    </tr>\n",
       "    <tr>\n",
       "      <th>3</th>\n",
       "      <td>AS</td>\n",
       "      <td>2015</td>\n",
       "      <td>5.596434</td>\n",
       "    </tr>\n",
       "  </tbody>\n",
       "</table>\n",
       "</div>"
      ],
      "text/plain": [
       "  Entity  Year  IncRate_per100K\n",
       "0     AS  2000       100.425000\n",
       "1     AS  2005        35.108120\n",
       "2     AS  2010        14.330320\n",
       "3     AS  2015         5.596434"
      ]
     },
     "execution_count": 12,
     "metadata": {},
     "output_type": "execute_result"
    },
    {
     "data": {
      "text/plain": [
       "(4, 3)"
      ]
     },
     "execution_count": 12,
     "metadata": {},
     "output_type": "execute_result"
    }
   ],
   "source": [
    "for continent in ['AF','AS']:\n",
    "    ls_name = continent+'_df_ls'\n",
    "    print(ls_name+':')\n",
    "    globals()[ls_name] = []\n",
    "    \n",
    "    for data in dataframe_ls:\n",
    "        new_name = continent+'_'+data\n",
    "        globals()[ls_name].append(new_name)\n",
    "\n",
    "        df = globals()[data].copy()\n",
    "        cond = df['Continent']==continent\n",
    "        df = df.loc[cond,:]\n",
    "        \n",
    "        df.drop(columns = ['Entity_type','Code','Continent'],\n",
    "               inplace=True)\n",
    "        \n",
    "        last_col = df.columns.tolist()[-1]\n",
    "        if last_col == 'Deaths':\n",
    "            df = df.groupby(['Year','Age_group'])[last_col].sum().reset_index()\n",
    "        else:\n",
    "            df = df.groupby('Year')[last_col].mean().reset_index()\n",
    "\n",
    "        df.reset_index(inplace=True)\n",
    "        df.rename(columns = {'index':'Entity'}, inplace = True)\n",
    "        df['Entity'] = continent\n",
    "\n",
    "        globals()[new_name] = df\n",
    "\n",
    "        print(new_name)\n",
    "        globals()[new_name].head()\n",
    "        globals()[new_name].shape"
   ]
  },
  {
   "cell_type": "code",
   "execution_count": 13,
   "id": "f9b877db-b916-48bf-b13d-7d28f484d8c8",
   "metadata": {},
   "outputs": [
    {
     "data": {
      "text/plain": [
       "True"
      ]
     },
     "execution_count": 13,
     "metadata": {},
     "output_type": "execute_result"
    },
    {
     "data": {
      "text/plain": [
       "False"
      ]
     },
     "execution_count": 13,
     "metadata": {},
     "output_type": "execute_result"
    },
    {
     "data": {
      "text/plain": [
       "False"
      ]
     },
     "execution_count": 13,
     "metadata": {},
     "output_type": "execute_result"
    }
   ],
   "source": [
    "AF_age_grp_death_df['Deaths'].sum() == age_grp_death_df.loc[age_grp_death_df['Continent'] == 'AF','Deaths'].sum()\n",
    "AF_death_rate_df['DeathRate_per100K'].mean() == death_rate_df.loc[death_rate_df['Continent'] == 'AF','DeathRate_per100K'].mean()\n",
    "AF_inc_rate_df['IncRate_per100K'].mean() == inc_rate_df.loc[inc_rate_df['Continent'] == 'AF','IncRate_per100K'].mean()"
   ]
  },
  {
   "cell_type": "code",
   "execution_count": 14,
   "id": "ee8492cb-d04f-461c-9788-6b9c540ad77c",
   "metadata": {},
   "outputs": [
    {
     "data": {
      "text/plain": [
       "56.66959650849072"
      ]
     },
     "execution_count": 14,
     "metadata": {},
     "output_type": "execute_result"
    },
    {
     "data": {
      "text/plain": [
       "56.66959650849073"
      ]
     },
     "execution_count": 14,
     "metadata": {},
     "output_type": "execute_result"
    }
   ],
   "source": [
    "AF_death_rate_df['DeathRate_per100K'].mean() \n",
    "death_rate_df.loc[death_rate_df['Continent'] == 'AF','DeathRate_per100K'].mean()"
   ]
  },
  {
   "cell_type": "code",
   "execution_count": 15,
   "id": "22f0467e-a66d-43aa-9720-78e9a846f915",
   "metadata": {},
   "outputs": [
    {
     "data": {
      "text/plain": [
       "245.08905821477484"
      ]
     },
     "execution_count": 15,
     "metadata": {},
     "output_type": "execute_result"
    },
    {
     "data": {
      "text/plain": [
       "245.0890582147748"
      ]
     },
     "execution_count": 15,
     "metadata": {},
     "output_type": "execute_result"
    }
   ],
   "source": [
    "AF_inc_rate_df['IncRate_per100K'].mean()\n",
    "inc_rate_df.loc[inc_rate_df['Continent'] == 'AF','IncRate_per100K'].mean()"
   ]
  },
  {
   "cell_type": "markdown",
   "id": "6348371f-953b-4a9c-ba7b-52f541d9ea45",
   "metadata": {},
   "source": [
    "### Combine datasets"
   ]
  },
  {
   "cell_type": "code",
   "execution_count": 16,
   "id": "a0abb3f4-706a-459f-ae1a-d0f77b859ae5",
   "metadata": {},
   "outputs": [
    {
     "name": "stdout",
     "output_type": "stream",
     "text": [
      "Dataframe: focused_age_grp_death_df\n",
      "Size: 1890\n"
     ]
    },
    {
     "data": {
      "text/html": [
       "<div>\n",
       "<style scoped>\n",
       "    .dataframe tbody tr th:only-of-type {\n",
       "        vertical-align: middle;\n",
       "    }\n",
       "\n",
       "    .dataframe tbody tr th {\n",
       "        vertical-align: top;\n",
       "    }\n",
       "\n",
       "    .dataframe thead th {\n",
       "        text-align: right;\n",
       "    }\n",
       "</style>\n",
       "<table border=\"1\" class=\"dataframe\">\n",
       "  <thead>\n",
       "    <tr style=\"text-align: right;\">\n",
       "      <th></th>\n",
       "      <th>Entity</th>\n",
       "      <th>Year</th>\n",
       "      <th>Age_group</th>\n",
       "      <th>Deaths</th>\n",
       "    </tr>\n",
       "  </thead>\n",
       "  <tbody>\n",
       "    <tr>\n",
       "      <th>0</th>\n",
       "      <td>Brunei</td>\n",
       "      <td>1990</td>\n",
       "      <td>Under 5</td>\n",
       "      <td>0.0</td>\n",
       "    </tr>\n",
       "    <tr>\n",
       "      <th>1</th>\n",
       "      <td>Brunei</td>\n",
       "      <td>1991</td>\n",
       "      <td>Under 5</td>\n",
       "      <td>0.0</td>\n",
       "    </tr>\n",
       "    <tr>\n",
       "      <th>2</th>\n",
       "      <td>Brunei</td>\n",
       "      <td>1992</td>\n",
       "      <td>Under 5</td>\n",
       "      <td>0.0</td>\n",
       "    </tr>\n",
       "    <tr>\n",
       "      <th>3</th>\n",
       "      <td>Brunei</td>\n",
       "      <td>1993</td>\n",
       "      <td>Under 5</td>\n",
       "      <td>0.0</td>\n",
       "    </tr>\n",
       "    <tr>\n",
       "      <th>4</th>\n",
       "      <td>Brunei</td>\n",
       "      <td>1994</td>\n",
       "      <td>Under 5</td>\n",
       "      <td>0.0</td>\n",
       "    </tr>\n",
       "  </tbody>\n",
       "</table>\n",
       "</div>"
      ],
      "text/plain": [
       "   Entity  Year Age_group  Deaths\n",
       "0  Brunei  1990   Under 5     0.0\n",
       "1  Brunei  1991   Under 5     0.0\n",
       "2  Brunei  1992   Under 5     0.0\n",
       "3  Brunei  1993   Under 5     0.0\n",
       "4  Brunei  1994   Under 5     0.0"
      ]
     },
     "execution_count": 16,
     "metadata": {},
     "output_type": "execute_result"
    },
    {
     "name": "stdout",
     "output_type": "stream",
     "text": [
      "Dataframe: focused_death_rate_df\n",
      "Size: 378\n"
     ]
    },
    {
     "data": {
      "text/html": [
       "<div>\n",
       "<style scoped>\n",
       "    .dataframe tbody tr th:only-of-type {\n",
       "        vertical-align: middle;\n",
       "    }\n",
       "\n",
       "    .dataframe tbody tr th {\n",
       "        vertical-align: top;\n",
       "    }\n",
       "\n",
       "    .dataframe thead th {\n",
       "        text-align: right;\n",
       "    }\n",
       "</style>\n",
       "<table border=\"1\" class=\"dataframe\">\n",
       "  <thead>\n",
       "    <tr style=\"text-align: right;\">\n",
       "      <th></th>\n",
       "      <th>Entity</th>\n",
       "      <th>Year</th>\n",
       "      <th>DeathRate_per100K</th>\n",
       "    </tr>\n",
       "  </thead>\n",
       "  <tbody>\n",
       "    <tr>\n",
       "      <th>0</th>\n",
       "      <td>Brunei</td>\n",
       "      <td>1990</td>\n",
       "      <td>0.0</td>\n",
       "    </tr>\n",
       "    <tr>\n",
       "      <th>1</th>\n",
       "      <td>Brunei</td>\n",
       "      <td>1991</td>\n",
       "      <td>0.0</td>\n",
       "    </tr>\n",
       "    <tr>\n",
       "      <th>2</th>\n",
       "      <td>Brunei</td>\n",
       "      <td>1992</td>\n",
       "      <td>0.0</td>\n",
       "    </tr>\n",
       "    <tr>\n",
       "      <th>3</th>\n",
       "      <td>Brunei</td>\n",
       "      <td>1993</td>\n",
       "      <td>0.0</td>\n",
       "    </tr>\n",
       "    <tr>\n",
       "      <th>4</th>\n",
       "      <td>Brunei</td>\n",
       "      <td>1994</td>\n",
       "      <td>0.0</td>\n",
       "    </tr>\n",
       "  </tbody>\n",
       "</table>\n",
       "</div>"
      ],
      "text/plain": [
       "   Entity  Year  DeathRate_per100K\n",
       "0  Brunei  1990                0.0\n",
       "1  Brunei  1991                0.0\n",
       "2  Brunei  1992                0.0\n",
       "3  Brunei  1993                0.0\n",
       "4  Brunei  1994                0.0"
      ]
     },
     "execution_count": 16,
     "metadata": {},
     "output_type": "execute_result"
    },
    {
     "name": "stdout",
     "output_type": "stream",
     "text": [
      "Dataframe: focused_inc_rate_df\n",
      "Size: 48\n"
     ]
    },
    {
     "data": {
      "text/html": [
       "<div>\n",
       "<style scoped>\n",
       "    .dataframe tbody tr th:only-of-type {\n",
       "        vertical-align: middle;\n",
       "    }\n",
       "\n",
       "    .dataframe tbody tr th {\n",
       "        vertical-align: top;\n",
       "    }\n",
       "\n",
       "    .dataframe thead th {\n",
       "        text-align: right;\n",
       "    }\n",
       "</style>\n",
       "<table border=\"1\" class=\"dataframe\">\n",
       "  <thead>\n",
       "    <tr style=\"text-align: right;\">\n",
       "      <th></th>\n",
       "      <th>Entity</th>\n",
       "      <th>Year</th>\n",
       "      <th>IncRate_per100K</th>\n",
       "    </tr>\n",
       "  </thead>\n",
       "  <tbody>\n",
       "    <tr>\n",
       "      <th>0</th>\n",
       "      <td>Cambodia</td>\n",
       "      <td>2000</td>\n",
       "      <td>207.0</td>\n",
       "    </tr>\n",
       "    <tr>\n",
       "      <th>1</th>\n",
       "      <td>Cambodia</td>\n",
       "      <td>2005</td>\n",
       "      <td>48.7</td>\n",
       "    </tr>\n",
       "    <tr>\n",
       "      <th>2</th>\n",
       "      <td>Cambodia</td>\n",
       "      <td>2010</td>\n",
       "      <td>20.5</td>\n",
       "    </tr>\n",
       "    <tr>\n",
       "      <th>3</th>\n",
       "      <td>Cambodia</td>\n",
       "      <td>2015</td>\n",
       "      <td>13.0</td>\n",
       "    </tr>\n",
       "    <tr>\n",
       "      <th>4</th>\n",
       "      <td>Indonesia</td>\n",
       "      <td>2000</td>\n",
       "      <td>99.0</td>\n",
       "    </tr>\n",
       "  </tbody>\n",
       "</table>\n",
       "</div>"
      ],
      "text/plain": [
       "      Entity  Year  IncRate_per100K\n",
       "0   Cambodia  2000            207.0\n",
       "1   Cambodia  2005             48.7\n",
       "2   Cambodia  2010             20.5\n",
       "3   Cambodia  2015             13.0\n",
       "4  Indonesia  2000             99.0"
      ]
     },
     "execution_count": 16,
     "metadata": {},
     "output_type": "execute_result"
    }
   ],
   "source": [
    "for data in dataframe_ls:\n",
    "    suffix = '_'+data\n",
    "    datasets = [value for key,value in globals().items() if suffix in key]\n",
    "    # datasets\n",
    "    new_df_name = 'focused'+suffix\n",
    "    new_df = pd.concat(datasets)\n",
    "    new_df.reset_index(inplace = True,\n",
    "                       drop = True)\n",
    "    print(f\"Dataframe: {new_df_name}\")\n",
    "    print(f\"Size: {len(new_df)}\")\n",
    "    new_df.head()\n",
    "    globals()[new_df_name] = new_df\n",
    "    "
   ]
  },
  {
   "cell_type": "markdown",
   "id": "117a7cbf-33d4-4da4-929b-9a2be3685b0d",
   "metadata": {},
   "source": [
    "### Mortality dataset"
   ]
  },
  {
   "cell_type": "code",
   "execution_count": 17,
   "id": "4a51bb1d-cba9-4a1d-8ab6-b369b5582b69",
   "metadata": {},
   "outputs": [
    {
     "data": {
      "text/html": [
       "<div>\n",
       "<style scoped>\n",
       "    .dataframe tbody tr th:only-of-type {\n",
       "        vertical-align: middle;\n",
       "    }\n",
       "\n",
       "    .dataframe tbody tr th {\n",
       "        vertical-align: top;\n",
       "    }\n",
       "\n",
       "    .dataframe thead th {\n",
       "        text-align: right;\n",
       "    }\n",
       "</style>\n",
       "<table border=\"1\" class=\"dataframe\">\n",
       "  <thead>\n",
       "    <tr style=\"text-align: right;\">\n",
       "      <th></th>\n",
       "      <th>Entity</th>\n",
       "      <th>Year</th>\n",
       "      <th>DeathRate_per100K</th>\n",
       "      <th>Deaths</th>\n",
       "    </tr>\n",
       "  </thead>\n",
       "  <tbody>\n",
       "    <tr>\n",
       "      <th>0</th>\n",
       "      <td>Brunei</td>\n",
       "      <td>1990</td>\n",
       "      <td>0.000000</td>\n",
       "      <td>0.000000</td>\n",
       "    </tr>\n",
       "    <tr>\n",
       "      <th>1</th>\n",
       "      <td>Brunei</td>\n",
       "      <td>1991</td>\n",
       "      <td>0.000000</td>\n",
       "      <td>0.000000</td>\n",
       "    </tr>\n",
       "    <tr>\n",
       "      <th>2</th>\n",
       "      <td>Brunei</td>\n",
       "      <td>1992</td>\n",
       "      <td>0.000000</td>\n",
       "      <td>0.000000</td>\n",
       "    </tr>\n",
       "    <tr>\n",
       "      <th>3</th>\n",
       "      <td>Brunei</td>\n",
       "      <td>1993</td>\n",
       "      <td>0.000000</td>\n",
       "      <td>0.000000</td>\n",
       "    </tr>\n",
       "    <tr>\n",
       "      <th>4</th>\n",
       "      <td>Brunei</td>\n",
       "      <td>1994</td>\n",
       "      <td>0.000000</td>\n",
       "      <td>0.000000</td>\n",
       "    </tr>\n",
       "    <tr>\n",
       "      <th>...</th>\n",
       "      <td>...</td>\n",
       "      <td>...</td>\n",
       "      <td>...</td>\n",
       "      <td>...</td>\n",
       "    </tr>\n",
       "    <tr>\n",
       "      <th>373</th>\n",
       "      <td>AS</td>\n",
       "      <td>2012</td>\n",
       "      <td>1.230907</td>\n",
       "      <td>76253.668430</td>\n",
       "    </tr>\n",
       "    <tr>\n",
       "      <th>374</th>\n",
       "      <td>AS</td>\n",
       "      <td>2013</td>\n",
       "      <td>1.203944</td>\n",
       "      <td>76645.986605</td>\n",
       "    </tr>\n",
       "    <tr>\n",
       "      <th>375</th>\n",
       "      <td>AS</td>\n",
       "      <td>2014</td>\n",
       "      <td>1.156866</td>\n",
       "      <td>75612.410459</td>\n",
       "    </tr>\n",
       "    <tr>\n",
       "      <th>376</th>\n",
       "      <td>AS</td>\n",
       "      <td>2015</td>\n",
       "      <td>1.136388</td>\n",
       "      <td>75281.086785</td>\n",
       "    </tr>\n",
       "    <tr>\n",
       "      <th>377</th>\n",
       "      <td>AS</td>\n",
       "      <td>2016</td>\n",
       "      <td>1.125508</td>\n",
       "      <td>74705.816095</td>\n",
       "    </tr>\n",
       "  </tbody>\n",
       "</table>\n",
       "<p>378 rows × 4 columns</p>\n",
       "</div>"
      ],
      "text/plain": [
       "     Entity  Year  DeathRate_per100K        Deaths\n",
       "0    Brunei  1990           0.000000      0.000000\n",
       "1    Brunei  1991           0.000000      0.000000\n",
       "2    Brunei  1992           0.000000      0.000000\n",
       "3    Brunei  1993           0.000000      0.000000\n",
       "4    Brunei  1994           0.000000      0.000000\n",
       "..      ...   ...                ...           ...\n",
       "373      AS  2012           1.230907  76253.668430\n",
       "374      AS  2013           1.203944  76645.986605\n",
       "375      AS  2014           1.156866  75612.410459\n",
       "376      AS  2015           1.136388  75281.086785\n",
       "377      AS  2016           1.125508  74705.816095\n",
       "\n",
       "[378 rows x 4 columns]"
      ]
     },
     "execution_count": 17,
     "metadata": {},
     "output_type": "execute_result"
    }
   ],
   "source": [
    "total_yearly_death = focused_age_grp_death_df.groupby(['Entity','Year'])['Deaths'].sum().reset_index()\n",
    "yearly_mortality_df = focused_death_rate_df.merge(total_yearly_death, on = ['Entity','Year'])\n",
    "yearly_mortality_df"
   ]
  },
  {
   "cell_type": "markdown",
   "id": "dbd1ac11-4519-4f73-85c2-52bfeb32d367",
   "metadata": {},
   "source": [
    "# Part 3: Data Visualisation"
   ]
  },
  {
   "cell_type": "markdown",
   "id": "416cc986-893f-4af3-a4c4-be15ce8eae85",
   "metadata": {},
   "source": [
    "## ASEAN VS other regions, Among ASEAN countries"
   ]
  },
  {
   "cell_type": "code",
   "execution_count": 18,
   "id": "e12fa795-cc74-4401-966d-6bc6b2f6027e",
   "metadata": {
    "tags": []
   },
   "outputs": [
    {
     "data": {
      "image/png": "[encoded data removed]",
      "text/plain": [
       "<Figure size 1200x800 with 4 Axes>"
      ]
     },
     "metadata": {},
     "output_type": "display_data"
    }
   ],
   "source": [
    "#Chart plotting\n",
    "fig, axes = plt.subplots(nrows=2, ncols=2,figsize = (12,8))\n",
    "\n",
    "ax1 = axes[0,0]\n",
    "ax2 = axes[0,1]\n",
    "ax3 = axes[1,0]\n",
    "ax4 = axes[1,1]\n",
    "\n",
    "\n",
    "region_order =  ['AF', 'World', 'ASEAN', 'AS']\n",
    "regions_colors = sns.color_palette(\"hls\", 4)\n",
    "country_order = ASEAN\n",
    "country_colors = sns.color_palette(\"muted\", 10)\n",
    "\n",
    "cond_1 = ~yearly_mortality_df['Entity'].isin(ASEAN)\n",
    "cond_2 = yearly_mortality_df['Entity'].isin(ASEAN)\n",
    "\n",
    "ax1_lines = sns.lineplot(data=yearly_mortality_df.loc[cond_1,:],\n",
    "             x=\"Year\",\n",
    "             y=\"DeathRate_per100K\",\n",
    "             hue = 'Entity',\n",
    "             hue_order=region_order,\n",
    "            palette = regions_colors,\n",
    "            ax = ax1);\n",
    "\n",
    "ax2_lines = sns.lineplot(data=yearly_mortality_df.loc[cond_1,:],\n",
    "             x=\"Year\",\n",
    "             y=\"Deaths\",\n",
    "             hue = 'Entity',\n",
    "             hue_order=region_order,\n",
    "             palette = regions_colors,\n",
    "             ax = ax2);\n",
    "\n",
    "ax3_lines = sns.lineplot(data=yearly_mortality_df.loc[cond_2,:],\n",
    "             x=\"Year\",\n",
    "             y=\"DeathRate_per100K\",\n",
    "             hue = 'Entity',\n",
    "             hue_order=country_order,\n",
    "             palette = country_colors,\n",
    "             ax = ax3);\n",
    "\n",
    "ax4_lines = sns.lineplot(data=yearly_mortality_df.loc[cond_2,:],\n",
    "             x=\"Year\",\n",
    "             y=\"Deaths\",\n",
    "             hue = 'Entity',\n",
    "             hue_order=country_order,\n",
    "             palette = country_colors,\n",
    "             ax = ax4);\n",
    "\n",
    "ax1_lines.get_legend().remove() \n",
    "ax2_lines.legend().set_title('Region') \n",
    "ax3_lines.get_legend().remove()  \n",
    "ax4_lines.legend().set_title('Country') \n",
    "ax2.legend(loc='center left', bbox_to_anchor=(1, 0.5), title='Region')\n",
    "ax4.legend(loc='center left', bbox_to_anchor=(1, 0.5), title='Country');\n",
    "\n",
    "ax1.set_title('Death Rate (REGION)',fontsize=12 ,weight='bold')\n",
    "ax2.set_title('Total Deaths (REGION)',fontsize=12 ,weight='bold')\n",
    "ax3.set_title('Death Rate (ASEAN countries)',fontsize=12 ,weight='bold')\n",
    "ax4.set_title('Total Deaths (ASEAN countries)',fontsize=12 ,weight='bold')\n",
    "\n",
    "fig.suptitle(\"Compare ASEAN with other regions, and among its countries\",  fontsize = 14, weight = 'bold')\n",
    "plt.tight_layout();"
   ]
  },
  {
   "cell_type": "markdown",
   "id": "ad3041a0-a4ed-4ff2-8413-bd000678f99e",
   "metadata": {},
   "source": [
    "## TOP 3 ASEAN COUNTRIES: Incidence Rate VS Death Rate Vs Death"
   ]
  },
  {
   "cell_type": "code",
   "execution_count": 19,
   "id": "36e6fc82-e8e5-4d83-8200-5b79d7b694cd",
   "metadata": {
    "tags": []
   },
   "outputs": [
    {
     "data": {
      "text/html": [
       "<div>\n",
       "<style scoped>\n",
       "    .dataframe tbody tr th:only-of-type {\n",
       "        vertical-align: middle;\n",
       "    }\n",
       "\n",
       "    .dataframe tbody tr th {\n",
       "        vertical-align: top;\n",
       "    }\n",
       "\n",
       "    .dataframe thead th {\n",
       "        text-align: right;\n",
       "    }\n",
       "</style>\n",
       "<table border=\"1\" class=\"dataframe\">\n",
       "  <thead>\n",
       "    <tr style=\"text-align: right;\">\n",
       "      <th></th>\n",
       "      <th>Entity</th>\n",
       "      <th>Year</th>\n",
       "      <th>IncRate_per100K</th>\n",
       "      <th>DeathRate_per100K</th>\n",
       "      <th>Deaths</th>\n",
       "    </tr>\n",
       "  </thead>\n",
       "  <tbody>\n",
       "    <tr>\n",
       "      <th>0</th>\n",
       "      <td>Cambodia</td>\n",
       "      <td>2000</td>\n",
       "      <td>207.0</td>\n",
       "      <td>21.492978</td>\n",
       "      <td>2520.521608</td>\n",
       "    </tr>\n",
       "    <tr>\n",
       "      <th>1</th>\n",
       "      <td>Cambodia</td>\n",
       "      <td>2005</td>\n",
       "      <td>48.7</td>\n",
       "      <td>17.629812</td>\n",
       "      <td>2259.434136</td>\n",
       "    </tr>\n",
       "    <tr>\n",
       "      <th>2</th>\n",
       "      <td>Cambodia</td>\n",
       "      <td>2010</td>\n",
       "      <td>20.5</td>\n",
       "      <td>16.072095</td>\n",
       "      <td>2230.076384</td>\n",
       "    </tr>\n",
       "    <tr>\n",
       "      <th>3</th>\n",
       "      <td>Cambodia</td>\n",
       "      <td>2015</td>\n",
       "      <td>13.0</td>\n",
       "      <td>14.293008</td>\n",
       "      <td>2127.622258</td>\n",
       "    </tr>\n",
       "    <tr>\n",
       "      <th>4</th>\n",
       "      <td>Indonesia</td>\n",
       "      <td>2000</td>\n",
       "      <td>99.0</td>\n",
       "      <td>4.130767</td>\n",
       "      <td>5963.278560</td>\n",
       "    </tr>\n",
       "    <tr>\n",
       "      <th>5</th>\n",
       "      <td>Indonesia</td>\n",
       "      <td>2005</td>\n",
       "      <td>119.1</td>\n",
       "      <td>3.532212</td>\n",
       "      <td>5657.793724</td>\n",
       "    </tr>\n",
       "    <tr>\n",
       "      <th>6</th>\n",
       "      <td>Indonesia</td>\n",
       "      <td>2010</td>\n",
       "      <td>129.2</td>\n",
       "      <td>3.311473</td>\n",
       "      <td>5756.380299</td>\n",
       "    </tr>\n",
       "    <tr>\n",
       "      <th>7</th>\n",
       "      <td>Indonesia</td>\n",
       "      <td>2015</td>\n",
       "      <td>26.1</td>\n",
       "      <td>2.710713</td>\n",
       "      <td>4943.546440</td>\n",
       "    </tr>\n",
       "    <tr>\n",
       "      <th>16</th>\n",
       "      <td>Myanmar</td>\n",
       "      <td>2000</td>\n",
       "      <td>78.3</td>\n",
       "      <td>19.698661</td>\n",
       "      <td>8760.651306</td>\n",
       "    </tr>\n",
       "    <tr>\n",
       "      <th>17</th>\n",
       "      <td>Myanmar</td>\n",
       "      <td>2005</td>\n",
       "      <td>78.1</td>\n",
       "      <td>19.362944</td>\n",
       "      <td>9041.375324</td>\n",
       "    </tr>\n",
       "    <tr>\n",
       "      <th>18</th>\n",
       "      <td>Myanmar</td>\n",
       "      <td>2010</td>\n",
       "      <td>79.6</td>\n",
       "      <td>17.935062</td>\n",
       "      <td>8625.817496</td>\n",
       "    </tr>\n",
       "    <tr>\n",
       "      <th>19</th>\n",
       "      <td>Myanmar</td>\n",
       "      <td>2015</td>\n",
       "      <td>11.8</td>\n",
       "      <td>13.541039</td>\n",
       "      <td>6818.173237</td>\n",
       "    </tr>\n",
       "  </tbody>\n",
       "</table>\n",
       "</div>"
      ],
      "text/plain": [
       "       Entity  Year  IncRate_per100K  DeathRate_per100K       Deaths\n",
       "0    Cambodia  2000            207.0          21.492978  2520.521608\n",
       "1    Cambodia  2005             48.7          17.629812  2259.434136\n",
       "2    Cambodia  2010             20.5          16.072095  2230.076384\n",
       "3    Cambodia  2015             13.0          14.293008  2127.622258\n",
       "4   Indonesia  2000             99.0           4.130767  5963.278560\n",
       "5   Indonesia  2005            119.1           3.532212  5657.793724\n",
       "6   Indonesia  2010            129.2           3.311473  5756.380299\n",
       "7   Indonesia  2015             26.1           2.710713  4943.546440\n",
       "16    Myanmar  2000             78.3          19.698661  8760.651306\n",
       "17    Myanmar  2005             78.1          19.362944  9041.375324\n",
       "18    Myanmar  2010             79.6          17.935062  8625.817496\n",
       "19    Myanmar  2015             11.8          13.541039  6818.173237"
      ]
     },
     "execution_count": 19,
     "metadata": {},
     "output_type": "execute_result"
    }
   ],
   "source": [
    "_df = yearly_mortality_df.merge(focused_inc_rate_df,on = ['Entity','Year'])\n",
    "_cond = _df['Entity'].isin(['Cambodia','Indonesia','Myanmar'])\n",
    "col = ['Entity','Year','IncRate_per100K','DeathRate_per100K','Deaths']\n",
    "inc_vs_deathrate = _df.loc[_cond,col]\n",
    "inc_vs_deathrate"
   ]
  },
  {
   "cell_type": "code",
   "execution_count": 20,
   "id": "28250494-2d05-48a2-8923-1be8e4424422",
   "metadata": {
    "tags": []
   },
   "outputs": [
    {
     "data": {
      "image/png": "[encoded data removed]",
      "text/plain": [
       "<Figure size 900x600 with 1 Axes>"
      ]
     },
     "metadata": {},
     "output_type": "display_data"
    }
   ],
   "source": [
    "plt.figure(figsize = (9,6))\n",
    "sns.scatterplot(data=inc_vs_deathrate,\n",
    "                size='IncRate_per100K',\n",
    "                x='DeathRate_per100K',\n",
    "                y='Deaths',\n",
    "                sizes=(100,1000),\n",
    "                hue='Year',\n",
    "                style='Entity',\n",
    "                alpha=0.75,\n",
    "                legend=True)  # Turn off the legend for individual plots\n",
    "\n",
    "# Manually add the legend outside the plots\n",
    "plt.legend(title='Legend', bbox_to_anchor=(1.05, 1), loc='upper left')\n",
    "\n",
    "plt.title('Scatter Plot: Deaths vs. Death Rate', fontsize = 14, weight = 'bold')\n",
    "# plt.ylabel('Number of Deaths')\n",
    "# plt.xlabel('Death Rate per 100K')\n",
    "plt.show();"
   ]
  },
  {
   "cell_type": "markdown",
   "id": "cce7e795-6d9a-4cfc-8a1c-f3cd7999a936",
   "metadata": {},
   "source": [
    "## TOP 3 ASEAN COUNTRIES: Age Group Mortality "
   ]
  },
  {
   "cell_type": "code",
   "execution_count": 21,
   "id": "5f07fa92-5d70-42ce-9782-8ac1eca72c89",
   "metadata": {
    "tags": []
   },
   "outputs": [
    {
     "data": {
      "text/html": [
       "<div>\n",
       "<style scoped>\n",
       "    .dataframe tbody tr th:only-of-type {\n",
       "        vertical-align: middle;\n",
       "    }\n",
       "\n",
       "    .dataframe tbody tr th {\n",
       "        vertical-align: top;\n",
       "    }\n",
       "\n",
       "    .dataframe thead th {\n",
       "        text-align: right;\n",
       "    }\n",
       "</style>\n",
       "<table border=\"1\" class=\"dataframe\">\n",
       "  <thead>\n",
       "    <tr style=\"text-align: right;\">\n",
       "      <th></th>\n",
       "      <th>Entity</th>\n",
       "      <th>Year</th>\n",
       "      <th>Age_group</th>\n",
       "      <th>Deaths</th>\n",
       "      <th>Age_grp_Perc_death</th>\n",
       "    </tr>\n",
       "  </thead>\n",
       "  <tbody>\n",
       "    <tr>\n",
       "      <th>0</th>\n",
       "      <td>Cambodia</td>\n",
       "      <td>1990</td>\n",
       "      <td>Under 5</td>\n",
       "      <td>1403.479785</td>\n",
       "      <td>47.224660</td>\n",
       "    </tr>\n",
       "    <tr>\n",
       "      <th>1</th>\n",
       "      <td>Cambodia</td>\n",
       "      <td>1991</td>\n",
       "      <td>Under 5</td>\n",
       "      <td>1300.856742</td>\n",
       "      <td>44.808024</td>\n",
       "    </tr>\n",
       "    <tr>\n",
       "      <th>2</th>\n",
       "      <td>Cambodia</td>\n",
       "      <td>1992</td>\n",
       "      <td>Under 5</td>\n",
       "      <td>1154.085978</td>\n",
       "      <td>42.063715</td>\n",
       "    </tr>\n",
       "    <tr>\n",
       "      <th>3</th>\n",
       "      <td>Cambodia</td>\n",
       "      <td>1993</td>\n",
       "      <td>Under 5</td>\n",
       "      <td>1090.284793</td>\n",
       "      <td>40.132356</td>\n",
       "    </tr>\n",
       "    <tr>\n",
       "      <th>4</th>\n",
       "      <td>Cambodia</td>\n",
       "      <td>1994</td>\n",
       "      <td>Under 5</td>\n",
       "      <td>942.009172</td>\n",
       "      <td>36.870908</td>\n",
       "    </tr>\n",
       "    <tr>\n",
       "      <th>...</th>\n",
       "      <td>...</td>\n",
       "      <td>...</td>\n",
       "      <td>...</td>\n",
       "      <td>...</td>\n",
       "      <td>...</td>\n",
       "    </tr>\n",
       "    <tr>\n",
       "      <th>940</th>\n",
       "      <td>AS</td>\n",
       "      <td>2016</td>\n",
       "      <td>15-49</td>\n",
       "      <td>20548.588716</td>\n",
       "      <td>27.506009</td>\n",
       "    </tr>\n",
       "    <tr>\n",
       "      <th>941</th>\n",
       "      <td>AS</td>\n",
       "      <td>2016</td>\n",
       "      <td>5-14</td>\n",
       "      <td>14186.293062</td>\n",
       "      <td>18.989543</td>\n",
       "    </tr>\n",
       "    <tr>\n",
       "      <th>942</th>\n",
       "      <td>AS</td>\n",
       "      <td>2016</td>\n",
       "      <td>50-69</td>\n",
       "      <td>10810.426918</td>\n",
       "      <td>14.470663</td>\n",
       "    </tr>\n",
       "    <tr>\n",
       "      <th>943</th>\n",
       "      <td>AS</td>\n",
       "      <td>2016</td>\n",
       "      <td>70 or older</td>\n",
       "      <td>5804.189042</td>\n",
       "      <td>7.769394</td>\n",
       "    </tr>\n",
       "    <tr>\n",
       "      <th>944</th>\n",
       "      <td>AS</td>\n",
       "      <td>2016</td>\n",
       "      <td>Under 5</td>\n",
       "      <td>23356.318358</td>\n",
       "      <td>31.264391</td>\n",
       "    </tr>\n",
       "  </tbody>\n",
       "</table>\n",
       "<p>945 rows × 5 columns</p>\n",
       "</div>"
      ],
      "text/plain": [
       "       Entity  Year    Age_group        Deaths  Age_grp_Perc_death\n",
       "0    Cambodia  1990      Under 5   1403.479785           47.224660\n",
       "1    Cambodia  1991      Under 5   1300.856742           44.808024\n",
       "2    Cambodia  1992      Under 5   1154.085978           42.063715\n",
       "3    Cambodia  1993      Under 5   1090.284793           40.132356\n",
       "4    Cambodia  1994      Under 5    942.009172           36.870908\n",
       "..        ...   ...          ...           ...                 ...\n",
       "940        AS  2016        15-49  20548.588716           27.506009\n",
       "941        AS  2016         5-14  14186.293062           18.989543\n",
       "942        AS  2016        50-69  10810.426918           14.470663\n",
       "943        AS  2016  70 or older   5804.189042            7.769394\n",
       "944        AS  2016      Under 5  23356.318358           31.264391\n",
       "\n",
       "[945 rows x 5 columns]"
      ]
     },
     "execution_count": 21,
     "metadata": {},
     "output_type": "execute_result"
    }
   ],
   "source": [
    "_df = focused_age_grp_death_df.copy()\n",
    "cond_ = _df['Entity'].isin(['Cambodia','Indonesia','Myanmar','ASEAN','AS','AF','World'])\n",
    "_df = _df.loc[cond_,:]\n",
    "_df['Total_Deaths']= _df.groupby(['Entity', 'Year'])['Deaths'].transform('sum')\n",
    "_df['Age_grp_Perc_death'] = (_df['Deaths'] / _df['Total_Deaths']) * 100\n",
    "_df.drop(columns = 'Total_Deaths', inplace = True)\n",
    "_df.reset_index(drop = True, inplace = True)\n",
    "subentity_age_grp_death_df = _df\n",
    "subentity_age_grp_death_df"
   ]
  },
  {
   "cell_type": "code",
   "execution_count": 22,
   "id": "56b01a03-13b7-4021-954d-b1cfb31a7f80",
   "metadata": {},
   "outputs": [
    {
     "data": {
      "image/png": "[encoded data removed]",
      "text/plain": [
       "<Figure size 1200x600 with 3 Axes>"
      ]
     },
     "metadata": {},
     "output_type": "display_data"
    }
   ],
   "source": [
    "# Define the desired order for the x-axis\n",
    "x_order = ['World', 'AF', 'AS', 'ASEAN', 'Cambodia', 'Indonesia', 'Myanmar']\n",
    "\n",
    "# Define the order of the age groups for stacking\n",
    "odr = ['Under 5', '5-14', '15-49', '50-69', '70 or older']\n",
    "\n",
    "# Define colors for each age group\n",
    "colors = [\"#013859\", \"#185E65\", \"#F9CC7F\", \"#F15C25\", \"#9E1617\"]\n",
    "\n",
    "# Define years to plot\n",
    "years = [1990, 2000, 2015]\n",
    "\n",
    "# Chart plotting\n",
    "fig, axes = plt.subplots(nrows=1,\n",
    "                         ncols=3,\n",
    "                         figsize=(12, 6),\n",
    "                        sharey = True)\n",
    "\n",
    "ax1 = axes[0]\n",
    "ax2 = axes[1]\n",
    "ax3 = axes[2]\n",
    "\n",
    "for i in range(3):\n",
    "    # Step 1: create pivot table per year\n",
    "    yr = years[i]\n",
    "    _df = subentity_age_grp_death_df.copy()\n",
    "    cond = _df['Year'] == yr\n",
    "    _df = _df.loc[cond, ['Entity', 'Age_group', 'Age_grp_Perc_death']]\n",
    "\n",
    "    # Create the pivot table and reindex it to have consistent ordering of age groups\n",
    "    pivot_table_name = 'pivot_table_' + str(yr)\n",
    "    pivot_table = _df.pivot(index='Entity', columns='Age_group', values='Age_grp_Perc_death')\n",
    "    pivot_table = pivot_table.reindex(columns=odr)\n",
    "    \n",
    "    # Reindex the pivot table to have the desired order of entities on the x-axis\n",
    "    pivot_table = pivot_table.reindex(x_order)\n",
    "\n",
    "    # Save the pivot table in the global namespace with a unique name for each year\n",
    "    globals()[pivot_table_name] = pivot_table\n",
    "\n",
    "    # Step 2: Plot the stacked bar chart\n",
    "    ax = globals()[f'ax{i + 1}']\n",
    "    globals()[f'ax{i+1}_lines'] = pivot_table.plot(kind='bar',\n",
    "                                                   stacked=True,\n",
    "                                                   color=colors,\n",
    "                                                   ax=ax)\n",
    "    \n",
    "    # Set the x-axis label and title for each subplot\n",
    "    ax.set_xlabel('Entity')\n",
    "    ax.set_title(f'Year {yr}')\n",
    "\n",
    "#Plot legend\n",
    "ax1_lines.get_legend().remove() \n",
    "ax2_lines.get_legend().remove() \n",
    "ax3_lines.legend().set_title('Legend') \n",
    "ax3_lines.legend(loc='center left', bbox_to_anchor=(1, 0.5), title='Age Group')\n",
    "\n",
    "# Set y-axis label for the left-most subplot (ax1)\n",
    "ax1.set_ylabel('% Percentage of Death')\n",
    "\n",
    "#Plot title\n",
    "fig.suptitle(\"Percentage of Deaths By Age Group\", fontsize = 14, weight = 'bold')\n",
    "\n",
    "# Adjust spacing between subplots\n",
    "plt.tight_layout()\n",
    "\n",
    "# Show the plot\n",
    "plt.show();\n"
   ]
  },
  {
   "cell_type": "code",
   "execution_count": null,
   "id": "31a8adac-f3c0-4b96-a846-e880c8d29821",
   "metadata": {},
   "outputs": [],
   "source": []
  }
 ],
 "metadata": {
  "kernelspec": {
   "display_name": "Python 3 (ipykernel)",
   "language": "python",
   "name": "python3"
  },
  "language_info": {
   "codemirror_mode": {
    "name": "ipython",
    "version": 3
   },
   "file_extension": ".py",
   "mimetype": "text/x-python",
   "name": "python",
   "nbconvert_exporter": "python",
   "pygments_lexer": "ipython3",
   "version": "3.8.13"
  }
 },
 "nbformat": 4,
 "nbformat_minor": 5
}
