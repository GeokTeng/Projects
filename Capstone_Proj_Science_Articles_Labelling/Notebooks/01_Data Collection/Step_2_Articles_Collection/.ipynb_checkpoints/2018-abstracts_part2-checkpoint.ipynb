{
 "cells": [
  {
   "cell_type": "markdown",
   "id": "61503763-314d-4fc2-af81-f3ab4e919c98",
   "metadata": {},
   "source": [
    "# About this notebook:\n",
    "- We will be using articles IDs to collect each articles' information, including:\n",
    "    - Title\n",
    "    - Abstract\n",
    "    - Given Mesh Terms\n",
    "    - Publication Date\n",
    "- This notebook is part of a series of notebooks under 'Step 2 Articles Collection', where each notebook contain articles published in a particular year."
   ]
  },
  {
   "cell_type": "markdown",
   "id": "c06e0209-e840-4f02-8a50-36cb88068ac3",
   "metadata": {},
   "source": [
    "# Import Libraries and Articles' IDs"
   ]
  },
  {
   "cell_type": "code",
   "execution_count": 1,
   "id": "62ae5490",
   "metadata": {
    "_cell_guid": "b1076dfc-b9ad-4769-8c92-a6c4dae69d19",
    "_uuid": "8f2839f25d086af736a60e9eeb907d3b93b6e0e5",
    "execution": {
     "iopub.execute_input": "2023-02-22T00:14:24.554733Z",
     "iopub.status.busy": "2023-02-22T00:14:24.554277Z",
     "iopub.status.idle": "2023-02-22T00:14:24.627806Z",
     "shell.execute_reply": "2023-02-22T00:14:24.626555Z"
    },
    "papermill": {
     "duration": 0.085432,
     "end_time": "2023-02-22T00:14:24.630679",
     "exception": false,
     "start_time": "2023-02-22T00:14:24.545247",
     "status": "completed"
    },
    "tags": []
   },
   "outputs": [],
   "source": [
    "## import numpy as np # linear algebra\n",
    "import pandas as pd # data processing, CSV file I/O (e.g. pd.read_csv)\n",
    "\n",
    "from Bio import Entrez\n",
    "import xml.etree.ElementTree as ET\n",
    "\n",
    "import time\n",
    "from tqdm import tqdm\n",
    "\n",
    "# Set the email address associated with your NCBI account\n",
    "Entrez.email = \"geok1723@gmail.com\"\n",
    "\n",
    "from IPython.core.interactiveshell import InteractiveShell\n",
    "InteractiveShell.ast_node_interactivity = \"all\"\n",
    "\n",
    "\n",
    "df=pd.read_csv(\"../Step_1_ID_Collection/IDs_2018.csv\")"
   ]
  },
  {
   "cell_type": "code",
   "execution_count": 2,
   "id": "826a2d01",
   "metadata": {
    "execution": {
     "iopub.execute_input": "2023-02-22T00:14:24.639302Z",
     "iopub.status.busy": "2023-02-22T00:14:24.638897Z",
     "iopub.status.idle": "2023-02-22T00:14:24.663477Z",
     "shell.execute_reply": "2023-02-22T00:14:24.662625Z"
    },
    "papermill": {
     "duration": 0.031947,
     "end_time": "2023-02-22T00:14:24.666132",
     "exception": false,
     "start_time": "2023-02-22T00:14:24.634185",
     "status": "completed"
    },
    "tags": []
   },
   "outputs": [
    {
     "data": {
      "text/html": [
       "<div>\n",
       "<style scoped>\n",
       "    .dataframe tbody tr th:only-of-type {\n",
       "        vertical-align: middle;\n",
       "    }\n",
       "\n",
       "    .dataframe tbody tr th {\n",
       "        vertical-align: top;\n",
       "    }\n",
       "\n",
       "    .dataframe thead th {\n",
       "        text-align: right;\n",
       "    }\n",
       "</style>\n",
       "<table border=\"1\" class=\"dataframe\">\n",
       "  <thead>\n",
       "    <tr style=\"text-align: right;\">\n",
       "      <th></th>\n",
       "      <th>Date_str</th>\n",
       "      <th>ID</th>\n",
       "      <th>Date</th>\n",
       "      <th>Month</th>\n",
       "      <th>Year</th>\n",
       "    </tr>\n",
       "  </thead>\n",
       "  <tbody>\n",
       "    <tr>\n",
       "      <th>0</th>\n",
       "      <td>2018/01/01</td>\n",
       "      <td>32055158</td>\n",
       "      <td>2018-01-01</td>\n",
       "      <td>1</td>\n",
       "      <td>2018</td>\n",
       "    </tr>\n",
       "    <tr>\n",
       "      <th>1</th>\n",
       "      <td>2018/01/04</td>\n",
       "      <td>29297265</td>\n",
       "      <td>2018-01-04</td>\n",
       "      <td>1</td>\n",
       "      <td>2018</td>\n",
       "    </tr>\n",
       "    <tr>\n",
       "      <th>2</th>\n",
       "      <td>2018/01/23</td>\n",
       "      <td>29357303</td>\n",
       "      <td>2018-01-23</td>\n",
       "      <td>1</td>\n",
       "      <td>2018</td>\n",
       "    </tr>\n",
       "    <tr>\n",
       "      <th>3</th>\n",
       "      <td>2018/01/04</td>\n",
       "      <td>29295270</td>\n",
       "      <td>2018-01-04</td>\n",
       "      <td>1</td>\n",
       "      <td>2018</td>\n",
       "    </tr>\n",
       "    <tr>\n",
       "      <th>4</th>\n",
       "      <td>2018/01/18</td>\n",
       "      <td>29339485</td>\n",
       "      <td>2018-01-18</td>\n",
       "      <td>1</td>\n",
       "      <td>2018</td>\n",
       "    </tr>\n",
       "  </tbody>\n",
       "</table>\n",
       "</div>"
      ],
      "text/plain": [
       "     Date_str        ID        Date  Month  Year\n",
       "0  2018/01/01  32055158  2018-01-01      1  2018\n",
       "1  2018/01/04  29297265  2018-01-04      1  2018\n",
       "2  2018/01/23  29357303  2018-01-23      1  2018\n",
       "3  2018/01/04  29295270  2018-01-04      1  2018\n",
       "4  2018/01/18  29339485  2018-01-18      1  2018"
      ]
     },
     "execution_count": 2,
     "metadata": {},
     "output_type": "execute_result"
    }
   ],
   "source": [
    "df.head()"
   ]
  },
  {
   "cell_type": "markdown",
   "id": "60eb5d09-8e64-4463-8c70-f2554ecb2f09",
   "metadata": {},
   "source": [
    "# Collecting Articles in groups of 100<br>\n",
    "> The IDs are split into mini-dataframes containing 100 IDs for scraping. <br>\n",
    "> Output will contain about 360 mini dataframes of articles that are published in this particular year. <br>\n",
    "> This process was executed using Kaggle, and resulting dataframes are stored in the respective zip-folder. <br>"
   ]
  },
  {
   "cell_type": "code",
   "execution_count": 3,
   "id": "6bc7ac0c",
   "metadata": {
    "execution": {
     "iopub.execute_input": "2023-02-22T00:14:24.676458Z",
     "iopub.status.busy": "2023-02-22T00:14:24.675362Z",
     "iopub.status.idle": "2023-02-22T00:14:24.859865Z",
     "shell.execute_reply": "2023-02-22T00:14:24.858930Z"
    },
    "papermill": {
     "duration": 0.192753,
     "end_time": "2023-02-22T00:14:24.862462",
     "exception": false,
     "start_time": "2023-02-22T00:14:24.669709",
     "status": "completed"
    },
    "tags": []
   },
   "outputs": [],
   "source": [
    "# determine the group number for each row\n",
    "group_num = (df.index // 100) + 1\n",
    "\n",
    "# map the group number to a group label (G1 to G6)\n",
    "group_label = 'G' + group_num.astype(str)\n",
    "\n",
    "# add the new column to the DataFrame\n",
    "df['sub_group'] = group_label\n",
    "\n",
    "# print(df)\n",
    "# print(df['sub_group'].nunique())\n",
    "\n",
    "df['Date']=pd.to_datetime(df['Date'],yearfirst=True)\n",
    "\n",
    "# group the DataFrame by \"Sub_group\"\n",
    "grouped = df.groupby('sub_group')\n",
    "\n",
    "# create an empty dictionary to store the smaller DataFrames\n",
    "df_dict = {}\n",
    "\n",
    "# loop over the groups and create smaller DataFrames\n",
    "for subgroup, subgroup_df in grouped:\n",
    "    # construct the name of the smaller DataFrame\n",
    "    year = subgroup_df['Year'].iloc[0]\n",
    "    month = subgroup_df['Date'].iloc[0].strftime('%m')\n",
    "    df_name = f\"df_{year}_{month}_{subgroup}\"\n",
    "    # add the smaller DataFrame to the dictionary\n",
    "    df_dict[df_name] = subgroup_df.copy()\n",
    "\n",
    "df_ls = list(df_dict.keys())\n",
    "\n",
    "df_ls.sort()"
   ]
  },
  {
   "cell_type": "code",
   "execution_count": 4,
   "id": "76db7f08",
   "metadata": {
    "execution": {
     "iopub.execute_input": "2023-02-22T00:14:24.870679Z",
     "iopub.status.busy": "2023-02-22T00:14:24.870295Z",
     "iopub.status.idle": "2023-02-22T00:14:24.875279Z",
     "shell.execute_reply": "2023-02-22T00:14:24.874117Z"
    },
    "papermill": {
     "duration": 0.0117,
     "end_time": "2023-02-22T00:14:24.877676",
     "exception": false,
     "start_time": "2023-02-22T00:14:24.865976",
     "status": "completed"
    },
    "tags": []
   },
   "outputs": [],
   "source": [
    "#to continue where previous notebook left off\n",
    "\n",
    "x = df_ls.index(\"df_2018_12_G342\")\n",
    "x = x+1"
   ]
  },
  {
   "cell_type": "code",
   "execution_count": 8,
   "id": "db792f40",
   "metadata": {
    "execution": {
     "iopub.execute_input": "2023-02-22T00:14:24.942353Z",
     "iopub.status.busy": "2023-02-22T00:14:24.941840Z",
     "iopub.status.idle": "2023-02-22T00:26:03.251259Z",
     "shell.execute_reply": "2023-02-22T00:26:03.250130Z"
    },
    "papermill": {
     "duration": 698.319376,
     "end_time": "2023-02-22T00:26:03.255540",
     "exception": false,
     "start_time": "2023-02-22T00:14:24.936164",
     "status": "completed"
    },
    "tags": []
   },
   "outputs": [
    {
     "name": "stderr",
     "output_type": "stream",
     "text": [
      "  0%|          | 0/18 [00:00<?, ?it/s]"
     ]
    },
    {
     "name": "stdout",
     "output_type": "stream",
     "text": [
      "Creating Dataframe of articles for df_2018_12_G343\n"
     ]
    },
    {
     "name": "stderr",
     "output_type": "stream",
     "text": [
      "\n",
      "0it [00:00, ?it/s]\u001b[A\n",
      "1it [00:00,  2.89it/s]\u001b[A\n",
      "2it [00:00,  3.28it/s]\u001b[A\n",
      "3it [00:00,  3.01it/s]\u001b[A\n",
      "4it [00:01,  2.90it/s]\u001b[A\n",
      "5it [00:01,  2.78it/s]\u001b[A\n",
      "6it [00:02,  2.79it/s]\u001b[A\n",
      "7it [00:02,  2.72it/s]\u001b[A\n",
      "8it [00:02,  2.74it/s]\u001b[A\n",
      "9it [00:03,  2.73it/s]\u001b[A\n",
      "10it [00:03,  2.69it/s]\u001b[A\n",
      "11it [00:03,  2.68it/s]\u001b[A\n",
      "12it [00:04,  1.86it/s]\u001b[A\n",
      "13it [00:05,  2.21it/s]\u001b[A\n",
      "14it [00:05,  2.29it/s]\u001b[A\n",
      "15it [00:05,  2.47it/s]\u001b[A\n",
      "16it [00:06,  2.50it/s]\u001b[A\n",
      "17it [00:06,  2.52it/s]\u001b[A\n",
      "18it [00:07,  2.56it/s]\u001b[A\n",
      "19it [00:07,  2.69it/s]\u001b[A\n",
      "20it [00:07,  2.83it/s]\u001b[A\n",
      "21it [00:08,  2.60it/s]\u001b[A\n",
      "22it [00:08,  2.65it/s]\u001b[A\n",
      "23it [00:08,  2.69it/s]\u001b[A\n",
      "24it [00:09,  2.71it/s]\u001b[A\n",
      "25it [00:09,  2.62it/s]\u001b[A\n",
      "26it [00:09,  2.63it/s]\u001b[A\n",
      "27it [00:10,  2.07it/s]\u001b[A\n",
      "28it [00:10,  2.42it/s]\u001b[A\n",
      "29it [00:11,  2.50it/s]\u001b[A\n",
      "30it [00:11,  2.30it/s]\u001b[A\n",
      "31it [00:12,  2.65it/s]\u001b[A\n",
      "32it [00:12,  2.67it/s]\u001b[A\n",
      "33it [00:12,  2.52it/s]\u001b[A\n",
      "34it [00:13,  2.73it/s]\u001b[A\n",
      "35it [00:13,  2.72it/s]\u001b[A\n",
      "36it [00:13,  2.72it/s]\u001b[A\n",
      "37it [00:14,  2.73it/s]\u001b[A\n",
      "38it [00:14,  2.68it/s]\u001b[A\n",
      "39it [00:15,  2.82it/s]\u001b[A"
     ]
    },
    {
     "name": "stdout",
     "output_type": "stream",
     "text": [
      "Error here in ID30524355\n"
     ]
    },
    {
     "name": "stderr",
     "output_type": "stream",
     "text": [
      "\n",
      "40it [00:15,  2.60it/s]\u001b[A\n",
      "41it [00:15,  2.72it/s]\u001b[A\n",
      "42it [00:16,  2.68it/s]\u001b[A\n",
      "43it [00:16,  2.84it/s]\u001b[A\n",
      "44it [00:16,  2.67it/s]\u001b[A\n",
      "45it [00:17,  2.69it/s]\u001b[A\n",
      "46it [00:17,  2.69it/s]\u001b[A\n",
      "47it [00:18,  1.67it/s]\u001b[A\n",
      "48it [00:19,  1.97it/s]\u001b[A\n",
      "49it [00:19,  1.99it/s]\u001b[A\n",
      "50it [00:19,  2.41it/s]\u001b[A\n",
      "51it [00:20,  2.43it/s]\u001b[A\n",
      "52it [00:20,  2.50it/s]\u001b[A\n",
      "53it [00:20,  2.54it/s]\u001b[A"
     ]
    },
    {
     "name": "stdout",
     "output_type": "stream",
     "text": [
      "Error here in ID30542362\n"
     ]
    },
    {
     "name": "stderr",
     "output_type": "stream",
     "text": [
      "\n",
      "54it [00:21,  2.58it/s]\u001b[A\n",
      "55it [00:21,  2.62it/s]\u001b[A\n",
      "56it [00:22,  2.65it/s]\u001b[A\n",
      "57it [00:22,  2.71it/s]\u001b[A\n",
      "58it [00:22,  2.69it/s]\u001b[A\n",
      "59it [00:23,  2.83it/s]\u001b[A\n",
      "60it [00:23,  2.57it/s]\u001b[A\n",
      "61it [00:24,  1.61it/s]\u001b[A\n",
      "62it [00:25,  1.84it/s]\u001b[A\n",
      "63it [00:25,  2.19it/s]\u001b[A"
     ]
    },
    {
     "name": "stdout",
     "output_type": "stream",
     "text": [
      "Error here in ID30510318\n"
     ]
    },
    {
     "name": "stderr",
     "output_type": "stream",
     "text": [
      "\n",
      "64it [00:26,  1.82it/s]\u001b[A\n",
      "65it [00:26,  2.17it/s]\u001b[A\n",
      "66it [00:26,  2.30it/s]\u001b[A\n",
      "67it [00:27,  1.98it/s]\u001b[A\n",
      "68it [00:27,  2.28it/s]\u001b[A\n",
      "69it [00:28,  2.43it/s]\u001b[A\n",
      "70it [00:28,  2.54it/s]\u001b[A\n",
      "71it [00:28,  2.58it/s]\u001b[A\n",
      "72it [00:29,  2.52it/s]\u001b[A\n",
      "73it [00:29,  2.65it/s]\u001b[A\n",
      "74it [00:29,  2.82it/s]\u001b[A\n",
      "75it [00:30,  2.84it/s]\u001b[A\n",
      "76it [00:30,  2.61it/s]\u001b[A\n",
      "77it [00:30,  2.63it/s]\u001b[A\n",
      "78it [00:31,  2.66it/s]\u001b[A\n",
      "79it [00:31,  2.70it/s]\u001b[A\n",
      "80it [00:32,  2.53it/s]\u001b[A\n",
      "81it [00:32,  2.93it/s]\u001b[A\n",
      "82it [00:32,  2.56it/s]\u001b[A\n",
      "83it [00:33,  2.70it/s]\u001b[A\n",
      "84it [00:33,  2.71it/s]\u001b[A\n",
      "85it [00:33,  2.65it/s]\u001b[A\n",
      "86it [00:34,  2.70it/s]\u001b[A\n",
      "87it [00:34,  2.71it/s]\u001b[A\n",
      "88it [00:35,  2.73it/s]\u001b[A\n",
      "89it [00:35,  2.72it/s]\u001b[A\n",
      "90it [00:35,  2.65it/s]\u001b[A\n",
      "91it [00:36,  2.71it/s]\u001b[A\n",
      "92it [00:36,  2.88it/s]\u001b[A\n",
      "93it [00:36,  2.68it/s]\u001b[A\n",
      "94it [00:37,  2.25it/s]\u001b[A"
     ]
    },
    {
     "name": "stdout",
     "output_type": "stream",
     "text": [
      "Error here in ID30567163\n"
     ]
    },
    {
     "name": "stderr",
     "output_type": "stream",
     "text": [
      "\n",
      "95it [00:37,  2.31it/s]\u001b[A\n",
      "96it [00:38,  2.23it/s]\u001b[A\n",
      "97it [00:38,  2.60it/s]\u001b[A\n",
      "98it [00:38,  2.78it/s]\u001b[A\n",
      "99it [00:39,  2.56it/s]\u001b[A\n",
      "100it [00:39,  2.51it/s]\n",
      "  6%|▌         | 1/18 [00:39<11:16, 39.78s/it]"
     ]
    },
    {
     "name": "stdout",
     "output_type": "stream",
     "text": [
      "dict_keys(['ABSTRACTdf_2018_12_G343'])\n",
      "Creating Dataframe of articles for df_2018_12_G344\n"
     ]
    },
    {
     "name": "stderr",
     "output_type": "stream",
     "text": [
      "\n",
      "0it [00:00, ?it/s]\u001b[A\n",
      "1it [00:00,  2.96it/s]\u001b[A\n",
      "2it [00:00,  3.18it/s]\u001b[A"
     ]
    },
    {
     "name": "stdout",
     "output_type": "stream",
     "text": [
      "Error here in ID30581339\n"
     ]
    },
    {
     "name": "stderr",
     "output_type": "stream",
     "text": [
      "\n",
      "3it [00:01,  1.91it/s]\u001b[A\n",
      "4it [00:01,  2.21it/s]\u001b[A\n",
      "5it [00:02,  2.30it/s]\u001b[A\n",
      "6it [00:02,  2.25it/s]\u001b[A\n",
      "7it [00:02,  2.37it/s]\u001b[A\n",
      "8it [00:03,  2.72it/s]\u001b[A\n",
      "9it [00:03,  2.70it/s]\u001b[A\n",
      "10it [00:03,  2.72it/s]\u001b[A\n",
      "11it [00:04,  2.72it/s]\u001b[A\n",
      "12it [00:04,  2.69it/s]\u001b[A\n",
      "13it [00:05,  2.91it/s]\u001b[A\n",
      "14it [00:05,  2.66it/s]\u001b[A\n",
      "15it [00:05,  2.80it/s]\u001b[A\n",
      "16it [00:06,  2.54it/s]\u001b[A"
     ]
    },
    {
     "name": "stdout",
     "output_type": "stream",
     "text": [
      "Error here in ID30524971\n"
     ]
    },
    {
     "name": "stderr",
     "output_type": "stream",
     "text": [
      "\n",
      "17it [00:06,  2.77it/s]\u001b[A\n",
      "18it [00:06,  2.61it/s]\u001b[A\n",
      "19it [00:07,  1.95it/s]\u001b[A\n",
      "20it [00:07,  2.45it/s]\u001b[A"
     ]
    },
    {
     "name": "stdout",
     "output_type": "stream",
     "text": [
      "Error here in ID30563588\n"
     ]
    },
    {
     "name": "stderr",
     "output_type": "stream",
     "text": [
      "\n",
      "21it [00:08,  2.25it/s]\u001b[A\n",
      "22it [00:09,  2.14it/s]\u001b[A"
     ]
    },
    {
     "name": "stdout",
     "output_type": "stream",
     "text": [
      "Error here in ID30585517\n"
     ]
    },
    {
     "name": "stderr",
     "output_type": "stream",
     "text": [
      "\n",
      "23it [00:09,  2.49it/s]\u001b[A\n",
      "24it [00:09,  2.62it/s]\u001b[A\n",
      "25it [00:10,  2.56it/s]\u001b[A\n",
      "26it [00:10,  2.63it/s]\u001b[A\n",
      "27it [00:10,  2.78it/s]\u001b[A\n",
      "28it [00:11,  2.31it/s]\u001b[A\n",
      "29it [00:11,  2.65it/s]\u001b[A\n",
      "30it [00:11,  2.86it/s]\u001b[A\n",
      "31it [00:12,  2.62it/s]\u001b[A\n",
      "32it [00:12,  2.64it/s]\u001b[A\n",
      "33it [00:13,  2.65it/s]\u001b[A\n",
      "34it [00:13,  2.66it/s]\u001b[A\n",
      "35it [00:13,  2.68it/s]\u001b[A\n",
      "36it [00:14,  2.72it/s]\u001b[A\n",
      "37it [00:14,  2.66it/s]\u001b[A\n",
      "38it [00:14,  2.83it/s]\u001b[A\n",
      "39it [00:15,  2.87it/s]\u001b[A\n",
      "40it [00:15,  2.75it/s]\u001b[A\n",
      "41it [00:16,  1.69it/s]\u001b[A\n",
      "42it [00:16,  2.13it/s]\u001b[A\n",
      "43it [00:17,  2.18it/s]\u001b[A\n",
      "44it [00:17,  2.33it/s]\u001b[A\n",
      "45it [00:18,  2.43it/s]\u001b[A\n",
      "46it [00:18,  2.46it/s]\u001b[A\n",
      "47it [00:18,  2.73it/s]\u001b[A\n",
      "48it [00:19,  2.56it/s]\u001b[A\n",
      "49it [00:19,  2.28it/s]\u001b[A\n",
      "50it [00:19,  2.61it/s]\u001b[A\n",
      "51it [00:20,  2.76it/s]\u001b[A\n",
      "52it [00:20,  2.49it/s]\u001b[A\n",
      "53it [00:21,  2.63it/s]\u001b[A\n",
      "54it [00:21,  2.65it/s]\u001b[A"
     ]
    },
    {
     "name": "stdout",
     "output_type": "stream",
     "text": [
      "Error here in ID30559734\n"
     ]
    },
    {
     "name": "stderr",
     "output_type": "stream",
     "text": [
      "\n",
      "55it [00:21,  2.74it/s]\u001b[A\n",
      "56it [00:22,  2.67it/s]\u001b[A\n",
      "57it [00:22,  2.68it/s]\u001b[A\n",
      "58it [00:23,  2.25it/s]\u001b[A\n",
      "59it [00:23,  2.76it/s]\u001b[A"
     ]
    },
    {
     "name": "stdout",
     "output_type": "stream",
     "text": [
      "Error here in ID30513226\n"
     ]
    },
    {
     "name": "stderr",
     "output_type": "stream",
     "text": [
      "\n",
      "60it [00:23,  2.55it/s]\u001b[A\n",
      "61it [00:24,  2.44it/s]\u001b[A\n",
      "62it [00:24,  2.66it/s]\u001b[A\n",
      "63it [00:24,  2.70it/s]\u001b[A\n",
      "64it [00:25,  2.92it/s]\u001b[A\n",
      "65it [00:25,  2.80it/s]\u001b[A\n",
      "66it [00:25,  2.70it/s]\u001b[A\n",
      "67it [00:26,  2.63it/s]\u001b[A\n",
      "68it [00:26,  2.84it/s]\u001b[A\n",
      "69it [00:27,  2.75it/s]\u001b[A\n",
      "70it [00:27,  2.59it/s]\u001b[A\n",
      "71it [00:27,  2.82it/s]\u001b[A\n",
      "72it [00:28,  2.58it/s]\u001b[A\n",
      "73it [00:28,  2.63it/s]\u001b[A\n",
      "74it [00:28,  2.56it/s]\u001b[A\n",
      "75it [00:29,  2.62it/s]\u001b[A\n",
      "76it [00:29,  2.55it/s]\u001b[A\n",
      "77it [00:30,  2.77it/s]\u001b[A\n",
      "78it [00:30,  2.84it/s]\u001b[A\n",
      "79it [00:30,  2.70it/s]\u001b[A\n",
      "80it [00:31,  2.81it/s]\u001b[A\n",
      "81it [00:31,  2.76it/s]\u001b[A\n",
      "82it [00:31,  2.80it/s]\u001b[A\n",
      "83it [00:32,  2.64it/s]\u001b[A\n",
      "84it [00:32,  2.81it/s]\u001b[A\n",
      "85it [00:33,  2.56it/s]\u001b[A\n",
      "86it [00:33,  2.76it/s]\u001b[A\n",
      "87it [00:33,  2.66it/s]\u001b[A\n",
      "88it [00:34,  2.82it/s]\u001b[A\n",
      "89it [00:34,  2.57it/s]\u001b[A\n",
      "90it [00:34,  2.88it/s]\u001b[A\n",
      "91it [00:35,  2.65it/s]\u001b[A\n",
      "92it [00:35,  2.72it/s]\u001b[A\n",
      "93it [00:35,  2.61it/s]\u001b[A\n",
      "94it [00:36,  2.79it/s]\u001b[A"
     ]
    },
    {
     "name": "stdout",
     "output_type": "stream",
     "text": [
      "Error here in ID30555361\n"
     ]
    },
    {
     "name": "stderr",
     "output_type": "stream",
     "text": [
      "\n",
      "95it [00:36,  2.75it/s]\u001b[A\n",
      "96it [00:37,  2.62it/s]\u001b[A\n",
      "97it [00:37,  2.64it/s]\u001b[A\n",
      "98it [00:37,  2.64it/s]\u001b[A\n",
      "99it [00:38,  2.65it/s]\u001b[A\n",
      "100it [00:38,  2.59it/s]\n",
      " 11%|█         | 2/18 [01:18<10:26, 39.14s/it]"
     ]
    },
    {
     "name": "stdout",
     "output_type": "stream",
     "text": [
      "dict_keys(['ABSTRACTdf_2018_12_G343', 'ABSTRACTdf_2018_12_G344'])\n",
      "Creating Dataframe of articles for df_2018_12_G345\n"
     ]
    },
    {
     "name": "stderr",
     "output_type": "stream",
     "text": [
      "\n",
      "0it [00:00, ?it/s]\u001b[A\n",
      "1it [00:00,  3.81it/s]\u001b[A\n",
      "2it [00:00,  3.57it/s]\u001b[A\n",
      "3it [00:01,  2.79it/s]\u001b[A\n",
      "4it [00:01,  2.29it/s]\u001b[A\n",
      "5it [00:01,  2.92it/s]\u001b[A\n",
      "6it [00:02,  2.67it/s]\u001b[A\n",
      "7it [00:02,  2.85it/s]\u001b[A\n",
      "8it [00:02,  2.82it/s]\u001b[A\n",
      "9it [00:03,  2.47it/s]\u001b[A\n",
      "10it [00:03,  2.71it/s]\u001b[A\n",
      "11it [00:04,  2.62it/s]\u001b[A\n",
      "12it [00:04,  2.71it/s]\u001b[A\n",
      "13it [00:04,  2.71it/s]\u001b[A\n",
      "14it [00:05,  2.62it/s]\u001b[A\n",
      "15it [00:05,  2.87it/s]\u001b[A\n",
      "16it [00:05,  2.64it/s]\u001b[A\n",
      "17it [00:06,  2.84it/s]\u001b[A\n",
      "18it [00:06,  2.62it/s]\u001b[A\n",
      "19it [00:06,  2.81it/s]\u001b[A\n",
      "20it [00:07,  2.63it/s]\u001b[A\n",
      "21it [00:07,  2.81it/s]\u001b[A\n",
      "22it [00:08,  2.62it/s]\u001b[A\n",
      "23it [00:08,  2.75it/s]\u001b[A\n",
      "24it [00:08,  2.85it/s]\u001b[A\n",
      "25it [00:09,  2.71it/s]\u001b[A\n",
      "26it [00:09,  2.63it/s]\u001b[A\n",
      "27it [00:10,  2.18it/s]\u001b[A\n",
      "28it [00:10,  2.69it/s]\u001b[A\n",
      "29it [00:10,  2.62it/s]\u001b[A\n",
      "30it [00:11,  2.66it/s]\u001b[A\n",
      "31it [00:11,  2.58it/s]\u001b[A\n",
      "32it [00:11,  2.74it/s]\u001b[A\n",
      "33it [00:12,  2.58it/s]\u001b[A\n",
      "34it [00:13,  1.80it/s]\u001b[A\n",
      "35it [00:13,  1.73it/s]\u001b[A\n",
      "36it [00:14,  2.18it/s]\u001b[A\n",
      "37it [00:14,  2.29it/s]\u001b[A\n",
      "38it [00:14,  2.45it/s]\u001b[A\n",
      "39it [00:15,  2.37it/s]\u001b[A\n",
      "40it [00:15,  2.39it/s]\u001b[A\n",
      "41it [00:15,  2.75it/s]\u001b[A\n",
      "42it [00:16,  2.53it/s]\u001b[A\n",
      "43it [00:16,  2.64it/s]\u001b[A\n",
      "44it [00:17,  2.81it/s]\u001b[A\n",
      "45it [00:17,  2.56it/s]\u001b[A\n",
      "46it [00:17,  2.81it/s]\u001b[A\n",
      "47it [00:18,  2.79it/s]\u001b[A\n",
      "48it [00:18,  2.57it/s]\u001b[A\n",
      "49it [00:18,  2.61it/s]\u001b[A\n",
      "50it [00:19,  2.65it/s]\u001b[A\n",
      "51it [00:19,  2.64it/s]\u001b[A\n",
      "52it [00:20,  2.15it/s]\u001b[A\n",
      "53it [00:20,  2.18it/s]\u001b[A\n",
      "54it [00:21,  2.55it/s]\u001b[A\n",
      "55it [00:21,  2.56it/s]\u001b[A\n",
      "56it [00:21,  2.52it/s]\u001b[A\n",
      "57it [00:22,  2.67it/s]\u001b[A\n",
      "58it [00:22,  2.67it/s]\u001b[A\n",
      "59it [00:22,  2.70it/s]\u001b[A\n",
      "60it [00:23,  2.62it/s]\u001b[A\n",
      "61it [00:24,  1.48it/s]\u001b[A\n",
      "62it [00:24,  1.91it/s]\u001b[A\n",
      "63it [00:25,  1.70it/s]\u001b[A\n",
      "64it [00:25,  2.11it/s]\u001b[A\n",
      "65it [00:26,  1.85it/s]\u001b[A\n",
      "66it [00:26,  2.31it/s]\u001b[A\n",
      "67it [00:27,  2.42it/s]\u001b[A\n",
      "68it [00:27,  2.38it/s]\u001b[A\n",
      "69it [00:27,  2.47it/s]\u001b[A\n",
      "70it [00:28,  2.59it/s]\u001b[A\n",
      "71it [00:28,  2.75it/s]\u001b[A\n",
      "72it [00:28,  2.70it/s]\u001b[A\n",
      "73it [00:29,  1.88it/s]\u001b[A\n",
      "74it [00:30,  2.24it/s]\u001b[A"
     ]
    },
    {
     "name": "stdout",
     "output_type": "stream",
     "text": [
      "Error here in ID30590971\n"
     ]
    },
    {
     "name": "stderr",
     "output_type": "stream",
     "text": [
      "\n",
      "75it [00:30,  2.42it/s]\u001b[A\n",
      "76it [00:30,  2.59it/s]\u001b[A\n",
      "77it [00:31,  2.47it/s]\u001b[A\n",
      "78it [00:31,  2.54it/s]\u001b[A\n",
      "79it [00:31,  2.54it/s]\u001b[A\n",
      "80it [00:32,  2.63it/s]\u001b[A\n",
      "81it [00:32,  2.66it/s]\u001b[A"
     ]
    },
    {
     "name": "stdout",
     "output_type": "stream",
     "text": [
      "Error here in ID30551643\n"
     ]
    },
    {
     "name": "stderr",
     "output_type": "stream",
     "text": [
      "\n",
      "82it [00:32,  2.79it/s]\u001b[A\n",
      "83it [00:33,  2.62it/s]\u001b[A\n",
      "84it [00:33,  2.63it/s]\u001b[A\n",
      "85it [00:34,  2.78it/s]\u001b[A\n",
      "86it [00:34,  2.63it/s]\u001b[A"
     ]
    },
    {
     "name": "stdout",
     "output_type": "stream",
     "text": [
      "Error here in ID30574541\n"
     ]
    },
    {
     "name": "stderr",
     "output_type": "stream",
     "text": [
      "\n",
      "87it [00:34,  2.66it/s]\u001b[A\n",
      "88it [00:35,  2.82it/s]\u001b[A\n",
      "89it [00:35,  2.74it/s]\u001b[A\n",
      "90it [00:35,  2.64it/s]\u001b[A\n",
      "91it [00:36,  2.81it/s]\u001b[A\n",
      "92it [00:36,  2.64it/s]\u001b[A\n",
      "93it [00:37,  2.55it/s]\u001b[A\n",
      "94it [00:37,  2.85it/s]\u001b[A\n",
      "95it [00:37,  2.81it/s]\u001b[A\n",
      "96it [00:38,  2.57it/s]\u001b[A\n",
      "97it [00:38,  2.12it/s]\u001b[A\n",
      "98it [00:39,  2.60it/s]\u001b[A\n",
      "99it [00:39,  2.64it/s]\u001b[A\n",
      "100it [00:40,  2.48it/s]\n",
      " 17%|█▋        | 3/18 [01:58<09:55, 39.67s/it]"
     ]
    },
    {
     "name": "stdout",
     "output_type": "stream",
     "text": [
      "dict_keys(['ABSTRACTdf_2018_12_G343', 'ABSTRACTdf_2018_12_G344', 'ABSTRACTdf_2018_12_G345'])\n",
      "Creating Dataframe of articles for df_2018_12_G346\n"
     ]
    },
    {
     "name": "stderr",
     "output_type": "stream",
     "text": [
      "\n",
      "0it [00:00, ?it/s]\u001b[A\n",
      "1it [00:00,  5.51it/s]\u001b[A\n",
      "2it [00:00,  3.37it/s]\u001b[A\n",
      "3it [00:00,  2.99it/s]\u001b[A\n",
      "4it [00:01,  2.78it/s]\u001b[A\n",
      "5it [00:01,  2.65it/s]\u001b[A\n",
      "6it [00:02,  2.31it/s]\u001b[A\n",
      "7it [00:02,  2.83it/s]\u001b[A\n",
      "8it [00:02,  2.67it/s]\u001b[A\n",
      "9it [00:03,  2.62it/s]\u001b[A\n",
      "10it [00:03,  2.85it/s]\u001b[A\n",
      "11it [00:04,  2.56it/s]\u001b[A\n",
      "12it [00:04,  2.78it/s]\u001b[A\n",
      "13it [00:04,  2.66it/s]\u001b[A\n",
      "14it [00:05,  2.85it/s]\u001b[A\n",
      "15it [00:05,  2.78it/s]\u001b[A\n",
      "16it [00:05,  2.81it/s]\u001b[A\n",
      "17it [00:06,  2.74it/s]\u001b[A\n",
      "18it [00:06,  2.67it/s]\u001b[A\n",
      "19it [00:07,  2.51it/s]\u001b[A\n",
      "20it [00:07,  2.68it/s]\u001b[A\n",
      "21it [00:07,  2.60it/s]\u001b[A\n",
      "22it [00:08,  2.88it/s]\u001b[A\n",
      "23it [00:08,  2.82it/s]\u001b[A\n",
      "24it [00:08,  2.60it/s]\u001b[A\n",
      "25it [00:09,  2.83it/s]\u001b[A\n",
      "26it [00:09,  2.78it/s]\u001b[A\n",
      "27it [00:09,  2.76it/s]\u001b[A\n",
      "28it [00:10,  2.60it/s]\u001b[A\n",
      "29it [00:10,  2.60it/s]\u001b[A\n",
      "30it [00:11,  2.63it/s]\u001b[A\n",
      "31it [00:12,  1.52it/s]\u001b[A\n",
      "32it [00:12,  1.83it/s]\u001b[A\n",
      "33it [00:12,  2.19it/s]\u001b[A\n",
      "34it [00:13,  2.20it/s]\u001b[A\n",
      "35it [00:13,  2.26it/s]\u001b[A\n",
      "36it [00:14,  2.46it/s]\u001b[A"
     ]
    },
    {
     "name": "stdout",
     "output_type": "stream",
     "text": [
      "Error here in ID30562053\n"
     ]
    },
    {
     "name": "stderr",
     "output_type": "stream",
     "text": [
      "\n",
      "37it [00:14,  2.44it/s]\u001b[A\n",
      "38it [00:14,  2.76it/s]\u001b[A\n",
      "39it [00:15,  2.58it/s]\u001b[A\n",
      "40it [00:15,  2.61it/s]\u001b[A\n",
      "41it [00:15,  2.77it/s]\u001b[A\n",
      "42it [00:16,  2.53it/s]\u001b[A\n",
      "43it [00:16,  2.67it/s]\u001b[A\n",
      "44it [00:17,  2.46it/s]\u001b[A\n",
      "45it [00:17,  2.74it/s]\u001b[A\n",
      "46it [00:17,  2.53it/s]\u001b[A\n",
      "47it [00:18,  2.07it/s]\u001b[A\n",
      "48it [00:18,  2.54it/s]\u001b[A\n",
      "49it [00:19,  2.63it/s]\u001b[A\n",
      "50it [00:19,  2.40it/s]\u001b[A\n",
      "51it [00:19,  2.57it/s]\u001b[A\n",
      "52it [00:20,  2.76it/s]\u001b[A\n",
      "53it [00:20,  2.79it/s]\u001b[A\n",
      "54it [00:20,  2.76it/s]\u001b[A\n",
      "55it [00:21,  2.54it/s]\u001b[A\n",
      "56it [00:22,  2.07it/s]\u001b[A\n",
      "57it [00:22,  2.54it/s]\u001b[A\n",
      "58it [00:22,  2.58it/s]\u001b[A\n",
      "59it [00:23,  2.50it/s]\u001b[A\n",
      "60it [00:23,  2.00it/s]\u001b[A\n",
      "61it [00:24,  2.21it/s]\u001b[A\n",
      "62it [00:24,  2.61it/s]\u001b[A\n",
      "63it [00:24,  2.69it/s]\u001b[A\n",
      "64it [00:25,  2.64it/s]\u001b[A\n",
      "65it [00:25,  2.49it/s]\u001b[A\n",
      "66it [00:25,  2.73it/s]\u001b[A\n",
      "67it [00:26,  2.76it/s]\u001b[A\n",
      "68it [00:26,  2.66it/s]\u001b[A\n",
      "69it [00:26,  2.78it/s]\u001b[A\n",
      "70it [00:27,  2.53it/s]\u001b[A\n",
      "71it [00:27,  2.80it/s]\u001b[A\n",
      "72it [00:28,  2.48it/s]\u001b[A\n",
      "73it [00:28,  2.86it/s]\u001b[A\n",
      "74it [00:28,  2.52it/s]\u001b[A\n",
      "75it [00:29,  2.38it/s]\u001b[A\n",
      "76it [00:29,  2.56it/s]\u001b[A\n",
      "77it [00:30,  2.71it/s]\u001b[A\n",
      "78it [00:30,  2.92it/s]\u001b[A\n",
      "79it [00:30,  2.82it/s]\u001b[A\n",
      "80it [00:31,  2.79it/s]\u001b[A\n",
      "81it [00:31,  2.60it/s]\u001b[A\n",
      "82it [00:32,  2.39it/s]\u001b[A\n",
      "83it [00:32,  2.72it/s]\u001b[A\n",
      "84it [00:32,  2.13it/s]\u001b[A\n",
      "85it [00:33,  2.65it/s]\u001b[A\n",
      "86it [00:33,  2.49it/s]\u001b[A\n",
      "87it [00:34,  2.02it/s]\u001b[A\n",
      "88it [00:34,  2.46it/s]\u001b[A\n",
      "89it [00:34,  2.61it/s]\u001b[A\n",
      "90it [00:35,  2.60it/s]\u001b[A"
     ]
    },
    {
     "name": "stdout",
     "output_type": "stream",
     "text": [
      "Error here in ID30509942\n"
     ]
    },
    {
     "name": "stderr",
     "output_type": "stream",
     "text": [
      "\n",
      "91it [00:35,  2.59it/s]\u001b[A\n",
      "92it [00:35,  2.70it/s]\u001b[A\n",
      "93it [00:36,  2.64it/s]\u001b[A\n",
      "94it [00:36,  2.51it/s]\u001b[A\n",
      "95it [00:37,  2.78it/s]\u001b[A\n",
      "96it [00:38,  1.88it/s]\u001b[A\n",
      "97it [00:38,  2.20it/s]\u001b[A\n",
      "98it [00:38,  2.52it/s]\u001b[A\n",
      "99it [00:38,  2.50it/s]\u001b[A\n",
      "100it [00:39,  2.54it/s]\n",
      " 22%|██▏       | 4/18 [02:38<09:13, 39.53s/it]"
     ]
    },
    {
     "name": "stdout",
     "output_type": "stream",
     "text": [
      "dict_keys(['ABSTRACTdf_2018_12_G343', 'ABSTRACTdf_2018_12_G344', 'ABSTRACTdf_2018_12_G345', 'ABSTRACTdf_2018_12_G346'])\n",
      "Creating Dataframe of articles for df_2018_12_G347\n"
     ]
    },
    {
     "name": "stderr",
     "output_type": "stream",
     "text": [
      "\n",
      "0it [00:00, ?it/s]\u001b[A\n",
      "1it [00:00,  2.79it/s]\u001b[A\n",
      "2it [00:00,  2.43it/s]\u001b[A\n",
      "3it [00:01,  2.48it/s]\u001b[A\n",
      "4it [00:01,  2.74it/s]\u001b[A\n",
      "5it [00:01,  2.87it/s]\u001b[A\n",
      "6it [00:02,  2.57it/s]\u001b[A\n",
      "7it [00:02,  2.90it/s]\u001b[A\n",
      "8it [00:02,  2.77it/s]\u001b[A\n",
      "9it [00:03,  2.82it/s]\u001b[A\n",
      "10it [00:03,  2.55it/s]\u001b[A\n",
      "11it [00:04,  2.74it/s]\u001b[A\n",
      "12it [00:04,  2.50it/s]\u001b[A\n",
      "13it [00:04,  2.88it/s]\u001b[A\n",
      "14it [00:05,  2.64it/s]\u001b[A\n",
      "15it [00:05,  2.80it/s]\u001b[A\n",
      "16it [00:05,  2.63it/s]\u001b[A\n",
      "17it [00:06,  2.85it/s]\u001b[A\n",
      "18it [00:06,  2.73it/s]\u001b[A\n",
      "19it [00:07,  2.71it/s]\u001b[A\n",
      "20it [00:07,  2.68it/s]\u001b[A\n",
      "21it [00:07,  2.74it/s]\u001b[A\n",
      "22it [00:08,  2.70it/s]\u001b[A\n",
      "23it [00:08,  2.73it/s]\u001b[A\n",
      "24it [00:09,  2.11it/s]\u001b[A\n",
      "25it [00:09,  2.60it/s]\u001b[A\n",
      "26it [00:09,  2.61it/s]\u001b[A\n",
      "27it [00:10,  2.54it/s]\u001b[A\n",
      "28it [00:10,  2.76it/s]\u001b[A\n",
      "29it [00:10,  2.67it/s]\u001b[A\n",
      "30it [00:11,  2.73it/s]\u001b[A\n",
      "31it [00:11,  2.73it/s]\u001b[A\n",
      "32it [00:12,  2.46it/s]\u001b[A\n",
      "33it [00:12,  2.11it/s]\u001b[A\n",
      "34it [00:13,  1.79it/s]\u001b[A\n",
      "35it [00:13,  2.23it/s]\u001b[A\n",
      "36it [00:14,  2.40it/s]\u001b[A\n",
      "37it [00:14,  1.76it/s]\u001b[A\n",
      "38it [00:15,  2.21it/s]\u001b[A\n",
      "39it [00:15,  2.37it/s]\u001b[A\n",
      "40it [00:15,  2.31it/s]\u001b[A\n",
      "41it [00:16,  2.54it/s]\u001b[A\n",
      "42it [00:16,  2.54it/s]\u001b[A\n",
      "43it [00:17,  2.52it/s]\u001b[A\n",
      "44it [00:17,  2.71it/s]\u001b[A\n",
      "45it [00:17,  2.23it/s]\u001b[A\n",
      "46it [00:18,  2.66it/s]\u001b[A\n",
      "47it [00:18,  2.59it/s]\u001b[A\n",
      "48it [00:18,  2.60it/s]\u001b[A\n",
      "49it [00:19,  2.79it/s]\u001b[A\n",
      "50it [00:19,  2.81it/s]\u001b[A\n",
      "51it [00:20,  2.00it/s]\u001b[A\n",
      "52it [00:20,  2.46it/s]\u001b[A\n",
      "53it [00:21,  2.00it/s]\u001b[A\n",
      "54it [00:21,  2.48it/s]\u001b[A\n",
      "55it [00:22,  2.05it/s]\u001b[A\n",
      "56it [00:22,  2.48it/s]\u001b[A\n",
      "57it [00:22,  2.58it/s]\u001b[A\n",
      "58it [00:23,  2.41it/s]\u001b[A\n",
      "59it [00:23,  2.77it/s]\u001b[A\n",
      "60it [00:23,  2.71it/s]\u001b[A\n",
      "61it [00:24,  2.70it/s]\u001b[A\n",
      "62it [00:24,  2.74it/s]\u001b[A\n",
      "63it [00:25,  2.57it/s]\u001b[A\n",
      "64it [00:25,  2.59it/s]\u001b[A\n",
      "65it [00:26,  1.99it/s]\u001b[A\n",
      "66it [00:26,  2.44it/s]\u001b[A\n",
      "67it [00:26,  2.50it/s]\u001b[A\n",
      "68it [00:27,  2.38it/s]\u001b[A\n",
      "69it [00:27,  2.50it/s]\u001b[A\n",
      "70it [00:29,  1.09it/s]\u001b[A\n",
      "71it [00:29,  1.45it/s]\u001b[A\n",
      "72it [00:30,  1.56it/s]\u001b[A\n",
      "73it [00:30,  1.92it/s]\u001b[A\n",
      "74it [00:31,  1.80it/s]\u001b[A\n",
      "75it [00:31,  2.24it/s]\u001b[A\n",
      "76it [00:31,  2.41it/s]\u001b[A\n",
      "77it [00:32,  2.44it/s]\u001b[A\n",
      "78it [00:33,  1.39it/s]\u001b[A\n",
      "79it [00:33,  1.79it/s]\u001b[A\n",
      "80it [00:34,  2.00it/s]\u001b[A\n",
      "81it [00:34,  2.19it/s]\u001b[A\n",
      "82it [00:34,  2.29it/s]\u001b[A\n",
      "83it [00:35,  2.39it/s]\u001b[A\n",
      "84it [00:35,  2.50it/s]\u001b[A\n",
      "85it [00:36,  2.58it/s]\u001b[A\n",
      "86it [00:36,  2.62it/s]\u001b[A\n",
      "87it [00:36,  2.61it/s]\u001b[A\n",
      "88it [00:37,  2.65it/s]\u001b[A\n",
      "89it [00:37,  2.35it/s]\u001b[A\n",
      "90it [00:37,  2.83it/s]\u001b[A\n",
      "91it [00:38,  2.57it/s]\u001b[A\n",
      "92it [00:38,  2.79it/s]\u001b[A\n",
      "93it [00:38,  2.81it/s]\u001b[A\n",
      "94it [00:39,  2.73it/s]\u001b[A\n",
      "95it [00:39,  2.76it/s]\u001b[A\n",
      "96it [00:40,  2.49it/s]\u001b[A\n",
      "97it [00:40,  2.77it/s]\u001b[A\n",
      "98it [00:40,  2.61it/s]\u001b[A\n",
      "99it [00:41,  2.66it/s]\u001b[A\n",
      "100it [00:41,  2.40it/s]\n",
      " 28%|██▊       | 5/18 [03:19<08:43, 40.29s/it]"
     ]
    },
    {
     "name": "stdout",
     "output_type": "stream",
     "text": [
      "dict_keys(['ABSTRACTdf_2018_12_G343', 'ABSTRACTdf_2018_12_G344', 'ABSTRACTdf_2018_12_G345', 'ABSTRACTdf_2018_12_G346', 'ABSTRACTdf_2018_12_G347'])\n",
      "Creating Dataframe of articles for df_2018_12_G348\n"
     ]
    },
    {
     "name": "stderr",
     "output_type": "stream",
     "text": [
      "\n",
      "0it [00:00, ?it/s]\u001b[A\n",
      "1it [00:00,  2.87it/s]\u001b[A\n",
      "2it [00:00,  2.45it/s]\u001b[A\n",
      "3it [00:01,  2.52it/s]\u001b[A\n",
      "4it [00:01,  2.76it/s]\u001b[A\n",
      "5it [00:01,  2.69it/s]\u001b[A\n",
      "6it [00:02,  2.84it/s]\u001b[A\n",
      "7it [00:02,  2.81it/s]\u001b[A"
     ]
    },
    {
     "name": "stdout",
     "output_type": "stream",
     "text": [
      "Error here in ID30546460\n"
     ]
    },
    {
     "name": "stderr",
     "output_type": "stream",
     "text": [
      "\n",
      "8it [00:02,  2.80it/s]\u001b[A\n",
      "9it [00:03,  2.75it/s]\u001b[A\n",
      "10it [00:03,  2.58it/s]\u001b[A\n",
      "11it [00:04,  2.76it/s]\u001b[A\n",
      "12it [00:04,  2.55it/s]\u001b[A\n",
      "13it [00:04,  2.85it/s]\u001b[A\n",
      "14it [00:05,  2.67it/s]\u001b[A\n",
      "15it [00:05,  2.81it/s]\u001b[A\n",
      "16it [00:05,  2.73it/s]\u001b[A"
     ]
    },
    {
     "name": "stdout",
     "output_type": "stream",
     "text": [
      "Error here in ID30555418\n"
     ]
    },
    {
     "name": "stderr",
     "output_type": "stream",
     "text": [
      "\n",
      "17it [00:06,  2.68it/s]\u001b[A\n",
      "18it [00:06,  2.68it/s]\u001b[A\n",
      "19it [00:06,  2.78it/s]\u001b[A\n",
      "20it [00:07,  2.77it/s]\u001b[A\n",
      "21it [00:07,  2.73it/s]\u001b[A\n",
      "22it [00:08,  2.67it/s]\u001b[A\n",
      "23it [00:08,  2.55it/s]\u001b[A\n",
      "24it [00:08,  2.76it/s]\u001b[A\n",
      "25it [00:09,  2.15it/s]\u001b[A\n",
      "26it [00:09,  2.38it/s]\u001b[A\n",
      "27it [00:10,  2.74it/s]\u001b[A\n",
      "28it [00:10,  2.75it/s]\u001b[A\n",
      "29it [00:10,  2.43it/s]\u001b[A\n",
      "30it [00:11,  2.52it/s]\u001b[A\n",
      "31it [00:11,  2.72it/s]\u001b[A\n",
      "32it [00:11,  2.83it/s]\u001b[A\n",
      "33it [00:12,  2.79it/s]\u001b[A\n",
      "34it [00:12,  2.85it/s]\u001b[A\n",
      "35it [00:13,  2.62it/s]\u001b[A\n",
      "36it [00:13,  2.70it/s]\u001b[A\n",
      "37it [00:13,  2.83it/s]\u001b[A\n",
      "38it [00:14,  2.74it/s]\u001b[A\n",
      "39it [00:15,  1.87it/s]\u001b[A\n",
      "40it [00:15,  2.37it/s]\u001b[A\n",
      "41it [00:15,  2.43it/s]\u001b[A\n",
      "42it [00:16,  2.18it/s]\u001b[A\n",
      "43it [00:16,  2.57it/s]\u001b[A\n",
      "44it [00:16,  2.57it/s]\u001b[A\n",
      "45it [00:17,  2.76it/s]\u001b[A\n",
      "46it [00:17,  2.10it/s]\u001b[A\n",
      "47it [00:18,  2.61it/s]\u001b[A\n",
      "48it [00:18,  2.63it/s]\u001b[A\n",
      "49it [00:18,  2.66it/s]\u001b[A\n",
      "50it [00:19,  2.64it/s]\u001b[A\n",
      "51it [00:19,  2.66it/s]\u001b[A\n",
      "52it [00:19,  2.66it/s]\u001b[A\n",
      "53it [00:20,  2.73it/s]\u001b[A\n",
      "54it [00:20,  2.65it/s]\u001b[A\n",
      "55it [00:21,  2.66it/s]\u001b[A\n",
      "56it [00:21,  2.52it/s]\u001b[A\n",
      "57it [00:21,  2.76it/s]\u001b[A\n",
      "58it [00:22,  2.79it/s]\u001b[A\n",
      "59it [00:22,  2.72it/s]\u001b[A\n",
      "60it [00:22,  2.70it/s]\u001b[A\n",
      "61it [00:23,  2.76it/s]\u001b[A\n",
      "62it [00:24,  1.99it/s]\u001b[A\n",
      "63it [00:24,  2.46it/s]\u001b[A\n",
      "64it [00:24,  1.95it/s]\u001b[A\n",
      "65it [00:25,  2.16it/s]\u001b[A\n",
      "66it [00:25,  2.46it/s]\u001b[A\n",
      "67it [00:25,  2.69it/s]\u001b[A\n",
      "68it [00:26,  2.50it/s]\u001b[A\n",
      "69it [00:26,  2.70it/s]\u001b[A\n",
      "70it [00:27,  2.72it/s]\u001b[A\n",
      "71it [00:27,  2.36it/s]\u001b[A\n",
      "72it [00:27,  2.70it/s]\u001b[A\n",
      "73it [00:28,  2.91it/s]\u001b[A\n",
      "74it [00:28,  2.78it/s]\u001b[A\n",
      "75it [00:28,  2.60it/s]\u001b[A\n",
      "76it [00:29,  2.83it/s]\u001b[A\n",
      "77it [00:29,  2.62it/s]\u001b[A\n",
      "78it [00:29,  2.81it/s]\u001b[A\n",
      "79it [00:30,  2.80it/s]\u001b[A\n",
      "80it [00:30,  2.77it/s]\u001b[A\n",
      "81it [00:31,  2.56it/s]\u001b[A\n",
      "82it [00:31,  2.80it/s]\u001b[A\n",
      "83it [00:31,  2.67it/s]\u001b[A\n",
      "84it [00:32,  2.75it/s]\u001b[A\n",
      "85it [00:32,  2.21it/s]\u001b[A\n",
      "86it [00:33,  2.68it/s]\u001b[A\n",
      "87it [00:33,  2.65it/s]\u001b[A\n",
      "88it [00:33,  2.76it/s]\u001b[A\n",
      "89it [00:34,  2.56it/s]\u001b[A\n",
      "90it [00:34,  2.67it/s]\u001b[A\n",
      "91it [00:34,  2.75it/s]\u001b[A\n",
      "92it [00:35,  2.75it/s]\u001b[A\n",
      "93it [00:35,  2.77it/s]\u001b[A\n",
      "94it [00:36,  2.65it/s]\u001b[A\n",
      "95it [00:36,  2.65it/s]\u001b[A\n",
      "96it [00:36,  2.79it/s]\u001b[A\n",
      "97it [00:37,  2.67it/s]\u001b[A\n",
      "98it [00:38,  1.85it/s]\u001b[A\n",
      "99it [00:38,  2.31it/s]\u001b[A\n",
      "100it [00:38,  2.59it/s]\n",
      " 33%|███▎      | 6/18 [03:58<07:56, 39.72s/it]"
     ]
    },
    {
     "name": "stdout",
     "output_type": "stream",
     "text": [
      "dict_keys(['ABSTRACTdf_2018_12_G343', 'ABSTRACTdf_2018_12_G344', 'ABSTRACTdf_2018_12_G345', 'ABSTRACTdf_2018_12_G346', 'ABSTRACTdf_2018_12_G347', 'ABSTRACTdf_2018_12_G348'])\n",
      "Creating Dataframe of articles for df_2018_12_G349\n"
     ]
    },
    {
     "name": "stderr",
     "output_type": "stream",
     "text": [
      "\n",
      "0it [00:00, ?it/s]\u001b[A\n",
      "1it [00:00,  2.68it/s]\u001b[A\n",
      "2it [00:00,  2.70it/s]\u001b[A\n",
      "3it [00:01,  2.57it/s]\u001b[A\n",
      "4it [00:01,  2.79it/s]\u001b[A\n",
      "5it [00:01,  2.64it/s]\u001b[A\n",
      "6it [00:02,  2.71it/s]\u001b[A\n",
      "7it [00:02,  2.75it/s]\u001b[A\n",
      "8it [00:02,  2.69it/s]\u001b[A\n",
      "9it [00:03,  2.74it/s]\u001b[A\n",
      "10it [00:03,  2.73it/s]\u001b[A\n",
      "11it [00:04,  2.62it/s]\u001b[A\n",
      "12it [00:04,  2.51it/s]\u001b[A\n",
      "13it [00:04,  2.76it/s]\u001b[A\n",
      "14it [00:05,  2.70it/s]\u001b[A\n",
      "15it [00:05,  2.62it/s]\u001b[A\n",
      "16it [00:05,  2.74it/s]\u001b[A\n",
      "17it [00:06,  2.73it/s]\u001b[A\n",
      "18it [00:06,  2.75it/s]\u001b[A\n",
      "19it [00:07,  2.66it/s]\u001b[A\n",
      "20it [00:07,  2.78it/s]\u001b[A\n",
      "21it [00:07,  2.48it/s]\u001b[A\n",
      "22it [00:08,  2.86it/s]\u001b[A\n",
      "23it [00:08,  2.81it/s]\u001b[A\n",
      "24it [00:08,  2.79it/s]\u001b[A\n",
      "25it [00:09,  2.72it/s]\u001b[A"
     ]
    },
    {
     "name": "stdout",
     "output_type": "stream",
     "text": [
      "Error here in ID30564216\n"
     ]
    },
    {
     "name": "stderr",
     "output_type": "stream",
     "text": [
      "\n",
      "26it [00:09,  2.70it/s]\u001b[A\n",
      "27it [00:09,  2.76it/s]\u001b[A\n",
      "28it [00:10,  2.56it/s]\u001b[A\n",
      "29it [00:10,  2.79it/s]\u001b[A\n",
      "30it [00:11,  2.77it/s]\u001b[A\n",
      "31it [00:11,  2.74it/s]\u001b[A\n",
      "32it [00:11,  2.66it/s]\u001b[A\n",
      "33it [00:12,  2.60it/s]\u001b[A\n",
      "34it [00:12,  2.78it/s]\u001b[A\n",
      "35it [00:13,  2.58it/s]\u001b[A\n",
      "36it [00:13,  2.64it/s]\u001b[A\n",
      "37it [00:13,  2.76it/s]\u001b[A\n",
      "38it [00:14,  2.63it/s]\u001b[A\n",
      "39it [00:14,  2.73it/s]\u001b[A\n",
      "40it [00:14,  2.61it/s]\u001b[A\n",
      "41it [00:15,  2.60it/s]\u001b[A\n",
      "42it [00:15,  2.83it/s]\u001b[A\n",
      "43it [00:15,  2.78it/s]\u001b[A\n",
      "44it [00:16,  2.74it/s]\u001b[A\n",
      "45it [00:16,  2.75it/s]\u001b[A\n",
      "46it [00:17,  2.78it/s]\u001b[A\n",
      "47it [00:17,  2.03it/s]\u001b[A\n",
      "48it [00:18,  2.32it/s]\u001b[A\n",
      "49it [00:18,  2.62it/s]\u001b[A\n",
      "50it [00:18,  2.51it/s]\u001b[A\n",
      "51it [00:19,  2.75it/s]\u001b[A\n",
      "52it [00:19,  2.72it/s]\u001b[A\n",
      "53it [00:19,  2.71it/s]\u001b[A\n",
      "54it [00:20,  2.54it/s]\u001b[A\n",
      "55it [00:20,  2.39it/s]\u001b[A\n",
      "56it [00:20,  2.75it/s]\u001b[A\n",
      "57it [00:21,  2.87it/s]\u001b[A\n",
      "58it [00:21,  2.78it/s]\u001b[A\n",
      "59it [00:22,  2.52it/s]\u001b[A\n",
      "60it [00:22,  2.86it/s]\u001b[A\n",
      "61it [00:22,  2.81it/s]\u001b[A\n",
      "62it [00:23,  2.78it/s]\u001b[A\n",
      "63it [00:23,  2.70it/s]\u001b[A\n",
      "64it [00:23,  2.60it/s]\u001b[A\n",
      "65it [00:24,  2.70it/s]\u001b[A\n",
      "66it [00:24,  2.69it/s]\u001b[A\n",
      "67it [00:25,  2.69it/s]\u001b[A\n",
      "68it [00:25,  2.12it/s]\u001b[A\n",
      "69it [00:25,  2.64it/s]\u001b[A\n",
      "70it [00:26,  2.60it/s]\u001b[A\n",
      "71it [00:26,  2.65it/s]\u001b[A\n",
      "72it [00:27,  2.63it/s]\u001b[A\n",
      "73it [00:27,  2.67it/s]\u001b[A\n",
      "74it [00:27,  2.45it/s]\u001b[A\n",
      "75it [00:28,  2.22it/s]\u001b[A\n",
      "76it [00:28,  2.30it/s]\u001b[A\n",
      "77it [00:29,  2.71it/s]\u001b[A\n",
      "78it [00:29,  2.65it/s]\u001b[A\n",
      "79it [00:29,  2.84it/s]\u001b[A\n",
      "80it [00:30,  2.81it/s]\u001b[A\n",
      "81it [00:30,  2.70it/s]\u001b[A\n",
      "82it [00:30,  2.62it/s]\u001b[A\n",
      "83it [00:31,  2.75it/s]\u001b[A\n",
      "84it [00:31,  2.73it/s]\u001b[A\n",
      "85it [00:31,  2.75it/s]\u001b[A\n",
      "86it [00:32,  2.58it/s]\u001b[A\n",
      "87it [00:32,  2.68it/s]\u001b[A\n",
      "88it [00:33,  2.79it/s]\u001b[A\n",
      "89it [00:33,  2.77it/s]\u001b[A\n",
      "90it [00:33,  2.72it/s]\u001b[A\n",
      "91it [00:34,  2.65it/s]\u001b[A\n",
      "92it [00:34,  2.77it/s]\u001b[A\n",
      "93it [00:34,  2.69it/s]\u001b[A\n",
      "94it [00:35,  2.69it/s]\u001b[A\n",
      "95it [00:35,  2.66it/s]\u001b[A\n",
      "96it [00:36,  2.67it/s]\u001b[A\n",
      "97it [00:36,  2.72it/s]\u001b[A\n",
      "98it [00:37,  1.89it/s]\u001b[A\n",
      "99it [00:37,  2.31it/s]\u001b[A\n",
      "100it [00:37,  2.64it/s]\n",
      " 39%|███▉      | 7/18 [04:36<07:10, 39.13s/it]"
     ]
    },
    {
     "name": "stdout",
     "output_type": "stream",
     "text": [
      "dict_keys(['ABSTRACTdf_2018_12_G343', 'ABSTRACTdf_2018_12_G344', 'ABSTRACTdf_2018_12_G345', 'ABSTRACTdf_2018_12_G346', 'ABSTRACTdf_2018_12_G347', 'ABSTRACTdf_2018_12_G348', 'ABSTRACTdf_2018_12_G349'])\n",
      "Creating Dataframe of articles for df_2018_12_G350\n"
     ]
    },
    {
     "name": "stderr",
     "output_type": "stream",
     "text": [
      "\n",
      "0it [00:00, ?it/s]\u001b[A\n",
      "1it [00:00,  2.62it/s]\u001b[A\n",
      "2it [00:00,  2.36it/s]\u001b[A\n",
      "3it [00:01,  2.64it/s]\u001b[A\n",
      "4it [00:01,  2.79it/s]\u001b[A\n",
      "5it [00:01,  2.75it/s]\u001b[A\n",
      "6it [00:02,  2.79it/s]\u001b[A\n",
      "7it [00:02,  2.79it/s]\u001b[A\n",
      "8it [00:02,  2.71it/s]\u001b[A\n",
      "9it [00:03,  2.74it/s]\u001b[A\n",
      "10it [00:03,  2.70it/s]\u001b[A\n",
      "11it [00:04,  2.69it/s]\u001b[A\n",
      "12it [00:04,  1.86it/s]\u001b[A\n",
      "13it [00:05,  2.35it/s]\u001b[A\n",
      "14it [00:05,  2.46it/s]\u001b[A\n",
      "15it [00:06,  2.23it/s]\u001b[A\n",
      "16it [00:06,  2.64it/s]\u001b[A\n",
      "17it [00:06,  2.69it/s]\u001b[A\n",
      "18it [00:07,  2.47it/s]\u001b[A\n",
      "19it [00:07,  2.71it/s]\u001b[A\n",
      "20it [00:07,  2.73it/s]\u001b[A\n",
      "21it [00:08,  2.72it/s]\u001b[A\n",
      "22it [00:08,  2.69it/s]\u001b[A\n",
      "23it [00:08,  2.72it/s]\u001b[A\n",
      "24it [00:09,  2.71it/s]\u001b[A\n",
      "25it [00:09,  2.42it/s]\u001b[A\n",
      "26it [00:10,  2.47it/s]\u001b[A\n",
      "27it [00:10,  2.45it/s]\u001b[A\n",
      "28it [00:11,  2.29it/s]\u001b[A\n",
      "29it [00:11,  2.75it/s]\u001b[A\n",
      "30it [00:11,  2.81it/s]\u001b[A\n",
      "31it [00:12,  2.60it/s]\u001b[A\n",
      "32it [00:13,  1.22it/s]\u001b[A\n",
      "33it [00:14,  1.59it/s]\u001b[A\n",
      "34it [00:14,  1.83it/s]\u001b[A\n",
      "35it [00:14,  2.01it/s]\u001b[A\n",
      "36it [00:15,  2.20it/s]\u001b[A\n",
      "37it [00:15,  2.27it/s]\u001b[A\n",
      "38it [00:16,  2.21it/s]\u001b[A\n",
      "39it [00:16,  2.47it/s]\u001b[A\n",
      "40it [00:16,  2.39it/s]\u001b[A\n",
      "41it [00:17,  2.70it/s]\u001b[A\n",
      "42it [00:17,  2.77it/s]\u001b[A\n",
      "43it [00:17,  2.68it/s]\u001b[A\n",
      "44it [00:18,  2.71it/s]\u001b[A\n",
      "45it [00:18,  2.72it/s]\u001b[A\n",
      "46it [00:18,  2.69it/s]\u001b[A\n",
      "47it [00:19,  2.75it/s]\u001b[A\n",
      "48it [00:19,  2.57it/s]\u001b[A\n",
      "49it [00:20,  2.17it/s]\u001b[A\n",
      "50it [00:20,  2.63it/s]\u001b[A\n",
      "51it [00:21,  1.58it/s]\u001b[A\n",
      "52it [00:21,  1.93it/s]\u001b[A\n",
      "53it [00:22,  2.19it/s]\u001b[A\n",
      "54it [00:22,  2.34it/s]\u001b[A\n",
      "55it [00:23,  2.33it/s]\u001b[A\n",
      "56it [00:23,  2.00it/s]\u001b[A\n",
      "57it [00:24,  1.60it/s]\u001b[A\n",
      "58it [00:24,  2.06it/s]\u001b[A\n",
      "59it [00:25,  2.19it/s]\u001b[A\n",
      "60it [00:25,  2.35it/s]\u001b[A\n",
      "61it [00:25,  2.40it/s]\u001b[A\n",
      "62it [00:26,  2.53it/s]\u001b[A\n",
      "63it [00:26,  2.49it/s]\u001b[A\n",
      "64it [00:27,  2.61it/s]\u001b[A\n",
      "65it [00:27,  2.63it/s]\u001b[A\n",
      "66it [00:27,  2.65it/s]\u001b[A\n",
      "67it [00:28,  2.34it/s]\u001b[A\n",
      "68it [00:28,  2.81it/s]\u001b[A\n",
      "69it [00:28,  2.81it/s]\u001b[A\n",
      "70it [00:29,  2.74it/s]\u001b[A\n",
      "71it [00:29,  2.73it/s]\u001b[A\n",
      "72it [00:30,  2.76it/s]\u001b[A\n",
      "73it [00:30,  2.62it/s]\u001b[A\n",
      "74it [00:30,  2.74it/s]\u001b[A\n",
      "75it [00:31,  2.72it/s]\u001b[A\n",
      "76it [00:31,  2.70it/s]\u001b[A\n",
      "77it [00:32,  2.25it/s]\u001b[A\n",
      "78it [00:32,  2.74it/s]\u001b[A\n",
      "79it [00:32,  2.76it/s]\u001b[A\n",
      "80it [00:33,  2.51it/s]\u001b[A\n",
      "81it [00:33,  2.78it/s]\u001b[A\n",
      "82it [00:34,  2.13it/s]\u001b[A\n",
      "83it [00:34,  2.64it/s]\u001b[A\n",
      "84it [00:34,  2.60it/s]\u001b[A\n",
      "85it [00:35,  2.23it/s]\u001b[A\n",
      "86it [00:35,  2.65it/s]\u001b[A\n",
      "87it [00:35,  2.72it/s]\u001b[A\n",
      "88it [00:36,  2.48it/s]\u001b[A"
     ]
    },
    {
     "name": "stdout",
     "output_type": "stream",
     "text": [
      "Error here in ID30549988\n"
     ]
    },
    {
     "name": "stderr",
     "output_type": "stream",
     "text": [
      "\n",
      "89it [00:39,  1.23s/it]\u001b[A\n",
      "90it [00:39,  1.09it/s]\u001b[A\n",
      "91it [00:40,  1.27it/s]\u001b[A\n",
      "92it [00:40,  1.59it/s]\u001b[A"
     ]
    },
    {
     "name": "stdout",
     "output_type": "stream",
     "text": [
      "Error here in ID30547031\n"
     ]
    },
    {
     "name": "stderr",
     "output_type": "stream",
     "text": [
      "\n",
      "93it [00:40,  1.84it/s]\u001b[A\n",
      "94it [00:41,  2.03it/s]\u001b[A\n",
      "95it [00:41,  2.20it/s]\u001b[A\n",
      "96it [00:41,  2.28it/s]\u001b[A\n",
      "97it [00:42,  2.45it/s]\u001b[A\n",
      "98it [00:42,  2.48it/s]\u001b[A\n",
      "99it [00:43,  2.59it/s]\u001b[A\n",
      "100it [00:43,  2.30it/s]\n",
      " 44%|████▍     | 8/18 [05:19<06:44, 40.49s/it]"
     ]
    },
    {
     "name": "stdout",
     "output_type": "stream",
     "text": [
      "dict_keys(['ABSTRACTdf_2018_12_G343', 'ABSTRACTdf_2018_12_G344', 'ABSTRACTdf_2018_12_G345', 'ABSTRACTdf_2018_12_G346', 'ABSTRACTdf_2018_12_G347', 'ABSTRACTdf_2018_12_G348', 'ABSTRACTdf_2018_12_G349', 'ABSTRACTdf_2018_12_G350'])\n",
      "Creating Dataframe of articles for df_2018_12_G351\n"
     ]
    },
    {
     "name": "stderr",
     "output_type": "stream",
     "text": [
      "\n",
      "0it [00:00, ?it/s]\u001b[A\n",
      "1it [00:00,  2.78it/s]\u001b[A\n",
      "2it [00:00,  2.35it/s]\u001b[A\n",
      "3it [00:01,  2.64it/s]\u001b[A\n",
      "4it [00:01,  2.78it/s]\u001b[A\n",
      "5it [00:01,  2.85it/s]\u001b[A\n",
      "6it [00:02,  2.43it/s]\u001b[A\n",
      "7it [00:02,  2.83it/s]\u001b[A\n",
      "8it [00:02,  2.78it/s]\u001b[A\n",
      "9it [00:03,  2.49it/s]\u001b[A\n",
      "10it [00:03,  2.82it/s]\u001b[A\n",
      "11it [00:04,  2.84it/s]\u001b[A\n",
      "12it [00:04,  2.71it/s]\u001b[A\n",
      "13it [00:04,  2.78it/s]\u001b[A\n",
      "14it [00:05,  2.71it/s]\u001b[A\n",
      "15it [00:05,  2.73it/s]\u001b[A\n",
      "16it [00:05,  2.71it/s]\u001b[A\n",
      "17it [00:06,  2.66it/s]\u001b[A\n",
      "18it [00:06,  2.76it/s]\u001b[A\n",
      "19it [00:07,  2.70it/s]\u001b[A\n",
      "20it [00:07,  2.70it/s]\u001b[A"
     ]
    },
    {
     "name": "stdout",
     "output_type": "stream",
     "text": [
      "Error here in ID30530603\n"
     ]
    },
    {
     "name": "stderr",
     "output_type": "stream",
     "text": [
      "\n",
      "21it [00:07,  2.71it/s]\u001b[A\n",
      "22it [00:08,  2.67it/s]\u001b[A\n",
      "23it [00:08,  2.79it/s]\u001b[A\n",
      "24it [00:08,  2.69it/s]\u001b[A\n",
      "25it [00:09,  2.71it/s]\u001b[A\n",
      "26it [00:09,  2.69it/s]\u001b[A\n",
      "27it [00:10,  2.65it/s]\u001b[A\n",
      "28it [00:10,  2.67it/s]\u001b[A\n",
      "29it [00:10,  2.79it/s]\u001b[A\n",
      "30it [00:11,  2.68it/s]\u001b[A\n",
      "31it [00:11,  2.74it/s]\u001b[A\n",
      "32it [00:12,  2.08it/s]\u001b[A\n",
      "33it [00:12,  2.52it/s]\u001b[A\n",
      "34it [00:12,  2.60it/s]\u001b[A\n",
      "35it [00:13,  2.47it/s]\u001b[A\n",
      "36it [00:13,  2.76it/s]\u001b[A\n",
      "37it [00:13,  2.56it/s]\u001b[A\n",
      "38it [00:14,  2.81it/s]\u001b[A\n",
      "39it [00:14,  2.71it/s]\u001b[A\n",
      "40it [00:14,  2.71it/s]\u001b[A\n",
      "41it [00:15,  2.69it/s]\u001b[A\n",
      "42it [00:15,  2.71it/s]\u001b[A\n",
      "43it [00:16,  2.66it/s]\u001b[A\n",
      "44it [00:16,  2.77it/s]\u001b[A\n",
      "45it [00:16,  2.66it/s]\u001b[A\n",
      "46it [00:17,  2.54it/s]\u001b[A\n",
      "47it [00:17,  2.08it/s]\u001b[A\n",
      "48it [00:18,  2.55it/s]\u001b[A\n",
      "49it [00:19,  1.85it/s]\u001b[A\n",
      "50it [00:19,  2.25it/s]\u001b[A\n",
      "51it [00:19,  2.47it/s]\u001b[A\n",
      "52it [00:19,  2.54it/s]\u001b[A\n",
      "53it [00:20,  2.54it/s]\u001b[A\n",
      "54it [00:20,  2.56it/s]\u001b[A\n",
      "55it [00:21,  2.66it/s]\u001b[A\n",
      "56it [00:21,  2.65it/s]\u001b[A\n",
      "57it [00:21,  2.65it/s]\u001b[A\n",
      "58it [00:22,  2.57it/s]\u001b[A\n",
      "59it [00:22,  2.29it/s]\u001b[A\n",
      "60it [00:22,  2.77it/s]\u001b[A\n",
      "61it [00:23,  2.61it/s]\u001b[A\n",
      "62it [00:23,  2.78it/s]\u001b[A\n",
      "63it [00:24,  2.58it/s]\u001b[A\n",
      "64it [00:24,  2.78it/s]\u001b[A\n",
      "65it [00:24,  2.41it/s]\u001b[A\n",
      "66it [00:25,  2.95it/s]\u001b[A\n",
      "67it [00:25,  2.80it/s]\u001b[A\n",
      "68it [00:25,  2.82it/s]\u001b[A"
     ]
    },
    {
     "name": "stdout",
     "output_type": "stream",
     "text": [
      "Error here in ID30541204\n"
     ]
    },
    {
     "name": "stderr",
     "output_type": "stream",
     "text": [
      "\n",
      "69it [00:26,  2.75it/s]\u001b[A\n",
      "70it [00:26,  2.77it/s]\u001b[A\n",
      "71it [00:27,  2.51it/s]\u001b[A\n",
      "72it [00:27,  2.84it/s]\u001b[A\n",
      "73it [00:27,  2.75it/s]\u001b[A\n",
      "74it [00:28,  2.77it/s]\u001b[A\n",
      "75it [00:28,  2.65it/s]\u001b[A\n",
      "76it [00:28,  2.69it/s]\u001b[A\n",
      "77it [00:29,  2.74it/s]\u001b[A\n",
      "78it [00:29,  2.75it/s]\u001b[A\n",
      "79it [00:29,  2.69it/s]\u001b[A\n",
      "80it [00:30,  2.55it/s]\u001b[A\n",
      "81it [00:30,  2.74it/s]\u001b[A\n",
      "82it [00:31,  2.69it/s]\u001b[A\n",
      "83it [00:31,  2.80it/s]\u001b[A\n",
      "84it [00:31,  2.71it/s]\u001b[A\n",
      "85it [00:32,  2.63it/s]\u001b[A\n",
      "86it [00:32,  2.68it/s]\u001b[A\n",
      "87it [00:32,  2.69it/s]\u001b[A\n",
      "88it [00:33,  2.79it/s]\u001b[A\n",
      "89it [00:33,  2.75it/s]\u001b[A\n",
      "90it [00:34,  2.44it/s]\u001b[A\n",
      "91it [00:34,  2.70it/s]\u001b[A\n",
      "92it [00:36,  1.19it/s]\u001b[A\n",
      "93it [00:36,  1.55it/s]\u001b[A\n",
      "94it [00:37,  1.70it/s]\u001b[A\n",
      "95it [00:37,  2.04it/s]\u001b[A\n",
      "96it [00:37,  2.17it/s]\u001b[A\n",
      "97it [00:38,  2.35it/s]\u001b[A\n",
      "98it [00:38,  2.40it/s]\u001b[A\n",
      "99it [00:38,  2.42it/s]\u001b[A\n",
      "100it [00:39,  2.55it/s]\n",
      " 50%|█████     | 9/18 [05:58<06:00, 40.08s/it]"
     ]
    },
    {
     "name": "stdout",
     "output_type": "stream",
     "text": [
      "dict_keys(['ABSTRACTdf_2018_12_G343', 'ABSTRACTdf_2018_12_G344', 'ABSTRACTdf_2018_12_G345', 'ABSTRACTdf_2018_12_G346', 'ABSTRACTdf_2018_12_G347', 'ABSTRACTdf_2018_12_G348', 'ABSTRACTdf_2018_12_G349', 'ABSTRACTdf_2018_12_G350', 'ABSTRACTdf_2018_12_G351'])\n",
      "Creating Dataframe of articles for df_2018_12_G352\n"
     ]
    },
    {
     "name": "stderr",
     "output_type": "stream",
     "text": [
      "\n",
      "0it [00:00, ?it/s]\u001b[A\n",
      "1it [00:00,  2.69it/s]\u001b[A\n",
      "2it [00:00,  2.71it/s]\u001b[A\n",
      "3it [00:01,  2.54it/s]\u001b[A\n",
      "4it [00:01,  2.74it/s]\u001b[A\n",
      "5it [00:01,  2.65it/s]\u001b[A\n",
      "6it [00:02,  2.75it/s]\u001b[A\n",
      "7it [00:02,  2.73it/s]\u001b[A\n",
      "8it [00:02,  2.74it/s]\u001b[A\n",
      "9it [00:03,  2.62it/s]\u001b[A\n",
      "10it [00:03,  2.77it/s]\u001b[A\n",
      "11it [00:04,  2.56it/s]\u001b[A\n",
      "12it [00:04,  2.81it/s]\u001b[A\n",
      "13it [00:04,  2.72it/s]\u001b[A\n",
      "14it [00:05,  2.65it/s]\u001b[A\n",
      "15it [00:05,  2.75it/s]\u001b[A\n",
      "16it [00:05,  2.77it/s]\u001b[A\n",
      "17it [00:06,  2.63it/s]\u001b[A\n",
      "18it [00:06,  2.79it/s]\u001b[A\n",
      "19it [00:07,  2.66it/s]\u001b[A\n",
      "20it [00:07,  2.76it/s]\u001b[A\n",
      "21it [00:07,  2.68it/s]\u001b[A\n",
      "22it [00:08,  2.65it/s]\u001b[A\n",
      "23it [00:08,  2.69it/s]\u001b[A\n",
      "24it [00:08,  2.60it/s]\u001b[A\n",
      "25it [00:09,  2.71it/s]\u001b[A\n",
      "26it [00:09,  2.76it/s]\u001b[A\n",
      "27it [00:10,  2.72it/s]\u001b[A\n",
      "28it [00:10,  2.72it/s]\u001b[A\n",
      "29it [00:10,  2.67it/s]\u001b[A\n",
      "30it [00:11,  2.79it/s]\u001b[A\n",
      "31it [00:11,  2.72it/s]\u001b[A\n",
      "32it [00:11,  2.68it/s]\u001b[A\n",
      "33it [00:12,  2.72it/s]\u001b[A\n",
      "34it [00:12,  2.70it/s]\u001b[A\n",
      "35it [00:13,  2.56it/s]\u001b[A\n",
      "36it [00:13,  2.76it/s]\u001b[A\n",
      "37it [00:13,  2.78it/s]\u001b[A\n",
      "38it [00:14,  2.59it/s]\u001b[A\n",
      "39it [00:14,  2.68it/s]\u001b[A\n",
      "40it [00:14,  2.80it/s]\u001b[A\n",
      "41it [00:15,  2.78it/s]\u001b[A\n",
      "42it [00:15,  2.77it/s]\u001b[A\n",
      "43it [00:16,  2.45it/s]\u001b[A\n",
      "44it [00:16,  2.81it/s]\u001b[A\n",
      "45it [00:16,  2.80it/s]\u001b[A\n",
      "46it [00:17,  2.62it/s]\u001b[A\n",
      "47it [00:17,  2.78it/s]\u001b[A\n",
      "48it [00:17,  2.59it/s]\u001b[A\n",
      "49it [00:18,  2.78it/s]\u001b[A"
     ]
    },
    {
     "name": "stdout",
     "output_type": "stream",
     "text": [
      "Error here in ID30532508\n"
     ]
    },
    {
     "name": "stderr",
     "output_type": "stream",
     "text": [
      "\n",
      "50it [00:18,  2.61it/s]\u001b[A\n",
      "51it [00:18,  2.58it/s]\u001b[A\n",
      "52it [00:19,  2.72it/s]\u001b[A\n",
      "53it [00:19,  2.85it/s]\u001b[A\n",
      "54it [00:20,  2.60it/s]\u001b[A\n",
      "55it [00:20,  2.56it/s]\u001b[A\n",
      "56it [00:20,  2.83it/s]\u001b[A\n",
      "57it [00:21,  2.79it/s]\u001b[A\n",
      "58it [00:21,  2.68it/s]\u001b[A\n",
      "59it [00:21,  2.78it/s]\u001b[A\n",
      "60it [00:22,  2.71it/s]\u001b[A\n",
      "61it [00:22,  2.71it/s]\u001b[A"
     ]
    },
    {
     "name": "stdout",
     "output_type": "stream",
     "text": [
      "Error here in ID30591680\n"
     ]
    },
    {
     "name": "stderr",
     "output_type": "stream",
     "text": [
      "\n",
      "62it [00:22,  2.70it/s]\u001b[A\n",
      "63it [00:23,  2.69it/s]\u001b[A\n",
      "64it [00:23,  2.77it/s]\u001b[A\n",
      "65it [00:24,  2.77it/s]\u001b[A\n",
      "66it [00:24,  2.72it/s]\u001b[A\n",
      "67it [00:24,  2.58it/s]\u001b[A\n",
      "68it [00:25,  2.42it/s]\u001b[A\n",
      "69it [00:25,  2.87it/s]\u001b[A\n",
      "70it [00:25,  2.85it/s]\u001b[A\n",
      "71it [00:26,  2.12it/s]\u001b[A\n",
      "72it [00:26,  2.30it/s]\u001b[A\n",
      "73it [00:27,  2.79it/s]\u001b[A\n",
      "74it [00:27,  2.50it/s]\u001b[A\n",
      "75it [00:27,  2.77it/s]\u001b[A\n",
      "76it [00:28,  2.80it/s]\u001b[A\n",
      "77it [00:28,  2.78it/s]\u001b[A\n",
      "78it [00:29,  2.72it/s]\u001b[A\n",
      "79it [00:29,  2.70it/s]\u001b[A\n",
      "80it [00:29,  2.71it/s]\u001b[A\n",
      "81it [00:30,  2.62it/s]\u001b[A\n",
      "82it [00:30,  2.71it/s]\u001b[A\n",
      "83it [00:30,  2.78it/s]\u001b[A\n",
      "84it [00:31,  2.59it/s]\u001b[A\n",
      "85it [00:31,  2.74it/s]\u001b[A\n",
      "86it [00:32,  2.68it/s]\u001b[A\n",
      "87it [00:32,  2.11it/s]\u001b[A\n",
      "88it [00:32,  2.59it/s]\u001b[A\n",
      "89it [00:33,  2.59it/s]\u001b[A\n",
      "90it [00:33,  2.52it/s]\u001b[A\n",
      "91it [00:34,  2.70it/s]\u001b[A\n",
      "92it [00:34,  2.70it/s]\u001b[A\n",
      "93it [00:34,  2.74it/s]\u001b[A\n",
      "94it [00:35,  2.74it/s]\u001b[A\n",
      "95it [00:35,  2.67it/s]\u001b[A\n",
      "96it [00:35,  2.74it/s]\u001b[A\n",
      "97it [00:36,  2.68it/s]\u001b[A\n",
      "98it [00:36,  2.53it/s]\u001b[A\n",
      "99it [00:37,  2.67it/s]\u001b[A\n",
      "100it [00:37,  2.68it/s]\n",
      " 56%|█████▌    | 10/18 [06:36<05:13, 39.25s/it]"
     ]
    },
    {
     "name": "stdout",
     "output_type": "stream",
     "text": [
      "dict_keys(['ABSTRACTdf_2018_12_G343', 'ABSTRACTdf_2018_12_G344', 'ABSTRACTdf_2018_12_G345', 'ABSTRACTdf_2018_12_G346', 'ABSTRACTdf_2018_12_G347', 'ABSTRACTdf_2018_12_G348', 'ABSTRACTdf_2018_12_G349', 'ABSTRACTdf_2018_12_G350', 'ABSTRACTdf_2018_12_G351', 'ABSTRACTdf_2018_12_G352'])\n",
      "Creating Dataframe of articles for df_2018_12_G353\n"
     ]
    },
    {
     "name": "stderr",
     "output_type": "stream",
     "text": [
      "\n",
      "0it [00:00, ?it/s]\u001b[A\n",
      "1it [00:00,  3.06it/s]\u001b[A\n",
      "2it [00:00,  2.32it/s]\u001b[A\n",
      "3it [00:01,  2.65it/s]\u001b[A\n",
      "4it [00:01,  2.84it/s]\u001b[A\n",
      "5it [00:01,  2.60it/s]\u001b[A\n",
      "6it [00:02,  2.74it/s]\u001b[A\n",
      "7it [00:04,  1.20it/s]\u001b[A\n",
      "8it [00:04,  1.58it/s]\u001b[A\n",
      "9it [00:04,  1.83it/s]\u001b[A"
     ]
    },
    {
     "name": "stdout",
     "output_type": "stream",
     "text": [
      "Error here in ID30522229\n"
     ]
    },
    {
     "name": "stderr",
     "output_type": "stream",
     "text": [
      "\n",
      "10it [00:04,  2.03it/s]\u001b[A\n",
      "11it [00:05,  2.24it/s]\u001b[A\n",
      "12it [00:05,  2.29it/s]\u001b[A\n",
      "13it [00:06,  2.41it/s]\u001b[A\n",
      "14it [00:06,  2.40it/s]\u001b[A\n",
      "15it [00:06,  2.65it/s]\u001b[A\n",
      "16it [00:07,  2.63it/s]\u001b[A\n",
      "17it [00:07,  2.66it/s]\u001b[A\n",
      "18it [00:07,  2.65it/s]\u001b[A\n",
      "19it [00:08,  2.68it/s]\u001b[A\n",
      "20it [00:08,  2.70it/s]\u001b[A\n",
      "21it [00:09,  2.55it/s]\u001b[A"
     ]
    },
    {
     "name": "stdout",
     "output_type": "stream",
     "text": [
      "Error here in ID30582002\n"
     ]
    },
    {
     "name": "stderr",
     "output_type": "stream",
     "text": [
      "\n",
      "22it [00:09,  2.79it/s]\u001b[A\n",
      "23it [00:09,  2.57it/s]\u001b[A\n",
      "24it [00:10,  2.77it/s]\u001b[A\n",
      "25it [00:10,  2.77it/s]\u001b[A\n",
      "26it [00:10,  2.73it/s]\u001b[A\n",
      "27it [00:11,  2.46it/s]\u001b[A\n",
      "28it [00:11,  2.85it/s]\u001b[A\n",
      "29it [00:11,  2.75it/s]\u001b[A\n",
      "30it [00:12,  2.75it/s]\u001b[A\n",
      "31it [00:12,  2.72it/s]\u001b[A\n",
      "32it [00:13,  2.52it/s]\u001b[A\n",
      "33it [00:13,  2.62it/s]\u001b[A\n",
      "34it [00:13,  2.78it/s]\u001b[A\n",
      "35it [00:14,  2.76it/s]\u001b[A\n",
      "36it [00:14,  2.72it/s]\u001b[A\n",
      "37it [00:14,  2.77it/s]\u001b[A\n",
      "38it [00:15,  2.73it/s]\u001b[A\n",
      "39it [00:15,  2.41it/s]\u001b[A\n",
      "40it [00:16,  2.84it/s]\u001b[A\n",
      "41it [00:16,  2.85it/s]\u001b[A\n",
      "42it [00:16,  2.57it/s]\u001b[A\n",
      "43it [00:17,  2.78it/s]\u001b[A\n",
      "44it [00:17,  2.76it/s]\u001b[A\n",
      "45it [00:17,  2.58it/s]\u001b[A\n",
      "46it [00:18,  2.76it/s]\u001b[A"
     ]
    },
    {
     "name": "stdout",
     "output_type": "stream",
     "text": [
      "Error here in ID30542273\n"
     ]
    },
    {
     "name": "stderr",
     "output_type": "stream",
     "text": [
      "\n",
      "47it [00:18,  2.77it/s]\u001b[A\n",
      "48it [00:19,  2.75it/s]\u001b[A\n",
      "49it [00:19,  2.68it/s]\u001b[A\n",
      "50it [00:19,  2.73it/s]\u001b[A\n",
      "51it [00:20,  2.80it/s]\u001b[A\n",
      "52it [00:20,  2.33it/s]\u001b[A\n",
      "53it [00:20,  2.82it/s]\u001b[A\n",
      "54it [00:21,  2.63it/s]\u001b[A\n",
      "55it [00:21,  2.58it/s]\u001b[A\n",
      "56it [00:21,  2.87it/s]\u001b[A\n",
      "57it [00:22,  2.83it/s]\u001b[A\n",
      "58it [00:22,  2.75it/s]\u001b[A\n",
      "59it [00:23,  2.69it/s]\u001b[A\n",
      "60it [00:23,  2.80it/s]\u001b[A\n",
      "61it [00:23,  2.67it/s]\u001b[A\n",
      "62it [00:24,  2.37it/s]\u001b[A\n",
      "63it [00:24,  2.73it/s]\u001b[A\n",
      "64it [00:24,  2.83it/s]\u001b[A\n",
      "65it [00:25,  2.75it/s]\u001b[A\n",
      "66it [00:25,  2.78it/s]\u001b[A\n",
      "67it [00:26,  2.80it/s]\u001b[A\n",
      "68it [00:26,  2.01it/s]\u001b[A\n",
      "69it [00:27,  2.53it/s]\u001b[A\n",
      "70it [00:27,  2.28it/s]\u001b[A\n",
      "71it [00:27,  2.70it/s]\u001b[A\n",
      "72it [00:28,  2.66it/s]\u001b[A\n",
      "73it [00:28,  2.72it/s]\u001b[A\n",
      "74it [00:28,  2.66it/s]\u001b[A\n",
      "75it [00:29,  2.69it/s]\u001b[A\n",
      "76it [00:29,  2.74it/s]\u001b[A\n",
      "77it [00:29,  2.71it/s]\u001b[A\n",
      "78it [00:30,  2.73it/s]\u001b[A\n",
      "79it [00:30,  2.68it/s]\u001b[A\n",
      "80it [00:31,  2.67it/s]\u001b[A\n",
      "81it [00:31,  2.70it/s]\u001b[A\n",
      "82it [00:31,  2.68it/s]\u001b[A\n",
      "83it [00:32,  2.69it/s]\u001b[A\n",
      "84it [00:32,  2.66it/s]\u001b[A\n",
      "85it [00:32,  2.69it/s]\u001b[A\n",
      "86it [00:33,  2.76it/s]\u001b[A\n",
      "87it [00:33,  2.24it/s]\u001b[A\n",
      "88it [00:34,  2.70it/s]\u001b[A\n",
      "89it [00:34,  2.72it/s]\u001b[A\n",
      "90it [00:34,  2.76it/s]\u001b[A\n",
      "91it [00:35,  2.68it/s]\u001b[A\n",
      "92it [00:35,  2.76it/s]\u001b[A\n",
      "93it [00:35,  2.71it/s]\u001b[A\n",
      "94it [00:36,  2.68it/s]\u001b[A\n",
      "95it [00:37,  2.12it/s]\u001b[A\n",
      "96it [00:37,  2.61it/s]\u001b[A\n",
      "97it [00:37,  2.55it/s]\u001b[A\n",
      "98it [00:38,  2.62it/s]\u001b[A\n",
      "99it [00:38,  2.71it/s]\u001b[A\n",
      "100it [00:38,  2.58it/s]\n",
      " 61%|██████    | 11/18 [07:14<04:33, 39.09s/it]"
     ]
    },
    {
     "name": "stdout",
     "output_type": "stream",
     "text": [
      "dict_keys(['ABSTRACTdf_2018_12_G343', 'ABSTRACTdf_2018_12_G344', 'ABSTRACTdf_2018_12_G345', 'ABSTRACTdf_2018_12_G346', 'ABSTRACTdf_2018_12_G347', 'ABSTRACTdf_2018_12_G348', 'ABSTRACTdf_2018_12_G349', 'ABSTRACTdf_2018_12_G350', 'ABSTRACTdf_2018_12_G351', 'ABSTRACTdf_2018_12_G352', 'ABSTRACTdf_2018_12_G353'])\n",
      "Creating Dataframe of articles for df_2018_12_G354\n"
     ]
    },
    {
     "name": "stderr",
     "output_type": "stream",
     "text": [
      "\n",
      "0it [00:00, ?it/s]\u001b[A\n",
      "1it [00:00,  2.73it/s]\u001b[A\n",
      "2it [00:00,  2.70it/s]\u001b[A\n",
      "3it [00:01,  2.67it/s]\u001b[A"
     ]
    },
    {
     "name": "stdout",
     "output_type": "stream",
     "text": [
      "Error here in ID30545015\n"
     ]
    },
    {
     "name": "stderr",
     "output_type": "stream",
     "text": [
      "\n",
      "4it [00:01,  2.61it/s]\u001b[A\n",
      "5it [00:01,  2.71it/s]\u001b[A\n",
      "6it [00:02,  2.72it/s]\u001b[A\n",
      "7it [00:02,  2.70it/s]\u001b[A\n",
      "8it [00:02,  2.66it/s]\u001b[A\n",
      "9it [00:03,  2.58it/s]\u001b[A\n",
      "10it [00:03,  2.83it/s]\u001b[A\n",
      "11it [00:04,  2.75it/s]\u001b[A\n",
      "12it [00:04,  2.78it/s]\u001b[A\n",
      "13it [00:04,  2.71it/s]\u001b[A\n",
      "14it [00:05,  2.58it/s]\u001b[A\n",
      "15it [00:05,  2.74it/s]\u001b[A\n",
      "16it [00:05,  2.79it/s]\u001b[A\n",
      "17it [00:06,  2.76it/s]\u001b[A\n",
      "18it [00:06,  2.54it/s]\u001b[A\n",
      "19it [00:07,  2.68it/s]\u001b[A\n",
      "20it [00:07,  2.75it/s]\u001b[A\n",
      "21it [00:07,  2.77it/s]\u001b[A\n",
      "22it [00:08,  2.66it/s]\u001b[A\n",
      "23it [00:08,  2.75it/s]\u001b[A\n",
      "24it [00:08,  2.72it/s]\u001b[A\n",
      "25it [00:09,  2.75it/s]\u001b[A\n",
      "26it [00:09,  2.69it/s]\u001b[A\n",
      "27it [00:10,  2.56it/s]\u001b[A\n",
      "28it [00:10,  2.78it/s]\u001b[A\n",
      "29it [00:10,  2.61it/s]\u001b[A\n",
      "30it [00:11,  2.75it/s]\u001b[A\n",
      "31it [00:11,  2.75it/s]\u001b[A\n",
      "32it [00:11,  2.76it/s]\u001b[A\n",
      "33it [00:12,  2.25it/s]\u001b[A\n",
      "34it [00:12,  2.67it/s]\u001b[A\n",
      "35it [00:13,  2.74it/s]\u001b[A\n",
      "36it [00:13,  2.52it/s]\u001b[A\n",
      "37it [00:13,  2.83it/s]\u001b[A\n",
      "38it [00:14,  2.64it/s]\u001b[A\n",
      "39it [00:14,  2.72it/s]\u001b[A\n",
      "40it [00:14,  2.77it/s]\u001b[A\n",
      "41it [00:15,  2.60it/s]\u001b[A\n",
      "42it [00:15,  2.59it/s]\u001b[A\n",
      "43it [00:15,  2.81it/s]\u001b[A\n",
      "44it [00:16,  2.82it/s]\u001b[A\n",
      "45it [00:16,  2.39it/s]\u001b[A\n",
      "46it [00:17,  2.86it/s]\u001b[A\n",
      "47it [00:17,  2.86it/s]\u001b[A\n",
      "48it [00:17,  2.76it/s]\u001b[A\n",
      "49it [00:18,  2.63it/s]\u001b[A"
     ]
    },
    {
     "name": "stdout",
     "output_type": "stream",
     "text": [
      "Error here in ID30567894\n"
     ]
    },
    {
     "name": "stderr",
     "output_type": "stream",
     "text": [
      "\n",
      "50it [00:18,  2.70it/s]\u001b[A\n",
      "51it [00:18,  2.69it/s]\u001b[A\n",
      "52it [00:19,  2.78it/s]\u001b[A\n",
      "53it [00:19,  2.79it/s]\u001b[A\n",
      "54it [00:20,  2.50it/s]\u001b[A\n",
      "55it [00:20,  2.73it/s]\u001b[A\n",
      "56it [00:20,  2.77it/s]\u001b[A\n",
      "57it [00:21,  2.81it/s]\u001b[A\n",
      "58it [00:21,  2.78it/s]\u001b[A\n",
      "59it [00:21,  2.76it/s]\u001b[A\n",
      "60it [00:22,  2.69it/s]\u001b[A\n",
      "61it [00:22,  2.75it/s]\u001b[A\n",
      "62it [00:23,  2.67it/s]\u001b[A\n",
      "63it [00:23,  2.16it/s]\u001b[A\n",
      "64it [00:23,  2.69it/s]\u001b[A\n",
      "65it [00:24,  2.64it/s]\u001b[A\n",
      "66it [00:24,  2.25it/s]\u001b[A\n",
      "67it [00:25,  2.69it/s]\u001b[A\n",
      "68it [00:25,  2.72it/s]\u001b[A\n",
      "69it [00:26,  1.59it/s]\u001b[A\n",
      "70it [00:26,  2.00it/s]\u001b[A\n",
      "71it [00:27,  2.20it/s]\u001b[A\n",
      "72it [00:27,  2.34it/s]\u001b[A\n",
      "73it [00:27,  2.31it/s]\u001b[A\n",
      "74it [00:28,  2.57it/s]\u001b[A\n",
      "75it [00:28,  2.58it/s]\u001b[A"
     ]
    },
    {
     "name": "stdout",
     "output_type": "stream",
     "text": [
      "Error here in ID30538978\n"
     ]
    },
    {
     "name": "stderr",
     "output_type": "stream",
     "text": [
      "\n",
      "76it [00:29,  2.55it/s]\u001b[A\n",
      "77it [00:29,  2.69it/s]\u001b[A\n",
      "78it [00:29,  2.68it/s]\u001b[A\n",
      "79it [00:30,  2.66it/s]\u001b[A\n",
      "80it [00:30,  2.72it/s]\u001b[A\n",
      "81it [00:30,  2.73it/s]\u001b[A\n",
      "82it [00:31,  2.65it/s]\u001b[A\n",
      "83it [00:31,  2.54it/s]\u001b[A\n",
      "84it [00:31,  2.72it/s]\u001b[A\n",
      "85it [00:32,  2.74it/s]\u001b[A\n",
      "86it [00:32,  2.53it/s]\u001b[A\n",
      "87it [00:33,  2.73it/s]\u001b[A\n",
      "88it [00:33,  2.79it/s]\u001b[A\n",
      "89it [00:33,  2.73it/s]\u001b[A\n",
      "90it [00:34,  2.64it/s]\u001b[A\n",
      "91it [00:34,  2.70it/s]\u001b[A\n",
      "92it [00:34,  2.69it/s]\u001b[A\n",
      "93it [00:35,  2.74it/s]\u001b[A\n",
      "94it [00:35,  2.74it/s]\u001b[A\n",
      "95it [00:36,  2.77it/s]\u001b[A\n",
      "96it [00:36,  2.70it/s]\u001b[A\n",
      "97it [00:37,  2.26it/s]\u001b[A\n",
      "98it [00:37,  2.69it/s]\u001b[A\n",
      "99it [00:37,  2.73it/s]\u001b[A\n",
      "100it [00:37,  2.64it/s]\n",
      " 67%|██████▋   | 12/18 [07:52<03:52, 38.75s/it]"
     ]
    },
    {
     "name": "stdout",
     "output_type": "stream",
     "text": [
      "dict_keys(['ABSTRACTdf_2018_12_G343', 'ABSTRACTdf_2018_12_G344', 'ABSTRACTdf_2018_12_G345', 'ABSTRACTdf_2018_12_G346', 'ABSTRACTdf_2018_12_G347', 'ABSTRACTdf_2018_12_G348', 'ABSTRACTdf_2018_12_G349', 'ABSTRACTdf_2018_12_G350', 'ABSTRACTdf_2018_12_G351', 'ABSTRACTdf_2018_12_G352', 'ABSTRACTdf_2018_12_G353', 'ABSTRACTdf_2018_12_G354'])\n",
      "Creating Dataframe of articles for df_2018_12_G355\n"
     ]
    },
    {
     "name": "stderr",
     "output_type": "stream",
     "text": [
      "\n",
      "0it [00:00, ?it/s]\u001b[A\n",
      "1it [00:00,  2.59it/s]\u001b[A\n",
      "2it [00:00,  2.73it/s]\u001b[A\n",
      "3it [00:01,  2.71it/s]\u001b[A"
     ]
    },
    {
     "name": "stdout",
     "output_type": "stream",
     "text": [
      "Error here in ID30510107\n"
     ]
    },
    {
     "name": "stderr",
     "output_type": "stream",
     "text": [
      "\n",
      "4it [00:01,  2.31it/s]\u001b[A\n",
      "5it [00:01,  2.82it/s]\u001b[A\n",
      "6it [00:02,  2.76it/s]\u001b[A"
     ]
    },
    {
     "name": "stdout",
     "output_type": "stream",
     "text": [
      "Error here in ID30524386\n"
     ]
    },
    {
     "name": "stderr",
     "output_type": "stream",
     "text": [
      "\n",
      "7it [00:02,  2.25it/s]\u001b[A\n",
      "8it [00:03,  2.70it/s]\u001b[A\n",
      "9it [00:03,  2.70it/s]\u001b[A\n",
      "10it [00:03,  2.76it/s]\u001b[A\n",
      "11it [00:04,  2.80it/s]\u001b[A\n",
      "12it [00:04,  2.76it/s]\u001b[A\n",
      "13it [00:04,  2.75it/s]\u001b[A\n",
      "14it [00:05,  2.63it/s]\u001b[A\n",
      "15it [00:05,  2.59it/s]\u001b[A\n",
      "16it [00:05,  2.79it/s]\u001b[A\n",
      "17it [00:06,  2.76it/s]\u001b[A\n",
      "18it [00:06,  2.75it/s]\u001b[A\n",
      "19it [00:07,  2.74it/s]\u001b[A\n",
      "20it [00:07,  2.70it/s]\u001b[A\n",
      "21it [00:07,  2.60it/s]\u001b[A\n",
      "22it [00:08,  2.76it/s]\u001b[A\n",
      "23it [00:08,  2.73it/s]\u001b[A\n",
      "24it [00:08,  2.65it/s]\u001b[A\n",
      "25it [00:09,  2.65it/s]\u001b[A\n",
      "26it [00:09,  2.76it/s]\u001b[A\n",
      "27it [00:10,  2.68it/s]\u001b[A\n",
      "28it [00:10,  2.77it/s]\u001b[A\n",
      "29it [00:10,  2.70it/s]\u001b[A\n",
      "30it [00:11,  2.63it/s]\u001b[A\n",
      "31it [00:11,  2.73it/s]\u001b[A\n",
      "32it [00:11,  2.72it/s]\u001b[A\n",
      "33it [00:12,  2.71it/s]\u001b[A\n",
      "34it [00:12,  2.68it/s]\u001b[A\n",
      "35it [00:13,  2.75it/s]\u001b[A\n",
      "36it [00:13,  2.65it/s]\u001b[A\n",
      "37it [00:13,  2.64it/s]\u001b[A\n",
      "38it [00:14,  2.78it/s]\u001b[A\n",
      "39it [00:14,  2.67it/s]\u001b[A\n",
      "40it [00:14,  2.59it/s]\u001b[A\n",
      "41it [00:15,  2.66it/s]\u001b[A\n",
      "42it [00:15,  2.77it/s]\u001b[A\n",
      "43it [00:15,  2.75it/s]\u001b[A\n",
      "44it [00:16,  2.72it/s]\u001b[A"
     ]
    },
    {
     "name": "stdout",
     "output_type": "stream",
     "text": [
      "Error here in ID32941779\n"
     ]
    },
    {
     "name": "stderr",
     "output_type": "stream",
     "text": [
      "\n",
      "45it [00:16,  2.77it/s]\u001b[A\n",
      "46it [00:17,  2.71it/s]\u001b[A\n",
      "47it [00:17,  2.48it/s]\u001b[A\n",
      "48it [00:17,  2.82it/s]\u001b[A\n",
      "49it [00:18,  2.80it/s]\u001b[A\n",
      "50it [00:18,  2.65it/s]\u001b[A\n",
      "51it [00:18,  2.78it/s]\u001b[A"
     ]
    },
    {
     "name": "stdout",
     "output_type": "stream",
     "text": [
      "Error here in ID30526447\n"
     ]
    },
    {
     "name": "stderr",
     "output_type": "stream",
     "text": [
      "\n",
      "52it [00:19,  2.66it/s]\u001b[A\n",
      "53it [00:19,  2.72it/s]\u001b[A\n",
      "54it [00:20,  2.76it/s]\u001b[A\n",
      "55it [00:20,  2.76it/s]\u001b[A\n",
      "56it [00:21,  2.13it/s]\u001b[A\n",
      "57it [00:21,  2.58it/s]\u001b[A\n",
      "58it [00:21,  2.62it/s]\u001b[A\n",
      "59it [00:22,  2.71it/s]\u001b[A\n",
      "60it [00:22,  2.63it/s]\u001b[A\n",
      "61it [00:22,  2.67it/s]\u001b[A"
     ]
    },
    {
     "name": "stdout",
     "output_type": "stream",
     "text": [
      "Error here in ID30585006\n"
     ]
    },
    {
     "name": "stderr",
     "output_type": "stream",
     "text": [
      "\n",
      "62it [00:23,  2.70it/s]\u001b[A\n",
      "63it [00:23,  2.67it/s]\u001b[A\n",
      "64it [00:23,  2.68it/s]\u001b[A\n",
      "65it [00:24,  2.67it/s]\u001b[A\n",
      "66it [00:24,  2.77it/s]\u001b[A\n",
      "67it [00:25,  2.68it/s]\u001b[A\n",
      "68it [00:25,  2.75it/s]\u001b[A\n",
      "69it [00:25,  2.70it/s]\u001b[A\n",
      "70it [00:26,  2.69it/s]\u001b[A\n",
      "71it [00:26,  2.65it/s]\u001b[A\n",
      "72it [00:26,  2.74it/s]\u001b[A\n",
      "73it [00:27,  2.58it/s]\u001b[A\n",
      "74it [00:27,  2.73it/s]\u001b[A\n",
      "75it [00:27,  2.71it/s]\u001b[A\n",
      "76it [00:28,  2.55it/s]\u001b[A\n",
      "77it [00:28,  2.75it/s]\u001b[A"
     ]
    },
    {
     "name": "stdout",
     "output_type": "stream",
     "text": [
      "Error here in ID30524956\n"
     ]
    },
    {
     "name": "stderr",
     "output_type": "stream",
     "text": [
      "\n",
      "78it [00:29,  2.79it/s]\u001b[A\n",
      "79it [00:29,  2.70it/s]\u001b[A\n",
      "80it [00:29,  2.72it/s]\u001b[A\n",
      "81it [00:30,  2.73it/s]\u001b[A\n",
      "82it [00:31,  1.95it/s]\u001b[A\n",
      "83it [00:31,  2.45it/s]\u001b[A\n",
      "84it [00:31,  2.36it/s]\u001b[A\n",
      "85it [00:32,  2.23it/s]\u001b[A\n",
      "86it [00:32,  2.70it/s]\u001b[A\n",
      "87it [00:32,  2.69it/s]\u001b[A\n",
      "88it [00:33,  2.71it/s]\u001b[A\n",
      "89it [00:33,  2.76it/s]\u001b[A\n",
      "90it [00:33,  2.53it/s]\u001b[A\n",
      "91it [00:34,  2.72it/s]\u001b[A"
     ]
    },
    {
     "name": "stdout",
     "output_type": "stream",
     "text": [
      "Error here in ID30519379\n"
     ]
    },
    {
     "name": "stderr",
     "output_type": "stream",
     "text": [
      "\n",
      "92it [00:34,  2.69it/s]\u001b[A\n",
      "93it [00:34,  2.78it/s]\u001b[A\n",
      "94it [00:35,  2.72it/s]\u001b[A\n",
      "95it [00:35,  2.78it/s]\u001b[A\n",
      "96it [00:36,  2.69it/s]\u001b[A\n",
      "97it [00:36,  2.70it/s]\u001b[A\n",
      "98it [00:36,  2.71it/s]\u001b[A\n",
      "99it [00:37,  2.71it/s]\u001b[A\n",
      "100it [00:37,  2.67it/s]\n",
      " 72%|███████▏  | 13/18 [08:30<03:11, 38.38s/it]"
     ]
    },
    {
     "name": "stdout",
     "output_type": "stream",
     "text": [
      "dict_keys(['ABSTRACTdf_2018_12_G343', 'ABSTRACTdf_2018_12_G344', 'ABSTRACTdf_2018_12_G345', 'ABSTRACTdf_2018_12_G346', 'ABSTRACTdf_2018_12_G347', 'ABSTRACTdf_2018_12_G348', 'ABSTRACTdf_2018_12_G349', 'ABSTRACTdf_2018_12_G350', 'ABSTRACTdf_2018_12_G351', 'ABSTRACTdf_2018_12_G352', 'ABSTRACTdf_2018_12_G353', 'ABSTRACTdf_2018_12_G354', 'ABSTRACTdf_2018_12_G355'])\n",
      "Creating Dataframe of articles for df_2018_12_G356\n"
     ]
    },
    {
     "name": "stderr",
     "output_type": "stream",
     "text": [
      "\n",
      "0it [00:00, ?it/s]\u001b[A\n",
      "1it [00:00,  2.33it/s]\u001b[A\n",
      "2it [00:00,  2.76it/s]\u001b[A\n",
      "3it [00:01,  2.80it/s]\u001b[A\n",
      "4it [00:01,  2.71it/s]\u001b[A\n",
      "5it [00:01,  2.53it/s]\u001b[A\n",
      "6it [00:02,  2.66it/s]\u001b[A\n",
      "7it [00:02,  2.68it/s]\u001b[A\n",
      "8it [00:02,  2.82it/s]\u001b[A\n",
      "9it [00:03,  2.78it/s]\u001b[A\n",
      "10it [00:03,  2.54it/s]\u001b[A\n",
      "11it [00:04,  2.60it/s]\u001b[A\n",
      "12it [00:04,  2.80it/s]\u001b[A\n",
      "13it [00:04,  2.80it/s]\u001b[A\n",
      "14it [00:05,  2.73it/s]\u001b[A\n",
      "15it [00:05,  2.57it/s]\u001b[A\n",
      "16it [00:05,  2.73it/s]\u001b[A\n",
      "17it [00:06,  2.81it/s]\u001b[A\n",
      "18it [00:06,  2.73it/s]\u001b[A\n",
      "19it [00:07,  2.77it/s]\u001b[A\n",
      "20it [00:07,  2.70it/s]\u001b[A\n",
      "21it [00:07,  2.76it/s]\u001b[A\n",
      "22it [00:08,  2.66it/s]\u001b[A\n",
      "23it [00:08,  2.74it/s]\u001b[A\n",
      "24it [00:08,  2.58it/s]\u001b[A\n",
      "25it [00:09,  2.78it/s]\u001b[A\n",
      "26it [00:09,  2.75it/s]\u001b[A\n",
      "27it [00:09,  2.69it/s]\u001b[A\n",
      "28it [00:10,  2.52it/s]\u001b[A\n",
      "29it [00:10,  2.76it/s]\u001b[A\n",
      "30it [00:11,  2.62it/s]\u001b[A\n",
      "31it [00:11,  2.75it/s]\u001b[A\n",
      "32it [00:11,  2.76it/s]\u001b[A\n",
      "33it [00:12,  2.79it/s]\u001b[A\n",
      "34it [00:12,  2.71it/s]\u001b[A\n",
      "35it [00:12,  2.65it/s]\u001b[A\n",
      "36it [00:13,  2.71it/s]\u001b[A\n",
      "37it [00:13,  2.68it/s]\u001b[A\n",
      "38it [00:14,  2.76it/s]\u001b[A\n",
      "39it [00:14,  2.65it/s]\u001b[A\n",
      "40it [00:14,  2.59it/s]\u001b[A\n",
      "41it [00:15,  2.80it/s]\u001b[A\n",
      "42it [00:15,  2.78it/s]\u001b[A\n",
      "43it [00:15,  2.69it/s]\u001b[A\n",
      "44it [00:16,  2.75it/s]\u001b[A\n",
      "45it [00:16,  2.69it/s]\u001b[A\n",
      "46it [00:17,  2.69it/s]\u001b[A\n",
      "47it [00:17,  2.71it/s]\u001b[A\n",
      "48it [00:17,  2.59it/s]\u001b[A\n",
      "49it [00:18,  2.57it/s]\u001b[A\n",
      "50it [00:18,  2.62it/s]\u001b[A\n",
      "51it [00:18,  2.81it/s]\u001b[A\n",
      "52it [00:19,  2.76it/s]\u001b[A\n",
      "53it [00:19,  2.76it/s]\u001b[A\n",
      "54it [00:19,  2.74it/s]\u001b[A\n",
      "55it [00:20,  2.57it/s]\u001b[A\n",
      "56it [00:20,  2.79it/s]\u001b[A\n",
      "57it [00:21,  2.80it/s]\u001b[A\n",
      "58it [00:21,  2.78it/s]\u001b[A\n",
      "59it [00:21,  2.70it/s]\u001b[A\n",
      "60it [00:22,  2.70it/s]\u001b[A\n",
      "61it [00:22,  2.72it/s]\u001b[A\n",
      "62it [00:23,  2.59it/s]\u001b[A\n",
      "63it [00:23,  2.80it/s]\u001b[A\n",
      "64it [00:23,  2.71it/s]\u001b[A\n",
      "65it [00:24,  2.71it/s]\u001b[A"
     ]
    },
    {
     "name": "stdout",
     "output_type": "stream",
     "text": [
      "Error here in ID30518008\n"
     ]
    },
    {
     "name": "stderr",
     "output_type": "stream",
     "text": [
      "\n",
      "66it [00:24,  2.70it/s]\u001b[A\n",
      "67it [00:24,  2.59it/s]\u001b[A\n",
      "68it [00:25,  2.68it/s]\u001b[A\n",
      "69it [00:25,  2.80it/s]\u001b[A\n",
      "70it [00:25,  2.65it/s]\u001b[A\n",
      "71it [00:26,  2.36it/s]\u001b[A\n",
      "72it [00:26,  2.82it/s]\u001b[A\n",
      "73it [00:27,  2.76it/s]\u001b[A\n",
      "74it [00:27,  2.76it/s]\u001b[A\n",
      "75it [00:27,  2.80it/s]\u001b[A\n",
      "76it [00:28,  2.79it/s]\u001b[A\n",
      "77it [00:28,  2.75it/s]\u001b[A\n",
      "78it [00:28,  2.74it/s]\u001b[A\n",
      "79it [00:29,  1.80it/s]\u001b[A\n",
      "80it [00:30,  2.18it/s]\u001b[A"
     ]
    },
    {
     "name": "stdout",
     "output_type": "stream",
     "text": [
      "Error here in ID30562959\n"
     ]
    },
    {
     "name": "stderr",
     "output_type": "stream",
     "text": [
      "\n",
      "81it [00:30,  2.31it/s]\u001b[A\n",
      "82it [00:30,  2.27it/s]\u001b[A\n",
      "83it [00:31,  2.69it/s]\u001b[A\n",
      "84it [00:31,  2.66it/s]\u001b[A\n",
      "85it [00:31,  2.68it/s]\u001b[A\n",
      "86it [00:32,  2.64it/s]\u001b[A\n",
      "87it [00:32,  2.66it/s]\u001b[A\n",
      "88it [00:32,  2.76it/s]\u001b[A\n",
      "89it [00:33,  2.70it/s]\u001b[A\n",
      "90it [00:33,  2.65it/s]\u001b[A\n",
      "91it [00:34,  2.74it/s]\u001b[A\n",
      "92it [00:34,  2.66it/s]\u001b[A\n",
      "93it [00:34,  2.68it/s]\u001b[A\n",
      "94it [00:35,  2.63it/s]\u001b[A\n",
      "95it [00:35,  2.56it/s]\u001b[A\n",
      "96it [00:35,  2.82it/s]\u001b[A\n",
      "97it [00:36,  2.74it/s]\u001b[A\n",
      "98it [00:36,  2.74it/s]\u001b[A\n",
      "99it [00:37,  2.72it/s]\u001b[A\n",
      "100it [00:37,  2.67it/s]\n",
      " 78%|███████▊  | 14/18 [09:07<02:32, 38.11s/it]"
     ]
    },
    {
     "name": "stdout",
     "output_type": "stream",
     "text": [
      "dict_keys(['ABSTRACTdf_2018_12_G343', 'ABSTRACTdf_2018_12_G344', 'ABSTRACTdf_2018_12_G345', 'ABSTRACTdf_2018_12_G346', 'ABSTRACTdf_2018_12_G347', 'ABSTRACTdf_2018_12_G348', 'ABSTRACTdf_2018_12_G349', 'ABSTRACTdf_2018_12_G350', 'ABSTRACTdf_2018_12_G351', 'ABSTRACTdf_2018_12_G352', 'ABSTRACTdf_2018_12_G353', 'ABSTRACTdf_2018_12_G354', 'ABSTRACTdf_2018_12_G355', 'ABSTRACTdf_2018_12_G356'])\n",
      "Creating Dataframe of articles for df_2018_12_G357\n"
     ]
    },
    {
     "name": "stderr",
     "output_type": "stream",
     "text": [
      "\n",
      "0it [00:00, ?it/s]\u001b[A\n",
      "1it [00:00,  2.75it/s]\u001b[A"
     ]
    },
    {
     "name": "stdout",
     "output_type": "stream",
     "text": [
      "Error here in ID30563378\n"
     ]
    },
    {
     "name": "stderr",
     "output_type": "stream",
     "text": [
      "\n",
      "2it [00:00,  2.84it/s]\u001b[A\n",
      "3it [00:01,  2.89it/s]\u001b[A\n",
      "4it [00:01,  2.42it/s]\u001b[A\n",
      "5it [00:01,  2.87it/s]\u001b[A\n",
      "6it [00:02,  2.81it/s]\u001b[A\n",
      "7it [00:02,  2.73it/s]\u001b[A"
     ]
    },
    {
     "name": "stdout",
     "output_type": "stream",
     "text": [
      "Error here in ID30532606\n"
     ]
    },
    {
     "name": "stderr",
     "output_type": "stream",
     "text": [
      "\n",
      "8it [00:02,  2.79it/s]\u001b[A\n",
      "9it [00:03,  2.73it/s]\u001b[A\n",
      "10it [00:03,  2.73it/s]\u001b[A\n",
      "11it [00:04,  2.70it/s]\u001b[A\n",
      "12it [00:04,  2.74it/s]\u001b[A\n",
      "13it [00:04,  2.73it/s]\u001b[A\n",
      "14it [00:05,  2.68it/s]\u001b[A\n",
      "15it [00:05,  2.62it/s]\u001b[A\n",
      "16it [00:05,  2.77it/s]\u001b[A\n",
      "17it [00:06,  2.63it/s]\u001b[A\n",
      "18it [00:06,  2.29it/s]\u001b[A\n",
      "19it [00:07,  2.72it/s]\u001b[A\n",
      "20it [00:07,  2.70it/s]\u001b[A\n",
      "21it [00:07,  2.55it/s]\u001b[A"
     ]
    },
    {
     "name": "stdout",
     "output_type": "stream",
     "text": [
      "Error here in ID30534075\n"
     ]
    },
    {
     "name": "stderr",
     "output_type": "stream",
     "text": [
      "\n",
      "22it [00:08,  2.55it/s]\u001b[A\n",
      "23it [00:08,  2.87it/s]\u001b[A\n",
      "24it [00:08,  2.88it/s]\u001b[A\n",
      "25it [00:09,  2.81it/s]\u001b[A\n",
      "26it [00:09,  2.69it/s]\u001b[A\n",
      "27it [00:09,  2.74it/s]\u001b[A\n",
      "28it [00:10,  2.70it/s]\u001b[A\n",
      "29it [00:10,  2.65it/s]\u001b[A\n",
      "30it [00:11,  2.73it/s]\u001b[A\n",
      "31it [00:11,  2.72it/s]\u001b[A\n",
      "32it [00:11,  2.65it/s]\u001b[A\n",
      "33it [00:12,  2.79it/s]\u001b[A\n",
      "34it [00:12,  2.70it/s]\u001b[A\n",
      "35it [00:12,  2.72it/s]\u001b[A\n",
      "36it [00:13,  2.70it/s]\u001b[A\n",
      "37it [00:13,  2.76it/s]\u001b[A\n",
      "38it [00:14,  2.71it/s]\u001b[A\n",
      "39it [00:14,  2.68it/s]\u001b[A\n",
      "40it [00:14,  2.74it/s]\u001b[A\n",
      "41it [00:15,  2.69it/s]\u001b[A\n",
      "42it [00:15,  2.67it/s]\u001b[A\n",
      "43it [00:15,  2.60it/s]\u001b[A\n",
      "44it [00:16,  2.65it/s]\u001b[A\n",
      "45it [00:16,  2.45it/s]\u001b[A\n",
      "46it [00:17,  2.61it/s]\u001b[A\n",
      "47it [00:17,  2.19it/s]\u001b[A\n",
      "48it [00:17,  2.59it/s]\u001b[A"
     ]
    },
    {
     "name": "stdout",
     "output_type": "stream",
     "text": [
      "Error here in ID30552177\n"
     ]
    },
    {
     "name": "stderr",
     "output_type": "stream",
     "text": [
      "\n",
      "49it [00:18,  2.66it/s]\u001b[A\n",
      "50it [00:18,  2.73it/s]\u001b[A\n",
      "51it [00:19,  2.47it/s]\u001b[A\n",
      "52it [00:19,  2.84it/s]\u001b[A\n",
      "53it [00:19,  2.62it/s]\u001b[A"
     ]
    },
    {
     "name": "stdout",
     "output_type": "stream",
     "text": [
      "Error here in ID30498364\n"
     ]
    },
    {
     "name": "stderr",
     "output_type": "stream",
     "text": [
      "\n",
      "54it [00:20,  2.77it/s]\u001b[A\n",
      "55it [00:20,  2.54it/s]\u001b[A\n",
      "56it [00:20,  2.70it/s]\u001b[A\n",
      "57it [00:21,  2.81it/s]\u001b[A\n",
      "58it [00:21,  2.73it/s]\u001b[A\n",
      "59it [00:22,  2.76it/s]\u001b[A\n",
      "60it [00:22,  2.82it/s]\u001b[A\n",
      "61it [00:22,  2.76it/s]\u001b[A\n",
      "62it [00:23,  2.76it/s]\u001b[A\n",
      "63it [00:23,  2.73it/s]\u001b[A\n",
      "64it [00:23,  2.67it/s]\u001b[A\n",
      "65it [00:24,  2.68it/s]\u001b[A\n",
      "66it [00:24,  2.73it/s]\u001b[A\n",
      "67it [00:24,  2.66it/s]\u001b[A\n",
      "68it [00:25,  2.67it/s]\u001b[A\n",
      "69it [00:25,  2.72it/s]\u001b[A\n",
      "70it [00:26,  2.68it/s]\u001b[A\n",
      "71it [00:26,  2.76it/s]\u001b[A\n",
      "72it [00:26,  2.68it/s]\u001b[A\n",
      "73it [00:27,  2.50it/s]\u001b[A\n",
      "74it [00:27,  2.68it/s]\u001b[A\n",
      "75it [00:27,  2.79it/s]\u001b[A\n",
      "76it [00:28,  2.73it/s]\u001b[A\n",
      "77it [00:28,  2.79it/s]\u001b[A\n",
      "78it [00:29,  2.76it/s]\u001b[A\n",
      "79it [00:29,  2.68it/s]\u001b[A\n",
      "80it [00:29,  2.76it/s]\u001b[A\n",
      "81it [00:30,  2.68it/s]\u001b[A\n",
      "82it [00:30,  2.31it/s]\u001b[A\n",
      "83it [00:30,  2.82it/s]\u001b[A\n",
      "84it [00:31,  2.71it/s]\u001b[A\n",
      "85it [00:31,  2.81it/s]\u001b[A\n",
      "86it [00:32,  2.71it/s]\u001b[A\n",
      "87it [00:32,  2.73it/s]\u001b[A\n",
      "88it [00:32,  2.71it/s]\u001b[A\n",
      "89it [00:33,  2.73it/s]\u001b[A\n",
      "90it [00:33,  2.73it/s]\u001b[A\n",
      "91it [00:33,  2.74it/s]\u001b[A\n",
      "92it [00:35,  1.63it/s]\u001b[A\n",
      "93it [00:35,  2.06it/s]\u001b[A\n",
      "94it [00:35,  2.25it/s]\u001b[A\n",
      "95it [00:35,  2.30it/s]\u001b[A\n",
      "96it [00:36,  2.45it/s]\u001b[A\n",
      "97it [00:36,  2.40it/s]\u001b[A\n",
      "98it [00:37,  2.62it/s]\u001b[A\n",
      "99it [00:37,  2.43it/s]\u001b[A\n",
      "100it [00:37,  2.64it/s]\n",
      " 83%|████████▎ | 15/18 [09:45<01:54, 38.04s/it]"
     ]
    },
    {
     "name": "stdout",
     "output_type": "stream",
     "text": [
      "dict_keys(['ABSTRACTdf_2018_12_G343', 'ABSTRACTdf_2018_12_G344', 'ABSTRACTdf_2018_12_G345', 'ABSTRACTdf_2018_12_G346', 'ABSTRACTdf_2018_12_G347', 'ABSTRACTdf_2018_12_G348', 'ABSTRACTdf_2018_12_G349', 'ABSTRACTdf_2018_12_G350', 'ABSTRACTdf_2018_12_G351', 'ABSTRACTdf_2018_12_G352', 'ABSTRACTdf_2018_12_G353', 'ABSTRACTdf_2018_12_G354', 'ABSTRACTdf_2018_12_G355', 'ABSTRACTdf_2018_12_G356', 'ABSTRACTdf_2018_12_G357'])\n",
      "Creating Dataframe of articles for df_2018_12_G358\n"
     ]
    },
    {
     "name": "stderr",
     "output_type": "stream",
     "text": [
      "\n",
      "0it [00:00, ?it/s]\u001b[A\n",
      "1it [00:00,  2.87it/s]\u001b[A\n",
      "2it [00:00,  2.96it/s]\u001b[A\n",
      "3it [00:01,  2.85it/s]\u001b[A\n",
      "4it [00:01,  2.86it/s]\u001b[A\n",
      "5it [00:01,  2.75it/s]\u001b[A\n",
      "6it [00:02,  2.78it/s]\u001b[A\n",
      "7it [00:02,  2.65it/s]\u001b[A\n",
      "8it [00:02,  2.73it/s]\u001b[A\n",
      "9it [00:03,  2.46it/s]\u001b[A\n",
      "10it [00:03,  2.78it/s]\u001b[A\n",
      "11it [00:03,  2.81it/s]\u001b[A\n",
      "12it [00:04,  2.75it/s]\u001b[A\n",
      "13it [00:04,  2.78it/s]\u001b[A\n",
      "14it [00:05,  2.76it/s]\u001b[A\n",
      "15it [00:05,  2.73it/s]\u001b[A\n",
      "16it [00:05,  2.60it/s]\u001b[A\n",
      "17it [00:06,  2.23it/s]\u001b[A\n",
      "18it [00:06,  2.70it/s]\u001b[A\n",
      "19it [00:07,  2.71it/s]\u001b[A\n",
      "20it [00:07,  2.75it/s]\u001b[A\n",
      "21it [00:07,  2.73it/s]\u001b[A\n",
      "22it [00:08,  2.67it/s]\u001b[A\n",
      "23it [00:08,  2.74it/s]\u001b[A\n",
      "24it [00:08,  2.68it/s]\u001b[A\n",
      "25it [00:09,  2.74it/s]\u001b[A\n",
      "26it [00:09,  2.55it/s]\u001b[A\n",
      "27it [00:09,  2.78it/s]\u001b[A\n",
      "28it [00:10,  2.71it/s]\u001b[A\n",
      "29it [00:10,  2.67it/s]\u001b[A\n",
      "30it [00:11,  2.77it/s]\u001b[A\n",
      "31it [00:11,  2.70it/s]\u001b[A\n",
      "32it [00:11,  2.75it/s]\u001b[A\n",
      "33it [00:12,  2.69it/s]\u001b[A\n",
      "34it [00:12,  2.68it/s]\u001b[A\n",
      "35it [00:12,  2.70it/s]\u001b[A\n",
      "36it [00:13,  2.60it/s]\u001b[A\n",
      "37it [00:13,  2.77it/s]\u001b[A\n",
      "38it [00:14,  2.75it/s]\u001b[A\n",
      "39it [00:14,  2.22it/s]\u001b[A\n",
      "40it [00:14,  2.49it/s]\u001b[A\n",
      "41it [00:15,  2.77it/s]\u001b[A\n",
      "42it [00:15,  2.67it/s]\u001b[A\n",
      "43it [00:16,  2.74it/s]\u001b[A\n",
      "44it [00:16,  2.73it/s]\u001b[A\n",
      "45it [00:16,  2.79it/s]\u001b[A\n",
      "46it [00:17,  2.64it/s]\u001b[A\n",
      "47it [00:17,  2.74it/s]\u001b[A\n",
      "48it [00:17,  2.73it/s]\u001b[A\n",
      "49it [00:18,  2.68it/s]\u001b[A\n",
      "50it [00:18,  2.60it/s]\u001b[A\n",
      "51it [00:18,  2.75it/s]\u001b[A\n",
      "52it [00:19,  2.76it/s]\u001b[A\n",
      "53it [00:19,  2.71it/s]\u001b[A\n",
      "54it [00:20,  2.71it/s]\u001b[A\n",
      "55it [00:20,  2.65it/s]\u001b[A\n",
      "56it [00:20,  2.78it/s]\u001b[A\n",
      "57it [00:21,  2.70it/s]\u001b[A\n",
      "58it [00:21,  2.76it/s]\u001b[A\n",
      "59it [00:21,  2.73it/s]\u001b[A\n",
      "60it [00:22,  2.74it/s]\u001b[A\n",
      "61it [00:22,  2.68it/s]\u001b[A\n",
      "62it [00:23,  2.69it/s]\u001b[A\n",
      "63it [00:23,  2.64it/s]\u001b[A\n",
      "64it [00:23,  2.69it/s]\u001b[A\n",
      "65it [00:24,  2.76it/s]\u001b[A\n",
      "66it [00:24,  2.26it/s]\u001b[A\n",
      "67it [00:24,  2.79it/s]\u001b[A\n",
      "68it [00:25,  2.67it/s]\u001b[A\n",
      "69it [00:25,  2.75it/s]\u001b[A\n",
      "70it [00:26,  2.76it/s]\u001b[A\n",
      "71it [00:26,  2.72it/s]\u001b[A\n",
      "72it [00:26,  2.73it/s]\u001b[A\n",
      "73it [00:27,  2.69it/s]\u001b[A\n",
      "74it [00:27,  2.67it/s]\u001b[A\n",
      "75it [00:27,  2.72it/s]\u001b[A\n",
      "76it [00:28,  2.67it/s]\u001b[A\n",
      "77it [00:28,  2.69it/s]\u001b[A\n",
      "78it [00:29,  2.63it/s]\u001b[A\n",
      "79it [00:29,  2.71it/s]\u001b[A\n",
      "80it [00:29,  2.78it/s]\u001b[A\n",
      "81it [00:30,  2.70it/s]\u001b[A\n",
      "82it [00:30,  2.68it/s]\u001b[A\n",
      "83it [00:30,  2.70it/s]\u001b[A\n",
      "84it [00:31,  2.70it/s]\u001b[A\n",
      "85it [00:31,  2.70it/s]\u001b[A\n",
      "86it [00:31,  2.74it/s]\u001b[A\n",
      "87it [00:32,  2.72it/s]\u001b[A\n",
      "88it [00:32,  2.68it/s]\u001b[A\n",
      "89it [00:33,  2.67it/s]\u001b[A\n",
      "90it [00:33,  2.62it/s]\u001b[A\n",
      "91it [00:33,  2.47it/s]\u001b[A"
     ]
    },
    {
     "name": "stdout",
     "output_type": "stream",
     "text": [
      "Error here in ID30564556\n"
     ]
    },
    {
     "name": "stderr",
     "output_type": "stream",
     "text": [
      "\n",
      "92it [00:34,  2.75it/s]\u001b[A\n",
      "93it [00:34,  2.82it/s]\u001b[A\n",
      "94it [00:34,  2.68it/s]\u001b[A\n",
      "95it [00:35,  2.76it/s]\u001b[A\n",
      "96it [00:35,  2.71it/s]\u001b[A\n",
      "97it [00:36,  2.68it/s]\u001b[A\n",
      "98it [00:36,  2.54it/s]\u001b[A\n",
      "99it [00:36,  2.84it/s]\u001b[A\n",
      "100it [00:37,  2.69it/s]\n",
      " 89%|████████▉ | 16/18 [10:22<01:15, 37.77s/it]"
     ]
    },
    {
     "name": "stdout",
     "output_type": "stream",
     "text": [
      "dict_keys(['ABSTRACTdf_2018_12_G343', 'ABSTRACTdf_2018_12_G344', 'ABSTRACTdf_2018_12_G345', 'ABSTRACTdf_2018_12_G346', 'ABSTRACTdf_2018_12_G347', 'ABSTRACTdf_2018_12_G348', 'ABSTRACTdf_2018_12_G349', 'ABSTRACTdf_2018_12_G350', 'ABSTRACTdf_2018_12_G351', 'ABSTRACTdf_2018_12_G352', 'ABSTRACTdf_2018_12_G353', 'ABSTRACTdf_2018_12_G354', 'ABSTRACTdf_2018_12_G355', 'ABSTRACTdf_2018_12_G356', 'ABSTRACTdf_2018_12_G357', 'ABSTRACTdf_2018_12_G358'])\n",
      "Creating Dataframe of articles for df_2018_12_G359\n"
     ]
    },
    {
     "name": "stderr",
     "output_type": "stream",
     "text": [
      "\n",
      "0it [00:00, ?it/s]\u001b[A\n",
      "1it [00:00,  2.68it/s]\u001b[A\n",
      "2it [00:00,  2.67it/s]\u001b[A\n",
      "3it [00:01,  2.78it/s]\u001b[A\n",
      "4it [00:01,  2.74it/s]\u001b[A\n",
      "5it [00:01,  2.66it/s]\u001b[A\n",
      "6it [00:02,  2.74it/s]\u001b[A\n",
      "7it [00:02,  2.72it/s]\u001b[A\n",
      "8it [00:02,  2.63it/s]\u001b[A\n",
      "9it [00:03,  2.62it/s]\u001b[A\n",
      "10it [00:03,  2.65it/s]\u001b[A\n",
      "11it [00:04,  2.67it/s]\u001b[A\n",
      "12it [00:04,  2.78it/s]\u001b[A\n",
      "13it [00:05,  2.32it/s]\u001b[A\n",
      "14it [00:05,  2.72it/s]\u001b[A\n",
      "15it [00:05,  2.72it/s]\u001b[A\n",
      "16it [00:05,  2.72it/s]\u001b[A\n",
      "17it [00:06,  2.70it/s]\u001b[A\n",
      "18it [00:06,  2.77it/s]\u001b[A\n",
      "19it [00:07,  2.82it/s]\u001b[A\n",
      "20it [00:07,  2.78it/s]\u001b[A\n",
      "21it [00:07,  2.65it/s]\u001b[A\n",
      "22it [00:08,  2.77it/s]\u001b[A\n",
      "23it [00:08,  2.69it/s]\u001b[A\n",
      "24it [00:08,  2.72it/s]\u001b[A\n",
      "25it [00:09,  2.76it/s]\u001b[A\n",
      "26it [00:09,  2.68it/s]\u001b[A\n",
      "27it [00:10,  2.49it/s]\u001b[A\n",
      "28it [00:10,  1.96it/s]\u001b[A\n",
      "29it [00:11,  2.39it/s]\u001b[A\n",
      "30it [00:11,  2.54it/s]\u001b[A\n",
      "31it [00:11,  2.49it/s]\u001b[A\n",
      "32it [00:12,  2.66it/s]\u001b[A\n",
      "33it [00:12,  2.62it/s]\u001b[A\n",
      "34it [00:13,  2.48it/s]\u001b[A\n",
      "35it [00:13,  2.77it/s]\u001b[A"
     ]
    },
    {
     "name": "stdout",
     "output_type": "stream",
     "text": [
      "Error here in ID30564352\n"
     ]
    },
    {
     "name": "stderr",
     "output_type": "stream",
     "text": [
      "\n",
      "36it [00:13,  2.70it/s]\u001b[A\n",
      "37it [00:14,  2.69it/s]\u001b[A\n",
      "38it [00:14,  2.69it/s]\u001b[A\n",
      "39it [00:14,  2.75it/s]\u001b[A\n",
      "40it [00:15,  2.53it/s]\u001b[A\n",
      "41it [00:15,  2.67it/s]\u001b[A\n",
      "42it [00:15,  2.77it/s]\u001b[A\n",
      "43it [00:16,  2.75it/s]\u001b[A\n",
      "44it [00:16,  2.78it/s]\u001b[A\n",
      "45it [00:16,  2.70it/s]\u001b[A\n",
      "46it [00:17,  2.71it/s]\u001b[A\n",
      "47it [00:17,  2.68it/s]\u001b[A\n",
      "48it [00:18,  2.72it/s]\u001b[A\n",
      "49it [00:18,  2.56it/s]\u001b[A\n",
      "50it [00:18,  2.69it/s]\u001b[A\n",
      "51it [00:19,  2.75it/s]\u001b[A\n",
      "52it [00:19,  2.56it/s]\u001b[A\n",
      "53it [00:19,  2.74it/s]\u001b[A\n",
      "54it [00:20,  2.78it/s]\u001b[A\n",
      "55it [00:20,  2.80it/s]\u001b[A\n",
      "56it [00:21,  2.78it/s]\u001b[A\n",
      "57it [00:21,  2.75it/s]\u001b[A\n",
      "58it [00:21,  2.70it/s]\u001b[A\n",
      "59it [00:22,  2.71it/s]\u001b[A\n",
      "60it [00:22,  2.68it/s]\u001b[A\n",
      "61it [00:22,  2.66it/s]\u001b[A\n",
      "62it [00:23,  2.75it/s]\u001b[A"
     ]
    },
    {
     "name": "stdout",
     "output_type": "stream",
     "text": [
      "Error here in ID30501553\n"
     ]
    },
    {
     "name": "stderr",
     "output_type": "stream",
     "text": [
      "\n",
      "63it [00:23,  2.69it/s]\u001b[A\n",
      "64it [00:24,  2.70it/s]\u001b[A\n",
      "65it [00:24,  2.69it/s]\u001b[A\n",
      "66it [00:24,  2.73it/s]\u001b[A\n",
      "67it [00:25,  2.72it/s]\u001b[A\n",
      "68it [00:25,  2.64it/s]\u001b[A\n",
      "69it [00:25,  2.64it/s]\u001b[A\n",
      "70it [00:26,  2.76it/s]\u001b[A\n",
      "71it [00:26,  2.48it/s]\u001b[A\n",
      "72it [00:26,  2.84it/s]\u001b[A\n",
      "73it [00:27,  2.68it/s]\u001b[A\n",
      "74it [00:27,  2.79it/s]\u001b[A\n",
      "75it [00:28,  2.78it/s]\u001b[A\n",
      "76it [00:28,  2.71it/s]\u001b[A\n",
      "77it [00:28,  2.55it/s]\u001b[A\n",
      "78it [00:29,  2.78it/s]\u001b[A\n",
      "79it [00:29,  2.73it/s]\u001b[A\n",
      "80it [00:29,  2.77it/s]\u001b[A\n",
      "81it [00:30,  2.74it/s]\u001b[A\n",
      "82it [00:30,  2.69it/s]\u001b[A\n",
      "83it [00:31,  2.74it/s]\u001b[A\n",
      "84it [00:31,  2.46it/s]\u001b[A\n",
      "85it [00:31,  2.83it/s]\u001b[A\n",
      "86it [00:32,  2.77it/s]\u001b[A\n",
      "87it [00:32,  2.50it/s]\u001b[A\n",
      "88it [00:32,  2.73it/s]\u001b[A\n",
      "89it [00:33,  2.70it/s]\u001b[A\n",
      "90it [00:33,  2.45it/s]\u001b[A\n",
      "91it [00:33,  2.92it/s]\u001b[A\n",
      "92it [00:34,  2.79it/s]\u001b[A\n",
      "93it [00:35,  2.26it/s]\u001b[A\n",
      "94it [00:35,  2.59it/s]\u001b[A\n",
      "95it [00:35,  2.60it/s]\u001b[A\n",
      "96it [00:36,  2.63it/s]\u001b[A\n",
      "97it [00:36,  2.85it/s]\u001b[A\n",
      "98it [00:36,  2.71it/s]\u001b[A\n",
      "99it [00:37,  2.83it/s]\u001b[A\n",
      "100it [00:37,  2.67it/s]\n",
      " 94%|█████████▍| 17/18 [11:00<00:37, 37.66s/it]"
     ]
    },
    {
     "name": "stdout",
     "output_type": "stream",
     "text": [
      "dict_keys(['ABSTRACTdf_2018_12_G343', 'ABSTRACTdf_2018_12_G344', 'ABSTRACTdf_2018_12_G345', 'ABSTRACTdf_2018_12_G346', 'ABSTRACTdf_2018_12_G347', 'ABSTRACTdf_2018_12_G348', 'ABSTRACTdf_2018_12_G349', 'ABSTRACTdf_2018_12_G350', 'ABSTRACTdf_2018_12_G351', 'ABSTRACTdf_2018_12_G352', 'ABSTRACTdf_2018_12_G353', 'ABSTRACTdf_2018_12_G354', 'ABSTRACTdf_2018_12_G355', 'ABSTRACTdf_2018_12_G356', 'ABSTRACTdf_2018_12_G357', 'ABSTRACTdf_2018_12_G358', 'ABSTRACTdf_2018_12_G359'])\n",
      "Creating Dataframe of articles for df_2018_12_G360\n"
     ]
    },
    {
     "name": "stderr",
     "output_type": "stream",
     "text": [
      "\n",
      "0it [00:00, ?it/s]\u001b[A\n",
      "1it [00:00,  2.15it/s]\u001b[A\n",
      "2it [00:00,  2.75it/s]\u001b[A\n",
      "3it [00:01,  2.80it/s]\u001b[A\n",
      "4it [00:01,  2.79it/s]\u001b[A\n",
      "5it [00:01,  2.56it/s]\u001b[A\n",
      "6it [00:02,  2.74it/s]\u001b[A\n",
      "7it [00:02,  2.74it/s]\u001b[A\n",
      "8it [00:02,  2.78it/s]\u001b[A\n",
      "9it [00:03,  2.70it/s]\u001b[A\n",
      "10it [00:03,  2.66it/s]\u001b[A\n",
      "11it [00:04,  2.69it/s]\u001b[A\n",
      "12it [00:04,  2.72it/s]\u001b[A\n",
      "13it [00:04,  2.59it/s]\u001b[A\n",
      "14it [00:05,  2.79it/s]\u001b[A\n",
      "15it [00:05,  2.77it/s]\u001b[A\n",
      "16it [00:05,  2.75it/s]\u001b[A\n",
      "17it [00:06,  2.69it/s]\u001b[A\n",
      "18it [00:06,  2.74it/s]\u001b[A\n",
      "19it [00:07,  2.58it/s]\u001b[A\n",
      "20it [00:07,  2.63it/s]\u001b[A\n",
      "21it [00:07,  2.68it/s]\u001b[A\n",
      "22it [00:08,  2.66it/s]\u001b[A\n",
      "23it [00:08,  2.81it/s]\u001b[A\n",
      "24it [00:08,  2.75it/s]\u001b[A\n",
      "25it [00:09,  2.71it/s]\u001b[A"
     ]
    },
    {
     "name": "stdout",
     "output_type": "stream",
     "text": [
      "Error here in ID30522225\n"
     ]
    },
    {
     "name": "stderr",
     "output_type": "stream",
     "text": [
      "\n",
      "26it [00:09,  2.71it/s]\u001b[A\n",
      "27it [00:10,  2.63it/s]\u001b[A\n",
      "28it [00:10,  2.77it/s]\u001b[A\n",
      "29it [00:10,  2.76it/s]\u001b[A\n",
      "30it [00:11,  2.69it/s]\u001b[A\n",
      "31it [00:11,  2.62it/s]\u001b[A\n",
      "32it [00:12,  1.46it/s]\u001b[A\n",
      "33it [00:13,  1.88it/s]\u001b[A\n",
      "34it [00:13,  2.07it/s]\u001b[A\n",
      "35it [00:13,  2.21it/s]\u001b[A\n",
      "36it [00:14,  2.34it/s]\u001b[A\n",
      "37it [00:14,  2.39it/s]\u001b[A\n",
      "38it [00:14,  2.57it/s]\u001b[A\n",
      "39it [00:15,  2.54it/s]\u001b[A\n",
      "40it [00:15,  2.53it/s]\u001b[A\n",
      "41it [00:16,  2.71it/s]\u001b[A\n",
      "42it [00:16,  2.70it/s]\u001b[A"
     ]
    },
    {
     "name": "stdout",
     "output_type": "stream",
     "text": [
      "Error here in ID30565974\n"
     ]
    },
    {
     "name": "stderr",
     "output_type": "stream",
     "text": [
      "\n",
      "43it [00:16,  2.66it/s]\u001b[A\n",
      "44it [00:17,  2.73it/s]\u001b[A\n",
      "45it [00:17,  2.68it/s]\u001b[A\n",
      "46it [00:17,  2.65it/s]\u001b[A\n",
      "47it [00:18,  2.74it/s]\u001b[A\n",
      "48it [00:18,  2.65it/s]\u001b[A\n",
      "49it [00:19,  2.66it/s]\u001b[A\n",
      "50it [00:19,  2.65it/s]\u001b[A\n",
      "51it [00:19,  2.77it/s]\u001b[A\n",
      "52it [00:20,  2.69it/s]\u001b[A\n",
      "53it [00:20,  2.72it/s]\u001b[A\n",
      "54it [00:20,  2.75it/s]\u001b[A\n",
      "55it [00:21,  2.74it/s]\u001b[A\n",
      "56it [00:21,  2.48it/s]\u001b[A\n",
      "57it [00:21,  2.79it/s]\u001b[A\n",
      "58it [00:22,  2.57it/s]\u001b[A\n",
      "59it [00:22,  2.79it/s]\u001b[A\n",
      "60it [00:23,  2.74it/s]\u001b[A\n",
      "61it [00:23,  2.57it/s]\u001b[A\n",
      "62it [00:23,  2.71it/s]\u001b[A\n",
      "63it [00:24,  2.81it/s]\u001b[A\n",
      "64it [00:24,  2.79it/s]\u001b[A\n",
      "65it [00:24,  2.75it/s]\u001b[A\n",
      "66it [00:25,  2.68it/s]\u001b[A\n",
      "67it [00:25,  2.73it/s]\u001b[A\n",
      "68it [00:26,  2.76it/s]\u001b[A\n",
      "69it [00:26,  2.52it/s]\u001b[A\n",
      "70it [00:26,  2.61it/s]\u001b[A\n",
      "71it [00:27,  2.69it/s]\u001b[A\n",
      "72it [00:27,  2.60it/s]\u001b[A\n",
      "73it [00:27,  2.72it/s]\u001b[A\n",
      "74it [00:28,  2.85it/s]\u001b[A\n",
      "75it [00:28,  2.82it/s]\u001b[A\n",
      "76it [00:29,  2.71it/s]\u001b[A\n",
      "77it [00:29,  2.77it/s]\u001b[A\n",
      "78it [00:29,  2.74it/s]\u001b[A\n",
      "79it [00:30,  2.46it/s]\u001b[A\n",
      "80it [00:30,  2.72it/s]\u001b[A\n",
      "81it [00:30,  2.79it/s]\u001b[A\n",
      "82it [00:31,  2.75it/s]\u001b[A\n",
      "83it [00:31,  2.78it/s]\u001b[A\n",
      "84it [00:31,  2.74it/s]\u001b[A\n",
      "85it [00:32,  2.67it/s]\u001b[A\n",
      "86it [00:32,  2.75it/s]\u001b[A\n",
      "87it [00:33,  2.70it/s]\u001b[A\n",
      "88it [00:33,  2.67it/s]\u001b[A\n",
      "89it [00:33,  2.70it/s]\u001b[A\n",
      "90it [00:34,  2.75it/s]\u001b[A"
     ]
    },
    {
     "name": "stdout",
     "output_type": "stream",
     "text": [
      "Error here in ID30589056\n"
     ]
    },
    {
     "name": "stderr",
     "output_type": "stream",
     "text": [
      "\n",
      "91it [00:34,  2.69it/s]\u001b[A\n",
      "92it [00:34,  2.75it/s]\u001b[A\n",
      "93it [00:35,  2.74it/s]\u001b[A\n",
      "94it [00:35,  2.56it/s]\u001b[A\n",
      "95it [00:36,  2.71it/s]\u001b[A\n",
      "96it [00:36,  2.72it/s]\u001b[A\n",
      "97it [00:36,  2.61it/s]\u001b[A"
     ]
    },
    {
     "name": "stdout",
     "output_type": "stream",
     "text": [
      "Error here in ID30530864\n"
     ]
    },
    {
     "name": "stderr",
     "output_type": "stream",
     "text": [
      "\n",
      "98it [00:37,  2.59it/s]\u001b[A\n",
      "99it [00:37,  2.75it/s]\u001b[A\n",
      "100it [00:37,  2.64it/s]\n",
      "100%|██████████| 18/18 [11:38<00:00, 38.79s/it]"
     ]
    },
    {
     "name": "stdout",
     "output_type": "stream",
     "text": [
      "dict_keys(['ABSTRACTdf_2018_12_G343', 'ABSTRACTdf_2018_12_G344', 'ABSTRACTdf_2018_12_G345', 'ABSTRACTdf_2018_12_G346', 'ABSTRACTdf_2018_12_G347', 'ABSTRACTdf_2018_12_G348', 'ABSTRACTdf_2018_12_G349', 'ABSTRACTdf_2018_12_G350', 'ABSTRACTdf_2018_12_G351', 'ABSTRACTdf_2018_12_G352', 'ABSTRACTdf_2018_12_G353', 'ABSTRACTdf_2018_12_G354', 'ABSTRACTdf_2018_12_G355', 'ABSTRACTdf_2018_12_G356', 'ABSTRACTdf_2018_12_G357', 'ABSTRACTdf_2018_12_G358', 'ABSTRACTdf_2018_12_G359', 'ABSTRACTdf_2018_12_G360'])\n"
     ]
    },
    {
     "name": "stderr",
     "output_type": "stream",
     "text": [
      "\n"
     ]
    }
   ],
   "source": [
    "output_df = {}\n",
    "for grp in tqdm(df_ls[x:]):\n",
    "    _df = df_dict[grp]\n",
    "    _s = _df[['ID','Date_str']] \n",
    "\n",
    "    print(f\"Creating Dataframe of articles for {grp}\")\n",
    "    abstracts = []\n",
    "    titles = []\n",
    "    ids = []\n",
    "    MeSH = []\n",
    "    Pub_Date = []\n",
    "\n",
    "    for index,row in tqdm(_s.iterrows()):\t\n",
    "\n",
    "        pub_date = row['Date_str']\n",
    "        pmid = row['ID']\n",
    "\n",
    "\n",
    "        try:\n",
    "            handle = Entrez.efetch(db=\"pubmed\", id=pmid, rettype=\"abstract\", retmode=\"xml\")\n",
    "\n",
    "            xml_data = handle.read()\n",
    "            handle.close()\n",
    "\n",
    "            #obtain abstract and title\n",
    "            root = ET.fromstring(xml_data)\n",
    "            title = root.find(\".//ArticleTitle\").text.strip()\n",
    "            abst = root.findall(\".//AbstractText\")\n",
    "\n",
    "            abstract_text = \"\"\n",
    "            for abstract in abst:\n",
    "                abstract_text += abstract.text\n",
    "\n",
    "            \n",
    "            #obtain MeSH\n",
    "            mesh_terms = ['']\n",
    "            mesh_list = root.findall(\".//MeshHeadingList/MeshHeading\")\n",
    "            for mesh in mesh_list:\n",
    "                descriptor_name = mesh.find(\".//DescriptorName\").text\n",
    "                qualifiers = mesh.findall(\".//QualifierName\")\n",
    "                qualifier_names = [qualifier.text for qualifier in qualifiers]\n",
    "                mesh_terms.append((descriptor_name, qualifier_names))\n",
    "                \n",
    "            MeSH.append(mesh_terms)            \n",
    "            ids.append(pmid)\n",
    "            abstracts.append(abstract_text)\n",
    "            titles.append(title)\n",
    "            Pub_Date.append(pub_date)\n",
    "\n",
    "        except:\n",
    "            print(f\"Error here in ID{pmid}\")\n",
    "\n",
    "    # Store the data in a pandas dataframe\n",
    "    data = {\"ID\": ids, \"title\": titles,\"Pub_Date\":Pub_Date, \"abstract\": abstracts, \"MeSH_term\":MeSH}\n",
    "    data_df = pd.DataFrame(data)\n",
    "    df_name = f\"ABSTRACT{grp}\"\n",
    "    output_df[df_name] = data_df\n",
    "    data_df.to_csv(f\"{df_name}.csv\", index=False)\n",
    "    print(output_df.keys())"
   ]
  },
  {
   "cell_type": "code",
   "execution_count": null,
   "id": "d7d2a495",
   "metadata": {
    "papermill": {
     "duration": 0.340667,
     "end_time": "2023-02-22T00:26:03.939210",
     "exception": false,
     "start_time": "2023-02-22T00:26:03.598543",
     "status": "completed"
    },
    "tags": []
   },
   "outputs": [],
   "source": []
  }
 ],
 "metadata": {
  "kernelspec": {
   "display_name": "Python 3 (ipykernel)",
   "language": "python",
   "name": "python3"
  },
  "language_info": {
   "codemirror_mode": {
    "name": "ipython",
    "version": 3
   },
   "file_extension": ".py",
   "mimetype": "text/x-python",
   "name": "python",
   "nbconvert_exporter": "python",
   "pygments_lexer": "ipython3",
   "version": "3.8.13"
  },
  "papermill": {
   "default_parameters": {},
   "duration": 709.152296,
   "end_time": "2023-02-22T00:26:04.960055",
   "environment_variables": {},
   "exception": null,
   "input_path": "__notebook__.ipynb",
   "output_path": "__notebook__.ipynb",
   "parameters": {},
   "start_time": "2023-02-22T00:14:15.807759",
   "version": "2.3.4"
  }
 },
 "nbformat": 4,
 "nbformat_minor": 5
}
